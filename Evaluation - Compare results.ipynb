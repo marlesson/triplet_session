{
 "cells": [
  {
   "cell_type": "code",
   "execution_count": 1,
   "metadata": {},
   "outputs": [],
   "source": [
    "import pandas as pd\n",
    "import json\n",
    "import os\n",
    "from pandas.io.json import json_normalize\n",
    "import numpy as np\n",
    "import scipy\n",
    "pd.options.display.float_format = '{:.2f}'.format\n"
   ]
  },
  {
   "cell_type": "code",
   "execution_count": 2,
   "metadata": {},
   "outputs": [],
   "source": [
    "path = 'output/evaluation/EvaluateTestSetPredictions/results/'\n",
    "PATH_TRAIN = \"output/models/\""
   ]
  },
  {
   "cell_type": "code",
   "execution_count": 3,
   "metadata": {},
   "outputs": [],
   "source": [
    "paths = []\n",
    "models = []\n",
    "\n",
    "for root, dirs, files in os.walk(path):\n",
    "    if \"/results\" in root and \"Evaluate\" in root:\n",
    "        for d in dirs:\n",
    "            paths.append(os.path.join(root, d))\n",
    "            models.append(d)  # .replace(\"_\"+d.split(\"_\")[-1], \"\")\n",
    "\n",
    "results =  dict(zip(models, paths))\n",
    "results\n",
    "\n",
    "\n",
    "def fetch_training_path():\n",
    "    paths = []\n",
    "    models = []\n",
    "    for root, dirs, files in os.walk(PATH_TRAIN):\n",
    "        if \"/results\" in root:\n",
    "            for d in dirs:\n",
    "                paths.append(os.path.join(root, d))\n",
    "                models.append(d)\n",
    "\n",
    "    return dict(zip(models, paths))"
   ]
  },
  {
   "cell_type": "code",
   "execution_count": 4,
   "metadata": {},
   "outputs": [],
   "source": [
    "def json2df(paths, file, idx):\n",
    "    data = []\n",
    "    for model, path in paths.items():\n",
    "        file_path = os.path.join(path, file)\n",
    "        try:\n",
    "            with open(file_path) as json_file:\n",
    "                d = json.load(json_file)\n",
    "                d[\"path\"] = path.split(\"/\")[-1]\n",
    "                d[\"model\"] = d[\"path\"].replace(\"_\" + d[\"path\"].split(\"_\")[-1], \"\")\n",
    "\n",
    "                data.append(d)\n",
    "        except:\n",
    "            data.append({\"path\": path.split(\"/\")[-1]})\n",
    "\n",
    "    df = pd.DataFrame.from_dict(json_normalize(data), orient=\"columns\")\n",
    "\n",
    "    df = df.set_index(idx)\n",
    "\n",
    "    return df"
   ]
  },
  {
   "cell_type": "code",
   "execution_count": 5,
   "metadata": {},
   "outputs": [
    {
     "data": {
      "text/html": [
       "<div>\n",
       "<style scoped>\n",
       "    .dataframe tbody tr th:only-of-type {\n",
       "        vertical-align: middle;\n",
       "    }\n",
       "\n",
       "    .dataframe tbody tr th {\n",
       "        vertical-align: top;\n",
       "    }\n",
       "\n",
       "    .dataframe thead th {\n",
       "        text-align: right;\n",
       "    }\n",
       "</style>\n",
       "<table border=\"1\" class=\"dataframe\">\n",
       "  <thead>\n",
       "    <tr style=\"text-align: right;\">\n",
       "      <th></th>\n",
       "      <th>model_task</th>\n",
       "      <th>count</th>\n",
       "      <th>mean_average_precision</th>\n",
       "      <th>precision_at_1</th>\n",
       "      <th>mrr_at_5</th>\n",
       "      <th>mrr_at_10</th>\n",
       "      <th>ndcg_at_5</th>\n",
       "      <th>ndcg_at_10</th>\n",
       "      <th>ndcg_at_15</th>\n",
       "      <th>ndcg_at_20</th>\n",
       "      <th>ndcg_at_50</th>\n",
       "      <th>coverage_at_5</th>\n",
       "      <th>coverage_at_20</th>\n",
       "      <th>model</th>\n",
       "    </tr>\n",
       "    <tr>\n",
       "      <th>path</th>\n",
       "      <th></th>\n",
       "      <th></th>\n",
       "      <th></th>\n",
       "      <th></th>\n",
       "      <th></th>\n",
       "      <th></th>\n",
       "      <th></th>\n",
       "      <th></th>\n",
       "      <th></th>\n",
       "      <th></th>\n",
       "      <th></th>\n",
       "      <th></th>\n",
       "      <th></th>\n",
       "      <th></th>\n",
       "    </tr>\n",
       "  </thead>\n",
       "  <tbody>\n",
       "    <tr>\n",
       "      <th>TripletPredTraining____mars_gym_model_b____d3874532b4_db449e08df</th>\n",
       "      <td>TripletPredTraining____mars_gym_model_b____d38...</td>\n",
       "      <td>3129</td>\n",
       "      <td>0.42</td>\n",
       "      <td>0.34</td>\n",
       "      <td>0.40</td>\n",
       "      <td>0.41</td>\n",
       "      <td>0.46</td>\n",
       "      <td>0.47</td>\n",
       "      <td>0.48</td>\n",
       "      <td>0.49</td>\n",
       "      <td>0.52</td>\n",
       "      <td>0.44</td>\n",
       "      <td>0.63</td>\n",
       "      <td>TripletPredTraining____mars_gym_model_b____d38...</td>\n",
       "    </tr>\n",
       "    <tr>\n",
       "      <th>TripletPredTraining____mars_gym_model_b____8ce48bf1d3_da48175aa8</th>\n",
       "      <td>TripletPredTraining____mars_gym_model_b____8ce...</td>\n",
       "      <td>3129</td>\n",
       "      <td>0.23</td>\n",
       "      <td>0.18</td>\n",
       "      <td>0.21</td>\n",
       "      <td>0.21</td>\n",
       "      <td>0.23</td>\n",
       "      <td>0.24</td>\n",
       "      <td>0.25</td>\n",
       "      <td>0.26</td>\n",
       "      <td>0.30</td>\n",
       "      <td>0.36</td>\n",
       "      <td>0.61</td>\n",
       "      <td>TripletPredTraining____mars_gym_model_b____8ce...</td>\n",
       "    </tr>\n",
       "    <tr>\n",
       "      <th>TripletPredTraining____mars_gym_model_b____ed5ed808aa_1c210c3569</th>\n",
       "      <td>TripletPredTraining____mars_gym_model_b____ed5...</td>\n",
       "      <td>3129</td>\n",
       "      <td>0.62</td>\n",
       "      <td>0.51</td>\n",
       "      <td>0.61</td>\n",
       "      <td>0.62</td>\n",
       "      <td>0.71</td>\n",
       "      <td>0.72</td>\n",
       "      <td>0.73</td>\n",
       "      <td>0.74</td>\n",
       "      <td>0.75</td>\n",
       "      <td>0.82</td>\n",
       "      <td>1.00</td>\n",
       "      <td>TripletPredTraining____mars_gym_model_b____ed5...</td>\n",
       "    </tr>\n",
       "    <tr>\n",
       "      <th>TripletPredTraining____mars_gym_model_b____42eaab12f4_71709e79cc</th>\n",
       "      <td>TripletPredTraining____mars_gym_model_b____42e...</td>\n",
       "      <td>3129</td>\n",
       "      <td>0.23</td>\n",
       "      <td>0.18</td>\n",
       "      <td>0.21</td>\n",
       "      <td>0.21</td>\n",
       "      <td>0.23</td>\n",
       "      <td>0.24</td>\n",
       "      <td>0.25</td>\n",
       "      <td>0.26</td>\n",
       "      <td>0.30</td>\n",
       "      <td>0.34</td>\n",
       "      <td>0.59</td>\n",
       "      <td>TripletPredTraining____mars_gym_model_b____42e...</td>\n",
       "    </tr>\n",
       "    <tr>\n",
       "      <th>TripletPredTraining____mars_gym_model_b____d7befce0e9_e810af2ade</th>\n",
       "      <td>TripletPredTraining____mars_gym_model_b____d7b...</td>\n",
       "      <td>3129</td>\n",
       "      <td>0.09</td>\n",
       "      <td>0.04</td>\n",
       "      <td>0.07</td>\n",
       "      <td>0.07</td>\n",
       "      <td>0.09</td>\n",
       "      <td>0.11</td>\n",
       "      <td>0.12</td>\n",
       "      <td>0.13</td>\n",
       "      <td>0.18</td>\n",
       "      <td>0.41</td>\n",
       "      <td>0.60</td>\n",
       "      <td>TripletPredTraining____mars_gym_model_b____d7b...</td>\n",
       "    </tr>\n",
       "    <tr>\n",
       "      <th>...</th>\n",
       "      <td>...</td>\n",
       "      <td>...</td>\n",
       "      <td>...</td>\n",
       "      <td>...</td>\n",
       "      <td>...</td>\n",
       "      <td>...</td>\n",
       "      <td>...</td>\n",
       "      <td>...</td>\n",
       "      <td>...</td>\n",
       "      <td>...</td>\n",
       "      <td>...</td>\n",
       "      <td>...</td>\n",
       "      <td>...</td>\n",
       "      <td>...</td>\n",
       "    </tr>\n",
       "    <tr>\n",
       "      <th>SupervisedModelTraining____mars_gym_model_b____b92d68b8b7_178cd69b7e</th>\n",
       "      <td>SupervisedModelTraining____mars_gym_model_b___...</td>\n",
       "      <td>2862</td>\n",
       "      <td>0.67</td>\n",
       "      <td>0.60</td>\n",
       "      <td>0.66</td>\n",
       "      <td>0.67</td>\n",
       "      <td>0.71</td>\n",
       "      <td>0.73</td>\n",
       "      <td>0.74</td>\n",
       "      <td>0.75</td>\n",
       "      <td>0.76</td>\n",
       "      <td>0.11</td>\n",
       "      <td>0.39</td>\n",
       "      <td>SupervisedModelTraining____mars_gym_model_b___...</td>\n",
       "    </tr>\n",
       "    <tr>\n",
       "      <th>SupervisedModelTraining____mars_gym_model_b____65a4279585_07c545cc6e</th>\n",
       "      <td>SupervisedModelTraining____mars_gym_model_b___...</td>\n",
       "      <td>4539</td>\n",
       "      <td>0.46</td>\n",
       "      <td>0.36</td>\n",
       "      <td>0.43</td>\n",
       "      <td>0.44</td>\n",
       "      <td>0.50</td>\n",
       "      <td>0.53</td>\n",
       "      <td>0.54</td>\n",
       "      <td>0.55</td>\n",
       "      <td>0.58</td>\n",
       "      <td>0.17</td>\n",
       "      <td>0.52</td>\n",
       "      <td>SupervisedModelTraining____mars_gym_model_b___...</td>\n",
       "    </tr>\n",
       "    <tr>\n",
       "      <th>TripletPredTraining____mars_gym_model_b____c8f941d2bf_36e411030f</th>\n",
       "      <td>TripletPredTraining____mars_gym_model_b____c8f...</td>\n",
       "      <td>3129</td>\n",
       "      <td>0.29</td>\n",
       "      <td>0.23</td>\n",
       "      <td>0.27</td>\n",
       "      <td>0.28</td>\n",
       "      <td>0.31</td>\n",
       "      <td>0.33</td>\n",
       "      <td>0.34</td>\n",
       "      <td>0.35</td>\n",
       "      <td>0.38</td>\n",
       "      <td>0.29</td>\n",
       "      <td>0.54</td>\n",
       "      <td>TripletPredTraining____mars_gym_model_b____c8f...</td>\n",
       "    </tr>\n",
       "    <tr>\n",
       "      <th>TripletPredTraining____mars_gym_model_b____3437de201d_a6cafd02bc</th>\n",
       "      <td>TripletPredTraining____mars_gym_model_b____343...</td>\n",
       "      <td>3129</td>\n",
       "      <td>0.42</td>\n",
       "      <td>0.34</td>\n",
       "      <td>0.38</td>\n",
       "      <td>0.39</td>\n",
       "      <td>0.42</td>\n",
       "      <td>0.46</td>\n",
       "      <td>0.50</td>\n",
       "      <td>0.52</td>\n",
       "      <td>0.54</td>\n",
       "      <td>0.60</td>\n",
       "      <td>0.96</td>\n",
       "      <td>TripletPredTraining____mars_gym_model_b____343...</td>\n",
       "    </tr>\n",
       "    <tr>\n",
       "      <th>TripletPredTraining____mars_gym_model_b____9699cde71a_14bc126b22</th>\n",
       "      <td>TripletPredTraining____mars_gym_model_b____969...</td>\n",
       "      <td>3129</td>\n",
       "      <td>0.41</td>\n",
       "      <td>0.33</td>\n",
       "      <td>0.39</td>\n",
       "      <td>0.40</td>\n",
       "      <td>0.46</td>\n",
       "      <td>0.47</td>\n",
       "      <td>0.47</td>\n",
       "      <td>0.48</td>\n",
       "      <td>0.52</td>\n",
       "      <td>0.43</td>\n",
       "      <td>0.63</td>\n",
       "      <td>TripletPredTraining____mars_gym_model_b____969...</td>\n",
       "    </tr>\n",
       "  </tbody>\n",
       "</table>\n",
       "<p>86 rows × 14 columns</p>\n",
       "</div>"
      ],
      "text/plain": [
       "                                                                                           model_task  \\\n",
       "path                                                                                                    \n",
       "TripletPredTraining____mars_gym_model_b____d387...  TripletPredTraining____mars_gym_model_b____d38...   \n",
       "TripletPredTraining____mars_gym_model_b____8ce4...  TripletPredTraining____mars_gym_model_b____8ce...   \n",
       "TripletPredTraining____mars_gym_model_b____ed5e...  TripletPredTraining____mars_gym_model_b____ed5...   \n",
       "TripletPredTraining____mars_gym_model_b____42ea...  TripletPredTraining____mars_gym_model_b____42e...   \n",
       "TripletPredTraining____mars_gym_model_b____d7be...  TripletPredTraining____mars_gym_model_b____d7b...   \n",
       "...                                                                                               ...   \n",
       "SupervisedModelTraining____mars_gym_model_b____...  SupervisedModelTraining____mars_gym_model_b___...   \n",
       "SupervisedModelTraining____mars_gym_model_b____...  SupervisedModelTraining____mars_gym_model_b___...   \n",
       "TripletPredTraining____mars_gym_model_b____c8f9...  TripletPredTraining____mars_gym_model_b____c8f...   \n",
       "TripletPredTraining____mars_gym_model_b____3437...  TripletPredTraining____mars_gym_model_b____343...   \n",
       "TripletPredTraining____mars_gym_model_b____9699...  TripletPredTraining____mars_gym_model_b____969...   \n",
       "\n",
       "                                                    count  \\\n",
       "path                                                        \n",
       "TripletPredTraining____mars_gym_model_b____d387...   3129   \n",
       "TripletPredTraining____mars_gym_model_b____8ce4...   3129   \n",
       "TripletPredTraining____mars_gym_model_b____ed5e...   3129   \n",
       "TripletPredTraining____mars_gym_model_b____42ea...   3129   \n",
       "TripletPredTraining____mars_gym_model_b____d7be...   3129   \n",
       "...                                                   ...   \n",
       "SupervisedModelTraining____mars_gym_model_b____...   2862   \n",
       "SupervisedModelTraining____mars_gym_model_b____...   4539   \n",
       "TripletPredTraining____mars_gym_model_b____c8f9...   3129   \n",
       "TripletPredTraining____mars_gym_model_b____3437...   3129   \n",
       "TripletPredTraining____mars_gym_model_b____9699...   3129   \n",
       "\n",
       "                                                    mean_average_precision  \\\n",
       "path                                                                         \n",
       "TripletPredTraining____mars_gym_model_b____d387...                    0.42   \n",
       "TripletPredTraining____mars_gym_model_b____8ce4...                    0.23   \n",
       "TripletPredTraining____mars_gym_model_b____ed5e...                    0.62   \n",
       "TripletPredTraining____mars_gym_model_b____42ea...                    0.23   \n",
       "TripletPredTraining____mars_gym_model_b____d7be...                    0.09   \n",
       "...                                                                    ...   \n",
       "SupervisedModelTraining____mars_gym_model_b____...                    0.67   \n",
       "SupervisedModelTraining____mars_gym_model_b____...                    0.46   \n",
       "TripletPredTraining____mars_gym_model_b____c8f9...                    0.29   \n",
       "TripletPredTraining____mars_gym_model_b____3437...                    0.42   \n",
       "TripletPredTraining____mars_gym_model_b____9699...                    0.41   \n",
       "\n",
       "                                                    precision_at_1  mrr_at_5  \\\n",
       "path                                                                           \n",
       "TripletPredTraining____mars_gym_model_b____d387...            0.34      0.40   \n",
       "TripletPredTraining____mars_gym_model_b____8ce4...            0.18      0.21   \n",
       "TripletPredTraining____mars_gym_model_b____ed5e...            0.51      0.61   \n",
       "TripletPredTraining____mars_gym_model_b____42ea...            0.18      0.21   \n",
       "TripletPredTraining____mars_gym_model_b____d7be...            0.04      0.07   \n",
       "...                                                            ...       ...   \n",
       "SupervisedModelTraining____mars_gym_model_b____...            0.60      0.66   \n",
       "SupervisedModelTraining____mars_gym_model_b____...            0.36      0.43   \n",
       "TripletPredTraining____mars_gym_model_b____c8f9...            0.23      0.27   \n",
       "TripletPredTraining____mars_gym_model_b____3437...            0.34      0.38   \n",
       "TripletPredTraining____mars_gym_model_b____9699...            0.33      0.39   \n",
       "\n",
       "                                                    mrr_at_10  ndcg_at_5  \\\n",
       "path                                                                       \n",
       "TripletPredTraining____mars_gym_model_b____d387...       0.41       0.46   \n",
       "TripletPredTraining____mars_gym_model_b____8ce4...       0.21       0.23   \n",
       "TripletPredTraining____mars_gym_model_b____ed5e...       0.62       0.71   \n",
       "TripletPredTraining____mars_gym_model_b____42ea...       0.21       0.23   \n",
       "TripletPredTraining____mars_gym_model_b____d7be...       0.07       0.09   \n",
       "...                                                       ...        ...   \n",
       "SupervisedModelTraining____mars_gym_model_b____...       0.67       0.71   \n",
       "SupervisedModelTraining____mars_gym_model_b____...       0.44       0.50   \n",
       "TripletPredTraining____mars_gym_model_b____c8f9...       0.28       0.31   \n",
       "TripletPredTraining____mars_gym_model_b____3437...       0.39       0.42   \n",
       "TripletPredTraining____mars_gym_model_b____9699...       0.40       0.46   \n",
       "\n",
       "                                                    ndcg_at_10  ndcg_at_15  \\\n",
       "path                                                                         \n",
       "TripletPredTraining____mars_gym_model_b____d387...        0.47        0.48   \n",
       "TripletPredTraining____mars_gym_model_b____8ce4...        0.24        0.25   \n",
       "TripletPredTraining____mars_gym_model_b____ed5e...        0.72        0.73   \n",
       "TripletPredTraining____mars_gym_model_b____42ea...        0.24        0.25   \n",
       "TripletPredTraining____mars_gym_model_b____d7be...        0.11        0.12   \n",
       "...                                                        ...         ...   \n",
       "SupervisedModelTraining____mars_gym_model_b____...        0.73        0.74   \n",
       "SupervisedModelTraining____mars_gym_model_b____...        0.53        0.54   \n",
       "TripletPredTraining____mars_gym_model_b____c8f9...        0.33        0.34   \n",
       "TripletPredTraining____mars_gym_model_b____3437...        0.46        0.50   \n",
       "TripletPredTraining____mars_gym_model_b____9699...        0.47        0.47   \n",
       "\n",
       "                                                    ndcg_at_20  ndcg_at_50  \\\n",
       "path                                                                         \n",
       "TripletPredTraining____mars_gym_model_b____d387...        0.49        0.52   \n",
       "TripletPredTraining____mars_gym_model_b____8ce4...        0.26        0.30   \n",
       "TripletPredTraining____mars_gym_model_b____ed5e...        0.74        0.75   \n",
       "TripletPredTraining____mars_gym_model_b____42ea...        0.26        0.30   \n",
       "TripletPredTraining____mars_gym_model_b____d7be...        0.13        0.18   \n",
       "...                                                        ...         ...   \n",
       "SupervisedModelTraining____mars_gym_model_b____...        0.75        0.76   \n",
       "SupervisedModelTraining____mars_gym_model_b____...        0.55        0.58   \n",
       "TripletPredTraining____mars_gym_model_b____c8f9...        0.35        0.38   \n",
       "TripletPredTraining____mars_gym_model_b____3437...        0.52        0.54   \n",
       "TripletPredTraining____mars_gym_model_b____9699...        0.48        0.52   \n",
       "\n",
       "                                                    coverage_at_5  \\\n",
       "path                                                                \n",
       "TripletPredTraining____mars_gym_model_b____d387...           0.44   \n",
       "TripletPredTraining____mars_gym_model_b____8ce4...           0.36   \n",
       "TripletPredTraining____mars_gym_model_b____ed5e...           0.82   \n",
       "TripletPredTraining____mars_gym_model_b____42ea...           0.34   \n",
       "TripletPredTraining____mars_gym_model_b____d7be...           0.41   \n",
       "...                                                           ...   \n",
       "SupervisedModelTraining____mars_gym_model_b____...           0.11   \n",
       "SupervisedModelTraining____mars_gym_model_b____...           0.17   \n",
       "TripletPredTraining____mars_gym_model_b____c8f9...           0.29   \n",
       "TripletPredTraining____mars_gym_model_b____3437...           0.60   \n",
       "TripletPredTraining____mars_gym_model_b____9699...           0.43   \n",
       "\n",
       "                                                    coverage_at_20  \\\n",
       "path                                                                 \n",
       "TripletPredTraining____mars_gym_model_b____d387...            0.63   \n",
       "TripletPredTraining____mars_gym_model_b____8ce4...            0.61   \n",
       "TripletPredTraining____mars_gym_model_b____ed5e...            1.00   \n",
       "TripletPredTraining____mars_gym_model_b____42ea...            0.59   \n",
       "TripletPredTraining____mars_gym_model_b____d7be...            0.60   \n",
       "...                                                            ...   \n",
       "SupervisedModelTraining____mars_gym_model_b____...            0.39   \n",
       "SupervisedModelTraining____mars_gym_model_b____...            0.52   \n",
       "TripletPredTraining____mars_gym_model_b____c8f9...            0.54   \n",
       "TripletPredTraining____mars_gym_model_b____3437...            0.96   \n",
       "TripletPredTraining____mars_gym_model_b____9699...            0.63   \n",
       "\n",
       "                                                                                                model  \n",
       "path                                                                                                   \n",
       "TripletPredTraining____mars_gym_model_b____d387...  TripletPredTraining____mars_gym_model_b____d38...  \n",
       "TripletPredTraining____mars_gym_model_b____8ce4...  TripletPredTraining____mars_gym_model_b____8ce...  \n",
       "TripletPredTraining____mars_gym_model_b____ed5e...  TripletPredTraining____mars_gym_model_b____ed5...  \n",
       "TripletPredTraining____mars_gym_model_b____42ea...  TripletPredTraining____mars_gym_model_b____42e...  \n",
       "TripletPredTraining____mars_gym_model_b____d7be...  TripletPredTraining____mars_gym_model_b____d7b...  \n",
       "...                                                                                               ...  \n",
       "SupervisedModelTraining____mars_gym_model_b____...  SupervisedModelTraining____mars_gym_model_b___...  \n",
       "SupervisedModelTraining____mars_gym_model_b____...  SupervisedModelTraining____mars_gym_model_b___...  \n",
       "TripletPredTraining____mars_gym_model_b____c8f9...  TripletPredTraining____mars_gym_model_b____c8f...  \n",
       "TripletPredTraining____mars_gym_model_b____3437...  TripletPredTraining____mars_gym_model_b____343...  \n",
       "TripletPredTraining____mars_gym_model_b____9699...  TripletPredTraining____mars_gym_model_b____969...  \n",
       "\n",
       "[86 rows x 14 columns]"
      ]
     },
     "execution_count": 5,
     "metadata": {},
     "output_type": "execute_result"
    }
   ],
   "source": [
    "metrics = json2df(results, \"metrics.json\", \"path\")\n",
    "metrics"
   ]
  },
  {
   "cell_type": "code",
   "execution_count": 6,
   "metadata": {},
   "outputs": [
    {
     "data": {
      "text/plain": [
       "(86, 14)"
      ]
     },
     "execution_count": 6,
     "metadata": {},
     "output_type": "execute_result"
    }
   ],
   "source": [
    "metrics.shape"
   ]
  },
  {
   "cell_type": "code",
   "execution_count": 7,
   "metadata": {},
   "outputs": [
    {
     "data": {
      "text/html": [
       "<div>\n",
       "<style scoped>\n",
       "    .dataframe tbody tr th:only-of-type {\n",
       "        vertical-align: middle;\n",
       "    }\n",
       "\n",
       "    .dataframe tbody tr th {\n",
       "        vertical-align: top;\n",
       "    }\n",
       "\n",
       "    .dataframe thead th {\n",
       "        text-align: right;\n",
       "    }\n",
       "</style>\n",
       "<table border=\"1\" class=\"dataframe\">\n",
       "  <thead>\n",
       "    <tr style=\"text-align: right;\">\n",
       "      <th></th>\n",
       "      <th>project</th>\n",
       "      <th>sample_size</th>\n",
       "      <th>minimum_interactions</th>\n",
       "      <th>session_test_size</th>\n",
       "      <th>test_size</th>\n",
       "      <th>dataset_split_method</th>\n",
       "      <th>test_split_type</th>\n",
       "      <th>val_size</th>\n",
       "      <th>n_splits</th>\n",
       "      <th>split_index</th>\n",
       "      <th>...</th>\n",
       "      <th>recommender_extra_params.from_index_mapping</th>\n",
       "      <th>recommender_extra_params.path_item_embedding</th>\n",
       "      <th>recommender_extra_params.freeze_embedding</th>\n",
       "      <th>recommender_extra_params.num_blocks</th>\n",
       "      <th>recommender_extra_params.num_heads</th>\n",
       "      <th>recommender_extra_params.hist_size</th>\n",
       "      <th>recommender_extra_params.p_L</th>\n",
       "      <th>recommender_extra_params.p_d</th>\n",
       "      <th>recommender_extra_params.p_nh</th>\n",
       "      <th>recommender_extra_params.p_nv</th>\n",
       "    </tr>\n",
       "    <tr>\n",
       "      <th>path</th>\n",
       "      <th></th>\n",
       "      <th></th>\n",
       "      <th></th>\n",
       "      <th></th>\n",
       "      <th></th>\n",
       "      <th></th>\n",
       "      <th></th>\n",
       "      <th></th>\n",
       "      <th></th>\n",
       "      <th></th>\n",
       "      <th></th>\n",
       "      <th></th>\n",
       "      <th></th>\n",
       "      <th></th>\n",
       "      <th></th>\n",
       "      <th></th>\n",
       "      <th></th>\n",
       "      <th></th>\n",
       "      <th></th>\n",
       "      <th></th>\n",
       "      <th></th>\n",
       "    </tr>\n",
       "  </thead>\n",
       "  <tbody>\n",
       "    <tr>\n",
       "      <th>TripletPredTraining____mars_gym_model_b____1781903829</th>\n",
       "      <td>diginetica.config.diginetica_interaction</td>\n",
       "      <td>-1.00</td>\n",
       "      <td>5.00</td>\n",
       "      <td>0.10</td>\n",
       "      <td>0.20</td>\n",
       "      <td>column</td>\n",
       "      <td>time</td>\n",
       "      <td>0.20</td>\n",
       "      <td>5.00</td>\n",
       "      <td>0.00</td>\n",
       "      <td>...</td>\n",
       "      <td>NaN</td>\n",
       "      <td>NaN</td>\n",
       "      <td>NaN</td>\n",
       "      <td>nan</td>\n",
       "      <td>nan</td>\n",
       "      <td>nan</td>\n",
       "      <td>nan</td>\n",
       "      <td>nan</td>\n",
       "      <td>nan</td>\n",
       "      <td>nan</td>\n",
       "    </tr>\n",
       "    <tr>\n",
       "      <th>TripletPredTraining____mars_gym_model_b____957f16bf81</th>\n",
       "      <td>diginetica.config.diginetica_interaction</td>\n",
       "      <td>-1.00</td>\n",
       "      <td>5.00</td>\n",
       "      <td>0.10</td>\n",
       "      <td>0.20</td>\n",
       "      <td>column</td>\n",
       "      <td>time</td>\n",
       "      <td>0.20</td>\n",
       "      <td>5.00</td>\n",
       "      <td>0.00</td>\n",
       "      <td>...</td>\n",
       "      <td>NaN</td>\n",
       "      <td>NaN</td>\n",
       "      <td>NaN</td>\n",
       "      <td>nan</td>\n",
       "      <td>nan</td>\n",
       "      <td>nan</td>\n",
       "      <td>nan</td>\n",
       "      <td>nan</td>\n",
       "      <td>nan</td>\n",
       "      <td>nan</td>\n",
       "    </tr>\n",
       "    <tr>\n",
       "      <th>TripletPredTraining____mars_gym_model_b____5b20003c8b</th>\n",
       "      <td>diginetica.config.diginetica_interaction</td>\n",
       "      <td>-1.00</td>\n",
       "      <td>5.00</td>\n",
       "      <td>0.10</td>\n",
       "      <td>0.20</td>\n",
       "      <td>column</td>\n",
       "      <td>time</td>\n",
       "      <td>0.20</td>\n",
       "      <td>5.00</td>\n",
       "      <td>0.00</td>\n",
       "      <td>...</td>\n",
       "      <td>NaN</td>\n",
       "      <td>NaN</td>\n",
       "      <td>NaN</td>\n",
       "      <td>nan</td>\n",
       "      <td>nan</td>\n",
       "      <td>nan</td>\n",
       "      <td>nan</td>\n",
       "      <td>nan</td>\n",
       "      <td>nan</td>\n",
       "      <td>nan</td>\n",
       "    </tr>\n",
       "    <tr>\n",
       "      <th>TripletPredTraining____mars_gym_model_b____c5a6d65546</th>\n",
       "      <td>diginetica.config.diginetica_interaction</td>\n",
       "      <td>-1.00</td>\n",
       "      <td>5.00</td>\n",
       "      <td>0.10</td>\n",
       "      <td>0.20</td>\n",
       "      <td>column</td>\n",
       "      <td>time</td>\n",
       "      <td>0.20</td>\n",
       "      <td>5.00</td>\n",
       "      <td>0.00</td>\n",
       "      <td>...</td>\n",
       "      <td>NaN</td>\n",
       "      <td>NaN</td>\n",
       "      <td>NaN</td>\n",
       "      <td>nan</td>\n",
       "      <td>nan</td>\n",
       "      <td>nan</td>\n",
       "      <td>nan</td>\n",
       "      <td>nan</td>\n",
       "      <td>nan</td>\n",
       "      <td>nan</td>\n",
       "    </tr>\n",
       "    <tr>\n",
       "      <th>TripletPredTraining____mars_gym_model_b____1f89d23b3c</th>\n",
       "      <td>diginetica.config.diginetica_interaction</td>\n",
       "      <td>-1.00</td>\n",
       "      <td>5.00</td>\n",
       "      <td>0.10</td>\n",
       "      <td>0.20</td>\n",
       "      <td>column</td>\n",
       "      <td>time</td>\n",
       "      <td>0.20</td>\n",
       "      <td>5.00</td>\n",
       "      <td>0.00</td>\n",
       "      <td>...</td>\n",
       "      <td>NaN</td>\n",
       "      <td>NaN</td>\n",
       "      <td>NaN</td>\n",
       "      <td>nan</td>\n",
       "      <td>nan</td>\n",
       "      <td>nan</td>\n",
       "      <td>nan</td>\n",
       "      <td>nan</td>\n",
       "      <td>nan</td>\n",
       "      <td>nan</td>\n",
       "    </tr>\n",
       "  </tbody>\n",
       "</table>\n",
       "<p>5 rows × 70 columns</p>\n",
       "</div>"
      ],
      "text/plain": [
       "                                                                                     project  \\\n",
       "path                                                                                           \n",
       "TripletPredTraining____mars_gym_model_b____1781...  diginetica.config.diginetica_interaction   \n",
       "TripletPredTraining____mars_gym_model_b____957f...  diginetica.config.diginetica_interaction   \n",
       "TripletPredTraining____mars_gym_model_b____5b20...  diginetica.config.diginetica_interaction   \n",
       "TripletPredTraining____mars_gym_model_b____c5a6...  diginetica.config.diginetica_interaction   \n",
       "TripletPredTraining____mars_gym_model_b____1f89...  diginetica.config.diginetica_interaction   \n",
       "\n",
       "                                                    sample_size  \\\n",
       "path                                                              \n",
       "TripletPredTraining____mars_gym_model_b____1781...        -1.00   \n",
       "TripletPredTraining____mars_gym_model_b____957f...        -1.00   \n",
       "TripletPredTraining____mars_gym_model_b____5b20...        -1.00   \n",
       "TripletPredTraining____mars_gym_model_b____c5a6...        -1.00   \n",
       "TripletPredTraining____mars_gym_model_b____1f89...        -1.00   \n",
       "\n",
       "                                                    minimum_interactions  \\\n",
       "path                                                                       \n",
       "TripletPredTraining____mars_gym_model_b____1781...                  5.00   \n",
       "TripletPredTraining____mars_gym_model_b____957f...                  5.00   \n",
       "TripletPredTraining____mars_gym_model_b____5b20...                  5.00   \n",
       "TripletPredTraining____mars_gym_model_b____c5a6...                  5.00   \n",
       "TripletPredTraining____mars_gym_model_b____1f89...                  5.00   \n",
       "\n",
       "                                                    session_test_size  \\\n",
       "path                                                                    \n",
       "TripletPredTraining____mars_gym_model_b____1781...               0.10   \n",
       "TripletPredTraining____mars_gym_model_b____957f...               0.10   \n",
       "TripletPredTraining____mars_gym_model_b____5b20...               0.10   \n",
       "TripletPredTraining____mars_gym_model_b____c5a6...               0.10   \n",
       "TripletPredTraining____mars_gym_model_b____1f89...               0.10   \n",
       "\n",
       "                                                    test_size  \\\n",
       "path                                                            \n",
       "TripletPredTraining____mars_gym_model_b____1781...       0.20   \n",
       "TripletPredTraining____mars_gym_model_b____957f...       0.20   \n",
       "TripletPredTraining____mars_gym_model_b____5b20...       0.20   \n",
       "TripletPredTraining____mars_gym_model_b____c5a6...       0.20   \n",
       "TripletPredTraining____mars_gym_model_b____1f89...       0.20   \n",
       "\n",
       "                                                   dataset_split_method  \\\n",
       "path                                                                      \n",
       "TripletPredTraining____mars_gym_model_b____1781...               column   \n",
       "TripletPredTraining____mars_gym_model_b____957f...               column   \n",
       "TripletPredTraining____mars_gym_model_b____5b20...               column   \n",
       "TripletPredTraining____mars_gym_model_b____c5a6...               column   \n",
       "TripletPredTraining____mars_gym_model_b____1f89...               column   \n",
       "\n",
       "                                                   test_split_type  val_size  \\\n",
       "path                                                                           \n",
       "TripletPredTraining____mars_gym_model_b____1781...            time      0.20   \n",
       "TripletPredTraining____mars_gym_model_b____957f...            time      0.20   \n",
       "TripletPredTraining____mars_gym_model_b____5b20...            time      0.20   \n",
       "TripletPredTraining____mars_gym_model_b____c5a6...            time      0.20   \n",
       "TripletPredTraining____mars_gym_model_b____1f89...            time      0.20   \n",
       "\n",
       "                                                    n_splits  split_index  \\\n",
       "path                                                                        \n",
       "TripletPredTraining____mars_gym_model_b____1781...      5.00         0.00   \n",
       "TripletPredTraining____mars_gym_model_b____957f...      5.00         0.00   \n",
       "TripletPredTraining____mars_gym_model_b____5b20...      5.00         0.00   \n",
       "TripletPredTraining____mars_gym_model_b____c5a6...      5.00         0.00   \n",
       "TripletPredTraining____mars_gym_model_b____1f89...      5.00         0.00   \n",
       "\n",
       "                                                    ...  \\\n",
       "path                                                ...   \n",
       "TripletPredTraining____mars_gym_model_b____1781...  ...   \n",
       "TripletPredTraining____mars_gym_model_b____957f...  ...   \n",
       "TripletPredTraining____mars_gym_model_b____5b20...  ...   \n",
       "TripletPredTraining____mars_gym_model_b____c5a6...  ...   \n",
       "TripletPredTraining____mars_gym_model_b____1f89...  ...   \n",
       "\n",
       "                                                   recommender_extra_params.from_index_mapping  \\\n",
       "path                                                                                             \n",
       "TripletPredTraining____mars_gym_model_b____1781...                                         NaN   \n",
       "TripletPredTraining____mars_gym_model_b____957f...                                         NaN   \n",
       "TripletPredTraining____mars_gym_model_b____5b20...                                         NaN   \n",
       "TripletPredTraining____mars_gym_model_b____c5a6...                                         NaN   \n",
       "TripletPredTraining____mars_gym_model_b____1f89...                                         NaN   \n",
       "\n",
       "                                                   recommender_extra_params.path_item_embedding  \\\n",
       "path                                                                                              \n",
       "TripletPredTraining____mars_gym_model_b____1781...                                          NaN   \n",
       "TripletPredTraining____mars_gym_model_b____957f...                                          NaN   \n",
       "TripletPredTraining____mars_gym_model_b____5b20...                                          NaN   \n",
       "TripletPredTraining____mars_gym_model_b____c5a6...                                          NaN   \n",
       "TripletPredTraining____mars_gym_model_b____1f89...                                          NaN   \n",
       "\n",
       "                                                   recommender_extra_params.freeze_embedding  \\\n",
       "path                                                                                           \n",
       "TripletPredTraining____mars_gym_model_b____1781...                                       NaN   \n",
       "TripletPredTraining____mars_gym_model_b____957f...                                       NaN   \n",
       "TripletPredTraining____mars_gym_model_b____5b20...                                       NaN   \n",
       "TripletPredTraining____mars_gym_model_b____c5a6...                                       NaN   \n",
       "TripletPredTraining____mars_gym_model_b____1f89...                                       NaN   \n",
       "\n",
       "                                                    recommender_extra_params.num_blocks  \\\n",
       "path                                                                                      \n",
       "TripletPredTraining____mars_gym_model_b____1781...                                  nan   \n",
       "TripletPredTraining____mars_gym_model_b____957f...                                  nan   \n",
       "TripletPredTraining____mars_gym_model_b____5b20...                                  nan   \n",
       "TripletPredTraining____mars_gym_model_b____c5a6...                                  nan   \n",
       "TripletPredTraining____mars_gym_model_b____1f89...                                  nan   \n",
       "\n",
       "                                                   recommender_extra_params.num_heads  \\\n",
       "path                                                                                    \n",
       "TripletPredTraining____mars_gym_model_b____1781...                                nan   \n",
       "TripletPredTraining____mars_gym_model_b____957f...                                nan   \n",
       "TripletPredTraining____mars_gym_model_b____5b20...                                nan   \n",
       "TripletPredTraining____mars_gym_model_b____c5a6...                                nan   \n",
       "TripletPredTraining____mars_gym_model_b____1f89...                                nan   \n",
       "\n",
       "                                                    recommender_extra_params.hist_size  \\\n",
       "path                                                                                     \n",
       "TripletPredTraining____mars_gym_model_b____1781...                                 nan   \n",
       "TripletPredTraining____mars_gym_model_b____957f...                                 nan   \n",
       "TripletPredTraining____mars_gym_model_b____5b20...                                 nan   \n",
       "TripletPredTraining____mars_gym_model_b____c5a6...                                 nan   \n",
       "TripletPredTraining____mars_gym_model_b____1f89...                                 nan   \n",
       "\n",
       "                                                    recommender_extra_params.p_L  \\\n",
       "path                                                                               \n",
       "TripletPredTraining____mars_gym_model_b____1781...                           nan   \n",
       "TripletPredTraining____mars_gym_model_b____957f...                           nan   \n",
       "TripletPredTraining____mars_gym_model_b____5b20...                           nan   \n",
       "TripletPredTraining____mars_gym_model_b____c5a6...                           nan   \n",
       "TripletPredTraining____mars_gym_model_b____1f89...                           nan   \n",
       "\n",
       "                                                   recommender_extra_params.p_d  \\\n",
       "path                                                                              \n",
       "TripletPredTraining____mars_gym_model_b____1781...                          nan   \n",
       "TripletPredTraining____mars_gym_model_b____957f...                          nan   \n",
       "TripletPredTraining____mars_gym_model_b____5b20...                          nan   \n",
       "TripletPredTraining____mars_gym_model_b____c5a6...                          nan   \n",
       "TripletPredTraining____mars_gym_model_b____1f89...                          nan   \n",
       "\n",
       "                                                    recommender_extra_params.p_nh  \\\n",
       "path                                                                                \n",
       "TripletPredTraining____mars_gym_model_b____1781...                            nan   \n",
       "TripletPredTraining____mars_gym_model_b____957f...                            nan   \n",
       "TripletPredTraining____mars_gym_model_b____5b20...                            nan   \n",
       "TripletPredTraining____mars_gym_model_b____c5a6...                            nan   \n",
       "TripletPredTraining____mars_gym_model_b____1f89...                            nan   \n",
       "\n",
       "                                                    recommender_extra_params.p_nv  \n",
       "path                                                                               \n",
       "TripletPredTraining____mars_gym_model_b____1781...                            nan  \n",
       "TripletPredTraining____mars_gym_model_b____957f...                            nan  \n",
       "TripletPredTraining____mars_gym_model_b____5b20...                            nan  \n",
       "TripletPredTraining____mars_gym_model_b____c5a6...                            nan  \n",
       "TripletPredTraining____mars_gym_model_b____1f89...                            nan  \n",
       "\n",
       "[5 rows x 70 columns]"
      ]
     },
     "execution_count": 7,
     "metadata": {},
     "output_type": "execute_result"
    }
   ],
   "source": [
    "params = json2df(fetch_training_path(), \"params.json\", \"path\")\n",
    "params.head()"
   ]
  },
  {
   "cell_type": "code",
   "execution_count": 8,
   "metadata": {},
   "outputs": [
    {
     "data": {
      "text/plain": [
       "project                               diginetica.config.diginetica_interaction\n",
       "sample_size                                                              -1.00\n",
       "minimum_interactions                                                      5.00\n",
       "session_test_size                                                         0.10\n",
       "test_size                                                                 0.20\n",
       "                                                        ...                   \n",
       "recommender_extra_params.hist_size                                         NaN\n",
       "recommender_extra_params.p_L                                               NaN\n",
       "recommender_extra_params.p_d                                               NaN\n",
       "recommender_extra_params.p_nh                                              NaN\n",
       "recommender_extra_params.p_nv                                              NaN\n",
       "Name: TripletPredTraining____mars_gym_model_b____1781903829, Length: 70, dtype: object"
      ]
     },
     "execution_count": 8,
     "metadata": {},
     "output_type": "execute_result"
    }
   ],
   "source": [
    "params.iloc[0]"
   ]
  },
  {
   "cell_type": "code",
   "execution_count": 9,
   "metadata": {},
   "outputs": [
    {
     "data": {
      "text/plain": [
       "(415, 70)"
      ]
     },
     "execution_count": 9,
     "metadata": {},
     "output_type": "execute_result"
    }
   ],
   "source": [
    "params.shape"
   ]
  },
  {
   "cell_type": "code",
   "execution_count": 10,
   "metadata": {},
   "outputs": [
    {
     "data": {
      "text/html": [
       "<div>\n",
       "<style scoped>\n",
       "    .dataframe tbody tr th:only-of-type {\n",
       "        vertical-align: middle;\n",
       "    }\n",
       "\n",
       "    .dataframe tbody tr th {\n",
       "        vertical-align: top;\n",
       "    }\n",
       "\n",
       "    .dataframe thead th {\n",
       "        text-align: right;\n",
       "    }\n",
       "</style>\n",
       "<table border=\"1\" class=\"dataframe\">\n",
       "  <thead>\n",
       "    <tr style=\"text-align: right;\">\n",
       "      <th></th>\n",
       "      <th>model_task</th>\n",
       "      <th>count</th>\n",
       "      <th>mean_average_precision</th>\n",
       "      <th>precision_at_1</th>\n",
       "      <th>mrr_at_5</th>\n",
       "      <th>mrr_at_10</th>\n",
       "      <th>ndcg_at_5</th>\n",
       "      <th>ndcg_at_10</th>\n",
       "      <th>ndcg_at_15</th>\n",
       "      <th>ndcg_at_20</th>\n",
       "      <th>ndcg_at_50</th>\n",
       "      <th>coverage_at_5</th>\n",
       "      <th>coverage_at_20</th>\n",
       "      <th>model</th>\n",
       "    </tr>\n",
       "    <tr>\n",
       "      <th>path</th>\n",
       "      <th></th>\n",
       "      <th></th>\n",
       "      <th></th>\n",
       "      <th></th>\n",
       "      <th></th>\n",
       "      <th></th>\n",
       "      <th></th>\n",
       "      <th></th>\n",
       "      <th></th>\n",
       "      <th></th>\n",
       "      <th></th>\n",
       "      <th></th>\n",
       "      <th></th>\n",
       "      <th></th>\n",
       "    </tr>\n",
       "  </thead>\n",
       "  <tbody>\n",
       "    <tr>\n",
       "      <th>TripletPredTraining____mars_gym_model_b____d3874532b4_db449e08df</th>\n",
       "      <td>TripletPredTraining____mars_gym_model_b____d38...</td>\n",
       "      <td>3129</td>\n",
       "      <td>0.42</td>\n",
       "      <td>0.34</td>\n",
       "      <td>0.40</td>\n",
       "      <td>0.41</td>\n",
       "      <td>0.46</td>\n",
       "      <td>0.47</td>\n",
       "      <td>0.48</td>\n",
       "      <td>0.49</td>\n",
       "      <td>0.52</td>\n",
       "      <td>0.44</td>\n",
       "      <td>0.63</td>\n",
       "      <td>TripletPredTraining____mars_gym_model_b____d38...</td>\n",
       "    </tr>\n",
       "    <tr>\n",
       "      <th>TripletPredTraining____mars_gym_model_b____8ce48bf1d3_da48175aa8</th>\n",
       "      <td>TripletPredTraining____mars_gym_model_b____8ce...</td>\n",
       "      <td>3129</td>\n",
       "      <td>0.23</td>\n",
       "      <td>0.18</td>\n",
       "      <td>0.21</td>\n",
       "      <td>0.21</td>\n",
       "      <td>0.23</td>\n",
       "      <td>0.24</td>\n",
       "      <td>0.25</td>\n",
       "      <td>0.26</td>\n",
       "      <td>0.30</td>\n",
       "      <td>0.36</td>\n",
       "      <td>0.61</td>\n",
       "      <td>TripletPredTraining____mars_gym_model_b____8ce...</td>\n",
       "    </tr>\n",
       "    <tr>\n",
       "      <th>TripletPredTraining____mars_gym_model_b____ed5ed808aa_1c210c3569</th>\n",
       "      <td>TripletPredTraining____mars_gym_model_b____ed5...</td>\n",
       "      <td>3129</td>\n",
       "      <td>0.62</td>\n",
       "      <td>0.51</td>\n",
       "      <td>0.61</td>\n",
       "      <td>0.62</td>\n",
       "      <td>0.71</td>\n",
       "      <td>0.72</td>\n",
       "      <td>0.73</td>\n",
       "      <td>0.74</td>\n",
       "      <td>0.75</td>\n",
       "      <td>0.82</td>\n",
       "      <td>1.00</td>\n",
       "      <td>TripletPredTraining____mars_gym_model_b____ed5...</td>\n",
       "    </tr>\n",
       "    <tr>\n",
       "      <th>TripletPredTraining____mars_gym_model_b____42eaab12f4_71709e79cc</th>\n",
       "      <td>TripletPredTraining____mars_gym_model_b____42e...</td>\n",
       "      <td>3129</td>\n",
       "      <td>0.23</td>\n",
       "      <td>0.18</td>\n",
       "      <td>0.21</td>\n",
       "      <td>0.21</td>\n",
       "      <td>0.23</td>\n",
       "      <td>0.24</td>\n",
       "      <td>0.25</td>\n",
       "      <td>0.26</td>\n",
       "      <td>0.30</td>\n",
       "      <td>0.34</td>\n",
       "      <td>0.59</td>\n",
       "      <td>TripletPredTraining____mars_gym_model_b____42e...</td>\n",
       "    </tr>\n",
       "    <tr>\n",
       "      <th>TripletPredTraining____mars_gym_model_b____d7befce0e9_e810af2ade</th>\n",
       "      <td>TripletPredTraining____mars_gym_model_b____d7b...</td>\n",
       "      <td>3129</td>\n",
       "      <td>0.09</td>\n",
       "      <td>0.04</td>\n",
       "      <td>0.07</td>\n",
       "      <td>0.07</td>\n",
       "      <td>0.09</td>\n",
       "      <td>0.11</td>\n",
       "      <td>0.12</td>\n",
       "      <td>0.13</td>\n",
       "      <td>0.18</td>\n",
       "      <td>0.41</td>\n",
       "      <td>0.60</td>\n",
       "      <td>TripletPredTraining____mars_gym_model_b____d7b...</td>\n",
       "    </tr>\n",
       "    <tr>\n",
       "      <th>...</th>\n",
       "      <td>...</td>\n",
       "      <td>...</td>\n",
       "      <td>...</td>\n",
       "      <td>...</td>\n",
       "      <td>...</td>\n",
       "      <td>...</td>\n",
       "      <td>...</td>\n",
       "      <td>...</td>\n",
       "      <td>...</td>\n",
       "      <td>...</td>\n",
       "      <td>...</td>\n",
       "      <td>...</td>\n",
       "      <td>...</td>\n",
       "      <td>...</td>\n",
       "    </tr>\n",
       "    <tr>\n",
       "      <th>SupervisedModelTraining____mars_gym_model_b____b92d68b8b7_178cd69b7e</th>\n",
       "      <td>SupervisedModelTraining____mars_gym_model_b___...</td>\n",
       "      <td>2862</td>\n",
       "      <td>0.67</td>\n",
       "      <td>0.60</td>\n",
       "      <td>0.66</td>\n",
       "      <td>0.67</td>\n",
       "      <td>0.71</td>\n",
       "      <td>0.73</td>\n",
       "      <td>0.74</td>\n",
       "      <td>0.75</td>\n",
       "      <td>0.76</td>\n",
       "      <td>0.11</td>\n",
       "      <td>0.39</td>\n",
       "      <td>SupervisedModelTraining____mars_gym_model_b___...</td>\n",
       "    </tr>\n",
       "    <tr>\n",
       "      <th>SupervisedModelTraining____mars_gym_model_b____65a4279585_07c545cc6e</th>\n",
       "      <td>SupervisedModelTraining____mars_gym_model_b___...</td>\n",
       "      <td>4539</td>\n",
       "      <td>0.46</td>\n",
       "      <td>0.36</td>\n",
       "      <td>0.43</td>\n",
       "      <td>0.44</td>\n",
       "      <td>0.50</td>\n",
       "      <td>0.53</td>\n",
       "      <td>0.54</td>\n",
       "      <td>0.55</td>\n",
       "      <td>0.58</td>\n",
       "      <td>0.17</td>\n",
       "      <td>0.52</td>\n",
       "      <td>SupervisedModelTraining____mars_gym_model_b___...</td>\n",
       "    </tr>\n",
       "    <tr>\n",
       "      <th>TripletPredTraining____mars_gym_model_b____c8f941d2bf_36e411030f</th>\n",
       "      <td>TripletPredTraining____mars_gym_model_b____c8f...</td>\n",
       "      <td>3129</td>\n",
       "      <td>0.29</td>\n",
       "      <td>0.23</td>\n",
       "      <td>0.27</td>\n",
       "      <td>0.28</td>\n",
       "      <td>0.31</td>\n",
       "      <td>0.33</td>\n",
       "      <td>0.34</td>\n",
       "      <td>0.35</td>\n",
       "      <td>0.38</td>\n",
       "      <td>0.29</td>\n",
       "      <td>0.54</td>\n",
       "      <td>TripletPredTraining____mars_gym_model_b____c8f...</td>\n",
       "    </tr>\n",
       "    <tr>\n",
       "      <th>TripletPredTraining____mars_gym_model_b____3437de201d_a6cafd02bc</th>\n",
       "      <td>TripletPredTraining____mars_gym_model_b____343...</td>\n",
       "      <td>3129</td>\n",
       "      <td>0.42</td>\n",
       "      <td>0.34</td>\n",
       "      <td>0.38</td>\n",
       "      <td>0.39</td>\n",
       "      <td>0.42</td>\n",
       "      <td>0.46</td>\n",
       "      <td>0.50</td>\n",
       "      <td>0.52</td>\n",
       "      <td>0.54</td>\n",
       "      <td>0.60</td>\n",
       "      <td>0.96</td>\n",
       "      <td>TripletPredTraining____mars_gym_model_b____343...</td>\n",
       "    </tr>\n",
       "    <tr>\n",
       "      <th>TripletPredTraining____mars_gym_model_b____9699cde71a_14bc126b22</th>\n",
       "      <td>TripletPredTraining____mars_gym_model_b____969...</td>\n",
       "      <td>3129</td>\n",
       "      <td>0.41</td>\n",
       "      <td>0.33</td>\n",
       "      <td>0.39</td>\n",
       "      <td>0.40</td>\n",
       "      <td>0.46</td>\n",
       "      <td>0.47</td>\n",
       "      <td>0.47</td>\n",
       "      <td>0.48</td>\n",
       "      <td>0.52</td>\n",
       "      <td>0.43</td>\n",
       "      <td>0.63</td>\n",
       "      <td>TripletPredTraining____mars_gym_model_b____969...</td>\n",
       "    </tr>\n",
       "  </tbody>\n",
       "</table>\n",
       "<p>86 rows × 14 columns</p>\n",
       "</div>"
      ],
      "text/plain": [
       "                                                                                           model_task  \\\n",
       "path                                                                                                    \n",
       "TripletPredTraining____mars_gym_model_b____d387...  TripletPredTraining____mars_gym_model_b____d38...   \n",
       "TripletPredTraining____mars_gym_model_b____8ce4...  TripletPredTraining____mars_gym_model_b____8ce...   \n",
       "TripletPredTraining____mars_gym_model_b____ed5e...  TripletPredTraining____mars_gym_model_b____ed5...   \n",
       "TripletPredTraining____mars_gym_model_b____42ea...  TripletPredTraining____mars_gym_model_b____42e...   \n",
       "TripletPredTraining____mars_gym_model_b____d7be...  TripletPredTraining____mars_gym_model_b____d7b...   \n",
       "...                                                                                               ...   \n",
       "SupervisedModelTraining____mars_gym_model_b____...  SupervisedModelTraining____mars_gym_model_b___...   \n",
       "SupervisedModelTraining____mars_gym_model_b____...  SupervisedModelTraining____mars_gym_model_b___...   \n",
       "TripletPredTraining____mars_gym_model_b____c8f9...  TripletPredTraining____mars_gym_model_b____c8f...   \n",
       "TripletPredTraining____mars_gym_model_b____3437...  TripletPredTraining____mars_gym_model_b____343...   \n",
       "TripletPredTraining____mars_gym_model_b____9699...  TripletPredTraining____mars_gym_model_b____969...   \n",
       "\n",
       "                                                    count  \\\n",
       "path                                                        \n",
       "TripletPredTraining____mars_gym_model_b____d387...   3129   \n",
       "TripletPredTraining____mars_gym_model_b____8ce4...   3129   \n",
       "TripletPredTraining____mars_gym_model_b____ed5e...   3129   \n",
       "TripletPredTraining____mars_gym_model_b____42ea...   3129   \n",
       "TripletPredTraining____mars_gym_model_b____d7be...   3129   \n",
       "...                                                   ...   \n",
       "SupervisedModelTraining____mars_gym_model_b____...   2862   \n",
       "SupervisedModelTraining____mars_gym_model_b____...   4539   \n",
       "TripletPredTraining____mars_gym_model_b____c8f9...   3129   \n",
       "TripletPredTraining____mars_gym_model_b____3437...   3129   \n",
       "TripletPredTraining____mars_gym_model_b____9699...   3129   \n",
       "\n",
       "                                                    mean_average_precision  \\\n",
       "path                                                                         \n",
       "TripletPredTraining____mars_gym_model_b____d387...                    0.42   \n",
       "TripletPredTraining____mars_gym_model_b____8ce4...                    0.23   \n",
       "TripletPredTraining____mars_gym_model_b____ed5e...                    0.62   \n",
       "TripletPredTraining____mars_gym_model_b____42ea...                    0.23   \n",
       "TripletPredTraining____mars_gym_model_b____d7be...                    0.09   \n",
       "...                                                                    ...   \n",
       "SupervisedModelTraining____mars_gym_model_b____...                    0.67   \n",
       "SupervisedModelTraining____mars_gym_model_b____...                    0.46   \n",
       "TripletPredTraining____mars_gym_model_b____c8f9...                    0.29   \n",
       "TripletPredTraining____mars_gym_model_b____3437...                    0.42   \n",
       "TripletPredTraining____mars_gym_model_b____9699...                    0.41   \n",
       "\n",
       "                                                    precision_at_1  mrr_at_5  \\\n",
       "path                                                                           \n",
       "TripletPredTraining____mars_gym_model_b____d387...            0.34      0.40   \n",
       "TripletPredTraining____mars_gym_model_b____8ce4...            0.18      0.21   \n",
       "TripletPredTraining____mars_gym_model_b____ed5e...            0.51      0.61   \n",
       "TripletPredTraining____mars_gym_model_b____42ea...            0.18      0.21   \n",
       "TripletPredTraining____mars_gym_model_b____d7be...            0.04      0.07   \n",
       "...                                                            ...       ...   \n",
       "SupervisedModelTraining____mars_gym_model_b____...            0.60      0.66   \n",
       "SupervisedModelTraining____mars_gym_model_b____...            0.36      0.43   \n",
       "TripletPredTraining____mars_gym_model_b____c8f9...            0.23      0.27   \n",
       "TripletPredTraining____mars_gym_model_b____3437...            0.34      0.38   \n",
       "TripletPredTraining____mars_gym_model_b____9699...            0.33      0.39   \n",
       "\n",
       "                                                    mrr_at_10  ndcg_at_5  \\\n",
       "path                                                                       \n",
       "TripletPredTraining____mars_gym_model_b____d387...       0.41       0.46   \n",
       "TripletPredTraining____mars_gym_model_b____8ce4...       0.21       0.23   \n",
       "TripletPredTraining____mars_gym_model_b____ed5e...       0.62       0.71   \n",
       "TripletPredTraining____mars_gym_model_b____42ea...       0.21       0.23   \n",
       "TripletPredTraining____mars_gym_model_b____d7be...       0.07       0.09   \n",
       "...                                                       ...        ...   \n",
       "SupervisedModelTraining____mars_gym_model_b____...       0.67       0.71   \n",
       "SupervisedModelTraining____mars_gym_model_b____...       0.44       0.50   \n",
       "TripletPredTraining____mars_gym_model_b____c8f9...       0.28       0.31   \n",
       "TripletPredTraining____mars_gym_model_b____3437...       0.39       0.42   \n",
       "TripletPredTraining____mars_gym_model_b____9699...       0.40       0.46   \n",
       "\n",
       "                                                    ndcg_at_10  ndcg_at_15  \\\n",
       "path                                                                         \n",
       "TripletPredTraining____mars_gym_model_b____d387...        0.47        0.48   \n",
       "TripletPredTraining____mars_gym_model_b____8ce4...        0.24        0.25   \n",
       "TripletPredTraining____mars_gym_model_b____ed5e...        0.72        0.73   \n",
       "TripletPredTraining____mars_gym_model_b____42ea...        0.24        0.25   \n",
       "TripletPredTraining____mars_gym_model_b____d7be...        0.11        0.12   \n",
       "...                                                        ...         ...   \n",
       "SupervisedModelTraining____mars_gym_model_b____...        0.73        0.74   \n",
       "SupervisedModelTraining____mars_gym_model_b____...        0.53        0.54   \n",
       "TripletPredTraining____mars_gym_model_b____c8f9...        0.33        0.34   \n",
       "TripletPredTraining____mars_gym_model_b____3437...        0.46        0.50   \n",
       "TripletPredTraining____mars_gym_model_b____9699...        0.47        0.47   \n",
       "\n",
       "                                                    ndcg_at_20  ndcg_at_50  \\\n",
       "path                                                                         \n",
       "TripletPredTraining____mars_gym_model_b____d387...        0.49        0.52   \n",
       "TripletPredTraining____mars_gym_model_b____8ce4...        0.26        0.30   \n",
       "TripletPredTraining____mars_gym_model_b____ed5e...        0.74        0.75   \n",
       "TripletPredTraining____mars_gym_model_b____42ea...        0.26        0.30   \n",
       "TripletPredTraining____mars_gym_model_b____d7be...        0.13        0.18   \n",
       "...                                                        ...         ...   \n",
       "SupervisedModelTraining____mars_gym_model_b____...        0.75        0.76   \n",
       "SupervisedModelTraining____mars_gym_model_b____...        0.55        0.58   \n",
       "TripletPredTraining____mars_gym_model_b____c8f9...        0.35        0.38   \n",
       "TripletPredTraining____mars_gym_model_b____3437...        0.52        0.54   \n",
       "TripletPredTraining____mars_gym_model_b____9699...        0.48        0.52   \n",
       "\n",
       "                                                    coverage_at_5  \\\n",
       "path                                                                \n",
       "TripletPredTraining____mars_gym_model_b____d387...           0.44   \n",
       "TripletPredTraining____mars_gym_model_b____8ce4...           0.36   \n",
       "TripletPredTraining____mars_gym_model_b____ed5e...           0.82   \n",
       "TripletPredTraining____mars_gym_model_b____42ea...           0.34   \n",
       "TripletPredTraining____mars_gym_model_b____d7be...           0.41   \n",
       "...                                                           ...   \n",
       "SupervisedModelTraining____mars_gym_model_b____...           0.11   \n",
       "SupervisedModelTraining____mars_gym_model_b____...           0.17   \n",
       "TripletPredTraining____mars_gym_model_b____c8f9...           0.29   \n",
       "TripletPredTraining____mars_gym_model_b____3437...           0.60   \n",
       "TripletPredTraining____mars_gym_model_b____9699...           0.43   \n",
       "\n",
       "                                                    coverage_at_20  \\\n",
       "path                                                                 \n",
       "TripletPredTraining____mars_gym_model_b____d387...            0.63   \n",
       "TripletPredTraining____mars_gym_model_b____8ce4...            0.61   \n",
       "TripletPredTraining____mars_gym_model_b____ed5e...            1.00   \n",
       "TripletPredTraining____mars_gym_model_b____42ea...            0.59   \n",
       "TripletPredTraining____mars_gym_model_b____d7be...            0.60   \n",
       "...                                                            ...   \n",
       "SupervisedModelTraining____mars_gym_model_b____...            0.39   \n",
       "SupervisedModelTraining____mars_gym_model_b____...            0.52   \n",
       "TripletPredTraining____mars_gym_model_b____c8f9...            0.54   \n",
       "TripletPredTraining____mars_gym_model_b____3437...            0.96   \n",
       "TripletPredTraining____mars_gym_model_b____9699...            0.63   \n",
       "\n",
       "                                                                                                model  \n",
       "path                                                                                                   \n",
       "TripletPredTraining____mars_gym_model_b____d387...  TripletPredTraining____mars_gym_model_b____d38...  \n",
       "TripletPredTraining____mars_gym_model_b____8ce4...  TripletPredTraining____mars_gym_model_b____8ce...  \n",
       "TripletPredTraining____mars_gym_model_b____ed5e...  TripletPredTraining____mars_gym_model_b____ed5...  \n",
       "TripletPredTraining____mars_gym_model_b____42ea...  TripletPredTraining____mars_gym_model_b____42e...  \n",
       "TripletPredTraining____mars_gym_model_b____d7be...  TripletPredTraining____mars_gym_model_b____d7b...  \n",
       "...                                                                                               ...  \n",
       "SupervisedModelTraining____mars_gym_model_b____...  SupervisedModelTraining____mars_gym_model_b___...  \n",
       "SupervisedModelTraining____mars_gym_model_b____...  SupervisedModelTraining____mars_gym_model_b___...  \n",
       "TripletPredTraining____mars_gym_model_b____c8f9...  TripletPredTraining____mars_gym_model_b____c8f...  \n",
       "TripletPredTraining____mars_gym_model_b____3437...  TripletPredTraining____mars_gym_model_b____343...  \n",
       "TripletPredTraining____mars_gym_model_b____9699...  TripletPredTraining____mars_gym_model_b____969...  \n",
       "\n",
       "[86 rows x 14 columns]"
      ]
     },
     "execution_count": 10,
     "metadata": {},
     "output_type": "execute_result"
    }
   ],
   "source": [
    "metrics"
   ]
  },
  {
   "cell_type": "markdown",
   "metadata": {},
   "source": [
    "## Data"
   ]
  },
  {
   "cell_type": "code",
   "execution_count": 36,
   "metadata": {},
   "outputs": [
    {
     "data": {
      "text/html": [
       "<div>\n",
       "<style scoped>\n",
       "    .dataframe tbody tr th:only-of-type {\n",
       "        vertical-align: middle;\n",
       "    }\n",
       "\n",
       "    .dataframe tbody tr th {\n",
       "        vertical-align: top;\n",
       "    }\n",
       "\n",
       "    .dataframe thead th {\n",
       "        text-align: right;\n",
       "    }\n",
       "</style>\n",
       "<table border=\"1\" class=\"dataframe\">\n",
       "  <thead>\n",
       "    <tr style=\"text-align: right;\">\n",
       "      <th></th>\n",
       "      <th>path_x</th>\n",
       "      <th>model_task</th>\n",
       "      <th>count</th>\n",
       "      <th>mean_average_precision</th>\n",
       "      <th>precision_at_1</th>\n",
       "      <th>mrr_at_5</th>\n",
       "      <th>mrr_at_10</th>\n",
       "      <th>ndcg_at_5</th>\n",
       "      <th>ndcg_at_10</th>\n",
       "      <th>ndcg_at_15</th>\n",
       "      <th>...</th>\n",
       "      <th>recommender_extra_params.path_item_embedding</th>\n",
       "      <th>recommender_extra_params.freeze_embedding</th>\n",
       "      <th>recommender_extra_params.num_blocks</th>\n",
       "      <th>recommender_extra_params.num_heads</th>\n",
       "      <th>recommender_extra_params.hist_size</th>\n",
       "      <th>recommender_extra_params.p_L</th>\n",
       "      <th>recommender_extra_params.p_d</th>\n",
       "      <th>recommender_extra_params.p_nh</th>\n",
       "      <th>recommender_extra_params.p_nv</th>\n",
       "      <th>model_class</th>\n",
       "    </tr>\n",
       "  </thead>\n",
       "  <tbody>\n",
       "    <tr>\n",
       "      <th>0</th>\n",
       "      <td>TripletPredTraining____mars_gym_model_b____d38...</td>\n",
       "      <td>TripletPredTraining____mars_gym_model_b____d38...</td>\n",
       "      <td>3129</td>\n",
       "      <td>0.42</td>\n",
       "      <td>0.34</td>\n",
       "      <td>0.40</td>\n",
       "      <td>0.41</td>\n",
       "      <td>0.46</td>\n",
       "      <td>0.47</td>\n",
       "      <td>0.48</td>\n",
       "      <td>...</td>\n",
       "      <td>NaN</td>\n",
       "      <td>NaN</td>\n",
       "      <td>nan</td>\n",
       "      <td>nan</td>\n",
       "      <td>nan</td>\n",
       "      <td>nan</td>\n",
       "      <td>nan</td>\n",
       "      <td>nan</td>\n",
       "      <td>nan</td>\n",
       "      <td>TripletPredTraining.None</td>\n",
       "    </tr>\n",
       "    <tr>\n",
       "      <th>1</th>\n",
       "      <td>TripletPredTraining____mars_gym_model_b____8ce...</td>\n",
       "      <td>TripletPredTraining____mars_gym_model_b____8ce...</td>\n",
       "      <td>3129</td>\n",
       "      <td>0.23</td>\n",
       "      <td>0.18</td>\n",
       "      <td>0.21</td>\n",
       "      <td>0.21</td>\n",
       "      <td>0.23</td>\n",
       "      <td>0.24</td>\n",
       "      <td>0.25</td>\n",
       "      <td>...</td>\n",
       "      <td>NaN</td>\n",
       "      <td>NaN</td>\n",
       "      <td>nan</td>\n",
       "      <td>nan</td>\n",
       "      <td>nan</td>\n",
       "      <td>nan</td>\n",
       "      <td>nan</td>\n",
       "      <td>nan</td>\n",
       "      <td>nan</td>\n",
       "      <td>TripletPredTraining.None</td>\n",
       "    </tr>\n",
       "    <tr>\n",
       "      <th>2</th>\n",
       "      <td>TripletPredTraining____mars_gym_model_b____ed5...</td>\n",
       "      <td>TripletPredTraining____mars_gym_model_b____ed5...</td>\n",
       "      <td>3129</td>\n",
       "      <td>0.62</td>\n",
       "      <td>0.51</td>\n",
       "      <td>0.61</td>\n",
       "      <td>0.62</td>\n",
       "      <td>0.71</td>\n",
       "      <td>0.72</td>\n",
       "      <td>0.73</td>\n",
       "      <td>...</td>\n",
       "      <td>NaN</td>\n",
       "      <td>NaN</td>\n",
       "      <td>nan</td>\n",
       "      <td>nan</td>\n",
       "      <td>nan</td>\n",
       "      <td>nan</td>\n",
       "      <td>nan</td>\n",
       "      <td>nan</td>\n",
       "      <td>nan</td>\n",
       "      <td>TripletPredTraining.None</td>\n",
       "    </tr>\n",
       "    <tr>\n",
       "      <th>3</th>\n",
       "      <td>TripletPredTraining____mars_gym_model_b____42e...</td>\n",
       "      <td>TripletPredTraining____mars_gym_model_b____42e...</td>\n",
       "      <td>3129</td>\n",
       "      <td>0.23</td>\n",
       "      <td>0.18</td>\n",
       "      <td>0.21</td>\n",
       "      <td>0.21</td>\n",
       "      <td>0.23</td>\n",
       "      <td>0.24</td>\n",
       "      <td>0.25</td>\n",
       "      <td>...</td>\n",
       "      <td>NaN</td>\n",
       "      <td>NaN</td>\n",
       "      <td>nan</td>\n",
       "      <td>nan</td>\n",
       "      <td>nan</td>\n",
       "      <td>nan</td>\n",
       "      <td>nan</td>\n",
       "      <td>nan</td>\n",
       "      <td>nan</td>\n",
       "      <td>TripletPredTraining.None</td>\n",
       "    </tr>\n",
       "    <tr>\n",
       "      <th>4</th>\n",
       "      <td>TripletPredTraining____mars_gym_model_b____d7b...</td>\n",
       "      <td>TripletPredTraining____mars_gym_model_b____d7b...</td>\n",
       "      <td>3129</td>\n",
       "      <td>0.09</td>\n",
       "      <td>0.04</td>\n",
       "      <td>0.07</td>\n",
       "      <td>0.07</td>\n",
       "      <td>0.09</td>\n",
       "      <td>0.11</td>\n",
       "      <td>0.12</td>\n",
       "      <td>...</td>\n",
       "      <td>NaN</td>\n",
       "      <td>NaN</td>\n",
       "      <td>nan</td>\n",
       "      <td>nan</td>\n",
       "      <td>nan</td>\n",
       "      <td>nan</td>\n",
       "      <td>nan</td>\n",
       "      <td>nan</td>\n",
       "      <td>nan</td>\n",
       "      <td>TripletPredTraining.None</td>\n",
       "    </tr>\n",
       "  </tbody>\n",
       "</table>\n",
       "<p>5 rows × 87 columns</p>\n",
       "</div>"
      ],
      "text/plain": [
       "                                              path_x  \\\n",
       "0  TripletPredTraining____mars_gym_model_b____d38...   \n",
       "1  TripletPredTraining____mars_gym_model_b____8ce...   \n",
       "2  TripletPredTraining____mars_gym_model_b____ed5...   \n",
       "3  TripletPredTraining____mars_gym_model_b____42e...   \n",
       "4  TripletPredTraining____mars_gym_model_b____d7b...   \n",
       "\n",
       "                                          model_task  count  \\\n",
       "0  TripletPredTraining____mars_gym_model_b____d38...   3129   \n",
       "1  TripletPredTraining____mars_gym_model_b____8ce...   3129   \n",
       "2  TripletPredTraining____mars_gym_model_b____ed5...   3129   \n",
       "3  TripletPredTraining____mars_gym_model_b____42e...   3129   \n",
       "4  TripletPredTraining____mars_gym_model_b____d7b...   3129   \n",
       "\n",
       "   mean_average_precision  precision_at_1  mrr_at_5  mrr_at_10  ndcg_at_5  \\\n",
       "0                    0.42            0.34      0.40       0.41       0.46   \n",
       "1                    0.23            0.18      0.21       0.21       0.23   \n",
       "2                    0.62            0.51      0.61       0.62       0.71   \n",
       "3                    0.23            0.18      0.21       0.21       0.23   \n",
       "4                    0.09            0.04      0.07       0.07       0.09   \n",
       "\n",
       "   ndcg_at_10  ndcg_at_15  ...  recommender_extra_params.path_item_embedding  \\\n",
       "0        0.47        0.48  ...                                           NaN   \n",
       "1        0.24        0.25  ...                                           NaN   \n",
       "2        0.72        0.73  ...                                           NaN   \n",
       "3        0.24        0.25  ...                                           NaN   \n",
       "4        0.11        0.12  ...                                           NaN   \n",
       "\n",
       "   recommender_extra_params.freeze_embedding  \\\n",
       "0                                        NaN   \n",
       "1                                        NaN   \n",
       "2                                        NaN   \n",
       "3                                        NaN   \n",
       "4                                        NaN   \n",
       "\n",
       "   recommender_extra_params.num_blocks  recommender_extra_params.num_heads  \\\n",
       "0                                  nan                                 nan   \n",
       "1                                  nan                                 nan   \n",
       "2                                  nan                                 nan   \n",
       "3                                  nan                                 nan   \n",
       "4                                  nan                                 nan   \n",
       "\n",
       "  recommender_extra_params.hist_size recommender_extra_params.p_L  \\\n",
       "0                                nan                          nan   \n",
       "1                                nan                          nan   \n",
       "2                                nan                          nan   \n",
       "3                                nan                          nan   \n",
       "4                                nan                          nan   \n",
       "\n",
       "  recommender_extra_params.p_d  recommender_extra_params.p_nh  \\\n",
       "0                          nan                            nan   \n",
       "1                          nan                            nan   \n",
       "2                          nan                            nan   \n",
       "3                          nan                            nan   \n",
       "4                          nan                            nan   \n",
       "\n",
       "   recommender_extra_params.p_nv               model_class  \n",
       "0                            nan  TripletPredTraining.None  \n",
       "1                            nan  TripletPredTraining.None  \n",
       "2                            nan  TripletPredTraining.None  \n",
       "3                            nan  TripletPredTraining.None  \n",
       "4                            nan  TripletPredTraining.None  \n",
       "\n",
       "[5 rows x 87 columns]"
      ]
     },
     "execution_count": 36,
     "metadata": {},
     "output_type": "execute_result"
    }
   ],
   "source": [
    "df = metrics.reset_index().merge(params.reset_index(), left_on='model_task', right_on='path')\n",
    "df['model_class'] = df.apply(lambda row: str(row['model_task']).split(\"_\")[0] + \".\"+str(row['recommender_module_class']), axis=1)\n",
    "df.head()"
   ]
  },
  {
   "cell_type": "code",
   "execution_count": 37,
   "metadata": {},
   "outputs": [
    {
     "data": {
      "text/html": [
       "<div>\n",
       "<style scoped>\n",
       "    .dataframe tbody tr th:only-of-type {\n",
       "        vertical-align: middle;\n",
       "    }\n",
       "\n",
       "    .dataframe tbody tr th {\n",
       "        vertical-align: top;\n",
       "    }\n",
       "\n",
       "    .dataframe thead th {\n",
       "        text-align: right;\n",
       "    }\n",
       "</style>\n",
       "<table border=\"1\" class=\"dataframe\">\n",
       "  <thead>\n",
       "    <tr style=\"text-align: right;\">\n",
       "      <th></th>\n",
       "      <th>path_x</th>\n",
       "      <th>model_task</th>\n",
       "      <th>count</th>\n",
       "      <th>mean_average_precision</th>\n",
       "      <th>precision_at_1</th>\n",
       "      <th>mrr_at_5</th>\n",
       "      <th>mrr_at_10</th>\n",
       "      <th>ndcg_at_5</th>\n",
       "      <th>ndcg_at_10</th>\n",
       "      <th>ndcg_at_15</th>\n",
       "      <th>...</th>\n",
       "      <th>recommender_extra_params.path_item_embedding</th>\n",
       "      <th>recommender_extra_params.freeze_embedding</th>\n",
       "      <th>recommender_extra_params.num_blocks</th>\n",
       "      <th>recommender_extra_params.num_heads</th>\n",
       "      <th>recommender_extra_params.hist_size</th>\n",
       "      <th>recommender_extra_params.p_L</th>\n",
       "      <th>recommender_extra_params.p_d</th>\n",
       "      <th>recommender_extra_params.p_nh</th>\n",
       "      <th>recommender_extra_params.p_nv</th>\n",
       "      <th>model_class</th>\n",
       "    </tr>\n",
       "  </thead>\n",
       "  <tbody>\n",
       "    <tr>\n",
       "      <th>0</th>\n",
       "      <td>TripletPredTraining____mars_gym_model_b____d38...</td>\n",
       "      <td>TripletPredTraining____mars_gym_model_b____d38...</td>\n",
       "      <td>3129</td>\n",
       "      <td>0.42</td>\n",
       "      <td>0.34</td>\n",
       "      <td>0.40</td>\n",
       "      <td>0.41</td>\n",
       "      <td>0.46</td>\n",
       "      <td>0.47</td>\n",
       "      <td>0.48</td>\n",
       "      <td>...</td>\n",
       "      <td>NaN</td>\n",
       "      <td>NaN</td>\n",
       "      <td>nan</td>\n",
       "      <td>nan</td>\n",
       "      <td>nan</td>\n",
       "      <td>nan</td>\n",
       "      <td>nan</td>\n",
       "      <td>nan</td>\n",
       "      <td>nan</td>\n",
       "      <td>TripletPredTraining.None</td>\n",
       "    </tr>\n",
       "    <tr>\n",
       "      <th>1</th>\n",
       "      <td>TripletPredTraining____mars_gym_model_b____8ce...</td>\n",
       "      <td>TripletPredTraining____mars_gym_model_b____8ce...</td>\n",
       "      <td>3129</td>\n",
       "      <td>0.23</td>\n",
       "      <td>0.18</td>\n",
       "      <td>0.21</td>\n",
       "      <td>0.21</td>\n",
       "      <td>0.23</td>\n",
       "      <td>0.24</td>\n",
       "      <td>0.25</td>\n",
       "      <td>...</td>\n",
       "      <td>NaN</td>\n",
       "      <td>NaN</td>\n",
       "      <td>nan</td>\n",
       "      <td>nan</td>\n",
       "      <td>nan</td>\n",
       "      <td>nan</td>\n",
       "      <td>nan</td>\n",
       "      <td>nan</td>\n",
       "      <td>nan</td>\n",
       "      <td>TripletPredTraining.None</td>\n",
       "    </tr>\n",
       "    <tr>\n",
       "      <th>2</th>\n",
       "      <td>TripletPredTraining____mars_gym_model_b____ed5...</td>\n",
       "      <td>TripletPredTraining____mars_gym_model_b____ed5...</td>\n",
       "      <td>3129</td>\n",
       "      <td>0.62</td>\n",
       "      <td>0.51</td>\n",
       "      <td>0.61</td>\n",
       "      <td>0.62</td>\n",
       "      <td>0.71</td>\n",
       "      <td>0.72</td>\n",
       "      <td>0.73</td>\n",
       "      <td>...</td>\n",
       "      <td>NaN</td>\n",
       "      <td>NaN</td>\n",
       "      <td>nan</td>\n",
       "      <td>nan</td>\n",
       "      <td>nan</td>\n",
       "      <td>nan</td>\n",
       "      <td>nan</td>\n",
       "      <td>nan</td>\n",
       "      <td>nan</td>\n",
       "      <td>TripletPredTraining.None</td>\n",
       "    </tr>\n",
       "    <tr>\n",
       "      <th>3</th>\n",
       "      <td>TripletPredTraining____mars_gym_model_b____42e...</td>\n",
       "      <td>TripletPredTraining____mars_gym_model_b____42e...</td>\n",
       "      <td>3129</td>\n",
       "      <td>0.23</td>\n",
       "      <td>0.18</td>\n",
       "      <td>0.21</td>\n",
       "      <td>0.21</td>\n",
       "      <td>0.23</td>\n",
       "      <td>0.24</td>\n",
       "      <td>0.25</td>\n",
       "      <td>...</td>\n",
       "      <td>NaN</td>\n",
       "      <td>NaN</td>\n",
       "      <td>nan</td>\n",
       "      <td>nan</td>\n",
       "      <td>nan</td>\n",
       "      <td>nan</td>\n",
       "      <td>nan</td>\n",
       "      <td>nan</td>\n",
       "      <td>nan</td>\n",
       "      <td>TripletPredTraining.None</td>\n",
       "    </tr>\n",
       "    <tr>\n",
       "      <th>4</th>\n",
       "      <td>TripletPredTraining____mars_gym_model_b____d7b...</td>\n",
       "      <td>TripletPredTraining____mars_gym_model_b____d7b...</td>\n",
       "      <td>3129</td>\n",
       "      <td>0.09</td>\n",
       "      <td>0.04</td>\n",
       "      <td>0.07</td>\n",
       "      <td>0.07</td>\n",
       "      <td>0.09</td>\n",
       "      <td>0.11</td>\n",
       "      <td>0.12</td>\n",
       "      <td>...</td>\n",
       "      <td>NaN</td>\n",
       "      <td>NaN</td>\n",
       "      <td>nan</td>\n",
       "      <td>nan</td>\n",
       "      <td>nan</td>\n",
       "      <td>nan</td>\n",
       "      <td>nan</td>\n",
       "      <td>nan</td>\n",
       "      <td>nan</td>\n",
       "      <td>TripletPredTraining.None</td>\n",
       "    </tr>\n",
       "    <tr>\n",
       "      <th>...</th>\n",
       "      <td>...</td>\n",
       "      <td>...</td>\n",
       "      <td>...</td>\n",
       "      <td>...</td>\n",
       "      <td>...</td>\n",
       "      <td>...</td>\n",
       "      <td>...</td>\n",
       "      <td>...</td>\n",
       "      <td>...</td>\n",
       "      <td>...</td>\n",
       "      <td>...</td>\n",
       "      <td>...</td>\n",
       "      <td>...</td>\n",
       "      <td>...</td>\n",
       "      <td>...</td>\n",
       "      <td>...</td>\n",
       "      <td>...</td>\n",
       "      <td>...</td>\n",
       "      <td>...</td>\n",
       "      <td>...</td>\n",
       "      <td>...</td>\n",
       "    </tr>\n",
       "    <tr>\n",
       "      <th>79</th>\n",
       "      <td>SupervisedModelTraining____mars_gym_model_b___...</td>\n",
       "      <td>SupervisedModelTraining____mars_gym_model_b___...</td>\n",
       "      <td>2862</td>\n",
       "      <td>0.67</td>\n",
       "      <td>0.60</td>\n",
       "      <td>0.66</td>\n",
       "      <td>0.67</td>\n",
       "      <td>0.71</td>\n",
       "      <td>0.73</td>\n",
       "      <td>0.74</td>\n",
       "      <td>...</td>\n",
       "      <td>False</td>\n",
       "      <td>False</td>\n",
       "      <td>nan</td>\n",
       "      <td>nan</td>\n",
       "      <td>nan</td>\n",
       "      <td>nan</td>\n",
       "      <td>nan</td>\n",
       "      <td>nan</td>\n",
       "      <td>nan</td>\n",
       "      <td>SupervisedModelTraining.model.NARMModel</td>\n",
       "    </tr>\n",
       "    <tr>\n",
       "      <th>80</th>\n",
       "      <td>SupervisedModelTraining____mars_gym_model_b___...</td>\n",
       "      <td>SupervisedModelTraining____mars_gym_model_b___...</td>\n",
       "      <td>4539</td>\n",
       "      <td>0.46</td>\n",
       "      <td>0.36</td>\n",
       "      <td>0.43</td>\n",
       "      <td>0.44</td>\n",
       "      <td>0.50</td>\n",
       "      <td>0.53</td>\n",
       "      <td>0.54</td>\n",
       "      <td>...</td>\n",
       "      <td>False</td>\n",
       "      <td>False</td>\n",
       "      <td>2.00</td>\n",
       "      <td>1.00</td>\n",
       "      <td>10.00</td>\n",
       "      <td>nan</td>\n",
       "      <td>nan</td>\n",
       "      <td>nan</td>\n",
       "      <td>nan</td>\n",
       "      <td>SupervisedModelTraining.model.MLSASRec</td>\n",
       "    </tr>\n",
       "    <tr>\n",
       "      <th>81</th>\n",
       "      <td>TripletPredTraining____mars_gym_model_b____c8f...</td>\n",
       "      <td>TripletPredTraining____mars_gym_model_b____c8f...</td>\n",
       "      <td>3129</td>\n",
       "      <td>0.29</td>\n",
       "      <td>0.23</td>\n",
       "      <td>0.27</td>\n",
       "      <td>0.28</td>\n",
       "      <td>0.31</td>\n",
       "      <td>0.33</td>\n",
       "      <td>0.34</td>\n",
       "      <td>...</td>\n",
       "      <td>NaN</td>\n",
       "      <td>NaN</td>\n",
       "      <td>nan</td>\n",
       "      <td>nan</td>\n",
       "      <td>nan</td>\n",
       "      <td>nan</td>\n",
       "      <td>nan</td>\n",
       "      <td>nan</td>\n",
       "      <td>nan</td>\n",
       "      <td>TripletPredTraining.None</td>\n",
       "    </tr>\n",
       "    <tr>\n",
       "      <th>82</th>\n",
       "      <td>TripletPredTraining____mars_gym_model_b____343...</td>\n",
       "      <td>TripletPredTraining____mars_gym_model_b____343...</td>\n",
       "      <td>3129</td>\n",
       "      <td>0.42</td>\n",
       "      <td>0.34</td>\n",
       "      <td>0.38</td>\n",
       "      <td>0.39</td>\n",
       "      <td>0.42</td>\n",
       "      <td>0.46</td>\n",
       "      <td>0.50</td>\n",
       "      <td>...</td>\n",
       "      <td>NaN</td>\n",
       "      <td>NaN</td>\n",
       "      <td>nan</td>\n",
       "      <td>nan</td>\n",
       "      <td>nan</td>\n",
       "      <td>nan</td>\n",
       "      <td>nan</td>\n",
       "      <td>nan</td>\n",
       "      <td>nan</td>\n",
       "      <td>TripletPredTraining.None</td>\n",
       "    </tr>\n",
       "    <tr>\n",
       "      <th>83</th>\n",
       "      <td>TripletPredTraining____mars_gym_model_b____969...</td>\n",
       "      <td>TripletPredTraining____mars_gym_model_b____969...</td>\n",
       "      <td>3129</td>\n",
       "      <td>0.41</td>\n",
       "      <td>0.33</td>\n",
       "      <td>0.39</td>\n",
       "      <td>0.40</td>\n",
       "      <td>0.46</td>\n",
       "      <td>0.47</td>\n",
       "      <td>0.47</td>\n",
       "      <td>...</td>\n",
       "      <td>NaN</td>\n",
       "      <td>NaN</td>\n",
       "      <td>nan</td>\n",
       "      <td>nan</td>\n",
       "      <td>nan</td>\n",
       "      <td>nan</td>\n",
       "      <td>nan</td>\n",
       "      <td>nan</td>\n",
       "      <td>nan</td>\n",
       "      <td>TripletPredTraining.None</td>\n",
       "    </tr>\n",
       "  </tbody>\n",
       "</table>\n",
       "<p>84 rows × 87 columns</p>\n",
       "</div>"
      ],
      "text/plain": [
       "                                               path_x  \\\n",
       "0   TripletPredTraining____mars_gym_model_b____d38...   \n",
       "1   TripletPredTraining____mars_gym_model_b____8ce...   \n",
       "2   TripletPredTraining____mars_gym_model_b____ed5...   \n",
       "3   TripletPredTraining____mars_gym_model_b____42e...   \n",
       "4   TripletPredTraining____mars_gym_model_b____d7b...   \n",
       "..                                                ...   \n",
       "79  SupervisedModelTraining____mars_gym_model_b___...   \n",
       "80  SupervisedModelTraining____mars_gym_model_b___...   \n",
       "81  TripletPredTraining____mars_gym_model_b____c8f...   \n",
       "82  TripletPredTraining____mars_gym_model_b____343...   \n",
       "83  TripletPredTraining____mars_gym_model_b____969...   \n",
       "\n",
       "                                           model_task  count  \\\n",
       "0   TripletPredTraining____mars_gym_model_b____d38...   3129   \n",
       "1   TripletPredTraining____mars_gym_model_b____8ce...   3129   \n",
       "2   TripletPredTraining____mars_gym_model_b____ed5...   3129   \n",
       "3   TripletPredTraining____mars_gym_model_b____42e...   3129   \n",
       "4   TripletPredTraining____mars_gym_model_b____d7b...   3129   \n",
       "..                                                ...    ...   \n",
       "79  SupervisedModelTraining____mars_gym_model_b___...   2862   \n",
       "80  SupervisedModelTraining____mars_gym_model_b___...   4539   \n",
       "81  TripletPredTraining____mars_gym_model_b____c8f...   3129   \n",
       "82  TripletPredTraining____mars_gym_model_b____343...   3129   \n",
       "83  TripletPredTraining____mars_gym_model_b____969...   3129   \n",
       "\n",
       "    mean_average_precision  precision_at_1  mrr_at_5  mrr_at_10  ndcg_at_5  \\\n",
       "0                     0.42            0.34      0.40       0.41       0.46   \n",
       "1                     0.23            0.18      0.21       0.21       0.23   \n",
       "2                     0.62            0.51      0.61       0.62       0.71   \n",
       "3                     0.23            0.18      0.21       0.21       0.23   \n",
       "4                     0.09            0.04      0.07       0.07       0.09   \n",
       "..                     ...             ...       ...        ...        ...   \n",
       "79                    0.67            0.60      0.66       0.67       0.71   \n",
       "80                    0.46            0.36      0.43       0.44       0.50   \n",
       "81                    0.29            0.23      0.27       0.28       0.31   \n",
       "82                    0.42            0.34      0.38       0.39       0.42   \n",
       "83                    0.41            0.33      0.39       0.40       0.46   \n",
       "\n",
       "    ndcg_at_10  ndcg_at_15  ...  recommender_extra_params.path_item_embedding  \\\n",
       "0         0.47        0.48  ...                                           NaN   \n",
       "1         0.24        0.25  ...                                           NaN   \n",
       "2         0.72        0.73  ...                                           NaN   \n",
       "3         0.24        0.25  ...                                           NaN   \n",
       "4         0.11        0.12  ...                                           NaN   \n",
       "..         ...         ...  ...                                           ...   \n",
       "79        0.73        0.74  ...                                         False   \n",
       "80        0.53        0.54  ...                                         False   \n",
       "81        0.33        0.34  ...                                           NaN   \n",
       "82        0.46        0.50  ...                                           NaN   \n",
       "83        0.47        0.47  ...                                           NaN   \n",
       "\n",
       "    recommender_extra_params.freeze_embedding  \\\n",
       "0                                         NaN   \n",
       "1                                         NaN   \n",
       "2                                         NaN   \n",
       "3                                         NaN   \n",
       "4                                         NaN   \n",
       "..                                        ...   \n",
       "79                                      False   \n",
       "80                                      False   \n",
       "81                                        NaN   \n",
       "82                                        NaN   \n",
       "83                                        NaN   \n",
       "\n",
       "    recommender_extra_params.num_blocks  recommender_extra_params.num_heads  \\\n",
       "0                                   nan                                 nan   \n",
       "1                                   nan                                 nan   \n",
       "2                                   nan                                 nan   \n",
       "3                                   nan                                 nan   \n",
       "4                                   nan                                 nan   \n",
       "..                                  ...                                 ...   \n",
       "79                                  nan                                 nan   \n",
       "80                                 2.00                                1.00   \n",
       "81                                  nan                                 nan   \n",
       "82                                  nan                                 nan   \n",
       "83                                  nan                                 nan   \n",
       "\n",
       "   recommender_extra_params.hist_size recommender_extra_params.p_L  \\\n",
       "0                                 nan                          nan   \n",
       "1                                 nan                          nan   \n",
       "2                                 nan                          nan   \n",
       "3                                 nan                          nan   \n",
       "4                                 nan                          nan   \n",
       "..                                ...                          ...   \n",
       "79                                nan                          nan   \n",
       "80                              10.00                          nan   \n",
       "81                                nan                          nan   \n",
       "82                                nan                          nan   \n",
       "83                                nan                          nan   \n",
       "\n",
       "   recommender_extra_params.p_d  recommender_extra_params.p_nh  \\\n",
       "0                           nan                            nan   \n",
       "1                           nan                            nan   \n",
       "2                           nan                            nan   \n",
       "3                           nan                            nan   \n",
       "4                           nan                            nan   \n",
       "..                          ...                            ...   \n",
       "79                          nan                            nan   \n",
       "80                          nan                            nan   \n",
       "81                          nan                            nan   \n",
       "82                          nan                            nan   \n",
       "83                          nan                            nan   \n",
       "\n",
       "    recommender_extra_params.p_nv                              model_class  \n",
       "0                             nan                 TripletPredTraining.None  \n",
       "1                             nan                 TripletPredTraining.None  \n",
       "2                             nan                 TripletPredTraining.None  \n",
       "3                             nan                 TripletPredTraining.None  \n",
       "4                             nan                 TripletPredTraining.None  \n",
       "..                            ...                                      ...  \n",
       "79                            nan  SupervisedModelTraining.model.NARMModel  \n",
       "80                            nan   SupervisedModelTraining.model.MLSASRec  \n",
       "81                            nan                 TripletPredTraining.None  \n",
       "82                            nan                 TripletPredTraining.None  \n",
       "83                            nan                 TripletPredTraining.None  \n",
       "\n",
       "[84 rows x 87 columns]"
      ]
     },
     "execution_count": 37,
     "metadata": {},
     "output_type": "execute_result"
    }
   ],
   "source": [
    "df.shape\n",
    "df"
   ]
  },
  {
   "cell_type": "code",
   "execution_count": 38,
   "metadata": {
    "scrolled": false
   },
   "outputs": [
    {
     "data": {
      "text/plain": [
       "Index(['path_x', 'model_task', 'count', 'mean_average_precision',\n",
       "       'precision_at_1', 'mrr_at_5', 'mrr_at_10', 'ndcg_at_5', 'ndcg_at_10',\n",
       "       'ndcg_at_15', 'ndcg_at_20', 'ndcg_at_50', 'coverage_at_5',\n",
       "       'coverage_at_20', 'model_x', 'path_y', 'project', 'sample_size',\n",
       "       'minimum_interactions', 'session_test_size', 'test_size',\n",
       "       'dataset_split_method', 'test_split_type', 'val_size', 'n_splits',\n",
       "       'split_index', 'sampling_strategy', 'balance_fields',\n",
       "       'use_sampling_in_validation', 'seed', 'observation',\n",
       "       'load_index_mapping_path', 'negative_proportion', 'device',\n",
       "       'batch_size', 'epochs', 'optimizer', 'learning_rate', 'loss_function',\n",
       "       'gradient_norm_clipping', 'gradient_norm_clipping_type',\n",
       "       'early_stopping_patience', 'early_stopping_min_delta', 'monitor_metric',\n",
       "       'monitor_mode', 'generator_workers', 'pin_memory', 'run_evaluate',\n",
       "       'sample_size_eval', 'metrics', 'bandit_policy_class',\n",
       "       'recommender_module_class', 'path_item_embedding', 'from_index_mapping',\n",
       "       'model_y', 'data_frames_preparation_extra_params.sample_days',\n",
       "       'data_frames_preparation_extra_params.history_window',\n",
       "       'data_frames_preparation_extra_params.column_stratification',\n",
       "       'save_item_embedding_tsv',\n",
       "       'data_frames_preparation_extra_params.max_itens_per_session',\n",
       "       'data_frames_preparation_extra_params.min_itens_interactions',\n",
       "       'data_frames_preparation_extra_params.max_relative_pos',\n",
       "       'data_frames_preparation_extra_params.pos_max_deep',\n",
       "       'data_frames_preparation_extra_params.filter_first_interaction',\n",
       "       'recommender_extra_params.n_factors',\n",
       "       'recommender_extra_params.use_normalize',\n",
       "       'recommender_extra_params.negative_random',\n",
       "       'recommender_extra_params.dropout', 'optimizer_params.weight_decay',\n",
       "       'loss_function_params.triplet_loss', 'loss_function_params.swap',\n",
       "       'loss_function_params.l2_reg', 'loss_function_params.reduction',\n",
       "       'loss_function_params.c', 'recommender_extra_params.hidden_size',\n",
       "       'recommender_extra_params.n_layers',\n",
       "       'recommender_extra_params.from_index_mapping',\n",
       "       'recommender_extra_params.path_item_embedding',\n",
       "       'recommender_extra_params.freeze_embedding',\n",
       "       'recommender_extra_params.num_blocks',\n",
       "       'recommender_extra_params.num_heads',\n",
       "       'recommender_extra_params.hist_size', 'recommender_extra_params.p_L',\n",
       "       'recommender_extra_params.p_d', 'recommender_extra_params.p_nh',\n",
       "       'recommender_extra_params.p_nv', 'model_class'],\n",
       "      dtype='object')"
      ]
     },
     "execution_count": 38,
     "metadata": {},
     "output_type": "execute_result"
    }
   ],
   "source": [
    "df.columns\n"
   ]
  },
  {
   "cell_type": "code",
   "execution_count": 39,
   "metadata": {},
   "outputs": [],
   "source": [
    "df['triplet_path'] = df['path_item_embedding'].apply(lambda x: str(x).split(\"/\")[-2] if len(str(x).split(\"/\")) > 2 else \"\")"
   ]
  },
  {
   "cell_type": "code",
   "execution_count": 40,
   "metadata": {},
   "outputs": [
    {
     "data": {
      "text/plain": [
       "Index(['path_x', 'model_task', 'count', 'mean_average_precision',\n",
       "       'precision_at_1', 'mrr_at_5', 'mrr_at_10', 'ndcg_at_5', 'ndcg_at_10',\n",
       "       'ndcg_at_15', 'ndcg_at_20', 'ndcg_at_50', 'coverage_at_5',\n",
       "       'coverage_at_20', 'model_x', 'path_y', 'project', 'sample_size',\n",
       "       'minimum_interactions', 'session_test_size', 'test_size',\n",
       "       'dataset_split_method', 'test_split_type', 'val_size', 'n_splits',\n",
       "       'split_index', 'sampling_strategy', 'balance_fields',\n",
       "       'use_sampling_in_validation', 'seed', 'observation',\n",
       "       'load_index_mapping_path', 'negative_proportion', 'device',\n",
       "       'batch_size', 'epochs', 'optimizer', 'learning_rate', 'loss_function',\n",
       "       'gradient_norm_clipping', 'gradient_norm_clipping_type',\n",
       "       'early_stopping_patience', 'early_stopping_min_delta', 'monitor_metric',\n",
       "       'monitor_mode', 'generator_workers', 'pin_memory', 'run_evaluate',\n",
       "       'sample_size_eval', 'metrics', 'bandit_policy_class',\n",
       "       'recommender_module_class', 'path_item_embedding', 'from_index_mapping',\n",
       "       'model_y', 'data_frames_preparation_extra_params.sample_days',\n",
       "       'data_frames_preparation_extra_params.history_window',\n",
       "       'data_frames_preparation_extra_params.column_stratification',\n",
       "       'save_item_embedding_tsv',\n",
       "       'data_frames_preparation_extra_params.max_itens_per_session',\n",
       "       'data_frames_preparation_extra_params.min_itens_interactions',\n",
       "       'data_frames_preparation_extra_params.max_relative_pos',\n",
       "       'data_frames_preparation_extra_params.pos_max_deep',\n",
       "       'data_frames_preparation_extra_params.filter_first_interaction',\n",
       "       'recommender_extra_params.n_factors',\n",
       "       'recommender_extra_params.use_normalize',\n",
       "       'recommender_extra_params.negative_random',\n",
       "       'recommender_extra_params.dropout', 'optimizer_params.weight_decay',\n",
       "       'loss_function_params.triplet_loss', 'loss_function_params.swap',\n",
       "       'loss_function_params.l2_reg', 'loss_function_params.reduction',\n",
       "       'loss_function_params.c', 'recommender_extra_params.hidden_size',\n",
       "       'recommender_extra_params.n_layers',\n",
       "       'recommender_extra_params.from_index_mapping',\n",
       "       'recommender_extra_params.path_item_embedding',\n",
       "       'recommender_extra_params.freeze_embedding',\n",
       "       'recommender_extra_params.num_blocks',\n",
       "       'recommender_extra_params.num_heads',\n",
       "       'recommender_extra_params.hist_size', 'recommender_extra_params.p_L',\n",
       "       'recommender_extra_params.p_d', 'recommender_extra_params.p_nh',\n",
       "       'recommender_extra_params.p_nv', 'model_class', 'triplet_path'],\n",
       "      dtype='object')"
      ]
     },
     "execution_count": 40,
     "metadata": {},
     "output_type": "execute_result"
    }
   ],
   "source": [
    "df.columns"
   ]
  },
  {
   "cell_type": "code",
   "execution_count": 41,
   "metadata": {},
   "outputs": [],
   "source": [
    "df = df[df['project'] == 'mercado_livre.config.mercado_livre_rnn']"
   ]
  },
  {
   "cell_type": "code",
   "execution_count": 42,
   "metadata": {},
   "outputs": [
    {
     "data": {
      "text/html": [
       "<div>\n",
       "<style scoped>\n",
       "    .dataframe tbody tr th:only-of-type {\n",
       "        vertical-align: middle;\n",
       "    }\n",
       "\n",
       "    .dataframe tbody tr th {\n",
       "        vertical-align: top;\n",
       "    }\n",
       "\n",
       "    .dataframe thead th {\n",
       "        text-align: right;\n",
       "    }\n",
       "</style>\n",
       "<table border=\"1\" class=\"dataframe\">\n",
       "  <thead>\n",
       "    <tr style=\"text-align: right;\">\n",
       "      <th></th>\n",
       "      <th>model_class</th>\n",
       "      <th>observation_x</th>\n",
       "      <th>path_x</th>\n",
       "      <th>count</th>\n",
       "      <th>mean_average_precision</th>\n",
       "      <th>precision_at_1</th>\n",
       "      <th>mrr_at_5</th>\n",
       "      <th>ndcg_at_5</th>\n",
       "      <th>mrr_at_10</th>\n",
       "      <th>ndcg_at_10</th>\n",
       "      <th>...</th>\n",
       "      <th>data_frames_preparation_extra_params.sample_days_y</th>\n",
       "      <th>data_frames_preparation_extra_params.max_itens_per_session_y</th>\n",
       "      <th>data_frames_preparation_extra_params.min_itens_interactions_y</th>\n",
       "      <th>data_frames_preparation_extra_params.max_relative_pos_y</th>\n",
       "      <th>data_frames_preparation_extra_params.pos_max_deep_y</th>\n",
       "      <th>data_frames_preparation_extra_params.filter_first_interaction_y</th>\n",
       "      <th>loss_function_params.l2_reg_y</th>\n",
       "      <th>optimizer_params.weight_decay_y</th>\n",
       "      <th>recommender_extra_params.dropout_y</th>\n",
       "      <th>recommender_extra_params.negative_random_y</th>\n",
       "    </tr>\n",
       "  </thead>\n",
       "  <tbody>\n",
       "    <tr>\n",
       "      <th>0</th>\n",
       "      <td>SupervisedModelTraining.model.NARMModel</td>\n",
       "      <td></td>\n",
       "      <td>SupervisedModelTraining____mars_gym_model_b___...</td>\n",
       "      <td>1803</td>\n",
       "      <td>0.58</td>\n",
       "      <td>0.48</td>\n",
       "      <td>0.56</td>\n",
       "      <td>0.64</td>\n",
       "      <td>0.57</td>\n",
       "      <td>0.66</td>\n",
       "      <td>...</td>\n",
       "      <td>nan</td>\n",
       "      <td>nan</td>\n",
       "      <td>nan</td>\n",
       "      <td>nan</td>\n",
       "      <td>nan</td>\n",
       "      <td>NaN</td>\n",
       "      <td>nan</td>\n",
       "      <td>nan</td>\n",
       "      <td>nan</td>\n",
       "      <td>nan</td>\n",
       "    </tr>\n",
       "    <tr>\n",
       "      <th>1</th>\n",
       "      <td>SupervisedModelTraining.model.NARMModel</td>\n",
       "      <td></td>\n",
       "      <td>SupervisedModelTraining____mars_gym_model_b___...</td>\n",
       "      <td>1803</td>\n",
       "      <td>0.48</td>\n",
       "      <td>0.40</td>\n",
       "      <td>0.46</td>\n",
       "      <td>0.52</td>\n",
       "      <td>0.47</td>\n",
       "      <td>0.55</td>\n",
       "      <td>...</td>\n",
       "      <td>nan</td>\n",
       "      <td>nan</td>\n",
       "      <td>nan</td>\n",
       "      <td>nan</td>\n",
       "      <td>nan</td>\n",
       "      <td>NaN</td>\n",
       "      <td>nan</td>\n",
       "      <td>nan</td>\n",
       "      <td>nan</td>\n",
       "      <td>nan</td>\n",
       "    </tr>\n",
       "    <tr>\n",
       "      <th>2</th>\n",
       "      <td>SupervisedModelTraining.model.NARMModel</td>\n",
       "      <td></td>\n",
       "      <td>SupervisedModelTraining____mars_gym_model_b___...</td>\n",
       "      <td>1803</td>\n",
       "      <td>0.65</td>\n",
       "      <td>0.57</td>\n",
       "      <td>0.63</td>\n",
       "      <td>0.69</td>\n",
       "      <td>0.64</td>\n",
       "      <td>0.71</td>\n",
       "      <td>...</td>\n",
       "      <td>nan</td>\n",
       "      <td>nan</td>\n",
       "      <td>nan</td>\n",
       "      <td>nan</td>\n",
       "      <td>nan</td>\n",
       "      <td>NaN</td>\n",
       "      <td>nan</td>\n",
       "      <td>nan</td>\n",
       "      <td>nan</td>\n",
       "      <td>nan</td>\n",
       "    </tr>\n",
       "    <tr>\n",
       "      <th>3</th>\n",
       "      <td>SupervisedModelTraining.model.MLSASRec</td>\n",
       "      <td></td>\n",
       "      <td>SupervisedModelTraining____mars_gym_model_b___...</td>\n",
       "      <td>4539</td>\n",
       "      <td>0.50</td>\n",
       "      <td>0.41</td>\n",
       "      <td>0.48</td>\n",
       "      <td>0.54</td>\n",
       "      <td>0.49</td>\n",
       "      <td>0.57</td>\n",
       "      <td>...</td>\n",
       "      <td>nan</td>\n",
       "      <td>nan</td>\n",
       "      <td>nan</td>\n",
       "      <td>nan</td>\n",
       "      <td>nan</td>\n",
       "      <td>NaN</td>\n",
       "      <td>nan</td>\n",
       "      <td>nan</td>\n",
       "      <td>nan</td>\n",
       "      <td>nan</td>\n",
       "    </tr>\n",
       "    <tr>\n",
       "      <th>4</th>\n",
       "      <td>SupervisedModelTraining.model.MLSASRec</td>\n",
       "      <td></td>\n",
       "      <td>SupervisedModelTraining____mars_gym_model_b___...</td>\n",
       "      <td>2862</td>\n",
       "      <td>0.62</td>\n",
       "      <td>0.54</td>\n",
       "      <td>0.60</td>\n",
       "      <td>0.66</td>\n",
       "      <td>0.61</td>\n",
       "      <td>0.68</td>\n",
       "      <td>...</td>\n",
       "      <td>nan</td>\n",
       "      <td>nan</td>\n",
       "      <td>nan</td>\n",
       "      <td>nan</td>\n",
       "      <td>nan</td>\n",
       "      <td>NaN</td>\n",
       "      <td>nan</td>\n",
       "      <td>nan</td>\n",
       "      <td>nan</td>\n",
       "      <td>nan</td>\n",
       "    </tr>\n",
       "  </tbody>\n",
       "</table>\n",
       "<p>5 rows × 21 columns</p>\n",
       "</div>"
      ],
      "text/plain": [
       "                               model_class observation_x  \\\n",
       "0  SupervisedModelTraining.model.NARMModel                 \n",
       "1  SupervisedModelTraining.model.NARMModel                 \n",
       "2  SupervisedModelTraining.model.NARMModel                 \n",
       "3   SupervisedModelTraining.model.MLSASRec                 \n",
       "4   SupervisedModelTraining.model.MLSASRec                 \n",
       "\n",
       "                                              path_x  count  \\\n",
       "0  SupervisedModelTraining____mars_gym_model_b___...   1803   \n",
       "1  SupervisedModelTraining____mars_gym_model_b___...   1803   \n",
       "2  SupervisedModelTraining____mars_gym_model_b___...   1803   \n",
       "3  SupervisedModelTraining____mars_gym_model_b___...   4539   \n",
       "4  SupervisedModelTraining____mars_gym_model_b___...   2862   \n",
       "\n",
       "   mean_average_precision  precision_at_1  mrr_at_5  ndcg_at_5  mrr_at_10  \\\n",
       "0                    0.58            0.48      0.56       0.64       0.57   \n",
       "1                    0.48            0.40      0.46       0.52       0.47   \n",
       "2                    0.65            0.57      0.63       0.69       0.64   \n",
       "3                    0.50            0.41      0.48       0.54       0.49   \n",
       "4                    0.62            0.54      0.60       0.66       0.61   \n",
       "\n",
       "   ndcg_at_10  ... data_frames_preparation_extra_params.sample_days_y  \\\n",
       "0        0.66  ...                                                nan   \n",
       "1        0.55  ...                                                nan   \n",
       "2        0.71  ...                                                nan   \n",
       "3        0.57  ...                                                nan   \n",
       "4        0.68  ...                                                nan   \n",
       "\n",
       "   data_frames_preparation_extra_params.max_itens_per_session_y  \\\n",
       "0                                                nan              \n",
       "1                                                nan              \n",
       "2                                                nan              \n",
       "3                                                nan              \n",
       "4                                                nan              \n",
       "\n",
       "   data_frames_preparation_extra_params.min_itens_interactions_y  \\\n",
       "0                                                nan               \n",
       "1                                                nan               \n",
       "2                                                nan               \n",
       "3                                                nan               \n",
       "4                                                nan               \n",
       "\n",
       "   data_frames_preparation_extra_params.max_relative_pos_y  \\\n",
       "0                                                nan         \n",
       "1                                                nan         \n",
       "2                                                nan         \n",
       "3                                                nan         \n",
       "4                                                nan         \n",
       "\n",
       "   data_frames_preparation_extra_params.pos_max_deep_y  \\\n",
       "0                                                nan     \n",
       "1                                                nan     \n",
       "2                                                nan     \n",
       "3                                                nan     \n",
       "4                                                nan     \n",
       "\n",
       "   data_frames_preparation_extra_params.filter_first_interaction_y  \\\n",
       "0                                                NaN                 \n",
       "1                                                NaN                 \n",
       "2                                                NaN                 \n",
       "3                                                NaN                 \n",
       "4                                                NaN                 \n",
       "\n",
       "  loss_function_params.l2_reg_y  optimizer_params.weight_decay_y  \\\n",
       "0                           nan                              nan   \n",
       "1                           nan                              nan   \n",
       "2                           nan                              nan   \n",
       "3                           nan                              nan   \n",
       "4                           nan                              nan   \n",
       "\n",
       "   recommender_extra_params.dropout_y  \\\n",
       "0                                 nan   \n",
       "1                                 nan   \n",
       "2                                 nan   \n",
       "3                                 nan   \n",
       "4                                 nan   \n",
       "\n",
       "   recommender_extra_params.negative_random_y  \n",
       "0                                         nan  \n",
       "1                                         nan  \n",
       "2                                         nan  \n",
       "3                                         nan  \n",
       "4                                         nan  \n",
       "\n",
       "[5 rows x 21 columns]"
      ]
     },
     "execution_count": 42,
     "metadata": {},
     "output_type": "execute_result"
    }
   ],
   "source": [
    "#df['use_embedding'] = (df['recommender_extra_params.path_item_embedding'].fillna(False) != False)\n",
    "\n",
    "df = df.merge(params.reset_index(), left_on='triplet_path', right_on='path', how='left')\n",
    "\n",
    "columns = [\n",
    "    'model_class',\n",
    "    'observation_x',\n",
    "    'path_x',\n",
    "    'count',\n",
    "    \"mean_average_precision\", \"precision_at_1\", \"mrr_at_5\", \"ndcg_at_5\", \"mrr_at_10\", \"ndcg_at_10\",\n",
    "    'triplet_path',\n",
    "    'data_frames_preparation_extra_params.sample_days_y', \n",
    "    'data_frames_preparation_extra_params.max_itens_per_session_y',\n",
    "    'data_frames_preparation_extra_params.min_itens_interactions_y',\n",
    "    'data_frames_preparation_extra_params.max_relative_pos_y',\n",
    "    'data_frames_preparation_extra_params.pos_max_deep_y',\n",
    "    'data_frames_preparation_extra_params.filter_first_interaction_y',\n",
    "    'loss_function_params.l2_reg_y',\n",
    "    'optimizer_params.weight_decay_y',\n",
    "    'recommender_extra_params.dropout_y',\n",
    "    'recommender_extra_params.negative_random_y'\n",
    "    ]\n",
    "\n",
    "df_metrics = df[columns]\n",
    "df_metrics.head()"
   ]
  },
  {
   "cell_type": "code",
   "execution_count": 43,
   "metadata": {},
   "outputs": [
    {
     "data": {
      "text/html": [
       "<style  type=\"text/css\" >\n",
       "    #T_d0ef3380_2024_11eb_aedc_c100596128d3row0_col4 {\n",
       "            width:  10em;\n",
       "             height:  80%;\n",
       "            background:  linear-gradient(90deg, transparent 50.0%, #5fba7d 50.0%, #5fba7d 65.9%, transparent 65.9%);\n",
       "        }    #T_d0ef3380_2024_11eb_aedc_c100596128d3row0_col5 {\n",
       "            width:  10em;\n",
       "             height:  80%;\n",
       "            background:  linear-gradient(90deg, transparent 50.0%, #5fba7d 50.0%, #5fba7d 59.5%, transparent 59.5%);\n",
       "        }    #T_d0ef3380_2024_11eb_aedc_c100596128d3row0_col6 {\n",
       "            width:  10em;\n",
       "             height:  80%;\n",
       "            background:  linear-gradient(90deg, transparent 50.0%, #5fba7d 50.0%, #5fba7d 63.7%, transparent 63.7%);\n",
       "        }    #T_d0ef3380_2024_11eb_aedc_c100596128d3row0_col7 {\n",
       "            width:  10em;\n",
       "             height:  80%;\n",
       "            background:  linear-gradient(90deg, transparent 50.0%, #5fba7d 50.0%, #5fba7d 67.2%, transparent 67.2%);\n",
       "        }    #T_d0ef3380_2024_11eb_aedc_c100596128d3row0_col8 {\n",
       "            width:  10em;\n",
       "             height:  80%;\n",
       "            background:  linear-gradient(90deg, transparent 50.0%, #5fba7d 50.0%, #5fba7d 64.7%, transparent 64.7%);\n",
       "        }    #T_d0ef3380_2024_11eb_aedc_c100596128d3row0_col9 {\n",
       "            width:  10em;\n",
       "             height:  80%;\n",
       "            background:  linear-gradient(90deg, transparent 50.0%, #5fba7d 50.0%, #5fba7d 69.6%, transparent 69.6%);\n",
       "        }    #T_d0ef3380_2024_11eb_aedc_c100596128d3row1_col4 {\n",
       "            width:  10em;\n",
       "             height:  80%;\n",
       "            background:  linear-gradient(90deg, transparent 50.0%, #5fba7d 50.0%, #5fba7d 70.6%, transparent 70.6%);\n",
       "        }    #T_d0ef3380_2024_11eb_aedc_c100596128d3row1_col5 {\n",
       "            width:  10em;\n",
       "             height:  80%;\n",
       "            background:  linear-gradient(90deg, transparent 50.0%, #5fba7d 50.0%, #5fba7d 65.9%, transparent 65.9%);\n",
       "        }    #T_d0ef3380_2024_11eb_aedc_c100596128d3row1_col6 {\n",
       "            width:  10em;\n",
       "             height:  80%;\n",
       "            background:  linear-gradient(90deg, transparent 50.0%, #5fba7d 50.0%, #5fba7d 68.9%, transparent 68.9%);\n",
       "        }    #T_d0ef3380_2024_11eb_aedc_c100596128d3row1_col7 {\n",
       "            width:  10em;\n",
       "             height:  80%;\n",
       "            background:  linear-gradient(90deg, transparent 50.0%, #5fba7d 50.0%, #5fba7d 71.5%, transparent 71.5%);\n",
       "        }    #T_d0ef3380_2024_11eb_aedc_c100596128d3row1_col8 {\n",
       "            width:  10em;\n",
       "             height:  80%;\n",
       "            background:  linear-gradient(90deg, transparent 50.0%, #5fba7d 50.0%, #5fba7d 69.5%, transparent 69.5%);\n",
       "        }    #T_d0ef3380_2024_11eb_aedc_c100596128d3row1_col9 {\n",
       "            width:  10em;\n",
       "             height:  80%;\n",
       "            background:  linear-gradient(90deg, transparent 50.0%, #5fba7d 50.0%, #5fba7d 72.7%, transparent 72.7%);\n",
       "        }    #T_d0ef3380_2024_11eb_aedc_c100596128d3row2_col4 {\n",
       "            width:  10em;\n",
       "             height:  80%;\n",
       "            background:  linear-gradient(90deg, transparent 50.0%, #5fba7d 50.0%, #5fba7d 71.1%, transparent 71.1%);\n",
       "        }    #T_d0ef3380_2024_11eb_aedc_c100596128d3row2_col5 {\n",
       "            width:  10em;\n",
       "             height:  80%;\n",
       "            background:  linear-gradient(90deg, transparent 50.0%, #5fba7d 50.0%, #5fba7d 65.0%, transparent 65.0%);\n",
       "        }    #T_d0ef3380_2024_11eb_aedc_c100596128d3row2_col6 {\n",
       "            width:  10em;\n",
       "             height:  80%;\n",
       "            background:  linear-gradient(90deg, transparent 50.0%, #5fba7d 50.0%, #5fba7d 69.2%, transparent 69.2%);\n",
       "        }    #T_d0ef3380_2024_11eb_aedc_c100596128d3row2_col7 {\n",
       "            width:  10em;\n",
       "             height:  80%;\n",
       "            background:  linear-gradient(90deg, transparent 50.0%, #5fba7d 50.0%, #5fba7d 72.8%, transparent 72.8%);\n",
       "        }    #T_d0ef3380_2024_11eb_aedc_c100596128d3row2_col8 {\n",
       "            width:  10em;\n",
       "             height:  80%;\n",
       "            background:  linear-gradient(90deg, transparent 50.0%, #5fba7d 50.0%, #5fba7d 70.0%, transparent 70.0%);\n",
       "        }    #T_d0ef3380_2024_11eb_aedc_c100596128d3row2_col9 {\n",
       "            width:  10em;\n",
       "             height:  80%;\n",
       "            background:  linear-gradient(90deg, transparent 50.0%, #5fba7d 50.0%, #5fba7d 74.6%, transparent 74.6%);\n",
       "        }    #T_d0ef3380_2024_11eb_aedc_c100596128d3row3_col4 {\n",
       "            width:  10em;\n",
       "             height:  80%;\n",
       "            background:  linear-gradient(90deg, transparent 50.0%, #5fba7d 50.0%, #5fba7d 80.7%, transparent 80.7%);\n",
       "        }    #T_d0ef3380_2024_11eb_aedc_c100596128d3row3_col5 {\n",
       "            width:  10em;\n",
       "             height:  80%;\n",
       "            background:  linear-gradient(90deg, transparent 50.0%, #5fba7d 50.0%, #5fba7d 77.6%, transparent 77.6%);\n",
       "        }    #T_d0ef3380_2024_11eb_aedc_c100596128d3row3_col6 {\n",
       "            width:  10em;\n",
       "             height:  80%;\n",
       "            background:  linear-gradient(90deg, transparent 50.0%, #5fba7d 50.0%, #5fba7d 79.4%, transparent 79.4%);\n",
       "        }    #T_d0ef3380_2024_11eb_aedc_c100596128d3row3_col7 {\n",
       "            width:  10em;\n",
       "             height:  80%;\n",
       "            background:  linear-gradient(90deg, transparent 50.0%, #5fba7d 50.0%, #5fba7d 81.0%, transparent 81.0%);\n",
       "        }    #T_d0ef3380_2024_11eb_aedc_c100596128d3row3_col8 {\n",
       "            width:  10em;\n",
       "             height:  80%;\n",
       "            background:  linear-gradient(90deg, transparent 50.0%, #5fba7d 50.0%, #5fba7d 80.0%, transparent 80.0%);\n",
       "        }    #T_d0ef3380_2024_11eb_aedc_c100596128d3row3_col9 {\n",
       "            width:  10em;\n",
       "             height:  80%;\n",
       "            background:  linear-gradient(90deg, transparent 50.0%, #5fba7d 50.0%, #5fba7d 82.1%, transparent 82.1%);\n",
       "        }    #T_d0ef3380_2024_11eb_aedc_c100596128d3row4_col4 {\n",
       "            width:  10em;\n",
       "             height:  80%;\n",
       "            background:  linear-gradient(90deg, transparent 50.0%, #5fba7d 50.0%, #5fba7d 80.8%, transparent 80.8%);\n",
       "        }    #T_d0ef3380_2024_11eb_aedc_c100596128d3row4_col5 {\n",
       "            width:  10em;\n",
       "             height:  80%;\n",
       "            background:  linear-gradient(90deg, transparent 50.0%, #5fba7d 50.0%, #5fba7d 76.1%, transparent 76.1%);\n",
       "        }    #T_d0ef3380_2024_11eb_aedc_c100596128d3row4_col6 {\n",
       "            width:  10em;\n",
       "             height:  80%;\n",
       "            background:  linear-gradient(90deg, transparent 50.0%, #5fba7d 50.0%, #5fba7d 79.5%, transparent 79.5%);\n",
       "        }    #T_d0ef3380_2024_11eb_aedc_c100596128d3row4_col7 {\n",
       "            width:  10em;\n",
       "             height:  80%;\n",
       "            background:  linear-gradient(90deg, transparent 50.0%, #5fba7d 50.0%, #5fba7d 82.4%, transparent 82.4%);\n",
       "        }    #T_d0ef3380_2024_11eb_aedc_c100596128d3row4_col8 {\n",
       "            width:  10em;\n",
       "             height:  80%;\n",
       "            background:  linear-gradient(90deg, transparent 50.0%, #5fba7d 50.0%, #5fba7d 80.1%, transparent 80.1%);\n",
       "        }    #T_d0ef3380_2024_11eb_aedc_c100596128d3row4_col9 {\n",
       "            width:  10em;\n",
       "             height:  80%;\n",
       "            background:  linear-gradient(90deg, transparent 50.0%, #5fba7d 50.0%, #5fba7d 83.6%, transparent 83.6%);\n",
       "        }    #T_d0ef3380_2024_11eb_aedc_c100596128d3row5_col4 {\n",
       "            width:  10em;\n",
       "             height:  80%;\n",
       "            background:  linear-gradient(90deg, transparent 50.0%, #5fba7d 50.0%, #5fba7d 83.9%, transparent 83.9%);\n",
       "        }    #T_d0ef3380_2024_11eb_aedc_c100596128d3row5_col5 {\n",
       "            width:  10em;\n",
       "             height:  80%;\n",
       "            background:  linear-gradient(90deg, transparent 50.0%, #5fba7d 50.0%, #5fba7d 80.1%, transparent 80.1%);\n",
       "        }    #T_d0ef3380_2024_11eb_aedc_c100596128d3row5_col6 {\n",
       "            width:  10em;\n",
       "             height:  80%;\n",
       "            background:  linear-gradient(90deg, transparent 50.0%, #5fba7d 50.0%, #5fba7d 82.8%, transparent 82.8%);\n",
       "        }    #T_d0ef3380_2024_11eb_aedc_c100596128d3row5_col7 {\n",
       "            width:  10em;\n",
       "             height:  80%;\n",
       "            background:  linear-gradient(90deg, transparent 50.0%, #5fba7d 50.0%, #5fba7d 85.1%, transparent 85.1%);\n",
       "        }    #T_d0ef3380_2024_11eb_aedc_c100596128d3row5_col8 {\n",
       "            width:  10em;\n",
       "             height:  80%;\n",
       "            background:  linear-gradient(90deg, transparent 50.0%, #5fba7d 50.0%, #5fba7d 83.3%, transparent 83.3%);\n",
       "        }    #T_d0ef3380_2024_11eb_aedc_c100596128d3row5_col9 {\n",
       "            width:  10em;\n",
       "             height:  80%;\n",
       "            background:  linear-gradient(90deg, transparent 50.0%, #5fba7d 50.0%, #5fba7d 86.2%, transparent 86.2%);\n",
       "        }    #T_d0ef3380_2024_11eb_aedc_c100596128d3row6_col4 {\n",
       "            width:  10em;\n",
       "             height:  80%;\n",
       "            background:  linear-gradient(90deg, transparent 50.0%, #5fba7d 50.0%, #5fba7d 83.9%, transparent 83.9%);\n",
       "        }    #T_d0ef3380_2024_11eb_aedc_c100596128d3row6_col5 {\n",
       "            width:  10em;\n",
       "             height:  80%;\n",
       "            background:  linear-gradient(90deg, transparent 50.0%, #5fba7d 50.0%, #5fba7d 79.5%, transparent 79.5%);\n",
       "        }    #T_d0ef3380_2024_11eb_aedc_c100596128d3row6_col6 {\n",
       "            width:  10em;\n",
       "             height:  80%;\n",
       "            background:  linear-gradient(90deg, transparent 50.0%, #5fba7d 50.0%, #5fba7d 82.7%, transparent 82.7%);\n",
       "        }    #T_d0ef3380_2024_11eb_aedc_c100596128d3row6_col7 {\n",
       "            width:  10em;\n",
       "             height:  80%;\n",
       "            background:  linear-gradient(90deg, transparent 50.0%, #5fba7d 50.0%, #5fba7d 85.4%, transparent 85.4%);\n",
       "        }    #T_d0ef3380_2024_11eb_aedc_c100596128d3row6_col8 {\n",
       "            width:  10em;\n",
       "             height:  80%;\n",
       "            background:  linear-gradient(90deg, transparent 50.0%, #5fba7d 50.0%, #5fba7d 83.3%, transparent 83.3%);\n",
       "        }    #T_d0ef3380_2024_11eb_aedc_c100596128d3row6_col9 {\n",
       "            width:  10em;\n",
       "             height:  80%;\n",
       "            background:  linear-gradient(90deg, transparent 50.0%, #5fba7d 50.0%, #5fba7d 86.7%, transparent 86.7%);\n",
       "        }    #T_d0ef3380_2024_11eb_aedc_c100596128d3row7_col4 {\n",
       "            width:  10em;\n",
       "             height:  80%;\n",
       "            background:  linear-gradient(90deg, transparent 50.0%, #5fba7d 50.0%, #5fba7d 85.9%, transparent 85.9%);\n",
       "        }    #T_d0ef3380_2024_11eb_aedc_c100596128d3row7_col5 {\n",
       "            width:  10em;\n",
       "             height:  80%;\n",
       "            background:  linear-gradient(90deg, transparent 50.0%, #5fba7d 50.0%, #5fba7d 82.7%, transparent 82.7%);\n",
       "        }    #T_d0ef3380_2024_11eb_aedc_c100596128d3row7_col6 {\n",
       "            width:  10em;\n",
       "             height:  80%;\n",
       "            background:  linear-gradient(90deg, transparent 50.0%, #5fba7d 50.0%, #5fba7d 85.0%, transparent 85.0%);\n",
       "        }    #T_d0ef3380_2024_11eb_aedc_c100596128d3row7_col7 {\n",
       "            width:  10em;\n",
       "             height:  80%;\n",
       "            background:  linear-gradient(90deg, transparent 50.0%, #5fba7d 50.0%, #5fba7d 86.9%, transparent 86.9%);\n",
       "        }    #T_d0ef3380_2024_11eb_aedc_c100596128d3row7_col8 {\n",
       "            width:  10em;\n",
       "             height:  80%;\n",
       "            background:  linear-gradient(90deg, transparent 50.0%, #5fba7d 50.0%, #5fba7d 85.3%, transparent 85.3%);\n",
       "        }    #T_d0ef3380_2024_11eb_aedc_c100596128d3row7_col9 {\n",
       "            width:  10em;\n",
       "             height:  80%;\n",
       "            background:  linear-gradient(90deg, transparent 50.0%, #5fba7d 50.0%, #5fba7d 87.7%, transparent 87.7%);\n",
       "        }    #T_d0ef3380_2024_11eb_aedc_c100596128d3row8_col4 {\n",
       "            width:  10em;\n",
       "             height:  80%;\n",
       "            background:  linear-gradient(90deg, transparent 50.0%, #5fba7d 50.0%, #5fba7d 87.4%, transparent 87.4%);\n",
       "        }    #T_d0ef3380_2024_11eb_aedc_c100596128d3row8_col5 {\n",
       "            width:  10em;\n",
       "             height:  80%;\n",
       "            background:  linear-gradient(90deg, transparent 50.0%, #5fba7d 50.0%, #5fba7d 84.3%, transparent 84.3%);\n",
       "        }    #T_d0ef3380_2024_11eb_aedc_c100596128d3row8_col6 {\n",
       "            width:  10em;\n",
       "             height:  80%;\n",
       "            background:  linear-gradient(90deg, transparent 50.0%, #5fba7d 50.0%, #5fba7d 86.5%, transparent 86.5%);\n",
       "        }    #T_d0ef3380_2024_11eb_aedc_c100596128d3row8_col7 {\n",
       "            width:  10em;\n",
       "             height:  80%;\n",
       "            background:  linear-gradient(90deg, transparent 50.0%, #5fba7d 50.0%, #5fba7d 88.4%, transparent 88.4%);\n",
       "        }    #T_d0ef3380_2024_11eb_aedc_c100596128d3row8_col8 {\n",
       "            width:  10em;\n",
       "             height:  80%;\n",
       "            background:  linear-gradient(90deg, transparent 50.0%, #5fba7d 50.0%, #5fba7d 86.9%, transparent 86.9%);\n",
       "        }    #T_d0ef3380_2024_11eb_aedc_c100596128d3row8_col9 {\n",
       "            width:  10em;\n",
       "             height:  80%;\n",
       "            background:  linear-gradient(90deg, transparent 50.0%, #5fba7d 50.0%, #5fba7d 89.3%, transparent 89.3%);\n",
       "        }    #T_d0ef3380_2024_11eb_aedc_c100596128d3row9_col4 {\n",
       "            width:  10em;\n",
       "             height:  80%;\n",
       "            background:  linear-gradient(90deg, transparent 50.0%, #5fba7d 50.0%, #5fba7d 87.9%, transparent 87.9%);\n",
       "        }    #T_d0ef3380_2024_11eb_aedc_c100596128d3row9_col5 {\n",
       "            width:  10em;\n",
       "             height:  80%;\n",
       "            background:  linear-gradient(90deg, transparent 50.0%, #5fba7d 50.0%, #5fba7d 85.2%, transparent 85.2%);\n",
       "        }    #T_d0ef3380_2024_11eb_aedc_c100596128d3row9_col6 {\n",
       "            width:  10em;\n",
       "             height:  80%;\n",
       "            background:  linear-gradient(90deg, transparent 50.0%, #5fba7d 50.0%, #5fba7d 87.0%, transparent 87.0%);\n",
       "        }    #T_d0ef3380_2024_11eb_aedc_c100596128d3row9_col7 {\n",
       "            width:  10em;\n",
       "             height:  80%;\n",
       "            background:  linear-gradient(90deg, transparent 50.0%, #5fba7d 50.0%, #5fba7d 88.6%, transparent 88.6%);\n",
       "        }    #T_d0ef3380_2024_11eb_aedc_c100596128d3row9_col8 {\n",
       "            width:  10em;\n",
       "             height:  80%;\n",
       "            background:  linear-gradient(90deg, transparent 50.0%, #5fba7d 50.0%, #5fba7d 87.4%, transparent 87.4%);\n",
       "        }    #T_d0ef3380_2024_11eb_aedc_c100596128d3row9_col9 {\n",
       "            width:  10em;\n",
       "             height:  80%;\n",
       "            background:  linear-gradient(90deg, transparent 50.0%, #5fba7d 50.0%, #5fba7d 89.3%, transparent 89.3%);\n",
       "        }    #T_d0ef3380_2024_11eb_aedc_c100596128d3row10_col4 {\n",
       "            width:  10em;\n",
       "             height:  80%;\n",
       "            background:  linear-gradient(90deg, transparent 50.0%, #5fba7d 50.0%, #5fba7d 86.0%, transparent 86.0%);\n",
       "        }    #T_d0ef3380_2024_11eb_aedc_c100596128d3row10_col5 {\n",
       "            width:  10em;\n",
       "             height:  80%;\n",
       "            background:  linear-gradient(90deg, transparent 50.0%, #5fba7d 50.0%, #5fba7d 80.3%, transparent 80.3%);\n",
       "        }    #T_d0ef3380_2024_11eb_aedc_c100596128d3row10_col6 {\n",
       "            width:  10em;\n",
       "             height:  80%;\n",
       "            background:  linear-gradient(90deg, transparent 50.0%, #5fba7d 50.0%, #5fba7d 84.9%, transparent 84.9%);\n",
       "        }    #T_d0ef3380_2024_11eb_aedc_c100596128d3row10_col7 {\n",
       "            width:  10em;\n",
       "             height:  80%;\n",
       "            background:  linear-gradient(90deg, transparent 50.0%, #5fba7d 50.0%, #5fba7d 88.8%, transparent 88.8%);\n",
       "        }    #T_d0ef3380_2024_11eb_aedc_c100596128d3row10_col8 {\n",
       "            width:  10em;\n",
       "             height:  80%;\n",
       "            background:  linear-gradient(90deg, transparent 50.0%, #5fba7d 50.0%, #5fba7d 85.5%, transparent 85.5%);\n",
       "        }    #T_d0ef3380_2024_11eb_aedc_c100596128d3row10_col9 {\n",
       "            width:  10em;\n",
       "             height:  80%;\n",
       "            background:  linear-gradient(90deg, transparent 50.0%, #5fba7d 50.0%, #5fba7d 90.2%, transparent 90.2%);\n",
       "        }    #T_d0ef3380_2024_11eb_aedc_c100596128d3row11_col4 {\n",
       "            width:  10em;\n",
       "             height:  80%;\n",
       "            background:  linear-gradient(90deg, transparent 50.0%, #5fba7d 50.0%, #5fba7d 89.6%, transparent 89.6%);\n",
       "        }    #T_d0ef3380_2024_11eb_aedc_c100596128d3row11_col5 {\n",
       "            width:  10em;\n",
       "             height:  80%;\n",
       "            background:  linear-gradient(90deg, transparent 50.0%, #5fba7d 50.0%, #5fba7d 86.9%, transparent 86.9%);\n",
       "        }    #T_d0ef3380_2024_11eb_aedc_c100596128d3row11_col6 {\n",
       "            width:  10em;\n",
       "             height:  80%;\n",
       "            background:  linear-gradient(90deg, transparent 50.0%, #5fba7d 50.0%, #5fba7d 88.9%, transparent 88.9%);\n",
       "        }    #T_d0ef3380_2024_11eb_aedc_c100596128d3row11_col7 {\n",
       "            width:  10em;\n",
       "             height:  80%;\n",
       "            background:  linear-gradient(90deg, transparent 50.0%, #5fba7d 50.0%, #5fba7d 90.7%, transparent 90.7%);\n",
       "        }    #T_d0ef3380_2024_11eb_aedc_c100596128d3row11_col8 {\n",
       "            width:  10em;\n",
       "             height:  80%;\n",
       "            background:  linear-gradient(90deg, transparent 50.0%, #5fba7d 50.0%, #5fba7d 89.1%, transparent 89.1%);\n",
       "        }    #T_d0ef3380_2024_11eb_aedc_c100596128d3row11_col9 {\n",
       "            width:  10em;\n",
       "             height:  80%;\n",
       "            background:  linear-gradient(90deg, transparent 50.0%, #5fba7d 50.0%, #5fba7d 91.1%, transparent 91.1%);\n",
       "        }    #T_d0ef3380_2024_11eb_aedc_c100596128d3row12_col4 {\n",
       "            width:  10em;\n",
       "             height:  80%;\n",
       "            background:  linear-gradient(90deg, transparent 50.0%, #5fba7d 50.0%, #5fba7d 92.3%, transparent 92.3%);\n",
       "        }    #T_d0ef3380_2024_11eb_aedc_c100596128d3row12_col5 {\n",
       "            width:  10em;\n",
       "             height:  80%;\n",
       "            background:  linear-gradient(90deg, transparent 50.0%, #5fba7d 50.0%, #5fba7d 89.9%, transparent 89.9%);\n",
       "        }    #T_d0ef3380_2024_11eb_aedc_c100596128d3row12_col6 {\n",
       "            width:  10em;\n",
       "             height:  80%;\n",
       "            background:  linear-gradient(90deg, transparent 50.0%, #5fba7d 50.0%, #5fba7d 91.9%, transparent 91.9%);\n",
       "        }    #T_d0ef3380_2024_11eb_aedc_c100596128d3row12_col7 {\n",
       "            width:  10em;\n",
       "             height:  80%;\n",
       "            background:  linear-gradient(90deg, transparent 50.0%, #5fba7d 50.0%, #5fba7d 93.5%, transparent 93.5%);\n",
       "        }    #T_d0ef3380_2024_11eb_aedc_c100596128d3row12_col8 {\n",
       "            width:  10em;\n",
       "             height:  80%;\n",
       "            background:  linear-gradient(90deg, transparent 50.0%, #5fba7d 50.0%, #5fba7d 92.1%, transparent 92.1%);\n",
       "        }    #T_d0ef3380_2024_11eb_aedc_c100596128d3row12_col9 {\n",
       "            width:  10em;\n",
       "             height:  80%;\n",
       "            background:  linear-gradient(90deg, transparent 50.0%, #5fba7d 50.0%, #5fba7d 94.0%, transparent 94.0%);\n",
       "        }    #T_d0ef3380_2024_11eb_aedc_c100596128d3row13_col4 {\n",
       "            width:  10em;\n",
       "             height:  80%;\n",
       "            background:  linear-gradient(90deg, transparent 50.0%, #5fba7d 50.0%, #5fba7d 92.9%, transparent 92.9%);\n",
       "        }    #T_d0ef3380_2024_11eb_aedc_c100596128d3row13_col5 {\n",
       "            width:  10em;\n",
       "             height:  80%;\n",
       "            background:  linear-gradient(90deg, transparent 50.0%, #5fba7d 50.0%, #5fba7d 89.7%, transparent 89.7%);\n",
       "        }    #T_d0ef3380_2024_11eb_aedc_c100596128d3row13_col6 {\n",
       "            width:  10em;\n",
       "             height:  80%;\n",
       "            background:  linear-gradient(90deg, transparent 50.0%, #5fba7d 50.0%, #5fba7d 92.5%, transparent 92.5%);\n",
       "        }    #T_d0ef3380_2024_11eb_aedc_c100596128d3row13_col7 {\n",
       "            width:  10em;\n",
       "             height:  80%;\n",
       "            background:  linear-gradient(90deg, transparent 50.0%, #5fba7d 50.0%, #5fba7d 95.0%, transparent 95.0%);\n",
       "        }    #T_d0ef3380_2024_11eb_aedc_c100596128d3row13_col8 {\n",
       "            width:  10em;\n",
       "             height:  80%;\n",
       "            background:  linear-gradient(90deg, transparent 50.0%, #5fba7d 50.0%, #5fba7d 92.7%, transparent 92.7%);\n",
       "        }    #T_d0ef3380_2024_11eb_aedc_c100596128d3row13_col9 {\n",
       "            width:  10em;\n",
       "             height:  80%;\n",
       "            background:  linear-gradient(90deg, transparent 50.0%, #5fba7d 50.0%, #5fba7d 95.3%, transparent 95.3%);\n",
       "        }    #T_d0ef3380_2024_11eb_aedc_c100596128d3row14_col4 {\n",
       "            width:  10em;\n",
       "             height:  80%;\n",
       "            background:  linear-gradient(90deg, transparent 50.0%, #5fba7d 50.0%, #5fba7d 93.8%, transparent 93.8%);\n",
       "        }    #T_d0ef3380_2024_11eb_aedc_c100596128d3row14_col5 {\n",
       "            width:  10em;\n",
       "             height:  80%;\n",
       "            background:  linear-gradient(90deg, transparent 50.0%, #5fba7d 50.0%, #5fba7d 90.7%, transparent 90.7%);\n",
       "        }    #T_d0ef3380_2024_11eb_aedc_c100596128d3row14_col6 {\n",
       "            width:  10em;\n",
       "             height:  80%;\n",
       "            background:  linear-gradient(90deg, transparent 50.0%, #5fba7d 50.0%, #5fba7d 93.4%, transparent 93.4%);\n",
       "        }    #T_d0ef3380_2024_11eb_aedc_c100596128d3row14_col7 {\n",
       "            width:  10em;\n",
       "             height:  80%;\n",
       "            background:  linear-gradient(90deg, transparent 50.0%, #5fba7d 50.0%, #5fba7d 95.6%, transparent 95.6%);\n",
       "        }    #T_d0ef3380_2024_11eb_aedc_c100596128d3row14_col8 {\n",
       "            width:  10em;\n",
       "             height:  80%;\n",
       "            background:  linear-gradient(90deg, transparent 50.0%, #5fba7d 50.0%, #5fba7d 93.6%, transparent 93.6%);\n",
       "        }    #T_d0ef3380_2024_11eb_aedc_c100596128d3row14_col9 {\n",
       "            width:  10em;\n",
       "             height:  80%;\n",
       "            background:  linear-gradient(90deg, transparent 50.0%, #5fba7d 50.0%, #5fba7d 96.1%, transparent 96.1%);\n",
       "        }    #T_d0ef3380_2024_11eb_aedc_c100596128d3row15_col4 {\n",
       "            width:  10em;\n",
       "             height:  80%;\n",
       "            background:  linear-gradient(90deg, transparent 50.0%, #5fba7d 50.0%, #5fba7d 95.8%, transparent 95.8%);\n",
       "        }    #T_d0ef3380_2024_11eb_aedc_c100596128d3row15_col5 {\n",
       "            width:  10em;\n",
       "             height:  80%;\n",
       "            background:  linear-gradient(90deg, transparent 50.0%, #5fba7d 50.0%, #5fba7d 94.5%, transparent 94.5%);\n",
       "        }    #T_d0ef3380_2024_11eb_aedc_c100596128d3row15_col6 {\n",
       "            width:  10em;\n",
       "             height:  80%;\n",
       "            background:  linear-gradient(90deg, transparent 50.0%, #5fba7d 50.0%, #5fba7d 95.6%, transparent 95.6%);\n",
       "        }    #T_d0ef3380_2024_11eb_aedc_c100596128d3row15_col7 {\n",
       "            width:  10em;\n",
       "             height:  80%;\n",
       "            background:  linear-gradient(90deg, transparent 50.0%, #5fba7d 50.0%, #5fba7d 96.5%, transparent 96.5%);\n",
       "        }    #T_d0ef3380_2024_11eb_aedc_c100596128d3row15_col8 {\n",
       "            width:  10em;\n",
       "             height:  80%;\n",
       "            background:  linear-gradient(90deg, transparent 50.0%, #5fba7d 50.0%, #5fba7d 95.7%, transparent 95.7%);\n",
       "        }    #T_d0ef3380_2024_11eb_aedc_c100596128d3row15_col9 {\n",
       "            width:  10em;\n",
       "             height:  80%;\n",
       "            background:  linear-gradient(90deg, transparent 50.0%, #5fba7d 50.0%, #5fba7d 96.7%, transparent 96.7%);\n",
       "        }    #T_d0ef3380_2024_11eb_aedc_c100596128d3row16_col4 {\n",
       "            width:  10em;\n",
       "             height:  80%;\n",
       "            background:  linear-gradient(90deg, transparent 50.0%, #5fba7d 50.0%, #5fba7d 96.3%, transparent 96.3%);\n",
       "        }    #T_d0ef3380_2024_11eb_aedc_c100596128d3row16_col5 {\n",
       "            width:  10em;\n",
       "             height:  80%;\n",
       "            background:  linear-gradient(90deg, transparent 50.0%, #5fba7d 50.0%, #5fba7d 94.2%, transparent 94.2%);\n",
       "        }    #T_d0ef3380_2024_11eb_aedc_c100596128d3row16_col6 {\n",
       "            width:  10em;\n",
       "             height:  80%;\n",
       "            background:  linear-gradient(90deg, transparent 50.0%, #5fba7d 50.0%, #5fba7d 96.2%, transparent 96.2%);\n",
       "        }    #T_d0ef3380_2024_11eb_aedc_c100596128d3row16_col7 {\n",
       "            width:  10em;\n",
       "             height:  80%;\n",
       "            background:  linear-gradient(90deg, transparent 50.0%, #5fba7d 50.0%, #5fba7d 97.8%, transparent 97.8%);\n",
       "        }    #T_d0ef3380_2024_11eb_aedc_c100596128d3row16_col8 {\n",
       "            width:  10em;\n",
       "             height:  80%;\n",
       "            background:  linear-gradient(90deg, transparent 50.0%, #5fba7d 50.0%, #5fba7d 96.2%, transparent 96.2%);\n",
       "        }    #T_d0ef3380_2024_11eb_aedc_c100596128d3row16_col9 {\n",
       "            width:  10em;\n",
       "             height:  80%;\n",
       "            background:  linear-gradient(90deg, transparent 50.0%, #5fba7d 50.0%, #5fba7d 97.7%, transparent 97.7%);\n",
       "        }    #T_d0ef3380_2024_11eb_aedc_c100596128d3row17_col4 {\n",
       "            width:  10em;\n",
       "             height:  80%;\n",
       "            background:  linear-gradient(90deg, transparent 50.0%, #5fba7d 50.0%, #5fba7d 96.7%, transparent 96.7%);\n",
       "        }    #T_d0ef3380_2024_11eb_aedc_c100596128d3row17_col5 {\n",
       "            width:  10em;\n",
       "             height:  80%;\n",
       "            background:  linear-gradient(90deg, transparent 50.0%, #5fba7d 50.0%, #5fba7d 94.9%, transparent 94.9%);\n",
       "        }    #T_d0ef3380_2024_11eb_aedc_c100596128d3row17_col6 {\n",
       "            width:  10em;\n",
       "             height:  80%;\n",
       "            background:  linear-gradient(90deg, transparent 50.0%, #5fba7d 50.0%, #5fba7d 96.5%, transparent 96.5%);\n",
       "        }    #T_d0ef3380_2024_11eb_aedc_c100596128d3row17_col7 {\n",
       "            width:  10em;\n",
       "             height:  80%;\n",
       "            background:  linear-gradient(90deg, transparent 50.0%, #5fba7d 50.0%, #5fba7d 97.8%, transparent 97.8%);\n",
       "        }    #T_d0ef3380_2024_11eb_aedc_c100596128d3row17_col8 {\n",
       "            width:  10em;\n",
       "             height:  80%;\n",
       "            background:  linear-gradient(90deg, transparent 50.0%, #5fba7d 50.0%, #5fba7d 96.6%, transparent 96.6%);\n",
       "        }    #T_d0ef3380_2024_11eb_aedc_c100596128d3row17_col9 {\n",
       "            width:  10em;\n",
       "             height:  80%;\n",
       "            background:  linear-gradient(90deg, transparent 50.0%, #5fba7d 50.0%, #5fba7d 98.0%, transparent 98.0%);\n",
       "        }    #T_d0ef3380_2024_11eb_aedc_c100596128d3row18_col4 {\n",
       "            width:  10em;\n",
       "             height:  80%;\n",
       "            background:  linear-gradient(90deg, transparent 50.0%, #5fba7d 50.0%, #5fba7d 97.5%, transparent 97.5%);\n",
       "        }    #T_d0ef3380_2024_11eb_aedc_c100596128d3row18_col5 {\n",
       "            width:  10em;\n",
       "             height:  80%;\n",
       "            background:  linear-gradient(90deg, transparent 50.0%, #5fba7d 50.0%, #5fba7d 96.5%, transparent 96.5%);\n",
       "        }    #T_d0ef3380_2024_11eb_aedc_c100596128d3row18_col6 {\n",
       "            width:  10em;\n",
       "             height:  80%;\n",
       "            background:  linear-gradient(90deg, transparent 50.0%, #5fba7d 50.0%, #5fba7d 97.4%, transparent 97.4%);\n",
       "        }    #T_d0ef3380_2024_11eb_aedc_c100596128d3row18_col7 {\n",
       "            width:  10em;\n",
       "             height:  80%;\n",
       "            background:  linear-gradient(90deg, transparent 50.0%, #5fba7d 50.0%, #5fba7d 98.3%, transparent 98.3%);\n",
       "        }    #T_d0ef3380_2024_11eb_aedc_c100596128d3row18_col8 {\n",
       "            width:  10em;\n",
       "             height:  80%;\n",
       "            background:  linear-gradient(90deg, transparent 50.0%, #5fba7d 50.0%, #5fba7d 97.4%, transparent 97.4%);\n",
       "        }    #T_d0ef3380_2024_11eb_aedc_c100596128d3row18_col9 {\n",
       "            width:  10em;\n",
       "             height:  80%;\n",
       "            background:  linear-gradient(90deg, transparent 50.0%, #5fba7d 50.0%, #5fba7d 98.1%, transparent 98.1%);\n",
       "        }    #T_d0ef3380_2024_11eb_aedc_c100596128d3row19_col4 {\n",
       "            width:  10em;\n",
       "             height:  80%;\n",
       "            background:  linear-gradient(90deg, transparent 50.0%, #5fba7d 50.0%, #5fba7d 97.4%, transparent 97.4%);\n",
       "        }    #T_d0ef3380_2024_11eb_aedc_c100596128d3row19_col5 {\n",
       "            width:  10em;\n",
       "             height:  80%;\n",
       "            background:  linear-gradient(90deg, transparent 50.0%, #5fba7d 50.0%, #5fba7d 96.1%, transparent 96.1%);\n",
       "        }    #T_d0ef3380_2024_11eb_aedc_c100596128d3row19_col6 {\n",
       "            width:  10em;\n",
       "             height:  80%;\n",
       "            background:  linear-gradient(90deg, transparent 50.0%, #5fba7d 50.0%, #5fba7d 97.4%, transparent 97.4%);\n",
       "        }    #T_d0ef3380_2024_11eb_aedc_c100596128d3row19_col7 {\n",
       "            width:  10em;\n",
       "             height:  80%;\n",
       "            background:  linear-gradient(90deg, transparent 50.0%, #5fba7d 50.0%, #5fba7d 98.5%, transparent 98.5%);\n",
       "        }    #T_d0ef3380_2024_11eb_aedc_c100596128d3row19_col8 {\n",
       "            width:  10em;\n",
       "             height:  80%;\n",
       "            background:  linear-gradient(90deg, transparent 50.0%, #5fba7d 50.0%, #5fba7d 97.3%, transparent 97.3%);\n",
       "        }    #T_d0ef3380_2024_11eb_aedc_c100596128d3row19_col9 {\n",
       "            width:  10em;\n",
       "             height:  80%;\n",
       "            background:  linear-gradient(90deg, transparent 50.0%, #5fba7d 50.0%, #5fba7d 98.3%, transparent 98.3%);\n",
       "        }    #T_d0ef3380_2024_11eb_aedc_c100596128d3row20_col4 {\n",
       "            width:  10em;\n",
       "             height:  80%;\n",
       "            background:  linear-gradient(90deg, transparent 50.0%, #5fba7d 50.0%, #5fba7d 98.1%, transparent 98.1%);\n",
       "        }    #T_d0ef3380_2024_11eb_aedc_c100596128d3row20_col5 {\n",
       "            width:  10em;\n",
       "             height:  80%;\n",
       "            background:  linear-gradient(90deg, transparent 50.0%, #5fba7d 50.0%, #5fba7d 97.3%, transparent 97.3%);\n",
       "        }    #T_d0ef3380_2024_11eb_aedc_c100596128d3row20_col6 {\n",
       "            width:  10em;\n",
       "             height:  80%;\n",
       "            background:  linear-gradient(90deg, transparent 50.0%, #5fba7d 50.0%, #5fba7d 98.0%, transparent 98.0%);\n",
       "        }    #T_d0ef3380_2024_11eb_aedc_c100596128d3row20_col7 {\n",
       "            width:  10em;\n",
       "             height:  80%;\n",
       "            background:  linear-gradient(90deg, transparent 50.0%, #5fba7d 50.0%, #5fba7d 98.5%, transparent 98.5%);\n",
       "        }    #T_d0ef3380_2024_11eb_aedc_c100596128d3row20_col8 {\n",
       "            width:  10em;\n",
       "             height:  80%;\n",
       "            background:  linear-gradient(90deg, transparent 50.0%, #5fba7d 50.0%, #5fba7d 98.0%, transparent 98.0%);\n",
       "        }    #T_d0ef3380_2024_11eb_aedc_c100596128d3row20_col9 {\n",
       "            width:  10em;\n",
       "             height:  80%;\n",
       "            background:  linear-gradient(90deg, transparent 50.0%, #5fba7d 50.0%, #5fba7d 98.6%, transparent 98.6%);\n",
       "        }    #T_d0ef3380_2024_11eb_aedc_c100596128d3row21_col4 {\n",
       "            width:  10em;\n",
       "             height:  80%;\n",
       "            background:  linear-gradient(90deg, transparent 50.0%, #5fba7d 50.0%, #5fba7d 97.8%, transparent 97.8%);\n",
       "        }    #T_d0ef3380_2024_11eb_aedc_c100596128d3row21_col5 {\n",
       "            width:  10em;\n",
       "             height:  80%;\n",
       "            background:  linear-gradient(90deg, transparent 50.0%, #5fba7d 50.0%, #5fba7d 96.5%, transparent 96.5%);\n",
       "        }    #T_d0ef3380_2024_11eb_aedc_c100596128d3row21_col6 {\n",
       "            width:  10em;\n",
       "             height:  80%;\n",
       "            background:  linear-gradient(90deg, transparent 50.0%, #5fba7d 50.0%, #5fba7d 97.7%, transparent 97.7%);\n",
       "        }    #T_d0ef3380_2024_11eb_aedc_c100596128d3row21_col7 {\n",
       "            width:  10em;\n",
       "             height:  80%;\n",
       "            background:  linear-gradient(90deg, transparent 50.0%, #5fba7d 50.0%, #5fba7d 98.7%, transparent 98.7%);\n",
       "        }    #T_d0ef3380_2024_11eb_aedc_c100596128d3row21_col8 {\n",
       "            width:  10em;\n",
       "             height:  80%;\n",
       "            background:  linear-gradient(90deg, transparent 50.0%, #5fba7d 50.0%, #5fba7d 97.7%, transparent 97.7%);\n",
       "        }    #T_d0ef3380_2024_11eb_aedc_c100596128d3row21_col9 {\n",
       "            width:  10em;\n",
       "             height:  80%;\n",
       "            background:  linear-gradient(90deg, transparent 50.0%, #5fba7d 50.0%, #5fba7d 98.8%, transparent 98.8%);\n",
       "        }    #T_d0ef3380_2024_11eb_aedc_c100596128d3row22_col4 {\n",
       "            width:  10em;\n",
       "             height:  80%;\n",
       "            background:  linear-gradient(90deg, transparent 50.0%, #5fba7d 50.0%, #5fba7d 98.5%, transparent 98.5%);\n",
       "        }    #T_d0ef3380_2024_11eb_aedc_c100596128d3row22_col5 {\n",
       "            width:  10em;\n",
       "             height:  80%;\n",
       "            background:  linear-gradient(90deg, transparent 50.0%, #5fba7d 50.0%, #5fba7d 97.4%, transparent 97.4%);\n",
       "        }    #T_d0ef3380_2024_11eb_aedc_c100596128d3row22_col6 {\n",
       "            width:  10em;\n",
       "             height:  80%;\n",
       "            background:  linear-gradient(90deg, transparent 50.0%, #5fba7d 50.0%, #5fba7d 98.6%, transparent 98.6%);\n",
       "        }    #T_d0ef3380_2024_11eb_aedc_c100596128d3row22_col7 {\n",
       "            width:  10em;\n",
       "             height:  80%;\n",
       "            background:  linear-gradient(90deg, transparent 50.0%, #5fba7d 50.0%, #5fba7d 99.6%, transparent 99.6%);\n",
       "        }    #T_d0ef3380_2024_11eb_aedc_c100596128d3row22_col8 {\n",
       "            width:  10em;\n",
       "             height:  80%;\n",
       "            background:  linear-gradient(90deg, transparent 50.0%, #5fba7d 50.0%, #5fba7d 98.5%, transparent 98.5%);\n",
       "        }    #T_d0ef3380_2024_11eb_aedc_c100596128d3row22_col9 {\n",
       "            width:  10em;\n",
       "             height:  80%;\n",
       "            background:  linear-gradient(90deg, transparent 50.0%, #5fba7d 50.0%, #5fba7d 99.3%, transparent 99.3%);\n",
       "        }    #T_d0ef3380_2024_11eb_aedc_c100596128d3row23_col4 {\n",
       "            width:  10em;\n",
       "             height:  80%;\n",
       "            background:  linear-gradient(90deg, transparent 50.0%, #5fba7d 50.0%, #5fba7d 100.0%, transparent 100.0%);\n",
       "        }    #T_d0ef3380_2024_11eb_aedc_c100596128d3row23_col5 {\n",
       "            width:  10em;\n",
       "             height:  80%;\n",
       "            background:  linear-gradient(90deg, transparent 50.0%, #5fba7d 50.0%, #5fba7d 100.0%, transparent 100.0%);\n",
       "        }    #T_d0ef3380_2024_11eb_aedc_c100596128d3row23_col6 {\n",
       "            width:  10em;\n",
       "             height:  80%;\n",
       "            background:  linear-gradient(90deg, transparent 50.0%, #5fba7d 50.0%, #5fba7d 100.0%, transparent 100.0%);\n",
       "        }    #T_d0ef3380_2024_11eb_aedc_c100596128d3row23_col7 {\n",
       "            width:  10em;\n",
       "             height:  80%;\n",
       "            background:  linear-gradient(90deg, transparent 50.0%, #5fba7d 50.0%, #5fba7d 100.0%, transparent 100.0%);\n",
       "        }    #T_d0ef3380_2024_11eb_aedc_c100596128d3row23_col8 {\n",
       "            width:  10em;\n",
       "             height:  80%;\n",
       "            background:  linear-gradient(90deg, transparent 50.0%, #5fba7d 50.0%, #5fba7d 100.0%, transparent 100.0%);\n",
       "        }    #T_d0ef3380_2024_11eb_aedc_c100596128d3row23_col9 {\n",
       "            width:  10em;\n",
       "             height:  80%;\n",
       "            background:  linear-gradient(90deg, transparent 50.0%, #5fba7d 50.0%, #5fba7d 100.0%, transparent 100.0%);\n",
       "        }</style><table id=\"T_d0ef3380_2024_11eb_aedc_c100596128d3\" ><thead>    <tr>        <th class=\"blank level0\" ></th>        <th class=\"col_heading level0 col0\" >model_class</th>        <th class=\"col_heading level0 col1\" >observation_x</th>        <th class=\"col_heading level0 col2\" >path_x</th>        <th class=\"col_heading level0 col3\" >count</th>        <th class=\"col_heading level0 col4\" >mean_average_precision</th>        <th class=\"col_heading level0 col5\" >precision_at_1</th>        <th class=\"col_heading level0 col6\" >mrr_at_5</th>        <th class=\"col_heading level0 col7\" >ndcg_at_5</th>        <th class=\"col_heading level0 col8\" >mrr_at_10</th>        <th class=\"col_heading level0 col9\" >ndcg_at_10</th>        <th class=\"col_heading level0 col10\" >triplet_path</th>        <th class=\"col_heading level0 col11\" >data_frames_preparation_extra_params.sample_days_y</th>        <th class=\"col_heading level0 col12\" >data_frames_preparation_extra_params.max_itens_per_session_y</th>        <th class=\"col_heading level0 col13\" >data_frames_preparation_extra_params.min_itens_interactions_y</th>        <th class=\"col_heading level0 col14\" >data_frames_preparation_extra_params.max_relative_pos_y</th>        <th class=\"col_heading level0 col15\" >data_frames_preparation_extra_params.pos_max_deep_y</th>        <th class=\"col_heading level0 col16\" >data_frames_preparation_extra_params.filter_first_interaction_y</th>        <th class=\"col_heading level0 col17\" >loss_function_params.l2_reg_y</th>        <th class=\"col_heading level0 col18\" >optimizer_params.weight_decay_y</th>        <th class=\"col_heading level0 col19\" >recommender_extra_params.dropout_y</th>        <th class=\"col_heading level0 col20\" >recommender_extra_params.negative_random_y</th>    </tr></thead><tbody>\n",
       "                <tr>\n",
       "                        <th id=\"T_d0ef3380_2024_11eb_aedc_c100596128d3level0_row0\" class=\"row_heading level0 row0\" >10</th>\n",
       "                        <td id=\"T_d0ef3380_2024_11eb_aedc_c100596128d3row0_col0\" class=\"data row0 col0\" >SupervisedModelTraining.model.GRURecModel</td>\n",
       "                        <td id=\"T_d0ef3380_2024_11eb_aedc_c100596128d3row0_col1\" class=\"data row0 col1\" ></td>\n",
       "                        <td id=\"T_d0ef3380_2024_11eb_aedc_c100596128d3row0_col2\" class=\"data row0 col2\" >SupervisedModelTraining____mars_gym_model_b____b9deb8ea49_65f0ba539d</td>\n",
       "                        <td id=\"T_d0ef3380_2024_11eb_aedc_c100596128d3row0_col3\" class=\"data row0 col3\" >1803</td>\n",
       "                        <td id=\"T_d0ef3380_2024_11eb_aedc_c100596128d3row0_col4\" class=\"data row0 col4\" >0.214086</td>\n",
       "                        <td id=\"T_d0ef3380_2024_11eb_aedc_c100596128d3row0_col5\" class=\"data row0 col5\" >0.114254</td>\n",
       "                        <td id=\"T_d0ef3380_2024_11eb_aedc_c100596128d3row0_col6\" class=\"data row0 col6\" >0.17958</td>\n",
       "                        <td id=\"T_d0ef3380_2024_11eb_aedc_c100596128d3row0_col7\" class=\"data row0 col7\" >0.244438</td>\n",
       "                        <td id=\"T_d0ef3380_2024_11eb_aedc_c100596128d3row0_col8\" class=\"data row0 col8\" >0.19594</td>\n",
       "                        <td id=\"T_d0ef3380_2024_11eb_aedc_c100596128d3row0_col9\" class=\"data row0 col9\" >0.287101</td>\n",
       "                        <td id=\"T_d0ef3380_2024_11eb_aedc_c100596128d3row0_col10\" class=\"data row0 col10\" ></td>\n",
       "                        <td id=\"T_d0ef3380_2024_11eb_aedc_c100596128d3row0_col11\" class=\"data row0 col11\" >nan</td>\n",
       "                        <td id=\"T_d0ef3380_2024_11eb_aedc_c100596128d3row0_col12\" class=\"data row0 col12\" >nan</td>\n",
       "                        <td id=\"T_d0ef3380_2024_11eb_aedc_c100596128d3row0_col13\" class=\"data row0 col13\" >nan</td>\n",
       "                        <td id=\"T_d0ef3380_2024_11eb_aedc_c100596128d3row0_col14\" class=\"data row0 col14\" >nan</td>\n",
       "                        <td id=\"T_d0ef3380_2024_11eb_aedc_c100596128d3row0_col15\" class=\"data row0 col15\" >nan</td>\n",
       "                        <td id=\"T_d0ef3380_2024_11eb_aedc_c100596128d3row0_col16\" class=\"data row0 col16\" >nan</td>\n",
       "                        <td id=\"T_d0ef3380_2024_11eb_aedc_c100596128d3row0_col17\" class=\"data row0 col17\" >nan</td>\n",
       "                        <td id=\"T_d0ef3380_2024_11eb_aedc_c100596128d3row0_col18\" class=\"data row0 col18\" >nan</td>\n",
       "                        <td id=\"T_d0ef3380_2024_11eb_aedc_c100596128d3row0_col19\" class=\"data row0 col19\" >nan</td>\n",
       "                        <td id=\"T_d0ef3380_2024_11eb_aedc_c100596128d3row0_col20\" class=\"data row0 col20\" >nan</td>\n",
       "            </tr>\n",
       "            <tr>\n",
       "                        <th id=\"T_d0ef3380_2024_11eb_aedc_c100596128d3level0_row1\" class=\"row_heading level0 row1\" >6</th>\n",
       "                        <td id=\"T_d0ef3380_2024_11eb_aedc_c100596128d3row1_col0\" class=\"data row1 col0\" >SupervisedModelTraining.model.MLTransformerModel</td>\n",
       "                        <td id=\"T_d0ef3380_2024_11eb_aedc_c100596128d3row1_col1\" class=\"data row1 col1\" >flatten</td>\n",
       "                        <td id=\"T_d0ef3380_2024_11eb_aedc_c100596128d3row1_col2\" class=\"data row1 col2\" >SupervisedModelTraining____mars_gym_model_b____a5cd886536_56f3a1e7bc</td>\n",
       "                        <td id=\"T_d0ef3380_2024_11eb_aedc_c100596128d3row1_col3\" class=\"data row1 col3\" >1803</td>\n",
       "                        <td id=\"T_d0ef3380_2024_11eb_aedc_c100596128d3row1_col4\" class=\"data row1 col4\" >0.276802</td>\n",
       "                        <td id=\"T_d0ef3380_2024_11eb_aedc_c100596128d3row1_col5\" class=\"data row1 col5\" >0.192457</td>\n",
       "                        <td id=\"T_d0ef3380_2024_11eb_aedc_c100596128d3row1_col6\" class=\"data row1 col6\" >0.248761</td>\n",
       "                        <td id=\"T_d0ef3380_2024_11eb_aedc_c100596128d3row1_col7\" class=\"data row1 col7\" >0.304382</td>\n",
       "                        <td id=\"T_d0ef3380_2024_11eb_aedc_c100596128d3row1_col8\" class=\"data row1 col8\" >0.259604</td>\n",
       "                        <td id=\"T_d0ef3380_2024_11eb_aedc_c100596128d3row1_col9\" class=\"data row1 col9\" >0.332391</td>\n",
       "                        <td id=\"T_d0ef3380_2024_11eb_aedc_c100596128d3row1_col10\" class=\"data row1 col10\" ></td>\n",
       "                        <td id=\"T_d0ef3380_2024_11eb_aedc_c100596128d3row1_col11\" class=\"data row1 col11\" >nan</td>\n",
       "                        <td id=\"T_d0ef3380_2024_11eb_aedc_c100596128d3row1_col12\" class=\"data row1 col12\" >nan</td>\n",
       "                        <td id=\"T_d0ef3380_2024_11eb_aedc_c100596128d3row1_col13\" class=\"data row1 col13\" >nan</td>\n",
       "                        <td id=\"T_d0ef3380_2024_11eb_aedc_c100596128d3row1_col14\" class=\"data row1 col14\" >nan</td>\n",
       "                        <td id=\"T_d0ef3380_2024_11eb_aedc_c100596128d3row1_col15\" class=\"data row1 col15\" >nan</td>\n",
       "                        <td id=\"T_d0ef3380_2024_11eb_aedc_c100596128d3row1_col16\" class=\"data row1 col16\" >nan</td>\n",
       "                        <td id=\"T_d0ef3380_2024_11eb_aedc_c100596128d3row1_col17\" class=\"data row1 col17\" >nan</td>\n",
       "                        <td id=\"T_d0ef3380_2024_11eb_aedc_c100596128d3row1_col18\" class=\"data row1 col18\" >nan</td>\n",
       "                        <td id=\"T_d0ef3380_2024_11eb_aedc_c100596128d3row1_col19\" class=\"data row1 col19\" >nan</td>\n",
       "                        <td id=\"T_d0ef3380_2024_11eb_aedc_c100596128d3row1_col20\" class=\"data row1 col20\" >nan</td>\n",
       "            </tr>\n",
       "            <tr>\n",
       "                        <th id=\"T_d0ef3380_2024_11eb_aedc_c100596128d3level0_row2\" class=\"row_heading level0 row2\" >9</th>\n",
       "                        <td id=\"T_d0ef3380_2024_11eb_aedc_c100596128d3row2_col0\" class=\"data row2 col0\" >SupervisedModelTraining.model.MLTransformerModel</td>\n",
       "                        <td id=\"T_d0ef3380_2024_11eb_aedc_c100596128d3row2_col1\" class=\"data row2 col1\" ></td>\n",
       "                        <td id=\"T_d0ef3380_2024_11eb_aedc_c100596128d3row2_col2\" class=\"data row2 col2\" >SupervisedModelTraining____mars_gym_model_b____5670bf73eb_18ed0d1a39</td>\n",
       "                        <td id=\"T_d0ef3380_2024_11eb_aedc_c100596128d3row2_col3\" class=\"data row2 col3\" >1803</td>\n",
       "                        <td id=\"T_d0ef3380_2024_11eb_aedc_c100596128d3row2_col4\" class=\"data row2 col4\" >0.283558</td>\n",
       "                        <td id=\"T_d0ef3380_2024_11eb_aedc_c100596128d3row2_col5\" class=\"data row2 col5\" >0.18081</td>\n",
       "                        <td id=\"T_d0ef3380_2024_11eb_aedc_c100596128d3row2_col6\" class=\"data row2 col6\" >0.252847</td>\n",
       "                        <td id=\"T_d0ef3380_2024_11eb_aedc_c100596128d3row2_col7\" class=\"data row2 col7\" >0.324059</td>\n",
       "                        <td id=\"T_d0ef3380_2024_11eb_aedc_c100596128d3row2_col8\" class=\"data row2 col8\" >0.266649</td>\n",
       "                        <td id=\"T_d0ef3380_2024_11eb_aedc_c100596128d3row2_col9\" class=\"data row2 col9\" >0.359798</td>\n",
       "                        <td id=\"T_d0ef3380_2024_11eb_aedc_c100596128d3row2_col10\" class=\"data row2 col10\" ></td>\n",
       "                        <td id=\"T_d0ef3380_2024_11eb_aedc_c100596128d3row2_col11\" class=\"data row2 col11\" >nan</td>\n",
       "                        <td id=\"T_d0ef3380_2024_11eb_aedc_c100596128d3row2_col12\" class=\"data row2 col12\" >nan</td>\n",
       "                        <td id=\"T_d0ef3380_2024_11eb_aedc_c100596128d3row2_col13\" class=\"data row2 col13\" >nan</td>\n",
       "                        <td id=\"T_d0ef3380_2024_11eb_aedc_c100596128d3row2_col14\" class=\"data row2 col14\" >nan</td>\n",
       "                        <td id=\"T_d0ef3380_2024_11eb_aedc_c100596128d3row2_col15\" class=\"data row2 col15\" >nan</td>\n",
       "                        <td id=\"T_d0ef3380_2024_11eb_aedc_c100596128d3row2_col16\" class=\"data row2 col16\" >nan</td>\n",
       "                        <td id=\"T_d0ef3380_2024_11eb_aedc_c100596128d3row2_col17\" class=\"data row2 col17\" >nan</td>\n",
       "                        <td id=\"T_d0ef3380_2024_11eb_aedc_c100596128d3row2_col18\" class=\"data row2 col18\" >nan</td>\n",
       "                        <td id=\"T_d0ef3380_2024_11eb_aedc_c100596128d3row2_col19\" class=\"data row2 col19\" >nan</td>\n",
       "                        <td id=\"T_d0ef3380_2024_11eb_aedc_c100596128d3row2_col20\" class=\"data row2 col20\" >nan</td>\n",
       "            </tr>\n",
       "            <tr>\n",
       "                        <th id=\"T_d0ef3380_2024_11eb_aedc_c100596128d3level0_row3\" class=\"row_heading level0 row3\" >20</th>\n",
       "                        <td id=\"T_d0ef3380_2024_11eb_aedc_c100596128d3row3_col0\" class=\"data row3 col0\" >SupervisedModelTraining.model.MLSASRec</td>\n",
       "                        <td id=\"T_d0ef3380_2024_11eb_aedc_c100596128d3row3_col1\" class=\"data row3 col1\" ></td>\n",
       "                        <td id=\"T_d0ef3380_2024_11eb_aedc_c100596128d3row3_col2\" class=\"data row3 col2\" >SupervisedModelTraining____mars_gym_model_b____7a4571053e_be4f5c846e</td>\n",
       "                        <td id=\"T_d0ef3380_2024_11eb_aedc_c100596128d3row3_col3\" class=\"data row3 col3\" >1803</td>\n",
       "                        <td id=\"T_d0ef3380_2024_11eb_aedc_c100596128d3row3_col4\" class=\"data row3 col4\" >0.413411</td>\n",
       "                        <td id=\"T_d0ef3380_2024_11eb_aedc_c100596128d3row3_col5\" class=\"data row3 col5\" >0.333888</td>\n",
       "                        <td id=\"T_d0ef3380_2024_11eb_aedc_c100596128d3row3_col6\" class=\"data row3 col6\" >0.387151</td>\n",
       "                        <td id=\"T_d0ef3380_2024_11eb_aedc_c100596128d3row3_col7\" class=\"data row3 col7\" >0.439461</td>\n",
       "                        <td id=\"T_d0ef3380_2024_11eb_aedc_c100596128d3row3_col8\" class=\"data row3 col8\" >0.398853</td>\n",
       "                        <td id=\"T_d0ef3380_2024_11eb_aedc_c100596128d3row3_col9\" class=\"data row3 col9\" >0.469724</td>\n",
       "                        <td id=\"T_d0ef3380_2024_11eb_aedc_c100596128d3row3_col10\" class=\"data row3 col10\" ></td>\n",
       "                        <td id=\"T_d0ef3380_2024_11eb_aedc_c100596128d3row3_col11\" class=\"data row3 col11\" >nan</td>\n",
       "                        <td id=\"T_d0ef3380_2024_11eb_aedc_c100596128d3row3_col12\" class=\"data row3 col12\" >nan</td>\n",
       "                        <td id=\"T_d0ef3380_2024_11eb_aedc_c100596128d3row3_col13\" class=\"data row3 col13\" >nan</td>\n",
       "                        <td id=\"T_d0ef3380_2024_11eb_aedc_c100596128d3row3_col14\" class=\"data row3 col14\" >nan</td>\n",
       "                        <td id=\"T_d0ef3380_2024_11eb_aedc_c100596128d3row3_col15\" class=\"data row3 col15\" >nan</td>\n",
       "                        <td id=\"T_d0ef3380_2024_11eb_aedc_c100596128d3row3_col16\" class=\"data row3 col16\" >nan</td>\n",
       "                        <td id=\"T_d0ef3380_2024_11eb_aedc_c100596128d3row3_col17\" class=\"data row3 col17\" >nan</td>\n",
       "                        <td id=\"T_d0ef3380_2024_11eb_aedc_c100596128d3row3_col18\" class=\"data row3 col18\" >nan</td>\n",
       "                        <td id=\"T_d0ef3380_2024_11eb_aedc_c100596128d3row3_col19\" class=\"data row3 col19\" >nan</td>\n",
       "                        <td id=\"T_d0ef3380_2024_11eb_aedc_c100596128d3row3_col20\" class=\"data row3 col20\" >nan</td>\n",
       "            </tr>\n",
       "            <tr>\n",
       "                        <th id=\"T_d0ef3380_2024_11eb_aedc_c100596128d3level0_row4\" class=\"row_heading level0 row4\" >15</th>\n",
       "                        <td id=\"T_d0ef3380_2024_11eb_aedc_c100596128d3row4_col0\" class=\"data row4 col0\" >SupervisedModelTraining.model.MLCaser</td>\n",
       "                        <td id=\"T_d0ef3380_2024_11eb_aedc_c100596128d3row4_col1\" class=\"data row4 col1\" ></td>\n",
       "                        <td id=\"T_d0ef3380_2024_11eb_aedc_c100596128d3row4_col2\" class=\"data row4 col2\" >SupervisedModelTraining____mars_gym_model_b____d1cbc97f7d_e41c48b7c8</td>\n",
       "                        <td id=\"T_d0ef3380_2024_11eb_aedc_c100596128d3row4_col3\" class=\"data row4 col3\" >1803</td>\n",
       "                        <td id=\"T_d0ef3380_2024_11eb_aedc_c100596128d3row4_col4\" class=\"data row4 col4\" >0.414222</td>\n",
       "                        <td id=\"T_d0ef3380_2024_11eb_aedc_c100596128d3row4_col5\" class=\"data row4 col5\" >0.315585</td>\n",
       "                        <td id=\"T_d0ef3380_2024_11eb_aedc_c100596128d3row4_col6\" class=\"data row4 col6\" >0.387955</td>\n",
       "                        <td id=\"T_d0ef3380_2024_11eb_aedc_c100596128d3row4_col7\" class=\"data row4 col7\" >0.459058</td>\n",
       "                        <td id=\"T_d0ef3380_2024_11eb_aedc_c100596128d3row4_col8\" class=\"data row4 col8\" >0.400347</td>\n",
       "                        <td id=\"T_d0ef3380_2024_11eb_aedc_c100596128d3row4_col9\" class=\"data row4 col9\" >0.490878</td>\n",
       "                        <td id=\"T_d0ef3380_2024_11eb_aedc_c100596128d3row4_col10\" class=\"data row4 col10\" ></td>\n",
       "                        <td id=\"T_d0ef3380_2024_11eb_aedc_c100596128d3row4_col11\" class=\"data row4 col11\" >nan</td>\n",
       "                        <td id=\"T_d0ef3380_2024_11eb_aedc_c100596128d3row4_col12\" class=\"data row4 col12\" >nan</td>\n",
       "                        <td id=\"T_d0ef3380_2024_11eb_aedc_c100596128d3row4_col13\" class=\"data row4 col13\" >nan</td>\n",
       "                        <td id=\"T_d0ef3380_2024_11eb_aedc_c100596128d3row4_col14\" class=\"data row4 col14\" >nan</td>\n",
       "                        <td id=\"T_d0ef3380_2024_11eb_aedc_c100596128d3row4_col15\" class=\"data row4 col15\" >nan</td>\n",
       "                        <td id=\"T_d0ef3380_2024_11eb_aedc_c100596128d3row4_col16\" class=\"data row4 col16\" >nan</td>\n",
       "                        <td id=\"T_d0ef3380_2024_11eb_aedc_c100596128d3row4_col17\" class=\"data row4 col17\" >nan</td>\n",
       "                        <td id=\"T_d0ef3380_2024_11eb_aedc_c100596128d3row4_col18\" class=\"data row4 col18\" >nan</td>\n",
       "                        <td id=\"T_d0ef3380_2024_11eb_aedc_c100596128d3row4_col19\" class=\"data row4 col19\" >nan</td>\n",
       "                        <td id=\"T_d0ef3380_2024_11eb_aedc_c100596128d3row4_col20\" class=\"data row4 col20\" >nan</td>\n",
       "            </tr>\n",
       "            <tr>\n",
       "                        <th id=\"T_d0ef3380_2024_11eb_aedc_c100596128d3level0_row5\" class=\"row_heading level0 row5\" >23</th>\n",
       "                        <td id=\"T_d0ef3380_2024_11eb_aedc_c100596128d3row5_col0\" class=\"data row5 col0\" >SupervisedModelTraining.model.MLSASRec</td>\n",
       "                        <td id=\"T_d0ef3380_2024_11eb_aedc_c100596128d3row5_col1\" class=\"data row5 col1\" >using all QKV</td>\n",
       "                        <td id=\"T_d0ef3380_2024_11eb_aedc_c100596128d3row5_col2\" class=\"data row5 col2\" >SupervisedModelTraining____mars_gym_model_b____65a4279585_07c545cc6e</td>\n",
       "                        <td id=\"T_d0ef3380_2024_11eb_aedc_c100596128d3row5_col3\" class=\"data row5 col3\" >4539</td>\n",
       "                        <td id=\"T_d0ef3380_2024_11eb_aedc_c100596128d3row5_col4\" class=\"data row5 col4\" >0.455739</td>\n",
       "                        <td id=\"T_d0ef3380_2024_11eb_aedc_c100596128d3row5_col5\" class=\"data row5 col5\" >0.363737</td>\n",
       "                        <td id=\"T_d0ef3380_2024_11eb_aedc_c100596128d3row5_col6\" class=\"data row5 col6\" >0.431141</td>\n",
       "                        <td id=\"T_d0ef3380_2024_11eb_aedc_c100596128d3row5_col7\" class=\"data row5 col7\" >0.497768</td>\n",
       "                        <td id=\"T_d0ef3380_2024_11eb_aedc_c100596128d3row5_col8\" class=\"data row5 col8\" >0.443206</td>\n",
       "                        <td id=\"T_d0ef3380_2024_11eb_aedc_c100596128d3row5_col9\" class=\"data row5 col9\" >0.528753</td>\n",
       "                        <td id=\"T_d0ef3380_2024_11eb_aedc_c100596128d3row5_col10\" class=\"data row5 col10\" ></td>\n",
       "                        <td id=\"T_d0ef3380_2024_11eb_aedc_c100596128d3row5_col11\" class=\"data row5 col11\" >nan</td>\n",
       "                        <td id=\"T_d0ef3380_2024_11eb_aedc_c100596128d3row5_col12\" class=\"data row5 col12\" >nan</td>\n",
       "                        <td id=\"T_d0ef3380_2024_11eb_aedc_c100596128d3row5_col13\" class=\"data row5 col13\" >nan</td>\n",
       "                        <td id=\"T_d0ef3380_2024_11eb_aedc_c100596128d3row5_col14\" class=\"data row5 col14\" >nan</td>\n",
       "                        <td id=\"T_d0ef3380_2024_11eb_aedc_c100596128d3row5_col15\" class=\"data row5 col15\" >nan</td>\n",
       "                        <td id=\"T_d0ef3380_2024_11eb_aedc_c100596128d3row5_col16\" class=\"data row5 col16\" >nan</td>\n",
       "                        <td id=\"T_d0ef3380_2024_11eb_aedc_c100596128d3row5_col17\" class=\"data row5 col17\" >nan</td>\n",
       "                        <td id=\"T_d0ef3380_2024_11eb_aedc_c100596128d3row5_col18\" class=\"data row5 col18\" >nan</td>\n",
       "                        <td id=\"T_d0ef3380_2024_11eb_aedc_c100596128d3row5_col19\" class=\"data row5 col19\" >nan</td>\n",
       "                        <td id=\"T_d0ef3380_2024_11eb_aedc_c100596128d3row5_col20\" class=\"data row5 col20\" >nan</td>\n",
       "            </tr>\n",
       "            <tr>\n",
       "                        <th id=\"T_d0ef3380_2024_11eb_aedc_c100596128d3level0_row6\" class=\"row_heading level0 row6\" >18</th>\n",
       "                        <td id=\"T_d0ef3380_2024_11eb_aedc_c100596128d3row6_col0\" class=\"data row6 col0\" >SupervisedModelTraining.model.MLCaser</td>\n",
       "                        <td id=\"T_d0ef3380_2024_11eb_aedc_c100596128d3row6_col1\" class=\"data row6 col1\" ></td>\n",
       "                        <td id=\"T_d0ef3380_2024_11eb_aedc_c100596128d3row6_col2\" class=\"data row6 col2\" >SupervisedModelTraining____mars_gym_model_b____d6aa1353da_b4065feb8a</td>\n",
       "                        <td id=\"T_d0ef3380_2024_11eb_aedc_c100596128d3row6_col3\" class=\"data row6 col3\" >1803</td>\n",
       "                        <td id=\"T_d0ef3380_2024_11eb_aedc_c100596128d3row6_col4\" class=\"data row6 col4\" >0.456241</td>\n",
       "                        <td id=\"T_d0ef3380_2024_11eb_aedc_c100596128d3row6_col5\" class=\"data row6 col5\" >0.356628</td>\n",
       "                        <td id=\"T_d0ef3380_2024_11eb_aedc_c100596128d3row6_col6\" class=\"data row6 col6\" >0.429617</td>\n",
       "                        <td id=\"T_d0ef3380_2024_11eb_aedc_c100596128d3row6_col7\" class=\"data row6 col7\" >0.501572</td>\n",
       "                        <td id=\"T_d0ef3380_2024_11eb_aedc_c100596128d3row6_col8\" class=\"data row6 col8\" >0.443157</td>\n",
       "                        <td id=\"T_d0ef3380_2024_11eb_aedc_c100596128d3row6_col9\" class=\"data row6 col9\" >0.53659</td>\n",
       "                        <td id=\"T_d0ef3380_2024_11eb_aedc_c100596128d3row6_col10\" class=\"data row6 col10\" ></td>\n",
       "                        <td id=\"T_d0ef3380_2024_11eb_aedc_c100596128d3row6_col11\" class=\"data row6 col11\" >nan</td>\n",
       "                        <td id=\"T_d0ef3380_2024_11eb_aedc_c100596128d3row6_col12\" class=\"data row6 col12\" >nan</td>\n",
       "                        <td id=\"T_d0ef3380_2024_11eb_aedc_c100596128d3row6_col13\" class=\"data row6 col13\" >nan</td>\n",
       "                        <td id=\"T_d0ef3380_2024_11eb_aedc_c100596128d3row6_col14\" class=\"data row6 col14\" >nan</td>\n",
       "                        <td id=\"T_d0ef3380_2024_11eb_aedc_c100596128d3row6_col15\" class=\"data row6 col15\" >nan</td>\n",
       "                        <td id=\"T_d0ef3380_2024_11eb_aedc_c100596128d3row6_col16\" class=\"data row6 col16\" >nan</td>\n",
       "                        <td id=\"T_d0ef3380_2024_11eb_aedc_c100596128d3row6_col17\" class=\"data row6 col17\" >nan</td>\n",
       "                        <td id=\"T_d0ef3380_2024_11eb_aedc_c100596128d3row6_col18\" class=\"data row6 col18\" >nan</td>\n",
       "                        <td id=\"T_d0ef3380_2024_11eb_aedc_c100596128d3row6_col19\" class=\"data row6 col19\" >nan</td>\n",
       "                        <td id=\"T_d0ef3380_2024_11eb_aedc_c100596128d3row6_col20\" class=\"data row6 col20\" >nan</td>\n",
       "            </tr>\n",
       "            <tr>\n",
       "                        <th id=\"T_d0ef3380_2024_11eb_aedc_c100596128d3level0_row7\" class=\"row_heading level0 row7\" >1</th>\n",
       "                        <td id=\"T_d0ef3380_2024_11eb_aedc_c100596128d3row7_col0\" class=\"data row7 col0\" >SupervisedModelTraining.model.NARMModel</td>\n",
       "                        <td id=\"T_d0ef3380_2024_11eb_aedc_c100596128d3row7_col1\" class=\"data row7 col1\" ></td>\n",
       "                        <td id=\"T_d0ef3380_2024_11eb_aedc_c100596128d3row7_col2\" class=\"data row7 col2\" >SupervisedModelTraining____mars_gym_model_b____6cee1338c9_934aa421f6</td>\n",
       "                        <td id=\"T_d0ef3380_2024_11eb_aedc_c100596128d3row7_col3\" class=\"data row7 col3\" >1803</td>\n",
       "                        <td id=\"T_d0ef3380_2024_11eb_aedc_c100596128d3row7_col4\" class=\"data row7 col4\" >0.482697</td>\n",
       "                        <td id=\"T_d0ef3380_2024_11eb_aedc_c100596128d3row7_col5\" class=\"data row7 col5\" >0.395452</td>\n",
       "                        <td id=\"T_d0ef3380_2024_11eb_aedc_c100596128d3row7_col6\" class=\"data row7 col6\" >0.459641</td>\n",
       "                        <td id=\"T_d0ef3380_2024_11eb_aedc_c100596128d3row7_col7\" class=\"data row7 col7\" >0.522946</td>\n",
       "                        <td id=\"T_d0ef3380_2024_11eb_aedc_c100596128d3row7_col8\" class=\"data row7 col8\" >0.470545</td>\n",
       "                        <td id=\"T_d0ef3380_2024_11eb_aedc_c100596128d3row7_col9\" class=\"data row7 col9\" >0.551225</td>\n",
       "                        <td id=\"T_d0ef3380_2024_11eb_aedc_c100596128d3row7_col10\" class=\"data row7 col10\" ></td>\n",
       "                        <td id=\"T_d0ef3380_2024_11eb_aedc_c100596128d3row7_col11\" class=\"data row7 col11\" >nan</td>\n",
       "                        <td id=\"T_d0ef3380_2024_11eb_aedc_c100596128d3row7_col12\" class=\"data row7 col12\" >nan</td>\n",
       "                        <td id=\"T_d0ef3380_2024_11eb_aedc_c100596128d3row7_col13\" class=\"data row7 col13\" >nan</td>\n",
       "                        <td id=\"T_d0ef3380_2024_11eb_aedc_c100596128d3row7_col14\" class=\"data row7 col14\" >nan</td>\n",
       "                        <td id=\"T_d0ef3380_2024_11eb_aedc_c100596128d3row7_col15\" class=\"data row7 col15\" >nan</td>\n",
       "                        <td id=\"T_d0ef3380_2024_11eb_aedc_c100596128d3row7_col16\" class=\"data row7 col16\" >nan</td>\n",
       "                        <td id=\"T_d0ef3380_2024_11eb_aedc_c100596128d3row7_col17\" class=\"data row7 col17\" >nan</td>\n",
       "                        <td id=\"T_d0ef3380_2024_11eb_aedc_c100596128d3row7_col18\" class=\"data row7 col18\" >nan</td>\n",
       "                        <td id=\"T_d0ef3380_2024_11eb_aedc_c100596128d3row7_col19\" class=\"data row7 col19\" >nan</td>\n",
       "                        <td id=\"T_d0ef3380_2024_11eb_aedc_c100596128d3row7_col20\" class=\"data row7 col20\" >nan</td>\n",
       "            </tr>\n",
       "            <tr>\n",
       "                        <th id=\"T_d0ef3380_2024_11eb_aedc_c100596128d3level0_row8\" class=\"row_heading level0 row8\" >3</th>\n",
       "                        <td id=\"T_d0ef3380_2024_11eb_aedc_c100596128d3row8_col0\" class=\"data row8 col0\" >SupervisedModelTraining.model.MLSASRec</td>\n",
       "                        <td id=\"T_d0ef3380_2024_11eb_aedc_c100596128d3row8_col1\" class=\"data row8 col1\" ></td>\n",
       "                        <td id=\"T_d0ef3380_2024_11eb_aedc_c100596128d3row8_col2\" class=\"data row8 col2\" >SupervisedModelTraining____mars_gym_model_b____314ff8d9ff_3e1791cd67</td>\n",
       "                        <td id=\"T_d0ef3380_2024_11eb_aedc_c100596128d3row8_col3\" class=\"data row8 col3\" >4539</td>\n",
       "                        <td id=\"T_d0ef3380_2024_11eb_aedc_c100596128d3row8_col4\" class=\"data row8 col4\" >0.503664</td>\n",
       "                        <td id=\"T_d0ef3380_2024_11eb_aedc_c100596128d3row8_col5\" class=\"data row8 col5\" >0.414629</td>\n",
       "                        <td id=\"T_d0ef3380_2024_11eb_aedc_c100596128d3row8_col6\" class=\"data row8 col6\" >0.480047</td>\n",
       "                        <td id=\"T_d0ef3380_2024_11eb_aedc_c100596128d3row8_col7\" class=\"data row8 col7\" >0.544615</td>\n",
       "                        <td id=\"T_d0ef3380_2024_11eb_aedc_c100596128d3row8_col8\" class=\"data row8 col8\" >0.491487</td>\n",
       "                        <td id=\"T_d0ef3380_2024_11eb_aedc_c100596128d3row8_col9\" class=\"data row8 col9\" >0.574303</td>\n",
       "                        <td id=\"T_d0ef3380_2024_11eb_aedc_c100596128d3row8_col10\" class=\"data row8 col10\" ></td>\n",
       "                        <td id=\"T_d0ef3380_2024_11eb_aedc_c100596128d3row8_col11\" class=\"data row8 col11\" >nan</td>\n",
       "                        <td id=\"T_d0ef3380_2024_11eb_aedc_c100596128d3row8_col12\" class=\"data row8 col12\" >nan</td>\n",
       "                        <td id=\"T_d0ef3380_2024_11eb_aedc_c100596128d3row8_col13\" class=\"data row8 col13\" >nan</td>\n",
       "                        <td id=\"T_d0ef3380_2024_11eb_aedc_c100596128d3row8_col14\" class=\"data row8 col14\" >nan</td>\n",
       "                        <td id=\"T_d0ef3380_2024_11eb_aedc_c100596128d3row8_col15\" class=\"data row8 col15\" >nan</td>\n",
       "                        <td id=\"T_d0ef3380_2024_11eb_aedc_c100596128d3row8_col16\" class=\"data row8 col16\" >nan</td>\n",
       "                        <td id=\"T_d0ef3380_2024_11eb_aedc_c100596128d3row8_col17\" class=\"data row8 col17\" >nan</td>\n",
       "                        <td id=\"T_d0ef3380_2024_11eb_aedc_c100596128d3row8_col18\" class=\"data row8 col18\" >nan</td>\n",
       "                        <td id=\"T_d0ef3380_2024_11eb_aedc_c100596128d3row8_col19\" class=\"data row8 col19\" >nan</td>\n",
       "                        <td id=\"T_d0ef3380_2024_11eb_aedc_c100596128d3row8_col20\" class=\"data row8 col20\" >nan</td>\n",
       "            </tr>\n",
       "            <tr>\n",
       "                        <th id=\"T_d0ef3380_2024_11eb_aedc_c100596128d3level0_row9\" class=\"row_heading level0 row9\" >14</th>\n",
       "                        <td id=\"T_d0ef3380_2024_11eb_aedc_c100596128d3row9_col0\" class=\"data row9 col0\" >SupervisedModelTraining.model.MLSASRec</td>\n",
       "                        <td id=\"T_d0ef3380_2024_11eb_aedc_c100596128d3row9_col1\" class=\"data row9 col1\" ></td>\n",
       "                        <td id=\"T_d0ef3380_2024_11eb_aedc_c100596128d3row9_col2\" class=\"data row9 col2\" >SupervisedModelTraining____mars_gym_model_b____d851118590_64b267f3c6</td>\n",
       "                        <td id=\"T_d0ef3380_2024_11eb_aedc_c100596128d3row9_col3\" class=\"data row9 col3\" >1803</td>\n",
       "                        <td id=\"T_d0ef3380_2024_11eb_aedc_c100596128d3row9_col4\" class=\"data row9 col4\" >0.50947</td>\n",
       "                        <td id=\"T_d0ef3380_2024_11eb_aedc_c100596128d3row9_col5\" class=\"data row9 col5\" >0.425957</td>\n",
       "                        <td id=\"T_d0ef3380_2024_11eb_aedc_c100596128d3row9_col6\" class=\"data row9 col6\" >0.487003</td>\n",
       "                        <td id=\"T_d0ef3380_2024_11eb_aedc_c100596128d3row9_col7\" class=\"data row9 col7\" >0.547212</td>\n",
       "                        <td id=\"T_d0ef3380_2024_11eb_aedc_c100596128d3row9_col8\" class=\"data row9 col8\" >0.497496</td>\n",
       "                        <td id=\"T_d0ef3380_2024_11eb_aedc_c100596128d3row9_col9\" class=\"data row9 col9\" >0.57439</td>\n",
       "                        <td id=\"T_d0ef3380_2024_11eb_aedc_c100596128d3row9_col10\" class=\"data row9 col10\" ></td>\n",
       "                        <td id=\"T_d0ef3380_2024_11eb_aedc_c100596128d3row9_col11\" class=\"data row9 col11\" >nan</td>\n",
       "                        <td id=\"T_d0ef3380_2024_11eb_aedc_c100596128d3row9_col12\" class=\"data row9 col12\" >nan</td>\n",
       "                        <td id=\"T_d0ef3380_2024_11eb_aedc_c100596128d3row9_col13\" class=\"data row9 col13\" >nan</td>\n",
       "                        <td id=\"T_d0ef3380_2024_11eb_aedc_c100596128d3row9_col14\" class=\"data row9 col14\" >nan</td>\n",
       "                        <td id=\"T_d0ef3380_2024_11eb_aedc_c100596128d3row9_col15\" class=\"data row9 col15\" >nan</td>\n",
       "                        <td id=\"T_d0ef3380_2024_11eb_aedc_c100596128d3row9_col16\" class=\"data row9 col16\" >nan</td>\n",
       "                        <td id=\"T_d0ef3380_2024_11eb_aedc_c100596128d3row9_col17\" class=\"data row9 col17\" >nan</td>\n",
       "                        <td id=\"T_d0ef3380_2024_11eb_aedc_c100596128d3row9_col18\" class=\"data row9 col18\" >nan</td>\n",
       "                        <td id=\"T_d0ef3380_2024_11eb_aedc_c100596128d3row9_col19\" class=\"data row9 col19\" >nan</td>\n",
       "                        <td id=\"T_d0ef3380_2024_11eb_aedc_c100596128d3row9_col20\" class=\"data row9 col20\" >nan</td>\n",
       "            </tr>\n",
       "            <tr>\n",
       "                        <th id=\"T_d0ef3380_2024_11eb_aedc_c100596128d3level0_row10\" class=\"row_heading level0 row10\" >16</th>\n",
       "                        <td id=\"T_d0ef3380_2024_11eb_aedc_c100596128d3row10_col0\" class=\"data row10 col0\" >SupervisedModelTraining.model.NARMModel</td>\n",
       "                        <td id=\"T_d0ef3380_2024_11eb_aedc_c100596128d3row10_col1\" class=\"data row10 col1\" ></td>\n",
       "                        <td id=\"T_d0ef3380_2024_11eb_aedc_c100596128d3row10_col2\" class=\"data row10 col2\" >SupervisedModelTraining____mars_gym_model_b____98fb1c27f1_bcd501481f</td>\n",
       "                        <td id=\"T_d0ef3380_2024_11eb_aedc_c100596128d3row10_col3\" class=\"data row10 col3\" >1803</td>\n",
       "                        <td id=\"T_d0ef3380_2024_11eb_aedc_c100596128d3row10_col4\" class=\"data row10 col4\" >0.484093</td>\n",
       "                        <td id=\"T_d0ef3380_2024_11eb_aedc_c100596128d3row10_col5\" class=\"data row10 col5\" >0.366057</td>\n",
       "                        <td id=\"T_d0ef3380_2024_11eb_aedc_c100596128d3row10_col6\" class=\"data row10 col6\" >0.458883</td>\n",
       "                        <td id=\"T_d0ef3380_2024_11eb_aedc_c100596128d3row10_col7\" class=\"data row10 col7\" >0.550372</td>\n",
       "                        <td id=\"T_d0ef3380_2024_11eb_aedc_c100596128d3row10_col8\" class=\"data row10 col8\" >0.473179</td>\n",
       "                        <td id=\"T_d0ef3380_2024_11eb_aedc_c100596128d3row10_col9\" class=\"data row10 col9\" >0.587128</td>\n",
       "                        <td id=\"T_d0ef3380_2024_11eb_aedc_c100596128d3row10_col10\" class=\"data row10 col10\" ></td>\n",
       "                        <td id=\"T_d0ef3380_2024_11eb_aedc_c100596128d3row10_col11\" class=\"data row10 col11\" >nan</td>\n",
       "                        <td id=\"T_d0ef3380_2024_11eb_aedc_c100596128d3row10_col12\" class=\"data row10 col12\" >nan</td>\n",
       "                        <td id=\"T_d0ef3380_2024_11eb_aedc_c100596128d3row10_col13\" class=\"data row10 col13\" >nan</td>\n",
       "                        <td id=\"T_d0ef3380_2024_11eb_aedc_c100596128d3row10_col14\" class=\"data row10 col14\" >nan</td>\n",
       "                        <td id=\"T_d0ef3380_2024_11eb_aedc_c100596128d3row10_col15\" class=\"data row10 col15\" >nan</td>\n",
       "                        <td id=\"T_d0ef3380_2024_11eb_aedc_c100596128d3row10_col16\" class=\"data row10 col16\" >nan</td>\n",
       "                        <td id=\"T_d0ef3380_2024_11eb_aedc_c100596128d3row10_col17\" class=\"data row10 col17\" >nan</td>\n",
       "                        <td id=\"T_d0ef3380_2024_11eb_aedc_c100596128d3row10_col18\" class=\"data row10 col18\" >nan</td>\n",
       "                        <td id=\"T_d0ef3380_2024_11eb_aedc_c100596128d3row10_col19\" class=\"data row10 col19\" >nan</td>\n",
       "                        <td id=\"T_d0ef3380_2024_11eb_aedc_c100596128d3row10_col20\" class=\"data row10 col20\" >nan</td>\n",
       "            </tr>\n",
       "            <tr>\n",
       "                        <th id=\"T_d0ef3380_2024_11eb_aedc_c100596128d3level0_row11\" class=\"row_heading level0 row11\" >8</th>\n",
       "                        <td id=\"T_d0ef3380_2024_11eb_aedc_c100596128d3row11_col0\" class=\"data row11 col0\" >SupervisedModelTraining.model.MLTransformerModel</td>\n",
       "                        <td id=\"T_d0ef3380_2024_11eb_aedc_c100596128d3row11_col1\" class=\"data row11 col1\" >2</td>\n",
       "                        <td id=\"T_d0ef3380_2024_11eb_aedc_c100596128d3row11_col2\" class=\"data row11 col2\" >SupervisedModelTraining____mars_gym_model_b____1e97322681_b281cc6e76</td>\n",
       "                        <td id=\"T_d0ef3380_2024_11eb_aedc_c100596128d3row11_col3\" class=\"data row11 col3\" >1803</td>\n",
       "                        <td id=\"T_d0ef3380_2024_11eb_aedc_c100596128d3row11_col4\" class=\"data row11 col4\" >0.532627</td>\n",
       "                        <td id=\"T_d0ef3380_2024_11eb_aedc_c100596128d3row11_col5\" class=\"data row11 col5\" >0.445923</td>\n",
       "                        <td id=\"T_d0ef3380_2024_11eb_aedc_c100596128d3row11_col6\" class=\"data row11 col6\" >0.511971</td>\n",
       "                        <td id=\"T_d0ef3380_2024_11eb_aedc_c100596128d3row11_col7\" class=\"data row11 col7\" >0.577252</td>\n",
       "                        <td id=\"T_d0ef3380_2024_11eb_aedc_c100596128d3row11_col8\" class=\"data row11 col8\" >0.521184</td>\n",
       "                        <td id=\"T_d0ef3380_2024_11eb_aedc_c100596128d3row11_col9\" class=\"data row11 col9\" >0.601252</td>\n",
       "                        <td id=\"T_d0ef3380_2024_11eb_aedc_c100596128d3row11_col10\" class=\"data row11 col10\" ></td>\n",
       "                        <td id=\"T_d0ef3380_2024_11eb_aedc_c100596128d3row11_col11\" class=\"data row11 col11\" >nan</td>\n",
       "                        <td id=\"T_d0ef3380_2024_11eb_aedc_c100596128d3row11_col12\" class=\"data row11 col12\" >nan</td>\n",
       "                        <td id=\"T_d0ef3380_2024_11eb_aedc_c100596128d3row11_col13\" class=\"data row11 col13\" >nan</td>\n",
       "                        <td id=\"T_d0ef3380_2024_11eb_aedc_c100596128d3row11_col14\" class=\"data row11 col14\" >nan</td>\n",
       "                        <td id=\"T_d0ef3380_2024_11eb_aedc_c100596128d3row11_col15\" class=\"data row11 col15\" >nan</td>\n",
       "                        <td id=\"T_d0ef3380_2024_11eb_aedc_c100596128d3row11_col16\" class=\"data row11 col16\" >nan</td>\n",
       "                        <td id=\"T_d0ef3380_2024_11eb_aedc_c100596128d3row11_col17\" class=\"data row11 col17\" >nan</td>\n",
       "                        <td id=\"T_d0ef3380_2024_11eb_aedc_c100596128d3row11_col18\" class=\"data row11 col18\" >nan</td>\n",
       "                        <td id=\"T_d0ef3380_2024_11eb_aedc_c100596128d3row11_col19\" class=\"data row11 col19\" >nan</td>\n",
       "                        <td id=\"T_d0ef3380_2024_11eb_aedc_c100596128d3row11_col20\" class=\"data row11 col20\" >nan</td>\n",
       "            </tr>\n",
       "            <tr>\n",
       "                        <th id=\"T_d0ef3380_2024_11eb_aedc_c100596128d3level0_row12\" class=\"row_heading level0 row12\" >17</th>\n",
       "                        <td id=\"T_d0ef3380_2024_11eb_aedc_c100596128d3row12_col0\" class=\"data row12 col0\" >SupervisedModelTraining.model.MLSASRec</td>\n",
       "                        <td id=\"T_d0ef3380_2024_11eb_aedc_c100596128d3row12_col1\" class=\"data row12 col1\" ></td>\n",
       "                        <td id=\"T_d0ef3380_2024_11eb_aedc_c100596128d3row12_col2\" class=\"data row12 col2\" >SupervisedModelTraining____mars_gym_model_b____792973af11_7d3fdba0c2</td>\n",
       "                        <td id=\"T_d0ef3380_2024_11eb_aedc_c100596128d3row12_col3\" class=\"data row12 col3\" >4539</td>\n",
       "                        <td id=\"T_d0ef3380_2024_11eb_aedc_c100596128d3row12_col4\" class=\"data row12 col4\" >0.569799</td>\n",
       "                        <td id=\"T_d0ef3380_2024_11eb_aedc_c100596128d3row12_col5\" class=\"data row12 col5\" >0.481824</td>\n",
       "                        <td id=\"T_d0ef3380_2024_11eb_aedc_c100596128d3row12_col6\" class=\"data row12 col6\" >0.550228</td>\n",
       "                        <td id=\"T_d0ef3380_2024_11eb_aedc_c100596128d3row12_col7\" class=\"data row12 col7\" >0.617609</td>\n",
       "                        <td id=\"T_d0ef3380_2024_11eb_aedc_c100596128d3row12_col8\" class=\"data row12 col8\" >0.559913</td>\n",
       "                        <td id=\"T_d0ef3380_2024_11eb_aedc_c100596128d3row12_col9\" class=\"data row12 col9\" >0.642607</td>\n",
       "                        <td id=\"T_d0ef3380_2024_11eb_aedc_c100596128d3row12_col10\" class=\"data row12 col10\" ></td>\n",
       "                        <td id=\"T_d0ef3380_2024_11eb_aedc_c100596128d3row12_col11\" class=\"data row12 col11\" >nan</td>\n",
       "                        <td id=\"T_d0ef3380_2024_11eb_aedc_c100596128d3row12_col12\" class=\"data row12 col12\" >nan</td>\n",
       "                        <td id=\"T_d0ef3380_2024_11eb_aedc_c100596128d3row12_col13\" class=\"data row12 col13\" >nan</td>\n",
       "                        <td id=\"T_d0ef3380_2024_11eb_aedc_c100596128d3row12_col14\" class=\"data row12 col14\" >nan</td>\n",
       "                        <td id=\"T_d0ef3380_2024_11eb_aedc_c100596128d3row12_col15\" class=\"data row12 col15\" >nan</td>\n",
       "                        <td id=\"T_d0ef3380_2024_11eb_aedc_c100596128d3row12_col16\" class=\"data row12 col16\" >nan</td>\n",
       "                        <td id=\"T_d0ef3380_2024_11eb_aedc_c100596128d3row12_col17\" class=\"data row12 col17\" >nan</td>\n",
       "                        <td id=\"T_d0ef3380_2024_11eb_aedc_c100596128d3row12_col18\" class=\"data row12 col18\" >nan</td>\n",
       "                        <td id=\"T_d0ef3380_2024_11eb_aedc_c100596128d3row12_col19\" class=\"data row12 col19\" >nan</td>\n",
       "                        <td id=\"T_d0ef3380_2024_11eb_aedc_c100596128d3row12_col20\" class=\"data row12 col20\" >nan</td>\n",
       "            </tr>\n",
       "            <tr>\n",
       "                        <th id=\"T_d0ef3380_2024_11eb_aedc_c100596128d3level0_row13\" class=\"row_heading level0 row13\" >0</th>\n",
       "                        <td id=\"T_d0ef3380_2024_11eb_aedc_c100596128d3row13_col0\" class=\"data row13 col0\" >SupervisedModelTraining.model.NARMModel</td>\n",
       "                        <td id=\"T_d0ef3380_2024_11eb_aedc_c100596128d3row13_col1\" class=\"data row13 col1\" ></td>\n",
       "                        <td id=\"T_d0ef3380_2024_11eb_aedc_c100596128d3row13_col2\" class=\"data row13 col2\" >SupervisedModelTraining____mars_gym_model_b____81f3afc8ac_53a05b8576</td>\n",
       "                        <td id=\"T_d0ef3380_2024_11eb_aedc_c100596128d3row13_col3\" class=\"data row13 col3\" >1803</td>\n",
       "                        <td id=\"T_d0ef3380_2024_11eb_aedc_c100596128d3row13_col4\" class=\"data row13 col4\" >0.577988</td>\n",
       "                        <td id=\"T_d0ef3380_2024_11eb_aedc_c100596128d3row13_col5\" class=\"data row13 col5\" >0.479756</td>\n",
       "                        <td id=\"T_d0ef3380_2024_11eb_aedc_c100596128d3row13_col6\" class=\"data row13 col6\" >0.559336</td>\n",
       "                        <td id=\"T_d0ef3380_2024_11eb_aedc_c100596128d3row13_col7\" class=\"data row13 col7\" >0.637768</td>\n",
       "                        <td id=\"T_d0ef3380_2024_11eb_aedc_c100596128d3row13_col8\" class=\"data row13 col8\" >0.569114</td>\n",
       "                        <td id=\"T_d0ef3380_2024_11eb_aedc_c100596128d3row13_col9\" class=\"data row13 col9\" >0.662973</td>\n",
       "                        <td id=\"T_d0ef3380_2024_11eb_aedc_c100596128d3row13_col10\" class=\"data row13 col10\" ></td>\n",
       "                        <td id=\"T_d0ef3380_2024_11eb_aedc_c100596128d3row13_col11\" class=\"data row13 col11\" >nan</td>\n",
       "                        <td id=\"T_d0ef3380_2024_11eb_aedc_c100596128d3row13_col12\" class=\"data row13 col12\" >nan</td>\n",
       "                        <td id=\"T_d0ef3380_2024_11eb_aedc_c100596128d3row13_col13\" class=\"data row13 col13\" >nan</td>\n",
       "                        <td id=\"T_d0ef3380_2024_11eb_aedc_c100596128d3row13_col14\" class=\"data row13 col14\" >nan</td>\n",
       "                        <td id=\"T_d0ef3380_2024_11eb_aedc_c100596128d3row13_col15\" class=\"data row13 col15\" >nan</td>\n",
       "                        <td id=\"T_d0ef3380_2024_11eb_aedc_c100596128d3row13_col16\" class=\"data row13 col16\" >nan</td>\n",
       "                        <td id=\"T_d0ef3380_2024_11eb_aedc_c100596128d3row13_col17\" class=\"data row13 col17\" >nan</td>\n",
       "                        <td id=\"T_d0ef3380_2024_11eb_aedc_c100596128d3row13_col18\" class=\"data row13 col18\" >nan</td>\n",
       "                        <td id=\"T_d0ef3380_2024_11eb_aedc_c100596128d3row13_col19\" class=\"data row13 col19\" >nan</td>\n",
       "                        <td id=\"T_d0ef3380_2024_11eb_aedc_c100596128d3row13_col20\" class=\"data row13 col20\" >nan</td>\n",
       "            </tr>\n",
       "            <tr>\n",
       "                        <th id=\"T_d0ef3380_2024_11eb_aedc_c100596128d3level0_row14\" class=\"row_heading level0 row14\" >5</th>\n",
       "                        <td id=\"T_d0ef3380_2024_11eb_aedc_c100596128d3row14_col0\" class=\"data row14 col0\" >SupervisedModelTraining.model.NARMModel</td>\n",
       "                        <td id=\"T_d0ef3380_2024_11eb_aedc_c100596128d3row14_col1\" class=\"data row14 col1\" ></td>\n",
       "                        <td id=\"T_d0ef3380_2024_11eb_aedc_c100596128d3row14_col2\" class=\"data row14 col2\" >SupervisedModelTraining____mars_gym_model_b____f4db58c77b_b171e44b8b</td>\n",
       "                        <td id=\"T_d0ef3380_2024_11eb_aedc_c100596128d3row14_col3\" class=\"data row14 col3\" >1803</td>\n",
       "                        <td id=\"T_d0ef3380_2024_11eb_aedc_c100596128d3row14_col4\" class=\"data row14 col4\" >0.589008</td>\n",
       "                        <td id=\"T_d0ef3380_2024_11eb_aedc_c100596128d3row14_col5\" class=\"data row14 col5\" >0.491958</td>\n",
       "                        <td id=\"T_d0ef3380_2024_11eb_aedc_c100596128d3row14_col6\" class=\"data row14 col6\" >0.570124</td>\n",
       "                        <td id=\"T_d0ef3380_2024_11eb_aedc_c100596128d3row14_col7\" class=\"data row14 col7\" >0.646835</td>\n",
       "                        <td id=\"T_d0ef3380_2024_11eb_aedc_c100596128d3row14_col8\" class=\"data row14 col8\" >0.580587</td>\n",
       "                        <td id=\"T_d0ef3380_2024_11eb_aedc_c100596128d3row14_col9\" class=\"data row14 col9\" >0.673688</td>\n",
       "                        <td id=\"T_d0ef3380_2024_11eb_aedc_c100596128d3row14_col10\" class=\"data row14 col10\" ></td>\n",
       "                        <td id=\"T_d0ef3380_2024_11eb_aedc_c100596128d3row14_col11\" class=\"data row14 col11\" >nan</td>\n",
       "                        <td id=\"T_d0ef3380_2024_11eb_aedc_c100596128d3row14_col12\" class=\"data row14 col12\" >nan</td>\n",
       "                        <td id=\"T_d0ef3380_2024_11eb_aedc_c100596128d3row14_col13\" class=\"data row14 col13\" >nan</td>\n",
       "                        <td id=\"T_d0ef3380_2024_11eb_aedc_c100596128d3row14_col14\" class=\"data row14 col14\" >nan</td>\n",
       "                        <td id=\"T_d0ef3380_2024_11eb_aedc_c100596128d3row14_col15\" class=\"data row14 col15\" >nan</td>\n",
       "                        <td id=\"T_d0ef3380_2024_11eb_aedc_c100596128d3row14_col16\" class=\"data row14 col16\" >nan</td>\n",
       "                        <td id=\"T_d0ef3380_2024_11eb_aedc_c100596128d3row14_col17\" class=\"data row14 col17\" >nan</td>\n",
       "                        <td id=\"T_d0ef3380_2024_11eb_aedc_c100596128d3row14_col18\" class=\"data row14 col18\" >nan</td>\n",
       "                        <td id=\"T_d0ef3380_2024_11eb_aedc_c100596128d3row14_col19\" class=\"data row14 col19\" >nan</td>\n",
       "                        <td id=\"T_d0ef3380_2024_11eb_aedc_c100596128d3row14_col20\" class=\"data row14 col20\" >nan</td>\n",
       "            </tr>\n",
       "            <tr>\n",
       "                        <th id=\"T_d0ef3380_2024_11eb_aedc_c100596128d3level0_row15\" class=\"row_heading level0 row15\" >4</th>\n",
       "                        <td id=\"T_d0ef3380_2024_11eb_aedc_c100596128d3row15_col0\" class=\"data row15 col0\" >SupervisedModelTraining.model.MLSASRec</td>\n",
       "                        <td id=\"T_d0ef3380_2024_11eb_aedc_c100596128d3row15_col1\" class=\"data row15 col1\" ></td>\n",
       "                        <td id=\"T_d0ef3380_2024_11eb_aedc_c100596128d3row15_col2\" class=\"data row15 col2\" >SupervisedModelTraining____mars_gym_model_b____a1e3012119_105c444640</td>\n",
       "                        <td id=\"T_d0ef3380_2024_11eb_aedc_c100596128d3row15_col3\" class=\"data row15 col3\" >2862</td>\n",
       "                        <td id=\"T_d0ef3380_2024_11eb_aedc_c100596128d3row15_col4\" class=\"data row15 col4\" >0.617042</td>\n",
       "                        <td id=\"T_d0ef3380_2024_11eb_aedc_c100596128d3row15_col5\" class=\"data row15 col5\" >0.538085</td>\n",
       "                        <td id=\"T_d0ef3380_2024_11eb_aedc_c100596128d3row15_col6\" class=\"data row15 col6\" >0.599249</td>\n",
       "                        <td id=\"T_d0ef3380_2024_11eb_aedc_c100596128d3row15_col7\" class=\"data row15 col7\" >0.659546</td>\n",
       "                        <td id=\"T_d0ef3380_2024_11eb_aedc_c100596128d3row15_col8\" class=\"data row15 col8\" >0.60818</td>\n",
       "                        <td id=\"T_d0ef3380_2024_11eb_aedc_c100596128d3row15_col9\" class=\"data row15 col9\" >0.682605</td>\n",
       "                        <td id=\"T_d0ef3380_2024_11eb_aedc_c100596128d3row15_col10\" class=\"data row15 col10\" ></td>\n",
       "                        <td id=\"T_d0ef3380_2024_11eb_aedc_c100596128d3row15_col11\" class=\"data row15 col11\" >nan</td>\n",
       "                        <td id=\"T_d0ef3380_2024_11eb_aedc_c100596128d3row15_col12\" class=\"data row15 col12\" >nan</td>\n",
       "                        <td id=\"T_d0ef3380_2024_11eb_aedc_c100596128d3row15_col13\" class=\"data row15 col13\" >nan</td>\n",
       "                        <td id=\"T_d0ef3380_2024_11eb_aedc_c100596128d3row15_col14\" class=\"data row15 col14\" >nan</td>\n",
       "                        <td id=\"T_d0ef3380_2024_11eb_aedc_c100596128d3row15_col15\" class=\"data row15 col15\" >nan</td>\n",
       "                        <td id=\"T_d0ef3380_2024_11eb_aedc_c100596128d3row15_col16\" class=\"data row15 col16\" >nan</td>\n",
       "                        <td id=\"T_d0ef3380_2024_11eb_aedc_c100596128d3row15_col17\" class=\"data row15 col17\" >nan</td>\n",
       "                        <td id=\"T_d0ef3380_2024_11eb_aedc_c100596128d3row15_col18\" class=\"data row15 col18\" >nan</td>\n",
       "                        <td id=\"T_d0ef3380_2024_11eb_aedc_c100596128d3row15_col19\" class=\"data row15 col19\" >nan</td>\n",
       "                        <td id=\"T_d0ef3380_2024_11eb_aedc_c100596128d3row15_col20\" class=\"data row15 col20\" >nan</td>\n",
       "            </tr>\n",
       "            <tr>\n",
       "                        <th id=\"T_d0ef3380_2024_11eb_aedc_c100596128d3level0_row16\" class=\"row_heading level0 row16\" >12</th>\n",
       "                        <td id=\"T_d0ef3380_2024_11eb_aedc_c100596128d3row16_col0\" class=\"data row16 col0\" >SupervisedModelTraining.model.NARMModel</td>\n",
       "                        <td id=\"T_d0ef3380_2024_11eb_aedc_c100596128d3row16_col1\" class=\"data row16 col1\" ></td>\n",
       "                        <td id=\"T_d0ef3380_2024_11eb_aedc_c100596128d3row16_col2\" class=\"data row16 col2\" >SupervisedModelTraining____mars_gym_model_b____8c32a74b54_1119c93342</td>\n",
       "                        <td id=\"T_d0ef3380_2024_11eb_aedc_c100596128d3row16_col3\" class=\"data row16 col3\" >1803</td>\n",
       "                        <td id=\"T_d0ef3380_2024_11eb_aedc_c100596128d3row16_col4\" class=\"data row16 col4\" >0.623617</td>\n",
       "                        <td id=\"T_d0ef3380_2024_11eb_aedc_c100596128d3row16_col5\" class=\"data row16 col5\" >0.53411</td>\n",
       "                        <td id=\"T_d0ef3380_2024_11eb_aedc_c100596128d3row16_col6\" class=\"data row16 col6\" >0.606822</td>\n",
       "                        <td id=\"T_d0ef3380_2024_11eb_aedc_c100596128d3row16_col7\" class=\"data row16 col7\" >0.678082</td>\n",
       "                        <td id=\"T_d0ef3380_2024_11eb_aedc_c100596128d3row16_col8\" class=\"data row16 col8\" >0.614615</td>\n",
       "                        <td id=\"T_d0ef3380_2024_11eb_aedc_c100596128d3row16_col9\" class=\"data row16 col9\" >0.69796</td>\n",
       "                        <td id=\"T_d0ef3380_2024_11eb_aedc_c100596128d3row16_col10\" class=\"data row16 col10\" ></td>\n",
       "                        <td id=\"T_d0ef3380_2024_11eb_aedc_c100596128d3row16_col11\" class=\"data row16 col11\" >nan</td>\n",
       "                        <td id=\"T_d0ef3380_2024_11eb_aedc_c100596128d3row16_col12\" class=\"data row16 col12\" >nan</td>\n",
       "                        <td id=\"T_d0ef3380_2024_11eb_aedc_c100596128d3row16_col13\" class=\"data row16 col13\" >nan</td>\n",
       "                        <td id=\"T_d0ef3380_2024_11eb_aedc_c100596128d3row16_col14\" class=\"data row16 col14\" >nan</td>\n",
       "                        <td id=\"T_d0ef3380_2024_11eb_aedc_c100596128d3row16_col15\" class=\"data row16 col15\" >nan</td>\n",
       "                        <td id=\"T_d0ef3380_2024_11eb_aedc_c100596128d3row16_col16\" class=\"data row16 col16\" >nan</td>\n",
       "                        <td id=\"T_d0ef3380_2024_11eb_aedc_c100596128d3row16_col17\" class=\"data row16 col17\" >nan</td>\n",
       "                        <td id=\"T_d0ef3380_2024_11eb_aedc_c100596128d3row16_col18\" class=\"data row16 col18\" >nan</td>\n",
       "                        <td id=\"T_d0ef3380_2024_11eb_aedc_c100596128d3row16_col19\" class=\"data row16 col19\" >nan</td>\n",
       "                        <td id=\"T_d0ef3380_2024_11eb_aedc_c100596128d3row16_col20\" class=\"data row16 col20\" >nan</td>\n",
       "            </tr>\n",
       "            <tr>\n",
       "                        <th id=\"T_d0ef3380_2024_11eb_aedc_c100596128d3level0_row17\" class=\"row_heading level0 row17\" >19</th>\n",
       "                        <td id=\"T_d0ef3380_2024_11eb_aedc_c100596128d3row17_col0\" class=\"data row17 col0\" >SupervisedModelTraining.model.NARMModel</td>\n",
       "                        <td id=\"T_d0ef3380_2024_11eb_aedc_c100596128d3row17_col1\" class=\"data row17 col1\" ></td>\n",
       "                        <td id=\"T_d0ef3380_2024_11eb_aedc_c100596128d3row17_col2\" class=\"data row17 col2\" >SupervisedModelTraining____mars_gym_model_b____e5521a6762_fd31715b6b</td>\n",
       "                        <td id=\"T_d0ef3380_2024_11eb_aedc_c100596128d3row17_col3\" class=\"data row17 col3\" >1803</td>\n",
       "                        <td id=\"T_d0ef3380_2024_11eb_aedc_c100596128d3row17_col4\" class=\"data row17 col4\" >0.628261</td>\n",
       "                        <td id=\"T_d0ef3380_2024_11eb_aedc_c100596128d3row17_col5\" class=\"data row17 col5\" >0.542984</td>\n",
       "                        <td id=\"T_d0ef3380_2024_11eb_aedc_c100596128d3row17_col6\" class=\"data row17 col6\" >0.610677</td>\n",
       "                        <td id=\"T_d0ef3380_2024_11eb_aedc_c100596128d3row17_col7\" class=\"data row17 col7\" >0.677402</td>\n",
       "                        <td id=\"T_d0ef3380_2024_11eb_aedc_c100596128d3row17_col8\" class=\"data row17 col8\" >0.6201</td>\n",
       "                        <td id=\"T_d0ef3380_2024_11eb_aedc_c100596128d3row17_col9\" class=\"data row17 col9\" >0.701863</td>\n",
       "                        <td id=\"T_d0ef3380_2024_11eb_aedc_c100596128d3row17_col10\" class=\"data row17 col10\" ></td>\n",
       "                        <td id=\"T_d0ef3380_2024_11eb_aedc_c100596128d3row17_col11\" class=\"data row17 col11\" >nan</td>\n",
       "                        <td id=\"T_d0ef3380_2024_11eb_aedc_c100596128d3row17_col12\" class=\"data row17 col12\" >nan</td>\n",
       "                        <td id=\"T_d0ef3380_2024_11eb_aedc_c100596128d3row17_col13\" class=\"data row17 col13\" >nan</td>\n",
       "                        <td id=\"T_d0ef3380_2024_11eb_aedc_c100596128d3row17_col14\" class=\"data row17 col14\" >nan</td>\n",
       "                        <td id=\"T_d0ef3380_2024_11eb_aedc_c100596128d3row17_col15\" class=\"data row17 col15\" >nan</td>\n",
       "                        <td id=\"T_d0ef3380_2024_11eb_aedc_c100596128d3row17_col16\" class=\"data row17 col16\" >nan</td>\n",
       "                        <td id=\"T_d0ef3380_2024_11eb_aedc_c100596128d3row17_col17\" class=\"data row17 col17\" >nan</td>\n",
       "                        <td id=\"T_d0ef3380_2024_11eb_aedc_c100596128d3row17_col18\" class=\"data row17 col18\" >nan</td>\n",
       "                        <td id=\"T_d0ef3380_2024_11eb_aedc_c100596128d3row17_col19\" class=\"data row17 col19\" >nan</td>\n",
       "                        <td id=\"T_d0ef3380_2024_11eb_aedc_c100596128d3row17_col20\" class=\"data row17 col20\" >nan</td>\n",
       "            </tr>\n",
       "            <tr>\n",
       "                        <th id=\"T_d0ef3380_2024_11eb_aedc_c100596128d3level0_row18\" class=\"row_heading level0 row18\" >13</th>\n",
       "                        <td id=\"T_d0ef3380_2024_11eb_aedc_c100596128d3row18_col0\" class=\"data row18 col0\" >SupervisedModelTraining.model.NARMModel</td>\n",
       "                        <td id=\"T_d0ef3380_2024_11eb_aedc_c100596128d3row18_col1\" class=\"data row18 col1\" ></td>\n",
       "                        <td id=\"T_d0ef3380_2024_11eb_aedc_c100596128d3row18_col2\" class=\"data row18 col2\" >SupervisedModelTraining____mars_gym_model_b____478a72722f_375c88c931</td>\n",
       "                        <td id=\"T_d0ef3380_2024_11eb_aedc_c100596128d3row18_col3\" class=\"data row18 col3\" >1803</td>\n",
       "                        <td id=\"T_d0ef3380_2024_11eb_aedc_c100596128d3row18_col4\" class=\"data row18 col4\" >0.63914</td>\n",
       "                        <td id=\"T_d0ef3380_2024_11eb_aedc_c100596128d3row18_col5\" class=\"data row18 col5\" >0.561841</td>\n",
       "                        <td id=\"T_d0ef3380_2024_11eb_aedc_c100596128d3row18_col6\" class=\"data row18 col6\" >0.623544</td>\n",
       "                        <td id=\"T_d0ef3380_2024_11eb_aedc_c100596128d3row18_col7\" class=\"data row18 col7\" >0.684619</td>\n",
       "                        <td id=\"T_d0ef3380_2024_11eb_aedc_c100596128d3row18_col8\" class=\"data row18 col8\" >0.63067</td>\n",
       "                        <td id=\"T_d0ef3380_2024_11eb_aedc_c100596128d3row18_col9\" class=\"data row18 col9\" >0.703161</td>\n",
       "                        <td id=\"T_d0ef3380_2024_11eb_aedc_c100596128d3row18_col10\" class=\"data row18 col10\" ></td>\n",
       "                        <td id=\"T_d0ef3380_2024_11eb_aedc_c100596128d3row18_col11\" class=\"data row18 col11\" >nan</td>\n",
       "                        <td id=\"T_d0ef3380_2024_11eb_aedc_c100596128d3row18_col12\" class=\"data row18 col12\" >nan</td>\n",
       "                        <td id=\"T_d0ef3380_2024_11eb_aedc_c100596128d3row18_col13\" class=\"data row18 col13\" >nan</td>\n",
       "                        <td id=\"T_d0ef3380_2024_11eb_aedc_c100596128d3row18_col14\" class=\"data row18 col14\" >nan</td>\n",
       "                        <td id=\"T_d0ef3380_2024_11eb_aedc_c100596128d3row18_col15\" class=\"data row18 col15\" >nan</td>\n",
       "                        <td id=\"T_d0ef3380_2024_11eb_aedc_c100596128d3row18_col16\" class=\"data row18 col16\" >nan</td>\n",
       "                        <td id=\"T_d0ef3380_2024_11eb_aedc_c100596128d3row18_col17\" class=\"data row18 col17\" >nan</td>\n",
       "                        <td id=\"T_d0ef3380_2024_11eb_aedc_c100596128d3row18_col18\" class=\"data row18 col18\" >nan</td>\n",
       "                        <td id=\"T_d0ef3380_2024_11eb_aedc_c100596128d3row18_col19\" class=\"data row18 col19\" >nan</td>\n",
       "                        <td id=\"T_d0ef3380_2024_11eb_aedc_c100596128d3row18_col20\" class=\"data row18 col20\" >nan</td>\n",
       "            </tr>\n",
       "            <tr>\n",
       "                        <th id=\"T_d0ef3380_2024_11eb_aedc_c100596128d3level0_row19\" class=\"row_heading level0 row19\" >11</th>\n",
       "                        <td id=\"T_d0ef3380_2024_11eb_aedc_c100596128d3row19_col0\" class=\"data row19 col0\" >SupervisedModelTraining.model.NARMModel</td>\n",
       "                        <td id=\"T_d0ef3380_2024_11eb_aedc_c100596128d3row19_col1\" class=\"data row19 col1\" ></td>\n",
       "                        <td id=\"T_d0ef3380_2024_11eb_aedc_c100596128d3row19_col2\" class=\"data row19 col2\" >SupervisedModelTraining____mars_gym_model_b____053af2188d_d555e6863f</td>\n",
       "                        <td id=\"T_d0ef3380_2024_11eb_aedc_c100596128d3row19_col3\" class=\"data row19 col3\" >1803</td>\n",
       "                        <td id=\"T_d0ef3380_2024_11eb_aedc_c100596128d3row19_col4\" class=\"data row19 col4\" >0.63799</td>\n",
       "                        <td id=\"T_d0ef3380_2024_11eb_aedc_c100596128d3row19_col5\" class=\"data row19 col5\" >0.55685</td>\n",
       "                        <td id=\"T_d0ef3380_2024_11eb_aedc_c100596128d3row19_col6\" class=\"data row19 col6\" >0.6231</td>\n",
       "                        <td id=\"T_d0ef3380_2024_11eb_aedc_c100596128d3row19_col7\" class=\"data row19 col7\" >0.68874</td>\n",
       "                        <td id=\"T_d0ef3380_2024_11eb_aedc_c100596128d3row19_col8\" class=\"data row19 col8\" >0.629704</td>\n",
       "                        <td id=\"T_d0ef3380_2024_11eb_aedc_c100596128d3row19_col9\" class=\"data row19 col9\" >0.705748</td>\n",
       "                        <td id=\"T_d0ef3380_2024_11eb_aedc_c100596128d3row19_col10\" class=\"data row19 col10\" ></td>\n",
       "                        <td id=\"T_d0ef3380_2024_11eb_aedc_c100596128d3row19_col11\" class=\"data row19 col11\" >nan</td>\n",
       "                        <td id=\"T_d0ef3380_2024_11eb_aedc_c100596128d3row19_col12\" class=\"data row19 col12\" >nan</td>\n",
       "                        <td id=\"T_d0ef3380_2024_11eb_aedc_c100596128d3row19_col13\" class=\"data row19 col13\" >nan</td>\n",
       "                        <td id=\"T_d0ef3380_2024_11eb_aedc_c100596128d3row19_col14\" class=\"data row19 col14\" >nan</td>\n",
       "                        <td id=\"T_d0ef3380_2024_11eb_aedc_c100596128d3row19_col15\" class=\"data row19 col15\" >nan</td>\n",
       "                        <td id=\"T_d0ef3380_2024_11eb_aedc_c100596128d3row19_col16\" class=\"data row19 col16\" >nan</td>\n",
       "                        <td id=\"T_d0ef3380_2024_11eb_aedc_c100596128d3row19_col17\" class=\"data row19 col17\" >nan</td>\n",
       "                        <td id=\"T_d0ef3380_2024_11eb_aedc_c100596128d3row19_col18\" class=\"data row19 col18\" >nan</td>\n",
       "                        <td id=\"T_d0ef3380_2024_11eb_aedc_c100596128d3row19_col19\" class=\"data row19 col19\" >nan</td>\n",
       "                        <td id=\"T_d0ef3380_2024_11eb_aedc_c100596128d3row19_col20\" class=\"data row19 col20\" >nan</td>\n",
       "            </tr>\n",
       "            <tr>\n",
       "                        <th id=\"T_d0ef3380_2024_11eb_aedc_c100596128d3level0_row20\" class=\"row_heading level0 row20\" >2</th>\n",
       "                        <td id=\"T_d0ef3380_2024_11eb_aedc_c100596128d3row20_col0\" class=\"data row20 col0\" >SupervisedModelTraining.model.NARMModel</td>\n",
       "                        <td id=\"T_d0ef3380_2024_11eb_aedc_c100596128d3row20_col1\" class=\"data row20 col1\" ></td>\n",
       "                        <td id=\"T_d0ef3380_2024_11eb_aedc_c100596128d3row20_col2\" class=\"data row20 col2\" >SupervisedModelTraining____mars_gym_model_b____256fa54763_56f89e24c6</td>\n",
       "                        <td id=\"T_d0ef3380_2024_11eb_aedc_c100596128d3row20_col3\" class=\"data row20 col3\" >1803</td>\n",
       "                        <td id=\"T_d0ef3380_2024_11eb_aedc_c100596128d3row20_col4\" class=\"data row20 col4\" >0.647649</td>\n",
       "                        <td id=\"T_d0ef3380_2024_11eb_aedc_c100596128d3row20_col5\" class=\"data row20 col5\" >0.572379</td>\n",
       "                        <td id=\"T_d0ef3380_2024_11eb_aedc_c100596128d3row20_col6\" class=\"data row20 col6\" >0.630394</td>\n",
       "                        <td id=\"T_d0ef3380_2024_11eb_aedc_c100596128d3row20_col7\" class=\"data row20 col7\" >0.687458</td>\n",
       "                        <td id=\"T_d0ef3380_2024_11eb_aedc_c100596128d3row20_col8\" class=\"data row20 col8\" >0.639213</td>\n",
       "                        <td id=\"T_d0ef3380_2024_11eb_aedc_c100596128d3row20_col9\" class=\"data row20 col9\" >0.709994</td>\n",
       "                        <td id=\"T_d0ef3380_2024_11eb_aedc_c100596128d3row20_col10\" class=\"data row20 col10\" ></td>\n",
       "                        <td id=\"T_d0ef3380_2024_11eb_aedc_c100596128d3row20_col11\" class=\"data row20 col11\" >nan</td>\n",
       "                        <td id=\"T_d0ef3380_2024_11eb_aedc_c100596128d3row20_col12\" class=\"data row20 col12\" >nan</td>\n",
       "                        <td id=\"T_d0ef3380_2024_11eb_aedc_c100596128d3row20_col13\" class=\"data row20 col13\" >nan</td>\n",
       "                        <td id=\"T_d0ef3380_2024_11eb_aedc_c100596128d3row20_col14\" class=\"data row20 col14\" >nan</td>\n",
       "                        <td id=\"T_d0ef3380_2024_11eb_aedc_c100596128d3row20_col15\" class=\"data row20 col15\" >nan</td>\n",
       "                        <td id=\"T_d0ef3380_2024_11eb_aedc_c100596128d3row20_col16\" class=\"data row20 col16\" >nan</td>\n",
       "                        <td id=\"T_d0ef3380_2024_11eb_aedc_c100596128d3row20_col17\" class=\"data row20 col17\" >nan</td>\n",
       "                        <td id=\"T_d0ef3380_2024_11eb_aedc_c100596128d3row20_col18\" class=\"data row20 col18\" >nan</td>\n",
       "                        <td id=\"T_d0ef3380_2024_11eb_aedc_c100596128d3row20_col19\" class=\"data row20 col19\" >nan</td>\n",
       "                        <td id=\"T_d0ef3380_2024_11eb_aedc_c100596128d3row20_col20\" class=\"data row20 col20\" >nan</td>\n",
       "            </tr>\n",
       "            <tr>\n",
       "                        <th id=\"T_d0ef3380_2024_11eb_aedc_c100596128d3level0_row21\" class=\"row_heading level0 row21\" >21</th>\n",
       "                        <td id=\"T_d0ef3380_2024_11eb_aedc_c100596128d3row21_col0\" class=\"data row21 col0\" >SupervisedModelTraining.model.NARMModel</td>\n",
       "                        <td id=\"T_d0ef3380_2024_11eb_aedc_c100596128d3row21_col1\" class=\"data row21 col1\" >with dropout layer</td>\n",
       "                        <td id=\"T_d0ef3380_2024_11eb_aedc_c100596128d3row21_col2\" class=\"data row21 col2\" >SupervisedModelTraining____mars_gym_model_b____2f2f2de57c_45660f3d01</td>\n",
       "                        <td id=\"T_d0ef3380_2024_11eb_aedc_c100596128d3row21_col3\" class=\"data row21 col3\" >1803</td>\n",
       "                        <td id=\"T_d0ef3380_2024_11eb_aedc_c100596128d3row21_col4\" class=\"data row21 col4\" >0.643523</td>\n",
       "                        <td id=\"T_d0ef3380_2024_11eb_aedc_c100596128d3row21_col5\" class=\"data row21 col5\" >0.561841</td>\n",
       "                        <td id=\"T_d0ef3380_2024_11eb_aedc_c100596128d3row21_col6\" class=\"data row21 col6\" >0.626909</td>\n",
       "                        <td id=\"T_d0ef3380_2024_11eb_aedc_c100596128d3row21_col7\" class=\"data row21 col7\" >0.691147</td>\n",
       "                        <td id=\"T_d0ef3380_2024_11eb_aedc_c100596128d3row21_col8\" class=\"data row21 col8\" >0.635606</td>\n",
       "                        <td id=\"T_d0ef3380_2024_11eb_aedc_c100596128d3row21_col9\" class=\"data row21 col9\" >0.713431</td>\n",
       "                        <td id=\"T_d0ef3380_2024_11eb_aedc_c100596128d3row21_col10\" class=\"data row21 col10\" ></td>\n",
       "                        <td id=\"T_d0ef3380_2024_11eb_aedc_c100596128d3row21_col11\" class=\"data row21 col11\" >nan</td>\n",
       "                        <td id=\"T_d0ef3380_2024_11eb_aedc_c100596128d3row21_col12\" class=\"data row21 col12\" >nan</td>\n",
       "                        <td id=\"T_d0ef3380_2024_11eb_aedc_c100596128d3row21_col13\" class=\"data row21 col13\" >nan</td>\n",
       "                        <td id=\"T_d0ef3380_2024_11eb_aedc_c100596128d3row21_col14\" class=\"data row21 col14\" >nan</td>\n",
       "                        <td id=\"T_d0ef3380_2024_11eb_aedc_c100596128d3row21_col15\" class=\"data row21 col15\" >nan</td>\n",
       "                        <td id=\"T_d0ef3380_2024_11eb_aedc_c100596128d3row21_col16\" class=\"data row21 col16\" >nan</td>\n",
       "                        <td id=\"T_d0ef3380_2024_11eb_aedc_c100596128d3row21_col17\" class=\"data row21 col17\" >nan</td>\n",
       "                        <td id=\"T_d0ef3380_2024_11eb_aedc_c100596128d3row21_col18\" class=\"data row21 col18\" >nan</td>\n",
       "                        <td id=\"T_d0ef3380_2024_11eb_aedc_c100596128d3row21_col19\" class=\"data row21 col19\" >nan</td>\n",
       "                        <td id=\"T_d0ef3380_2024_11eb_aedc_c100596128d3row21_col20\" class=\"data row21 col20\" >nan</td>\n",
       "            </tr>\n",
       "            <tr>\n",
       "                        <th id=\"T_d0ef3380_2024_11eb_aedc_c100596128d3level0_row22\" class=\"row_heading level0 row22\" >7</th>\n",
       "                        <td id=\"T_d0ef3380_2024_11eb_aedc_c100596128d3row22_col0\" class=\"data row22 col0\" >SupervisedModelTraining.model.NARMModel</td>\n",
       "                        <td id=\"T_d0ef3380_2024_11eb_aedc_c100596128d3row22_col1\" class=\"data row22 col1\" ></td>\n",
       "                        <td id=\"T_d0ef3380_2024_11eb_aedc_c100596128d3row22_col2\" class=\"data row22 col2\" >SupervisedModelTraining____mars_gym_model_b____d2bd990dcf_bfeaaef9c8</td>\n",
       "                        <td id=\"T_d0ef3380_2024_11eb_aedc_c100596128d3row22_col3\" class=\"data row22 col3\" >1803</td>\n",
       "                        <td id=\"T_d0ef3380_2024_11eb_aedc_c100596128d3row22_col4\" class=\"data row22 col4\" >0.653038</td>\n",
       "                        <td id=\"T_d0ef3380_2024_11eb_aedc_c100596128d3row22_col5\" class=\"data row22 col5\" >0.573489</td>\n",
       "                        <td id=\"T_d0ef3380_2024_11eb_aedc_c100596128d3row22_col6\" class=\"data row22 col6\" >0.638676</td>\n",
       "                        <td id=\"T_d0ef3380_2024_11eb_aedc_c100596128d3row22_col7\" class=\"data row22 col7\" >0.703055</td>\n",
       "                        <td id=\"T_d0ef3380_2024_11eb_aedc_c100596128d3row22_col8\" class=\"data row22 col8\" >0.645791</td>\n",
       "                        <td id=\"T_d0ef3380_2024_11eb_aedc_c100596128d3row22_col9\" class=\"data row22 col9\" >0.721294</td>\n",
       "                        <td id=\"T_d0ef3380_2024_11eb_aedc_c100596128d3row22_col10\" class=\"data row22 col10\" ></td>\n",
       "                        <td id=\"T_d0ef3380_2024_11eb_aedc_c100596128d3row22_col11\" class=\"data row22 col11\" >nan</td>\n",
       "                        <td id=\"T_d0ef3380_2024_11eb_aedc_c100596128d3row22_col12\" class=\"data row22 col12\" >nan</td>\n",
       "                        <td id=\"T_d0ef3380_2024_11eb_aedc_c100596128d3row22_col13\" class=\"data row22 col13\" >nan</td>\n",
       "                        <td id=\"T_d0ef3380_2024_11eb_aedc_c100596128d3row22_col14\" class=\"data row22 col14\" >nan</td>\n",
       "                        <td id=\"T_d0ef3380_2024_11eb_aedc_c100596128d3row22_col15\" class=\"data row22 col15\" >nan</td>\n",
       "                        <td id=\"T_d0ef3380_2024_11eb_aedc_c100596128d3row22_col16\" class=\"data row22 col16\" >nan</td>\n",
       "                        <td id=\"T_d0ef3380_2024_11eb_aedc_c100596128d3row22_col17\" class=\"data row22 col17\" >nan</td>\n",
       "                        <td id=\"T_d0ef3380_2024_11eb_aedc_c100596128d3row22_col18\" class=\"data row22 col18\" >nan</td>\n",
       "                        <td id=\"T_d0ef3380_2024_11eb_aedc_c100596128d3row22_col19\" class=\"data row22 col19\" >nan</td>\n",
       "                        <td id=\"T_d0ef3380_2024_11eb_aedc_c100596128d3row22_col20\" class=\"data row22 col20\" >nan</td>\n",
       "            </tr>\n",
       "            <tr>\n",
       "                        <th id=\"T_d0ef3380_2024_11eb_aedc_c100596128d3level0_row23\" class=\"row_heading level0 row23\" >22</th>\n",
       "                        <td id=\"T_d0ef3380_2024_11eb_aedc_c100596128d3row23_col0\" class=\"data row23 col0\" >SupervisedModelTraining.model.NARMModel</td>\n",
       "                        <td id=\"T_d0ef3380_2024_11eb_aedc_c100596128d3row23_col1\" class=\"data row23 col1\" >exp 1</td>\n",
       "                        <td id=\"T_d0ef3380_2024_11eb_aedc_c100596128d3row23_col2\" class=\"data row23 col2\" >SupervisedModelTraining____mars_gym_model_b____b92d68b8b7_178cd69b7e</td>\n",
       "                        <td id=\"T_d0ef3380_2024_11eb_aedc_c100596128d3row23_col3\" class=\"data row23 col3\" >2862</td>\n",
       "                        <td id=\"T_d0ef3380_2024_11eb_aedc_c100596128d3row23_col4\" class=\"data row23 col4\" >0.672981</td>\n",
       "                        <td id=\"T_d0ef3380_2024_11eb_aedc_c100596128d3row23_col5\" class=\"data row23 col5\" >0.604472</td>\n",
       "                        <td id=\"T_d0ef3380_2024_11eb_aedc_c100596128d3row23_col6\" class=\"data row23 col6\" >0.657303</td>\n",
       "                        <td id=\"T_d0ef3380_2024_11eb_aedc_c100596128d3row23_col7\" class=\"data row23 col7\" >0.709315</td>\n",
       "                        <td id=\"T_d0ef3380_2024_11eb_aedc_c100596128d3row23_col8\" class=\"data row23 col8\" >0.66568</td>\n",
       "                        <td id=\"T_d0ef3380_2024_11eb_aedc_c100596128d3row23_col9\" class=\"data row23 col9\" >0.731059</td>\n",
       "                        <td id=\"T_d0ef3380_2024_11eb_aedc_c100596128d3row23_col10\" class=\"data row23 col10\" ></td>\n",
       "                        <td id=\"T_d0ef3380_2024_11eb_aedc_c100596128d3row23_col11\" class=\"data row23 col11\" >nan</td>\n",
       "                        <td id=\"T_d0ef3380_2024_11eb_aedc_c100596128d3row23_col12\" class=\"data row23 col12\" >nan</td>\n",
       "                        <td id=\"T_d0ef3380_2024_11eb_aedc_c100596128d3row23_col13\" class=\"data row23 col13\" >nan</td>\n",
       "                        <td id=\"T_d0ef3380_2024_11eb_aedc_c100596128d3row23_col14\" class=\"data row23 col14\" >nan</td>\n",
       "                        <td id=\"T_d0ef3380_2024_11eb_aedc_c100596128d3row23_col15\" class=\"data row23 col15\" >nan</td>\n",
       "                        <td id=\"T_d0ef3380_2024_11eb_aedc_c100596128d3row23_col16\" class=\"data row23 col16\" >nan</td>\n",
       "                        <td id=\"T_d0ef3380_2024_11eb_aedc_c100596128d3row23_col17\" class=\"data row23 col17\" >nan</td>\n",
       "                        <td id=\"T_d0ef3380_2024_11eb_aedc_c100596128d3row23_col18\" class=\"data row23 col18\" >nan</td>\n",
       "                        <td id=\"T_d0ef3380_2024_11eb_aedc_c100596128d3row23_col19\" class=\"data row23 col19\" >nan</td>\n",
       "                        <td id=\"T_d0ef3380_2024_11eb_aedc_c100596128d3row23_col20\" class=\"data row23 col20\" >nan</td>\n",
       "            </tr>\n",
       "    </tbody></table>"
      ],
      "text/plain": [
       "<pandas.io.formats.style.Styler at 0x7f0424601be0>"
      ]
     },
     "execution_count": 43,
     "metadata": {},
     "output_type": "execute_result"
    }
   ],
   "source": [
    "df_metrics = df_metrics.sort_values([\"model_class\",\"observation_x\", \"mean_average_precision\",  \"precision_at_1\", 'mrr_at_5', 'ndcg_at_10'])\n",
    "\n",
    "df_metrics.sort_values(['ndcg_at_10']).style.bar(subset=[\"mean_average_precision\",  \"precision_at_1\", 'mrr_at_5', 'ndcg_at_5', 'mrr_at_10', 'ndcg_at_10'], \n",
    "                     align='zero', color=['#d65f5f', '#5fba7d'])\n"
   ]
  },
  {
   "cell_type": "code",
   "execution_count": 45,
   "metadata": {},
   "outputs": [
    {
     "data": {
      "text/plain": [
       "'SupervisedModelTraining____mars_gym_model_b____d2bd990dcf_bfeaaef9c8'"
      ]
     },
     "execution_count": 45,
     "metadata": {},
     "output_type": "execute_result"
    }
   ],
   "source": [
    "df_metrics.sort_values(['ndcg_at_10']).iloc[-2].path_x"
   ]
  },
  {
   "cell_type": "code",
   "execution_count": 51,
   "metadata": {},
   "outputs": [
    {
     "data": {
      "text/plain": [
       "(12, 21)"
      ]
     },
     "execution_count": 51,
     "metadata": {},
     "output_type": "execute_result"
    }
   ],
   "source": [
    "df_metrics[df_metrics.model_class.isin([\"SupervisedModelTraining.model.NARMModel\"])].shape"
   ]
  },
  {
   "cell_type": "code",
   "execution_count": 53,
   "metadata": {},
   "outputs": [],
   "source": [
    "# import plotly.express as px\n",
    "\n",
    "# columns = {\n",
    "#     'recommender_extra_params.hidden_size_y': \"hidden_size\",\n",
    "#     'recommender_extra_params.n_layers_y': \"n_layers\",\n",
    "#     'recommender_extra_params.dropout_y': \"Dropout\",\n",
    "#     'optimizer_params.weight_decay_y': \"WeightDecay\"\n",
    "# }\n",
    "\n",
    "# # df = df.sort_values(['data_frames_preparation_extra_params.max_itens_per_session_y', \n",
    "# #                      'data_frames_preparation_extra_params.max_relative_pos_y',\n",
    "# #                      'data_frames_preparation_extra_params.pos_max_deep_y',\n",
    "# #                      'data_frames_preparation_extra_params.filter_first_interaction_y'])\n",
    "# df  = df_metrics[df_metrics.model_class.isin([\"SupervisedModelTraining.model.NARMModel\"])]\n",
    "\n",
    "# fig = px.parallel_categories(df, dimensions=list(columns.keys()),\n",
    "#                 color=\"ndcg_at_10\", \n",
    "#                 color_continuous_scale=px.colors.sequential.YlOrRd,\n",
    "#                 labels=columns)\n",
    "# fig.show()"
   ]
  },
  {
   "cell_type": "code",
   "execution_count": 48,
   "metadata": {},
   "outputs": [],
   "source": [
    "df_metrics.to_csv('output/metrics.csv')"
   ]
  },
  {
   "cell_type": "code",
   "execution_count": 49,
   "metadata": {},
   "outputs": [
    {
     "name": "stdout",
     "output_type": "stream",
     "text": [
      "(0, 20)\n"
     ]
    },
    {
     "data": {
      "text/html": [
       "<style  type=\"text/css\" >\n",
       "</style><table id=\"T_6e694130_2018_11eb_aedc_c100596128d3\" ><thead>    <tr>        <th class=\"blank level0\" ></th>        <th class=\"col_heading level0 col0\" >model_class</th>        <th class=\"col_heading level0 col1\" >observation_x</th>        <th class=\"col_heading level0 col2\" >count</th>        <th class=\"col_heading level0 col3\" >mean_average_precision</th>        <th class=\"col_heading level0 col4\" >precision_at_1</th>        <th class=\"col_heading level0 col5\" >mrr_at_5</th>        <th class=\"col_heading level0 col6\" >ndcg_at_5</th>        <th class=\"col_heading level0 col7\" >mrr_at_10</th>        <th class=\"col_heading level0 col8\" >ndcg_at_10</th>        <th class=\"col_heading level0 col9\" >triplet_path</th>        <th class=\"col_heading level0 col10\" >data_frames_preparation_extra_params.sample_days_y</th>        <th class=\"col_heading level0 col11\" >data_frames_preparation_extra_params.max_itens_per_session_y</th>        <th class=\"col_heading level0 col12\" >data_frames_preparation_extra_params.min_itens_interactions_y</th>        <th class=\"col_heading level0 col13\" >data_frames_preparation_extra_params.max_relative_pos_y</th>        <th class=\"col_heading level0 col14\" >data_frames_preparation_extra_params.pos_max_deep_y</th>        <th class=\"col_heading level0 col15\" >data_frames_preparation_extra_params.filter_first_interaction_y</th>        <th class=\"col_heading level0 col16\" >loss_function_params.l2_reg_y</th>        <th class=\"col_heading level0 col17\" >optimizer_params.weight_decay_y</th>        <th class=\"col_heading level0 col18\" >recommender_extra_params.dropout_y</th>        <th class=\"col_heading level0 col19\" >recommender_extra_params.negative_random_y</th>    </tr></thead><tbody>\n",
       "        </tbody></table>"
      ],
      "text/plain": [
       "<pandas.io.formats.style.Styler at 0x7f52e176c358>"
      ]
     },
     "execution_count": 49,
     "metadata": {},
     "output_type": "execute_result"
    }
   ],
   "source": [
    "df  = df_metrics[df_metrics.model_class.isin([\"TripletPredTraining.None\"])]\n",
    "print(df.shape)\n",
    "df.style.bar(subset=[\"mean_average_precision\",  \"precision_at_1\", 'mrr_at_5', 'ndcg_at_5', 'mrr_at_10', 'ndcg_at_10'], \n",
    "                     align='zero', color=['#d65f5f', '#5fba7d'])"
   ]
  },
  {
   "cell_type": "code",
   "execution_count": 24,
   "metadata": {},
   "outputs": [
    {
     "data": {
      "text/plain": [
       "(56, 21)"
      ]
     },
     "execution_count": 24,
     "metadata": {},
     "output_type": "execute_result"
    }
   ],
   "source": [
    "df.shape"
   ]
  },
  {
   "cell_type": "code",
   "execution_count": 25,
   "metadata": {},
   "outputs": [
    {
     "data": {
      "application/vnd.plotly.v1+json": {
       "config": {
        "plotlyServerURL": "https://plot.ly"
       },
       "data": [
        {
         "dimensions": [
          {
           "label": "MaxItemPerSession",
           "values": [
            5,
            20,
            5,
            20,
            30,
            20,
            10,
            5,
            30,
            5,
            5,
            30,
            20,
            20,
            5,
            5,
            20,
            5,
            30,
            10,
            30,
            5,
            30,
            30,
            20,
            10,
            5,
            10,
            5,
            20,
            30,
            5,
            30,
            20,
            20,
            30,
            30,
            20,
            30,
            10,
            30,
            30,
            30,
            20,
            10,
            10,
            10,
            20,
            20,
            5,
            20,
            30,
            10,
            30,
            20,
            20
           ]
          },
          {
           "label": "MinItemInteraction",
           "values": [
            8,
            8,
            8,
            8,
            8,
            8,
            4,
            8,
            4,
            8,
            8,
            8,
            8,
            8,
            8,
            4,
            8,
            8,
            4,
            2,
            2,
            2,
            2,
            8,
            4,
            8,
            8,
            8,
            8,
            4,
            4,
            4,
            4,
            4,
            4,
            4,
            4,
            4,
            4,
            2,
            4,
            4,
            2,
            2,
            2,
            2,
            2,
            2,
            2,
            2,
            2,
            2,
            2,
            2,
            2,
            2
           ]
          },
          {
           "label": "MaxRelativePos",
           "values": [
            1,
            1,
            1,
            24,
            8,
            24,
            24,
            1,
            4,
            2,
            2,
            1,
            1,
            2,
            2,
            16,
            8,
            1,
            1,
            4,
            8,
            8,
            16,
            8,
            1,
            16,
            24,
            8,
            8,
            2,
            16,
            4,
            8,
            4,
            4,
            2,
            4,
            24,
            24,
            16,
            8,
            16,
            2,
            2,
            2,
            16,
            4,
            2,
            2,
            16,
            16,
            16,
            24,
            8,
            16,
            4
           ]
          },
          {
           "label": "PositiveDeep",
           "values": [
            2,
            2,
            1,
            3,
            1,
            0,
            3,
            2,
            0,
            0,
            3,
            0,
            3,
            2,
            3,
            2,
            2,
            1,
            3,
            1,
            2,
            0,
            2,
            1,
            2,
            0,
            3,
            0,
            1,
            1,
            1,
            0,
            2,
            3,
            0,
            3,
            3,
            2,
            0,
            2,
            3,
            1,
            1,
            1,
            3,
            0,
            2,
            3,
            1,
            2,
            2,
            2,
            2,
            1,
            1,
            0
           ]
          },
          {
           "label": "FilterOnlyOne",
           "values": [
            false,
            true,
            true,
            true,
            true,
            true,
            true,
            true,
            true,
            true,
            false,
            false,
            false,
            true,
            true,
            true,
            true,
            false,
            false,
            true,
            false,
            false,
            true,
            false,
            false,
            false,
            false,
            false,
            false,
            false,
            true,
            true,
            true,
            false,
            false,
            false,
            false,
            false,
            false,
            true,
            false,
            false,
            true,
            false,
            false,
            false,
            false,
            true,
            false,
            false,
            false,
            true,
            false,
            false,
            false,
            false
           ]
          },
          {
           "label": "L2Reg",
           "values": [
            0.01,
            1e-06,
            1e-06,
            0.01,
            0.0001,
            1e-06,
            0.01,
            0.01,
            0.0001,
            0.01,
            0.01,
            0.0001,
            0.0001,
            0.0001,
            0.0001,
            1e-06,
            1e-06,
            0.01,
            1e-06,
            1e-06,
            0.01,
            0.01,
            0.0001,
            0.0001,
            0.01,
            0.01,
            0.0001,
            0.0001,
            1e-06,
            1e-06,
            0.01,
            0.0001,
            1e-06,
            0.01,
            0.0001,
            1e-06,
            1e-06,
            0.0001,
            1e-06,
            0.0001,
            1e-06,
            1e-06,
            0.0001,
            1e-06,
            0.0001,
            0.01,
            1e-06,
            0.0001,
            0.01,
            1e-06,
            1e-06,
            0.0001,
            0.0001,
            1e-06,
            1e-06,
            1e-06
           ]
          },
          {
           "label": "WeightDecay",
           "values": [
            1e-05,
            0.0001,
            1e-06,
            1e-05,
            1e-05,
            1e-05,
            0.0001,
            1e-05,
            1e-05,
            1e-06,
            1e-06,
            1e-05,
            0.0001,
            1e-05,
            1e-05,
            0.0001,
            0.0001,
            0.0001,
            1e-06,
            0.0001,
            1e-06,
            1e-06,
            1e-05,
            1e-06,
            1e-05,
            0.0001,
            1e-06,
            1e-05,
            1e-05,
            1e-06,
            1e-05,
            0.0001,
            0.0001,
            1e-05,
            1e-05,
            1e-05,
            1e-06,
            1e-05,
            0.0001,
            0.0001,
            0.0001,
            1e-05,
            0.0001,
            0.0001,
            1e-05,
            1e-05,
            1e-05,
            1e-05,
            1e-06,
            1e-05,
            0.0001,
            1e-06,
            1e-05,
            1e-05,
            1e-05,
            1e-06
           ]
          },
          {
           "label": "Dropout",
           "values": [
            0.4,
            0.4,
            0.2,
            0,
            0.4,
            0,
            0.2,
            0.2,
            0.4,
            0.2,
            0.4,
            0.4,
            0.2,
            0.4,
            0,
            0.4,
            0,
            0,
            0.4,
            0.4,
            0.4,
            0.4,
            0.4,
            0.4,
            0.2,
            0,
            0.2,
            0.4,
            0.2,
            0,
            0,
            0.4,
            0.2,
            0,
            0.2,
            0,
            0,
            0,
            0.2,
            0.2,
            0,
            0,
            0.2,
            0,
            0,
            0,
            0.4,
            0,
            0,
            0,
            0,
            0.2,
            0,
            0.2,
            0.2,
            0
           ]
          },
          {
           "label": "NegativeRandom",
           "values": [
            0,
            0.05,
            0.1,
            0.05,
            0.05,
            0.2,
            0.05,
            0,
            0.2,
            0,
            0,
            0,
            0.1,
            0,
            0.1,
            0.2,
            0,
            0,
            0.05,
            0.2,
            0.1,
            0.2,
            0.05,
            0.2,
            0,
            0.2,
            0.2,
            0.1,
            0.05,
            0.05,
            0,
            0,
            0,
            0.1,
            0,
            0,
            0,
            0.2,
            0.1,
            0.1,
            0.1,
            0,
            0.1,
            0,
            0.1,
            0.05,
            0,
            0.05,
            0,
            0.2,
            0.2,
            0,
            0,
            0.2,
            0.05,
            0.05
           ]
          }
         ],
         "domain": {
          "x": [
           0,
           1
          ],
          "y": [
           0,
           1
          ]
         },
         "line": {
          "color": [
           0.05608807263301313,
           0.05695035910780525,
           0.05708396753843526,
           0.05789669781955256,
           0.058237928246553876,
           0.05941142595737662,
           0.06168607582080922,
           0.06725144610594931,
           0.06841265482957988,
           0.06902608979834479,
           0.06909196517582626,
           0.0691999401152997,
           0.07030119357901955,
           0.07177762527569023,
           0.07263931357017678,
           0.07297461808020797,
           0.07626005205142734,
           0.084697809457484,
           0.09331313313857098,
           0.09371761893075102,
           0.09547889010431439,
           0.10970033787665108,
           0.1340429569175828,
           0.13926138504080302,
           0.1557736839140505,
           0.15771281742225765,
           0.16297576213887957,
           0.1694677032106464,
           0.17274740150012696,
           0.17556044082987995,
           0.22726490960899243,
           0.22829891427065527,
           0.2717694394732976,
           0.29381393443864307,
           0.30951893192449104,
           0.3473082308728586,
           0.38247936200466565,
           0.40897126563945047,
           0.4105347627136012,
           0.4155265428780192,
           0.4168663137289511,
           0.4183053216872842,
           0.42163151117149034,
           0.4997554599274184,
           0.5012626775159491,
           0.539100398377604,
           0.5556559224252997,
           0.5591593310003534,
           0.5677293334170358,
           0.5875690966522329,
           0.5882173333016109,
           0.5915781652154765,
           0.6241052120094807,
           0.6297437511469072,
           0.6302629035571033,
           0.644270109243362
          ],
          "coloraxis": "coloraxis"
         },
         "name": "",
         "type": "parcats"
        }
       ],
       "layout": {
        "coloraxis": {
         "colorbar": {
          "title": {
           "text": "mean_average_precision"
          }
         },
         "colorscale": [
          [
           0,
           "rgb(255,255,204)"
          ],
          [
           0.125,
           "rgb(255,237,160)"
          ],
          [
           0.25,
           "rgb(254,217,118)"
          ],
          [
           0.375,
           "rgb(254,178,76)"
          ],
          [
           0.5,
           "rgb(253,141,60)"
          ],
          [
           0.625,
           "rgb(252,78,42)"
          ],
          [
           0.75,
           "rgb(227,26,28)"
          ],
          [
           0.875,
           "rgb(189,0,38)"
          ],
          [
           1,
           "rgb(128,0,38)"
          ]
         ]
        },
        "legend": {
         "tracegroupgap": 0
        },
        "margin": {
         "t": 60
        },
        "template": {
         "data": {
          "bar": [
           {
            "error_x": {
             "color": "#2a3f5f"
            },
            "error_y": {
             "color": "#2a3f5f"
            },
            "marker": {
             "line": {
              "color": "#E5ECF6",
              "width": 0.5
             }
            },
            "type": "bar"
           }
          ],
          "barpolar": [
           {
            "marker": {
             "line": {
              "color": "#E5ECF6",
              "width": 0.5
             }
            },
            "type": "barpolar"
           }
          ],
          "carpet": [
           {
            "aaxis": {
             "endlinecolor": "#2a3f5f",
             "gridcolor": "white",
             "linecolor": "white",
             "minorgridcolor": "white",
             "startlinecolor": "#2a3f5f"
            },
            "baxis": {
             "endlinecolor": "#2a3f5f",
             "gridcolor": "white",
             "linecolor": "white",
             "minorgridcolor": "white",
             "startlinecolor": "#2a3f5f"
            },
            "type": "carpet"
           }
          ],
          "choropleth": [
           {
            "colorbar": {
             "outlinewidth": 0,
             "ticks": ""
            },
            "type": "choropleth"
           }
          ],
          "contour": [
           {
            "colorbar": {
             "outlinewidth": 0,
             "ticks": ""
            },
            "colorscale": [
             [
              0,
              "#0d0887"
             ],
             [
              0.1111111111111111,
              "#46039f"
             ],
             [
              0.2222222222222222,
              "#7201a8"
             ],
             [
              0.3333333333333333,
              "#9c179e"
             ],
             [
              0.4444444444444444,
              "#bd3786"
             ],
             [
              0.5555555555555556,
              "#d8576b"
             ],
             [
              0.6666666666666666,
              "#ed7953"
             ],
             [
              0.7777777777777778,
              "#fb9f3a"
             ],
             [
              0.8888888888888888,
              "#fdca26"
             ],
             [
              1,
              "#f0f921"
             ]
            ],
            "type": "contour"
           }
          ],
          "contourcarpet": [
           {
            "colorbar": {
             "outlinewidth": 0,
             "ticks": ""
            },
            "type": "contourcarpet"
           }
          ],
          "heatmap": [
           {
            "colorbar": {
             "outlinewidth": 0,
             "ticks": ""
            },
            "colorscale": [
             [
              0,
              "#0d0887"
             ],
             [
              0.1111111111111111,
              "#46039f"
             ],
             [
              0.2222222222222222,
              "#7201a8"
             ],
             [
              0.3333333333333333,
              "#9c179e"
             ],
             [
              0.4444444444444444,
              "#bd3786"
             ],
             [
              0.5555555555555556,
              "#d8576b"
             ],
             [
              0.6666666666666666,
              "#ed7953"
             ],
             [
              0.7777777777777778,
              "#fb9f3a"
             ],
             [
              0.8888888888888888,
              "#fdca26"
             ],
             [
              1,
              "#f0f921"
             ]
            ],
            "type": "heatmap"
           }
          ],
          "heatmapgl": [
           {
            "colorbar": {
             "outlinewidth": 0,
             "ticks": ""
            },
            "colorscale": [
             [
              0,
              "#0d0887"
             ],
             [
              0.1111111111111111,
              "#46039f"
             ],
             [
              0.2222222222222222,
              "#7201a8"
             ],
             [
              0.3333333333333333,
              "#9c179e"
             ],
             [
              0.4444444444444444,
              "#bd3786"
             ],
             [
              0.5555555555555556,
              "#d8576b"
             ],
             [
              0.6666666666666666,
              "#ed7953"
             ],
             [
              0.7777777777777778,
              "#fb9f3a"
             ],
             [
              0.8888888888888888,
              "#fdca26"
             ],
             [
              1,
              "#f0f921"
             ]
            ],
            "type": "heatmapgl"
           }
          ],
          "histogram": [
           {
            "marker": {
             "colorbar": {
              "outlinewidth": 0,
              "ticks": ""
             }
            },
            "type": "histogram"
           }
          ],
          "histogram2d": [
           {
            "colorbar": {
             "outlinewidth": 0,
             "ticks": ""
            },
            "colorscale": [
             [
              0,
              "#0d0887"
             ],
             [
              0.1111111111111111,
              "#46039f"
             ],
             [
              0.2222222222222222,
              "#7201a8"
             ],
             [
              0.3333333333333333,
              "#9c179e"
             ],
             [
              0.4444444444444444,
              "#bd3786"
             ],
             [
              0.5555555555555556,
              "#d8576b"
             ],
             [
              0.6666666666666666,
              "#ed7953"
             ],
             [
              0.7777777777777778,
              "#fb9f3a"
             ],
             [
              0.8888888888888888,
              "#fdca26"
             ],
             [
              1,
              "#f0f921"
             ]
            ],
            "type": "histogram2d"
           }
          ],
          "histogram2dcontour": [
           {
            "colorbar": {
             "outlinewidth": 0,
             "ticks": ""
            },
            "colorscale": [
             [
              0,
              "#0d0887"
             ],
             [
              0.1111111111111111,
              "#46039f"
             ],
             [
              0.2222222222222222,
              "#7201a8"
             ],
             [
              0.3333333333333333,
              "#9c179e"
             ],
             [
              0.4444444444444444,
              "#bd3786"
             ],
             [
              0.5555555555555556,
              "#d8576b"
             ],
             [
              0.6666666666666666,
              "#ed7953"
             ],
             [
              0.7777777777777778,
              "#fb9f3a"
             ],
             [
              0.8888888888888888,
              "#fdca26"
             ],
             [
              1,
              "#f0f921"
             ]
            ],
            "type": "histogram2dcontour"
           }
          ],
          "mesh3d": [
           {
            "colorbar": {
             "outlinewidth": 0,
             "ticks": ""
            },
            "type": "mesh3d"
           }
          ],
          "parcoords": [
           {
            "line": {
             "colorbar": {
              "outlinewidth": 0,
              "ticks": ""
             }
            },
            "type": "parcoords"
           }
          ],
          "pie": [
           {
            "automargin": true,
            "type": "pie"
           }
          ],
          "scatter": [
           {
            "marker": {
             "colorbar": {
              "outlinewidth": 0,
              "ticks": ""
             }
            },
            "type": "scatter"
           }
          ],
          "scatter3d": [
           {
            "line": {
             "colorbar": {
              "outlinewidth": 0,
              "ticks": ""
             }
            },
            "marker": {
             "colorbar": {
              "outlinewidth": 0,
              "ticks": ""
             }
            },
            "type": "scatter3d"
           }
          ],
          "scattercarpet": [
           {
            "marker": {
             "colorbar": {
              "outlinewidth": 0,
              "ticks": ""
             }
            },
            "type": "scattercarpet"
           }
          ],
          "scattergeo": [
           {
            "marker": {
             "colorbar": {
              "outlinewidth": 0,
              "ticks": ""
             }
            },
            "type": "scattergeo"
           }
          ],
          "scattergl": [
           {
            "marker": {
             "colorbar": {
              "outlinewidth": 0,
              "ticks": ""
             }
            },
            "type": "scattergl"
           }
          ],
          "scattermapbox": [
           {
            "marker": {
             "colorbar": {
              "outlinewidth": 0,
              "ticks": ""
             }
            },
            "type": "scattermapbox"
           }
          ],
          "scatterpolar": [
           {
            "marker": {
             "colorbar": {
              "outlinewidth": 0,
              "ticks": ""
             }
            },
            "type": "scatterpolar"
           }
          ],
          "scatterpolargl": [
           {
            "marker": {
             "colorbar": {
              "outlinewidth": 0,
              "ticks": ""
             }
            },
            "type": "scatterpolargl"
           }
          ],
          "scatterternary": [
           {
            "marker": {
             "colorbar": {
              "outlinewidth": 0,
              "ticks": ""
             }
            },
            "type": "scatterternary"
           }
          ],
          "surface": [
           {
            "colorbar": {
             "outlinewidth": 0,
             "ticks": ""
            },
            "colorscale": [
             [
              0,
              "#0d0887"
             ],
             [
              0.1111111111111111,
              "#46039f"
             ],
             [
              0.2222222222222222,
              "#7201a8"
             ],
             [
              0.3333333333333333,
              "#9c179e"
             ],
             [
              0.4444444444444444,
              "#bd3786"
             ],
             [
              0.5555555555555556,
              "#d8576b"
             ],
             [
              0.6666666666666666,
              "#ed7953"
             ],
             [
              0.7777777777777778,
              "#fb9f3a"
             ],
             [
              0.8888888888888888,
              "#fdca26"
             ],
             [
              1,
              "#f0f921"
             ]
            ],
            "type": "surface"
           }
          ],
          "table": [
           {
            "cells": {
             "fill": {
              "color": "#EBF0F8"
             },
             "line": {
              "color": "white"
             }
            },
            "header": {
             "fill": {
              "color": "#C8D4E3"
             },
             "line": {
              "color": "white"
             }
            },
            "type": "table"
           }
          ]
         },
         "layout": {
          "annotationdefaults": {
           "arrowcolor": "#2a3f5f",
           "arrowhead": 0,
           "arrowwidth": 1
          },
          "coloraxis": {
           "colorbar": {
            "outlinewidth": 0,
            "ticks": ""
           }
          },
          "colorscale": {
           "diverging": [
            [
             0,
             "#8e0152"
            ],
            [
             0.1,
             "#c51b7d"
            ],
            [
             0.2,
             "#de77ae"
            ],
            [
             0.3,
             "#f1b6da"
            ],
            [
             0.4,
             "#fde0ef"
            ],
            [
             0.5,
             "#f7f7f7"
            ],
            [
             0.6,
             "#e6f5d0"
            ],
            [
             0.7,
             "#b8e186"
            ],
            [
             0.8,
             "#7fbc41"
            ],
            [
             0.9,
             "#4d9221"
            ],
            [
             1,
             "#276419"
            ]
           ],
           "sequential": [
            [
             0,
             "#0d0887"
            ],
            [
             0.1111111111111111,
             "#46039f"
            ],
            [
             0.2222222222222222,
             "#7201a8"
            ],
            [
             0.3333333333333333,
             "#9c179e"
            ],
            [
             0.4444444444444444,
             "#bd3786"
            ],
            [
             0.5555555555555556,
             "#d8576b"
            ],
            [
             0.6666666666666666,
             "#ed7953"
            ],
            [
             0.7777777777777778,
             "#fb9f3a"
            ],
            [
             0.8888888888888888,
             "#fdca26"
            ],
            [
             1,
             "#f0f921"
            ]
           ],
           "sequentialminus": [
            [
             0,
             "#0d0887"
            ],
            [
             0.1111111111111111,
             "#46039f"
            ],
            [
             0.2222222222222222,
             "#7201a8"
            ],
            [
             0.3333333333333333,
             "#9c179e"
            ],
            [
             0.4444444444444444,
             "#bd3786"
            ],
            [
             0.5555555555555556,
             "#d8576b"
            ],
            [
             0.6666666666666666,
             "#ed7953"
            ],
            [
             0.7777777777777778,
             "#fb9f3a"
            ],
            [
             0.8888888888888888,
             "#fdca26"
            ],
            [
             1,
             "#f0f921"
            ]
           ]
          },
          "colorway": [
           "#636efa",
           "#EF553B",
           "#00cc96",
           "#ab63fa",
           "#FFA15A",
           "#19d3f3",
           "#FF6692",
           "#B6E880",
           "#FF97FF",
           "#FECB52"
          ],
          "font": {
           "color": "#2a3f5f"
          },
          "geo": {
           "bgcolor": "white",
           "lakecolor": "white",
           "landcolor": "#E5ECF6",
           "showlakes": true,
           "showland": true,
           "subunitcolor": "white"
          },
          "hoverlabel": {
           "align": "left"
          },
          "hovermode": "closest",
          "mapbox": {
           "style": "light"
          },
          "paper_bgcolor": "white",
          "plot_bgcolor": "#E5ECF6",
          "polar": {
           "angularaxis": {
            "gridcolor": "white",
            "linecolor": "white",
            "ticks": ""
           },
           "bgcolor": "#E5ECF6",
           "radialaxis": {
            "gridcolor": "white",
            "linecolor": "white",
            "ticks": ""
           }
          },
          "scene": {
           "xaxis": {
            "backgroundcolor": "#E5ECF6",
            "gridcolor": "white",
            "gridwidth": 2,
            "linecolor": "white",
            "showbackground": true,
            "ticks": "",
            "zerolinecolor": "white"
           },
           "yaxis": {
            "backgroundcolor": "#E5ECF6",
            "gridcolor": "white",
            "gridwidth": 2,
            "linecolor": "white",
            "showbackground": true,
            "ticks": "",
            "zerolinecolor": "white"
           },
           "zaxis": {
            "backgroundcolor": "#E5ECF6",
            "gridcolor": "white",
            "gridwidth": 2,
            "linecolor": "white",
            "showbackground": true,
            "ticks": "",
            "zerolinecolor": "white"
           }
          },
          "shapedefaults": {
           "line": {
            "color": "#2a3f5f"
           }
          },
          "ternary": {
           "aaxis": {
            "gridcolor": "white",
            "linecolor": "white",
            "ticks": ""
           },
           "baxis": {
            "gridcolor": "white",
            "linecolor": "white",
            "ticks": ""
           },
           "bgcolor": "#E5ECF6",
           "caxis": {
            "gridcolor": "white",
            "linecolor": "white",
            "ticks": ""
           }
          },
          "title": {
           "x": 0.05
          },
          "xaxis": {
           "automargin": true,
           "gridcolor": "white",
           "linecolor": "white",
           "ticks": "",
           "title": {
            "standoff": 15
           },
           "zerolinecolor": "white",
           "zerolinewidth": 2
          },
          "yaxis": {
           "automargin": true,
           "gridcolor": "white",
           "linecolor": "white",
           "ticks": "",
           "title": {
            "standoff": 15
           },
           "zerolinecolor": "white",
           "zerolinewidth": 2
          }
         }
        }
       }
      },
      "text/html": [
       "<div>\n",
       "        \n",
       "        \n",
       "            <div id=\"883fbf90-76ba-4d2d-82a8-bcca281e22c2\" class=\"plotly-graph-div\" style=\"height:525px; width:100%;\"></div>\n",
       "            <script type=\"text/javascript\">\n",
       "                require([\"plotly\"], function(Plotly) {\n",
       "                    window.PLOTLYENV=window.PLOTLYENV || {};\n",
       "                    \n",
       "                if (document.getElementById(\"883fbf90-76ba-4d2d-82a8-bcca281e22c2\")) {\n",
       "                    Plotly.newPlot(\n",
       "                        '883fbf90-76ba-4d2d-82a8-bcca281e22c2',\n",
       "                        [{\"dimensions\": [{\"label\": \"MaxItemPerSession\", \"values\": [5.0, 20.0, 5.0, 20.0, 30.0, 20.0, 10.0, 5.0, 30.0, 5.0, 5.0, 30.0, 20.0, 20.0, 5.0, 5.0, 20.0, 5.0, 30.0, 10.0, 30.0, 5.0, 30.0, 30.0, 20.0, 10.0, 5.0, 10.0, 5.0, 20.0, 30.0, 5.0, 30.0, 20.0, 20.0, 30.0, 30.0, 20.0, 30.0, 10.0, 30.0, 30.0, 30.0, 20.0, 10.0, 10.0, 10.0, 20.0, 20.0, 5.0, 20.0, 30.0, 10.0, 30.0, 20.0, 20.0]}, {\"label\": \"MinItemInteraction\", \"values\": [8.0, 8.0, 8.0, 8.0, 8.0, 8.0, 4.0, 8.0, 4.0, 8.0, 8.0, 8.0, 8.0, 8.0, 8.0, 4.0, 8.0, 8.0, 4.0, 2.0, 2.0, 2.0, 2.0, 8.0, 4.0, 8.0, 8.0, 8.0, 8.0, 4.0, 4.0, 4.0, 4.0, 4.0, 4.0, 4.0, 4.0, 4.0, 4.0, 2.0, 4.0, 4.0, 2.0, 2.0, 2.0, 2.0, 2.0, 2.0, 2.0, 2.0, 2.0, 2.0, 2.0, 2.0, 2.0, 2.0]}, {\"label\": \"MaxRelativePos\", \"values\": [1.0, 1.0, 1.0, 24.0, 8.0, 24.0, 24.0, 1.0, 4.0, 2.0, 2.0, 1.0, 1.0, 2.0, 2.0, 16.0, 8.0, 1.0, 1.0, 4.0, 8.0, 8.0, 16.0, 8.0, 1.0, 16.0, 24.0, 8.0, 8.0, 2.0, 16.0, 4.0, 8.0, 4.0, 4.0, 2.0, 4.0, 24.0, 24.0, 16.0, 8.0, 16.0, 2.0, 2.0, 2.0, 16.0, 4.0, 2.0, 2.0, 16.0, 16.0, 16.0, 24.0, 8.0, 16.0, 4.0]}, {\"label\": \"PositiveDeep\", \"values\": [2.0, 2.0, 1.0, 3.0, 1.0, 0.0, 3.0, 2.0, 0.0, 0.0, 3.0, 0.0, 3.0, 2.0, 3.0, 2.0, 2.0, 1.0, 3.0, 1.0, 2.0, 0.0, 2.0, 1.0, 2.0, 0.0, 3.0, 0.0, 1.0, 1.0, 1.0, 0.0, 2.0, 3.0, 0.0, 3.0, 3.0, 2.0, 0.0, 2.0, 3.0, 1.0, 1.0, 1.0, 3.0, 0.0, 2.0, 3.0, 1.0, 2.0, 2.0, 2.0, 2.0, 1.0, 1.0, 0.0]}, {\"label\": \"FilterOnlyOne\", \"values\": [false, true, true, true, true, true, true, true, true, true, false, false, false, true, true, true, true, false, false, true, false, false, true, false, false, false, false, false, false, false, true, true, true, false, false, false, false, false, false, true, false, false, true, false, false, false, false, true, false, false, false, true, false, false, false, false]}, {\"label\": \"L2Reg\", \"values\": [0.01, 1e-06, 1e-06, 0.01, 0.0001, 1e-06, 0.01, 0.01, 0.0001, 0.01, 0.01, 0.0001, 0.0001, 0.0001, 0.0001, 1e-06, 1e-06, 0.01, 1e-06, 1e-06, 0.01, 0.01, 0.0001, 0.0001, 0.01, 0.01, 0.0001, 0.0001, 1e-06, 1e-06, 0.01, 0.0001, 1e-06, 0.01, 0.0001, 1e-06, 1e-06, 0.0001, 1e-06, 0.0001, 1e-06, 1e-06, 0.0001, 1e-06, 0.0001, 0.01, 1e-06, 0.0001, 0.01, 1e-06, 1e-06, 0.0001, 0.0001, 1e-06, 1e-06, 1e-06]}, {\"label\": \"WeightDecay\", \"values\": [1e-05, 0.0001, 1e-06, 1e-05, 1e-05, 1e-05, 0.0001, 1e-05, 1e-05, 1e-06, 1e-06, 1e-05, 0.0001, 1e-05, 1e-05, 0.0001, 0.0001, 0.0001, 1e-06, 0.0001, 1e-06, 1e-06, 1e-05, 1e-06, 1e-05, 0.0001, 1e-06, 1e-05, 1e-05, 1e-06, 1e-05, 0.0001, 0.0001, 1e-05, 1e-05, 1e-05, 1e-06, 1e-05, 0.0001, 0.0001, 0.0001, 1e-05, 0.0001, 0.0001, 1e-05, 1e-05, 1e-05, 1e-05, 1e-06, 1e-05, 0.0001, 1e-06, 1e-05, 1e-05, 1e-05, 1e-06]}, {\"label\": \"Dropout\", \"values\": [0.4, 0.4, 0.2, 0.0, 0.4, 0.0, 0.2, 0.2, 0.4, 0.2, 0.4, 0.4, 0.2, 0.4, 0.0, 0.4, 0.0, 0.0, 0.4, 0.4, 0.4, 0.4, 0.4, 0.4, 0.2, 0.0, 0.2, 0.4, 0.2, 0.0, 0.0, 0.4, 0.2, 0.0, 0.2, 0.0, 0.0, 0.0, 0.2, 0.2, 0.0, 0.0, 0.2, 0.0, 0.0, 0.0, 0.4, 0.0, 0.0, 0.0, 0.0, 0.2, 0.0, 0.2, 0.2, 0.0]}, {\"label\": \"NegativeRandom\", \"values\": [0.0, 0.05, 0.1, 0.05, 0.05, 0.2, 0.05, 0.0, 0.2, 0.0, 0.0, 0.0, 0.1, 0.0, 0.1, 0.2, 0.0, 0.0, 0.05, 0.2, 0.1, 0.2, 0.05, 0.2, 0.0, 0.2, 0.2, 0.1, 0.05, 0.05, 0.0, 0.0, 0.0, 0.1, 0.0, 0.0, 0.0, 0.2, 0.1, 0.1, 0.1, 0.0, 0.1, 0.0, 0.1, 0.05, 0.0, 0.05, 0.0, 0.2, 0.2, 0.0, 0.0, 0.2, 0.05, 0.05]}], \"domain\": {\"x\": [0.0, 1.0], \"y\": [0.0, 1.0]}, \"line\": {\"color\": [0.05608807263301313, 0.05695035910780525, 0.05708396753843526, 0.05789669781955256, 0.058237928246553876, 0.05941142595737662, 0.06168607582080922, 0.06725144610594931, 0.06841265482957988, 0.06902608979834479, 0.06909196517582626, 0.0691999401152997, 0.07030119357901955, 0.07177762527569023, 0.07263931357017678, 0.07297461808020797, 0.07626005205142734, 0.084697809457484, 0.09331313313857098, 0.09371761893075102, 0.09547889010431439, 0.10970033787665108, 0.1340429569175828, 0.13926138504080302, 0.1557736839140505, 0.15771281742225765, 0.16297576213887957, 0.1694677032106464, 0.17274740150012696, 0.17556044082987995, 0.22726490960899243, 0.22829891427065527, 0.2717694394732976, 0.29381393443864307, 0.30951893192449104, 0.3473082308728586, 0.38247936200466565, 0.40897126563945047, 0.4105347627136012, 0.4155265428780192, 0.4168663137289511, 0.4183053216872842, 0.42163151117149034, 0.4997554599274184, 0.5012626775159491, 0.539100398377604, 0.5556559224252997, 0.5591593310003534, 0.5677293334170358, 0.5875690966522329, 0.5882173333016109, 0.5915781652154765, 0.6241052120094807, 0.6297437511469072, 0.6302629035571033, 0.644270109243362], \"coloraxis\": \"coloraxis\"}, \"name\": \"\", \"type\": \"parcats\"}],\n",
       "                        {\"coloraxis\": {\"colorbar\": {\"title\": {\"text\": \"mean_average_precision\"}}, \"colorscale\": [[0.0, \"rgb(255,255,204)\"], [0.125, \"rgb(255,237,160)\"], [0.25, \"rgb(254,217,118)\"], [0.375, \"rgb(254,178,76)\"], [0.5, \"rgb(253,141,60)\"], [0.625, \"rgb(252,78,42)\"], [0.75, \"rgb(227,26,28)\"], [0.875, \"rgb(189,0,38)\"], [1.0, \"rgb(128,0,38)\"]]}, \"legend\": {\"tracegroupgap\": 0}, \"margin\": {\"t\": 60}, \"template\": {\"data\": {\"bar\": [{\"error_x\": {\"color\": \"#2a3f5f\"}, \"error_y\": {\"color\": \"#2a3f5f\"}, \"marker\": {\"line\": {\"color\": \"#E5ECF6\", \"width\": 0.5}}, \"type\": \"bar\"}], \"barpolar\": [{\"marker\": {\"line\": {\"color\": \"#E5ECF6\", \"width\": 0.5}}, \"type\": \"barpolar\"}], \"carpet\": [{\"aaxis\": {\"endlinecolor\": \"#2a3f5f\", \"gridcolor\": \"white\", \"linecolor\": \"white\", \"minorgridcolor\": \"white\", \"startlinecolor\": \"#2a3f5f\"}, \"baxis\": {\"endlinecolor\": \"#2a3f5f\", \"gridcolor\": \"white\", \"linecolor\": \"white\", \"minorgridcolor\": \"white\", \"startlinecolor\": \"#2a3f5f\"}, \"type\": \"carpet\"}], \"choropleth\": [{\"colorbar\": {\"outlinewidth\": 0, \"ticks\": \"\"}, \"type\": \"choropleth\"}], \"contour\": [{\"colorbar\": {\"outlinewidth\": 0, \"ticks\": \"\"}, \"colorscale\": [[0.0, \"#0d0887\"], [0.1111111111111111, \"#46039f\"], [0.2222222222222222, \"#7201a8\"], [0.3333333333333333, \"#9c179e\"], [0.4444444444444444, \"#bd3786\"], [0.5555555555555556, \"#d8576b\"], [0.6666666666666666, \"#ed7953\"], [0.7777777777777778, \"#fb9f3a\"], [0.8888888888888888, \"#fdca26\"], [1.0, \"#f0f921\"]], \"type\": \"contour\"}], \"contourcarpet\": [{\"colorbar\": {\"outlinewidth\": 0, \"ticks\": \"\"}, \"type\": \"contourcarpet\"}], \"heatmap\": [{\"colorbar\": {\"outlinewidth\": 0, \"ticks\": \"\"}, \"colorscale\": [[0.0, \"#0d0887\"], [0.1111111111111111, \"#46039f\"], [0.2222222222222222, \"#7201a8\"], [0.3333333333333333, \"#9c179e\"], [0.4444444444444444, \"#bd3786\"], [0.5555555555555556, \"#d8576b\"], [0.6666666666666666, \"#ed7953\"], [0.7777777777777778, \"#fb9f3a\"], [0.8888888888888888, \"#fdca26\"], [1.0, \"#f0f921\"]], \"type\": \"heatmap\"}], \"heatmapgl\": [{\"colorbar\": {\"outlinewidth\": 0, \"ticks\": \"\"}, \"colorscale\": [[0.0, \"#0d0887\"], [0.1111111111111111, \"#46039f\"], [0.2222222222222222, \"#7201a8\"], [0.3333333333333333, \"#9c179e\"], [0.4444444444444444, \"#bd3786\"], [0.5555555555555556, \"#d8576b\"], [0.6666666666666666, \"#ed7953\"], [0.7777777777777778, \"#fb9f3a\"], [0.8888888888888888, \"#fdca26\"], [1.0, \"#f0f921\"]], \"type\": \"heatmapgl\"}], \"histogram\": [{\"marker\": {\"colorbar\": {\"outlinewidth\": 0, \"ticks\": \"\"}}, \"type\": \"histogram\"}], \"histogram2d\": [{\"colorbar\": {\"outlinewidth\": 0, \"ticks\": \"\"}, \"colorscale\": [[0.0, \"#0d0887\"], [0.1111111111111111, \"#46039f\"], [0.2222222222222222, \"#7201a8\"], [0.3333333333333333, \"#9c179e\"], [0.4444444444444444, \"#bd3786\"], [0.5555555555555556, \"#d8576b\"], [0.6666666666666666, \"#ed7953\"], [0.7777777777777778, \"#fb9f3a\"], [0.8888888888888888, \"#fdca26\"], [1.0, \"#f0f921\"]], \"type\": \"histogram2d\"}], \"histogram2dcontour\": [{\"colorbar\": {\"outlinewidth\": 0, \"ticks\": \"\"}, \"colorscale\": [[0.0, \"#0d0887\"], [0.1111111111111111, \"#46039f\"], [0.2222222222222222, \"#7201a8\"], [0.3333333333333333, \"#9c179e\"], [0.4444444444444444, \"#bd3786\"], [0.5555555555555556, \"#d8576b\"], [0.6666666666666666, \"#ed7953\"], [0.7777777777777778, \"#fb9f3a\"], [0.8888888888888888, \"#fdca26\"], [1.0, \"#f0f921\"]], \"type\": \"histogram2dcontour\"}], \"mesh3d\": [{\"colorbar\": {\"outlinewidth\": 0, \"ticks\": \"\"}, \"type\": \"mesh3d\"}], \"parcoords\": [{\"line\": {\"colorbar\": {\"outlinewidth\": 0, \"ticks\": \"\"}}, \"type\": \"parcoords\"}], \"pie\": [{\"automargin\": true, \"type\": \"pie\"}], \"scatter\": [{\"marker\": {\"colorbar\": {\"outlinewidth\": 0, \"ticks\": \"\"}}, \"type\": \"scatter\"}], \"scatter3d\": [{\"line\": {\"colorbar\": {\"outlinewidth\": 0, \"ticks\": \"\"}}, \"marker\": {\"colorbar\": {\"outlinewidth\": 0, \"ticks\": \"\"}}, \"type\": \"scatter3d\"}], \"scattercarpet\": [{\"marker\": {\"colorbar\": {\"outlinewidth\": 0, \"ticks\": \"\"}}, \"type\": \"scattercarpet\"}], \"scattergeo\": [{\"marker\": {\"colorbar\": {\"outlinewidth\": 0, \"ticks\": \"\"}}, \"type\": \"scattergeo\"}], \"scattergl\": [{\"marker\": {\"colorbar\": {\"outlinewidth\": 0, \"ticks\": \"\"}}, \"type\": \"scattergl\"}], \"scattermapbox\": [{\"marker\": {\"colorbar\": {\"outlinewidth\": 0, \"ticks\": \"\"}}, \"type\": \"scattermapbox\"}], \"scatterpolar\": [{\"marker\": {\"colorbar\": {\"outlinewidth\": 0, \"ticks\": \"\"}}, \"type\": \"scatterpolar\"}], \"scatterpolargl\": [{\"marker\": {\"colorbar\": {\"outlinewidth\": 0, \"ticks\": \"\"}}, \"type\": \"scatterpolargl\"}], \"scatterternary\": [{\"marker\": {\"colorbar\": {\"outlinewidth\": 0, \"ticks\": \"\"}}, \"type\": \"scatterternary\"}], \"surface\": [{\"colorbar\": {\"outlinewidth\": 0, \"ticks\": \"\"}, \"colorscale\": [[0.0, \"#0d0887\"], [0.1111111111111111, \"#46039f\"], [0.2222222222222222, \"#7201a8\"], [0.3333333333333333, \"#9c179e\"], [0.4444444444444444, \"#bd3786\"], [0.5555555555555556, \"#d8576b\"], [0.6666666666666666, \"#ed7953\"], [0.7777777777777778, \"#fb9f3a\"], [0.8888888888888888, \"#fdca26\"], [1.0, \"#f0f921\"]], \"type\": \"surface\"}], \"table\": [{\"cells\": {\"fill\": {\"color\": \"#EBF0F8\"}, \"line\": {\"color\": \"white\"}}, \"header\": {\"fill\": {\"color\": \"#C8D4E3\"}, \"line\": {\"color\": \"white\"}}, \"type\": \"table\"}]}, \"layout\": {\"annotationdefaults\": {\"arrowcolor\": \"#2a3f5f\", \"arrowhead\": 0, \"arrowwidth\": 1}, \"coloraxis\": {\"colorbar\": {\"outlinewidth\": 0, \"ticks\": \"\"}}, \"colorscale\": {\"diverging\": [[0, \"#8e0152\"], [0.1, \"#c51b7d\"], [0.2, \"#de77ae\"], [0.3, \"#f1b6da\"], [0.4, \"#fde0ef\"], [0.5, \"#f7f7f7\"], [0.6, \"#e6f5d0\"], [0.7, \"#b8e186\"], [0.8, \"#7fbc41\"], [0.9, \"#4d9221\"], [1, \"#276419\"]], \"sequential\": [[0.0, \"#0d0887\"], [0.1111111111111111, \"#46039f\"], [0.2222222222222222, \"#7201a8\"], [0.3333333333333333, \"#9c179e\"], [0.4444444444444444, \"#bd3786\"], [0.5555555555555556, \"#d8576b\"], [0.6666666666666666, \"#ed7953\"], [0.7777777777777778, \"#fb9f3a\"], [0.8888888888888888, \"#fdca26\"], [1.0, \"#f0f921\"]], \"sequentialminus\": [[0.0, \"#0d0887\"], [0.1111111111111111, \"#46039f\"], [0.2222222222222222, \"#7201a8\"], [0.3333333333333333, \"#9c179e\"], [0.4444444444444444, \"#bd3786\"], [0.5555555555555556, \"#d8576b\"], [0.6666666666666666, \"#ed7953\"], [0.7777777777777778, \"#fb9f3a\"], [0.8888888888888888, \"#fdca26\"], [1.0, \"#f0f921\"]]}, \"colorway\": [\"#636efa\", \"#EF553B\", \"#00cc96\", \"#ab63fa\", \"#FFA15A\", \"#19d3f3\", \"#FF6692\", \"#B6E880\", \"#FF97FF\", \"#FECB52\"], \"font\": {\"color\": \"#2a3f5f\"}, \"geo\": {\"bgcolor\": \"white\", \"lakecolor\": \"white\", \"landcolor\": \"#E5ECF6\", \"showlakes\": true, \"showland\": true, \"subunitcolor\": \"white\"}, \"hoverlabel\": {\"align\": \"left\"}, \"hovermode\": \"closest\", \"mapbox\": {\"style\": \"light\"}, \"paper_bgcolor\": \"white\", \"plot_bgcolor\": \"#E5ECF6\", \"polar\": {\"angularaxis\": {\"gridcolor\": \"white\", \"linecolor\": \"white\", \"ticks\": \"\"}, \"bgcolor\": \"#E5ECF6\", \"radialaxis\": {\"gridcolor\": \"white\", \"linecolor\": \"white\", \"ticks\": \"\"}}, \"scene\": {\"xaxis\": {\"backgroundcolor\": \"#E5ECF6\", \"gridcolor\": \"white\", \"gridwidth\": 2, \"linecolor\": \"white\", \"showbackground\": true, \"ticks\": \"\", \"zerolinecolor\": \"white\"}, \"yaxis\": {\"backgroundcolor\": \"#E5ECF6\", \"gridcolor\": \"white\", \"gridwidth\": 2, \"linecolor\": \"white\", \"showbackground\": true, \"ticks\": \"\", \"zerolinecolor\": \"white\"}, \"zaxis\": {\"backgroundcolor\": \"#E5ECF6\", \"gridcolor\": \"white\", \"gridwidth\": 2, \"linecolor\": \"white\", \"showbackground\": true, \"ticks\": \"\", \"zerolinecolor\": \"white\"}}, \"shapedefaults\": {\"line\": {\"color\": \"#2a3f5f\"}}, \"ternary\": {\"aaxis\": {\"gridcolor\": \"white\", \"linecolor\": \"white\", \"ticks\": \"\"}, \"baxis\": {\"gridcolor\": \"white\", \"linecolor\": \"white\", \"ticks\": \"\"}, \"bgcolor\": \"#E5ECF6\", \"caxis\": {\"gridcolor\": \"white\", \"linecolor\": \"white\", \"ticks\": \"\"}}, \"title\": {\"x\": 0.05}, \"xaxis\": {\"automargin\": true, \"gridcolor\": \"white\", \"linecolor\": \"white\", \"ticks\": \"\", \"title\": {\"standoff\": 15}, \"zerolinecolor\": \"white\", \"zerolinewidth\": 2}, \"yaxis\": {\"automargin\": true, \"gridcolor\": \"white\", \"linecolor\": \"white\", \"ticks\": \"\", \"title\": {\"standoff\": 15}, \"zerolinecolor\": \"white\", \"zerolinewidth\": 2}}}},\n",
       "                        {\"responsive\": true}\n",
       "                    ).then(function(){\n",
       "                            \n",
       "var gd = document.getElementById('883fbf90-76ba-4d2d-82a8-bcca281e22c2');\n",
       "var x = new MutationObserver(function (mutations, observer) {{\n",
       "        var display = window.getComputedStyle(gd).display;\n",
       "        if (!display || display === 'none') {{\n",
       "            console.log([gd, 'removed!']);\n",
       "            Plotly.purge(gd);\n",
       "            observer.disconnect();\n",
       "        }}\n",
       "}});\n",
       "\n",
       "// Listen for the removal of the full notebook cells\n",
       "var notebookContainer = gd.closest('#notebook-container');\n",
       "if (notebookContainer) {{\n",
       "    x.observe(notebookContainer, {childList: true});\n",
       "}}\n",
       "\n",
       "// Listen for the clearing of the current output cell\n",
       "var outputEl = gd.closest('.output');\n",
       "if (outputEl) {{\n",
       "    x.observe(outputEl, {childList: true});\n",
       "}}\n",
       "\n",
       "                        })\n",
       "                };\n",
       "                });\n",
       "            </script>\n",
       "        </div>"
      ]
     },
     "metadata": {},
     "output_type": "display_data"
    }
   ],
   "source": [
    "import plotly.express as px\n",
    "\n",
    "columns = {\n",
    "    'data_frames_preparation_extra_params.max_itens_per_session_y': 'MaxItemPerSession',\n",
    "    'data_frames_preparation_extra_params.min_itens_interactions_y': 'MinItemInteraction',\n",
    "    'data_frames_preparation_extra_params.max_relative_pos_y': 'MaxRelativePos',\n",
    "    'data_frames_preparation_extra_params.pos_max_deep_y': \"PositiveDeep\",\n",
    "    'data_frames_preparation_extra_params.filter_first_interaction_y': \"FilterOnlyOne\",\n",
    "    'loss_function_params.l2_reg_y': 'L2Reg',\n",
    "    'optimizer_params.weight_decay_y': \"WeightDecay\",\n",
    "    'recommender_extra_params.dropout_y': \"Dropout\",\n",
    "    'recommender_extra_params.negative_random_y': \"NegativeRandom\"\n",
    "}\n",
    "\n",
    "# df = df.sort_values(['data_frames_preparation_extra_params.max_itens_per_session_y', \n",
    "#                      'data_frames_preparation_extra_params.max_relative_pos_y',\n",
    "#                      'data_frames_preparation_extra_params.pos_max_deep_y',\n",
    "#                      'data_frames_preparation_extra_params.filter_first_interaction_y'])\n",
    "\n",
    "fig = px.parallel_categories(df, dimensions=list(columns.keys()),\n",
    "                color=\"mean_average_precision\", \n",
    "                color_continuous_scale=px.colors.sequential.YlOrRd,\n",
    "                labels=columns)\n",
    "fig.show()"
   ]
  },
  {
   "cell_type": "code",
   "execution_count": 21,
   "metadata": {},
   "outputs": [
    {
     "data": {
      "text/plain": [
       "model_class                                                                                 TripletPredTraining.None\n",
       "observation_x                                                                                                       \n",
       "use_embedding                                                                                                  False\n",
       "count                                                                                                           3129\n",
       "mean_average_precision                                                                                          0.64\n",
       "precision_at_1                                                                                                  0.53\n",
       "mrr_at_5                                                                                                        0.63\n",
       "ndcg_at_5                                                                                                       0.73\n",
       "mrr_at_10                                                                                                       0.64\n",
       "ndcg_at_10                                                                                                      0.75\n",
       "triplet_path                                                       TripletTraining____mars_gym_model_b____8ad71177f6\n",
       "data_frames_preparation_extra_params.sample_days_y                                                              8.00\n",
       "data_frames_preparation_extra_params.max_itens_per_session_y                                                   20.00\n",
       "data_frames_preparation_extra_params.min_itens_interactions_y                                                   2.00\n",
       "data_frames_preparation_extra_params.max_relative_pos_y                                                         4.00\n",
       "data_frames_preparation_extra_params.pos_max_deep_y                                                             0.00\n",
       "data_frames_preparation_extra_params.filter_first_interaction_y                                                False\n",
       "loss_function_params.l2_reg_y                                                                                   0.00\n",
       "optimizer_params.weight_decay_y                                                                                 0.00\n",
       "recommender_extra_params.dropout_y                                                                              0.00\n",
       "recommender_extra_params.negative_random_y                                                                      0.05\n",
       "Name: 41, dtype: object"
      ]
     },
     "execution_count": 21,
     "metadata": {},
     "output_type": "execute_result"
    }
   ],
   "source": [
    "df.iloc[-1]"
   ]
  },
  {
   "cell_type": "code",
   "execution_count": 22,
   "metadata": {},
   "outputs": [
    {
     "data": {
      "text/plain": [
       "<seaborn.axisgrid.FacetGrid at 0x7f211bcd7b38>"
      ]
     },
     "execution_count": 22,
     "metadata": {},
     "output_type": "execute_result"
    },
    {
     "data": {
      "image/png": "[encoded data removed]",
      "text/plain": [
       "<Figure size 432x432 with 1 Axes>"
      ]
     },
     "metadata": {
      "needs_background": "light"
     },
     "output_type": "display_data"
    }
   ],
   "source": [
    "import seaborn as sns\n",
    "#data_frames_preparation_extra_params.max_relative_pos_y\n",
    "# Plot miles per gallon against horsepower with other semantics\n",
    "sns.relplot(y=\"mean_average_precision\", \n",
    "            x=\"data_frames_preparation_extra_params.pos_max_deep_y\", \n",
    "            alpha=.5, \n",
    "            height=6, data=df)"
   ]
  },
  {
   "cell_type": "code",
   "execution_count": 23,
   "metadata": {},
   "outputs": [
    {
     "data": {
      "application/vnd.plotly.v1+json": {
       "config": {
        "plotlyServerURL": "https://plot.ly"
       },
       "data": [
        {
         "hoverlabel": {
          "namelength": 0
         },
         "hovertemplate": "data_frames_preparation_extra_params.max_relative_pos_y=%{x}<br>data_frames_preparation_extra_params.pos_max_deep_y=%{y}<br>mean_average_precision=%{marker.size}",
         "legendgroup": "",
         "marker": {
          "color": "#636efa",
          "size": [
           0.05608807263301313,
           0.05695035910780525,
           0.05708396753843526,
           0.05789669781955256,
           0.058237928246553876,
           0.05941142595737662,
           0.06168607582080922,
           0.06725144610594931,
           0.06841265482957988,
           0.06902608979834479,
           0.06909196517582626,
           0.0691999401152997,
           0.07030119357901955,
           0.07177762527569023,
           0.07263931357017678,
           0.07297461808020797,
           0.07626005205142734,
           0.084697809457484,
           0.09331313313857098,
           0.09371761893075102,
           0.09547889010431439,
           0.10970033787665108,
           0.1340429569175828,
           0.13926138504080302,
           0.1557736839140505,
           0.15771281742225765,
           0.16297576213887957,
           0.1694677032106464,
           0.17274740150012696,
           0.17556044082987995,
           0.22726490960899243,
           0.22829891427065527,
           0.2717694394732976,
           0.29381393443864307,
           0.30951893192449104,
           0.3473082308728586,
           0.38247936200466565,
           0.40897126563945047,
           0.4105347627136012,
           0.4155265428780192,
           0.4168663137289511,
           0.4183053216872842,
           0.42163151117149034,
           0.4997554599274184,
           0.5012626775159491,
           0.539100398377604,
           0.5556559224252997,
           0.5591593310003534,
           0.5677293334170358,
           0.5875690966522329,
           0.5882173333016109,
           0.5915781652154765,
           0.6241052120094807,
           0.6297437511469072,
           0.6302629035571033,
           0.644270109243362
          ],
          "sizemode": "area",
          "sizeref": 0.001610675273108405,
          "symbol": "circle"
         },
         "mode": "markers",
         "name": "",
         "showlegend": false,
         "type": "scatter",
         "x": [
          1,
          1,
          1,
          24,
          8,
          24,
          24,
          1,
          4,
          2,
          2,
          1,
          1,
          2,
          2,
          16,
          8,
          1,
          1,
          4,
          8,
          8,
          16,
          8,
          1,
          16,
          24,
          8,
          8,
          2,
          16,
          4,
          8,
          4,
          4,
          2,
          4,
          24,
          24,
          16,
          8,
          16,
          2,
          2,
          2,
          16,
          4,
          2,
          2,
          16,
          16,
          16,
          24,
          8,
          16,
          4
         ],
         "xaxis": "x",
         "y": [
          2,
          2,
          1,
          3,
          1,
          0,
          3,
          2,
          0,
          0,
          3,
          0,
          3,
          2,
          3,
          2,
          2,
          1,
          3,
          1,
          2,
          0,
          2,
          1,
          2,
          0,
          3,
          0,
          1,
          1,
          1,
          0,
          2,
          3,
          0,
          3,
          3,
          2,
          0,
          2,
          3,
          1,
          1,
          1,
          3,
          0,
          2,
          3,
          1,
          2,
          2,
          2,
          2,
          1,
          1,
          0
         ],
         "yaxis": "y"
        }
       ],
       "layout": {
        "legend": {
         "itemsizing": "constant",
         "tracegroupgap": 0
        },
        "margin": {
         "t": 60
        },
        "template": {
         "data": {
          "bar": [
           {
            "error_x": {
             "color": "#2a3f5f"
            },
            "error_y": {
             "color": "#2a3f5f"
            },
            "marker": {
             "line": {
              "color": "#E5ECF6",
              "width": 0.5
             }
            },
            "type": "bar"
           }
          ],
          "barpolar": [
           {
            "marker": {
             "line": {
              "color": "#E5ECF6",
              "width": 0.5
             }
            },
            "type": "barpolar"
           }
          ],
          "carpet": [
           {
            "aaxis": {
             "endlinecolor": "#2a3f5f",
             "gridcolor": "white",
             "linecolor": "white",
             "minorgridcolor": "white",
             "startlinecolor": "#2a3f5f"
            },
            "baxis": {
             "endlinecolor": "#2a3f5f",
             "gridcolor": "white",
             "linecolor": "white",
             "minorgridcolor": "white",
             "startlinecolor": "#2a3f5f"
            },
            "type": "carpet"
           }
          ],
          "choropleth": [
           {
            "colorbar": {
             "outlinewidth": 0,
             "ticks": ""
            },
            "type": "choropleth"
           }
          ],
          "contour": [
           {
            "colorbar": {
             "outlinewidth": 0,
             "ticks": ""
            },
            "colorscale": [
             [
              0,
              "#0d0887"
             ],
             [
              0.1111111111111111,
              "#46039f"
             ],
             [
              0.2222222222222222,
              "#7201a8"
             ],
             [
              0.3333333333333333,
              "#9c179e"
             ],
             [
              0.4444444444444444,
              "#bd3786"
             ],
             [
              0.5555555555555556,
              "#d8576b"
             ],
             [
              0.6666666666666666,
              "#ed7953"
             ],
             [
              0.7777777777777778,
              "#fb9f3a"
             ],
             [
              0.8888888888888888,
              "#fdca26"
             ],
             [
              1,
              "#f0f921"
             ]
            ],
            "type": "contour"
           }
          ],
          "contourcarpet": [
           {
            "colorbar": {
             "outlinewidth": 0,
             "ticks": ""
            },
            "type": "contourcarpet"
           }
          ],
          "heatmap": [
           {
            "colorbar": {
             "outlinewidth": 0,
             "ticks": ""
            },
            "colorscale": [
             [
              0,
              "#0d0887"
             ],
             [
              0.1111111111111111,
              "#46039f"
             ],
             [
              0.2222222222222222,
              "#7201a8"
             ],
             [
              0.3333333333333333,
              "#9c179e"
             ],
             [
              0.4444444444444444,
              "#bd3786"
             ],
             [
              0.5555555555555556,
              "#d8576b"
             ],
             [
              0.6666666666666666,
              "#ed7953"
             ],
             [
              0.7777777777777778,
              "#fb9f3a"
             ],
             [
              0.8888888888888888,
              "#fdca26"
             ],
             [
              1,
              "#f0f921"
             ]
            ],
            "type": "heatmap"
           }
          ],
          "heatmapgl": [
           {
            "colorbar": {
             "outlinewidth": 0,
             "ticks": ""
            },
            "colorscale": [
             [
              0,
              "#0d0887"
             ],
             [
              0.1111111111111111,
              "#46039f"
             ],
             [
              0.2222222222222222,
              "#7201a8"
             ],
             [
              0.3333333333333333,
              "#9c179e"
             ],
             [
              0.4444444444444444,
              "#bd3786"
             ],
             [
              0.5555555555555556,
              "#d8576b"
             ],
             [
              0.6666666666666666,
              "#ed7953"
             ],
             [
              0.7777777777777778,
              "#fb9f3a"
             ],
             [
              0.8888888888888888,
              "#fdca26"
             ],
             [
              1,
              "#f0f921"
             ]
            ],
            "type": "heatmapgl"
           }
          ],
          "histogram": [
           {
            "marker": {
             "colorbar": {
              "outlinewidth": 0,
              "ticks": ""
             }
            },
            "type": "histogram"
           }
          ],
          "histogram2d": [
           {
            "colorbar": {
             "outlinewidth": 0,
             "ticks": ""
            },
            "colorscale": [
             [
              0,
              "#0d0887"
             ],
             [
              0.1111111111111111,
              "#46039f"
             ],
             [
              0.2222222222222222,
              "#7201a8"
             ],
             [
              0.3333333333333333,
              "#9c179e"
             ],
             [
              0.4444444444444444,
              "#bd3786"
             ],
             [
              0.5555555555555556,
              "#d8576b"
             ],
             [
              0.6666666666666666,
              "#ed7953"
             ],
             [
              0.7777777777777778,
              "#fb9f3a"
             ],
             [
              0.8888888888888888,
              "#fdca26"
             ],
             [
              1,
              "#f0f921"
             ]
            ],
            "type": "histogram2d"
           }
          ],
          "histogram2dcontour": [
           {
            "colorbar": {
             "outlinewidth": 0,
             "ticks": ""
            },
            "colorscale": [
             [
              0,
              "#0d0887"
             ],
             [
              0.1111111111111111,
              "#46039f"
             ],
             [
              0.2222222222222222,
              "#7201a8"
             ],
             [
              0.3333333333333333,
              "#9c179e"
             ],
             [
              0.4444444444444444,
              "#bd3786"
             ],
             [
              0.5555555555555556,
              "#d8576b"
             ],
             [
              0.6666666666666666,
              "#ed7953"
             ],
             [
              0.7777777777777778,
              "#fb9f3a"
             ],
             [
              0.8888888888888888,
              "#fdca26"
             ],
             [
              1,
              "#f0f921"
             ]
            ],
            "type": "histogram2dcontour"
           }
          ],
          "mesh3d": [
           {
            "colorbar": {
             "outlinewidth": 0,
             "ticks": ""
            },
            "type": "mesh3d"
           }
          ],
          "parcoords": [
           {
            "line": {
             "colorbar": {
              "outlinewidth": 0,
              "ticks": ""
             }
            },
            "type": "parcoords"
           }
          ],
          "pie": [
           {
            "automargin": true,
            "type": "pie"
           }
          ],
          "scatter": [
           {
            "marker": {
             "colorbar": {
              "outlinewidth": 0,
              "ticks": ""
             }
            },
            "type": "scatter"
           }
          ],
          "scatter3d": [
           {
            "line": {
             "colorbar": {
              "outlinewidth": 0,
              "ticks": ""
             }
            },
            "marker": {
             "colorbar": {
              "outlinewidth": 0,
              "ticks": ""
             }
            },
            "type": "scatter3d"
           }
          ],
          "scattercarpet": [
           {
            "marker": {
             "colorbar": {
              "outlinewidth": 0,
              "ticks": ""
             }
            },
            "type": "scattercarpet"
           }
          ],
          "scattergeo": [
           {
            "marker": {
             "colorbar": {
              "outlinewidth": 0,
              "ticks": ""
             }
            },
            "type": "scattergeo"
           }
          ],
          "scattergl": [
           {
            "marker": {
             "colorbar": {
              "outlinewidth": 0,
              "ticks": ""
             }
            },
            "type": "scattergl"
           }
          ],
          "scattermapbox": [
           {
            "marker": {
             "colorbar": {
              "outlinewidth": 0,
              "ticks": ""
             }
            },
            "type": "scattermapbox"
           }
          ],
          "scatterpolar": [
           {
            "marker": {
             "colorbar": {
              "outlinewidth": 0,
              "ticks": ""
             }
            },
            "type": "scatterpolar"
           }
          ],
          "scatterpolargl": [
           {
            "marker": {
             "colorbar": {
              "outlinewidth": 0,
              "ticks": ""
             }
            },
            "type": "scatterpolargl"
           }
          ],
          "scatterternary": [
           {
            "marker": {
             "colorbar": {
              "outlinewidth": 0,
              "ticks": ""
             }
            },
            "type": "scatterternary"
           }
          ],
          "surface": [
           {
            "colorbar": {
             "outlinewidth": 0,
             "ticks": ""
            },
            "colorscale": [
             [
              0,
              "#0d0887"
             ],
             [
              0.1111111111111111,
              "#46039f"
             ],
             [
              0.2222222222222222,
              "#7201a8"
             ],
             [
              0.3333333333333333,
              "#9c179e"
             ],
             [
              0.4444444444444444,
              "#bd3786"
             ],
             [
              0.5555555555555556,
              "#d8576b"
             ],
             [
              0.6666666666666666,
              "#ed7953"
             ],
             [
              0.7777777777777778,
              "#fb9f3a"
             ],
             [
              0.8888888888888888,
              "#fdca26"
             ],
             [
              1,
              "#f0f921"
             ]
            ],
            "type": "surface"
           }
          ],
          "table": [
           {
            "cells": {
             "fill": {
              "color": "#EBF0F8"
             },
             "line": {
              "color": "white"
             }
            },
            "header": {
             "fill": {
              "color": "#C8D4E3"
             },
             "line": {
              "color": "white"
             }
            },
            "type": "table"
           }
          ]
         },
         "layout": {
          "annotationdefaults": {
           "arrowcolor": "#2a3f5f",
           "arrowhead": 0,
           "arrowwidth": 1
          },
          "coloraxis": {
           "colorbar": {
            "outlinewidth": 0,
            "ticks": ""
           }
          },
          "colorscale": {
           "diverging": [
            [
             0,
             "#8e0152"
            ],
            [
             0.1,
             "#c51b7d"
            ],
            [
             0.2,
             "#de77ae"
            ],
            [
             0.3,
             "#f1b6da"
            ],
            [
             0.4,
             "#fde0ef"
            ],
            [
             0.5,
             "#f7f7f7"
            ],
            [
             0.6,
             "#e6f5d0"
            ],
            [
             0.7,
             "#b8e186"
            ],
            [
             0.8,
             "#7fbc41"
            ],
            [
             0.9,
             "#4d9221"
            ],
            [
             1,
             "#276419"
            ]
           ],
           "sequential": [
            [
             0,
             "#0d0887"
            ],
            [
             0.1111111111111111,
             "#46039f"
            ],
            [
             0.2222222222222222,
             "#7201a8"
            ],
            [
             0.3333333333333333,
             "#9c179e"
            ],
            [
             0.4444444444444444,
             "#bd3786"
            ],
            [
             0.5555555555555556,
             "#d8576b"
            ],
            [
             0.6666666666666666,
             "#ed7953"
            ],
            [
             0.7777777777777778,
             "#fb9f3a"
            ],
            [
             0.8888888888888888,
             "#fdca26"
            ],
            [
             1,
             "#f0f921"
            ]
           ],
           "sequentialminus": [
            [
             0,
             "#0d0887"
            ],
            [
             0.1111111111111111,
             "#46039f"
            ],
            [
             0.2222222222222222,
             "#7201a8"
            ],
            [
             0.3333333333333333,
             "#9c179e"
            ],
            [
             0.4444444444444444,
             "#bd3786"
            ],
            [
             0.5555555555555556,
             "#d8576b"
            ],
            [
             0.6666666666666666,
             "#ed7953"
            ],
            [
             0.7777777777777778,
             "#fb9f3a"
            ],
            [
             0.8888888888888888,
             "#fdca26"
            ],
            [
             1,
             "#f0f921"
            ]
           ]
          },
          "colorway": [
           "#636efa",
           "#EF553B",
           "#00cc96",
           "#ab63fa",
           "#FFA15A",
           "#19d3f3",
           "#FF6692",
           "#B6E880",
           "#FF97FF",
           "#FECB52"
          ],
          "font": {
           "color": "#2a3f5f"
          },
          "geo": {
           "bgcolor": "white",
           "lakecolor": "white",
           "landcolor": "#E5ECF6",
           "showlakes": true,
           "showland": true,
           "subunitcolor": "white"
          },
          "hoverlabel": {
           "align": "left"
          },
          "hovermode": "closest",
          "mapbox": {
           "style": "light"
          },
          "paper_bgcolor": "white",
          "plot_bgcolor": "#E5ECF6",
          "polar": {
           "angularaxis": {
            "gridcolor": "white",
            "linecolor": "white",
            "ticks": ""
           },
           "bgcolor": "#E5ECF6",
           "radialaxis": {
            "gridcolor": "white",
            "linecolor": "white",
            "ticks": ""
           }
          },
          "scene": {
           "xaxis": {
            "backgroundcolor": "#E5ECF6",
            "gridcolor": "white",
            "gridwidth": 2,
            "linecolor": "white",
            "showbackground": true,
            "ticks": "",
            "zerolinecolor": "white"
           },
           "yaxis": {
            "backgroundcolor": "#E5ECF6",
            "gridcolor": "white",
            "gridwidth": 2,
            "linecolor": "white",
            "showbackground": true,
            "ticks": "",
            "zerolinecolor": "white"
           },
           "zaxis": {
            "backgroundcolor": "#E5ECF6",
            "gridcolor": "white",
            "gridwidth": 2,
            "linecolor": "white",
            "showbackground": true,
            "ticks": "",
            "zerolinecolor": "white"
           }
          },
          "shapedefaults": {
           "line": {
            "color": "#2a3f5f"
           }
          },
          "ternary": {
           "aaxis": {
            "gridcolor": "white",
            "linecolor": "white",
            "ticks": ""
           },
           "baxis": {
            "gridcolor": "white",
            "linecolor": "white",
            "ticks": ""
           },
           "bgcolor": "#E5ECF6",
           "caxis": {
            "gridcolor": "white",
            "linecolor": "white",
            "ticks": ""
           }
          },
          "title": {
           "x": 0.05
          },
          "xaxis": {
           "automargin": true,
           "gridcolor": "white",
           "linecolor": "white",
           "ticks": "",
           "title": {
            "standoff": 15
           },
           "zerolinecolor": "white",
           "zerolinewidth": 2
          },
          "yaxis": {
           "automargin": true,
           "gridcolor": "white",
           "linecolor": "white",
           "ticks": "",
           "title": {
            "standoff": 15
           },
           "zerolinecolor": "white",
           "zerolinewidth": 2
          }
         }
        },
        "xaxis": {
         "anchor": "y",
         "domain": [
          0,
          1
         ],
         "title": {
          "text": "data_frames_preparation_extra_params.max_relative_pos_y"
         }
        },
        "yaxis": {
         "anchor": "x",
         "domain": [
          0,
          1
         ],
         "title": {
          "text": "data_frames_preparation_extra_params.pos_max_deep_y"
         }
        }
       }
      },
      "text/html": [
       "<div>\n",
       "        \n",
       "        \n",
       "            <div id=\"2d788ea3-c634-44c0-9b2b-5919e3d0697f\" class=\"plotly-graph-div\" style=\"height:525px; width:100%;\"></div>\n",
       "            <script type=\"text/javascript\">\n",
       "                require([\"plotly\"], function(Plotly) {\n",
       "                    window.PLOTLYENV=window.PLOTLYENV || {};\n",
       "                    \n",
       "                if (document.getElementById(\"2d788ea3-c634-44c0-9b2b-5919e3d0697f\")) {\n",
       "                    Plotly.newPlot(\n",
       "                        '2d788ea3-c634-44c0-9b2b-5919e3d0697f',\n",
       "                        [{\"hoverlabel\": {\"namelength\": 0}, \"hovertemplate\": \"data_frames_preparation_extra_params.max_relative_pos_y=%{x}<br>data_frames_preparation_extra_params.pos_max_deep_y=%{y}<br>mean_average_precision=%{marker.size}\", \"legendgroup\": \"\", \"marker\": {\"color\": \"#636efa\", \"size\": [0.05608807263301313, 0.05695035910780525, 0.05708396753843526, 0.05789669781955256, 0.058237928246553876, 0.05941142595737662, 0.06168607582080922, 0.06725144610594931, 0.06841265482957988, 0.06902608979834479, 0.06909196517582626, 0.0691999401152997, 0.07030119357901955, 0.07177762527569023, 0.07263931357017678, 0.07297461808020797, 0.07626005205142734, 0.084697809457484, 0.09331313313857098, 0.09371761893075102, 0.09547889010431439, 0.10970033787665108, 0.1340429569175828, 0.13926138504080302, 0.1557736839140505, 0.15771281742225765, 0.16297576213887957, 0.1694677032106464, 0.17274740150012696, 0.17556044082987995, 0.22726490960899243, 0.22829891427065527, 0.2717694394732976, 0.29381393443864307, 0.30951893192449104, 0.3473082308728586, 0.38247936200466565, 0.40897126563945047, 0.4105347627136012, 0.4155265428780192, 0.4168663137289511, 0.4183053216872842, 0.42163151117149034, 0.4997554599274184, 0.5012626775159491, 0.539100398377604, 0.5556559224252997, 0.5591593310003534, 0.5677293334170358, 0.5875690966522329, 0.5882173333016109, 0.5915781652154765, 0.6241052120094807, 0.6297437511469072, 0.6302629035571033, 0.644270109243362], \"sizemode\": \"area\", \"sizeref\": 0.001610675273108405, \"symbol\": \"circle\"}, \"mode\": \"markers\", \"name\": \"\", \"showlegend\": false, \"type\": \"scatter\", \"x\": [1.0, 1.0, 1.0, 24.0, 8.0, 24.0, 24.0, 1.0, 4.0, 2.0, 2.0, 1.0, 1.0, 2.0, 2.0, 16.0, 8.0, 1.0, 1.0, 4.0, 8.0, 8.0, 16.0, 8.0, 1.0, 16.0, 24.0, 8.0, 8.0, 2.0, 16.0, 4.0, 8.0, 4.0, 4.0, 2.0, 4.0, 24.0, 24.0, 16.0, 8.0, 16.0, 2.0, 2.0, 2.0, 16.0, 4.0, 2.0, 2.0, 16.0, 16.0, 16.0, 24.0, 8.0, 16.0, 4.0], \"xaxis\": \"x\", \"y\": [2.0, 2.0, 1.0, 3.0, 1.0, 0.0, 3.0, 2.0, 0.0, 0.0, 3.0, 0.0, 3.0, 2.0, 3.0, 2.0, 2.0, 1.0, 3.0, 1.0, 2.0, 0.0, 2.0, 1.0, 2.0, 0.0, 3.0, 0.0, 1.0, 1.0, 1.0, 0.0, 2.0, 3.0, 0.0, 3.0, 3.0, 2.0, 0.0, 2.0, 3.0, 1.0, 1.0, 1.0, 3.0, 0.0, 2.0, 3.0, 1.0, 2.0, 2.0, 2.0, 2.0, 1.0, 1.0, 0.0], \"yaxis\": \"y\"}],\n",
       "                        {\"legend\": {\"itemsizing\": \"constant\", \"tracegroupgap\": 0}, \"margin\": {\"t\": 60}, \"template\": {\"data\": {\"bar\": [{\"error_x\": {\"color\": \"#2a3f5f\"}, \"error_y\": {\"color\": \"#2a3f5f\"}, \"marker\": {\"line\": {\"color\": \"#E5ECF6\", \"width\": 0.5}}, \"type\": \"bar\"}], \"barpolar\": [{\"marker\": {\"line\": {\"color\": \"#E5ECF6\", \"width\": 0.5}}, \"type\": \"barpolar\"}], \"carpet\": [{\"aaxis\": {\"endlinecolor\": \"#2a3f5f\", \"gridcolor\": \"white\", \"linecolor\": \"white\", \"minorgridcolor\": \"white\", \"startlinecolor\": \"#2a3f5f\"}, \"baxis\": {\"endlinecolor\": \"#2a3f5f\", \"gridcolor\": \"white\", \"linecolor\": \"white\", \"minorgridcolor\": \"white\", \"startlinecolor\": \"#2a3f5f\"}, \"type\": \"carpet\"}], \"choropleth\": [{\"colorbar\": {\"outlinewidth\": 0, \"ticks\": \"\"}, \"type\": \"choropleth\"}], \"contour\": [{\"colorbar\": {\"outlinewidth\": 0, \"ticks\": \"\"}, \"colorscale\": [[0.0, \"#0d0887\"], [0.1111111111111111, \"#46039f\"], [0.2222222222222222, \"#7201a8\"], [0.3333333333333333, \"#9c179e\"], [0.4444444444444444, \"#bd3786\"], [0.5555555555555556, \"#d8576b\"], [0.6666666666666666, \"#ed7953\"], [0.7777777777777778, \"#fb9f3a\"], [0.8888888888888888, \"#fdca26\"], [1.0, \"#f0f921\"]], \"type\": \"contour\"}], \"contourcarpet\": [{\"colorbar\": {\"outlinewidth\": 0, \"ticks\": \"\"}, \"type\": \"contourcarpet\"}], \"heatmap\": [{\"colorbar\": {\"outlinewidth\": 0, \"ticks\": \"\"}, \"colorscale\": [[0.0, \"#0d0887\"], [0.1111111111111111, \"#46039f\"], [0.2222222222222222, \"#7201a8\"], [0.3333333333333333, \"#9c179e\"], [0.4444444444444444, \"#bd3786\"], [0.5555555555555556, \"#d8576b\"], [0.6666666666666666, \"#ed7953\"], [0.7777777777777778, \"#fb9f3a\"], [0.8888888888888888, \"#fdca26\"], [1.0, \"#f0f921\"]], \"type\": \"heatmap\"}], \"heatmapgl\": [{\"colorbar\": {\"outlinewidth\": 0, \"ticks\": \"\"}, \"colorscale\": [[0.0, \"#0d0887\"], [0.1111111111111111, \"#46039f\"], [0.2222222222222222, \"#7201a8\"], [0.3333333333333333, \"#9c179e\"], [0.4444444444444444, \"#bd3786\"], [0.5555555555555556, \"#d8576b\"], [0.6666666666666666, \"#ed7953\"], [0.7777777777777778, \"#fb9f3a\"], [0.8888888888888888, \"#fdca26\"], [1.0, \"#f0f921\"]], \"type\": \"heatmapgl\"}], \"histogram\": [{\"marker\": {\"colorbar\": {\"outlinewidth\": 0, \"ticks\": \"\"}}, \"type\": \"histogram\"}], \"histogram2d\": [{\"colorbar\": {\"outlinewidth\": 0, \"ticks\": \"\"}, \"colorscale\": [[0.0, \"#0d0887\"], [0.1111111111111111, \"#46039f\"], [0.2222222222222222, \"#7201a8\"], [0.3333333333333333, \"#9c179e\"], [0.4444444444444444, \"#bd3786\"], [0.5555555555555556, \"#d8576b\"], [0.6666666666666666, \"#ed7953\"], [0.7777777777777778, \"#fb9f3a\"], [0.8888888888888888, \"#fdca26\"], [1.0, \"#f0f921\"]], \"type\": \"histogram2d\"}], \"histogram2dcontour\": [{\"colorbar\": {\"outlinewidth\": 0, \"ticks\": \"\"}, \"colorscale\": [[0.0, \"#0d0887\"], [0.1111111111111111, \"#46039f\"], [0.2222222222222222, \"#7201a8\"], [0.3333333333333333, \"#9c179e\"], [0.4444444444444444, \"#bd3786\"], [0.5555555555555556, \"#d8576b\"], [0.6666666666666666, \"#ed7953\"], [0.7777777777777778, \"#fb9f3a\"], [0.8888888888888888, \"#fdca26\"], [1.0, \"#f0f921\"]], \"type\": \"histogram2dcontour\"}], \"mesh3d\": [{\"colorbar\": {\"outlinewidth\": 0, \"ticks\": \"\"}, \"type\": \"mesh3d\"}], \"parcoords\": [{\"line\": {\"colorbar\": {\"outlinewidth\": 0, \"ticks\": \"\"}}, \"type\": \"parcoords\"}], \"pie\": [{\"automargin\": true, \"type\": \"pie\"}], \"scatter\": [{\"marker\": {\"colorbar\": {\"outlinewidth\": 0, \"ticks\": \"\"}}, \"type\": \"scatter\"}], \"scatter3d\": [{\"line\": {\"colorbar\": {\"outlinewidth\": 0, \"ticks\": \"\"}}, \"marker\": {\"colorbar\": {\"outlinewidth\": 0, \"ticks\": \"\"}}, \"type\": \"scatter3d\"}], \"scattercarpet\": [{\"marker\": {\"colorbar\": {\"outlinewidth\": 0, \"ticks\": \"\"}}, \"type\": \"scattercarpet\"}], \"scattergeo\": [{\"marker\": {\"colorbar\": {\"outlinewidth\": 0, \"ticks\": \"\"}}, \"type\": \"scattergeo\"}], \"scattergl\": [{\"marker\": {\"colorbar\": {\"outlinewidth\": 0, \"ticks\": \"\"}}, \"type\": \"scattergl\"}], \"scattermapbox\": [{\"marker\": {\"colorbar\": {\"outlinewidth\": 0, \"ticks\": \"\"}}, \"type\": \"scattermapbox\"}], \"scatterpolar\": [{\"marker\": {\"colorbar\": {\"outlinewidth\": 0, \"ticks\": \"\"}}, \"type\": \"scatterpolar\"}], \"scatterpolargl\": [{\"marker\": {\"colorbar\": {\"outlinewidth\": 0, \"ticks\": \"\"}}, \"type\": \"scatterpolargl\"}], \"scatterternary\": [{\"marker\": {\"colorbar\": {\"outlinewidth\": 0, \"ticks\": \"\"}}, \"type\": \"scatterternary\"}], \"surface\": [{\"colorbar\": {\"outlinewidth\": 0, \"ticks\": \"\"}, \"colorscale\": [[0.0, \"#0d0887\"], [0.1111111111111111, \"#46039f\"], [0.2222222222222222, \"#7201a8\"], [0.3333333333333333, \"#9c179e\"], [0.4444444444444444, \"#bd3786\"], [0.5555555555555556, \"#d8576b\"], [0.6666666666666666, \"#ed7953\"], [0.7777777777777778, \"#fb9f3a\"], [0.8888888888888888, \"#fdca26\"], [1.0, \"#f0f921\"]], \"type\": \"surface\"}], \"table\": [{\"cells\": {\"fill\": {\"color\": \"#EBF0F8\"}, \"line\": {\"color\": \"white\"}}, \"header\": {\"fill\": {\"color\": \"#C8D4E3\"}, \"line\": {\"color\": \"white\"}}, \"type\": \"table\"}]}, \"layout\": {\"annotationdefaults\": {\"arrowcolor\": \"#2a3f5f\", \"arrowhead\": 0, \"arrowwidth\": 1}, \"coloraxis\": {\"colorbar\": {\"outlinewidth\": 0, \"ticks\": \"\"}}, \"colorscale\": {\"diverging\": [[0, \"#8e0152\"], [0.1, \"#c51b7d\"], [0.2, \"#de77ae\"], [0.3, \"#f1b6da\"], [0.4, \"#fde0ef\"], [0.5, \"#f7f7f7\"], [0.6, \"#e6f5d0\"], [0.7, \"#b8e186\"], [0.8, \"#7fbc41\"], [0.9, \"#4d9221\"], [1, \"#276419\"]], \"sequential\": [[0.0, \"#0d0887\"], [0.1111111111111111, \"#46039f\"], [0.2222222222222222, \"#7201a8\"], [0.3333333333333333, \"#9c179e\"], [0.4444444444444444, \"#bd3786\"], [0.5555555555555556, \"#d8576b\"], [0.6666666666666666, \"#ed7953\"], [0.7777777777777778, \"#fb9f3a\"], [0.8888888888888888, \"#fdca26\"], [1.0, \"#f0f921\"]], \"sequentialminus\": [[0.0, \"#0d0887\"], [0.1111111111111111, \"#46039f\"], [0.2222222222222222, \"#7201a8\"], [0.3333333333333333, \"#9c179e\"], [0.4444444444444444, \"#bd3786\"], [0.5555555555555556, \"#d8576b\"], [0.6666666666666666, \"#ed7953\"], [0.7777777777777778, \"#fb9f3a\"], [0.8888888888888888, \"#fdca26\"], [1.0, \"#f0f921\"]]}, \"colorway\": [\"#636efa\", \"#EF553B\", \"#00cc96\", \"#ab63fa\", \"#FFA15A\", \"#19d3f3\", \"#FF6692\", \"#B6E880\", \"#FF97FF\", \"#FECB52\"], \"font\": {\"color\": \"#2a3f5f\"}, \"geo\": {\"bgcolor\": \"white\", \"lakecolor\": \"white\", \"landcolor\": \"#E5ECF6\", \"showlakes\": true, \"showland\": true, \"subunitcolor\": \"white\"}, \"hoverlabel\": {\"align\": \"left\"}, \"hovermode\": \"closest\", \"mapbox\": {\"style\": \"light\"}, \"paper_bgcolor\": \"white\", \"plot_bgcolor\": \"#E5ECF6\", \"polar\": {\"angularaxis\": {\"gridcolor\": \"white\", \"linecolor\": \"white\", \"ticks\": \"\"}, \"bgcolor\": \"#E5ECF6\", \"radialaxis\": {\"gridcolor\": \"white\", \"linecolor\": \"white\", \"ticks\": \"\"}}, \"scene\": {\"xaxis\": {\"backgroundcolor\": \"#E5ECF6\", \"gridcolor\": \"white\", \"gridwidth\": 2, \"linecolor\": \"white\", \"showbackground\": true, \"ticks\": \"\", \"zerolinecolor\": \"white\"}, \"yaxis\": {\"backgroundcolor\": \"#E5ECF6\", \"gridcolor\": \"white\", \"gridwidth\": 2, \"linecolor\": \"white\", \"showbackground\": true, \"ticks\": \"\", \"zerolinecolor\": \"white\"}, \"zaxis\": {\"backgroundcolor\": \"#E5ECF6\", \"gridcolor\": \"white\", \"gridwidth\": 2, \"linecolor\": \"white\", \"showbackground\": true, \"ticks\": \"\", \"zerolinecolor\": \"white\"}}, \"shapedefaults\": {\"line\": {\"color\": \"#2a3f5f\"}}, \"ternary\": {\"aaxis\": {\"gridcolor\": \"white\", \"linecolor\": \"white\", \"ticks\": \"\"}, \"baxis\": {\"gridcolor\": \"white\", \"linecolor\": \"white\", \"ticks\": \"\"}, \"bgcolor\": \"#E5ECF6\", \"caxis\": {\"gridcolor\": \"white\", \"linecolor\": \"white\", \"ticks\": \"\"}}, \"title\": {\"x\": 0.05}, \"xaxis\": {\"automargin\": true, \"gridcolor\": \"white\", \"linecolor\": \"white\", \"ticks\": \"\", \"title\": {\"standoff\": 15}, \"zerolinecolor\": \"white\", \"zerolinewidth\": 2}, \"yaxis\": {\"automargin\": true, \"gridcolor\": \"white\", \"linecolor\": \"white\", \"ticks\": \"\", \"title\": {\"standoff\": 15}, \"zerolinecolor\": \"white\", \"zerolinewidth\": 2}}}, \"xaxis\": {\"anchor\": \"y\", \"domain\": [0.0, 1.0], \"title\": {\"text\": \"data_frames_preparation_extra_params.max_relative_pos_y\"}}, \"yaxis\": {\"anchor\": \"x\", \"domain\": [0.0, 1.0], \"title\": {\"text\": \"data_frames_preparation_extra_params.pos_max_deep_y\"}}},\n",
       "                        {\"responsive\": true}\n",
       "                    ).then(function(){\n",
       "                            \n",
       "var gd = document.getElementById('2d788ea3-c634-44c0-9b2b-5919e3d0697f');\n",
       "var x = new MutationObserver(function (mutations, observer) {{\n",
       "        var display = window.getComputedStyle(gd).display;\n",
       "        if (!display || display === 'none') {{\n",
       "            console.log([gd, 'removed!']);\n",
       "            Plotly.purge(gd);\n",
       "            observer.disconnect();\n",
       "        }}\n",
       "}});\n",
       "\n",
       "// Listen for the removal of the full notebook cells\n",
       "var notebookContainer = gd.closest('#notebook-container');\n",
       "if (notebookContainer) {{\n",
       "    x.observe(notebookContainer, {childList: true});\n",
       "}}\n",
       "\n",
       "// Listen for the clearing of the current output cell\n",
       "var outputEl = gd.closest('.output');\n",
       "if (outputEl) {{\n",
       "    x.observe(outputEl, {childList: true});\n",
       "}}\n",
       "\n",
       "                        })\n",
       "                };\n",
       "                });\n",
       "            </script>\n",
       "        </div>"
      ]
     },
     "metadata": {},
     "output_type": "display_data"
    }
   ],
   "source": [
    "import plotly.express as px\n",
    "fig = px.scatter(df, \n",
    "                 x=\"data_frames_preparation_extra_params.max_relative_pos_y\", \n",
    "                 y=\"data_frames_preparation_extra_params.pos_max_deep_y\",\n",
    "                size=\"mean_average_precision\")\n",
    "fig.show()"
   ]
  },
  {
   "cell_type": "code",
   "execution_count": null,
   "metadata": {},
   "outputs": [],
   "source": []
  },
  {
   "cell_type": "code",
   "execution_count": null,
   "metadata": {},
   "outputs": [],
   "source": []
  },
  {
   "cell_type": "code",
   "execution_count": null,
   "metadata": {},
   "outputs": [],
   "source": []
  },
  {
   "cell_type": "code",
   "execution_count": null,
   "metadata": {},
   "outputs": [],
   "source": []
  }
 ],
 "metadata": {
  "kernelspec": {
   "display_name": "Python 3",
   "language": "python",
   "name": "python3"
  },
  "language_info": {
   "codemirror_mode": {
    "name": "ipython",
    "version": 3
   },
   "file_extension": ".py",
   "mimetype": "text/x-python",
   "name": "python",
   "nbconvert_exporter": "python",
   "pygments_lexer": "ipython3",
   "version": "3.6.12"
  },
  "toc": {
   "base_numbering": 1,
   "nav_menu": {},
   "number_sections": true,
   "sideBar": true,
   "skip_h1_title": false,
   "title_cell": "Table of Contents",
   "title_sidebar": "Contents",
   "toc_cell": false,
   "toc_position": {},
   "toc_section_display": true,
   "toc_window_display": false
  }
 },
 "nbformat": 4,
 "nbformat_minor": 4
}
