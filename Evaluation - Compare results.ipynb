{
 "cells": [
  {
   "cell_type": "code",
   "execution_count": 1,
   "metadata": {},
   "outputs": [],
   "source": [
    "import pandas as pd\n",
    "import json\n",
    "import os\n",
    "from pandas.io.json import json_normalize\n",
    "import numpy as np\n",
    "import scipy\n",
    "pd.options.display.float_format = '{:.2f}'.format\n"
   ]
  },
  {
   "cell_type": "code",
   "execution_count": 2,
   "metadata": {},
   "outputs": [],
   "source": [
    "path = 'output/evaluation/EvaluateTestSetPredictions/results/'\n",
    "PATH_TRAIN = \"output/models/\""
   ]
  },
  {
   "cell_type": "code",
   "execution_count": 3,
   "metadata": {},
   "outputs": [],
   "source": [
    "paths = []\n",
    "models = []\n",
    "\n",
    "for root, dirs, files in os.walk(path):\n",
    "    if \"/results\" in root and \"Evaluate\" in root:\n",
    "        for d in dirs:\n",
    "            paths.append(os.path.join(root, d))\n",
    "            models.append(d)  # .replace(\"_\"+d.split(\"_\")[-1], \"\")\n",
    "\n",
    "results =  dict(zip(models, paths))\n",
    "results\n",
    "\n",
    "\n",
    "def fetch_training_path():\n",
    "    paths = []\n",
    "    models = []\n",
    "    for root, dirs, files in os.walk(PATH_TRAIN):\n",
    "        if \"/results\" in root:\n",
    "            for d in dirs:\n",
    "                paths.append(os.path.join(root, d))\n",
    "                models.append(d)\n",
    "\n",
    "    return dict(zip(models, paths))"
   ]
  },
  {
   "cell_type": "code",
   "execution_count": 4,
   "metadata": {},
   "outputs": [],
   "source": [
    "def json2df(paths, file, idx):\n",
    "    data = []\n",
    "    for model, path in paths.items():\n",
    "        file_path = os.path.join(path, file)\n",
    "        try:\n",
    "            with open(file_path) as json_file:\n",
    "                d = json.load(json_file)\n",
    "                d[\"path\"] = path.split(\"/\")[-1]\n",
    "                d[\"model\"] = d[\"path\"].replace(\"_\" + d[\"path\"].split(\"_\")[-1], \"\")\n",
    "\n",
    "                data.append(d)\n",
    "        except:\n",
    "            data.append({\"path\": path.split(\"/\")[-1]})\n",
    "\n",
    "    df = pd.DataFrame.from_dict(json_normalize(data), orient=\"columns\")\n",
    "\n",
    "    df = df.set_index(idx)\n",
    "\n",
    "    return df"
   ]
  },
  {
   "cell_type": "code",
   "execution_count": 5,
   "metadata": {},
   "outputs": [
    {
     "data": {
      "text/html": [
       "<div>\n",
       "<style scoped>\n",
       "    .dataframe tbody tr th:only-of-type {\n",
       "        vertical-align: middle;\n",
       "    }\n",
       "\n",
       "    .dataframe tbody tr th {\n",
       "        vertical-align: top;\n",
       "    }\n",
       "\n",
       "    .dataframe thead th {\n",
       "        text-align: right;\n",
       "    }\n",
       "</style>\n",
       "<table border=\"1\" class=\"dataframe\">\n",
       "  <thead>\n",
       "    <tr style=\"text-align: right;\">\n",
       "      <th></th>\n",
       "      <th>model_task</th>\n",
       "      <th>count</th>\n",
       "      <th>mean_average_precision</th>\n",
       "      <th>precision_at_1</th>\n",
       "      <th>mrr_at_5</th>\n",
       "      <th>mrr_at_10</th>\n",
       "      <th>ndcg_at_5</th>\n",
       "      <th>ndcg_at_10</th>\n",
       "      <th>ndcg_at_15</th>\n",
       "      <th>ndcg_at_20</th>\n",
       "      <th>ndcg_at_50</th>\n",
       "      <th>coverage_at_5</th>\n",
       "      <th>coverage_at_20</th>\n",
       "      <th>model</th>\n",
       "    </tr>\n",
       "    <tr>\n",
       "      <th>path</th>\n",
       "      <th></th>\n",
       "      <th></th>\n",
       "      <th></th>\n",
       "      <th></th>\n",
       "      <th></th>\n",
       "      <th></th>\n",
       "      <th></th>\n",
       "      <th></th>\n",
       "      <th></th>\n",
       "      <th></th>\n",
       "      <th></th>\n",
       "      <th></th>\n",
       "      <th></th>\n",
       "      <th></th>\n",
       "    </tr>\n",
       "  </thead>\n",
       "  <tbody>\n",
       "    <tr>\n",
       "      <th>SupervisedModelTraining____mars_gym_model_b____1026d1d9a0_ba45488153</th>\n",
       "      <td>SupervisedModelTraining____mars_gym_model_b___...</td>\n",
       "      <td>1946</td>\n",
       "      <td>0.33</td>\n",
       "      <td>0.25</td>\n",
       "      <td>0.30</td>\n",
       "      <td>0.31</td>\n",
       "      <td>0.35</td>\n",
       "      <td>0.38</td>\n",
       "      <td>0.40</td>\n",
       "      <td>0.41</td>\n",
       "      <td>0.45</td>\n",
       "      <td>0.12</td>\n",
       "      <td>0.39</td>\n",
       "      <td>SupervisedModelTraining____mars_gym_model_b___...</td>\n",
       "    </tr>\n",
       "    <tr>\n",
       "      <th>SupervisedModelTraining____mars_gym_model_b____3e8c4fc642_54758f3787</th>\n",
       "      <td>SupervisedModelTraining____mars_gym_model_b___...</td>\n",
       "      <td>1883</td>\n",
       "      <td>0.46</td>\n",
       "      <td>0.38</td>\n",
       "      <td>0.43</td>\n",
       "      <td>0.45</td>\n",
       "      <td>0.48</td>\n",
       "      <td>0.51</td>\n",
       "      <td>0.53</td>\n",
       "      <td>0.54</td>\n",
       "      <td>0.57</td>\n",
       "      <td>0.17</td>\n",
       "      <td>0.51</td>\n",
       "      <td>SupervisedModelTraining____mars_gym_model_b___...</td>\n",
       "    </tr>\n",
       "    <tr>\n",
       "      <th>SupervisedModelTraining____mars_gym_model_b____5b5a3c6223_d25898f4a1</th>\n",
       "      <td>SupervisedModelTraining____mars_gym_model_b___...</td>\n",
       "      <td>1883</td>\n",
       "      <td>0.47</td>\n",
       "      <td>0.40</td>\n",
       "      <td>0.45</td>\n",
       "      <td>0.46</td>\n",
       "      <td>0.49</td>\n",
       "      <td>0.52</td>\n",
       "      <td>0.54</td>\n",
       "      <td>0.54</td>\n",
       "      <td>0.58</td>\n",
       "      <td>0.18</td>\n",
       "      <td>0.52</td>\n",
       "      <td>SupervisedModelTraining____mars_gym_model_b___...</td>\n",
       "    </tr>\n",
       "    <tr>\n",
       "      <th>SupervisedModelTraining____mars_gym_model_b____fbe36bd7f0_fd5021c7b1</th>\n",
       "      <td>SupervisedModelTraining____mars_gym_model_b___...</td>\n",
       "      <td>1883</td>\n",
       "      <td>0.38</td>\n",
       "      <td>0.30</td>\n",
       "      <td>0.35</td>\n",
       "      <td>0.36</td>\n",
       "      <td>0.39</td>\n",
       "      <td>0.42</td>\n",
       "      <td>0.44</td>\n",
       "      <td>0.45</td>\n",
       "      <td>0.49</td>\n",
       "      <td>0.15</td>\n",
       "      <td>0.44</td>\n",
       "      <td>SupervisedModelTraining____mars_gym_model_b___...</td>\n",
       "    </tr>\n",
       "    <tr>\n",
       "      <th>SupervisedModelTraining____mars_gym_model_b____00b542c7e1_1aacd40e01</th>\n",
       "      <td>SupervisedModelTraining____mars_gym_model_b___...</td>\n",
       "      <td>1883</td>\n",
       "      <td>0.44</td>\n",
       "      <td>0.37</td>\n",
       "      <td>0.42</td>\n",
       "      <td>0.43</td>\n",
       "      <td>0.46</td>\n",
       "      <td>0.49</td>\n",
       "      <td>0.50</td>\n",
       "      <td>0.51</td>\n",
       "      <td>0.55</td>\n",
       "      <td>0.16</td>\n",
       "      <td>0.45</td>\n",
       "      <td>SupervisedModelTraining____mars_gym_model_b___...</td>\n",
       "    </tr>\n",
       "    <tr>\n",
       "      <th>SupervisedModelTraining____mars_gym_model_b____bca3507bbe_745bfcad60</th>\n",
       "      <td>SupervisedModelTraining____mars_gym_model_b___...</td>\n",
       "      <td>1946</td>\n",
       "      <td>0.40</td>\n",
       "      <td>0.32</td>\n",
       "      <td>0.37</td>\n",
       "      <td>0.38</td>\n",
       "      <td>0.42</td>\n",
       "      <td>0.45</td>\n",
       "      <td>0.47</td>\n",
       "      <td>0.48</td>\n",
       "      <td>0.52</td>\n",
       "      <td>0.14</td>\n",
       "      <td>0.43</td>\n",
       "      <td>SupervisedModelTraining____mars_gym_model_b___...</td>\n",
       "    </tr>\n",
       "    <tr>\n",
       "      <th>SupervisedModelTraining____mars_gym_model_b____9c9810f949_5d13935980</th>\n",
       "      <td>SupervisedModelTraining____mars_gym_model_b___...</td>\n",
       "      <td>1883</td>\n",
       "      <td>0.45</td>\n",
       "      <td>0.38</td>\n",
       "      <td>0.43</td>\n",
       "      <td>0.44</td>\n",
       "      <td>0.48</td>\n",
       "      <td>0.50</td>\n",
       "      <td>0.52</td>\n",
       "      <td>0.53</td>\n",
       "      <td>0.56</td>\n",
       "      <td>0.15</td>\n",
       "      <td>0.47</td>\n",
       "      <td>SupervisedModelTraining____mars_gym_model_b___...</td>\n",
       "    </tr>\n",
       "    <tr>\n",
       "      <th>SupervisedModelTraining____mars_gym_model_b____1f26552242_54ffd56c34</th>\n",
       "      <td>SupervisedModelTraining____mars_gym_model_b___...</td>\n",
       "      <td>1883</td>\n",
       "      <td>0.38</td>\n",
       "      <td>0.30</td>\n",
       "      <td>0.35</td>\n",
       "      <td>0.36</td>\n",
       "      <td>0.40</td>\n",
       "      <td>0.43</td>\n",
       "      <td>0.44</td>\n",
       "      <td>0.46</td>\n",
       "      <td>0.49</td>\n",
       "      <td>0.14</td>\n",
       "      <td>0.44</td>\n",
       "      <td>SupervisedModelTraining____mars_gym_model_b___...</td>\n",
       "    </tr>\n",
       "    <tr>\n",
       "      <th>SupervisedModelTraining____mars_gym_model_b____f99cd7564a_efd3bb51a8</th>\n",
       "      <td>SupervisedModelTraining____mars_gym_model_b___...</td>\n",
       "      <td>1883</td>\n",
       "      <td>0.40</td>\n",
       "      <td>0.33</td>\n",
       "      <td>0.37</td>\n",
       "      <td>0.38</td>\n",
       "      <td>0.41</td>\n",
       "      <td>0.44</td>\n",
       "      <td>0.46</td>\n",
       "      <td>0.47</td>\n",
       "      <td>0.51</td>\n",
       "      <td>0.16</td>\n",
       "      <td>0.46</td>\n",
       "      <td>SupervisedModelTraining____mars_gym_model_b___...</td>\n",
       "    </tr>\n",
       "    <tr>\n",
       "      <th>SupervisedModelTraining____mars_gym_model_b____5435c7f10d_af8316a535</th>\n",
       "      <td>SupervisedModelTraining____mars_gym_model_b___...</td>\n",
       "      <td>1883</td>\n",
       "      <td>0.48</td>\n",
       "      <td>0.40</td>\n",
       "      <td>0.46</td>\n",
       "      <td>0.47</td>\n",
       "      <td>0.51</td>\n",
       "      <td>0.54</td>\n",
       "      <td>0.55</td>\n",
       "      <td>0.56</td>\n",
       "      <td>0.59</td>\n",
       "      <td>0.18</td>\n",
       "      <td>0.52</td>\n",
       "      <td>SupervisedModelTraining____mars_gym_model_b___...</td>\n",
       "    </tr>\n",
       "    <tr>\n",
       "      <th>SupervisedModelTraining____mars_gym_model_b____4998189cf3_9272c9bac3</th>\n",
       "      <td>SupervisedModelTraining____mars_gym_model_b___...</td>\n",
       "      <td>1883</td>\n",
       "      <td>0.43</td>\n",
       "      <td>0.36</td>\n",
       "      <td>0.41</td>\n",
       "      <td>0.41</td>\n",
       "      <td>0.45</td>\n",
       "      <td>0.48</td>\n",
       "      <td>0.49</td>\n",
       "      <td>0.50</td>\n",
       "      <td>0.54</td>\n",
       "      <td>0.17</td>\n",
       "      <td>0.51</td>\n",
       "      <td>SupervisedModelTraining____mars_gym_model_b___...</td>\n",
       "    </tr>\n",
       "    <tr>\n",
       "      <th>SupervisedModelTraining____mars_gym_model_b____f91abdfeb9_bcf03f7529</th>\n",
       "      <td>SupervisedModelTraining____mars_gym_model_b___...</td>\n",
       "      <td>1883</td>\n",
       "      <td>0.36</td>\n",
       "      <td>0.29</td>\n",
       "      <td>0.33</td>\n",
       "      <td>0.34</td>\n",
       "      <td>0.37</td>\n",
       "      <td>0.40</td>\n",
       "      <td>0.42</td>\n",
       "      <td>0.43</td>\n",
       "      <td>0.47</td>\n",
       "      <td>0.16</td>\n",
       "      <td>0.48</td>\n",
       "      <td>SupervisedModelTraining____mars_gym_model_b___...</td>\n",
       "    </tr>\n",
       "    <tr>\n",
       "      <th>SupervisedModelTraining____mars_gym_model_b____40eb70b167_b4c97d30cc</th>\n",
       "      <td>SupervisedModelTraining____mars_gym_model_b___...</td>\n",
       "      <td>1946</td>\n",
       "      <td>0.33</td>\n",
       "      <td>0.25</td>\n",
       "      <td>0.30</td>\n",
       "      <td>0.31</td>\n",
       "      <td>0.35</td>\n",
       "      <td>0.38</td>\n",
       "      <td>0.39</td>\n",
       "      <td>0.41</td>\n",
       "      <td>0.45</td>\n",
       "      <td>0.13</td>\n",
       "      <td>0.39</td>\n",
       "      <td>SupervisedModelTraining____mars_gym_model_b___...</td>\n",
       "    </tr>\n",
       "    <tr>\n",
       "      <th>SupervisedModelTraining____mars_gym_model_b____a9f2d96cfc_8170078552</th>\n",
       "      <td>SupervisedModelTraining____mars_gym_model_b___...</td>\n",
       "      <td>1946</td>\n",
       "      <td>0.47</td>\n",
       "      <td>0.41</td>\n",
       "      <td>0.45</td>\n",
       "      <td>0.45</td>\n",
       "      <td>0.48</td>\n",
       "      <td>0.51</td>\n",
       "      <td>0.52</td>\n",
       "      <td>0.53</td>\n",
       "      <td>0.57</td>\n",
       "      <td>0.13</td>\n",
       "      <td>0.41</td>\n",
       "      <td>SupervisedModelTraining____mars_gym_model_b___...</td>\n",
       "    </tr>\n",
       "    <tr>\n",
       "      <th>SupervisedModelTraining____mars_gym_model_b____bb05272222_8f8406260f</th>\n",
       "      <td>SupervisedModelTraining____mars_gym_model_b___...</td>\n",
       "      <td>1883</td>\n",
       "      <td>0.45</td>\n",
       "      <td>0.38</td>\n",
       "      <td>0.43</td>\n",
       "      <td>0.44</td>\n",
       "      <td>0.47</td>\n",
       "      <td>0.50</td>\n",
       "      <td>0.51</td>\n",
       "      <td>0.52</td>\n",
       "      <td>0.56</td>\n",
       "      <td>0.17</td>\n",
       "      <td>0.50</td>\n",
       "      <td>SupervisedModelTraining____mars_gym_model_b___...</td>\n",
       "    </tr>\n",
       "    <tr>\n",
       "      <th>SupervisedModelTraining____mars_gym_model_b____84fd9c2b3f_2c70bd9c18</th>\n",
       "      <td>SupervisedModelTraining____mars_gym_model_b___...</td>\n",
       "      <td>1883</td>\n",
       "      <td>0.44</td>\n",
       "      <td>0.37</td>\n",
       "      <td>0.42</td>\n",
       "      <td>0.43</td>\n",
       "      <td>0.46</td>\n",
       "      <td>0.48</td>\n",
       "      <td>0.50</td>\n",
       "      <td>0.51</td>\n",
       "      <td>0.55</td>\n",
       "      <td>0.15</td>\n",
       "      <td>0.45</td>\n",
       "      <td>SupervisedModelTraining____mars_gym_model_b___...</td>\n",
       "    </tr>\n",
       "    <tr>\n",
       "      <th>SupervisedModelTraining____mars_gym_model_b____34ba3e9c86_dcb4804de1</th>\n",
       "      <td>SupervisedModelTraining____mars_gym_model_b___...</td>\n",
       "      <td>1946</td>\n",
       "      <td>0.39</td>\n",
       "      <td>0.31</td>\n",
       "      <td>0.37</td>\n",
       "      <td>0.38</td>\n",
       "      <td>0.42</td>\n",
       "      <td>0.45</td>\n",
       "      <td>0.46</td>\n",
       "      <td>0.48</td>\n",
       "      <td>0.51</td>\n",
       "      <td>0.14</td>\n",
       "      <td>0.43</td>\n",
       "      <td>SupervisedModelTraining____mars_gym_model_b___...</td>\n",
       "    </tr>\n",
       "    <tr>\n",
       "      <th>SupervisedModelTraining____mars_gym_model_b____7a2e95cb12_6980ede8f4</th>\n",
       "      <td>SupervisedModelTraining____mars_gym_model_b___...</td>\n",
       "      <td>1946</td>\n",
       "      <td>0.34</td>\n",
       "      <td>0.25</td>\n",
       "      <td>0.32</td>\n",
       "      <td>0.33</td>\n",
       "      <td>0.38</td>\n",
       "      <td>0.41</td>\n",
       "      <td>0.43</td>\n",
       "      <td>0.44</td>\n",
       "      <td>0.48</td>\n",
       "      <td>0.14</td>\n",
       "      <td>0.43</td>\n",
       "      <td>SupervisedModelTraining____mars_gym_model_b___...</td>\n",
       "    </tr>\n",
       "    <tr>\n",
       "      <th>SupervisedModelTraining____mars_gym_model_b____bc513f7dd3_46435ba06e</th>\n",
       "      <td>SupervisedModelTraining____mars_gym_model_b___...</td>\n",
       "      <td>1883</td>\n",
       "      <td>0.37</td>\n",
       "      <td>0.30</td>\n",
       "      <td>0.34</td>\n",
       "      <td>0.36</td>\n",
       "      <td>0.39</td>\n",
       "      <td>0.42</td>\n",
       "      <td>0.43</td>\n",
       "      <td>0.45</td>\n",
       "      <td>0.49</td>\n",
       "      <td>0.15</td>\n",
       "      <td>0.44</td>\n",
       "      <td>SupervisedModelTraining____mars_gym_model_b___...</td>\n",
       "    </tr>\n",
       "    <tr>\n",
       "      <th>SupervisedModelTraining____mars_gym_model_b____caa11253df_e8f436b695</th>\n",
       "      <td>SupervisedModelTraining____mars_gym_model_b___...</td>\n",
       "      <td>1883</td>\n",
       "      <td>0.37</td>\n",
       "      <td>0.30</td>\n",
       "      <td>0.35</td>\n",
       "      <td>0.36</td>\n",
       "      <td>0.39</td>\n",
       "      <td>0.42</td>\n",
       "      <td>0.44</td>\n",
       "      <td>0.45</td>\n",
       "      <td>0.49</td>\n",
       "      <td>0.15</td>\n",
       "      <td>0.44</td>\n",
       "      <td>SupervisedModelTraining____mars_gym_model_b___...</td>\n",
       "    </tr>\n",
       "    <tr>\n",
       "      <th>SupervisedModelTraining____mars_gym_model_b____d6af2ea4d3_9f25978559</th>\n",
       "      <td>SupervisedModelTraining____mars_gym_model_b___...</td>\n",
       "      <td>1883</td>\n",
       "      <td>0.44</td>\n",
       "      <td>0.36</td>\n",
       "      <td>0.42</td>\n",
       "      <td>0.43</td>\n",
       "      <td>0.47</td>\n",
       "      <td>0.50</td>\n",
       "      <td>0.51</td>\n",
       "      <td>0.52</td>\n",
       "      <td>0.56</td>\n",
       "      <td>0.16</td>\n",
       "      <td>0.49</td>\n",
       "      <td>SupervisedModelTraining____mars_gym_model_b___...</td>\n",
       "    </tr>\n",
       "    <tr>\n",
       "      <th>SupervisedModelTraining____mars_gym_model_b____d091623fa6_ce87059a8f</th>\n",
       "      <td>SupervisedModelTraining____mars_gym_model_b___...</td>\n",
       "      <td>1946</td>\n",
       "      <td>0.34</td>\n",
       "      <td>0.26</td>\n",
       "      <td>0.31</td>\n",
       "      <td>0.32</td>\n",
       "      <td>0.35</td>\n",
       "      <td>0.39</td>\n",
       "      <td>0.40</td>\n",
       "      <td>0.42</td>\n",
       "      <td>0.46</td>\n",
       "      <td>0.13</td>\n",
       "      <td>0.39</td>\n",
       "      <td>SupervisedModelTraining____mars_gym_model_b___...</td>\n",
       "    </tr>\n",
       "    <tr>\n",
       "      <th>SupervisedModelTraining____mars_gym_model_b____89951e1de0_160204901b</th>\n",
       "      <td>SupervisedModelTraining____mars_gym_model_b___...</td>\n",
       "      <td>1883</td>\n",
       "      <td>0.51</td>\n",
       "      <td>0.44</td>\n",
       "      <td>0.49</td>\n",
       "      <td>0.50</td>\n",
       "      <td>0.53</td>\n",
       "      <td>0.56</td>\n",
       "      <td>0.57</td>\n",
       "      <td>0.58</td>\n",
       "      <td>0.61</td>\n",
       "      <td>0.17</td>\n",
       "      <td>0.52</td>\n",
       "      <td>SupervisedModelTraining____mars_gym_model_b___...</td>\n",
       "    </tr>\n",
       "    <tr>\n",
       "      <th>SupervisedModelTraining____mars_gym_model_b____bb86660d31_ca4c126f8b</th>\n",
       "      <td>SupervisedModelTraining____mars_gym_model_b___...</td>\n",
       "      <td>1883</td>\n",
       "      <td>0.39</td>\n",
       "      <td>0.32</td>\n",
       "      <td>0.37</td>\n",
       "      <td>0.38</td>\n",
       "      <td>0.41</td>\n",
       "      <td>0.44</td>\n",
       "      <td>0.46</td>\n",
       "      <td>0.47</td>\n",
       "      <td>0.51</td>\n",
       "      <td>0.15</td>\n",
       "      <td>0.46</td>\n",
       "      <td>SupervisedModelTraining____mars_gym_model_b___...</td>\n",
       "    </tr>\n",
       "    <tr>\n",
       "      <th>SupervisedModelTraining____mars_gym_model_b____f454fda2c8_94550b2534</th>\n",
       "      <td>SupervisedModelTraining____mars_gym_model_b___...</td>\n",
       "      <td>1946</td>\n",
       "      <td>0.40</td>\n",
       "      <td>0.32</td>\n",
       "      <td>0.37</td>\n",
       "      <td>0.38</td>\n",
       "      <td>0.42</td>\n",
       "      <td>0.45</td>\n",
       "      <td>0.47</td>\n",
       "      <td>0.48</td>\n",
       "      <td>0.52</td>\n",
       "      <td>0.14</td>\n",
       "      <td>0.43</td>\n",
       "      <td>SupervisedModelTraining____mars_gym_model_b___...</td>\n",
       "    </tr>\n",
       "    <tr>\n",
       "      <th>SupervisedModelTraining____mars_gym_model_b____dc827aeb71_4e25b62295</th>\n",
       "      <td>SupervisedModelTraining____mars_gym_model_b___...</td>\n",
       "      <td>1883</td>\n",
       "      <td>0.50</td>\n",
       "      <td>0.43</td>\n",
       "      <td>0.48</td>\n",
       "      <td>0.49</td>\n",
       "      <td>0.53</td>\n",
       "      <td>0.55</td>\n",
       "      <td>0.57</td>\n",
       "      <td>0.58</td>\n",
       "      <td>0.61</td>\n",
       "      <td>0.17</td>\n",
       "      <td>0.52</td>\n",
       "      <td>SupervisedModelTraining____mars_gym_model_b___...</td>\n",
       "    </tr>\n",
       "    <tr>\n",
       "      <th>SupervisedModelTraining____mars_gym_model_b____bf6052bbc1_b59c07d470</th>\n",
       "      <td>SupervisedModelTraining____mars_gym_model_b___...</td>\n",
       "      <td>1946</td>\n",
       "      <td>0.34</td>\n",
       "      <td>0.26</td>\n",
       "      <td>0.31</td>\n",
       "      <td>0.32</td>\n",
       "      <td>0.36</td>\n",
       "      <td>0.39</td>\n",
       "      <td>0.41</td>\n",
       "      <td>0.42</td>\n",
       "      <td>0.46</td>\n",
       "      <td>0.12</td>\n",
       "      <td>0.39</td>\n",
       "      <td>SupervisedModelTraining____mars_gym_model_b___...</td>\n",
       "    </tr>\n",
       "    <tr>\n",
       "      <th>SupervisedModelTraining____mars_gym_model_b____114e7d9377_53beaabce4</th>\n",
       "      <td>SupervisedModelTraining____mars_gym_model_b___...</td>\n",
       "      <td>1883</td>\n",
       "      <td>0.38</td>\n",
       "      <td>0.30</td>\n",
       "      <td>0.35</td>\n",
       "      <td>0.36</td>\n",
       "      <td>0.39</td>\n",
       "      <td>0.43</td>\n",
       "      <td>0.45</td>\n",
       "      <td>0.46</td>\n",
       "      <td>0.50</td>\n",
       "      <td>0.14</td>\n",
       "      <td>0.43</td>\n",
       "      <td>SupervisedModelTraining____mars_gym_model_b___...</td>\n",
       "    </tr>\n",
       "    <tr>\n",
       "      <th>SupervisedModelTraining____mars_gym_model_b____7b01c9d5f4_eaebe25560</th>\n",
       "      <td>SupervisedModelTraining____mars_gym_model_b___...</td>\n",
       "      <td>1946</td>\n",
       "      <td>0.33</td>\n",
       "      <td>0.25</td>\n",
       "      <td>0.30</td>\n",
       "      <td>0.32</td>\n",
       "      <td>0.35</td>\n",
       "      <td>0.39</td>\n",
       "      <td>0.41</td>\n",
       "      <td>0.42</td>\n",
       "      <td>0.46</td>\n",
       "      <td>0.13</td>\n",
       "      <td>0.40</td>\n",
       "      <td>SupervisedModelTraining____mars_gym_model_b___...</td>\n",
       "    </tr>\n",
       "    <tr>\n",
       "      <th>SupervisedModelTraining____mars_gym_model_b____d190fecb4c_55995404dd</th>\n",
       "      <td>SupervisedModelTraining____mars_gym_model_b___...</td>\n",
       "      <td>1883</td>\n",
       "      <td>0.41</td>\n",
       "      <td>0.34</td>\n",
       "      <td>0.38</td>\n",
       "      <td>0.40</td>\n",
       "      <td>0.43</td>\n",
       "      <td>0.46</td>\n",
       "      <td>0.48</td>\n",
       "      <td>0.49</td>\n",
       "      <td>0.52</td>\n",
       "      <td>0.15</td>\n",
       "      <td>0.46</td>\n",
       "      <td>SupervisedModelTraining____mars_gym_model_b___...</td>\n",
       "    </tr>\n",
       "    <tr>\n",
       "      <th>SupervisedModelTraining____mars_gym_model_b____b085f2085a_c231871038</th>\n",
       "      <td>SupervisedModelTraining____mars_gym_model_b___...</td>\n",
       "      <td>1883</td>\n",
       "      <td>0.46</td>\n",
       "      <td>0.39</td>\n",
       "      <td>0.43</td>\n",
       "      <td>0.44</td>\n",
       "      <td>0.48</td>\n",
       "      <td>0.50</td>\n",
       "      <td>0.52</td>\n",
       "      <td>0.53</td>\n",
       "      <td>0.56</td>\n",
       "      <td>0.16</td>\n",
       "      <td>0.47</td>\n",
       "      <td>SupervisedModelTraining____mars_gym_model_b___...</td>\n",
       "    </tr>\n",
       "    <tr>\n",
       "      <th>SupervisedModelTraining____mars_gym_model_b____66fa7abd46_71f5b669ad</th>\n",
       "      <td>SupervisedModelTraining____mars_gym_model_b___...</td>\n",
       "      <td>1946</td>\n",
       "      <td>0.46</td>\n",
       "      <td>0.40</td>\n",
       "      <td>0.44</td>\n",
       "      <td>0.45</td>\n",
       "      <td>0.47</td>\n",
       "      <td>0.50</td>\n",
       "      <td>0.51</td>\n",
       "      <td>0.52</td>\n",
       "      <td>0.56</td>\n",
       "      <td>0.13</td>\n",
       "      <td>0.41</td>\n",
       "      <td>SupervisedModelTraining____mars_gym_model_b___...</td>\n",
       "    </tr>\n",
       "    <tr>\n",
       "      <th>SupervisedModelTraining____mars_gym_model_b____5470014b5e_e3249c7f7c</th>\n",
       "      <td>SupervisedModelTraining____mars_gym_model_b___...</td>\n",
       "      <td>1883</td>\n",
       "      <td>0.37</td>\n",
       "      <td>0.30</td>\n",
       "      <td>0.34</td>\n",
       "      <td>0.35</td>\n",
       "      <td>0.38</td>\n",
       "      <td>0.41</td>\n",
       "      <td>0.43</td>\n",
       "      <td>0.44</td>\n",
       "      <td>0.48</td>\n",
       "      <td>0.15</td>\n",
       "      <td>0.44</td>\n",
       "      <td>SupervisedModelTraining____mars_gym_model_b___...</td>\n",
       "    </tr>\n",
       "    <tr>\n",
       "      <th>SupervisedModelTraining____mars_gym_model_b____37355252bb_7132e7de90</th>\n",
       "      <td>SupervisedModelTraining____mars_gym_model_b___...</td>\n",
       "      <td>1883</td>\n",
       "      <td>0.45</td>\n",
       "      <td>0.37</td>\n",
       "      <td>0.42</td>\n",
       "      <td>0.43</td>\n",
       "      <td>0.48</td>\n",
       "      <td>0.50</td>\n",
       "      <td>0.52</td>\n",
       "      <td>0.53</td>\n",
       "      <td>0.56</td>\n",
       "      <td>0.17</td>\n",
       "      <td>0.51</td>\n",
       "      <td>SupervisedModelTraining____mars_gym_model_b___...</td>\n",
       "    </tr>\n",
       "    <tr>\n",
       "      <th>SupervisedModelTraining____mars_gym_model_b____43ac7ca69a_3ff72854ce</th>\n",
       "      <td>SupervisedModelTraining____mars_gym_model_b___...</td>\n",
       "      <td>1883</td>\n",
       "      <td>0.38</td>\n",
       "      <td>0.31</td>\n",
       "      <td>0.36</td>\n",
       "      <td>0.37</td>\n",
       "      <td>0.40</td>\n",
       "      <td>0.43</td>\n",
       "      <td>0.45</td>\n",
       "      <td>0.46</td>\n",
       "      <td>0.50</td>\n",
       "      <td>0.14</td>\n",
       "      <td>0.45</td>\n",
       "      <td>SupervisedModelTraining____mars_gym_model_b___...</td>\n",
       "    </tr>\n",
       "    <tr>\n",
       "      <th>SupervisedModelTraining____mars_gym_model_b____0de7a50938_1bd82a33b4</th>\n",
       "      <td>SupervisedModelTraining____mars_gym_model_b___...</td>\n",
       "      <td>1883</td>\n",
       "      <td>0.44</td>\n",
       "      <td>0.36</td>\n",
       "      <td>0.42</td>\n",
       "      <td>0.43</td>\n",
       "      <td>0.47</td>\n",
       "      <td>0.50</td>\n",
       "      <td>0.51</td>\n",
       "      <td>0.52</td>\n",
       "      <td>0.55</td>\n",
       "      <td>0.16</td>\n",
       "      <td>0.47</td>\n",
       "      <td>SupervisedModelTraining____mars_gym_model_b___...</td>\n",
       "    </tr>\n",
       "    <tr>\n",
       "      <th>SupervisedModelTraining____mars_gym_model_b____ae92130397_4faece0791</th>\n",
       "      <td>SupervisedModelTraining____mars_gym_model_b___...</td>\n",
       "      <td>1883</td>\n",
       "      <td>0.47</td>\n",
       "      <td>0.40</td>\n",
       "      <td>0.45</td>\n",
       "      <td>0.46</td>\n",
       "      <td>0.50</td>\n",
       "      <td>0.53</td>\n",
       "      <td>0.54</td>\n",
       "      <td>0.55</td>\n",
       "      <td>0.58</td>\n",
       "      <td>0.17</td>\n",
       "      <td>0.52</td>\n",
       "      <td>SupervisedModelTraining____mars_gym_model_b___...</td>\n",
       "    </tr>\n",
       "    <tr>\n",
       "      <th>SupervisedModelTraining____mars_gym_model_b____8451643eb8_827daa3a8d</th>\n",
       "      <td>SupervisedModelTraining____mars_gym_model_b___...</td>\n",
       "      <td>1946</td>\n",
       "      <td>0.41</td>\n",
       "      <td>0.34</td>\n",
       "      <td>0.38</td>\n",
       "      <td>0.40</td>\n",
       "      <td>0.43</td>\n",
       "      <td>0.46</td>\n",
       "      <td>0.48</td>\n",
       "      <td>0.49</td>\n",
       "      <td>0.52</td>\n",
       "      <td>0.14</td>\n",
       "      <td>0.45</td>\n",
       "      <td>SupervisedModelTraining____mars_gym_model_b___...</td>\n",
       "    </tr>\n",
       "    <tr>\n",
       "      <th>SupervisedModelTraining____mars_gym_model_b____637a546489_b2e1e0888a</th>\n",
       "      <td>SupervisedModelTraining____mars_gym_model_b___...</td>\n",
       "      <td>1883</td>\n",
       "      <td>0.54</td>\n",
       "      <td>0.47</td>\n",
       "      <td>0.52</td>\n",
       "      <td>0.52</td>\n",
       "      <td>0.56</td>\n",
       "      <td>0.58</td>\n",
       "      <td>0.59</td>\n",
       "      <td>0.60</td>\n",
       "      <td>0.63</td>\n",
       "      <td>0.18</td>\n",
       "      <td>0.54</td>\n",
       "      <td>SupervisedModelTraining____mars_gym_model_b___...</td>\n",
       "    </tr>\n",
       "    <tr>\n",
       "      <th>SupervisedModelTraining____mars_gym_model_b____36487d5cdb_9371eb70ef</th>\n",
       "      <td>SupervisedModelTraining____mars_gym_model_b___...</td>\n",
       "      <td>1946</td>\n",
       "      <td>0.32</td>\n",
       "      <td>0.24</td>\n",
       "      <td>0.29</td>\n",
       "      <td>0.31</td>\n",
       "      <td>0.34</td>\n",
       "      <td>0.38</td>\n",
       "      <td>0.39</td>\n",
       "      <td>0.41</td>\n",
       "      <td>0.45</td>\n",
       "      <td>0.12</td>\n",
       "      <td>0.39</td>\n",
       "      <td>SupervisedModelTraining____mars_gym_model_b___...</td>\n",
       "    </tr>\n",
       "    <tr>\n",
       "      <th>SupervisedModelTraining____mars_gym_model_b____7d769fe163_42d36fb497</th>\n",
       "      <td>SupervisedModelTraining____mars_gym_model_b___...</td>\n",
       "      <td>1946</td>\n",
       "      <td>0.28</td>\n",
       "      <td>0.21</td>\n",
       "      <td>0.25</td>\n",
       "      <td>0.26</td>\n",
       "      <td>0.28</td>\n",
       "      <td>0.32</td>\n",
       "      <td>0.34</td>\n",
       "      <td>0.36</td>\n",
       "      <td>0.40</td>\n",
       "      <td>0.13</td>\n",
       "      <td>0.40</td>\n",
       "      <td>SupervisedModelTraining____mars_gym_model_b___...</td>\n",
       "    </tr>\n",
       "    <tr>\n",
       "      <th>SupervisedModelTraining____mars_gym_model_b____b3124e7a69_7433973f5d</th>\n",
       "      <td>SupervisedModelTraining____mars_gym_model_b___...</td>\n",
       "      <td>1883</td>\n",
       "      <td>0.37</td>\n",
       "      <td>0.30</td>\n",
       "      <td>0.34</td>\n",
       "      <td>0.35</td>\n",
       "      <td>0.38</td>\n",
       "      <td>0.42</td>\n",
       "      <td>0.43</td>\n",
       "      <td>0.44</td>\n",
       "      <td>0.48</td>\n",
       "      <td>0.15</td>\n",
       "      <td>0.45</td>\n",
       "      <td>SupervisedModelTraining____mars_gym_model_b___...</td>\n",
       "    </tr>\n",
       "    <tr>\n",
       "      <th>SupervisedModelTraining____mars_gym_model_b____50bde7ac0e_72d094a045</th>\n",
       "      <td>SupervisedModelTraining____mars_gym_model_b___...</td>\n",
       "      <td>2000</td>\n",
       "      <td>1.00</td>\n",
       "      <td>1.00</td>\n",
       "      <td>1.00</td>\n",
       "      <td>1.00</td>\n",
       "      <td>1.00</td>\n",
       "      <td>1.00</td>\n",
       "      <td>1.00</td>\n",
       "      <td>1.00</td>\n",
       "      <td>1.00</td>\n",
       "      <td>1.00</td>\n",
       "      <td>1.00</td>\n",
       "      <td>SupervisedModelTraining____mars_gym_model_b___...</td>\n",
       "    </tr>\n",
       "    <tr>\n",
       "      <th>SupervisedModelTraining____mars_gym_model_b____f8644ddea3_d9eab3766a</th>\n",
       "      <td>SupervisedModelTraining____mars_gym_model_b___...</td>\n",
       "      <td>1946</td>\n",
       "      <td>0.41</td>\n",
       "      <td>0.32</td>\n",
       "      <td>0.38</td>\n",
       "      <td>0.39</td>\n",
       "      <td>0.43</td>\n",
       "      <td>0.46</td>\n",
       "      <td>0.48</td>\n",
       "      <td>0.49</td>\n",
       "      <td>0.53</td>\n",
       "      <td>0.14</td>\n",
       "      <td>0.45</td>\n",
       "      <td>SupervisedModelTraining____mars_gym_model_b___...</td>\n",
       "    </tr>\n",
       "    <tr>\n",
       "      <th>SupervisedModelTraining____mars_gym_model_b____f3e0328139_481f038c64</th>\n",
       "      <td>SupervisedModelTraining____mars_gym_model_b___...</td>\n",
       "      <td>1883</td>\n",
       "      <td>0.37</td>\n",
       "      <td>0.30</td>\n",
       "      <td>0.34</td>\n",
       "      <td>0.35</td>\n",
       "      <td>0.38</td>\n",
       "      <td>0.41</td>\n",
       "      <td>0.43</td>\n",
       "      <td>0.44</td>\n",
       "      <td>0.48</td>\n",
       "      <td>0.16</td>\n",
       "      <td>0.48</td>\n",
       "      <td>SupervisedModelTraining____mars_gym_model_b___...</td>\n",
       "    </tr>\n",
       "    <tr>\n",
       "      <th>SupervisedModelTraining____mars_gym_model_b____6cd3fda06a_f01a0ebb09</th>\n",
       "      <td>SupervisedModelTraining____mars_gym_model_b___...</td>\n",
       "      <td>1883</td>\n",
       "      <td>0.37</td>\n",
       "      <td>0.31</td>\n",
       "      <td>0.34</td>\n",
       "      <td>0.36</td>\n",
       "      <td>0.38</td>\n",
       "      <td>0.41</td>\n",
       "      <td>0.43</td>\n",
       "      <td>0.45</td>\n",
       "      <td>0.48</td>\n",
       "      <td>0.16</td>\n",
       "      <td>0.48</td>\n",
       "      <td>SupervisedModelTraining____mars_gym_model_b___...</td>\n",
       "    </tr>\n",
       "    <tr>\n",
       "      <th>SupervisedModelTraining____mars_gym_model_b____7d956e03c0_2d2f6cb064</th>\n",
       "      <td>SupervisedModelTraining____mars_gym_model_b___...</td>\n",
       "      <td>1946</td>\n",
       "      <td>0.40</td>\n",
       "      <td>0.32</td>\n",
       "      <td>0.37</td>\n",
       "      <td>0.38</td>\n",
       "      <td>0.42</td>\n",
       "      <td>0.45</td>\n",
       "      <td>0.47</td>\n",
       "      <td>0.48</td>\n",
       "      <td>0.52</td>\n",
       "      <td>0.14</td>\n",
       "      <td>0.43</td>\n",
       "      <td>SupervisedModelTraining____mars_gym_model_b___...</td>\n",
       "    </tr>\n",
       "    <tr>\n",
       "      <th>SupervisedModelTraining____mars_gym_model_b____e366f9c4d5_8d396b2f6a</th>\n",
       "      <td>SupervisedModelTraining____mars_gym_model_b___...</td>\n",
       "      <td>1883</td>\n",
       "      <td>0.38</td>\n",
       "      <td>0.30</td>\n",
       "      <td>0.35</td>\n",
       "      <td>0.36</td>\n",
       "      <td>0.39</td>\n",
       "      <td>0.42</td>\n",
       "      <td>0.44</td>\n",
       "      <td>0.45</td>\n",
       "      <td>0.49</td>\n",
       "      <td>0.15</td>\n",
       "      <td>0.44</td>\n",
       "      <td>SupervisedModelTraining____mars_gym_model_b___...</td>\n",
       "    </tr>\n",
       "    <tr>\n",
       "      <th>SupervisedModelTraining____mars_gym_model_b____b3d2b0f719_0ab07baabe</th>\n",
       "      <td>SupervisedModelTraining____mars_gym_model_b___...</td>\n",
       "      <td>1883</td>\n",
       "      <td>0.36</td>\n",
       "      <td>0.29</td>\n",
       "      <td>0.34</td>\n",
       "      <td>0.35</td>\n",
       "      <td>0.38</td>\n",
       "      <td>0.41</td>\n",
       "      <td>0.42</td>\n",
       "      <td>0.44</td>\n",
       "      <td>0.48</td>\n",
       "      <td>0.16</td>\n",
       "      <td>0.48</td>\n",
       "      <td>SupervisedModelTraining____mars_gym_model_b___...</td>\n",
       "    </tr>\n",
       "    <tr>\n",
       "      <th>SupervisedModelTraining____mars_gym_model_b____e9af33328c_3fae9bb273</th>\n",
       "      <td>SupervisedModelTraining____mars_gym_model_b___...</td>\n",
       "      <td>1883</td>\n",
       "      <td>0.45</td>\n",
       "      <td>0.38</td>\n",
       "      <td>0.43</td>\n",
       "      <td>0.44</td>\n",
       "      <td>0.48</td>\n",
       "      <td>0.51</td>\n",
       "      <td>0.52</td>\n",
       "      <td>0.53</td>\n",
       "      <td>0.56</td>\n",
       "      <td>0.16</td>\n",
       "      <td>0.47</td>\n",
       "      <td>SupervisedModelTraining____mars_gym_model_b___...</td>\n",
       "    </tr>\n",
       "    <tr>\n",
       "      <th>SupervisedModelTraining____mars_gym_model_b____43dca4e866_c30c0f8298</th>\n",
       "      <td>SupervisedModelTraining____mars_gym_model_b___...</td>\n",
       "      <td>1946</td>\n",
       "      <td>0.41</td>\n",
       "      <td>0.33</td>\n",
       "      <td>0.38</td>\n",
       "      <td>0.39</td>\n",
       "      <td>0.43</td>\n",
       "      <td>0.46</td>\n",
       "      <td>0.47</td>\n",
       "      <td>0.49</td>\n",
       "      <td>0.52</td>\n",
       "      <td>0.14</td>\n",
       "      <td>0.44</td>\n",
       "      <td>SupervisedModelTraining____mars_gym_model_b___...</td>\n",
       "    </tr>\n",
       "    <tr>\n",
       "      <th>SupervisedModelTraining____mars_gym_model_b____487a890b44_a0932e288a</th>\n",
       "      <td>SupervisedModelTraining____mars_gym_model_b___...</td>\n",
       "      <td>1883</td>\n",
       "      <td>0.39</td>\n",
       "      <td>0.32</td>\n",
       "      <td>0.36</td>\n",
       "      <td>0.37</td>\n",
       "      <td>0.41</td>\n",
       "      <td>0.44</td>\n",
       "      <td>0.46</td>\n",
       "      <td>0.47</td>\n",
       "      <td>0.50</td>\n",
       "      <td>0.15</td>\n",
       "      <td>0.44</td>\n",
       "      <td>SupervisedModelTraining____mars_gym_model_b___...</td>\n",
       "    </tr>\n",
       "    <tr>\n",
       "      <th>SupervisedModelTraining____mars_gym_model_b____88321e9db4_ec05a14709</th>\n",
       "      <td>SupervisedModelTraining____mars_gym_model_b___...</td>\n",
       "      <td>1883</td>\n",
       "      <td>0.50</td>\n",
       "      <td>0.43</td>\n",
       "      <td>0.48</td>\n",
       "      <td>0.49</td>\n",
       "      <td>0.52</td>\n",
       "      <td>0.54</td>\n",
       "      <td>0.56</td>\n",
       "      <td>0.57</td>\n",
       "      <td>0.60</td>\n",
       "      <td>0.17</td>\n",
       "      <td>0.51</td>\n",
       "      <td>SupervisedModelTraining____mars_gym_model_b___...</td>\n",
       "    </tr>\n",
       "    <tr>\n",
       "      <th>SupervisedModelTraining____mars_gym_model_b____edb66c73dc_f45ec0ad7f</th>\n",
       "      <td>SupervisedModelTraining____mars_gym_model_b___...</td>\n",
       "      <td>1883</td>\n",
       "      <td>0.41</td>\n",
       "      <td>0.34</td>\n",
       "      <td>0.38</td>\n",
       "      <td>0.39</td>\n",
       "      <td>0.42</td>\n",
       "      <td>0.45</td>\n",
       "      <td>0.47</td>\n",
       "      <td>0.48</td>\n",
       "      <td>0.51</td>\n",
       "      <td>0.16</td>\n",
       "      <td>0.49</td>\n",
       "      <td>SupervisedModelTraining____mars_gym_model_b___...</td>\n",
       "    </tr>\n",
       "    <tr>\n",
       "      <th>SupervisedModelTraining____mars_gym_model_b____d62e97c1dd_2c1d76a9b4</th>\n",
       "      <td>SupervisedModelTraining____mars_gym_model_b___...</td>\n",
       "      <td>1883</td>\n",
       "      <td>0.39</td>\n",
       "      <td>0.31</td>\n",
       "      <td>0.36</td>\n",
       "      <td>0.37</td>\n",
       "      <td>0.41</td>\n",
       "      <td>0.44</td>\n",
       "      <td>0.46</td>\n",
       "      <td>0.47</td>\n",
       "      <td>0.50</td>\n",
       "      <td>0.15</td>\n",
       "      <td>0.46</td>\n",
       "      <td>SupervisedModelTraining____mars_gym_model_b___...</td>\n",
       "    </tr>\n",
       "  </tbody>\n",
       "</table>\n",
       "</div>"
      ],
      "text/plain": [
       "                                                                                           model_task  \\\n",
       "path                                                                                                    \n",
       "SupervisedModelTraining____mars_gym_model_b____...  SupervisedModelTraining____mars_gym_model_b___...   \n",
       "SupervisedModelTraining____mars_gym_model_b____...  SupervisedModelTraining____mars_gym_model_b___...   \n",
       "SupervisedModelTraining____mars_gym_model_b____...  SupervisedModelTraining____mars_gym_model_b___...   \n",
       "SupervisedModelTraining____mars_gym_model_b____...  SupervisedModelTraining____mars_gym_model_b___...   \n",
       "SupervisedModelTraining____mars_gym_model_b____...  SupervisedModelTraining____mars_gym_model_b___...   \n",
       "SupervisedModelTraining____mars_gym_model_b____...  SupervisedModelTraining____mars_gym_model_b___...   \n",
       "SupervisedModelTraining____mars_gym_model_b____...  SupervisedModelTraining____mars_gym_model_b___...   \n",
       "SupervisedModelTraining____mars_gym_model_b____...  SupervisedModelTraining____mars_gym_model_b___...   \n",
       "SupervisedModelTraining____mars_gym_model_b____...  SupervisedModelTraining____mars_gym_model_b___...   \n",
       "SupervisedModelTraining____mars_gym_model_b____...  SupervisedModelTraining____mars_gym_model_b___...   \n",
       "SupervisedModelTraining____mars_gym_model_b____...  SupervisedModelTraining____mars_gym_model_b___...   \n",
       "SupervisedModelTraining____mars_gym_model_b____...  SupervisedModelTraining____mars_gym_model_b___...   \n",
       "SupervisedModelTraining____mars_gym_model_b____...  SupervisedModelTraining____mars_gym_model_b___...   \n",
       "SupervisedModelTraining____mars_gym_model_b____...  SupervisedModelTraining____mars_gym_model_b___...   \n",
       "SupervisedModelTraining____mars_gym_model_b____...  SupervisedModelTraining____mars_gym_model_b___...   \n",
       "SupervisedModelTraining____mars_gym_model_b____...  SupervisedModelTraining____mars_gym_model_b___...   \n",
       "SupervisedModelTraining____mars_gym_model_b____...  SupervisedModelTraining____mars_gym_model_b___...   \n",
       "SupervisedModelTraining____mars_gym_model_b____...  SupervisedModelTraining____mars_gym_model_b___...   \n",
       "SupervisedModelTraining____mars_gym_model_b____...  SupervisedModelTraining____mars_gym_model_b___...   \n",
       "SupervisedModelTraining____mars_gym_model_b____...  SupervisedModelTraining____mars_gym_model_b___...   \n",
       "SupervisedModelTraining____mars_gym_model_b____...  SupervisedModelTraining____mars_gym_model_b___...   \n",
       "SupervisedModelTraining____mars_gym_model_b____...  SupervisedModelTraining____mars_gym_model_b___...   \n",
       "SupervisedModelTraining____mars_gym_model_b____...  SupervisedModelTraining____mars_gym_model_b___...   \n",
       "SupervisedModelTraining____mars_gym_model_b____...  SupervisedModelTraining____mars_gym_model_b___...   \n",
       "SupervisedModelTraining____mars_gym_model_b____...  SupervisedModelTraining____mars_gym_model_b___...   \n",
       "SupervisedModelTraining____mars_gym_model_b____...  SupervisedModelTraining____mars_gym_model_b___...   \n",
       "SupervisedModelTraining____mars_gym_model_b____...  SupervisedModelTraining____mars_gym_model_b___...   \n",
       "SupervisedModelTraining____mars_gym_model_b____...  SupervisedModelTraining____mars_gym_model_b___...   \n",
       "SupervisedModelTraining____mars_gym_model_b____...  SupervisedModelTraining____mars_gym_model_b___...   \n",
       "SupervisedModelTraining____mars_gym_model_b____...  SupervisedModelTraining____mars_gym_model_b___...   \n",
       "SupervisedModelTraining____mars_gym_model_b____...  SupervisedModelTraining____mars_gym_model_b___...   \n",
       "SupervisedModelTraining____mars_gym_model_b____...  SupervisedModelTraining____mars_gym_model_b___...   \n",
       "SupervisedModelTraining____mars_gym_model_b____...  SupervisedModelTraining____mars_gym_model_b___...   \n",
       "SupervisedModelTraining____mars_gym_model_b____...  SupervisedModelTraining____mars_gym_model_b___...   \n",
       "SupervisedModelTraining____mars_gym_model_b____...  SupervisedModelTraining____mars_gym_model_b___...   \n",
       "SupervisedModelTraining____mars_gym_model_b____...  SupervisedModelTraining____mars_gym_model_b___...   \n",
       "SupervisedModelTraining____mars_gym_model_b____...  SupervisedModelTraining____mars_gym_model_b___...   \n",
       "SupervisedModelTraining____mars_gym_model_b____...  SupervisedModelTraining____mars_gym_model_b___...   \n",
       "SupervisedModelTraining____mars_gym_model_b____...  SupervisedModelTraining____mars_gym_model_b___...   \n",
       "SupervisedModelTraining____mars_gym_model_b____...  SupervisedModelTraining____mars_gym_model_b___...   \n",
       "SupervisedModelTraining____mars_gym_model_b____...  SupervisedModelTraining____mars_gym_model_b___...   \n",
       "SupervisedModelTraining____mars_gym_model_b____...  SupervisedModelTraining____mars_gym_model_b___...   \n",
       "SupervisedModelTraining____mars_gym_model_b____...  SupervisedModelTraining____mars_gym_model_b___...   \n",
       "SupervisedModelTraining____mars_gym_model_b____...  SupervisedModelTraining____mars_gym_model_b___...   \n",
       "SupervisedModelTraining____mars_gym_model_b____...  SupervisedModelTraining____mars_gym_model_b___...   \n",
       "SupervisedModelTraining____mars_gym_model_b____...  SupervisedModelTraining____mars_gym_model_b___...   \n",
       "SupervisedModelTraining____mars_gym_model_b____...  SupervisedModelTraining____mars_gym_model_b___...   \n",
       "SupervisedModelTraining____mars_gym_model_b____...  SupervisedModelTraining____mars_gym_model_b___...   \n",
       "SupervisedModelTraining____mars_gym_model_b____...  SupervisedModelTraining____mars_gym_model_b___...   \n",
       "SupervisedModelTraining____mars_gym_model_b____...  SupervisedModelTraining____mars_gym_model_b___...   \n",
       "SupervisedModelTraining____mars_gym_model_b____...  SupervisedModelTraining____mars_gym_model_b___...   \n",
       "SupervisedModelTraining____mars_gym_model_b____...  SupervisedModelTraining____mars_gym_model_b___...   \n",
       "SupervisedModelTraining____mars_gym_model_b____...  SupervisedModelTraining____mars_gym_model_b___...   \n",
       "SupervisedModelTraining____mars_gym_model_b____...  SupervisedModelTraining____mars_gym_model_b___...   \n",
       "SupervisedModelTraining____mars_gym_model_b____...  SupervisedModelTraining____mars_gym_model_b___...   \n",
       "\n",
       "                                                    count  \\\n",
       "path                                                        \n",
       "SupervisedModelTraining____mars_gym_model_b____...   1946   \n",
       "SupervisedModelTraining____mars_gym_model_b____...   1883   \n",
       "SupervisedModelTraining____mars_gym_model_b____...   1883   \n",
       "SupervisedModelTraining____mars_gym_model_b____...   1883   \n",
       "SupervisedModelTraining____mars_gym_model_b____...   1883   \n",
       "SupervisedModelTraining____mars_gym_model_b____...   1946   \n",
       "SupervisedModelTraining____mars_gym_model_b____...   1883   \n",
       "SupervisedModelTraining____mars_gym_model_b____...   1883   \n",
       "SupervisedModelTraining____mars_gym_model_b____...   1883   \n",
       "SupervisedModelTraining____mars_gym_model_b____...   1883   \n",
       "SupervisedModelTraining____mars_gym_model_b____...   1883   \n",
       "SupervisedModelTraining____mars_gym_model_b____...   1883   \n",
       "SupervisedModelTraining____mars_gym_model_b____...   1946   \n",
       "SupervisedModelTraining____mars_gym_model_b____...   1946   \n",
       "SupervisedModelTraining____mars_gym_model_b____...   1883   \n",
       "SupervisedModelTraining____mars_gym_model_b____...   1883   \n",
       "SupervisedModelTraining____mars_gym_model_b____...   1946   \n",
       "SupervisedModelTraining____mars_gym_model_b____...   1946   \n",
       "SupervisedModelTraining____mars_gym_model_b____...   1883   \n",
       "SupervisedModelTraining____mars_gym_model_b____...   1883   \n",
       "SupervisedModelTraining____mars_gym_model_b____...   1883   \n",
       "SupervisedModelTraining____mars_gym_model_b____...   1946   \n",
       "SupervisedModelTraining____mars_gym_model_b____...   1883   \n",
       "SupervisedModelTraining____mars_gym_model_b____...   1883   \n",
       "SupervisedModelTraining____mars_gym_model_b____...   1946   \n",
       "SupervisedModelTraining____mars_gym_model_b____...   1883   \n",
       "SupervisedModelTraining____mars_gym_model_b____...   1946   \n",
       "SupervisedModelTraining____mars_gym_model_b____...   1883   \n",
       "SupervisedModelTraining____mars_gym_model_b____...   1946   \n",
       "SupervisedModelTraining____mars_gym_model_b____...   1883   \n",
       "SupervisedModelTraining____mars_gym_model_b____...   1883   \n",
       "SupervisedModelTraining____mars_gym_model_b____...   1946   \n",
       "SupervisedModelTraining____mars_gym_model_b____...   1883   \n",
       "SupervisedModelTraining____mars_gym_model_b____...   1883   \n",
       "SupervisedModelTraining____mars_gym_model_b____...   1883   \n",
       "SupervisedModelTraining____mars_gym_model_b____...   1883   \n",
       "SupervisedModelTraining____mars_gym_model_b____...   1883   \n",
       "SupervisedModelTraining____mars_gym_model_b____...   1946   \n",
       "SupervisedModelTraining____mars_gym_model_b____...   1883   \n",
       "SupervisedModelTraining____mars_gym_model_b____...   1946   \n",
       "SupervisedModelTraining____mars_gym_model_b____...   1946   \n",
       "SupervisedModelTraining____mars_gym_model_b____...   1883   \n",
       "SupervisedModelTraining____mars_gym_model_b____...   2000   \n",
       "SupervisedModelTraining____mars_gym_model_b____...   1946   \n",
       "SupervisedModelTraining____mars_gym_model_b____...   1883   \n",
       "SupervisedModelTraining____mars_gym_model_b____...   1883   \n",
       "SupervisedModelTraining____mars_gym_model_b____...   1946   \n",
       "SupervisedModelTraining____mars_gym_model_b____...   1883   \n",
       "SupervisedModelTraining____mars_gym_model_b____...   1883   \n",
       "SupervisedModelTraining____mars_gym_model_b____...   1883   \n",
       "SupervisedModelTraining____mars_gym_model_b____...   1946   \n",
       "SupervisedModelTraining____mars_gym_model_b____...   1883   \n",
       "SupervisedModelTraining____mars_gym_model_b____...   1883   \n",
       "SupervisedModelTraining____mars_gym_model_b____...   1883   \n",
       "SupervisedModelTraining____mars_gym_model_b____...   1883   \n",
       "\n",
       "                                                    mean_average_precision  \\\n",
       "path                                                                         \n",
       "SupervisedModelTraining____mars_gym_model_b____...                    0.33   \n",
       "SupervisedModelTraining____mars_gym_model_b____...                    0.46   \n",
       "SupervisedModelTraining____mars_gym_model_b____...                    0.47   \n",
       "SupervisedModelTraining____mars_gym_model_b____...                    0.38   \n",
       "SupervisedModelTraining____mars_gym_model_b____...                    0.44   \n",
       "SupervisedModelTraining____mars_gym_model_b____...                    0.40   \n",
       "SupervisedModelTraining____mars_gym_model_b____...                    0.45   \n",
       "SupervisedModelTraining____mars_gym_model_b____...                    0.38   \n",
       "SupervisedModelTraining____mars_gym_model_b____...                    0.40   \n",
       "SupervisedModelTraining____mars_gym_model_b____...                    0.48   \n",
       "SupervisedModelTraining____mars_gym_model_b____...                    0.43   \n",
       "SupervisedModelTraining____mars_gym_model_b____...                    0.36   \n",
       "SupervisedModelTraining____mars_gym_model_b____...                    0.33   \n",
       "SupervisedModelTraining____mars_gym_model_b____...                    0.47   \n",
       "SupervisedModelTraining____mars_gym_model_b____...                    0.45   \n",
       "SupervisedModelTraining____mars_gym_model_b____...                    0.44   \n",
       "SupervisedModelTraining____mars_gym_model_b____...                    0.39   \n",
       "SupervisedModelTraining____mars_gym_model_b____...                    0.34   \n",
       "SupervisedModelTraining____mars_gym_model_b____...                    0.37   \n",
       "SupervisedModelTraining____mars_gym_model_b____...                    0.37   \n",
       "SupervisedModelTraining____mars_gym_model_b____...                    0.44   \n",
       "SupervisedModelTraining____mars_gym_model_b____...                    0.34   \n",
       "SupervisedModelTraining____mars_gym_model_b____...                    0.51   \n",
       "SupervisedModelTraining____mars_gym_model_b____...                    0.39   \n",
       "SupervisedModelTraining____mars_gym_model_b____...                    0.40   \n",
       "SupervisedModelTraining____mars_gym_model_b____...                    0.50   \n",
       "SupervisedModelTraining____mars_gym_model_b____...                    0.34   \n",
       "SupervisedModelTraining____mars_gym_model_b____...                    0.38   \n",
       "SupervisedModelTraining____mars_gym_model_b____...                    0.33   \n",
       "SupervisedModelTraining____mars_gym_model_b____...                    0.41   \n",
       "SupervisedModelTraining____mars_gym_model_b____...                    0.46   \n",
       "SupervisedModelTraining____mars_gym_model_b____...                    0.46   \n",
       "SupervisedModelTraining____mars_gym_model_b____...                    0.37   \n",
       "SupervisedModelTraining____mars_gym_model_b____...                    0.45   \n",
       "SupervisedModelTraining____mars_gym_model_b____...                    0.38   \n",
       "SupervisedModelTraining____mars_gym_model_b____...                    0.44   \n",
       "SupervisedModelTraining____mars_gym_model_b____...                    0.47   \n",
       "SupervisedModelTraining____mars_gym_model_b____...                    0.41   \n",
       "SupervisedModelTraining____mars_gym_model_b____...                    0.54   \n",
       "SupervisedModelTraining____mars_gym_model_b____...                    0.32   \n",
       "SupervisedModelTraining____mars_gym_model_b____...                    0.28   \n",
       "SupervisedModelTraining____mars_gym_model_b____...                    0.37   \n",
       "SupervisedModelTraining____mars_gym_model_b____...                    1.00   \n",
       "SupervisedModelTraining____mars_gym_model_b____...                    0.41   \n",
       "SupervisedModelTraining____mars_gym_model_b____...                    0.37   \n",
       "SupervisedModelTraining____mars_gym_model_b____...                    0.37   \n",
       "SupervisedModelTraining____mars_gym_model_b____...                    0.40   \n",
       "SupervisedModelTraining____mars_gym_model_b____...                    0.38   \n",
       "SupervisedModelTraining____mars_gym_model_b____...                    0.36   \n",
       "SupervisedModelTraining____mars_gym_model_b____...                    0.45   \n",
       "SupervisedModelTraining____mars_gym_model_b____...                    0.41   \n",
       "SupervisedModelTraining____mars_gym_model_b____...                    0.39   \n",
       "SupervisedModelTraining____mars_gym_model_b____...                    0.50   \n",
       "SupervisedModelTraining____mars_gym_model_b____...                    0.41   \n",
       "SupervisedModelTraining____mars_gym_model_b____...                    0.39   \n",
       "\n",
       "                                                    precision_at_1  mrr_at_5  \\\n",
       "path                                                                           \n",
       "SupervisedModelTraining____mars_gym_model_b____...            0.25      0.30   \n",
       "SupervisedModelTraining____mars_gym_model_b____...            0.38      0.43   \n",
       "SupervisedModelTraining____mars_gym_model_b____...            0.40      0.45   \n",
       "SupervisedModelTraining____mars_gym_model_b____...            0.30      0.35   \n",
       "SupervisedModelTraining____mars_gym_model_b____...            0.37      0.42   \n",
       "SupervisedModelTraining____mars_gym_model_b____...            0.32      0.37   \n",
       "SupervisedModelTraining____mars_gym_model_b____...            0.38      0.43   \n",
       "SupervisedModelTraining____mars_gym_model_b____...            0.30      0.35   \n",
       "SupervisedModelTraining____mars_gym_model_b____...            0.33      0.37   \n",
       "SupervisedModelTraining____mars_gym_model_b____...            0.40      0.46   \n",
       "SupervisedModelTraining____mars_gym_model_b____...            0.36      0.41   \n",
       "SupervisedModelTraining____mars_gym_model_b____...            0.29      0.33   \n",
       "SupervisedModelTraining____mars_gym_model_b____...            0.25      0.30   \n",
       "SupervisedModelTraining____mars_gym_model_b____...            0.41      0.45   \n",
       "SupervisedModelTraining____mars_gym_model_b____...            0.38      0.43   \n",
       "SupervisedModelTraining____mars_gym_model_b____...            0.37      0.42   \n",
       "SupervisedModelTraining____mars_gym_model_b____...            0.31      0.37   \n",
       "SupervisedModelTraining____mars_gym_model_b____...            0.25      0.32   \n",
       "SupervisedModelTraining____mars_gym_model_b____...            0.30      0.34   \n",
       "SupervisedModelTraining____mars_gym_model_b____...            0.30      0.35   \n",
       "SupervisedModelTraining____mars_gym_model_b____...            0.36      0.42   \n",
       "SupervisedModelTraining____mars_gym_model_b____...            0.26      0.31   \n",
       "SupervisedModelTraining____mars_gym_model_b____...            0.44      0.49   \n",
       "SupervisedModelTraining____mars_gym_model_b____...            0.32      0.37   \n",
       "SupervisedModelTraining____mars_gym_model_b____...            0.32      0.37   \n",
       "SupervisedModelTraining____mars_gym_model_b____...            0.43      0.48   \n",
       "SupervisedModelTraining____mars_gym_model_b____...            0.26      0.31   \n",
       "SupervisedModelTraining____mars_gym_model_b____...            0.30      0.35   \n",
       "SupervisedModelTraining____mars_gym_model_b____...            0.25      0.30   \n",
       "SupervisedModelTraining____mars_gym_model_b____...            0.34      0.38   \n",
       "SupervisedModelTraining____mars_gym_model_b____...            0.39      0.43   \n",
       "SupervisedModelTraining____mars_gym_model_b____...            0.40      0.44   \n",
       "SupervisedModelTraining____mars_gym_model_b____...            0.30      0.34   \n",
       "SupervisedModelTraining____mars_gym_model_b____...            0.37      0.42   \n",
       "SupervisedModelTraining____mars_gym_model_b____...            0.31      0.36   \n",
       "SupervisedModelTraining____mars_gym_model_b____...            0.36      0.42   \n",
       "SupervisedModelTraining____mars_gym_model_b____...            0.40      0.45   \n",
       "SupervisedModelTraining____mars_gym_model_b____...            0.34      0.38   \n",
       "SupervisedModelTraining____mars_gym_model_b____...            0.47      0.52   \n",
       "SupervisedModelTraining____mars_gym_model_b____...            0.24      0.29   \n",
       "SupervisedModelTraining____mars_gym_model_b____...            0.21      0.25   \n",
       "SupervisedModelTraining____mars_gym_model_b____...            0.30      0.34   \n",
       "SupervisedModelTraining____mars_gym_model_b____...            1.00      1.00   \n",
       "SupervisedModelTraining____mars_gym_model_b____...            0.32      0.38   \n",
       "SupervisedModelTraining____mars_gym_model_b____...            0.30      0.34   \n",
       "SupervisedModelTraining____mars_gym_model_b____...            0.31      0.34   \n",
       "SupervisedModelTraining____mars_gym_model_b____...            0.32      0.37   \n",
       "SupervisedModelTraining____mars_gym_model_b____...            0.30      0.35   \n",
       "SupervisedModelTraining____mars_gym_model_b____...            0.29      0.34   \n",
       "SupervisedModelTraining____mars_gym_model_b____...            0.38      0.43   \n",
       "SupervisedModelTraining____mars_gym_model_b____...            0.33      0.38   \n",
       "SupervisedModelTraining____mars_gym_model_b____...            0.32      0.36   \n",
       "SupervisedModelTraining____mars_gym_model_b____...            0.43      0.48   \n",
       "SupervisedModelTraining____mars_gym_model_b____...            0.34      0.38   \n",
       "SupervisedModelTraining____mars_gym_model_b____...            0.31      0.36   \n",
       "\n",
       "                                                    mrr_at_10  ndcg_at_5  \\\n",
       "path                                                                       \n",
       "SupervisedModelTraining____mars_gym_model_b____...       0.31       0.35   \n",
       "SupervisedModelTraining____mars_gym_model_b____...       0.45       0.48   \n",
       "SupervisedModelTraining____mars_gym_model_b____...       0.46       0.49   \n",
       "SupervisedModelTraining____mars_gym_model_b____...       0.36       0.39   \n",
       "SupervisedModelTraining____mars_gym_model_b____...       0.43       0.46   \n",
       "SupervisedModelTraining____mars_gym_model_b____...       0.38       0.42   \n",
       "SupervisedModelTraining____mars_gym_model_b____...       0.44       0.48   \n",
       "SupervisedModelTraining____mars_gym_model_b____...       0.36       0.40   \n",
       "SupervisedModelTraining____mars_gym_model_b____...       0.38       0.41   \n",
       "SupervisedModelTraining____mars_gym_model_b____...       0.47       0.51   \n",
       "SupervisedModelTraining____mars_gym_model_b____...       0.41       0.45   \n",
       "SupervisedModelTraining____mars_gym_model_b____...       0.34       0.37   \n",
       "SupervisedModelTraining____mars_gym_model_b____...       0.31       0.35   \n",
       "SupervisedModelTraining____mars_gym_model_b____...       0.45       0.48   \n",
       "SupervisedModelTraining____mars_gym_model_b____...       0.44       0.47   \n",
       "SupervisedModelTraining____mars_gym_model_b____...       0.43       0.46   \n",
       "SupervisedModelTraining____mars_gym_model_b____...       0.38       0.42   \n",
       "SupervisedModelTraining____mars_gym_model_b____...       0.33       0.38   \n",
       "SupervisedModelTraining____mars_gym_model_b____...       0.36       0.39   \n",
       "SupervisedModelTraining____mars_gym_model_b____...       0.36       0.39   \n",
       "SupervisedModelTraining____mars_gym_model_b____...       0.43       0.47   \n",
       "SupervisedModelTraining____mars_gym_model_b____...       0.32       0.35   \n",
       "SupervisedModelTraining____mars_gym_model_b____...       0.50       0.53   \n",
       "SupervisedModelTraining____mars_gym_model_b____...       0.38       0.41   \n",
       "SupervisedModelTraining____mars_gym_model_b____...       0.38       0.42   \n",
       "SupervisedModelTraining____mars_gym_model_b____...       0.49       0.53   \n",
       "SupervisedModelTraining____mars_gym_model_b____...       0.32       0.36   \n",
       "SupervisedModelTraining____mars_gym_model_b____...       0.36       0.39   \n",
       "SupervisedModelTraining____mars_gym_model_b____...       0.32       0.35   \n",
       "SupervisedModelTraining____mars_gym_model_b____...       0.40       0.43   \n",
       "SupervisedModelTraining____mars_gym_model_b____...       0.44       0.48   \n",
       "SupervisedModelTraining____mars_gym_model_b____...       0.45       0.47   \n",
       "SupervisedModelTraining____mars_gym_model_b____...       0.35       0.38   \n",
       "SupervisedModelTraining____mars_gym_model_b____...       0.43       0.48   \n",
       "SupervisedModelTraining____mars_gym_model_b____...       0.37       0.40   \n",
       "SupervisedModelTraining____mars_gym_model_b____...       0.43       0.47   \n",
       "SupervisedModelTraining____mars_gym_model_b____...       0.46       0.50   \n",
       "SupervisedModelTraining____mars_gym_model_b____...       0.40       0.43   \n",
       "SupervisedModelTraining____mars_gym_model_b____...       0.52       0.56   \n",
       "SupervisedModelTraining____mars_gym_model_b____...       0.31       0.34   \n",
       "SupervisedModelTraining____mars_gym_model_b____...       0.26       0.28   \n",
       "SupervisedModelTraining____mars_gym_model_b____...       0.35       0.38   \n",
       "SupervisedModelTraining____mars_gym_model_b____...       1.00       1.00   \n",
       "SupervisedModelTraining____mars_gym_model_b____...       0.39       0.43   \n",
       "SupervisedModelTraining____mars_gym_model_b____...       0.35       0.38   \n",
       "SupervisedModelTraining____mars_gym_model_b____...       0.36       0.38   \n",
       "SupervisedModelTraining____mars_gym_model_b____...       0.38       0.42   \n",
       "SupervisedModelTraining____mars_gym_model_b____...       0.36       0.39   \n",
       "SupervisedModelTraining____mars_gym_model_b____...       0.35       0.38   \n",
       "SupervisedModelTraining____mars_gym_model_b____...       0.44       0.48   \n",
       "SupervisedModelTraining____mars_gym_model_b____...       0.39       0.43   \n",
       "SupervisedModelTraining____mars_gym_model_b____...       0.37       0.41   \n",
       "SupervisedModelTraining____mars_gym_model_b____...       0.49       0.52   \n",
       "SupervisedModelTraining____mars_gym_model_b____...       0.39       0.42   \n",
       "SupervisedModelTraining____mars_gym_model_b____...       0.37       0.41   \n",
       "\n",
       "                                                    ndcg_at_10  ndcg_at_15  \\\n",
       "path                                                                         \n",
       "SupervisedModelTraining____mars_gym_model_b____...        0.38        0.40   \n",
       "SupervisedModelTraining____mars_gym_model_b____...        0.51        0.53   \n",
       "SupervisedModelTraining____mars_gym_model_b____...        0.52        0.54   \n",
       "SupervisedModelTraining____mars_gym_model_b____...        0.42        0.44   \n",
       "SupervisedModelTraining____mars_gym_model_b____...        0.49        0.50   \n",
       "SupervisedModelTraining____mars_gym_model_b____...        0.45        0.47   \n",
       "SupervisedModelTraining____mars_gym_model_b____...        0.50        0.52   \n",
       "SupervisedModelTraining____mars_gym_model_b____...        0.43        0.44   \n",
       "SupervisedModelTraining____mars_gym_model_b____...        0.44        0.46   \n",
       "SupervisedModelTraining____mars_gym_model_b____...        0.54        0.55   \n",
       "SupervisedModelTraining____mars_gym_model_b____...        0.48        0.49   \n",
       "SupervisedModelTraining____mars_gym_model_b____...        0.40        0.42   \n",
       "SupervisedModelTraining____mars_gym_model_b____...        0.38        0.39   \n",
       "SupervisedModelTraining____mars_gym_model_b____...        0.51        0.52   \n",
       "SupervisedModelTraining____mars_gym_model_b____...        0.50        0.51   \n",
       "SupervisedModelTraining____mars_gym_model_b____...        0.48        0.50   \n",
       "SupervisedModelTraining____mars_gym_model_b____...        0.45        0.46   \n",
       "SupervisedModelTraining____mars_gym_model_b____...        0.41        0.43   \n",
       "SupervisedModelTraining____mars_gym_model_b____...        0.42        0.43   \n",
       "SupervisedModelTraining____mars_gym_model_b____...        0.42        0.44   \n",
       "SupervisedModelTraining____mars_gym_model_b____...        0.50        0.51   \n",
       "SupervisedModelTraining____mars_gym_model_b____...        0.39        0.40   \n",
       "SupervisedModelTraining____mars_gym_model_b____...        0.56        0.57   \n",
       "SupervisedModelTraining____mars_gym_model_b____...        0.44        0.46   \n",
       "SupervisedModelTraining____mars_gym_model_b____...        0.45        0.47   \n",
       "SupervisedModelTraining____mars_gym_model_b____...        0.55        0.57   \n",
       "SupervisedModelTraining____mars_gym_model_b____...        0.39        0.41   \n",
       "SupervisedModelTraining____mars_gym_model_b____...        0.43        0.45   \n",
       "SupervisedModelTraining____mars_gym_model_b____...        0.39        0.41   \n",
       "SupervisedModelTraining____mars_gym_model_b____...        0.46        0.48   \n",
       "SupervisedModelTraining____mars_gym_model_b____...        0.50        0.52   \n",
       "SupervisedModelTraining____mars_gym_model_b____...        0.50        0.51   \n",
       "SupervisedModelTraining____mars_gym_model_b____...        0.41        0.43   \n",
       "SupervisedModelTraining____mars_gym_model_b____...        0.50        0.52   \n",
       "SupervisedModelTraining____mars_gym_model_b____...        0.43        0.45   \n",
       "SupervisedModelTraining____mars_gym_model_b____...        0.50        0.51   \n",
       "SupervisedModelTraining____mars_gym_model_b____...        0.53        0.54   \n",
       "SupervisedModelTraining____mars_gym_model_b____...        0.46        0.48   \n",
       "SupervisedModelTraining____mars_gym_model_b____...        0.58        0.59   \n",
       "SupervisedModelTraining____mars_gym_model_b____...        0.38        0.39   \n",
       "SupervisedModelTraining____mars_gym_model_b____...        0.32        0.34   \n",
       "SupervisedModelTraining____mars_gym_model_b____...        0.42        0.43   \n",
       "SupervisedModelTraining____mars_gym_model_b____...        1.00        1.00   \n",
       "SupervisedModelTraining____mars_gym_model_b____...        0.46        0.48   \n",
       "SupervisedModelTraining____mars_gym_model_b____...        0.41        0.43   \n",
       "SupervisedModelTraining____mars_gym_model_b____...        0.41        0.43   \n",
       "SupervisedModelTraining____mars_gym_model_b____...        0.45        0.47   \n",
       "SupervisedModelTraining____mars_gym_model_b____...        0.42        0.44   \n",
       "SupervisedModelTraining____mars_gym_model_b____...        0.41        0.42   \n",
       "SupervisedModelTraining____mars_gym_model_b____...        0.51        0.52   \n",
       "SupervisedModelTraining____mars_gym_model_b____...        0.46        0.47   \n",
       "SupervisedModelTraining____mars_gym_model_b____...        0.44        0.46   \n",
       "SupervisedModelTraining____mars_gym_model_b____...        0.54        0.56   \n",
       "SupervisedModelTraining____mars_gym_model_b____...        0.45        0.47   \n",
       "SupervisedModelTraining____mars_gym_model_b____...        0.44        0.46   \n",
       "\n",
       "                                                    ndcg_at_20  ndcg_at_50  \\\n",
       "path                                                                         \n",
       "SupervisedModelTraining____mars_gym_model_b____...        0.41        0.45   \n",
       "SupervisedModelTraining____mars_gym_model_b____...        0.54        0.57   \n",
       "SupervisedModelTraining____mars_gym_model_b____...        0.54        0.58   \n",
       "SupervisedModelTraining____mars_gym_model_b____...        0.45        0.49   \n",
       "SupervisedModelTraining____mars_gym_model_b____...        0.51        0.55   \n",
       "SupervisedModelTraining____mars_gym_model_b____...        0.48        0.52   \n",
       "SupervisedModelTraining____mars_gym_model_b____...        0.53        0.56   \n",
       "SupervisedModelTraining____mars_gym_model_b____...        0.46        0.49   \n",
       "SupervisedModelTraining____mars_gym_model_b____...        0.47        0.51   \n",
       "SupervisedModelTraining____mars_gym_model_b____...        0.56        0.59   \n",
       "SupervisedModelTraining____mars_gym_model_b____...        0.50        0.54   \n",
       "SupervisedModelTraining____mars_gym_model_b____...        0.43        0.47   \n",
       "SupervisedModelTraining____mars_gym_model_b____...        0.41        0.45   \n",
       "SupervisedModelTraining____mars_gym_model_b____...        0.53        0.57   \n",
       "SupervisedModelTraining____mars_gym_model_b____...        0.52        0.56   \n",
       "SupervisedModelTraining____mars_gym_model_b____...        0.51        0.55   \n",
       "SupervisedModelTraining____mars_gym_model_b____...        0.48        0.51   \n",
       "SupervisedModelTraining____mars_gym_model_b____...        0.44        0.48   \n",
       "SupervisedModelTraining____mars_gym_model_b____...        0.45        0.49   \n",
       "SupervisedModelTraining____mars_gym_model_b____...        0.45        0.49   \n",
       "SupervisedModelTraining____mars_gym_model_b____...        0.52        0.56   \n",
       "SupervisedModelTraining____mars_gym_model_b____...        0.42        0.46   \n",
       "SupervisedModelTraining____mars_gym_model_b____...        0.58        0.61   \n",
       "SupervisedModelTraining____mars_gym_model_b____...        0.47        0.51   \n",
       "SupervisedModelTraining____mars_gym_model_b____...        0.48        0.52   \n",
       "SupervisedModelTraining____mars_gym_model_b____...        0.58        0.61   \n",
       "SupervisedModelTraining____mars_gym_model_b____...        0.42        0.46   \n",
       "SupervisedModelTraining____mars_gym_model_b____...        0.46        0.50   \n",
       "SupervisedModelTraining____mars_gym_model_b____...        0.42        0.46   \n",
       "SupervisedModelTraining____mars_gym_model_b____...        0.49        0.52   \n",
       "SupervisedModelTraining____mars_gym_model_b____...        0.53        0.56   \n",
       "SupervisedModelTraining____mars_gym_model_b____...        0.52        0.56   \n",
       "SupervisedModelTraining____mars_gym_model_b____...        0.44        0.48   \n",
       "SupervisedModelTraining____mars_gym_model_b____...        0.53        0.56   \n",
       "SupervisedModelTraining____mars_gym_model_b____...        0.46        0.50   \n",
       "SupervisedModelTraining____mars_gym_model_b____...        0.52        0.55   \n",
       "SupervisedModelTraining____mars_gym_model_b____...        0.55        0.58   \n",
       "SupervisedModelTraining____mars_gym_model_b____...        0.49        0.52   \n",
       "SupervisedModelTraining____mars_gym_model_b____...        0.60        0.63   \n",
       "SupervisedModelTraining____mars_gym_model_b____...        0.41        0.45   \n",
       "SupervisedModelTraining____mars_gym_model_b____...        0.36        0.40   \n",
       "SupervisedModelTraining____mars_gym_model_b____...        0.44        0.48   \n",
       "SupervisedModelTraining____mars_gym_model_b____...        1.00        1.00   \n",
       "SupervisedModelTraining____mars_gym_model_b____...        0.49        0.53   \n",
       "SupervisedModelTraining____mars_gym_model_b____...        0.44        0.48   \n",
       "SupervisedModelTraining____mars_gym_model_b____...        0.45        0.48   \n",
       "SupervisedModelTraining____mars_gym_model_b____...        0.48        0.52   \n",
       "SupervisedModelTraining____mars_gym_model_b____...        0.45        0.49   \n",
       "SupervisedModelTraining____mars_gym_model_b____...        0.44        0.48   \n",
       "SupervisedModelTraining____mars_gym_model_b____...        0.53        0.56   \n",
       "SupervisedModelTraining____mars_gym_model_b____...        0.49        0.52   \n",
       "SupervisedModelTraining____mars_gym_model_b____...        0.47        0.50   \n",
       "SupervisedModelTraining____mars_gym_model_b____...        0.57        0.60   \n",
       "SupervisedModelTraining____mars_gym_model_b____...        0.48        0.51   \n",
       "SupervisedModelTraining____mars_gym_model_b____...        0.47        0.50   \n",
       "\n",
       "                                                    coverage_at_5  \\\n",
       "path                                                                \n",
       "SupervisedModelTraining____mars_gym_model_b____...           0.12   \n",
       "SupervisedModelTraining____mars_gym_model_b____...           0.17   \n",
       "SupervisedModelTraining____mars_gym_model_b____...           0.18   \n",
       "SupervisedModelTraining____mars_gym_model_b____...           0.15   \n",
       "SupervisedModelTraining____mars_gym_model_b____...           0.16   \n",
       "SupervisedModelTraining____mars_gym_model_b____...           0.14   \n",
       "SupervisedModelTraining____mars_gym_model_b____...           0.15   \n",
       "SupervisedModelTraining____mars_gym_model_b____...           0.14   \n",
       "SupervisedModelTraining____mars_gym_model_b____...           0.16   \n",
       "SupervisedModelTraining____mars_gym_model_b____...           0.18   \n",
       "SupervisedModelTraining____mars_gym_model_b____...           0.17   \n",
       "SupervisedModelTraining____mars_gym_model_b____...           0.16   \n",
       "SupervisedModelTraining____mars_gym_model_b____...           0.13   \n",
       "SupervisedModelTraining____mars_gym_model_b____...           0.13   \n",
       "SupervisedModelTraining____mars_gym_model_b____...           0.17   \n",
       "SupervisedModelTraining____mars_gym_model_b____...           0.15   \n",
       "SupervisedModelTraining____mars_gym_model_b____...           0.14   \n",
       "SupervisedModelTraining____mars_gym_model_b____...           0.14   \n",
       "SupervisedModelTraining____mars_gym_model_b____...           0.15   \n",
       "SupervisedModelTraining____mars_gym_model_b____...           0.15   \n",
       "SupervisedModelTraining____mars_gym_model_b____...           0.16   \n",
       "SupervisedModelTraining____mars_gym_model_b____...           0.13   \n",
       "SupervisedModelTraining____mars_gym_model_b____...           0.17   \n",
       "SupervisedModelTraining____mars_gym_model_b____...           0.15   \n",
       "SupervisedModelTraining____mars_gym_model_b____...           0.14   \n",
       "SupervisedModelTraining____mars_gym_model_b____...           0.17   \n",
       "SupervisedModelTraining____mars_gym_model_b____...           0.12   \n",
       "SupervisedModelTraining____mars_gym_model_b____...           0.14   \n",
       "SupervisedModelTraining____mars_gym_model_b____...           0.13   \n",
       "SupervisedModelTraining____mars_gym_model_b____...           0.15   \n",
       "SupervisedModelTraining____mars_gym_model_b____...           0.16   \n",
       "SupervisedModelTraining____mars_gym_model_b____...           0.13   \n",
       "SupervisedModelTraining____mars_gym_model_b____...           0.15   \n",
       "SupervisedModelTraining____mars_gym_model_b____...           0.17   \n",
       "SupervisedModelTraining____mars_gym_model_b____...           0.14   \n",
       "SupervisedModelTraining____mars_gym_model_b____...           0.16   \n",
       "SupervisedModelTraining____mars_gym_model_b____...           0.17   \n",
       "SupervisedModelTraining____mars_gym_model_b____...           0.14   \n",
       "SupervisedModelTraining____mars_gym_model_b____...           0.18   \n",
       "SupervisedModelTraining____mars_gym_model_b____...           0.12   \n",
       "SupervisedModelTraining____mars_gym_model_b____...           0.13   \n",
       "SupervisedModelTraining____mars_gym_model_b____...           0.15   \n",
       "SupervisedModelTraining____mars_gym_model_b____...           1.00   \n",
       "SupervisedModelTraining____mars_gym_model_b____...           0.14   \n",
       "SupervisedModelTraining____mars_gym_model_b____...           0.16   \n",
       "SupervisedModelTraining____mars_gym_model_b____...           0.16   \n",
       "SupervisedModelTraining____mars_gym_model_b____...           0.14   \n",
       "SupervisedModelTraining____mars_gym_model_b____...           0.15   \n",
       "SupervisedModelTraining____mars_gym_model_b____...           0.16   \n",
       "SupervisedModelTraining____mars_gym_model_b____...           0.16   \n",
       "SupervisedModelTraining____mars_gym_model_b____...           0.14   \n",
       "SupervisedModelTraining____mars_gym_model_b____...           0.15   \n",
       "SupervisedModelTraining____mars_gym_model_b____...           0.17   \n",
       "SupervisedModelTraining____mars_gym_model_b____...           0.16   \n",
       "SupervisedModelTraining____mars_gym_model_b____...           0.15   \n",
       "\n",
       "                                                    coverage_at_20  \\\n",
       "path                                                                 \n",
       "SupervisedModelTraining____mars_gym_model_b____...            0.39   \n",
       "SupervisedModelTraining____mars_gym_model_b____...            0.51   \n",
       "SupervisedModelTraining____mars_gym_model_b____...            0.52   \n",
       "SupervisedModelTraining____mars_gym_model_b____...            0.44   \n",
       "SupervisedModelTraining____mars_gym_model_b____...            0.45   \n",
       "SupervisedModelTraining____mars_gym_model_b____...            0.43   \n",
       "SupervisedModelTraining____mars_gym_model_b____...            0.47   \n",
       "SupervisedModelTraining____mars_gym_model_b____...            0.44   \n",
       "SupervisedModelTraining____mars_gym_model_b____...            0.46   \n",
       "SupervisedModelTraining____mars_gym_model_b____...            0.52   \n",
       "SupervisedModelTraining____mars_gym_model_b____...            0.51   \n",
       "SupervisedModelTraining____mars_gym_model_b____...            0.48   \n",
       "SupervisedModelTraining____mars_gym_model_b____...            0.39   \n",
       "SupervisedModelTraining____mars_gym_model_b____...            0.41   \n",
       "SupervisedModelTraining____mars_gym_model_b____...            0.50   \n",
       "SupervisedModelTraining____mars_gym_model_b____...            0.45   \n",
       "SupervisedModelTraining____mars_gym_model_b____...            0.43   \n",
       "SupervisedModelTraining____mars_gym_model_b____...            0.43   \n",
       "SupervisedModelTraining____mars_gym_model_b____...            0.44   \n",
       "SupervisedModelTraining____mars_gym_model_b____...            0.44   \n",
       "SupervisedModelTraining____mars_gym_model_b____...            0.49   \n",
       "SupervisedModelTraining____mars_gym_model_b____...            0.39   \n",
       "SupervisedModelTraining____mars_gym_model_b____...            0.52   \n",
       "SupervisedModelTraining____mars_gym_model_b____...            0.46   \n",
       "SupervisedModelTraining____mars_gym_model_b____...            0.43   \n",
       "SupervisedModelTraining____mars_gym_model_b____...            0.52   \n",
       "SupervisedModelTraining____mars_gym_model_b____...            0.39   \n",
       "SupervisedModelTraining____mars_gym_model_b____...            0.43   \n",
       "SupervisedModelTraining____mars_gym_model_b____...            0.40   \n",
       "SupervisedModelTraining____mars_gym_model_b____...            0.46   \n",
       "SupervisedModelTraining____mars_gym_model_b____...            0.47   \n",
       "SupervisedModelTraining____mars_gym_model_b____...            0.41   \n",
       "SupervisedModelTraining____mars_gym_model_b____...            0.44   \n",
       "SupervisedModelTraining____mars_gym_model_b____...            0.51   \n",
       "SupervisedModelTraining____mars_gym_model_b____...            0.45   \n",
       "SupervisedModelTraining____mars_gym_model_b____...            0.47   \n",
       "SupervisedModelTraining____mars_gym_model_b____...            0.52   \n",
       "SupervisedModelTraining____mars_gym_model_b____...            0.45   \n",
       "SupervisedModelTraining____mars_gym_model_b____...            0.54   \n",
       "SupervisedModelTraining____mars_gym_model_b____...            0.39   \n",
       "SupervisedModelTraining____mars_gym_model_b____...            0.40   \n",
       "SupervisedModelTraining____mars_gym_model_b____...            0.45   \n",
       "SupervisedModelTraining____mars_gym_model_b____...            1.00   \n",
       "SupervisedModelTraining____mars_gym_model_b____...            0.45   \n",
       "SupervisedModelTraining____mars_gym_model_b____...            0.48   \n",
       "SupervisedModelTraining____mars_gym_model_b____...            0.48   \n",
       "SupervisedModelTraining____mars_gym_model_b____...            0.43   \n",
       "SupervisedModelTraining____mars_gym_model_b____...            0.44   \n",
       "SupervisedModelTraining____mars_gym_model_b____...            0.48   \n",
       "SupervisedModelTraining____mars_gym_model_b____...            0.47   \n",
       "SupervisedModelTraining____mars_gym_model_b____...            0.44   \n",
       "SupervisedModelTraining____mars_gym_model_b____...            0.44   \n",
       "SupervisedModelTraining____mars_gym_model_b____...            0.51   \n",
       "SupervisedModelTraining____mars_gym_model_b____...            0.49   \n",
       "SupervisedModelTraining____mars_gym_model_b____...            0.46   \n",
       "\n",
       "                                                                                                model  \n",
       "path                                                                                                   \n",
       "SupervisedModelTraining____mars_gym_model_b____...  SupervisedModelTraining____mars_gym_model_b___...  \n",
       "SupervisedModelTraining____mars_gym_model_b____...  SupervisedModelTraining____mars_gym_model_b___...  \n",
       "SupervisedModelTraining____mars_gym_model_b____...  SupervisedModelTraining____mars_gym_model_b___...  \n",
       "SupervisedModelTraining____mars_gym_model_b____...  SupervisedModelTraining____mars_gym_model_b___...  \n",
       "SupervisedModelTraining____mars_gym_model_b____...  SupervisedModelTraining____mars_gym_model_b___...  \n",
       "SupervisedModelTraining____mars_gym_model_b____...  SupervisedModelTraining____mars_gym_model_b___...  \n",
       "SupervisedModelTraining____mars_gym_model_b____...  SupervisedModelTraining____mars_gym_model_b___...  \n",
       "SupervisedModelTraining____mars_gym_model_b____...  SupervisedModelTraining____mars_gym_model_b___...  \n",
       "SupervisedModelTraining____mars_gym_model_b____...  SupervisedModelTraining____mars_gym_model_b___...  \n",
       "SupervisedModelTraining____mars_gym_model_b____...  SupervisedModelTraining____mars_gym_model_b___...  \n",
       "SupervisedModelTraining____mars_gym_model_b____...  SupervisedModelTraining____mars_gym_model_b___...  \n",
       "SupervisedModelTraining____mars_gym_model_b____...  SupervisedModelTraining____mars_gym_model_b___...  \n",
       "SupervisedModelTraining____mars_gym_model_b____...  SupervisedModelTraining____mars_gym_model_b___...  \n",
       "SupervisedModelTraining____mars_gym_model_b____...  SupervisedModelTraining____mars_gym_model_b___...  \n",
       "SupervisedModelTraining____mars_gym_model_b____...  SupervisedModelTraining____mars_gym_model_b___...  \n",
       "SupervisedModelTraining____mars_gym_model_b____...  SupervisedModelTraining____mars_gym_model_b___...  \n",
       "SupervisedModelTraining____mars_gym_model_b____...  SupervisedModelTraining____mars_gym_model_b___...  \n",
       "SupervisedModelTraining____mars_gym_model_b____...  SupervisedModelTraining____mars_gym_model_b___...  \n",
       "SupervisedModelTraining____mars_gym_model_b____...  SupervisedModelTraining____mars_gym_model_b___...  \n",
       "SupervisedModelTraining____mars_gym_model_b____...  SupervisedModelTraining____mars_gym_model_b___...  \n",
       "SupervisedModelTraining____mars_gym_model_b____...  SupervisedModelTraining____mars_gym_model_b___...  \n",
       "SupervisedModelTraining____mars_gym_model_b____...  SupervisedModelTraining____mars_gym_model_b___...  \n",
       "SupervisedModelTraining____mars_gym_model_b____...  SupervisedModelTraining____mars_gym_model_b___...  \n",
       "SupervisedModelTraining____mars_gym_model_b____...  SupervisedModelTraining____mars_gym_model_b___...  \n",
       "SupervisedModelTraining____mars_gym_model_b____...  SupervisedModelTraining____mars_gym_model_b___...  \n",
       "SupervisedModelTraining____mars_gym_model_b____...  SupervisedModelTraining____mars_gym_model_b___...  \n",
       "SupervisedModelTraining____mars_gym_model_b____...  SupervisedModelTraining____mars_gym_model_b___...  \n",
       "SupervisedModelTraining____mars_gym_model_b____...  SupervisedModelTraining____mars_gym_model_b___...  \n",
       "SupervisedModelTraining____mars_gym_model_b____...  SupervisedModelTraining____mars_gym_model_b___...  \n",
       "SupervisedModelTraining____mars_gym_model_b____...  SupervisedModelTraining____mars_gym_model_b___...  \n",
       "SupervisedModelTraining____mars_gym_model_b____...  SupervisedModelTraining____mars_gym_model_b___...  \n",
       "SupervisedModelTraining____mars_gym_model_b____...  SupervisedModelTraining____mars_gym_model_b___...  \n",
       "SupervisedModelTraining____mars_gym_model_b____...  SupervisedModelTraining____mars_gym_model_b___...  \n",
       "SupervisedModelTraining____mars_gym_model_b____...  SupervisedModelTraining____mars_gym_model_b___...  \n",
       "SupervisedModelTraining____mars_gym_model_b____...  SupervisedModelTraining____mars_gym_model_b___...  \n",
       "SupervisedModelTraining____mars_gym_model_b____...  SupervisedModelTraining____mars_gym_model_b___...  \n",
       "SupervisedModelTraining____mars_gym_model_b____...  SupervisedModelTraining____mars_gym_model_b___...  \n",
       "SupervisedModelTraining____mars_gym_model_b____...  SupervisedModelTraining____mars_gym_model_b___...  \n",
       "SupervisedModelTraining____mars_gym_model_b____...  SupervisedModelTraining____mars_gym_model_b___...  \n",
       "SupervisedModelTraining____mars_gym_model_b____...  SupervisedModelTraining____mars_gym_model_b___...  \n",
       "SupervisedModelTraining____mars_gym_model_b____...  SupervisedModelTraining____mars_gym_model_b___...  \n",
       "SupervisedModelTraining____mars_gym_model_b____...  SupervisedModelTraining____mars_gym_model_b___...  \n",
       "SupervisedModelTraining____mars_gym_model_b____...  SupervisedModelTraining____mars_gym_model_b___...  \n",
       "SupervisedModelTraining____mars_gym_model_b____...  SupervisedModelTraining____mars_gym_model_b___...  \n",
       "SupervisedModelTraining____mars_gym_model_b____...  SupervisedModelTraining____mars_gym_model_b___...  \n",
       "SupervisedModelTraining____mars_gym_model_b____...  SupervisedModelTraining____mars_gym_model_b___...  \n",
       "SupervisedModelTraining____mars_gym_model_b____...  SupervisedModelTraining____mars_gym_model_b___...  \n",
       "SupervisedModelTraining____mars_gym_model_b____...  SupervisedModelTraining____mars_gym_model_b___...  \n",
       "SupervisedModelTraining____mars_gym_model_b____...  SupervisedModelTraining____mars_gym_model_b___...  \n",
       "SupervisedModelTraining____mars_gym_model_b____...  SupervisedModelTraining____mars_gym_model_b___...  \n",
       "SupervisedModelTraining____mars_gym_model_b____...  SupervisedModelTraining____mars_gym_model_b___...  \n",
       "SupervisedModelTraining____mars_gym_model_b____...  SupervisedModelTraining____mars_gym_model_b___...  \n",
       "SupervisedModelTraining____mars_gym_model_b____...  SupervisedModelTraining____mars_gym_model_b___...  \n",
       "SupervisedModelTraining____mars_gym_model_b____...  SupervisedModelTraining____mars_gym_model_b___...  \n",
       "SupervisedModelTraining____mars_gym_model_b____...  SupervisedModelTraining____mars_gym_model_b___...  "
      ]
     },
     "execution_count": 5,
     "metadata": {},
     "output_type": "execute_result"
    }
   ],
   "source": [
    "metrics = json2df(results, \"metrics.json\", \"path\")\n",
    "metrics"
   ]
  },
  {
   "cell_type": "code",
   "execution_count": 6,
   "metadata": {},
   "outputs": [
    {
     "data": {
      "text/plain": [
       "(55, 14)"
      ]
     },
     "execution_count": 6,
     "metadata": {},
     "output_type": "execute_result"
    }
   ],
   "source": [
    "metrics.shape"
   ]
  },
  {
   "cell_type": "code",
   "execution_count": 7,
   "metadata": {},
   "outputs": [
    {
     "data": {
      "text/html": [
       "<div>\n",
       "<style scoped>\n",
       "    .dataframe tbody tr th:only-of-type {\n",
       "        vertical-align: middle;\n",
       "    }\n",
       "\n",
       "    .dataframe tbody tr th {\n",
       "        vertical-align: top;\n",
       "    }\n",
       "\n",
       "    .dataframe thead th {\n",
       "        text-align: right;\n",
       "    }\n",
       "</style>\n",
       "<table border=\"1\" class=\"dataframe\">\n",
       "  <thead>\n",
       "    <tr style=\"text-align: right;\">\n",
       "      <th></th>\n",
       "      <th>project</th>\n",
       "      <th>sample_size</th>\n",
       "      <th>minimum_interactions</th>\n",
       "      <th>session_test_size</th>\n",
       "      <th>test_size</th>\n",
       "      <th>dataset_split_method</th>\n",
       "      <th>test_split_type</th>\n",
       "      <th>val_size</th>\n",
       "      <th>n_splits</th>\n",
       "      <th>split_index</th>\n",
       "      <th>...</th>\n",
       "      <th>recommender_extra_params.n_hid</th>\n",
       "      <th>recommender_extra_params.n_head</th>\n",
       "      <th>recommender_extra_params.n_layers</th>\n",
       "      <th>recommender_extra_params.num_filters</th>\n",
       "      <th>recommender_extra_params.dropout</th>\n",
       "      <th>recommender_extra_params.hist_size</th>\n",
       "      <th>recommender_extra_params.from_index_mapping</th>\n",
       "      <th>recommender_extra_params.path_item_embedding</th>\n",
       "      <th>recommender_extra_params.freeze_embedding</th>\n",
       "      <th>optimizer_params.weight_decay</th>\n",
       "    </tr>\n",
       "    <tr>\n",
       "      <th>path</th>\n",
       "      <th></th>\n",
       "      <th></th>\n",
       "      <th></th>\n",
       "      <th></th>\n",
       "      <th></th>\n",
       "      <th></th>\n",
       "      <th></th>\n",
       "      <th></th>\n",
       "      <th></th>\n",
       "      <th></th>\n",
       "      <th></th>\n",
       "      <th></th>\n",
       "      <th></th>\n",
       "      <th></th>\n",
       "      <th></th>\n",
       "      <th></th>\n",
       "      <th></th>\n",
       "      <th></th>\n",
       "      <th></th>\n",
       "      <th></th>\n",
       "      <th></th>\n",
       "    </tr>\n",
       "  </thead>\n",
       "  <tbody>\n",
       "    <tr>\n",
       "      <th>TripletPredTraining____mars_gym_model_b____8ce48bf1d3</th>\n",
       "      <td>diginetica.config.diginetica_interaction</td>\n",
       "      <td>-1.00</td>\n",
       "      <td>5.00</td>\n",
       "      <td>0.10</td>\n",
       "      <td>0.20</td>\n",
       "      <td>column</td>\n",
       "      <td>time</td>\n",
       "      <td>0.20</td>\n",
       "      <td>5.00</td>\n",
       "      <td>0.00</td>\n",
       "      <td>...</td>\n",
       "      <td>nan</td>\n",
       "      <td>nan</td>\n",
       "      <td>nan</td>\n",
       "      <td>nan</td>\n",
       "      <td>nan</td>\n",
       "      <td>nan</td>\n",
       "      <td>NaN</td>\n",
       "      <td>NaN</td>\n",
       "      <td>NaN</td>\n",
       "      <td>nan</td>\n",
       "    </tr>\n",
       "    <tr>\n",
       "      <th>TripletPredTraining____mars_gym_model_b____665529b96f</th>\n",
       "      <td>diginetica.config.diginetica_interaction</td>\n",
       "      <td>-1.00</td>\n",
       "      <td>5.00</td>\n",
       "      <td>0.10</td>\n",
       "      <td>0.20</td>\n",
       "      <td>column</td>\n",
       "      <td>time</td>\n",
       "      <td>0.20</td>\n",
       "      <td>5.00</td>\n",
       "      <td>0.00</td>\n",
       "      <td>...</td>\n",
       "      <td>nan</td>\n",
       "      <td>nan</td>\n",
       "      <td>nan</td>\n",
       "      <td>nan</td>\n",
       "      <td>nan</td>\n",
       "      <td>nan</td>\n",
       "      <td>NaN</td>\n",
       "      <td>NaN</td>\n",
       "      <td>NaN</td>\n",
       "      <td>nan</td>\n",
       "    </tr>\n",
       "    <tr>\n",
       "      <th>TripletPredTraining____mars_gym_model_b____eaedda551e</th>\n",
       "      <td>diginetica.config.diginetica_interaction</td>\n",
       "      <td>-1.00</td>\n",
       "      <td>5.00</td>\n",
       "      <td>0.10</td>\n",
       "      <td>0.20</td>\n",
       "      <td>column</td>\n",
       "      <td>time</td>\n",
       "      <td>0.20</td>\n",
       "      <td>5.00</td>\n",
       "      <td>0.00</td>\n",
       "      <td>...</td>\n",
       "      <td>nan</td>\n",
       "      <td>nan</td>\n",
       "      <td>nan</td>\n",
       "      <td>nan</td>\n",
       "      <td>nan</td>\n",
       "      <td>nan</td>\n",
       "      <td>NaN</td>\n",
       "      <td>NaN</td>\n",
       "      <td>NaN</td>\n",
       "      <td>nan</td>\n",
       "    </tr>\n",
       "    <tr>\n",
       "      <th>TripletPredTraining____mars_gym_model_b____6f2c07183c</th>\n",
       "      <td>diginetica.config.diginetica_interaction</td>\n",
       "      <td>-1.00</td>\n",
       "      <td>5.00</td>\n",
       "      <td>0.10</td>\n",
       "      <td>0.20</td>\n",
       "      <td>column</td>\n",
       "      <td>time</td>\n",
       "      <td>0.20</td>\n",
       "      <td>5.00</td>\n",
       "      <td>0.00</td>\n",
       "      <td>...</td>\n",
       "      <td>nan</td>\n",
       "      <td>nan</td>\n",
       "      <td>nan</td>\n",
       "      <td>nan</td>\n",
       "      <td>nan</td>\n",
       "      <td>nan</td>\n",
       "      <td>NaN</td>\n",
       "      <td>NaN</td>\n",
       "      <td>NaN</td>\n",
       "      <td>nan</td>\n",
       "    </tr>\n",
       "    <tr>\n",
       "      <th>TripletPredTraining____mars_gym_model_b____1f89d23b3c</th>\n",
       "      <td>diginetica.config.diginetica_interaction</td>\n",
       "      <td>-1.00</td>\n",
       "      <td>5.00</td>\n",
       "      <td>0.10</td>\n",
       "      <td>0.20</td>\n",
       "      <td>column</td>\n",
       "      <td>time</td>\n",
       "      <td>0.20</td>\n",
       "      <td>5.00</td>\n",
       "      <td>0.00</td>\n",
       "      <td>...</td>\n",
       "      <td>nan</td>\n",
       "      <td>nan</td>\n",
       "      <td>nan</td>\n",
       "      <td>nan</td>\n",
       "      <td>nan</td>\n",
       "      <td>nan</td>\n",
       "      <td>NaN</td>\n",
       "      <td>NaN</td>\n",
       "      <td>NaN</td>\n",
       "      <td>nan</td>\n",
       "    </tr>\n",
       "  </tbody>\n",
       "</table>\n",
       "<p>5 rows × 55 columns</p>\n",
       "</div>"
      ],
      "text/plain": [
       "                                                                                     project  \\\n",
       "path                                                                                           \n",
       "TripletPredTraining____mars_gym_model_b____8ce4...  diginetica.config.diginetica_interaction   \n",
       "TripletPredTraining____mars_gym_model_b____6655...  diginetica.config.diginetica_interaction   \n",
       "TripletPredTraining____mars_gym_model_b____eaed...  diginetica.config.diginetica_interaction   \n",
       "TripletPredTraining____mars_gym_model_b____6f2c...  diginetica.config.diginetica_interaction   \n",
       "TripletPredTraining____mars_gym_model_b____1f89...  diginetica.config.diginetica_interaction   \n",
       "\n",
       "                                                    sample_size  \\\n",
       "path                                                              \n",
       "TripletPredTraining____mars_gym_model_b____8ce4...        -1.00   \n",
       "TripletPredTraining____mars_gym_model_b____6655...        -1.00   \n",
       "TripletPredTraining____mars_gym_model_b____eaed...        -1.00   \n",
       "TripletPredTraining____mars_gym_model_b____6f2c...        -1.00   \n",
       "TripletPredTraining____mars_gym_model_b____1f89...        -1.00   \n",
       "\n",
       "                                                    minimum_interactions  \\\n",
       "path                                                                       \n",
       "TripletPredTraining____mars_gym_model_b____8ce4...                  5.00   \n",
       "TripletPredTraining____mars_gym_model_b____6655...                  5.00   \n",
       "TripletPredTraining____mars_gym_model_b____eaed...                  5.00   \n",
       "TripletPredTraining____mars_gym_model_b____6f2c...                  5.00   \n",
       "TripletPredTraining____mars_gym_model_b____1f89...                  5.00   \n",
       "\n",
       "                                                    session_test_size  \\\n",
       "path                                                                    \n",
       "TripletPredTraining____mars_gym_model_b____8ce4...               0.10   \n",
       "TripletPredTraining____mars_gym_model_b____6655...               0.10   \n",
       "TripletPredTraining____mars_gym_model_b____eaed...               0.10   \n",
       "TripletPredTraining____mars_gym_model_b____6f2c...               0.10   \n",
       "TripletPredTraining____mars_gym_model_b____1f89...               0.10   \n",
       "\n",
       "                                                    test_size  \\\n",
       "path                                                            \n",
       "TripletPredTraining____mars_gym_model_b____8ce4...       0.20   \n",
       "TripletPredTraining____mars_gym_model_b____6655...       0.20   \n",
       "TripletPredTraining____mars_gym_model_b____eaed...       0.20   \n",
       "TripletPredTraining____mars_gym_model_b____6f2c...       0.20   \n",
       "TripletPredTraining____mars_gym_model_b____1f89...       0.20   \n",
       "\n",
       "                                                   dataset_split_method  \\\n",
       "path                                                                      \n",
       "TripletPredTraining____mars_gym_model_b____8ce4...               column   \n",
       "TripletPredTraining____mars_gym_model_b____6655...               column   \n",
       "TripletPredTraining____mars_gym_model_b____eaed...               column   \n",
       "TripletPredTraining____mars_gym_model_b____6f2c...               column   \n",
       "TripletPredTraining____mars_gym_model_b____1f89...               column   \n",
       "\n",
       "                                                   test_split_type  val_size  \\\n",
       "path                                                                           \n",
       "TripletPredTraining____mars_gym_model_b____8ce4...            time      0.20   \n",
       "TripletPredTraining____mars_gym_model_b____6655...            time      0.20   \n",
       "TripletPredTraining____mars_gym_model_b____eaed...            time      0.20   \n",
       "TripletPredTraining____mars_gym_model_b____6f2c...            time      0.20   \n",
       "TripletPredTraining____mars_gym_model_b____1f89...            time      0.20   \n",
       "\n",
       "                                                    n_splits  split_index  \\\n",
       "path                                                                        \n",
       "TripletPredTraining____mars_gym_model_b____8ce4...      5.00         0.00   \n",
       "TripletPredTraining____mars_gym_model_b____6655...      5.00         0.00   \n",
       "TripletPredTraining____mars_gym_model_b____eaed...      5.00         0.00   \n",
       "TripletPredTraining____mars_gym_model_b____6f2c...      5.00         0.00   \n",
       "TripletPredTraining____mars_gym_model_b____1f89...      5.00         0.00   \n",
       "\n",
       "                                                    ...  \\\n",
       "path                                                ...   \n",
       "TripletPredTraining____mars_gym_model_b____8ce4...  ...   \n",
       "TripletPredTraining____mars_gym_model_b____6655...  ...   \n",
       "TripletPredTraining____mars_gym_model_b____eaed...  ...   \n",
       "TripletPredTraining____mars_gym_model_b____6f2c...  ...   \n",
       "TripletPredTraining____mars_gym_model_b____1f89...  ...   \n",
       "\n",
       "                                                   recommender_extra_params.n_hid  \\\n",
       "path                                                                                \n",
       "TripletPredTraining____mars_gym_model_b____8ce4...                            nan   \n",
       "TripletPredTraining____mars_gym_model_b____6655...                            nan   \n",
       "TripletPredTraining____mars_gym_model_b____eaed...                            nan   \n",
       "TripletPredTraining____mars_gym_model_b____6f2c...                            nan   \n",
       "TripletPredTraining____mars_gym_model_b____1f89...                            nan   \n",
       "\n",
       "                                                   recommender_extra_params.n_head  \\\n",
       "path                                                                                 \n",
       "TripletPredTraining____mars_gym_model_b____8ce4...                             nan   \n",
       "TripletPredTraining____mars_gym_model_b____6655...                             nan   \n",
       "TripletPredTraining____mars_gym_model_b____eaed...                             nan   \n",
       "TripletPredTraining____mars_gym_model_b____6f2c...                             nan   \n",
       "TripletPredTraining____mars_gym_model_b____1f89...                             nan   \n",
       "\n",
       "                                                   recommender_extra_params.n_layers  \\\n",
       "path                                                                                   \n",
       "TripletPredTraining____mars_gym_model_b____8ce4...                               nan   \n",
       "TripletPredTraining____mars_gym_model_b____6655...                               nan   \n",
       "TripletPredTraining____mars_gym_model_b____eaed...                               nan   \n",
       "TripletPredTraining____mars_gym_model_b____6f2c...                               nan   \n",
       "TripletPredTraining____mars_gym_model_b____1f89...                               nan   \n",
       "\n",
       "                                                    recommender_extra_params.num_filters  \\\n",
       "path                                                                                       \n",
       "TripletPredTraining____mars_gym_model_b____8ce4...                                   nan   \n",
       "TripletPredTraining____mars_gym_model_b____6655...                                   nan   \n",
       "TripletPredTraining____mars_gym_model_b____eaed...                                   nan   \n",
       "TripletPredTraining____mars_gym_model_b____6f2c...                                   nan   \n",
       "TripletPredTraining____mars_gym_model_b____1f89...                                   nan   \n",
       "\n",
       "                                                   recommender_extra_params.dropout  \\\n",
       "path                                                                                  \n",
       "TripletPredTraining____mars_gym_model_b____8ce4...                              nan   \n",
       "TripletPredTraining____mars_gym_model_b____6655...                              nan   \n",
       "TripletPredTraining____mars_gym_model_b____eaed...                              nan   \n",
       "TripletPredTraining____mars_gym_model_b____6f2c...                              nan   \n",
       "TripletPredTraining____mars_gym_model_b____1f89...                              nan   \n",
       "\n",
       "                                                    recommender_extra_params.hist_size  \\\n",
       "path                                                                                     \n",
       "TripletPredTraining____mars_gym_model_b____8ce4...                                 nan   \n",
       "TripletPredTraining____mars_gym_model_b____6655...                                 nan   \n",
       "TripletPredTraining____mars_gym_model_b____eaed...                                 nan   \n",
       "TripletPredTraining____mars_gym_model_b____6f2c...                                 nan   \n",
       "TripletPredTraining____mars_gym_model_b____1f89...                                 nan   \n",
       "\n",
       "                                                    recommender_extra_params.from_index_mapping  \\\n",
       "path                                                                                              \n",
       "TripletPredTraining____mars_gym_model_b____8ce4...                                          NaN   \n",
       "TripletPredTraining____mars_gym_model_b____6655...                                          NaN   \n",
       "TripletPredTraining____mars_gym_model_b____eaed...                                          NaN   \n",
       "TripletPredTraining____mars_gym_model_b____6f2c...                                          NaN   \n",
       "TripletPredTraining____mars_gym_model_b____1f89...                                          NaN   \n",
       "\n",
       "                                                   recommender_extra_params.path_item_embedding  \\\n",
       "path                                                                                              \n",
       "TripletPredTraining____mars_gym_model_b____8ce4...                                          NaN   \n",
       "TripletPredTraining____mars_gym_model_b____6655...                                          NaN   \n",
       "TripletPredTraining____mars_gym_model_b____eaed...                                          NaN   \n",
       "TripletPredTraining____mars_gym_model_b____6f2c...                                          NaN   \n",
       "TripletPredTraining____mars_gym_model_b____1f89...                                          NaN   \n",
       "\n",
       "                                                    recommender_extra_params.freeze_embedding  \\\n",
       "path                                                                                            \n",
       "TripletPredTraining____mars_gym_model_b____8ce4...                                        NaN   \n",
       "TripletPredTraining____mars_gym_model_b____6655...                                        NaN   \n",
       "TripletPredTraining____mars_gym_model_b____eaed...                                        NaN   \n",
       "TripletPredTraining____mars_gym_model_b____6f2c...                                        NaN   \n",
       "TripletPredTraining____mars_gym_model_b____1f89...                                        NaN   \n",
       "\n",
       "                                                    optimizer_params.weight_decay  \n",
       "path                                                                               \n",
       "TripletPredTraining____mars_gym_model_b____8ce4...                            nan  \n",
       "TripletPredTraining____mars_gym_model_b____6655...                            nan  \n",
       "TripletPredTraining____mars_gym_model_b____eaed...                            nan  \n",
       "TripletPredTraining____mars_gym_model_b____6f2c...                            nan  \n",
       "TripletPredTraining____mars_gym_model_b____1f89...                            nan  \n",
       "\n",
       "[5 rows x 55 columns]"
      ]
     },
     "execution_count": 7,
     "metadata": {},
     "output_type": "execute_result"
    }
   ],
   "source": [
    "params = json2df(fetch_training_path(), \"params.json\", \"path\")\n",
    "params.head()"
   ]
  },
  {
   "cell_type": "code",
   "execution_count": 8,
   "metadata": {},
   "outputs": [
    {
     "data": {
      "text/plain": [
       "project                                                                diginetica.config.diginetica_interaction\n",
       "sample_size                                                                                               -1.00\n",
       "minimum_interactions                                                                                       5.00\n",
       "session_test_size                                                                                          0.10\n",
       "test_size                                                                                                  0.20\n",
       "dataset_split_method                                                                                     column\n",
       "test_split_type                                                                                            time\n",
       "val_size                                                                                                   0.20\n",
       "n_splits                                                                                                   5.00\n",
       "split_index                                                                                                0.00\n",
       "sampling_strategy                                                                                          none\n",
       "balance_fields                                                                                               []\n",
       "use_sampling_in_validation                                                                                False\n",
       "seed                                                                                                      42.00\n",
       "observation                                                                                                    \n",
       "load_index_mapping_path                                                                                     NaN\n",
       "negative_proportion                                                                                        0.00\n",
       "device                                                                                                     cuda\n",
       "batch_size                                                                                               500.00\n",
       "epochs                                                                                                   100.00\n",
       "optimizer                                                                                                  adam\n",
       "learning_rate                                                                                              0.00\n",
       "loss_function                                                                                               bce\n",
       "gradient_norm_clipping                                                                                     0.00\n",
       "gradient_norm_clipping_type                                                                                2.00\n",
       "early_stopping_patience                                                                                    5.00\n",
       "early_stopping_min_delta                                                                                   0.00\n",
       "monitor_metric                                                                                         val_loss\n",
       "monitor_mode                                                                                                min\n",
       "generator_workers                                                                                          0.00\n",
       "pin_memory                                                                                                False\n",
       "run_evaluate                                                                                               True\n",
       "sample_size_eval                                                                                        5000.00\n",
       "metrics                                                                                                  [loss]\n",
       "bandit_policy_class                                                           mars_gym.model.bandit.ModelPolicy\n",
       "recommender_module_class                                                                                   None\n",
       "path_item_embedding                                           /media/workspace/triplet_session/output/models...\n",
       "from_index_mapping                                            /media/workspace/triplet_session/output/models...\n",
       "model                                                                TripletPredTraining____mars_gym_model_b___\n",
       "data_frames_preparation_extra_params.sample_days                                                           8.00\n",
       "data_frames_preparation_extra_params.history_window                                                       10.00\n",
       "data_frames_preparation_extra_params.column_stratification                                            SessionID\n",
       "run_evaluate_extra_params                                                                                   NaN\n",
       "data_frames_preparation_extra_params.filter_only_buy                                                        NaN\n",
       "recommender_extra_params.n_factors                                                                          NaN\n",
       "recommender_extra_params.n_hid                                                                              NaN\n",
       "recommender_extra_params.n_head                                                                             NaN\n",
       "recommender_extra_params.n_layers                                                                           NaN\n",
       "recommender_extra_params.num_filters                                                                        NaN\n",
       "recommender_extra_params.dropout                                                                            NaN\n",
       "recommender_extra_params.hist_size                                                                          NaN\n",
       "recommender_extra_params.from_index_mapping                                                                 NaN\n",
       "recommender_extra_params.path_item_embedding                                                                NaN\n",
       "recommender_extra_params.freeze_embedding                                                                   NaN\n",
       "optimizer_params.weight_decay                                                                               NaN\n",
       "Name: TripletPredTraining____mars_gym_model_b____8ce48bf1d3, dtype: object"
      ]
     },
     "execution_count": 8,
     "metadata": {},
     "output_type": "execute_result"
    }
   ],
   "source": [
    "params.iloc[0]"
   ]
  },
  {
   "cell_type": "code",
   "execution_count": 9,
   "metadata": {},
   "outputs": [
    {
     "data": {
      "text/plain": [
       "(72, 55)"
      ]
     },
     "execution_count": 9,
     "metadata": {},
     "output_type": "execute_result"
    }
   ],
   "source": [
    "params.shape"
   ]
  },
  {
   "cell_type": "code",
   "execution_count": 10,
   "metadata": {},
   "outputs": [
    {
     "data": {
      "text/html": [
       "<div>\n",
       "<style scoped>\n",
       "    .dataframe tbody tr th:only-of-type {\n",
       "        vertical-align: middle;\n",
       "    }\n",
       "\n",
       "    .dataframe tbody tr th {\n",
       "        vertical-align: top;\n",
       "    }\n",
       "\n",
       "    .dataframe thead th {\n",
       "        text-align: right;\n",
       "    }\n",
       "</style>\n",
       "<table border=\"1\" class=\"dataframe\">\n",
       "  <thead>\n",
       "    <tr style=\"text-align: right;\">\n",
       "      <th></th>\n",
       "      <th>model_task</th>\n",
       "      <th>count</th>\n",
       "      <th>mean_average_precision</th>\n",
       "      <th>precision_at_1</th>\n",
       "      <th>mrr_at_5</th>\n",
       "      <th>mrr_at_10</th>\n",
       "      <th>ndcg_at_5</th>\n",
       "      <th>ndcg_at_10</th>\n",
       "      <th>ndcg_at_15</th>\n",
       "      <th>ndcg_at_20</th>\n",
       "      <th>ndcg_at_50</th>\n",
       "      <th>coverage_at_5</th>\n",
       "      <th>coverage_at_20</th>\n",
       "      <th>model</th>\n",
       "    </tr>\n",
       "    <tr>\n",
       "      <th>path</th>\n",
       "      <th></th>\n",
       "      <th></th>\n",
       "      <th></th>\n",
       "      <th></th>\n",
       "      <th></th>\n",
       "      <th></th>\n",
       "      <th></th>\n",
       "      <th></th>\n",
       "      <th></th>\n",
       "      <th></th>\n",
       "      <th></th>\n",
       "      <th></th>\n",
       "      <th></th>\n",
       "      <th></th>\n",
       "    </tr>\n",
       "  </thead>\n",
       "  <tbody>\n",
       "    <tr>\n",
       "      <th>SupervisedModelTraining____mars_gym_model_b____1026d1d9a0_ba45488153</th>\n",
       "      <td>SupervisedModelTraining____mars_gym_model_b___...</td>\n",
       "      <td>1946</td>\n",
       "      <td>0.33</td>\n",
       "      <td>0.25</td>\n",
       "      <td>0.30</td>\n",
       "      <td>0.31</td>\n",
       "      <td>0.35</td>\n",
       "      <td>0.38</td>\n",
       "      <td>0.40</td>\n",
       "      <td>0.41</td>\n",
       "      <td>0.45</td>\n",
       "      <td>0.12</td>\n",
       "      <td>0.39</td>\n",
       "      <td>SupervisedModelTraining____mars_gym_model_b___...</td>\n",
       "    </tr>\n",
       "    <tr>\n",
       "      <th>SupervisedModelTraining____mars_gym_model_b____3e8c4fc642_54758f3787</th>\n",
       "      <td>SupervisedModelTraining____mars_gym_model_b___...</td>\n",
       "      <td>1883</td>\n",
       "      <td>0.46</td>\n",
       "      <td>0.38</td>\n",
       "      <td>0.43</td>\n",
       "      <td>0.45</td>\n",
       "      <td>0.48</td>\n",
       "      <td>0.51</td>\n",
       "      <td>0.53</td>\n",
       "      <td>0.54</td>\n",
       "      <td>0.57</td>\n",
       "      <td>0.17</td>\n",
       "      <td>0.51</td>\n",
       "      <td>SupervisedModelTraining____mars_gym_model_b___...</td>\n",
       "    </tr>\n",
       "    <tr>\n",
       "      <th>SupervisedModelTraining____mars_gym_model_b____5b5a3c6223_d25898f4a1</th>\n",
       "      <td>SupervisedModelTraining____mars_gym_model_b___...</td>\n",
       "      <td>1883</td>\n",
       "      <td>0.47</td>\n",
       "      <td>0.40</td>\n",
       "      <td>0.45</td>\n",
       "      <td>0.46</td>\n",
       "      <td>0.49</td>\n",
       "      <td>0.52</td>\n",
       "      <td>0.54</td>\n",
       "      <td>0.54</td>\n",
       "      <td>0.58</td>\n",
       "      <td>0.18</td>\n",
       "      <td>0.52</td>\n",
       "      <td>SupervisedModelTraining____mars_gym_model_b___...</td>\n",
       "    </tr>\n",
       "    <tr>\n",
       "      <th>SupervisedModelTraining____mars_gym_model_b____fbe36bd7f0_fd5021c7b1</th>\n",
       "      <td>SupervisedModelTraining____mars_gym_model_b___...</td>\n",
       "      <td>1883</td>\n",
       "      <td>0.38</td>\n",
       "      <td>0.30</td>\n",
       "      <td>0.35</td>\n",
       "      <td>0.36</td>\n",
       "      <td>0.39</td>\n",
       "      <td>0.42</td>\n",
       "      <td>0.44</td>\n",
       "      <td>0.45</td>\n",
       "      <td>0.49</td>\n",
       "      <td>0.15</td>\n",
       "      <td>0.44</td>\n",
       "      <td>SupervisedModelTraining____mars_gym_model_b___...</td>\n",
       "    </tr>\n",
       "    <tr>\n",
       "      <th>SupervisedModelTraining____mars_gym_model_b____00b542c7e1_1aacd40e01</th>\n",
       "      <td>SupervisedModelTraining____mars_gym_model_b___...</td>\n",
       "      <td>1883</td>\n",
       "      <td>0.44</td>\n",
       "      <td>0.37</td>\n",
       "      <td>0.42</td>\n",
       "      <td>0.43</td>\n",
       "      <td>0.46</td>\n",
       "      <td>0.49</td>\n",
       "      <td>0.50</td>\n",
       "      <td>0.51</td>\n",
       "      <td>0.55</td>\n",
       "      <td>0.16</td>\n",
       "      <td>0.45</td>\n",
       "      <td>SupervisedModelTraining____mars_gym_model_b___...</td>\n",
       "    </tr>\n",
       "    <tr>\n",
       "      <th>SupervisedModelTraining____mars_gym_model_b____bca3507bbe_745bfcad60</th>\n",
       "      <td>SupervisedModelTraining____mars_gym_model_b___...</td>\n",
       "      <td>1946</td>\n",
       "      <td>0.40</td>\n",
       "      <td>0.32</td>\n",
       "      <td>0.37</td>\n",
       "      <td>0.38</td>\n",
       "      <td>0.42</td>\n",
       "      <td>0.45</td>\n",
       "      <td>0.47</td>\n",
       "      <td>0.48</td>\n",
       "      <td>0.52</td>\n",
       "      <td>0.14</td>\n",
       "      <td>0.43</td>\n",
       "      <td>SupervisedModelTraining____mars_gym_model_b___...</td>\n",
       "    </tr>\n",
       "    <tr>\n",
       "      <th>SupervisedModelTraining____mars_gym_model_b____9c9810f949_5d13935980</th>\n",
       "      <td>SupervisedModelTraining____mars_gym_model_b___...</td>\n",
       "      <td>1883</td>\n",
       "      <td>0.45</td>\n",
       "      <td>0.38</td>\n",
       "      <td>0.43</td>\n",
       "      <td>0.44</td>\n",
       "      <td>0.48</td>\n",
       "      <td>0.50</td>\n",
       "      <td>0.52</td>\n",
       "      <td>0.53</td>\n",
       "      <td>0.56</td>\n",
       "      <td>0.15</td>\n",
       "      <td>0.47</td>\n",
       "      <td>SupervisedModelTraining____mars_gym_model_b___...</td>\n",
       "    </tr>\n",
       "    <tr>\n",
       "      <th>SupervisedModelTraining____mars_gym_model_b____1f26552242_54ffd56c34</th>\n",
       "      <td>SupervisedModelTraining____mars_gym_model_b___...</td>\n",
       "      <td>1883</td>\n",
       "      <td>0.38</td>\n",
       "      <td>0.30</td>\n",
       "      <td>0.35</td>\n",
       "      <td>0.36</td>\n",
       "      <td>0.40</td>\n",
       "      <td>0.43</td>\n",
       "      <td>0.44</td>\n",
       "      <td>0.46</td>\n",
       "      <td>0.49</td>\n",
       "      <td>0.14</td>\n",
       "      <td>0.44</td>\n",
       "      <td>SupervisedModelTraining____mars_gym_model_b___...</td>\n",
       "    </tr>\n",
       "    <tr>\n",
       "      <th>SupervisedModelTraining____mars_gym_model_b____f99cd7564a_efd3bb51a8</th>\n",
       "      <td>SupervisedModelTraining____mars_gym_model_b___...</td>\n",
       "      <td>1883</td>\n",
       "      <td>0.40</td>\n",
       "      <td>0.33</td>\n",
       "      <td>0.37</td>\n",
       "      <td>0.38</td>\n",
       "      <td>0.41</td>\n",
       "      <td>0.44</td>\n",
       "      <td>0.46</td>\n",
       "      <td>0.47</td>\n",
       "      <td>0.51</td>\n",
       "      <td>0.16</td>\n",
       "      <td>0.46</td>\n",
       "      <td>SupervisedModelTraining____mars_gym_model_b___...</td>\n",
       "    </tr>\n",
       "    <tr>\n",
       "      <th>SupervisedModelTraining____mars_gym_model_b____5435c7f10d_af8316a535</th>\n",
       "      <td>SupervisedModelTraining____mars_gym_model_b___...</td>\n",
       "      <td>1883</td>\n",
       "      <td>0.48</td>\n",
       "      <td>0.40</td>\n",
       "      <td>0.46</td>\n",
       "      <td>0.47</td>\n",
       "      <td>0.51</td>\n",
       "      <td>0.54</td>\n",
       "      <td>0.55</td>\n",
       "      <td>0.56</td>\n",
       "      <td>0.59</td>\n",
       "      <td>0.18</td>\n",
       "      <td>0.52</td>\n",
       "      <td>SupervisedModelTraining____mars_gym_model_b___...</td>\n",
       "    </tr>\n",
       "    <tr>\n",
       "      <th>SupervisedModelTraining____mars_gym_model_b____4998189cf3_9272c9bac3</th>\n",
       "      <td>SupervisedModelTraining____mars_gym_model_b___...</td>\n",
       "      <td>1883</td>\n",
       "      <td>0.43</td>\n",
       "      <td>0.36</td>\n",
       "      <td>0.41</td>\n",
       "      <td>0.41</td>\n",
       "      <td>0.45</td>\n",
       "      <td>0.48</td>\n",
       "      <td>0.49</td>\n",
       "      <td>0.50</td>\n",
       "      <td>0.54</td>\n",
       "      <td>0.17</td>\n",
       "      <td>0.51</td>\n",
       "      <td>SupervisedModelTraining____mars_gym_model_b___...</td>\n",
       "    </tr>\n",
       "    <tr>\n",
       "      <th>SupervisedModelTraining____mars_gym_model_b____f91abdfeb9_bcf03f7529</th>\n",
       "      <td>SupervisedModelTraining____mars_gym_model_b___...</td>\n",
       "      <td>1883</td>\n",
       "      <td>0.36</td>\n",
       "      <td>0.29</td>\n",
       "      <td>0.33</td>\n",
       "      <td>0.34</td>\n",
       "      <td>0.37</td>\n",
       "      <td>0.40</td>\n",
       "      <td>0.42</td>\n",
       "      <td>0.43</td>\n",
       "      <td>0.47</td>\n",
       "      <td>0.16</td>\n",
       "      <td>0.48</td>\n",
       "      <td>SupervisedModelTraining____mars_gym_model_b___...</td>\n",
       "    </tr>\n",
       "    <tr>\n",
       "      <th>SupervisedModelTraining____mars_gym_model_b____40eb70b167_b4c97d30cc</th>\n",
       "      <td>SupervisedModelTraining____mars_gym_model_b___...</td>\n",
       "      <td>1946</td>\n",
       "      <td>0.33</td>\n",
       "      <td>0.25</td>\n",
       "      <td>0.30</td>\n",
       "      <td>0.31</td>\n",
       "      <td>0.35</td>\n",
       "      <td>0.38</td>\n",
       "      <td>0.39</td>\n",
       "      <td>0.41</td>\n",
       "      <td>0.45</td>\n",
       "      <td>0.13</td>\n",
       "      <td>0.39</td>\n",
       "      <td>SupervisedModelTraining____mars_gym_model_b___...</td>\n",
       "    </tr>\n",
       "    <tr>\n",
       "      <th>SupervisedModelTraining____mars_gym_model_b____a9f2d96cfc_8170078552</th>\n",
       "      <td>SupervisedModelTraining____mars_gym_model_b___...</td>\n",
       "      <td>1946</td>\n",
       "      <td>0.47</td>\n",
       "      <td>0.41</td>\n",
       "      <td>0.45</td>\n",
       "      <td>0.45</td>\n",
       "      <td>0.48</td>\n",
       "      <td>0.51</td>\n",
       "      <td>0.52</td>\n",
       "      <td>0.53</td>\n",
       "      <td>0.57</td>\n",
       "      <td>0.13</td>\n",
       "      <td>0.41</td>\n",
       "      <td>SupervisedModelTraining____mars_gym_model_b___...</td>\n",
       "    </tr>\n",
       "    <tr>\n",
       "      <th>SupervisedModelTraining____mars_gym_model_b____bb05272222_8f8406260f</th>\n",
       "      <td>SupervisedModelTraining____mars_gym_model_b___...</td>\n",
       "      <td>1883</td>\n",
       "      <td>0.45</td>\n",
       "      <td>0.38</td>\n",
       "      <td>0.43</td>\n",
       "      <td>0.44</td>\n",
       "      <td>0.47</td>\n",
       "      <td>0.50</td>\n",
       "      <td>0.51</td>\n",
       "      <td>0.52</td>\n",
       "      <td>0.56</td>\n",
       "      <td>0.17</td>\n",
       "      <td>0.50</td>\n",
       "      <td>SupervisedModelTraining____mars_gym_model_b___...</td>\n",
       "    </tr>\n",
       "    <tr>\n",
       "      <th>SupervisedModelTraining____mars_gym_model_b____84fd9c2b3f_2c70bd9c18</th>\n",
       "      <td>SupervisedModelTraining____mars_gym_model_b___...</td>\n",
       "      <td>1883</td>\n",
       "      <td>0.44</td>\n",
       "      <td>0.37</td>\n",
       "      <td>0.42</td>\n",
       "      <td>0.43</td>\n",
       "      <td>0.46</td>\n",
       "      <td>0.48</td>\n",
       "      <td>0.50</td>\n",
       "      <td>0.51</td>\n",
       "      <td>0.55</td>\n",
       "      <td>0.15</td>\n",
       "      <td>0.45</td>\n",
       "      <td>SupervisedModelTraining____mars_gym_model_b___...</td>\n",
       "    </tr>\n",
       "    <tr>\n",
       "      <th>SupervisedModelTraining____mars_gym_model_b____34ba3e9c86_dcb4804de1</th>\n",
       "      <td>SupervisedModelTraining____mars_gym_model_b___...</td>\n",
       "      <td>1946</td>\n",
       "      <td>0.39</td>\n",
       "      <td>0.31</td>\n",
       "      <td>0.37</td>\n",
       "      <td>0.38</td>\n",
       "      <td>0.42</td>\n",
       "      <td>0.45</td>\n",
       "      <td>0.46</td>\n",
       "      <td>0.48</td>\n",
       "      <td>0.51</td>\n",
       "      <td>0.14</td>\n",
       "      <td>0.43</td>\n",
       "      <td>SupervisedModelTraining____mars_gym_model_b___...</td>\n",
       "    </tr>\n",
       "    <tr>\n",
       "      <th>SupervisedModelTraining____mars_gym_model_b____7a2e95cb12_6980ede8f4</th>\n",
       "      <td>SupervisedModelTraining____mars_gym_model_b___...</td>\n",
       "      <td>1946</td>\n",
       "      <td>0.34</td>\n",
       "      <td>0.25</td>\n",
       "      <td>0.32</td>\n",
       "      <td>0.33</td>\n",
       "      <td>0.38</td>\n",
       "      <td>0.41</td>\n",
       "      <td>0.43</td>\n",
       "      <td>0.44</td>\n",
       "      <td>0.48</td>\n",
       "      <td>0.14</td>\n",
       "      <td>0.43</td>\n",
       "      <td>SupervisedModelTraining____mars_gym_model_b___...</td>\n",
       "    </tr>\n",
       "    <tr>\n",
       "      <th>SupervisedModelTraining____mars_gym_model_b____bc513f7dd3_46435ba06e</th>\n",
       "      <td>SupervisedModelTraining____mars_gym_model_b___...</td>\n",
       "      <td>1883</td>\n",
       "      <td>0.37</td>\n",
       "      <td>0.30</td>\n",
       "      <td>0.34</td>\n",
       "      <td>0.36</td>\n",
       "      <td>0.39</td>\n",
       "      <td>0.42</td>\n",
       "      <td>0.43</td>\n",
       "      <td>0.45</td>\n",
       "      <td>0.49</td>\n",
       "      <td>0.15</td>\n",
       "      <td>0.44</td>\n",
       "      <td>SupervisedModelTraining____mars_gym_model_b___...</td>\n",
       "    </tr>\n",
       "    <tr>\n",
       "      <th>SupervisedModelTraining____mars_gym_model_b____caa11253df_e8f436b695</th>\n",
       "      <td>SupervisedModelTraining____mars_gym_model_b___...</td>\n",
       "      <td>1883</td>\n",
       "      <td>0.37</td>\n",
       "      <td>0.30</td>\n",
       "      <td>0.35</td>\n",
       "      <td>0.36</td>\n",
       "      <td>0.39</td>\n",
       "      <td>0.42</td>\n",
       "      <td>0.44</td>\n",
       "      <td>0.45</td>\n",
       "      <td>0.49</td>\n",
       "      <td>0.15</td>\n",
       "      <td>0.44</td>\n",
       "      <td>SupervisedModelTraining____mars_gym_model_b___...</td>\n",
       "    </tr>\n",
       "    <tr>\n",
       "      <th>SupervisedModelTraining____mars_gym_model_b____d6af2ea4d3_9f25978559</th>\n",
       "      <td>SupervisedModelTraining____mars_gym_model_b___...</td>\n",
       "      <td>1883</td>\n",
       "      <td>0.44</td>\n",
       "      <td>0.36</td>\n",
       "      <td>0.42</td>\n",
       "      <td>0.43</td>\n",
       "      <td>0.47</td>\n",
       "      <td>0.50</td>\n",
       "      <td>0.51</td>\n",
       "      <td>0.52</td>\n",
       "      <td>0.56</td>\n",
       "      <td>0.16</td>\n",
       "      <td>0.49</td>\n",
       "      <td>SupervisedModelTraining____mars_gym_model_b___...</td>\n",
       "    </tr>\n",
       "    <tr>\n",
       "      <th>SupervisedModelTraining____mars_gym_model_b____d091623fa6_ce87059a8f</th>\n",
       "      <td>SupervisedModelTraining____mars_gym_model_b___...</td>\n",
       "      <td>1946</td>\n",
       "      <td>0.34</td>\n",
       "      <td>0.26</td>\n",
       "      <td>0.31</td>\n",
       "      <td>0.32</td>\n",
       "      <td>0.35</td>\n",
       "      <td>0.39</td>\n",
       "      <td>0.40</td>\n",
       "      <td>0.42</td>\n",
       "      <td>0.46</td>\n",
       "      <td>0.13</td>\n",
       "      <td>0.39</td>\n",
       "      <td>SupervisedModelTraining____mars_gym_model_b___...</td>\n",
       "    </tr>\n",
       "    <tr>\n",
       "      <th>SupervisedModelTraining____mars_gym_model_b____89951e1de0_160204901b</th>\n",
       "      <td>SupervisedModelTraining____mars_gym_model_b___...</td>\n",
       "      <td>1883</td>\n",
       "      <td>0.51</td>\n",
       "      <td>0.44</td>\n",
       "      <td>0.49</td>\n",
       "      <td>0.50</td>\n",
       "      <td>0.53</td>\n",
       "      <td>0.56</td>\n",
       "      <td>0.57</td>\n",
       "      <td>0.58</td>\n",
       "      <td>0.61</td>\n",
       "      <td>0.17</td>\n",
       "      <td>0.52</td>\n",
       "      <td>SupervisedModelTraining____mars_gym_model_b___...</td>\n",
       "    </tr>\n",
       "    <tr>\n",
       "      <th>SupervisedModelTraining____mars_gym_model_b____bb86660d31_ca4c126f8b</th>\n",
       "      <td>SupervisedModelTraining____mars_gym_model_b___...</td>\n",
       "      <td>1883</td>\n",
       "      <td>0.39</td>\n",
       "      <td>0.32</td>\n",
       "      <td>0.37</td>\n",
       "      <td>0.38</td>\n",
       "      <td>0.41</td>\n",
       "      <td>0.44</td>\n",
       "      <td>0.46</td>\n",
       "      <td>0.47</td>\n",
       "      <td>0.51</td>\n",
       "      <td>0.15</td>\n",
       "      <td>0.46</td>\n",
       "      <td>SupervisedModelTraining____mars_gym_model_b___...</td>\n",
       "    </tr>\n",
       "    <tr>\n",
       "      <th>SupervisedModelTraining____mars_gym_model_b____f454fda2c8_94550b2534</th>\n",
       "      <td>SupervisedModelTraining____mars_gym_model_b___...</td>\n",
       "      <td>1946</td>\n",
       "      <td>0.40</td>\n",
       "      <td>0.32</td>\n",
       "      <td>0.37</td>\n",
       "      <td>0.38</td>\n",
       "      <td>0.42</td>\n",
       "      <td>0.45</td>\n",
       "      <td>0.47</td>\n",
       "      <td>0.48</td>\n",
       "      <td>0.52</td>\n",
       "      <td>0.14</td>\n",
       "      <td>0.43</td>\n",
       "      <td>SupervisedModelTraining____mars_gym_model_b___...</td>\n",
       "    </tr>\n",
       "    <tr>\n",
       "      <th>SupervisedModelTraining____mars_gym_model_b____dc827aeb71_4e25b62295</th>\n",
       "      <td>SupervisedModelTraining____mars_gym_model_b___...</td>\n",
       "      <td>1883</td>\n",
       "      <td>0.50</td>\n",
       "      <td>0.43</td>\n",
       "      <td>0.48</td>\n",
       "      <td>0.49</td>\n",
       "      <td>0.53</td>\n",
       "      <td>0.55</td>\n",
       "      <td>0.57</td>\n",
       "      <td>0.58</td>\n",
       "      <td>0.61</td>\n",
       "      <td>0.17</td>\n",
       "      <td>0.52</td>\n",
       "      <td>SupervisedModelTraining____mars_gym_model_b___...</td>\n",
       "    </tr>\n",
       "    <tr>\n",
       "      <th>SupervisedModelTraining____mars_gym_model_b____bf6052bbc1_b59c07d470</th>\n",
       "      <td>SupervisedModelTraining____mars_gym_model_b___...</td>\n",
       "      <td>1946</td>\n",
       "      <td>0.34</td>\n",
       "      <td>0.26</td>\n",
       "      <td>0.31</td>\n",
       "      <td>0.32</td>\n",
       "      <td>0.36</td>\n",
       "      <td>0.39</td>\n",
       "      <td>0.41</td>\n",
       "      <td>0.42</td>\n",
       "      <td>0.46</td>\n",
       "      <td>0.12</td>\n",
       "      <td>0.39</td>\n",
       "      <td>SupervisedModelTraining____mars_gym_model_b___...</td>\n",
       "    </tr>\n",
       "    <tr>\n",
       "      <th>SupervisedModelTraining____mars_gym_model_b____114e7d9377_53beaabce4</th>\n",
       "      <td>SupervisedModelTraining____mars_gym_model_b___...</td>\n",
       "      <td>1883</td>\n",
       "      <td>0.38</td>\n",
       "      <td>0.30</td>\n",
       "      <td>0.35</td>\n",
       "      <td>0.36</td>\n",
       "      <td>0.39</td>\n",
       "      <td>0.43</td>\n",
       "      <td>0.45</td>\n",
       "      <td>0.46</td>\n",
       "      <td>0.50</td>\n",
       "      <td>0.14</td>\n",
       "      <td>0.43</td>\n",
       "      <td>SupervisedModelTraining____mars_gym_model_b___...</td>\n",
       "    </tr>\n",
       "    <tr>\n",
       "      <th>SupervisedModelTraining____mars_gym_model_b____7b01c9d5f4_eaebe25560</th>\n",
       "      <td>SupervisedModelTraining____mars_gym_model_b___...</td>\n",
       "      <td>1946</td>\n",
       "      <td>0.33</td>\n",
       "      <td>0.25</td>\n",
       "      <td>0.30</td>\n",
       "      <td>0.32</td>\n",
       "      <td>0.35</td>\n",
       "      <td>0.39</td>\n",
       "      <td>0.41</td>\n",
       "      <td>0.42</td>\n",
       "      <td>0.46</td>\n",
       "      <td>0.13</td>\n",
       "      <td>0.40</td>\n",
       "      <td>SupervisedModelTraining____mars_gym_model_b___...</td>\n",
       "    </tr>\n",
       "    <tr>\n",
       "      <th>SupervisedModelTraining____mars_gym_model_b____d190fecb4c_55995404dd</th>\n",
       "      <td>SupervisedModelTraining____mars_gym_model_b___...</td>\n",
       "      <td>1883</td>\n",
       "      <td>0.41</td>\n",
       "      <td>0.34</td>\n",
       "      <td>0.38</td>\n",
       "      <td>0.40</td>\n",
       "      <td>0.43</td>\n",
       "      <td>0.46</td>\n",
       "      <td>0.48</td>\n",
       "      <td>0.49</td>\n",
       "      <td>0.52</td>\n",
       "      <td>0.15</td>\n",
       "      <td>0.46</td>\n",
       "      <td>SupervisedModelTraining____mars_gym_model_b___...</td>\n",
       "    </tr>\n",
       "    <tr>\n",
       "      <th>SupervisedModelTraining____mars_gym_model_b____b085f2085a_c231871038</th>\n",
       "      <td>SupervisedModelTraining____mars_gym_model_b___...</td>\n",
       "      <td>1883</td>\n",
       "      <td>0.46</td>\n",
       "      <td>0.39</td>\n",
       "      <td>0.43</td>\n",
       "      <td>0.44</td>\n",
       "      <td>0.48</td>\n",
       "      <td>0.50</td>\n",
       "      <td>0.52</td>\n",
       "      <td>0.53</td>\n",
       "      <td>0.56</td>\n",
       "      <td>0.16</td>\n",
       "      <td>0.47</td>\n",
       "      <td>SupervisedModelTraining____mars_gym_model_b___...</td>\n",
       "    </tr>\n",
       "    <tr>\n",
       "      <th>SupervisedModelTraining____mars_gym_model_b____66fa7abd46_71f5b669ad</th>\n",
       "      <td>SupervisedModelTraining____mars_gym_model_b___...</td>\n",
       "      <td>1946</td>\n",
       "      <td>0.46</td>\n",
       "      <td>0.40</td>\n",
       "      <td>0.44</td>\n",
       "      <td>0.45</td>\n",
       "      <td>0.47</td>\n",
       "      <td>0.50</td>\n",
       "      <td>0.51</td>\n",
       "      <td>0.52</td>\n",
       "      <td>0.56</td>\n",
       "      <td>0.13</td>\n",
       "      <td>0.41</td>\n",
       "      <td>SupervisedModelTraining____mars_gym_model_b___...</td>\n",
       "    </tr>\n",
       "    <tr>\n",
       "      <th>SupervisedModelTraining____mars_gym_model_b____5470014b5e_e3249c7f7c</th>\n",
       "      <td>SupervisedModelTraining____mars_gym_model_b___...</td>\n",
       "      <td>1883</td>\n",
       "      <td>0.37</td>\n",
       "      <td>0.30</td>\n",
       "      <td>0.34</td>\n",
       "      <td>0.35</td>\n",
       "      <td>0.38</td>\n",
       "      <td>0.41</td>\n",
       "      <td>0.43</td>\n",
       "      <td>0.44</td>\n",
       "      <td>0.48</td>\n",
       "      <td>0.15</td>\n",
       "      <td>0.44</td>\n",
       "      <td>SupervisedModelTraining____mars_gym_model_b___...</td>\n",
       "    </tr>\n",
       "    <tr>\n",
       "      <th>SupervisedModelTraining____mars_gym_model_b____37355252bb_7132e7de90</th>\n",
       "      <td>SupervisedModelTraining____mars_gym_model_b___...</td>\n",
       "      <td>1883</td>\n",
       "      <td>0.45</td>\n",
       "      <td>0.37</td>\n",
       "      <td>0.42</td>\n",
       "      <td>0.43</td>\n",
       "      <td>0.48</td>\n",
       "      <td>0.50</td>\n",
       "      <td>0.52</td>\n",
       "      <td>0.53</td>\n",
       "      <td>0.56</td>\n",
       "      <td>0.17</td>\n",
       "      <td>0.51</td>\n",
       "      <td>SupervisedModelTraining____mars_gym_model_b___...</td>\n",
       "    </tr>\n",
       "    <tr>\n",
       "      <th>SupervisedModelTraining____mars_gym_model_b____43ac7ca69a_3ff72854ce</th>\n",
       "      <td>SupervisedModelTraining____mars_gym_model_b___...</td>\n",
       "      <td>1883</td>\n",
       "      <td>0.38</td>\n",
       "      <td>0.31</td>\n",
       "      <td>0.36</td>\n",
       "      <td>0.37</td>\n",
       "      <td>0.40</td>\n",
       "      <td>0.43</td>\n",
       "      <td>0.45</td>\n",
       "      <td>0.46</td>\n",
       "      <td>0.50</td>\n",
       "      <td>0.14</td>\n",
       "      <td>0.45</td>\n",
       "      <td>SupervisedModelTraining____mars_gym_model_b___...</td>\n",
       "    </tr>\n",
       "    <tr>\n",
       "      <th>SupervisedModelTraining____mars_gym_model_b____0de7a50938_1bd82a33b4</th>\n",
       "      <td>SupervisedModelTraining____mars_gym_model_b___...</td>\n",
       "      <td>1883</td>\n",
       "      <td>0.44</td>\n",
       "      <td>0.36</td>\n",
       "      <td>0.42</td>\n",
       "      <td>0.43</td>\n",
       "      <td>0.47</td>\n",
       "      <td>0.50</td>\n",
       "      <td>0.51</td>\n",
       "      <td>0.52</td>\n",
       "      <td>0.55</td>\n",
       "      <td>0.16</td>\n",
       "      <td>0.47</td>\n",
       "      <td>SupervisedModelTraining____mars_gym_model_b___...</td>\n",
       "    </tr>\n",
       "    <tr>\n",
       "      <th>SupervisedModelTraining____mars_gym_model_b____ae92130397_4faece0791</th>\n",
       "      <td>SupervisedModelTraining____mars_gym_model_b___...</td>\n",
       "      <td>1883</td>\n",
       "      <td>0.47</td>\n",
       "      <td>0.40</td>\n",
       "      <td>0.45</td>\n",
       "      <td>0.46</td>\n",
       "      <td>0.50</td>\n",
       "      <td>0.53</td>\n",
       "      <td>0.54</td>\n",
       "      <td>0.55</td>\n",
       "      <td>0.58</td>\n",
       "      <td>0.17</td>\n",
       "      <td>0.52</td>\n",
       "      <td>SupervisedModelTraining____mars_gym_model_b___...</td>\n",
       "    </tr>\n",
       "    <tr>\n",
       "      <th>SupervisedModelTraining____mars_gym_model_b____8451643eb8_827daa3a8d</th>\n",
       "      <td>SupervisedModelTraining____mars_gym_model_b___...</td>\n",
       "      <td>1946</td>\n",
       "      <td>0.41</td>\n",
       "      <td>0.34</td>\n",
       "      <td>0.38</td>\n",
       "      <td>0.40</td>\n",
       "      <td>0.43</td>\n",
       "      <td>0.46</td>\n",
       "      <td>0.48</td>\n",
       "      <td>0.49</td>\n",
       "      <td>0.52</td>\n",
       "      <td>0.14</td>\n",
       "      <td>0.45</td>\n",
       "      <td>SupervisedModelTraining____mars_gym_model_b___...</td>\n",
       "    </tr>\n",
       "    <tr>\n",
       "      <th>SupervisedModelTraining____mars_gym_model_b____637a546489_b2e1e0888a</th>\n",
       "      <td>SupervisedModelTraining____mars_gym_model_b___...</td>\n",
       "      <td>1883</td>\n",
       "      <td>0.54</td>\n",
       "      <td>0.47</td>\n",
       "      <td>0.52</td>\n",
       "      <td>0.52</td>\n",
       "      <td>0.56</td>\n",
       "      <td>0.58</td>\n",
       "      <td>0.59</td>\n",
       "      <td>0.60</td>\n",
       "      <td>0.63</td>\n",
       "      <td>0.18</td>\n",
       "      <td>0.54</td>\n",
       "      <td>SupervisedModelTraining____mars_gym_model_b___...</td>\n",
       "    </tr>\n",
       "    <tr>\n",
       "      <th>SupervisedModelTraining____mars_gym_model_b____36487d5cdb_9371eb70ef</th>\n",
       "      <td>SupervisedModelTraining____mars_gym_model_b___...</td>\n",
       "      <td>1946</td>\n",
       "      <td>0.32</td>\n",
       "      <td>0.24</td>\n",
       "      <td>0.29</td>\n",
       "      <td>0.31</td>\n",
       "      <td>0.34</td>\n",
       "      <td>0.38</td>\n",
       "      <td>0.39</td>\n",
       "      <td>0.41</td>\n",
       "      <td>0.45</td>\n",
       "      <td>0.12</td>\n",
       "      <td>0.39</td>\n",
       "      <td>SupervisedModelTraining____mars_gym_model_b___...</td>\n",
       "    </tr>\n",
       "    <tr>\n",
       "      <th>SupervisedModelTraining____mars_gym_model_b____7d769fe163_42d36fb497</th>\n",
       "      <td>SupervisedModelTraining____mars_gym_model_b___...</td>\n",
       "      <td>1946</td>\n",
       "      <td>0.28</td>\n",
       "      <td>0.21</td>\n",
       "      <td>0.25</td>\n",
       "      <td>0.26</td>\n",
       "      <td>0.28</td>\n",
       "      <td>0.32</td>\n",
       "      <td>0.34</td>\n",
       "      <td>0.36</td>\n",
       "      <td>0.40</td>\n",
       "      <td>0.13</td>\n",
       "      <td>0.40</td>\n",
       "      <td>SupervisedModelTraining____mars_gym_model_b___...</td>\n",
       "    </tr>\n",
       "    <tr>\n",
       "      <th>SupervisedModelTraining____mars_gym_model_b____b3124e7a69_7433973f5d</th>\n",
       "      <td>SupervisedModelTraining____mars_gym_model_b___...</td>\n",
       "      <td>1883</td>\n",
       "      <td>0.37</td>\n",
       "      <td>0.30</td>\n",
       "      <td>0.34</td>\n",
       "      <td>0.35</td>\n",
       "      <td>0.38</td>\n",
       "      <td>0.42</td>\n",
       "      <td>0.43</td>\n",
       "      <td>0.44</td>\n",
       "      <td>0.48</td>\n",
       "      <td>0.15</td>\n",
       "      <td>0.45</td>\n",
       "      <td>SupervisedModelTraining____mars_gym_model_b___...</td>\n",
       "    </tr>\n",
       "    <tr>\n",
       "      <th>SupervisedModelTraining____mars_gym_model_b____50bde7ac0e_72d094a045</th>\n",
       "      <td>SupervisedModelTraining____mars_gym_model_b___...</td>\n",
       "      <td>2000</td>\n",
       "      <td>1.00</td>\n",
       "      <td>1.00</td>\n",
       "      <td>1.00</td>\n",
       "      <td>1.00</td>\n",
       "      <td>1.00</td>\n",
       "      <td>1.00</td>\n",
       "      <td>1.00</td>\n",
       "      <td>1.00</td>\n",
       "      <td>1.00</td>\n",
       "      <td>1.00</td>\n",
       "      <td>1.00</td>\n",
       "      <td>SupervisedModelTraining____mars_gym_model_b___...</td>\n",
       "    </tr>\n",
       "    <tr>\n",
       "      <th>SupervisedModelTraining____mars_gym_model_b____f8644ddea3_d9eab3766a</th>\n",
       "      <td>SupervisedModelTraining____mars_gym_model_b___...</td>\n",
       "      <td>1946</td>\n",
       "      <td>0.41</td>\n",
       "      <td>0.32</td>\n",
       "      <td>0.38</td>\n",
       "      <td>0.39</td>\n",
       "      <td>0.43</td>\n",
       "      <td>0.46</td>\n",
       "      <td>0.48</td>\n",
       "      <td>0.49</td>\n",
       "      <td>0.53</td>\n",
       "      <td>0.14</td>\n",
       "      <td>0.45</td>\n",
       "      <td>SupervisedModelTraining____mars_gym_model_b___...</td>\n",
       "    </tr>\n",
       "    <tr>\n",
       "      <th>SupervisedModelTraining____mars_gym_model_b____f3e0328139_481f038c64</th>\n",
       "      <td>SupervisedModelTraining____mars_gym_model_b___...</td>\n",
       "      <td>1883</td>\n",
       "      <td>0.37</td>\n",
       "      <td>0.30</td>\n",
       "      <td>0.34</td>\n",
       "      <td>0.35</td>\n",
       "      <td>0.38</td>\n",
       "      <td>0.41</td>\n",
       "      <td>0.43</td>\n",
       "      <td>0.44</td>\n",
       "      <td>0.48</td>\n",
       "      <td>0.16</td>\n",
       "      <td>0.48</td>\n",
       "      <td>SupervisedModelTraining____mars_gym_model_b___...</td>\n",
       "    </tr>\n",
       "    <tr>\n",
       "      <th>SupervisedModelTraining____mars_gym_model_b____6cd3fda06a_f01a0ebb09</th>\n",
       "      <td>SupervisedModelTraining____mars_gym_model_b___...</td>\n",
       "      <td>1883</td>\n",
       "      <td>0.37</td>\n",
       "      <td>0.31</td>\n",
       "      <td>0.34</td>\n",
       "      <td>0.36</td>\n",
       "      <td>0.38</td>\n",
       "      <td>0.41</td>\n",
       "      <td>0.43</td>\n",
       "      <td>0.45</td>\n",
       "      <td>0.48</td>\n",
       "      <td>0.16</td>\n",
       "      <td>0.48</td>\n",
       "      <td>SupervisedModelTraining____mars_gym_model_b___...</td>\n",
       "    </tr>\n",
       "    <tr>\n",
       "      <th>SupervisedModelTraining____mars_gym_model_b____7d956e03c0_2d2f6cb064</th>\n",
       "      <td>SupervisedModelTraining____mars_gym_model_b___...</td>\n",
       "      <td>1946</td>\n",
       "      <td>0.40</td>\n",
       "      <td>0.32</td>\n",
       "      <td>0.37</td>\n",
       "      <td>0.38</td>\n",
       "      <td>0.42</td>\n",
       "      <td>0.45</td>\n",
       "      <td>0.47</td>\n",
       "      <td>0.48</td>\n",
       "      <td>0.52</td>\n",
       "      <td>0.14</td>\n",
       "      <td>0.43</td>\n",
       "      <td>SupervisedModelTraining____mars_gym_model_b___...</td>\n",
       "    </tr>\n",
       "    <tr>\n",
       "      <th>SupervisedModelTraining____mars_gym_model_b____e366f9c4d5_8d396b2f6a</th>\n",
       "      <td>SupervisedModelTraining____mars_gym_model_b___...</td>\n",
       "      <td>1883</td>\n",
       "      <td>0.38</td>\n",
       "      <td>0.30</td>\n",
       "      <td>0.35</td>\n",
       "      <td>0.36</td>\n",
       "      <td>0.39</td>\n",
       "      <td>0.42</td>\n",
       "      <td>0.44</td>\n",
       "      <td>0.45</td>\n",
       "      <td>0.49</td>\n",
       "      <td>0.15</td>\n",
       "      <td>0.44</td>\n",
       "      <td>SupervisedModelTraining____mars_gym_model_b___...</td>\n",
       "    </tr>\n",
       "    <tr>\n",
       "      <th>SupervisedModelTraining____mars_gym_model_b____b3d2b0f719_0ab07baabe</th>\n",
       "      <td>SupervisedModelTraining____mars_gym_model_b___...</td>\n",
       "      <td>1883</td>\n",
       "      <td>0.36</td>\n",
       "      <td>0.29</td>\n",
       "      <td>0.34</td>\n",
       "      <td>0.35</td>\n",
       "      <td>0.38</td>\n",
       "      <td>0.41</td>\n",
       "      <td>0.42</td>\n",
       "      <td>0.44</td>\n",
       "      <td>0.48</td>\n",
       "      <td>0.16</td>\n",
       "      <td>0.48</td>\n",
       "      <td>SupervisedModelTraining____mars_gym_model_b___...</td>\n",
       "    </tr>\n",
       "    <tr>\n",
       "      <th>SupervisedModelTraining____mars_gym_model_b____e9af33328c_3fae9bb273</th>\n",
       "      <td>SupervisedModelTraining____mars_gym_model_b___...</td>\n",
       "      <td>1883</td>\n",
       "      <td>0.45</td>\n",
       "      <td>0.38</td>\n",
       "      <td>0.43</td>\n",
       "      <td>0.44</td>\n",
       "      <td>0.48</td>\n",
       "      <td>0.51</td>\n",
       "      <td>0.52</td>\n",
       "      <td>0.53</td>\n",
       "      <td>0.56</td>\n",
       "      <td>0.16</td>\n",
       "      <td>0.47</td>\n",
       "      <td>SupervisedModelTraining____mars_gym_model_b___...</td>\n",
       "    </tr>\n",
       "    <tr>\n",
       "      <th>SupervisedModelTraining____mars_gym_model_b____43dca4e866_c30c0f8298</th>\n",
       "      <td>SupervisedModelTraining____mars_gym_model_b___...</td>\n",
       "      <td>1946</td>\n",
       "      <td>0.41</td>\n",
       "      <td>0.33</td>\n",
       "      <td>0.38</td>\n",
       "      <td>0.39</td>\n",
       "      <td>0.43</td>\n",
       "      <td>0.46</td>\n",
       "      <td>0.47</td>\n",
       "      <td>0.49</td>\n",
       "      <td>0.52</td>\n",
       "      <td>0.14</td>\n",
       "      <td>0.44</td>\n",
       "      <td>SupervisedModelTraining____mars_gym_model_b___...</td>\n",
       "    </tr>\n",
       "    <tr>\n",
       "      <th>SupervisedModelTraining____mars_gym_model_b____487a890b44_a0932e288a</th>\n",
       "      <td>SupervisedModelTraining____mars_gym_model_b___...</td>\n",
       "      <td>1883</td>\n",
       "      <td>0.39</td>\n",
       "      <td>0.32</td>\n",
       "      <td>0.36</td>\n",
       "      <td>0.37</td>\n",
       "      <td>0.41</td>\n",
       "      <td>0.44</td>\n",
       "      <td>0.46</td>\n",
       "      <td>0.47</td>\n",
       "      <td>0.50</td>\n",
       "      <td>0.15</td>\n",
       "      <td>0.44</td>\n",
       "      <td>SupervisedModelTraining____mars_gym_model_b___...</td>\n",
       "    </tr>\n",
       "    <tr>\n",
       "      <th>SupervisedModelTraining____mars_gym_model_b____88321e9db4_ec05a14709</th>\n",
       "      <td>SupervisedModelTraining____mars_gym_model_b___...</td>\n",
       "      <td>1883</td>\n",
       "      <td>0.50</td>\n",
       "      <td>0.43</td>\n",
       "      <td>0.48</td>\n",
       "      <td>0.49</td>\n",
       "      <td>0.52</td>\n",
       "      <td>0.54</td>\n",
       "      <td>0.56</td>\n",
       "      <td>0.57</td>\n",
       "      <td>0.60</td>\n",
       "      <td>0.17</td>\n",
       "      <td>0.51</td>\n",
       "      <td>SupervisedModelTraining____mars_gym_model_b___...</td>\n",
       "    </tr>\n",
       "    <tr>\n",
       "      <th>SupervisedModelTraining____mars_gym_model_b____edb66c73dc_f45ec0ad7f</th>\n",
       "      <td>SupervisedModelTraining____mars_gym_model_b___...</td>\n",
       "      <td>1883</td>\n",
       "      <td>0.41</td>\n",
       "      <td>0.34</td>\n",
       "      <td>0.38</td>\n",
       "      <td>0.39</td>\n",
       "      <td>0.42</td>\n",
       "      <td>0.45</td>\n",
       "      <td>0.47</td>\n",
       "      <td>0.48</td>\n",
       "      <td>0.51</td>\n",
       "      <td>0.16</td>\n",
       "      <td>0.49</td>\n",
       "      <td>SupervisedModelTraining____mars_gym_model_b___...</td>\n",
       "    </tr>\n",
       "    <tr>\n",
       "      <th>SupervisedModelTraining____mars_gym_model_b____d62e97c1dd_2c1d76a9b4</th>\n",
       "      <td>SupervisedModelTraining____mars_gym_model_b___...</td>\n",
       "      <td>1883</td>\n",
       "      <td>0.39</td>\n",
       "      <td>0.31</td>\n",
       "      <td>0.36</td>\n",
       "      <td>0.37</td>\n",
       "      <td>0.41</td>\n",
       "      <td>0.44</td>\n",
       "      <td>0.46</td>\n",
       "      <td>0.47</td>\n",
       "      <td>0.50</td>\n",
       "      <td>0.15</td>\n",
       "      <td>0.46</td>\n",
       "      <td>SupervisedModelTraining____mars_gym_model_b___...</td>\n",
       "    </tr>\n",
       "  </tbody>\n",
       "</table>\n",
       "</div>"
      ],
      "text/plain": [
       "                                                                                           model_task  \\\n",
       "path                                                                                                    \n",
       "SupervisedModelTraining____mars_gym_model_b____...  SupervisedModelTraining____mars_gym_model_b___...   \n",
       "SupervisedModelTraining____mars_gym_model_b____...  SupervisedModelTraining____mars_gym_model_b___...   \n",
       "SupervisedModelTraining____mars_gym_model_b____...  SupervisedModelTraining____mars_gym_model_b___...   \n",
       "SupervisedModelTraining____mars_gym_model_b____...  SupervisedModelTraining____mars_gym_model_b___...   \n",
       "SupervisedModelTraining____mars_gym_model_b____...  SupervisedModelTraining____mars_gym_model_b___...   \n",
       "SupervisedModelTraining____mars_gym_model_b____...  SupervisedModelTraining____mars_gym_model_b___...   \n",
       "SupervisedModelTraining____mars_gym_model_b____...  SupervisedModelTraining____mars_gym_model_b___...   \n",
       "SupervisedModelTraining____mars_gym_model_b____...  SupervisedModelTraining____mars_gym_model_b___...   \n",
       "SupervisedModelTraining____mars_gym_model_b____...  SupervisedModelTraining____mars_gym_model_b___...   \n",
       "SupervisedModelTraining____mars_gym_model_b____...  SupervisedModelTraining____mars_gym_model_b___...   \n",
       "SupervisedModelTraining____mars_gym_model_b____...  SupervisedModelTraining____mars_gym_model_b___...   \n",
       "SupervisedModelTraining____mars_gym_model_b____...  SupervisedModelTraining____mars_gym_model_b___...   \n",
       "SupervisedModelTraining____mars_gym_model_b____...  SupervisedModelTraining____mars_gym_model_b___...   \n",
       "SupervisedModelTraining____mars_gym_model_b____...  SupervisedModelTraining____mars_gym_model_b___...   \n",
       "SupervisedModelTraining____mars_gym_model_b____...  SupervisedModelTraining____mars_gym_model_b___...   \n",
       "SupervisedModelTraining____mars_gym_model_b____...  SupervisedModelTraining____mars_gym_model_b___...   \n",
       "SupervisedModelTraining____mars_gym_model_b____...  SupervisedModelTraining____mars_gym_model_b___...   \n",
       "SupervisedModelTraining____mars_gym_model_b____...  SupervisedModelTraining____mars_gym_model_b___...   \n",
       "SupervisedModelTraining____mars_gym_model_b____...  SupervisedModelTraining____mars_gym_model_b___...   \n",
       "SupervisedModelTraining____mars_gym_model_b____...  SupervisedModelTraining____mars_gym_model_b___...   \n",
       "SupervisedModelTraining____mars_gym_model_b____...  SupervisedModelTraining____mars_gym_model_b___...   \n",
       "SupervisedModelTraining____mars_gym_model_b____...  SupervisedModelTraining____mars_gym_model_b___...   \n",
       "SupervisedModelTraining____mars_gym_model_b____...  SupervisedModelTraining____mars_gym_model_b___...   \n",
       "SupervisedModelTraining____mars_gym_model_b____...  SupervisedModelTraining____mars_gym_model_b___...   \n",
       "SupervisedModelTraining____mars_gym_model_b____...  SupervisedModelTraining____mars_gym_model_b___...   \n",
       "SupervisedModelTraining____mars_gym_model_b____...  SupervisedModelTraining____mars_gym_model_b___...   \n",
       "SupervisedModelTraining____mars_gym_model_b____...  SupervisedModelTraining____mars_gym_model_b___...   \n",
       "SupervisedModelTraining____mars_gym_model_b____...  SupervisedModelTraining____mars_gym_model_b___...   \n",
       "SupervisedModelTraining____mars_gym_model_b____...  SupervisedModelTraining____mars_gym_model_b___...   \n",
       "SupervisedModelTraining____mars_gym_model_b____...  SupervisedModelTraining____mars_gym_model_b___...   \n",
       "SupervisedModelTraining____mars_gym_model_b____...  SupervisedModelTraining____mars_gym_model_b___...   \n",
       "SupervisedModelTraining____mars_gym_model_b____...  SupervisedModelTraining____mars_gym_model_b___...   \n",
       "SupervisedModelTraining____mars_gym_model_b____...  SupervisedModelTraining____mars_gym_model_b___...   \n",
       "SupervisedModelTraining____mars_gym_model_b____...  SupervisedModelTraining____mars_gym_model_b___...   \n",
       "SupervisedModelTraining____mars_gym_model_b____...  SupervisedModelTraining____mars_gym_model_b___...   \n",
       "SupervisedModelTraining____mars_gym_model_b____...  SupervisedModelTraining____mars_gym_model_b___...   \n",
       "SupervisedModelTraining____mars_gym_model_b____...  SupervisedModelTraining____mars_gym_model_b___...   \n",
       "SupervisedModelTraining____mars_gym_model_b____...  SupervisedModelTraining____mars_gym_model_b___...   \n",
       "SupervisedModelTraining____mars_gym_model_b____...  SupervisedModelTraining____mars_gym_model_b___...   \n",
       "SupervisedModelTraining____mars_gym_model_b____...  SupervisedModelTraining____mars_gym_model_b___...   \n",
       "SupervisedModelTraining____mars_gym_model_b____...  SupervisedModelTraining____mars_gym_model_b___...   \n",
       "SupervisedModelTraining____mars_gym_model_b____...  SupervisedModelTraining____mars_gym_model_b___...   \n",
       "SupervisedModelTraining____mars_gym_model_b____...  SupervisedModelTraining____mars_gym_model_b___...   \n",
       "SupervisedModelTraining____mars_gym_model_b____...  SupervisedModelTraining____mars_gym_model_b___...   \n",
       "SupervisedModelTraining____mars_gym_model_b____...  SupervisedModelTraining____mars_gym_model_b___...   \n",
       "SupervisedModelTraining____mars_gym_model_b____...  SupervisedModelTraining____mars_gym_model_b___...   \n",
       "SupervisedModelTraining____mars_gym_model_b____...  SupervisedModelTraining____mars_gym_model_b___...   \n",
       "SupervisedModelTraining____mars_gym_model_b____...  SupervisedModelTraining____mars_gym_model_b___...   \n",
       "SupervisedModelTraining____mars_gym_model_b____...  SupervisedModelTraining____mars_gym_model_b___...   \n",
       "SupervisedModelTraining____mars_gym_model_b____...  SupervisedModelTraining____mars_gym_model_b___...   \n",
       "SupervisedModelTraining____mars_gym_model_b____...  SupervisedModelTraining____mars_gym_model_b___...   \n",
       "SupervisedModelTraining____mars_gym_model_b____...  SupervisedModelTraining____mars_gym_model_b___...   \n",
       "SupervisedModelTraining____mars_gym_model_b____...  SupervisedModelTraining____mars_gym_model_b___...   \n",
       "SupervisedModelTraining____mars_gym_model_b____...  SupervisedModelTraining____mars_gym_model_b___...   \n",
       "SupervisedModelTraining____mars_gym_model_b____...  SupervisedModelTraining____mars_gym_model_b___...   \n",
       "\n",
       "                                                    count  \\\n",
       "path                                                        \n",
       "SupervisedModelTraining____mars_gym_model_b____...   1946   \n",
       "SupervisedModelTraining____mars_gym_model_b____...   1883   \n",
       "SupervisedModelTraining____mars_gym_model_b____...   1883   \n",
       "SupervisedModelTraining____mars_gym_model_b____...   1883   \n",
       "SupervisedModelTraining____mars_gym_model_b____...   1883   \n",
       "SupervisedModelTraining____mars_gym_model_b____...   1946   \n",
       "SupervisedModelTraining____mars_gym_model_b____...   1883   \n",
       "SupervisedModelTraining____mars_gym_model_b____...   1883   \n",
       "SupervisedModelTraining____mars_gym_model_b____...   1883   \n",
       "SupervisedModelTraining____mars_gym_model_b____...   1883   \n",
       "SupervisedModelTraining____mars_gym_model_b____...   1883   \n",
       "SupervisedModelTraining____mars_gym_model_b____...   1883   \n",
       "SupervisedModelTraining____mars_gym_model_b____...   1946   \n",
       "SupervisedModelTraining____mars_gym_model_b____...   1946   \n",
       "SupervisedModelTraining____mars_gym_model_b____...   1883   \n",
       "SupervisedModelTraining____mars_gym_model_b____...   1883   \n",
       "SupervisedModelTraining____mars_gym_model_b____...   1946   \n",
       "SupervisedModelTraining____mars_gym_model_b____...   1946   \n",
       "SupervisedModelTraining____mars_gym_model_b____...   1883   \n",
       "SupervisedModelTraining____mars_gym_model_b____...   1883   \n",
       "SupervisedModelTraining____mars_gym_model_b____...   1883   \n",
       "SupervisedModelTraining____mars_gym_model_b____...   1946   \n",
       "SupervisedModelTraining____mars_gym_model_b____...   1883   \n",
       "SupervisedModelTraining____mars_gym_model_b____...   1883   \n",
       "SupervisedModelTraining____mars_gym_model_b____...   1946   \n",
       "SupervisedModelTraining____mars_gym_model_b____...   1883   \n",
       "SupervisedModelTraining____mars_gym_model_b____...   1946   \n",
       "SupervisedModelTraining____mars_gym_model_b____...   1883   \n",
       "SupervisedModelTraining____mars_gym_model_b____...   1946   \n",
       "SupervisedModelTraining____mars_gym_model_b____...   1883   \n",
       "SupervisedModelTraining____mars_gym_model_b____...   1883   \n",
       "SupervisedModelTraining____mars_gym_model_b____...   1946   \n",
       "SupervisedModelTraining____mars_gym_model_b____...   1883   \n",
       "SupervisedModelTraining____mars_gym_model_b____...   1883   \n",
       "SupervisedModelTraining____mars_gym_model_b____...   1883   \n",
       "SupervisedModelTraining____mars_gym_model_b____...   1883   \n",
       "SupervisedModelTraining____mars_gym_model_b____...   1883   \n",
       "SupervisedModelTraining____mars_gym_model_b____...   1946   \n",
       "SupervisedModelTraining____mars_gym_model_b____...   1883   \n",
       "SupervisedModelTraining____mars_gym_model_b____...   1946   \n",
       "SupervisedModelTraining____mars_gym_model_b____...   1946   \n",
       "SupervisedModelTraining____mars_gym_model_b____...   1883   \n",
       "SupervisedModelTraining____mars_gym_model_b____...   2000   \n",
       "SupervisedModelTraining____mars_gym_model_b____...   1946   \n",
       "SupervisedModelTraining____mars_gym_model_b____...   1883   \n",
       "SupervisedModelTraining____mars_gym_model_b____...   1883   \n",
       "SupervisedModelTraining____mars_gym_model_b____...   1946   \n",
       "SupervisedModelTraining____mars_gym_model_b____...   1883   \n",
       "SupervisedModelTraining____mars_gym_model_b____...   1883   \n",
       "SupervisedModelTraining____mars_gym_model_b____...   1883   \n",
       "SupervisedModelTraining____mars_gym_model_b____...   1946   \n",
       "SupervisedModelTraining____mars_gym_model_b____...   1883   \n",
       "SupervisedModelTraining____mars_gym_model_b____...   1883   \n",
       "SupervisedModelTraining____mars_gym_model_b____...   1883   \n",
       "SupervisedModelTraining____mars_gym_model_b____...   1883   \n",
       "\n",
       "                                                    mean_average_precision  \\\n",
       "path                                                                         \n",
       "SupervisedModelTraining____mars_gym_model_b____...                    0.33   \n",
       "SupervisedModelTraining____mars_gym_model_b____...                    0.46   \n",
       "SupervisedModelTraining____mars_gym_model_b____...                    0.47   \n",
       "SupervisedModelTraining____mars_gym_model_b____...                    0.38   \n",
       "SupervisedModelTraining____mars_gym_model_b____...                    0.44   \n",
       "SupervisedModelTraining____mars_gym_model_b____...                    0.40   \n",
       "SupervisedModelTraining____mars_gym_model_b____...                    0.45   \n",
       "SupervisedModelTraining____mars_gym_model_b____...                    0.38   \n",
       "SupervisedModelTraining____mars_gym_model_b____...                    0.40   \n",
       "SupervisedModelTraining____mars_gym_model_b____...                    0.48   \n",
       "SupervisedModelTraining____mars_gym_model_b____...                    0.43   \n",
       "SupervisedModelTraining____mars_gym_model_b____...                    0.36   \n",
       "SupervisedModelTraining____mars_gym_model_b____...                    0.33   \n",
       "SupervisedModelTraining____mars_gym_model_b____...                    0.47   \n",
       "SupervisedModelTraining____mars_gym_model_b____...                    0.45   \n",
       "SupervisedModelTraining____mars_gym_model_b____...                    0.44   \n",
       "SupervisedModelTraining____mars_gym_model_b____...                    0.39   \n",
       "SupervisedModelTraining____mars_gym_model_b____...                    0.34   \n",
       "SupervisedModelTraining____mars_gym_model_b____...                    0.37   \n",
       "SupervisedModelTraining____mars_gym_model_b____...                    0.37   \n",
       "SupervisedModelTraining____mars_gym_model_b____...                    0.44   \n",
       "SupervisedModelTraining____mars_gym_model_b____...                    0.34   \n",
       "SupervisedModelTraining____mars_gym_model_b____...                    0.51   \n",
       "SupervisedModelTraining____mars_gym_model_b____...                    0.39   \n",
       "SupervisedModelTraining____mars_gym_model_b____...                    0.40   \n",
       "SupervisedModelTraining____mars_gym_model_b____...                    0.50   \n",
       "SupervisedModelTraining____mars_gym_model_b____...                    0.34   \n",
       "SupervisedModelTraining____mars_gym_model_b____...                    0.38   \n",
       "SupervisedModelTraining____mars_gym_model_b____...                    0.33   \n",
       "SupervisedModelTraining____mars_gym_model_b____...                    0.41   \n",
       "SupervisedModelTraining____mars_gym_model_b____...                    0.46   \n",
       "SupervisedModelTraining____mars_gym_model_b____...                    0.46   \n",
       "SupervisedModelTraining____mars_gym_model_b____...                    0.37   \n",
       "SupervisedModelTraining____mars_gym_model_b____...                    0.45   \n",
       "SupervisedModelTraining____mars_gym_model_b____...                    0.38   \n",
       "SupervisedModelTraining____mars_gym_model_b____...                    0.44   \n",
       "SupervisedModelTraining____mars_gym_model_b____...                    0.47   \n",
       "SupervisedModelTraining____mars_gym_model_b____...                    0.41   \n",
       "SupervisedModelTraining____mars_gym_model_b____...                    0.54   \n",
       "SupervisedModelTraining____mars_gym_model_b____...                    0.32   \n",
       "SupervisedModelTraining____mars_gym_model_b____...                    0.28   \n",
       "SupervisedModelTraining____mars_gym_model_b____...                    0.37   \n",
       "SupervisedModelTraining____mars_gym_model_b____...                    1.00   \n",
       "SupervisedModelTraining____mars_gym_model_b____...                    0.41   \n",
       "SupervisedModelTraining____mars_gym_model_b____...                    0.37   \n",
       "SupervisedModelTraining____mars_gym_model_b____...                    0.37   \n",
       "SupervisedModelTraining____mars_gym_model_b____...                    0.40   \n",
       "SupervisedModelTraining____mars_gym_model_b____...                    0.38   \n",
       "SupervisedModelTraining____mars_gym_model_b____...                    0.36   \n",
       "SupervisedModelTraining____mars_gym_model_b____...                    0.45   \n",
       "SupervisedModelTraining____mars_gym_model_b____...                    0.41   \n",
       "SupervisedModelTraining____mars_gym_model_b____...                    0.39   \n",
       "SupervisedModelTraining____mars_gym_model_b____...                    0.50   \n",
       "SupervisedModelTraining____mars_gym_model_b____...                    0.41   \n",
       "SupervisedModelTraining____mars_gym_model_b____...                    0.39   \n",
       "\n",
       "                                                    precision_at_1  mrr_at_5  \\\n",
       "path                                                                           \n",
       "SupervisedModelTraining____mars_gym_model_b____...            0.25      0.30   \n",
       "SupervisedModelTraining____mars_gym_model_b____...            0.38      0.43   \n",
       "SupervisedModelTraining____mars_gym_model_b____...            0.40      0.45   \n",
       "SupervisedModelTraining____mars_gym_model_b____...            0.30      0.35   \n",
       "SupervisedModelTraining____mars_gym_model_b____...            0.37      0.42   \n",
       "SupervisedModelTraining____mars_gym_model_b____...            0.32      0.37   \n",
       "SupervisedModelTraining____mars_gym_model_b____...            0.38      0.43   \n",
       "SupervisedModelTraining____mars_gym_model_b____...            0.30      0.35   \n",
       "SupervisedModelTraining____mars_gym_model_b____...            0.33      0.37   \n",
       "SupervisedModelTraining____mars_gym_model_b____...            0.40      0.46   \n",
       "SupervisedModelTraining____mars_gym_model_b____...            0.36      0.41   \n",
       "SupervisedModelTraining____mars_gym_model_b____...            0.29      0.33   \n",
       "SupervisedModelTraining____mars_gym_model_b____...            0.25      0.30   \n",
       "SupervisedModelTraining____mars_gym_model_b____...            0.41      0.45   \n",
       "SupervisedModelTraining____mars_gym_model_b____...            0.38      0.43   \n",
       "SupervisedModelTraining____mars_gym_model_b____...            0.37      0.42   \n",
       "SupervisedModelTraining____mars_gym_model_b____...            0.31      0.37   \n",
       "SupervisedModelTraining____mars_gym_model_b____...            0.25      0.32   \n",
       "SupervisedModelTraining____mars_gym_model_b____...            0.30      0.34   \n",
       "SupervisedModelTraining____mars_gym_model_b____...            0.30      0.35   \n",
       "SupervisedModelTraining____mars_gym_model_b____...            0.36      0.42   \n",
       "SupervisedModelTraining____mars_gym_model_b____...            0.26      0.31   \n",
       "SupervisedModelTraining____mars_gym_model_b____...            0.44      0.49   \n",
       "SupervisedModelTraining____mars_gym_model_b____...            0.32      0.37   \n",
       "SupervisedModelTraining____mars_gym_model_b____...            0.32      0.37   \n",
       "SupervisedModelTraining____mars_gym_model_b____...            0.43      0.48   \n",
       "SupervisedModelTraining____mars_gym_model_b____...            0.26      0.31   \n",
       "SupervisedModelTraining____mars_gym_model_b____...            0.30      0.35   \n",
       "SupervisedModelTraining____mars_gym_model_b____...            0.25      0.30   \n",
       "SupervisedModelTraining____mars_gym_model_b____...            0.34      0.38   \n",
       "SupervisedModelTraining____mars_gym_model_b____...            0.39      0.43   \n",
       "SupervisedModelTraining____mars_gym_model_b____...            0.40      0.44   \n",
       "SupervisedModelTraining____mars_gym_model_b____...            0.30      0.34   \n",
       "SupervisedModelTraining____mars_gym_model_b____...            0.37      0.42   \n",
       "SupervisedModelTraining____mars_gym_model_b____...            0.31      0.36   \n",
       "SupervisedModelTraining____mars_gym_model_b____...            0.36      0.42   \n",
       "SupervisedModelTraining____mars_gym_model_b____...            0.40      0.45   \n",
       "SupervisedModelTraining____mars_gym_model_b____...            0.34      0.38   \n",
       "SupervisedModelTraining____mars_gym_model_b____...            0.47      0.52   \n",
       "SupervisedModelTraining____mars_gym_model_b____...            0.24      0.29   \n",
       "SupervisedModelTraining____mars_gym_model_b____...            0.21      0.25   \n",
       "SupervisedModelTraining____mars_gym_model_b____...            0.30      0.34   \n",
       "SupervisedModelTraining____mars_gym_model_b____...            1.00      1.00   \n",
       "SupervisedModelTraining____mars_gym_model_b____...            0.32      0.38   \n",
       "SupervisedModelTraining____mars_gym_model_b____...            0.30      0.34   \n",
       "SupervisedModelTraining____mars_gym_model_b____...            0.31      0.34   \n",
       "SupervisedModelTraining____mars_gym_model_b____...            0.32      0.37   \n",
       "SupervisedModelTraining____mars_gym_model_b____...            0.30      0.35   \n",
       "SupervisedModelTraining____mars_gym_model_b____...            0.29      0.34   \n",
       "SupervisedModelTraining____mars_gym_model_b____...            0.38      0.43   \n",
       "SupervisedModelTraining____mars_gym_model_b____...            0.33      0.38   \n",
       "SupervisedModelTraining____mars_gym_model_b____...            0.32      0.36   \n",
       "SupervisedModelTraining____mars_gym_model_b____...            0.43      0.48   \n",
       "SupervisedModelTraining____mars_gym_model_b____...            0.34      0.38   \n",
       "SupervisedModelTraining____mars_gym_model_b____...            0.31      0.36   \n",
       "\n",
       "                                                    mrr_at_10  ndcg_at_5  \\\n",
       "path                                                                       \n",
       "SupervisedModelTraining____mars_gym_model_b____...       0.31       0.35   \n",
       "SupervisedModelTraining____mars_gym_model_b____...       0.45       0.48   \n",
       "SupervisedModelTraining____mars_gym_model_b____...       0.46       0.49   \n",
       "SupervisedModelTraining____mars_gym_model_b____...       0.36       0.39   \n",
       "SupervisedModelTraining____mars_gym_model_b____...       0.43       0.46   \n",
       "SupervisedModelTraining____mars_gym_model_b____...       0.38       0.42   \n",
       "SupervisedModelTraining____mars_gym_model_b____...       0.44       0.48   \n",
       "SupervisedModelTraining____mars_gym_model_b____...       0.36       0.40   \n",
       "SupervisedModelTraining____mars_gym_model_b____...       0.38       0.41   \n",
       "SupervisedModelTraining____mars_gym_model_b____...       0.47       0.51   \n",
       "SupervisedModelTraining____mars_gym_model_b____...       0.41       0.45   \n",
       "SupervisedModelTraining____mars_gym_model_b____...       0.34       0.37   \n",
       "SupervisedModelTraining____mars_gym_model_b____...       0.31       0.35   \n",
       "SupervisedModelTraining____mars_gym_model_b____...       0.45       0.48   \n",
       "SupervisedModelTraining____mars_gym_model_b____...       0.44       0.47   \n",
       "SupervisedModelTraining____mars_gym_model_b____...       0.43       0.46   \n",
       "SupervisedModelTraining____mars_gym_model_b____...       0.38       0.42   \n",
       "SupervisedModelTraining____mars_gym_model_b____...       0.33       0.38   \n",
       "SupervisedModelTraining____mars_gym_model_b____...       0.36       0.39   \n",
       "SupervisedModelTraining____mars_gym_model_b____...       0.36       0.39   \n",
       "SupervisedModelTraining____mars_gym_model_b____...       0.43       0.47   \n",
       "SupervisedModelTraining____mars_gym_model_b____...       0.32       0.35   \n",
       "SupervisedModelTraining____mars_gym_model_b____...       0.50       0.53   \n",
       "SupervisedModelTraining____mars_gym_model_b____...       0.38       0.41   \n",
       "SupervisedModelTraining____mars_gym_model_b____...       0.38       0.42   \n",
       "SupervisedModelTraining____mars_gym_model_b____...       0.49       0.53   \n",
       "SupervisedModelTraining____mars_gym_model_b____...       0.32       0.36   \n",
       "SupervisedModelTraining____mars_gym_model_b____...       0.36       0.39   \n",
       "SupervisedModelTraining____mars_gym_model_b____...       0.32       0.35   \n",
       "SupervisedModelTraining____mars_gym_model_b____...       0.40       0.43   \n",
       "SupervisedModelTraining____mars_gym_model_b____...       0.44       0.48   \n",
       "SupervisedModelTraining____mars_gym_model_b____...       0.45       0.47   \n",
       "SupervisedModelTraining____mars_gym_model_b____...       0.35       0.38   \n",
       "SupervisedModelTraining____mars_gym_model_b____...       0.43       0.48   \n",
       "SupervisedModelTraining____mars_gym_model_b____...       0.37       0.40   \n",
       "SupervisedModelTraining____mars_gym_model_b____...       0.43       0.47   \n",
       "SupervisedModelTraining____mars_gym_model_b____...       0.46       0.50   \n",
       "SupervisedModelTraining____mars_gym_model_b____...       0.40       0.43   \n",
       "SupervisedModelTraining____mars_gym_model_b____...       0.52       0.56   \n",
       "SupervisedModelTraining____mars_gym_model_b____...       0.31       0.34   \n",
       "SupervisedModelTraining____mars_gym_model_b____...       0.26       0.28   \n",
       "SupervisedModelTraining____mars_gym_model_b____...       0.35       0.38   \n",
       "SupervisedModelTraining____mars_gym_model_b____...       1.00       1.00   \n",
       "SupervisedModelTraining____mars_gym_model_b____...       0.39       0.43   \n",
       "SupervisedModelTraining____mars_gym_model_b____...       0.35       0.38   \n",
       "SupervisedModelTraining____mars_gym_model_b____...       0.36       0.38   \n",
       "SupervisedModelTraining____mars_gym_model_b____...       0.38       0.42   \n",
       "SupervisedModelTraining____mars_gym_model_b____...       0.36       0.39   \n",
       "SupervisedModelTraining____mars_gym_model_b____...       0.35       0.38   \n",
       "SupervisedModelTraining____mars_gym_model_b____...       0.44       0.48   \n",
       "SupervisedModelTraining____mars_gym_model_b____...       0.39       0.43   \n",
       "SupervisedModelTraining____mars_gym_model_b____...       0.37       0.41   \n",
       "SupervisedModelTraining____mars_gym_model_b____...       0.49       0.52   \n",
       "SupervisedModelTraining____mars_gym_model_b____...       0.39       0.42   \n",
       "SupervisedModelTraining____mars_gym_model_b____...       0.37       0.41   \n",
       "\n",
       "                                                    ndcg_at_10  ndcg_at_15  \\\n",
       "path                                                                         \n",
       "SupervisedModelTraining____mars_gym_model_b____...        0.38        0.40   \n",
       "SupervisedModelTraining____mars_gym_model_b____...        0.51        0.53   \n",
       "SupervisedModelTraining____mars_gym_model_b____...        0.52        0.54   \n",
       "SupervisedModelTraining____mars_gym_model_b____...        0.42        0.44   \n",
       "SupervisedModelTraining____mars_gym_model_b____...        0.49        0.50   \n",
       "SupervisedModelTraining____mars_gym_model_b____...        0.45        0.47   \n",
       "SupervisedModelTraining____mars_gym_model_b____...        0.50        0.52   \n",
       "SupervisedModelTraining____mars_gym_model_b____...        0.43        0.44   \n",
       "SupervisedModelTraining____mars_gym_model_b____...        0.44        0.46   \n",
       "SupervisedModelTraining____mars_gym_model_b____...        0.54        0.55   \n",
       "SupervisedModelTraining____mars_gym_model_b____...        0.48        0.49   \n",
       "SupervisedModelTraining____mars_gym_model_b____...        0.40        0.42   \n",
       "SupervisedModelTraining____mars_gym_model_b____...        0.38        0.39   \n",
       "SupervisedModelTraining____mars_gym_model_b____...        0.51        0.52   \n",
       "SupervisedModelTraining____mars_gym_model_b____...        0.50        0.51   \n",
       "SupervisedModelTraining____mars_gym_model_b____...        0.48        0.50   \n",
       "SupervisedModelTraining____mars_gym_model_b____...        0.45        0.46   \n",
       "SupervisedModelTraining____mars_gym_model_b____...        0.41        0.43   \n",
       "SupervisedModelTraining____mars_gym_model_b____...        0.42        0.43   \n",
       "SupervisedModelTraining____mars_gym_model_b____...        0.42        0.44   \n",
       "SupervisedModelTraining____mars_gym_model_b____...        0.50        0.51   \n",
       "SupervisedModelTraining____mars_gym_model_b____...        0.39        0.40   \n",
       "SupervisedModelTraining____mars_gym_model_b____...        0.56        0.57   \n",
       "SupervisedModelTraining____mars_gym_model_b____...        0.44        0.46   \n",
       "SupervisedModelTraining____mars_gym_model_b____...        0.45        0.47   \n",
       "SupervisedModelTraining____mars_gym_model_b____...        0.55        0.57   \n",
       "SupervisedModelTraining____mars_gym_model_b____...        0.39        0.41   \n",
       "SupervisedModelTraining____mars_gym_model_b____...        0.43        0.45   \n",
       "SupervisedModelTraining____mars_gym_model_b____...        0.39        0.41   \n",
       "SupervisedModelTraining____mars_gym_model_b____...        0.46        0.48   \n",
       "SupervisedModelTraining____mars_gym_model_b____...        0.50        0.52   \n",
       "SupervisedModelTraining____mars_gym_model_b____...        0.50        0.51   \n",
       "SupervisedModelTraining____mars_gym_model_b____...        0.41        0.43   \n",
       "SupervisedModelTraining____mars_gym_model_b____...        0.50        0.52   \n",
       "SupervisedModelTraining____mars_gym_model_b____...        0.43        0.45   \n",
       "SupervisedModelTraining____mars_gym_model_b____...        0.50        0.51   \n",
       "SupervisedModelTraining____mars_gym_model_b____...        0.53        0.54   \n",
       "SupervisedModelTraining____mars_gym_model_b____...        0.46        0.48   \n",
       "SupervisedModelTraining____mars_gym_model_b____...        0.58        0.59   \n",
       "SupervisedModelTraining____mars_gym_model_b____...        0.38        0.39   \n",
       "SupervisedModelTraining____mars_gym_model_b____...        0.32        0.34   \n",
       "SupervisedModelTraining____mars_gym_model_b____...        0.42        0.43   \n",
       "SupervisedModelTraining____mars_gym_model_b____...        1.00        1.00   \n",
       "SupervisedModelTraining____mars_gym_model_b____...        0.46        0.48   \n",
       "SupervisedModelTraining____mars_gym_model_b____...        0.41        0.43   \n",
       "SupervisedModelTraining____mars_gym_model_b____...        0.41        0.43   \n",
       "SupervisedModelTraining____mars_gym_model_b____...        0.45        0.47   \n",
       "SupervisedModelTraining____mars_gym_model_b____...        0.42        0.44   \n",
       "SupervisedModelTraining____mars_gym_model_b____...        0.41        0.42   \n",
       "SupervisedModelTraining____mars_gym_model_b____...        0.51        0.52   \n",
       "SupervisedModelTraining____mars_gym_model_b____...        0.46        0.47   \n",
       "SupervisedModelTraining____mars_gym_model_b____...        0.44        0.46   \n",
       "SupervisedModelTraining____mars_gym_model_b____...        0.54        0.56   \n",
       "SupervisedModelTraining____mars_gym_model_b____...        0.45        0.47   \n",
       "SupervisedModelTraining____mars_gym_model_b____...        0.44        0.46   \n",
       "\n",
       "                                                    ndcg_at_20  ndcg_at_50  \\\n",
       "path                                                                         \n",
       "SupervisedModelTraining____mars_gym_model_b____...        0.41        0.45   \n",
       "SupervisedModelTraining____mars_gym_model_b____...        0.54        0.57   \n",
       "SupervisedModelTraining____mars_gym_model_b____...        0.54        0.58   \n",
       "SupervisedModelTraining____mars_gym_model_b____...        0.45        0.49   \n",
       "SupervisedModelTraining____mars_gym_model_b____...        0.51        0.55   \n",
       "SupervisedModelTraining____mars_gym_model_b____...        0.48        0.52   \n",
       "SupervisedModelTraining____mars_gym_model_b____...        0.53        0.56   \n",
       "SupervisedModelTraining____mars_gym_model_b____...        0.46        0.49   \n",
       "SupervisedModelTraining____mars_gym_model_b____...        0.47        0.51   \n",
       "SupervisedModelTraining____mars_gym_model_b____...        0.56        0.59   \n",
       "SupervisedModelTraining____mars_gym_model_b____...        0.50        0.54   \n",
       "SupervisedModelTraining____mars_gym_model_b____...        0.43        0.47   \n",
       "SupervisedModelTraining____mars_gym_model_b____...        0.41        0.45   \n",
       "SupervisedModelTraining____mars_gym_model_b____...        0.53        0.57   \n",
       "SupervisedModelTraining____mars_gym_model_b____...        0.52        0.56   \n",
       "SupervisedModelTraining____mars_gym_model_b____...        0.51        0.55   \n",
       "SupervisedModelTraining____mars_gym_model_b____...        0.48        0.51   \n",
       "SupervisedModelTraining____mars_gym_model_b____...        0.44        0.48   \n",
       "SupervisedModelTraining____mars_gym_model_b____...        0.45        0.49   \n",
       "SupervisedModelTraining____mars_gym_model_b____...        0.45        0.49   \n",
       "SupervisedModelTraining____mars_gym_model_b____...        0.52        0.56   \n",
       "SupervisedModelTraining____mars_gym_model_b____...        0.42        0.46   \n",
       "SupervisedModelTraining____mars_gym_model_b____...        0.58        0.61   \n",
       "SupervisedModelTraining____mars_gym_model_b____...        0.47        0.51   \n",
       "SupervisedModelTraining____mars_gym_model_b____...        0.48        0.52   \n",
       "SupervisedModelTraining____mars_gym_model_b____...        0.58        0.61   \n",
       "SupervisedModelTraining____mars_gym_model_b____...        0.42        0.46   \n",
       "SupervisedModelTraining____mars_gym_model_b____...        0.46        0.50   \n",
       "SupervisedModelTraining____mars_gym_model_b____...        0.42        0.46   \n",
       "SupervisedModelTraining____mars_gym_model_b____...        0.49        0.52   \n",
       "SupervisedModelTraining____mars_gym_model_b____...        0.53        0.56   \n",
       "SupervisedModelTraining____mars_gym_model_b____...        0.52        0.56   \n",
       "SupervisedModelTraining____mars_gym_model_b____...        0.44        0.48   \n",
       "SupervisedModelTraining____mars_gym_model_b____...        0.53        0.56   \n",
       "SupervisedModelTraining____mars_gym_model_b____...        0.46        0.50   \n",
       "SupervisedModelTraining____mars_gym_model_b____...        0.52        0.55   \n",
       "SupervisedModelTraining____mars_gym_model_b____...        0.55        0.58   \n",
       "SupervisedModelTraining____mars_gym_model_b____...        0.49        0.52   \n",
       "SupervisedModelTraining____mars_gym_model_b____...        0.60        0.63   \n",
       "SupervisedModelTraining____mars_gym_model_b____...        0.41        0.45   \n",
       "SupervisedModelTraining____mars_gym_model_b____...        0.36        0.40   \n",
       "SupervisedModelTraining____mars_gym_model_b____...        0.44        0.48   \n",
       "SupervisedModelTraining____mars_gym_model_b____...        1.00        1.00   \n",
       "SupervisedModelTraining____mars_gym_model_b____...        0.49        0.53   \n",
       "SupervisedModelTraining____mars_gym_model_b____...        0.44        0.48   \n",
       "SupervisedModelTraining____mars_gym_model_b____...        0.45        0.48   \n",
       "SupervisedModelTraining____mars_gym_model_b____...        0.48        0.52   \n",
       "SupervisedModelTraining____mars_gym_model_b____...        0.45        0.49   \n",
       "SupervisedModelTraining____mars_gym_model_b____...        0.44        0.48   \n",
       "SupervisedModelTraining____mars_gym_model_b____...        0.53        0.56   \n",
       "SupervisedModelTraining____mars_gym_model_b____...        0.49        0.52   \n",
       "SupervisedModelTraining____mars_gym_model_b____...        0.47        0.50   \n",
       "SupervisedModelTraining____mars_gym_model_b____...        0.57        0.60   \n",
       "SupervisedModelTraining____mars_gym_model_b____...        0.48        0.51   \n",
       "SupervisedModelTraining____mars_gym_model_b____...        0.47        0.50   \n",
       "\n",
       "                                                    coverage_at_5  \\\n",
       "path                                                                \n",
       "SupervisedModelTraining____mars_gym_model_b____...           0.12   \n",
       "SupervisedModelTraining____mars_gym_model_b____...           0.17   \n",
       "SupervisedModelTraining____mars_gym_model_b____...           0.18   \n",
       "SupervisedModelTraining____mars_gym_model_b____...           0.15   \n",
       "SupervisedModelTraining____mars_gym_model_b____...           0.16   \n",
       "SupervisedModelTraining____mars_gym_model_b____...           0.14   \n",
       "SupervisedModelTraining____mars_gym_model_b____...           0.15   \n",
       "SupervisedModelTraining____mars_gym_model_b____...           0.14   \n",
       "SupervisedModelTraining____mars_gym_model_b____...           0.16   \n",
       "SupervisedModelTraining____mars_gym_model_b____...           0.18   \n",
       "SupervisedModelTraining____mars_gym_model_b____...           0.17   \n",
       "SupervisedModelTraining____mars_gym_model_b____...           0.16   \n",
       "SupervisedModelTraining____mars_gym_model_b____...           0.13   \n",
       "SupervisedModelTraining____mars_gym_model_b____...           0.13   \n",
       "SupervisedModelTraining____mars_gym_model_b____...           0.17   \n",
       "SupervisedModelTraining____mars_gym_model_b____...           0.15   \n",
       "SupervisedModelTraining____mars_gym_model_b____...           0.14   \n",
       "SupervisedModelTraining____mars_gym_model_b____...           0.14   \n",
       "SupervisedModelTraining____mars_gym_model_b____...           0.15   \n",
       "SupervisedModelTraining____mars_gym_model_b____...           0.15   \n",
       "SupervisedModelTraining____mars_gym_model_b____...           0.16   \n",
       "SupervisedModelTraining____mars_gym_model_b____...           0.13   \n",
       "SupervisedModelTraining____mars_gym_model_b____...           0.17   \n",
       "SupervisedModelTraining____mars_gym_model_b____...           0.15   \n",
       "SupervisedModelTraining____mars_gym_model_b____...           0.14   \n",
       "SupervisedModelTraining____mars_gym_model_b____...           0.17   \n",
       "SupervisedModelTraining____mars_gym_model_b____...           0.12   \n",
       "SupervisedModelTraining____mars_gym_model_b____...           0.14   \n",
       "SupervisedModelTraining____mars_gym_model_b____...           0.13   \n",
       "SupervisedModelTraining____mars_gym_model_b____...           0.15   \n",
       "SupervisedModelTraining____mars_gym_model_b____...           0.16   \n",
       "SupervisedModelTraining____mars_gym_model_b____...           0.13   \n",
       "SupervisedModelTraining____mars_gym_model_b____...           0.15   \n",
       "SupervisedModelTraining____mars_gym_model_b____...           0.17   \n",
       "SupervisedModelTraining____mars_gym_model_b____...           0.14   \n",
       "SupervisedModelTraining____mars_gym_model_b____...           0.16   \n",
       "SupervisedModelTraining____mars_gym_model_b____...           0.17   \n",
       "SupervisedModelTraining____mars_gym_model_b____...           0.14   \n",
       "SupervisedModelTraining____mars_gym_model_b____...           0.18   \n",
       "SupervisedModelTraining____mars_gym_model_b____...           0.12   \n",
       "SupervisedModelTraining____mars_gym_model_b____...           0.13   \n",
       "SupervisedModelTraining____mars_gym_model_b____...           0.15   \n",
       "SupervisedModelTraining____mars_gym_model_b____...           1.00   \n",
       "SupervisedModelTraining____mars_gym_model_b____...           0.14   \n",
       "SupervisedModelTraining____mars_gym_model_b____...           0.16   \n",
       "SupervisedModelTraining____mars_gym_model_b____...           0.16   \n",
       "SupervisedModelTraining____mars_gym_model_b____...           0.14   \n",
       "SupervisedModelTraining____mars_gym_model_b____...           0.15   \n",
       "SupervisedModelTraining____mars_gym_model_b____...           0.16   \n",
       "SupervisedModelTraining____mars_gym_model_b____...           0.16   \n",
       "SupervisedModelTraining____mars_gym_model_b____...           0.14   \n",
       "SupervisedModelTraining____mars_gym_model_b____...           0.15   \n",
       "SupervisedModelTraining____mars_gym_model_b____...           0.17   \n",
       "SupervisedModelTraining____mars_gym_model_b____...           0.16   \n",
       "SupervisedModelTraining____mars_gym_model_b____...           0.15   \n",
       "\n",
       "                                                    coverage_at_20  \\\n",
       "path                                                                 \n",
       "SupervisedModelTraining____mars_gym_model_b____...            0.39   \n",
       "SupervisedModelTraining____mars_gym_model_b____...            0.51   \n",
       "SupervisedModelTraining____mars_gym_model_b____...            0.52   \n",
       "SupervisedModelTraining____mars_gym_model_b____...            0.44   \n",
       "SupervisedModelTraining____mars_gym_model_b____...            0.45   \n",
       "SupervisedModelTraining____mars_gym_model_b____...            0.43   \n",
       "SupervisedModelTraining____mars_gym_model_b____...            0.47   \n",
       "SupervisedModelTraining____mars_gym_model_b____...            0.44   \n",
       "SupervisedModelTraining____mars_gym_model_b____...            0.46   \n",
       "SupervisedModelTraining____mars_gym_model_b____...            0.52   \n",
       "SupervisedModelTraining____mars_gym_model_b____...            0.51   \n",
       "SupervisedModelTraining____mars_gym_model_b____...            0.48   \n",
       "SupervisedModelTraining____mars_gym_model_b____...            0.39   \n",
       "SupervisedModelTraining____mars_gym_model_b____...            0.41   \n",
       "SupervisedModelTraining____mars_gym_model_b____...            0.50   \n",
       "SupervisedModelTraining____mars_gym_model_b____...            0.45   \n",
       "SupervisedModelTraining____mars_gym_model_b____...            0.43   \n",
       "SupervisedModelTraining____mars_gym_model_b____...            0.43   \n",
       "SupervisedModelTraining____mars_gym_model_b____...            0.44   \n",
       "SupervisedModelTraining____mars_gym_model_b____...            0.44   \n",
       "SupervisedModelTraining____mars_gym_model_b____...            0.49   \n",
       "SupervisedModelTraining____mars_gym_model_b____...            0.39   \n",
       "SupervisedModelTraining____mars_gym_model_b____...            0.52   \n",
       "SupervisedModelTraining____mars_gym_model_b____...            0.46   \n",
       "SupervisedModelTraining____mars_gym_model_b____...            0.43   \n",
       "SupervisedModelTraining____mars_gym_model_b____...            0.52   \n",
       "SupervisedModelTraining____mars_gym_model_b____...            0.39   \n",
       "SupervisedModelTraining____mars_gym_model_b____...            0.43   \n",
       "SupervisedModelTraining____mars_gym_model_b____...            0.40   \n",
       "SupervisedModelTraining____mars_gym_model_b____...            0.46   \n",
       "SupervisedModelTraining____mars_gym_model_b____...            0.47   \n",
       "SupervisedModelTraining____mars_gym_model_b____...            0.41   \n",
       "SupervisedModelTraining____mars_gym_model_b____...            0.44   \n",
       "SupervisedModelTraining____mars_gym_model_b____...            0.51   \n",
       "SupervisedModelTraining____mars_gym_model_b____...            0.45   \n",
       "SupervisedModelTraining____mars_gym_model_b____...            0.47   \n",
       "SupervisedModelTraining____mars_gym_model_b____...            0.52   \n",
       "SupervisedModelTraining____mars_gym_model_b____...            0.45   \n",
       "SupervisedModelTraining____mars_gym_model_b____...            0.54   \n",
       "SupervisedModelTraining____mars_gym_model_b____...            0.39   \n",
       "SupervisedModelTraining____mars_gym_model_b____...            0.40   \n",
       "SupervisedModelTraining____mars_gym_model_b____...            0.45   \n",
       "SupervisedModelTraining____mars_gym_model_b____...            1.00   \n",
       "SupervisedModelTraining____mars_gym_model_b____...            0.45   \n",
       "SupervisedModelTraining____mars_gym_model_b____...            0.48   \n",
       "SupervisedModelTraining____mars_gym_model_b____...            0.48   \n",
       "SupervisedModelTraining____mars_gym_model_b____...            0.43   \n",
       "SupervisedModelTraining____mars_gym_model_b____...            0.44   \n",
       "SupervisedModelTraining____mars_gym_model_b____...            0.48   \n",
       "SupervisedModelTraining____mars_gym_model_b____...            0.47   \n",
       "SupervisedModelTraining____mars_gym_model_b____...            0.44   \n",
       "SupervisedModelTraining____mars_gym_model_b____...            0.44   \n",
       "SupervisedModelTraining____mars_gym_model_b____...            0.51   \n",
       "SupervisedModelTraining____mars_gym_model_b____...            0.49   \n",
       "SupervisedModelTraining____mars_gym_model_b____...            0.46   \n",
       "\n",
       "                                                                                                model  \n",
       "path                                                                                                   \n",
       "SupervisedModelTraining____mars_gym_model_b____...  SupervisedModelTraining____mars_gym_model_b___...  \n",
       "SupervisedModelTraining____mars_gym_model_b____...  SupervisedModelTraining____mars_gym_model_b___...  \n",
       "SupervisedModelTraining____mars_gym_model_b____...  SupervisedModelTraining____mars_gym_model_b___...  \n",
       "SupervisedModelTraining____mars_gym_model_b____...  SupervisedModelTraining____mars_gym_model_b___...  \n",
       "SupervisedModelTraining____mars_gym_model_b____...  SupervisedModelTraining____mars_gym_model_b___...  \n",
       "SupervisedModelTraining____mars_gym_model_b____...  SupervisedModelTraining____mars_gym_model_b___...  \n",
       "SupervisedModelTraining____mars_gym_model_b____...  SupervisedModelTraining____mars_gym_model_b___...  \n",
       "SupervisedModelTraining____mars_gym_model_b____...  SupervisedModelTraining____mars_gym_model_b___...  \n",
       "SupervisedModelTraining____mars_gym_model_b____...  SupervisedModelTraining____mars_gym_model_b___...  \n",
       "SupervisedModelTraining____mars_gym_model_b____...  SupervisedModelTraining____mars_gym_model_b___...  \n",
       "SupervisedModelTraining____mars_gym_model_b____...  SupervisedModelTraining____mars_gym_model_b___...  \n",
       "SupervisedModelTraining____mars_gym_model_b____...  SupervisedModelTraining____mars_gym_model_b___...  \n",
       "SupervisedModelTraining____mars_gym_model_b____...  SupervisedModelTraining____mars_gym_model_b___...  \n",
       "SupervisedModelTraining____mars_gym_model_b____...  SupervisedModelTraining____mars_gym_model_b___...  \n",
       "SupervisedModelTraining____mars_gym_model_b____...  SupervisedModelTraining____mars_gym_model_b___...  \n",
       "SupervisedModelTraining____mars_gym_model_b____...  SupervisedModelTraining____mars_gym_model_b___...  \n",
       "SupervisedModelTraining____mars_gym_model_b____...  SupervisedModelTraining____mars_gym_model_b___...  \n",
       "SupervisedModelTraining____mars_gym_model_b____...  SupervisedModelTraining____mars_gym_model_b___...  \n",
       "SupervisedModelTraining____mars_gym_model_b____...  SupervisedModelTraining____mars_gym_model_b___...  \n",
       "SupervisedModelTraining____mars_gym_model_b____...  SupervisedModelTraining____mars_gym_model_b___...  \n",
       "SupervisedModelTraining____mars_gym_model_b____...  SupervisedModelTraining____mars_gym_model_b___...  \n",
       "SupervisedModelTraining____mars_gym_model_b____...  SupervisedModelTraining____mars_gym_model_b___...  \n",
       "SupervisedModelTraining____mars_gym_model_b____...  SupervisedModelTraining____mars_gym_model_b___...  \n",
       "SupervisedModelTraining____mars_gym_model_b____...  SupervisedModelTraining____mars_gym_model_b___...  \n",
       "SupervisedModelTraining____mars_gym_model_b____...  SupervisedModelTraining____mars_gym_model_b___...  \n",
       "SupervisedModelTraining____mars_gym_model_b____...  SupervisedModelTraining____mars_gym_model_b___...  \n",
       "SupervisedModelTraining____mars_gym_model_b____...  SupervisedModelTraining____mars_gym_model_b___...  \n",
       "SupervisedModelTraining____mars_gym_model_b____...  SupervisedModelTraining____mars_gym_model_b___...  \n",
       "SupervisedModelTraining____mars_gym_model_b____...  SupervisedModelTraining____mars_gym_model_b___...  \n",
       "SupervisedModelTraining____mars_gym_model_b____...  SupervisedModelTraining____mars_gym_model_b___...  \n",
       "SupervisedModelTraining____mars_gym_model_b____...  SupervisedModelTraining____mars_gym_model_b___...  \n",
       "SupervisedModelTraining____mars_gym_model_b____...  SupervisedModelTraining____mars_gym_model_b___...  \n",
       "SupervisedModelTraining____mars_gym_model_b____...  SupervisedModelTraining____mars_gym_model_b___...  \n",
       "SupervisedModelTraining____mars_gym_model_b____...  SupervisedModelTraining____mars_gym_model_b___...  \n",
       "SupervisedModelTraining____mars_gym_model_b____...  SupervisedModelTraining____mars_gym_model_b___...  \n",
       "SupervisedModelTraining____mars_gym_model_b____...  SupervisedModelTraining____mars_gym_model_b___...  \n",
       "SupervisedModelTraining____mars_gym_model_b____...  SupervisedModelTraining____mars_gym_model_b___...  \n",
       "SupervisedModelTraining____mars_gym_model_b____...  SupervisedModelTraining____mars_gym_model_b___...  \n",
       "SupervisedModelTraining____mars_gym_model_b____...  SupervisedModelTraining____mars_gym_model_b___...  \n",
       "SupervisedModelTraining____mars_gym_model_b____...  SupervisedModelTraining____mars_gym_model_b___...  \n",
       "SupervisedModelTraining____mars_gym_model_b____...  SupervisedModelTraining____mars_gym_model_b___...  \n",
       "SupervisedModelTraining____mars_gym_model_b____...  SupervisedModelTraining____mars_gym_model_b___...  \n",
       "SupervisedModelTraining____mars_gym_model_b____...  SupervisedModelTraining____mars_gym_model_b___...  \n",
       "SupervisedModelTraining____mars_gym_model_b____...  SupervisedModelTraining____mars_gym_model_b___...  \n",
       "SupervisedModelTraining____mars_gym_model_b____...  SupervisedModelTraining____mars_gym_model_b___...  \n",
       "SupervisedModelTraining____mars_gym_model_b____...  SupervisedModelTraining____mars_gym_model_b___...  \n",
       "SupervisedModelTraining____mars_gym_model_b____...  SupervisedModelTraining____mars_gym_model_b___...  \n",
       "SupervisedModelTraining____mars_gym_model_b____...  SupervisedModelTraining____mars_gym_model_b___...  \n",
       "SupervisedModelTraining____mars_gym_model_b____...  SupervisedModelTraining____mars_gym_model_b___...  \n",
       "SupervisedModelTraining____mars_gym_model_b____...  SupervisedModelTraining____mars_gym_model_b___...  \n",
       "SupervisedModelTraining____mars_gym_model_b____...  SupervisedModelTraining____mars_gym_model_b___...  \n",
       "SupervisedModelTraining____mars_gym_model_b____...  SupervisedModelTraining____mars_gym_model_b___...  \n",
       "SupervisedModelTraining____mars_gym_model_b____...  SupervisedModelTraining____mars_gym_model_b___...  \n",
       "SupervisedModelTraining____mars_gym_model_b____...  SupervisedModelTraining____mars_gym_model_b___...  \n",
       "SupervisedModelTraining____mars_gym_model_b____...  SupervisedModelTraining____mars_gym_model_b___...  "
      ]
     },
     "execution_count": 10,
     "metadata": {},
     "output_type": "execute_result"
    }
   ],
   "source": [
    "metrics"
   ]
  },
  {
   "cell_type": "markdown",
   "metadata": {},
   "source": [
    "## Data"
   ]
  },
  {
   "cell_type": "code",
   "execution_count": 11,
   "metadata": {},
   "outputs": [
    {
     "data": {
      "text/html": [
       "<div>\n",
       "<style scoped>\n",
       "    .dataframe tbody tr th:only-of-type {\n",
       "        vertical-align: middle;\n",
       "    }\n",
       "\n",
       "    .dataframe tbody tr th {\n",
       "        vertical-align: top;\n",
       "    }\n",
       "\n",
       "    .dataframe thead th {\n",
       "        text-align: right;\n",
       "    }\n",
       "</style>\n",
       "<table border=\"1\" class=\"dataframe\">\n",
       "  <thead>\n",
       "    <tr style=\"text-align: right;\">\n",
       "      <th></th>\n",
       "      <th>path_x</th>\n",
       "      <th>model_task</th>\n",
       "      <th>count</th>\n",
       "      <th>mean_average_precision</th>\n",
       "      <th>precision_at_1</th>\n",
       "      <th>mrr_at_5</th>\n",
       "      <th>mrr_at_10</th>\n",
       "      <th>ndcg_at_5</th>\n",
       "      <th>ndcg_at_10</th>\n",
       "      <th>ndcg_at_15</th>\n",
       "      <th>...</th>\n",
       "      <th>recommender_extra_params.n_head</th>\n",
       "      <th>recommender_extra_params.n_layers</th>\n",
       "      <th>recommender_extra_params.num_filters</th>\n",
       "      <th>recommender_extra_params.dropout</th>\n",
       "      <th>recommender_extra_params.hist_size</th>\n",
       "      <th>recommender_extra_params.from_index_mapping</th>\n",
       "      <th>recommender_extra_params.path_item_embedding</th>\n",
       "      <th>recommender_extra_params.freeze_embedding</th>\n",
       "      <th>optimizer_params.weight_decay</th>\n",
       "      <th>model_class</th>\n",
       "    </tr>\n",
       "  </thead>\n",
       "  <tbody>\n",
       "    <tr>\n",
       "      <th>0</th>\n",
       "      <td>SupervisedModelTraining____mars_gym_model_b___...</td>\n",
       "      <td>SupervisedModelTraining____mars_gym_model_b___...</td>\n",
       "      <td>1946</td>\n",
       "      <td>0.33</td>\n",
       "      <td>0.25</td>\n",
       "      <td>0.30</td>\n",
       "      <td>0.31</td>\n",
       "      <td>0.35</td>\n",
       "      <td>0.38</td>\n",
       "      <td>0.40</td>\n",
       "      <td>...</td>\n",
       "      <td>2.00</td>\n",
       "      <td>1.00</td>\n",
       "      <td>100.00</td>\n",
       "      <td>0.20</td>\n",
       "      <td>30.00</td>\n",
       "      <td>False</td>\n",
       "      <td>False</td>\n",
       "      <td>False</td>\n",
       "      <td>0.00</td>\n",
       "      <td>SupervisedModelTraining.model.MLTransformerModel</td>\n",
       "    </tr>\n",
       "    <tr>\n",
       "      <th>1</th>\n",
       "      <td>SupervisedModelTraining____mars_gym_model_b___...</td>\n",
       "      <td>SupervisedModelTraining____mars_gym_model_b___...</td>\n",
       "      <td>1946</td>\n",
       "      <td>0.34</td>\n",
       "      <td>0.25</td>\n",
       "      <td>0.32</td>\n",
       "      <td>0.33</td>\n",
       "      <td>0.38</td>\n",
       "      <td>0.41</td>\n",
       "      <td>0.43</td>\n",
       "      <td>...</td>\n",
       "      <td>2.00</td>\n",
       "      <td>1.00</td>\n",
       "      <td>100.00</td>\n",
       "      <td>0.20</td>\n",
       "      <td>30.00</td>\n",
       "      <td>False</td>\n",
       "      <td>False</td>\n",
       "      <td>False</td>\n",
       "      <td>0.00</td>\n",
       "      <td>SupervisedModelTraining.model.MLTransformerModel</td>\n",
       "    </tr>\n",
       "    <tr>\n",
       "      <th>2</th>\n",
       "      <td>SupervisedModelTraining____mars_gym_model_b___...</td>\n",
       "      <td>SupervisedModelTraining____mars_gym_model_b___...</td>\n",
       "      <td>1946</td>\n",
       "      <td>0.34</td>\n",
       "      <td>0.26</td>\n",
       "      <td>0.31</td>\n",
       "      <td>0.32</td>\n",
       "      <td>0.35</td>\n",
       "      <td>0.39</td>\n",
       "      <td>0.40</td>\n",
       "      <td>...</td>\n",
       "      <td>4.00</td>\n",
       "      <td>1.00</td>\n",
       "      <td>100.00</td>\n",
       "      <td>0.20</td>\n",
       "      <td>30.00</td>\n",
       "      <td>False</td>\n",
       "      <td>False</td>\n",
       "      <td>False</td>\n",
       "      <td>0.00</td>\n",
       "      <td>SupervisedModelTraining.model.MLTransformerModel</td>\n",
       "    </tr>\n",
       "    <tr>\n",
       "      <th>3</th>\n",
       "      <td>SupervisedModelTraining____mars_gym_model_b___...</td>\n",
       "      <td>SupervisedModelTraining____mars_gym_model_b___...</td>\n",
       "      <td>1946</td>\n",
       "      <td>0.33</td>\n",
       "      <td>0.25</td>\n",
       "      <td>0.30</td>\n",
       "      <td>0.32</td>\n",
       "      <td>0.35</td>\n",
       "      <td>0.39</td>\n",
       "      <td>0.41</td>\n",
       "      <td>...</td>\n",
       "      <td>2.00</td>\n",
       "      <td>1.00</td>\n",
       "      <td>100.00</td>\n",
       "      <td>0.20</td>\n",
       "      <td>30.00</td>\n",
       "      <td>False</td>\n",
       "      <td>False</td>\n",
       "      <td>False</td>\n",
       "      <td>0.00</td>\n",
       "      <td>SupervisedModelTraining.model.MLTransformerModel</td>\n",
       "    </tr>\n",
       "    <tr>\n",
       "      <th>4</th>\n",
       "      <td>SupervisedModelTraining____mars_gym_model_b___...</td>\n",
       "      <td>SupervisedModelTraining____mars_gym_model_b___...</td>\n",
       "      <td>1883</td>\n",
       "      <td>0.36</td>\n",
       "      <td>0.29</td>\n",
       "      <td>0.34</td>\n",
       "      <td>0.35</td>\n",
       "      <td>0.38</td>\n",
       "      <td>0.41</td>\n",
       "      <td>0.42</td>\n",
       "      <td>...</td>\n",
       "      <td>nan</td>\n",
       "      <td>nan</td>\n",
       "      <td>nan</td>\n",
       "      <td>nan</td>\n",
       "      <td>nan</td>\n",
       "      <td>NaN</td>\n",
       "      <td>NaN</td>\n",
       "      <td>NaN</td>\n",
       "      <td>nan</td>\n",
       "      <td>SupervisedModelTraining.nan</td>\n",
       "    </tr>\n",
       "  </tbody>\n",
       "</table>\n",
       "<p>5 rows × 72 columns</p>\n",
       "</div>"
      ],
      "text/plain": [
       "                                              path_x  \\\n",
       "0  SupervisedModelTraining____mars_gym_model_b___...   \n",
       "1  SupervisedModelTraining____mars_gym_model_b___...   \n",
       "2  SupervisedModelTraining____mars_gym_model_b___...   \n",
       "3  SupervisedModelTraining____mars_gym_model_b___...   \n",
       "4  SupervisedModelTraining____mars_gym_model_b___...   \n",
       "\n",
       "                                          model_task  count  \\\n",
       "0  SupervisedModelTraining____mars_gym_model_b___...   1946   \n",
       "1  SupervisedModelTraining____mars_gym_model_b___...   1946   \n",
       "2  SupervisedModelTraining____mars_gym_model_b___...   1946   \n",
       "3  SupervisedModelTraining____mars_gym_model_b___...   1946   \n",
       "4  SupervisedModelTraining____mars_gym_model_b___...   1883   \n",
       "\n",
       "   mean_average_precision  precision_at_1  mrr_at_5  mrr_at_10  ndcg_at_5  \\\n",
       "0                    0.33            0.25      0.30       0.31       0.35   \n",
       "1                    0.34            0.25      0.32       0.33       0.38   \n",
       "2                    0.34            0.26      0.31       0.32       0.35   \n",
       "3                    0.33            0.25      0.30       0.32       0.35   \n",
       "4                    0.36            0.29      0.34       0.35       0.38   \n",
       "\n",
       "   ndcg_at_10  ndcg_at_15  ...  recommender_extra_params.n_head  \\\n",
       "0        0.38        0.40  ...                             2.00   \n",
       "1        0.41        0.43  ...                             2.00   \n",
       "2        0.39        0.40  ...                             4.00   \n",
       "3        0.39        0.41  ...                             2.00   \n",
       "4        0.41        0.42  ...                              nan   \n",
       "\n",
       "   recommender_extra_params.n_layers  recommender_extra_params.num_filters  \\\n",
       "0                               1.00                                100.00   \n",
       "1                               1.00                                100.00   \n",
       "2                               1.00                                100.00   \n",
       "3                               1.00                                100.00   \n",
       "4                                nan                                   nan   \n",
       "\n",
       "   recommender_extra_params.dropout recommender_extra_params.hist_size  \\\n",
       "0                              0.20                              30.00   \n",
       "1                              0.20                              30.00   \n",
       "2                              0.20                              30.00   \n",
       "3                              0.20                              30.00   \n",
       "4                               nan                                nan   \n",
       "\n",
       "  recommender_extra_params.from_index_mapping  \\\n",
       "0                                       False   \n",
       "1                                       False   \n",
       "2                                       False   \n",
       "3                                       False   \n",
       "4                                         NaN   \n",
       "\n",
       "  recommender_extra_params.path_item_embedding  \\\n",
       "0                                        False   \n",
       "1                                        False   \n",
       "2                                        False   \n",
       "3                                        False   \n",
       "4                                          NaN   \n",
       "\n",
       "   recommender_extra_params.freeze_embedding  optimizer_params.weight_decay  \\\n",
       "0                                      False                           0.00   \n",
       "1                                      False                           0.00   \n",
       "2                                      False                           0.00   \n",
       "3                                      False                           0.00   \n",
       "4                                        NaN                            nan   \n",
       "\n",
       "                                        model_class  \n",
       "0  SupervisedModelTraining.model.MLTransformerModel  \n",
       "1  SupervisedModelTraining.model.MLTransformerModel  \n",
       "2  SupervisedModelTraining.model.MLTransformerModel  \n",
       "3  SupervisedModelTraining.model.MLTransformerModel  \n",
       "4                       SupervisedModelTraining.nan  \n",
       "\n",
       "[5 rows x 72 columns]"
      ]
     },
     "execution_count": 11,
     "metadata": {},
     "output_type": "execute_result"
    }
   ],
   "source": [
    "df = metrics.reset_index().merge(params.reset_index(), left_on='model_task', right_on='path')\n",
    "df['model_class'] = df.apply(lambda row: str(row['model_task']).split(\"_\")[0] + \".\"+str(row['recommender_module_class']), axis=1)\n",
    "df.head()"
   ]
  },
  {
   "cell_type": "code",
   "execution_count": 12,
   "metadata": {},
   "outputs": [
    {
     "data": {
      "text/html": [
       "<div>\n",
       "<style scoped>\n",
       "    .dataframe tbody tr th:only-of-type {\n",
       "        vertical-align: middle;\n",
       "    }\n",
       "\n",
       "    .dataframe tbody tr th {\n",
       "        vertical-align: top;\n",
       "    }\n",
       "\n",
       "    .dataframe thead th {\n",
       "        text-align: right;\n",
       "    }\n",
       "</style>\n",
       "<table border=\"1\" class=\"dataframe\">\n",
       "  <thead>\n",
       "    <tr style=\"text-align: right;\">\n",
       "      <th></th>\n",
       "      <th>path_x</th>\n",
       "      <th>model_task</th>\n",
       "      <th>count</th>\n",
       "      <th>mean_average_precision</th>\n",
       "      <th>precision_at_1</th>\n",
       "      <th>mrr_at_5</th>\n",
       "      <th>mrr_at_10</th>\n",
       "      <th>ndcg_at_5</th>\n",
       "      <th>ndcg_at_10</th>\n",
       "      <th>ndcg_at_15</th>\n",
       "      <th>...</th>\n",
       "      <th>recommender_extra_params.n_head</th>\n",
       "      <th>recommender_extra_params.n_layers</th>\n",
       "      <th>recommender_extra_params.num_filters</th>\n",
       "      <th>recommender_extra_params.dropout</th>\n",
       "      <th>recommender_extra_params.hist_size</th>\n",
       "      <th>recommender_extra_params.from_index_mapping</th>\n",
       "      <th>recommender_extra_params.path_item_embedding</th>\n",
       "      <th>recommender_extra_params.freeze_embedding</th>\n",
       "      <th>optimizer_params.weight_decay</th>\n",
       "      <th>model_class</th>\n",
       "    </tr>\n",
       "  </thead>\n",
       "  <tbody>\n",
       "    <tr>\n",
       "      <th>0</th>\n",
       "      <td>SupervisedModelTraining____mars_gym_model_b___...</td>\n",
       "      <td>SupervisedModelTraining____mars_gym_model_b___...</td>\n",
       "      <td>1946</td>\n",
       "      <td>0.33</td>\n",
       "      <td>0.25</td>\n",
       "      <td>0.30</td>\n",
       "      <td>0.31</td>\n",
       "      <td>0.35</td>\n",
       "      <td>0.38</td>\n",
       "      <td>0.40</td>\n",
       "      <td>...</td>\n",
       "      <td>2.00</td>\n",
       "      <td>1.00</td>\n",
       "      <td>100.00</td>\n",
       "      <td>0.20</td>\n",
       "      <td>30.00</td>\n",
       "      <td>False</td>\n",
       "      <td>False</td>\n",
       "      <td>False</td>\n",
       "      <td>0.00</td>\n",
       "      <td>SupervisedModelTraining.model.MLTransformerModel</td>\n",
       "    </tr>\n",
       "    <tr>\n",
       "      <th>1</th>\n",
       "      <td>SupervisedModelTraining____mars_gym_model_b___...</td>\n",
       "      <td>SupervisedModelTraining____mars_gym_model_b___...</td>\n",
       "      <td>1946</td>\n",
       "      <td>0.34</td>\n",
       "      <td>0.25</td>\n",
       "      <td>0.32</td>\n",
       "      <td>0.33</td>\n",
       "      <td>0.38</td>\n",
       "      <td>0.41</td>\n",
       "      <td>0.43</td>\n",
       "      <td>...</td>\n",
       "      <td>2.00</td>\n",
       "      <td>1.00</td>\n",
       "      <td>100.00</td>\n",
       "      <td>0.20</td>\n",
       "      <td>30.00</td>\n",
       "      <td>False</td>\n",
       "      <td>False</td>\n",
       "      <td>False</td>\n",
       "      <td>0.00</td>\n",
       "      <td>SupervisedModelTraining.model.MLTransformerModel</td>\n",
       "    </tr>\n",
       "    <tr>\n",
       "      <th>2</th>\n",
       "      <td>SupervisedModelTraining____mars_gym_model_b___...</td>\n",
       "      <td>SupervisedModelTraining____mars_gym_model_b___...</td>\n",
       "      <td>1946</td>\n",
       "      <td>0.34</td>\n",
       "      <td>0.26</td>\n",
       "      <td>0.31</td>\n",
       "      <td>0.32</td>\n",
       "      <td>0.35</td>\n",
       "      <td>0.39</td>\n",
       "      <td>0.40</td>\n",
       "      <td>...</td>\n",
       "      <td>4.00</td>\n",
       "      <td>1.00</td>\n",
       "      <td>100.00</td>\n",
       "      <td>0.20</td>\n",
       "      <td>30.00</td>\n",
       "      <td>False</td>\n",
       "      <td>False</td>\n",
       "      <td>False</td>\n",
       "      <td>0.00</td>\n",
       "      <td>SupervisedModelTraining.model.MLTransformerModel</td>\n",
       "    </tr>\n",
       "    <tr>\n",
       "      <th>3</th>\n",
       "      <td>SupervisedModelTraining____mars_gym_model_b___...</td>\n",
       "      <td>SupervisedModelTraining____mars_gym_model_b___...</td>\n",
       "      <td>1946</td>\n",
       "      <td>0.33</td>\n",
       "      <td>0.25</td>\n",
       "      <td>0.30</td>\n",
       "      <td>0.32</td>\n",
       "      <td>0.35</td>\n",
       "      <td>0.39</td>\n",
       "      <td>0.41</td>\n",
       "      <td>...</td>\n",
       "      <td>2.00</td>\n",
       "      <td>1.00</td>\n",
       "      <td>100.00</td>\n",
       "      <td>0.20</td>\n",
       "      <td>30.00</td>\n",
       "      <td>False</td>\n",
       "      <td>False</td>\n",
       "      <td>False</td>\n",
       "      <td>0.00</td>\n",
       "      <td>SupervisedModelTraining.model.MLTransformerModel</td>\n",
       "    </tr>\n",
       "    <tr>\n",
       "      <th>4</th>\n",
       "      <td>SupervisedModelTraining____mars_gym_model_b___...</td>\n",
       "      <td>SupervisedModelTraining____mars_gym_model_b___...</td>\n",
       "      <td>1883</td>\n",
       "      <td>0.36</td>\n",
       "      <td>0.29</td>\n",
       "      <td>0.34</td>\n",
       "      <td>0.35</td>\n",
       "      <td>0.38</td>\n",
       "      <td>0.41</td>\n",
       "      <td>0.42</td>\n",
       "      <td>...</td>\n",
       "      <td>nan</td>\n",
       "      <td>nan</td>\n",
       "      <td>nan</td>\n",
       "      <td>nan</td>\n",
       "      <td>nan</td>\n",
       "      <td>NaN</td>\n",
       "      <td>NaN</td>\n",
       "      <td>NaN</td>\n",
       "      <td>nan</td>\n",
       "      <td>SupervisedModelTraining.nan</td>\n",
       "    </tr>\n",
       "  </tbody>\n",
       "</table>\n",
       "<p>5 rows × 72 columns</p>\n",
       "</div>"
      ],
      "text/plain": [
       "                                              path_x  \\\n",
       "0  SupervisedModelTraining____mars_gym_model_b___...   \n",
       "1  SupervisedModelTraining____mars_gym_model_b___...   \n",
       "2  SupervisedModelTraining____mars_gym_model_b___...   \n",
       "3  SupervisedModelTraining____mars_gym_model_b___...   \n",
       "4  SupervisedModelTraining____mars_gym_model_b___...   \n",
       "\n",
       "                                          model_task  count  \\\n",
       "0  SupervisedModelTraining____mars_gym_model_b___...   1946   \n",
       "1  SupervisedModelTraining____mars_gym_model_b___...   1946   \n",
       "2  SupervisedModelTraining____mars_gym_model_b___...   1946   \n",
       "3  SupervisedModelTraining____mars_gym_model_b___...   1946   \n",
       "4  SupervisedModelTraining____mars_gym_model_b___...   1883   \n",
       "\n",
       "   mean_average_precision  precision_at_1  mrr_at_5  mrr_at_10  ndcg_at_5  \\\n",
       "0                    0.33            0.25      0.30       0.31       0.35   \n",
       "1                    0.34            0.25      0.32       0.33       0.38   \n",
       "2                    0.34            0.26      0.31       0.32       0.35   \n",
       "3                    0.33            0.25      0.30       0.32       0.35   \n",
       "4                    0.36            0.29      0.34       0.35       0.38   \n",
       "\n",
       "   ndcg_at_10  ndcg_at_15  ...  recommender_extra_params.n_head  \\\n",
       "0        0.38        0.40  ...                             2.00   \n",
       "1        0.41        0.43  ...                             2.00   \n",
       "2        0.39        0.40  ...                             4.00   \n",
       "3        0.39        0.41  ...                             2.00   \n",
       "4        0.41        0.42  ...                              nan   \n",
       "\n",
       "   recommender_extra_params.n_layers  recommender_extra_params.num_filters  \\\n",
       "0                               1.00                                100.00   \n",
       "1                               1.00                                100.00   \n",
       "2                               1.00                                100.00   \n",
       "3                               1.00                                100.00   \n",
       "4                                nan                                   nan   \n",
       "\n",
       "   recommender_extra_params.dropout recommender_extra_params.hist_size  \\\n",
       "0                              0.20                              30.00   \n",
       "1                              0.20                              30.00   \n",
       "2                              0.20                              30.00   \n",
       "3                              0.20                              30.00   \n",
       "4                               nan                                nan   \n",
       "\n",
       "  recommender_extra_params.from_index_mapping  \\\n",
       "0                                       False   \n",
       "1                                       False   \n",
       "2                                       False   \n",
       "3                                       False   \n",
       "4                                         NaN   \n",
       "\n",
       "  recommender_extra_params.path_item_embedding  \\\n",
       "0                                        False   \n",
       "1                                        False   \n",
       "2                                        False   \n",
       "3                                        False   \n",
       "4                                          NaN   \n",
       "\n",
       "   recommender_extra_params.freeze_embedding  optimizer_params.weight_decay  \\\n",
       "0                                      False                           0.00   \n",
       "1                                      False                           0.00   \n",
       "2                                      False                           0.00   \n",
       "3                                      False                           0.00   \n",
       "4                                        NaN                            nan   \n",
       "\n",
       "                                        model_class  \n",
       "0  SupervisedModelTraining.model.MLTransformerModel  \n",
       "1  SupervisedModelTraining.model.MLTransformerModel  \n",
       "2  SupervisedModelTraining.model.MLTransformerModel  \n",
       "3  SupervisedModelTraining.model.MLTransformerModel  \n",
       "4                       SupervisedModelTraining.nan  \n",
       "\n",
       "[5 rows x 72 columns]"
      ]
     },
     "execution_count": 12,
     "metadata": {},
     "output_type": "execute_result"
    }
   ],
   "source": [
    "df.shape\n",
    "df"
   ]
  },
  {
   "cell_type": "code",
   "execution_count": 13,
   "metadata": {
    "scrolled": false
   },
   "outputs": [
    {
     "data": {
      "text/plain": [
       "Index(['path_x', 'model_task', 'count', 'mean_average_precision',\n",
       "       'precision_at_1', 'mrr_at_5', 'mrr_at_10', 'ndcg_at_5', 'ndcg_at_10',\n",
       "       'ndcg_at_15', 'ndcg_at_20', 'ndcg_at_50', 'coverage_at_5',\n",
       "       'coverage_at_20', 'model_x', 'path_y', 'project', 'sample_size',\n",
       "       'minimum_interactions', 'session_test_size', 'test_size',\n",
       "       'dataset_split_method', 'test_split_type', 'val_size', 'n_splits',\n",
       "       'split_index', 'sampling_strategy', 'balance_fields',\n",
       "       'use_sampling_in_validation', 'seed', 'observation',\n",
       "       'load_index_mapping_path', 'negative_proportion', 'device',\n",
       "       'batch_size', 'epochs', 'optimizer', 'learning_rate', 'loss_function',\n",
       "       'gradient_norm_clipping', 'gradient_norm_clipping_type',\n",
       "       'early_stopping_patience', 'early_stopping_min_delta', 'monitor_metric',\n",
       "       'monitor_mode', 'generator_workers', 'pin_memory', 'run_evaluate',\n",
       "       'sample_size_eval', 'metrics', 'bandit_policy_class',\n",
       "       'recommender_module_class', 'path_item_embedding', 'from_index_mapping',\n",
       "       'model_y', 'data_frames_preparation_extra_params.sample_days',\n",
       "       'data_frames_preparation_extra_params.history_window',\n",
       "       'data_frames_preparation_extra_params.column_stratification',\n",
       "       'run_evaluate_extra_params',\n",
       "       'data_frames_preparation_extra_params.filter_only_buy',\n",
       "       'recommender_extra_params.n_factors', 'recommender_extra_params.n_hid',\n",
       "       'recommender_extra_params.n_head', 'recommender_extra_params.n_layers',\n",
       "       'recommender_extra_params.num_filters',\n",
       "       'recommender_extra_params.dropout',\n",
       "       'recommender_extra_params.hist_size',\n",
       "       'recommender_extra_params.from_index_mapping',\n",
       "       'recommender_extra_params.path_item_embedding',\n",
       "       'recommender_extra_params.freeze_embedding',\n",
       "       'optimizer_params.weight_decay', 'model_class'],\n",
       "      dtype='object')"
      ]
     },
     "execution_count": 13,
     "metadata": {},
     "output_type": "execute_result"
    }
   ],
   "source": [
    "df.columns\n"
   ]
  },
  {
   "cell_type": "code",
   "execution_count": 14,
   "metadata": {},
   "outputs": [],
   "source": [
    "df['triplet_path'] = df['path_item_embedding'].apply(lambda x: str(x).split(\"/\")[-2] if len(str(x).split(\"/\")) > 2 else \"\")"
   ]
  },
  {
   "cell_type": "code",
   "execution_count": 15,
   "metadata": {},
   "outputs": [
    {
     "data": {
      "text/plain": [
       "Index(['path_x', 'model_task', 'count', 'mean_average_precision',\n",
       "       'precision_at_1', 'mrr_at_5', 'mrr_at_10', 'ndcg_at_5', 'ndcg_at_10',\n",
       "       'ndcg_at_15', 'ndcg_at_20', 'ndcg_at_50', 'coverage_at_5',\n",
       "       'coverage_at_20', 'model_x', 'path_y', 'project', 'sample_size',\n",
       "       'minimum_interactions', 'session_test_size', 'test_size',\n",
       "       'dataset_split_method', 'test_split_type', 'val_size', 'n_splits',\n",
       "       'split_index', 'sampling_strategy', 'balance_fields',\n",
       "       'use_sampling_in_validation', 'seed', 'observation',\n",
       "       'load_index_mapping_path', 'negative_proportion', 'device',\n",
       "       'batch_size', 'epochs', 'optimizer', 'learning_rate', 'loss_function',\n",
       "       'gradient_norm_clipping', 'gradient_norm_clipping_type',\n",
       "       'early_stopping_patience', 'early_stopping_min_delta', 'monitor_metric',\n",
       "       'monitor_mode', 'generator_workers', 'pin_memory', 'run_evaluate',\n",
       "       'sample_size_eval', 'metrics', 'bandit_policy_class',\n",
       "       'recommender_module_class', 'path_item_embedding', 'from_index_mapping',\n",
       "       'model_y', 'data_frames_preparation_extra_params.sample_days',\n",
       "       'data_frames_preparation_extra_params.history_window',\n",
       "       'data_frames_preparation_extra_params.column_stratification',\n",
       "       'run_evaluate_extra_params',\n",
       "       'data_frames_preparation_extra_params.filter_only_buy',\n",
       "       'recommender_extra_params.n_factors', 'recommender_extra_params.n_hid',\n",
       "       'recommender_extra_params.n_head', 'recommender_extra_params.n_layers',\n",
       "       'recommender_extra_params.num_filters',\n",
       "       'recommender_extra_params.dropout',\n",
       "       'recommender_extra_params.hist_size',\n",
       "       'recommender_extra_params.from_index_mapping',\n",
       "       'recommender_extra_params.path_item_embedding',\n",
       "       'recommender_extra_params.freeze_embedding',\n",
       "       'optimizer_params.weight_decay', 'model_class', 'triplet_path'],\n",
       "      dtype='object')"
      ]
     },
     "execution_count": 15,
     "metadata": {},
     "output_type": "execute_result"
    }
   ],
   "source": [
    "df.columns"
   ]
  },
  {
   "cell_type": "code",
   "execution_count": 17,
   "metadata": {},
   "outputs": [
    {
     "data": {
      "text/plain": [
       "(4, 73)"
      ]
     },
     "execution_count": 17,
     "metadata": {},
     "output_type": "execute_result"
    }
   ],
   "source": [
    "df = df[df['project'] == 'mercado_livre.config.mercado_livre_transformer']\n",
    "df.shape"
   ]
  },
  {
   "cell_type": "code",
   "execution_count": 18,
   "metadata": {},
   "outputs": [
    {
     "data": {
      "text/html": [
       "<div>\n",
       "<style scoped>\n",
       "    .dataframe tbody tr th:only-of-type {\n",
       "        vertical-align: middle;\n",
       "    }\n",
       "\n",
       "    .dataframe tbody tr th {\n",
       "        vertical-align: top;\n",
       "    }\n",
       "\n",
       "    .dataframe thead th {\n",
       "        text-align: right;\n",
       "    }\n",
       "</style>\n",
       "<table border=\"1\" class=\"dataframe\">\n",
       "  <thead>\n",
       "    <tr style=\"text-align: right;\">\n",
       "      <th></th>\n",
       "      <th>path_x</th>\n",
       "      <th>model_task</th>\n",
       "      <th>count</th>\n",
       "      <th>mean_average_precision</th>\n",
       "      <th>precision_at_1</th>\n",
       "      <th>mrr_at_5</th>\n",
       "      <th>mrr_at_10</th>\n",
       "      <th>ndcg_at_5</th>\n",
       "      <th>ndcg_at_10</th>\n",
       "      <th>ndcg_at_15</th>\n",
       "      <th>...</th>\n",
       "      <th>recommender_extra_params.n_layers</th>\n",
       "      <th>recommender_extra_params.num_filters</th>\n",
       "      <th>recommender_extra_params.dropout</th>\n",
       "      <th>recommender_extra_params.hist_size</th>\n",
       "      <th>recommender_extra_params.from_index_mapping</th>\n",
       "      <th>recommender_extra_params.path_item_embedding</th>\n",
       "      <th>recommender_extra_params.freeze_embedding</th>\n",
       "      <th>optimizer_params.weight_decay</th>\n",
       "      <th>model_class</th>\n",
       "      <th>triplet_path</th>\n",
       "    </tr>\n",
       "  </thead>\n",
       "  <tbody>\n",
       "    <tr>\n",
       "      <th>1</th>\n",
       "      <td>SupervisedModelTraining____mars_gym_model_b___...</td>\n",
       "      <td>SupervisedModelTraining____mars_gym_model_b___...</td>\n",
       "      <td>1946</td>\n",
       "      <td>0.34</td>\n",
       "      <td>0.25</td>\n",
       "      <td>0.32</td>\n",
       "      <td>0.33</td>\n",
       "      <td>0.38</td>\n",
       "      <td>0.41</td>\n",
       "      <td>0.43</td>\n",
       "      <td>...</td>\n",
       "      <td>1.00</td>\n",
       "      <td>100.00</td>\n",
       "      <td>0.20</td>\n",
       "      <td>30.00</td>\n",
       "      <td>False</td>\n",
       "      <td>False</td>\n",
       "      <td>False</td>\n",
       "      <td>0.00</td>\n",
       "      <td>SupervisedModelTraining.model.MLTransformerModel</td>\n",
       "      <td></td>\n",
       "    </tr>\n",
       "    <tr>\n",
       "      <th>2</th>\n",
       "      <td>SupervisedModelTraining____mars_gym_model_b___...</td>\n",
       "      <td>SupervisedModelTraining____mars_gym_model_b___...</td>\n",
       "      <td>1946</td>\n",
       "      <td>0.34</td>\n",
       "      <td>0.26</td>\n",
       "      <td>0.31</td>\n",
       "      <td>0.32</td>\n",
       "      <td>0.35</td>\n",
       "      <td>0.39</td>\n",
       "      <td>0.40</td>\n",
       "      <td>...</td>\n",
       "      <td>1.00</td>\n",
       "      <td>100.00</td>\n",
       "      <td>0.20</td>\n",
       "      <td>30.00</td>\n",
       "      <td>False</td>\n",
       "      <td>False</td>\n",
       "      <td>False</td>\n",
       "      <td>0.00</td>\n",
       "      <td>SupervisedModelTraining.model.MLTransformerModel</td>\n",
       "      <td></td>\n",
       "    </tr>\n",
       "    <tr>\n",
       "      <th>3</th>\n",
       "      <td>SupervisedModelTraining____mars_gym_model_b___...</td>\n",
       "      <td>SupervisedModelTraining____mars_gym_model_b___...</td>\n",
       "      <td>1946</td>\n",
       "      <td>0.33</td>\n",
       "      <td>0.25</td>\n",
       "      <td>0.30</td>\n",
       "      <td>0.32</td>\n",
       "      <td>0.35</td>\n",
       "      <td>0.39</td>\n",
       "      <td>0.41</td>\n",
       "      <td>...</td>\n",
       "      <td>1.00</td>\n",
       "      <td>100.00</td>\n",
       "      <td>0.20</td>\n",
       "      <td>30.00</td>\n",
       "      <td>False</td>\n",
       "      <td>False</td>\n",
       "      <td>False</td>\n",
       "      <td>0.00</td>\n",
       "      <td>SupervisedModelTraining.model.MLTransformerModel</td>\n",
       "      <td></td>\n",
       "    </tr>\n",
       "    <tr>\n",
       "      <th>0</th>\n",
       "      <td>SupervisedModelTraining____mars_gym_model_b___...</td>\n",
       "      <td>SupervisedModelTraining____mars_gym_model_b___...</td>\n",
       "      <td>1946</td>\n",
       "      <td>0.33</td>\n",
       "      <td>0.25</td>\n",
       "      <td>0.30</td>\n",
       "      <td>0.31</td>\n",
       "      <td>0.35</td>\n",
       "      <td>0.38</td>\n",
       "      <td>0.40</td>\n",
       "      <td>...</td>\n",
       "      <td>1.00</td>\n",
       "      <td>100.00</td>\n",
       "      <td>0.20</td>\n",
       "      <td>30.00</td>\n",
       "      <td>False</td>\n",
       "      <td>False</td>\n",
       "      <td>False</td>\n",
       "      <td>0.00</td>\n",
       "      <td>SupervisedModelTraining.model.MLTransformerModel</td>\n",
       "      <td></td>\n",
       "    </tr>\n",
       "  </tbody>\n",
       "</table>\n",
       "<p>4 rows × 73 columns</p>\n",
       "</div>"
      ],
      "text/plain": [
       "                                              path_x  \\\n",
       "1  SupervisedModelTraining____mars_gym_model_b___...   \n",
       "2  SupervisedModelTraining____mars_gym_model_b___...   \n",
       "3  SupervisedModelTraining____mars_gym_model_b___...   \n",
       "0  SupervisedModelTraining____mars_gym_model_b___...   \n",
       "\n",
       "                                          model_task  count  \\\n",
       "1  SupervisedModelTraining____mars_gym_model_b___...   1946   \n",
       "2  SupervisedModelTraining____mars_gym_model_b___...   1946   \n",
       "3  SupervisedModelTraining____mars_gym_model_b___...   1946   \n",
       "0  SupervisedModelTraining____mars_gym_model_b___...   1946   \n",
       "\n",
       "   mean_average_precision  precision_at_1  mrr_at_5  mrr_at_10  ndcg_at_5  \\\n",
       "1                    0.34            0.25      0.32       0.33       0.38   \n",
       "2                    0.34            0.26      0.31       0.32       0.35   \n",
       "3                    0.33            0.25      0.30       0.32       0.35   \n",
       "0                    0.33            0.25      0.30       0.31       0.35   \n",
       "\n",
       "   ndcg_at_10  ndcg_at_15  ...  recommender_extra_params.n_layers  \\\n",
       "1        0.41        0.43  ...                               1.00   \n",
       "2        0.39        0.40  ...                               1.00   \n",
       "3        0.39        0.41  ...                               1.00   \n",
       "0        0.38        0.40  ...                               1.00   \n",
       "\n",
       "   recommender_extra_params.num_filters  recommender_extra_params.dropout  \\\n",
       "1                                100.00                              0.20   \n",
       "2                                100.00                              0.20   \n",
       "3                                100.00                              0.20   \n",
       "0                                100.00                              0.20   \n",
       "\n",
       "   recommender_extra_params.hist_size  \\\n",
       "1                               30.00   \n",
       "2                               30.00   \n",
       "3                               30.00   \n",
       "0                               30.00   \n",
       "\n",
       "  recommender_extra_params.from_index_mapping  \\\n",
       "1                                       False   \n",
       "2                                       False   \n",
       "3                                       False   \n",
       "0                                       False   \n",
       "\n",
       "  recommender_extra_params.path_item_embedding  \\\n",
       "1                                        False   \n",
       "2                                        False   \n",
       "3                                        False   \n",
       "0                                        False   \n",
       "\n",
       "  recommender_extra_params.freeze_embedding  optimizer_params.weight_decay  \\\n",
       "1                                     False                           0.00   \n",
       "2                                     False                           0.00   \n",
       "3                                     False                           0.00   \n",
       "0                                     False                           0.00   \n",
       "\n",
       "                                        model_class  triplet_path  \n",
       "1  SupervisedModelTraining.model.MLTransformerModel                \n",
       "2  SupervisedModelTraining.model.MLTransformerModel                \n",
       "3  SupervisedModelTraining.model.MLTransformerModel                \n",
       "0  SupervisedModelTraining.model.MLTransformerModel                \n",
       "\n",
       "[4 rows x 73 columns]"
      ]
     },
     "execution_count": 18,
     "metadata": {},
     "output_type": "execute_result"
    }
   ],
   "source": [
    "df.sort_values(['ndcg_at_10'], ascending=False).head(10)"
   ]
  },
  {
   "cell_type": "code",
   "execution_count": 113,
   "metadata": {},
   "outputs": [
    {
     "data": {
      "text/plain": [
       "path_x                           SupervisedModelTraining____mars_gym_model_b___...\n",
       "model_task                       SupervisedModelTraining____mars_gym_model_b___...\n",
       "count                                                                         1883\n",
       "mean_average_precision                                                        0.51\n",
       "precision_at_1                                                                0.44\n",
       "                                                       ...                        \n",
       "recommender_extra_params.p_d                                                   NaN\n",
       "recommender_extra_params.p_nh                                                  NaN\n",
       "recommender_extra_params.p_nv                                                  NaN\n",
       "model_class                       SupervisedModelTraining.model.MLTransformerModel\n",
       "triplet_path                                                                      \n",
       "Name: 14, Length: 80, dtype: object"
      ]
     },
     "execution_count": 113,
     "metadata": {},
     "output_type": "execute_result"
    }
   ],
   "source": []
  },
  {
   "cell_type": "code",
   "execution_count": 95,
   "metadata": {},
   "outputs": [
    {
     "data": {
      "application/vnd.plotly.v1+json": {
       "config": {
        "plotlyServerURL": "https://plot.ly"
       },
       "data": [
        {
         "dimensions": [
          {
           "label": "n_hid",
           "values": [
            100,
            50,
            50,
            200,
            100,
            50,
            100,
            100,
            100,
            10,
            10,
            50,
            10,
            10,
            50,
            100,
            10,
            10,
            100,
            10,
            50,
            200,
            200,
            200,
            50,
            200,
            50,
            50,
            10,
            100,
            100,
            200,
            10,
            100,
            200
           ]
          },
          {
           "label": "n_head",
           "values": [
            1,
            2,
            2,
            4,
            1,
            1,
            1,
            4,
            4,
            2,
            2,
            2,
            1,
            2,
            1,
            1,
            4,
            1,
            4,
            1,
            1,
            4,
            1,
            4,
            4,
            2,
            2,
            4,
            1,
            1,
            1,
            2,
            4,
            4,
            2
           ]
          },
          {
           "label": "n_layers",
           "values": [
            1,
            1,
            4,
            2,
            1,
            4,
            1,
            2,
            2,
            4,
            1,
            2,
            4,
            2,
            1,
            1,
            1,
            1,
            1,
            2,
            1,
            4,
            1,
            4,
            1,
            4,
            4,
            2,
            2,
            4,
            1,
            2,
            1,
            4,
            2
           ]
          },
          {
           "label": "num_filters",
           "values": [
            50,
            200,
            100,
            50,
            50,
            50,
            50,
            100,
            100,
            50,
            10,
            200,
            200,
            10,
            10,
            50,
            100,
            100,
            100,
            10,
            50,
            50,
            10,
            10,
            100,
            50,
            100,
            200,
            50,
            10,
            50,
            100,
            50,
            50,
            100
           ]
          },
          {
           "label": "dropout",
           "values": [
            0.2,
            0.2,
            0,
            0,
            0.2,
            0.2,
            0.2,
            0.4,
            0.6,
            0.2,
            0.6,
            0,
            0.2,
            0.2,
            0.2,
            0.2,
            0.6,
            0.4,
            0,
            0.4,
            0.6,
            0,
            0,
            0,
            0.2,
            0.2,
            0.2,
            0.6,
            0.4,
            0.4,
            0.2,
            0.2,
            0,
            0.6,
            0.2
           ]
          },
          {
           "label": "hist_size",
           "values": [
            30,
            20,
            30,
            20,
            10,
            20,
            10,
            20,
            20,
            30,
            30,
            30,
            30,
            20,
            20,
            10,
            30,
            30,
            30,
            30,
            30,
            30,
            20,
            30,
            30,
            20,
            20,
            20,
            20,
            30,
            10,
            30,
            30,
            30,
            30
           ]
          },
          {
           "label": "WeightDecay",
           "values": [
            1e-05,
            1e-05,
            0,
            0,
            0,
            0,
            0,
            0.0001,
            0.0001,
            1e-05,
            0.0001,
            0,
            0,
            1e-05,
            0.0001,
            0,
            1e-06,
            0,
            0,
            1e-06,
            0.0001,
            1e-06,
            0,
            0.0001,
            0.0001,
            1e-06,
            1e-05,
            1e-05,
            0,
            1e-05,
            0,
            0,
            0.0001,
            0.0001,
            1e-06
           ]
          }
         ],
         "domain": {
          "x": [
           0,
           1
          ],
          "y": [
           0,
           1
          ]
         },
         "line": {
          "color": [
           0.5125931644679917,
           0.5209739279353681,
           0.42060058435540604,
           0.4888106703156818,
           0.502617973212952,
           0.4251586325649859,
           0.4408136288783355,
           0.5375138921929233,
           0.47607819794380707,
           0.3979359034184666,
           0.49636344938418003,
           0.4838611428878209,
           0.41640337292623475,
           0.49864207805510063,
           0.5600474288285083,
           0.4417007740033451,
           0.4262190467033847,
           0.4608586973529808,
           0.5049538952393772,
           0.41127223785198713,
           0.5000570617161118,
           0.4314742838011916,
           0.49601430423760356,
           0.5268605116558389,
           0.5812551628515172,
           0.4154951995147932,
           0.41261006173222997,
           0.4131104401846024,
           0.42145971626653067,
           0.40689412563816585,
           0.506382372445821,
           0.43754887340812376,
           0.5446671509747595,
           0.4490151141138656,
           0.438886327595977
          ],
          "coloraxis": "coloraxis"
         },
         "name": "",
         "type": "parcats"
        }
       ],
       "layout": {
        "coloraxis": {
         "colorbar": {
          "title": {
           "text": "ndcg_at_10"
          }
         },
         "colorscale": [
          [
           0,
           "rgb(255,255,204)"
          ],
          [
           0.125,
           "rgb(255,237,160)"
          ],
          [
           0.25,
           "rgb(254,217,118)"
          ],
          [
           0.375,
           "rgb(254,178,76)"
          ],
          [
           0.5,
           "rgb(253,141,60)"
          ],
          [
           0.625,
           "rgb(252,78,42)"
          ],
          [
           0.75,
           "rgb(227,26,28)"
          ],
          [
           0.875,
           "rgb(189,0,38)"
          ],
          [
           1,
           "rgb(128,0,38)"
          ]
         ]
        },
        "legend": {
         "tracegroupgap": 0
        },
        "margin": {
         "t": 60
        },
        "template": {
         "data": {
          "bar": [
           {
            "error_x": {
             "color": "#2a3f5f"
            },
            "error_y": {
             "color": "#2a3f5f"
            },
            "marker": {
             "line": {
              "color": "#E5ECF6",
              "width": 0.5
             }
            },
            "type": "bar"
           }
          ],
          "barpolar": [
           {
            "marker": {
             "line": {
              "color": "#E5ECF6",
              "width": 0.5
             }
            },
            "type": "barpolar"
           }
          ],
          "carpet": [
           {
            "aaxis": {
             "endlinecolor": "#2a3f5f",
             "gridcolor": "white",
             "linecolor": "white",
             "minorgridcolor": "white",
             "startlinecolor": "#2a3f5f"
            },
            "baxis": {
             "endlinecolor": "#2a3f5f",
             "gridcolor": "white",
             "linecolor": "white",
             "minorgridcolor": "white",
             "startlinecolor": "#2a3f5f"
            },
            "type": "carpet"
           }
          ],
          "choropleth": [
           {
            "colorbar": {
             "outlinewidth": 0,
             "ticks": ""
            },
            "type": "choropleth"
           }
          ],
          "contour": [
           {
            "colorbar": {
             "outlinewidth": 0,
             "ticks": ""
            },
            "colorscale": [
             [
              0,
              "#0d0887"
             ],
             [
              0.1111111111111111,
              "#46039f"
             ],
             [
              0.2222222222222222,
              "#7201a8"
             ],
             [
              0.3333333333333333,
              "#9c179e"
             ],
             [
              0.4444444444444444,
              "#bd3786"
             ],
             [
              0.5555555555555556,
              "#d8576b"
             ],
             [
              0.6666666666666666,
              "#ed7953"
             ],
             [
              0.7777777777777778,
              "#fb9f3a"
             ],
             [
              0.8888888888888888,
              "#fdca26"
             ],
             [
              1,
              "#f0f921"
             ]
            ],
            "type": "contour"
           }
          ],
          "contourcarpet": [
           {
            "colorbar": {
             "outlinewidth": 0,
             "ticks": ""
            },
            "type": "contourcarpet"
           }
          ],
          "heatmap": [
           {
            "colorbar": {
             "outlinewidth": 0,
             "ticks": ""
            },
            "colorscale": [
             [
              0,
              "#0d0887"
             ],
             [
              0.1111111111111111,
              "#46039f"
             ],
             [
              0.2222222222222222,
              "#7201a8"
             ],
             [
              0.3333333333333333,
              "#9c179e"
             ],
             [
              0.4444444444444444,
              "#bd3786"
             ],
             [
              0.5555555555555556,
              "#d8576b"
             ],
             [
              0.6666666666666666,
              "#ed7953"
             ],
             [
              0.7777777777777778,
              "#fb9f3a"
             ],
             [
              0.8888888888888888,
              "#fdca26"
             ],
             [
              1,
              "#f0f921"
             ]
            ],
            "type": "heatmap"
           }
          ],
          "heatmapgl": [
           {
            "colorbar": {
             "outlinewidth": 0,
             "ticks": ""
            },
            "colorscale": [
             [
              0,
              "#0d0887"
             ],
             [
              0.1111111111111111,
              "#46039f"
             ],
             [
              0.2222222222222222,
              "#7201a8"
             ],
             [
              0.3333333333333333,
              "#9c179e"
             ],
             [
              0.4444444444444444,
              "#bd3786"
             ],
             [
              0.5555555555555556,
              "#d8576b"
             ],
             [
              0.6666666666666666,
              "#ed7953"
             ],
             [
              0.7777777777777778,
              "#fb9f3a"
             ],
             [
              0.8888888888888888,
              "#fdca26"
             ],
             [
              1,
              "#f0f921"
             ]
            ],
            "type": "heatmapgl"
           }
          ],
          "histogram": [
           {
            "marker": {
             "colorbar": {
              "outlinewidth": 0,
              "ticks": ""
             }
            },
            "type": "histogram"
           }
          ],
          "histogram2d": [
           {
            "colorbar": {
             "outlinewidth": 0,
             "ticks": ""
            },
            "colorscale": [
             [
              0,
              "#0d0887"
             ],
             [
              0.1111111111111111,
              "#46039f"
             ],
             [
              0.2222222222222222,
              "#7201a8"
             ],
             [
              0.3333333333333333,
              "#9c179e"
             ],
             [
              0.4444444444444444,
              "#bd3786"
             ],
             [
              0.5555555555555556,
              "#d8576b"
             ],
             [
              0.6666666666666666,
              "#ed7953"
             ],
             [
              0.7777777777777778,
              "#fb9f3a"
             ],
             [
              0.8888888888888888,
              "#fdca26"
             ],
             [
              1,
              "#f0f921"
             ]
            ],
            "type": "histogram2d"
           }
          ],
          "histogram2dcontour": [
           {
            "colorbar": {
             "outlinewidth": 0,
             "ticks": ""
            },
            "colorscale": [
             [
              0,
              "#0d0887"
             ],
             [
              0.1111111111111111,
              "#46039f"
             ],
             [
              0.2222222222222222,
              "#7201a8"
             ],
             [
              0.3333333333333333,
              "#9c179e"
             ],
             [
              0.4444444444444444,
              "#bd3786"
             ],
             [
              0.5555555555555556,
              "#d8576b"
             ],
             [
              0.6666666666666666,
              "#ed7953"
             ],
             [
              0.7777777777777778,
              "#fb9f3a"
             ],
             [
              0.8888888888888888,
              "#fdca26"
             ],
             [
              1,
              "#f0f921"
             ]
            ],
            "type": "histogram2dcontour"
           }
          ],
          "mesh3d": [
           {
            "colorbar": {
             "outlinewidth": 0,
             "ticks": ""
            },
            "type": "mesh3d"
           }
          ],
          "parcoords": [
           {
            "line": {
             "colorbar": {
              "outlinewidth": 0,
              "ticks": ""
             }
            },
            "type": "parcoords"
           }
          ],
          "pie": [
           {
            "automargin": true,
            "type": "pie"
           }
          ],
          "scatter": [
           {
            "marker": {
             "colorbar": {
              "outlinewidth": 0,
              "ticks": ""
             }
            },
            "type": "scatter"
           }
          ],
          "scatter3d": [
           {
            "line": {
             "colorbar": {
              "outlinewidth": 0,
              "ticks": ""
             }
            },
            "marker": {
             "colorbar": {
              "outlinewidth": 0,
              "ticks": ""
             }
            },
            "type": "scatter3d"
           }
          ],
          "scattercarpet": [
           {
            "marker": {
             "colorbar": {
              "outlinewidth": 0,
              "ticks": ""
             }
            },
            "type": "scattercarpet"
           }
          ],
          "scattergeo": [
           {
            "marker": {
             "colorbar": {
              "outlinewidth": 0,
              "ticks": ""
             }
            },
            "type": "scattergeo"
           }
          ],
          "scattergl": [
           {
            "marker": {
             "colorbar": {
              "outlinewidth": 0,
              "ticks": ""
             }
            },
            "type": "scattergl"
           }
          ],
          "scattermapbox": [
           {
            "marker": {
             "colorbar": {
              "outlinewidth": 0,
              "ticks": ""
             }
            },
            "type": "scattermapbox"
           }
          ],
          "scatterpolar": [
           {
            "marker": {
             "colorbar": {
              "outlinewidth": 0,
              "ticks": ""
             }
            },
            "type": "scatterpolar"
           }
          ],
          "scatterpolargl": [
           {
            "marker": {
             "colorbar": {
              "outlinewidth": 0,
              "ticks": ""
             }
            },
            "type": "scatterpolargl"
           }
          ],
          "scatterternary": [
           {
            "marker": {
             "colorbar": {
              "outlinewidth": 0,
              "ticks": ""
             }
            },
            "type": "scatterternary"
           }
          ],
          "surface": [
           {
            "colorbar": {
             "outlinewidth": 0,
             "ticks": ""
            },
            "colorscale": [
             [
              0,
              "#0d0887"
             ],
             [
              0.1111111111111111,
              "#46039f"
             ],
             [
              0.2222222222222222,
              "#7201a8"
             ],
             [
              0.3333333333333333,
              "#9c179e"
             ],
             [
              0.4444444444444444,
              "#bd3786"
             ],
             [
              0.5555555555555556,
              "#d8576b"
             ],
             [
              0.6666666666666666,
              "#ed7953"
             ],
             [
              0.7777777777777778,
              "#fb9f3a"
             ],
             [
              0.8888888888888888,
              "#fdca26"
             ],
             [
              1,
              "#f0f921"
             ]
            ],
            "type": "surface"
           }
          ],
          "table": [
           {
            "cells": {
             "fill": {
              "color": "#EBF0F8"
             },
             "line": {
              "color": "white"
             }
            },
            "header": {
             "fill": {
              "color": "#C8D4E3"
             },
             "line": {
              "color": "white"
             }
            },
            "type": "table"
           }
          ]
         },
         "layout": {
          "annotationdefaults": {
           "arrowcolor": "#2a3f5f",
           "arrowhead": 0,
           "arrowwidth": 1
          },
          "coloraxis": {
           "colorbar": {
            "outlinewidth": 0,
            "ticks": ""
           }
          },
          "colorscale": {
           "diverging": [
            [
             0,
             "#8e0152"
            ],
            [
             0.1,
             "#c51b7d"
            ],
            [
             0.2,
             "#de77ae"
            ],
            [
             0.3,
             "#f1b6da"
            ],
            [
             0.4,
             "#fde0ef"
            ],
            [
             0.5,
             "#f7f7f7"
            ],
            [
             0.6,
             "#e6f5d0"
            ],
            [
             0.7,
             "#b8e186"
            ],
            [
             0.8,
             "#7fbc41"
            ],
            [
             0.9,
             "#4d9221"
            ],
            [
             1,
             "#276419"
            ]
           ],
           "sequential": [
            [
             0,
             "#0d0887"
            ],
            [
             0.1111111111111111,
             "#46039f"
            ],
            [
             0.2222222222222222,
             "#7201a8"
            ],
            [
             0.3333333333333333,
             "#9c179e"
            ],
            [
             0.4444444444444444,
             "#bd3786"
            ],
            [
             0.5555555555555556,
             "#d8576b"
            ],
            [
             0.6666666666666666,
             "#ed7953"
            ],
            [
             0.7777777777777778,
             "#fb9f3a"
            ],
            [
             0.8888888888888888,
             "#fdca26"
            ],
            [
             1,
             "#f0f921"
            ]
           ],
           "sequentialminus": [
            [
             0,
             "#0d0887"
            ],
            [
             0.1111111111111111,
             "#46039f"
            ],
            [
             0.2222222222222222,
             "#7201a8"
            ],
            [
             0.3333333333333333,
             "#9c179e"
            ],
            [
             0.4444444444444444,
             "#bd3786"
            ],
            [
             0.5555555555555556,
             "#d8576b"
            ],
            [
             0.6666666666666666,
             "#ed7953"
            ],
            [
             0.7777777777777778,
             "#fb9f3a"
            ],
            [
             0.8888888888888888,
             "#fdca26"
            ],
            [
             1,
             "#f0f921"
            ]
           ]
          },
          "colorway": [
           "#636efa",
           "#EF553B",
           "#00cc96",
           "#ab63fa",
           "#FFA15A",
           "#19d3f3",
           "#FF6692",
           "#B6E880",
           "#FF97FF",
           "#FECB52"
          ],
          "font": {
           "color": "#2a3f5f"
          },
          "geo": {
           "bgcolor": "white",
           "lakecolor": "white",
           "landcolor": "#E5ECF6",
           "showlakes": true,
           "showland": true,
           "subunitcolor": "white"
          },
          "hoverlabel": {
           "align": "left"
          },
          "hovermode": "closest",
          "mapbox": {
           "style": "light"
          },
          "paper_bgcolor": "white",
          "plot_bgcolor": "#E5ECF6",
          "polar": {
           "angularaxis": {
            "gridcolor": "white",
            "linecolor": "white",
            "ticks": ""
           },
           "bgcolor": "#E5ECF6",
           "radialaxis": {
            "gridcolor": "white",
            "linecolor": "white",
            "ticks": ""
           }
          },
          "scene": {
           "xaxis": {
            "backgroundcolor": "#E5ECF6",
            "gridcolor": "white",
            "gridwidth": 2,
            "linecolor": "white",
            "showbackground": true,
            "ticks": "",
            "zerolinecolor": "white"
           },
           "yaxis": {
            "backgroundcolor": "#E5ECF6",
            "gridcolor": "white",
            "gridwidth": 2,
            "linecolor": "white",
            "showbackground": true,
            "ticks": "",
            "zerolinecolor": "white"
           },
           "zaxis": {
            "backgroundcolor": "#E5ECF6",
            "gridcolor": "white",
            "gridwidth": 2,
            "linecolor": "white",
            "showbackground": true,
            "ticks": "",
            "zerolinecolor": "white"
           }
          },
          "shapedefaults": {
           "line": {
            "color": "#2a3f5f"
           }
          },
          "ternary": {
           "aaxis": {
            "gridcolor": "white",
            "linecolor": "white",
            "ticks": ""
           },
           "baxis": {
            "gridcolor": "white",
            "linecolor": "white",
            "ticks": ""
           },
           "bgcolor": "#E5ECF6",
           "caxis": {
            "gridcolor": "white",
            "linecolor": "white",
            "ticks": ""
           }
          },
          "title": {
           "x": 0.05
          },
          "xaxis": {
           "automargin": true,
           "gridcolor": "white",
           "linecolor": "white",
           "ticks": "",
           "title": {
            "standoff": 15
           },
           "zerolinecolor": "white",
           "zerolinewidth": 2
          },
          "yaxis": {
           "automargin": true,
           "gridcolor": "white",
           "linecolor": "white",
           "ticks": "",
           "title": {
            "standoff": 15
           },
           "zerolinecolor": "white",
           "zerolinewidth": 2
          }
         }
        }
       }
      },
      "text/html": [
       "<div>                            <div id=\"6814204d-287b-4107-99ee-cdb519ba7b59\" class=\"plotly-graph-div\" style=\"height:525px; width:100%;\"></div>            <script type=\"text/javascript\">                require([\"plotly\"], function(Plotly) {                    window.PLOTLYENV=window.PLOTLYENV || {};                                    if (document.getElementById(\"6814204d-287b-4107-99ee-cdb519ba7b59\")) {                    Plotly.newPlot(                        \"6814204d-287b-4107-99ee-cdb519ba7b59\",                        [{\"dimensions\": [{\"label\": \"n_hid\", \"values\": [100.0, 50.0, 50.0, 200.0, 100.0, 50.0, 100.0, 100.0, 100.0, 10.0, 10.0, 50.0, 10.0, 10.0, 50.0, 100.0, 10.0, 10.0, 100.0, 10.0, 50.0, 200.0, 200.0, 200.0, 50.0, 200.0, 50.0, 50.0, 10.0, 100.0, 100.0, 200.0, 10.0, 100.0, 200.0]}, {\"label\": \"n_head\", \"values\": [1.0, 2.0, 2.0, 4.0, 1.0, 1.0, 1.0, 4.0, 4.0, 2.0, 2.0, 2.0, 1.0, 2.0, 1.0, 1.0, 4.0, 1.0, 4.0, 1.0, 1.0, 4.0, 1.0, 4.0, 4.0, 2.0, 2.0, 4.0, 1.0, 1.0, 1.0, 2.0, 4.0, 4.0, 2.0]}, {\"label\": \"n_layers\", \"values\": [1.0, 1.0, 4.0, 2.0, 1.0, 4.0, 1.0, 2.0, 2.0, 4.0, 1.0, 2.0, 4.0, 2.0, 1.0, 1.0, 1.0, 1.0, 1.0, 2.0, 1.0, 4.0, 1.0, 4.0, 1.0, 4.0, 4.0, 2.0, 2.0, 4.0, 1.0, 2.0, 1.0, 4.0, 2.0]}, {\"label\": \"num_filters\", \"values\": [50.0, 200.0, 100.0, 50.0, 50.0, 50.0, 50.0, 100.0, 100.0, 50.0, 10.0, 200.0, 200.0, 10.0, 10.0, 50.0, 100.0, 100.0, 100.0, 10.0, 50.0, 50.0, 10.0, 10.0, 100.0, 50.0, 100.0, 200.0, 50.0, 10.0, 50.0, 100.0, 50.0, 50.0, 100.0]}, {\"label\": \"dropout\", \"values\": [0.2, 0.2, 0.0, 0.0, 0.2, 0.2, 0.2, 0.4, 0.6, 0.2, 0.6, 0.0, 0.2, 0.2, 0.2, 0.2, 0.6, 0.4, 0.0, 0.4, 0.6, 0.0, 0.0, 0.0, 0.2, 0.2, 0.2, 0.6, 0.4, 0.4, 0.2, 0.2, 0.0, 0.6, 0.2]}, {\"label\": \"hist_size\", \"values\": [30.0, 20.0, 30.0, 20.0, 10.0, 20.0, 10.0, 20.0, 20.0, 30.0, 30.0, 30.0, 30.0, 20.0, 20.0, 10.0, 30.0, 30.0, 30.0, 30.0, 30.0, 30.0, 20.0, 30.0, 30.0, 20.0, 20.0, 20.0, 20.0, 30.0, 10.0, 30.0, 30.0, 30.0, 30.0]}, {\"label\": \"WeightDecay\", \"values\": [1e-05, 1e-05, 0.0, 0.0, 0.0, 0.0, 0.0, 0.0001, 0.0001, 1e-05, 0.0001, 0.0, 0.0, 1e-05, 0.0001, 0.0, 1e-06, 0.0, 0.0, 1e-06, 0.0001, 1e-06, 0.0, 0.0001, 0.0001, 1e-06, 1e-05, 1e-05, 0.0, 1e-05, 0.0, 0.0, 0.0001, 0.0001, 1e-06]}], \"domain\": {\"x\": [0.0, 1.0], \"y\": [0.0, 1.0]}, \"line\": {\"color\": [0.5125931644679917, 0.5209739279353681, 0.42060058435540604, 0.4888106703156818, 0.502617973212952, 0.4251586325649859, 0.4408136288783355, 0.5375138921929233, 0.47607819794380707, 0.3979359034184666, 0.49636344938418003, 0.4838611428878209, 0.41640337292623475, 0.49864207805510063, 0.5600474288285083, 0.4417007740033451, 0.4262190467033847, 0.4608586973529808, 0.5049538952393772, 0.41127223785198713, 0.5000570617161118, 0.4314742838011916, 0.49601430423760356, 0.5268605116558389, 0.5812551628515172, 0.4154951995147932, 0.41261006173222997, 0.4131104401846024, 0.42145971626653067, 0.40689412563816585, 0.506382372445821, 0.43754887340812376, 0.5446671509747595, 0.4490151141138656, 0.438886327595977], \"coloraxis\": \"coloraxis\"}, \"name\": \"\", \"type\": \"parcats\"}],                        {\"coloraxis\": {\"colorbar\": {\"title\": {\"text\": \"ndcg_at_10\"}}, \"colorscale\": [[0.0, \"rgb(255,255,204)\"], [0.125, \"rgb(255,237,160)\"], [0.25, \"rgb(254,217,118)\"], [0.375, \"rgb(254,178,76)\"], [0.5, \"rgb(253,141,60)\"], [0.625, \"rgb(252,78,42)\"], [0.75, \"rgb(227,26,28)\"], [0.875, \"rgb(189,0,38)\"], [1.0, \"rgb(128,0,38)\"]]}, \"legend\": {\"tracegroupgap\": 0}, \"margin\": {\"t\": 60}, \"template\": {\"data\": {\"bar\": [{\"error_x\": {\"color\": \"#2a3f5f\"}, \"error_y\": {\"color\": \"#2a3f5f\"}, \"marker\": {\"line\": {\"color\": \"#E5ECF6\", \"width\": 0.5}}, \"type\": \"bar\"}], \"barpolar\": [{\"marker\": {\"line\": {\"color\": \"#E5ECF6\", \"width\": 0.5}}, \"type\": \"barpolar\"}], \"carpet\": [{\"aaxis\": {\"endlinecolor\": \"#2a3f5f\", \"gridcolor\": \"white\", \"linecolor\": \"white\", \"minorgridcolor\": \"white\", \"startlinecolor\": \"#2a3f5f\"}, \"baxis\": {\"endlinecolor\": \"#2a3f5f\", \"gridcolor\": \"white\", \"linecolor\": \"white\", \"minorgridcolor\": \"white\", \"startlinecolor\": \"#2a3f5f\"}, \"type\": \"carpet\"}], \"choropleth\": [{\"colorbar\": {\"outlinewidth\": 0, \"ticks\": \"\"}, \"type\": \"choropleth\"}], \"contour\": [{\"colorbar\": {\"outlinewidth\": 0, \"ticks\": \"\"}, \"colorscale\": [[0.0, \"#0d0887\"], [0.1111111111111111, \"#46039f\"], [0.2222222222222222, \"#7201a8\"], [0.3333333333333333, \"#9c179e\"], [0.4444444444444444, \"#bd3786\"], [0.5555555555555556, \"#d8576b\"], [0.6666666666666666, \"#ed7953\"], [0.7777777777777778, \"#fb9f3a\"], [0.8888888888888888, \"#fdca26\"], [1.0, \"#f0f921\"]], \"type\": \"contour\"}], \"contourcarpet\": [{\"colorbar\": {\"outlinewidth\": 0, \"ticks\": \"\"}, \"type\": \"contourcarpet\"}], \"heatmap\": [{\"colorbar\": {\"outlinewidth\": 0, \"ticks\": \"\"}, \"colorscale\": [[0.0, \"#0d0887\"], [0.1111111111111111, \"#46039f\"], [0.2222222222222222, \"#7201a8\"], [0.3333333333333333, \"#9c179e\"], [0.4444444444444444, \"#bd3786\"], [0.5555555555555556, \"#d8576b\"], [0.6666666666666666, \"#ed7953\"], [0.7777777777777778, \"#fb9f3a\"], [0.8888888888888888, \"#fdca26\"], [1.0, \"#f0f921\"]], \"type\": \"heatmap\"}], \"heatmapgl\": [{\"colorbar\": {\"outlinewidth\": 0, \"ticks\": \"\"}, \"colorscale\": [[0.0, \"#0d0887\"], [0.1111111111111111, \"#46039f\"], [0.2222222222222222, \"#7201a8\"], [0.3333333333333333, \"#9c179e\"], [0.4444444444444444, \"#bd3786\"], [0.5555555555555556, \"#d8576b\"], [0.6666666666666666, \"#ed7953\"], [0.7777777777777778, \"#fb9f3a\"], [0.8888888888888888, \"#fdca26\"], [1.0, \"#f0f921\"]], \"type\": \"heatmapgl\"}], \"histogram\": [{\"marker\": {\"colorbar\": {\"outlinewidth\": 0, \"ticks\": \"\"}}, \"type\": \"histogram\"}], \"histogram2d\": [{\"colorbar\": {\"outlinewidth\": 0, \"ticks\": \"\"}, \"colorscale\": [[0.0, \"#0d0887\"], [0.1111111111111111, \"#46039f\"], [0.2222222222222222, \"#7201a8\"], [0.3333333333333333, \"#9c179e\"], [0.4444444444444444, \"#bd3786\"], [0.5555555555555556, \"#d8576b\"], [0.6666666666666666, \"#ed7953\"], [0.7777777777777778, \"#fb9f3a\"], [0.8888888888888888, \"#fdca26\"], [1.0, \"#f0f921\"]], \"type\": \"histogram2d\"}], \"histogram2dcontour\": [{\"colorbar\": {\"outlinewidth\": 0, \"ticks\": \"\"}, \"colorscale\": [[0.0, \"#0d0887\"], [0.1111111111111111, \"#46039f\"], [0.2222222222222222, \"#7201a8\"], [0.3333333333333333, \"#9c179e\"], [0.4444444444444444, \"#bd3786\"], [0.5555555555555556, \"#d8576b\"], [0.6666666666666666, \"#ed7953\"], [0.7777777777777778, \"#fb9f3a\"], [0.8888888888888888, \"#fdca26\"], [1.0, \"#f0f921\"]], \"type\": \"histogram2dcontour\"}], \"mesh3d\": [{\"colorbar\": {\"outlinewidth\": 0, \"ticks\": \"\"}, \"type\": \"mesh3d\"}], \"parcoords\": [{\"line\": {\"colorbar\": {\"outlinewidth\": 0, \"ticks\": \"\"}}, \"type\": \"parcoords\"}], \"pie\": [{\"automargin\": true, \"type\": \"pie\"}], \"scatter\": [{\"marker\": {\"colorbar\": {\"outlinewidth\": 0, \"ticks\": \"\"}}, \"type\": \"scatter\"}], \"scatter3d\": [{\"line\": {\"colorbar\": {\"outlinewidth\": 0, \"ticks\": \"\"}}, \"marker\": {\"colorbar\": {\"outlinewidth\": 0, \"ticks\": \"\"}}, \"type\": \"scatter3d\"}], \"scattercarpet\": [{\"marker\": {\"colorbar\": {\"outlinewidth\": 0, \"ticks\": \"\"}}, \"type\": \"scattercarpet\"}], \"scattergeo\": [{\"marker\": {\"colorbar\": {\"outlinewidth\": 0, \"ticks\": \"\"}}, \"type\": \"scattergeo\"}], \"scattergl\": [{\"marker\": {\"colorbar\": {\"outlinewidth\": 0, \"ticks\": \"\"}}, \"type\": \"scattergl\"}], \"scattermapbox\": [{\"marker\": {\"colorbar\": {\"outlinewidth\": 0, \"ticks\": \"\"}}, \"type\": \"scattermapbox\"}], \"scatterpolar\": [{\"marker\": {\"colorbar\": {\"outlinewidth\": 0, \"ticks\": \"\"}}, \"type\": \"scatterpolar\"}], \"scatterpolargl\": [{\"marker\": {\"colorbar\": {\"outlinewidth\": 0, \"ticks\": \"\"}}, \"type\": \"scatterpolargl\"}], \"scatterternary\": [{\"marker\": {\"colorbar\": {\"outlinewidth\": 0, \"ticks\": \"\"}}, \"type\": \"scatterternary\"}], \"surface\": [{\"colorbar\": {\"outlinewidth\": 0, \"ticks\": \"\"}, \"colorscale\": [[0.0, \"#0d0887\"], [0.1111111111111111, \"#46039f\"], [0.2222222222222222, \"#7201a8\"], [0.3333333333333333, \"#9c179e\"], [0.4444444444444444, \"#bd3786\"], [0.5555555555555556, \"#d8576b\"], [0.6666666666666666, \"#ed7953\"], [0.7777777777777778, \"#fb9f3a\"], [0.8888888888888888, \"#fdca26\"], [1.0, \"#f0f921\"]], \"type\": \"surface\"}], \"table\": [{\"cells\": {\"fill\": {\"color\": \"#EBF0F8\"}, \"line\": {\"color\": \"white\"}}, \"header\": {\"fill\": {\"color\": \"#C8D4E3\"}, \"line\": {\"color\": \"white\"}}, \"type\": \"table\"}]}, \"layout\": {\"annotationdefaults\": {\"arrowcolor\": \"#2a3f5f\", \"arrowhead\": 0, \"arrowwidth\": 1}, \"coloraxis\": {\"colorbar\": {\"outlinewidth\": 0, \"ticks\": \"\"}}, \"colorscale\": {\"diverging\": [[0, \"#8e0152\"], [0.1, \"#c51b7d\"], [0.2, \"#de77ae\"], [0.3, \"#f1b6da\"], [0.4, \"#fde0ef\"], [0.5, \"#f7f7f7\"], [0.6, \"#e6f5d0\"], [0.7, \"#b8e186\"], [0.8, \"#7fbc41\"], [0.9, \"#4d9221\"], [1, \"#276419\"]], \"sequential\": [[0.0, \"#0d0887\"], [0.1111111111111111, \"#46039f\"], [0.2222222222222222, \"#7201a8\"], [0.3333333333333333, \"#9c179e\"], [0.4444444444444444, \"#bd3786\"], [0.5555555555555556, \"#d8576b\"], [0.6666666666666666, \"#ed7953\"], [0.7777777777777778, \"#fb9f3a\"], [0.8888888888888888, \"#fdca26\"], [1.0, \"#f0f921\"]], \"sequentialminus\": [[0.0, \"#0d0887\"], [0.1111111111111111, \"#46039f\"], [0.2222222222222222, \"#7201a8\"], [0.3333333333333333, \"#9c179e\"], [0.4444444444444444, \"#bd3786\"], [0.5555555555555556, \"#d8576b\"], [0.6666666666666666, \"#ed7953\"], [0.7777777777777778, \"#fb9f3a\"], [0.8888888888888888, \"#fdca26\"], [1.0, \"#f0f921\"]]}, \"colorway\": [\"#636efa\", \"#EF553B\", \"#00cc96\", \"#ab63fa\", \"#FFA15A\", \"#19d3f3\", \"#FF6692\", \"#B6E880\", \"#FF97FF\", \"#FECB52\"], \"font\": {\"color\": \"#2a3f5f\"}, \"geo\": {\"bgcolor\": \"white\", \"lakecolor\": \"white\", \"landcolor\": \"#E5ECF6\", \"showlakes\": true, \"showland\": true, \"subunitcolor\": \"white\"}, \"hoverlabel\": {\"align\": \"left\"}, \"hovermode\": \"closest\", \"mapbox\": {\"style\": \"light\"}, \"paper_bgcolor\": \"white\", \"plot_bgcolor\": \"#E5ECF6\", \"polar\": {\"angularaxis\": {\"gridcolor\": \"white\", \"linecolor\": \"white\", \"ticks\": \"\"}, \"bgcolor\": \"#E5ECF6\", \"radialaxis\": {\"gridcolor\": \"white\", \"linecolor\": \"white\", \"ticks\": \"\"}}, \"scene\": {\"xaxis\": {\"backgroundcolor\": \"#E5ECF6\", \"gridcolor\": \"white\", \"gridwidth\": 2, \"linecolor\": \"white\", \"showbackground\": true, \"ticks\": \"\", \"zerolinecolor\": \"white\"}, \"yaxis\": {\"backgroundcolor\": \"#E5ECF6\", \"gridcolor\": \"white\", \"gridwidth\": 2, \"linecolor\": \"white\", \"showbackground\": true, \"ticks\": \"\", \"zerolinecolor\": \"white\"}, \"zaxis\": {\"backgroundcolor\": \"#E5ECF6\", \"gridcolor\": \"white\", \"gridwidth\": 2, \"linecolor\": \"white\", \"showbackground\": true, \"ticks\": \"\", \"zerolinecolor\": \"white\"}}, \"shapedefaults\": {\"line\": {\"color\": \"#2a3f5f\"}}, \"ternary\": {\"aaxis\": {\"gridcolor\": \"white\", \"linecolor\": \"white\", \"ticks\": \"\"}, \"baxis\": {\"gridcolor\": \"white\", \"linecolor\": \"white\", \"ticks\": \"\"}, \"bgcolor\": \"#E5ECF6\", \"caxis\": {\"gridcolor\": \"white\", \"linecolor\": \"white\", \"ticks\": \"\"}}, \"title\": {\"x\": 0.05}, \"xaxis\": {\"automargin\": true, \"gridcolor\": \"white\", \"linecolor\": \"white\", \"ticks\": \"\", \"title\": {\"standoff\": 15}, \"zerolinecolor\": \"white\", \"zerolinewidth\": 2}, \"yaxis\": {\"automargin\": true, \"gridcolor\": \"white\", \"linecolor\": \"white\", \"ticks\": \"\", \"title\": {\"standoff\": 15}, \"zerolinecolor\": \"white\", \"zerolinewidth\": 2}}}},                        {\"responsive\": true}                    ).then(function(){\n",
       "                            \n",
       "var gd = document.getElementById('6814204d-287b-4107-99ee-cdb519ba7b59');\n",
       "var x = new MutationObserver(function (mutations, observer) {{\n",
       "        var display = window.getComputedStyle(gd).display;\n",
       "        if (!display || display === 'none') {{\n",
       "            console.log([gd, 'removed!']);\n",
       "            Plotly.purge(gd);\n",
       "            observer.disconnect();\n",
       "        }}\n",
       "}});\n",
       "\n",
       "// Listen for the removal of the full notebook cells\n",
       "var notebookContainer = gd.closest('#notebook-container');\n",
       "if (notebookContainer) {{\n",
       "    x.observe(notebookContainer, {childList: true});\n",
       "}}\n",
       "\n",
       "// Listen for the clearing of the current output cell\n",
       "var outputEl = gd.closest('.output');\n",
       "if (outputEl) {{\n",
       "    x.observe(outputEl, {childList: true});\n",
       "}}\n",
       "\n",
       "                        })                };                });            </script>        </div>"
      ]
     },
     "metadata": {},
     "output_type": "display_data"
    }
   ],
   "source": [
    "import plotly.express as px\n",
    "\n",
    "columns = {\n",
    "    'recommender_extra_params.n_hid': 'n_hid',\n",
    "    'recommender_extra_params.n_head': 'n_head',\n",
    "    'recommender_extra_params.n_layers': 'n_layers',\n",
    "    'recommender_extra_params.num_filters': \"num_filters\",\n",
    "    'recommender_extra_params.dropout': \"dropout\",\n",
    "    'recommender_extra_params.hist_size': \"hist_size\",\n",
    "    'optimizer_params.weight_decay': \"WeightDecay\",\n",
    "}\n",
    "\n",
    "# df = df.sort_values(['data_frames_preparation_extra_params.max_itens_per_session_y', \n",
    "#                      'data_frames_preparation_extra_params.max_relative_pos_y',\n",
    "#                      'data_frames_preparation_extra_params.pos_max_deep_y',\n",
    "#                      'data_frames_preparation_extra_params.filter_first_interaction_y'])\n",
    "\n",
    "fig = px.parallel_categories(df, dimensions=list(columns.keys()),\n",
    "                color=\"ndcg_at_10\", \n",
    "                color_continuous_scale=px.colors.sequential.YlOrRd,\n",
    "                labels=columns)\n",
    "fig.show()"
   ]
  },
  {
   "cell_type": "code",
   "execution_count": 115,
   "metadata": {},
   "outputs": [
    {
     "data": {
      "text/plain": [
       "recommender_extra_params.n_hid          50.00\n",
       "recommender_extra_params.n_head          4.00\n",
       "recommender_extra_params.n_layers        1.00\n",
       "recommender_extra_params.num_filters   100.00\n",
       "recommender_extra_params.dropout         0.20\n",
       "recommender_extra_params.hist_size      30.00\n",
       "optimizer_params.weight_decay            0.00\n",
       "Name: 25, dtype: object"
      ]
     },
     "execution_count": 115,
     "metadata": {},
     "output_type": "execute_result"
    }
   ],
   "source": [
    "df.sort_values(['ndcg_at_10'], ascending=False).iloc[0][columns.keys()]"
   ]
  },
  {
   "cell_type": "code",
   "execution_count": 66,
   "metadata": {
    "scrolled": true
   },
   "outputs": [
    {
     "data": {
      "text/html": [
       "<div>\n",
       "<style scoped>\n",
       "    .dataframe tbody tr th:only-of-type {\n",
       "        vertical-align: middle;\n",
       "    }\n",
       "\n",
       "    .dataframe tbody tr th {\n",
       "        vertical-align: top;\n",
       "    }\n",
       "\n",
       "    .dataframe thead th {\n",
       "        text-align: right;\n",
       "    }\n",
       "</style>\n",
       "<table border=\"1\" class=\"dataframe\">\n",
       "  <thead>\n",
       "    <tr style=\"text-align: right;\">\n",
       "      <th></th>\n",
       "      <th>path_x</th>\n",
       "      <th>model_task</th>\n",
       "      <th>count</th>\n",
       "      <th>mean_average_precision</th>\n",
       "      <th>precision_at_1</th>\n",
       "      <th>mrr_at_5</th>\n",
       "      <th>mrr_at_10</th>\n",
       "      <th>ndcg_at_5</th>\n",
       "      <th>ndcg_at_10</th>\n",
       "      <th>ndcg_at_15</th>\n",
       "      <th>...</th>\n",
       "      <th>recommender_extra_params.n_head</th>\n",
       "      <th>recommender_extra_params.num_filters</th>\n",
       "      <th>recommender_extra_params.hist_size</th>\n",
       "      <th>optimizer_params.weight_decay</th>\n",
       "      <th>recommender_extra_params.num_blocks</th>\n",
       "      <th>recommender_extra_params.num_heads</th>\n",
       "      <th>recommender_extra_params.p_L</th>\n",
       "      <th>recommender_extra_params.p_d</th>\n",
       "      <th>recommender_extra_params.p_nh</th>\n",
       "      <th>recommender_extra_params.p_nv</th>\n",
       "    </tr>\n",
       "  </thead>\n",
       "  <tbody>\n",
       "    <tr>\n",
       "      <th>0</th>\n",
       "      <td>SupervisedModelTraining____mars_gym_model_b___...</td>\n",
       "      <td>SupervisedModelTraining____mars_gym_model_b___...</td>\n",
       "      <td>1883</td>\n",
       "      <td>0.47</td>\n",
       "      <td>0.40</td>\n",
       "      <td>0.45</td>\n",
       "      <td>0.46</td>\n",
       "      <td>0.49</td>\n",
       "      <td>0.52</td>\n",
       "      <td>0.54</td>\n",
       "      <td>...</td>\n",
       "      <td>2.00</td>\n",
       "      <td>200.00</td>\n",
       "      <td>20.00</td>\n",
       "      <td>0.00</td>\n",
       "      <td>nan</td>\n",
       "      <td>nan</td>\n",
       "      <td>nan</td>\n",
       "      <td>nan</td>\n",
       "      <td>nan</td>\n",
       "      <td>nan</td>\n",
       "    </tr>\n",
       "    <tr>\n",
       "      <th>1</th>\n",
       "      <td>SupervisedModelTraining____mars_gym_model_b___...</td>\n",
       "      <td>SupervisedModelTraining____mars_gym_model_b___...</td>\n",
       "      <td>1883</td>\n",
       "      <td>0.44</td>\n",
       "      <td>0.37</td>\n",
       "      <td>0.42</td>\n",
       "      <td>0.43</td>\n",
       "      <td>0.46</td>\n",
       "      <td>0.49</td>\n",
       "      <td>0.50</td>\n",
       "      <td>...</td>\n",
       "      <td>4.00</td>\n",
       "      <td>50.00</td>\n",
       "      <td>20.00</td>\n",
       "      <td>0.00</td>\n",
       "      <td>nan</td>\n",
       "      <td>nan</td>\n",
       "      <td>nan</td>\n",
       "      <td>nan</td>\n",
       "      <td>nan</td>\n",
       "      <td>nan</td>\n",
       "    </tr>\n",
       "    <tr>\n",
       "      <th>2</th>\n",
       "      <td>SupervisedModelTraining____mars_gym_model_b___...</td>\n",
       "      <td>SupervisedModelTraining____mars_gym_model_b___...</td>\n",
       "      <td>1883</td>\n",
       "      <td>0.45</td>\n",
       "      <td>0.38</td>\n",
       "      <td>0.43</td>\n",
       "      <td>0.44</td>\n",
       "      <td>0.48</td>\n",
       "      <td>0.50</td>\n",
       "      <td>0.52</td>\n",
       "      <td>...</td>\n",
       "      <td>1.00</td>\n",
       "      <td>50.00</td>\n",
       "      <td>10.00</td>\n",
       "      <td>0.00</td>\n",
       "      <td>nan</td>\n",
       "      <td>nan</td>\n",
       "      <td>nan</td>\n",
       "      <td>nan</td>\n",
       "      <td>nan</td>\n",
       "      <td>nan</td>\n",
       "    </tr>\n",
       "    <tr>\n",
       "      <th>3</th>\n",
       "      <td>SupervisedModelTraining____mars_gym_model_b___...</td>\n",
       "      <td>SupervisedModelTraining____mars_gym_model_b___...</td>\n",
       "      <td>1883</td>\n",
       "      <td>0.40</td>\n",
       "      <td>0.33</td>\n",
       "      <td>0.37</td>\n",
       "      <td>0.38</td>\n",
       "      <td>0.41</td>\n",
       "      <td>0.44</td>\n",
       "      <td>0.46</td>\n",
       "      <td>...</td>\n",
       "      <td>1.00</td>\n",
       "      <td>50.00</td>\n",
       "      <td>10.00</td>\n",
       "      <td>0.00</td>\n",
       "      <td>nan</td>\n",
       "      <td>nan</td>\n",
       "      <td>nan</td>\n",
       "      <td>nan</td>\n",
       "      <td>nan</td>\n",
       "      <td>nan</td>\n",
       "    </tr>\n",
       "    <tr>\n",
       "      <th>4</th>\n",
       "      <td>SupervisedModelTraining____mars_gym_model_b___...</td>\n",
       "      <td>SupervisedModelTraining____mars_gym_model_b___...</td>\n",
       "      <td>1883</td>\n",
       "      <td>0.43</td>\n",
       "      <td>0.36</td>\n",
       "      <td>0.41</td>\n",
       "      <td>0.41</td>\n",
       "      <td>0.45</td>\n",
       "      <td>0.48</td>\n",
       "      <td>0.49</td>\n",
       "      <td>...</td>\n",
       "      <td>4.00</td>\n",
       "      <td>100.00</td>\n",
       "      <td>20.00</td>\n",
       "      <td>0.00</td>\n",
       "      <td>nan</td>\n",
       "      <td>nan</td>\n",
       "      <td>nan</td>\n",
       "      <td>nan</td>\n",
       "      <td>nan</td>\n",
       "      <td>nan</td>\n",
       "    </tr>\n",
       "    <tr>\n",
       "      <th>5</th>\n",
       "      <td>SupervisedModelTraining____mars_gym_model_b___...</td>\n",
       "      <td>SupervisedModelTraining____mars_gym_model_b___...</td>\n",
       "      <td>1883</td>\n",
       "      <td>0.36</td>\n",
       "      <td>0.29</td>\n",
       "      <td>0.33</td>\n",
       "      <td>0.34</td>\n",
       "      <td>0.37</td>\n",
       "      <td>0.40</td>\n",
       "      <td>0.42</td>\n",
       "      <td>...</td>\n",
       "      <td>2.00</td>\n",
       "      <td>50.00</td>\n",
       "      <td>30.00</td>\n",
       "      <td>0.00</td>\n",
       "      <td>nan</td>\n",
       "      <td>nan</td>\n",
       "      <td>nan</td>\n",
       "      <td>nan</td>\n",
       "      <td>nan</td>\n",
       "      <td>nan</td>\n",
       "    </tr>\n",
       "    <tr>\n",
       "      <th>6</th>\n",
       "      <td>SupervisedModelTraining____mars_gym_model_b___...</td>\n",
       "      <td>SupervisedModelTraining____mars_gym_model_b___...</td>\n",
       "      <td>1883</td>\n",
       "      <td>0.45</td>\n",
       "      <td>0.38</td>\n",
       "      <td>0.43</td>\n",
       "      <td>0.44</td>\n",
       "      <td>0.47</td>\n",
       "      <td>0.50</td>\n",
       "      <td>0.51</td>\n",
       "      <td>...</td>\n",
       "      <td>2.00</td>\n",
       "      <td>10.00</td>\n",
       "      <td>30.00</td>\n",
       "      <td>0.00</td>\n",
       "      <td>nan</td>\n",
       "      <td>nan</td>\n",
       "      <td>nan</td>\n",
       "      <td>nan</td>\n",
       "      <td>nan</td>\n",
       "      <td>nan</td>\n",
       "    </tr>\n",
       "    <tr>\n",
       "      <th>7</th>\n",
       "      <td>SupervisedModelTraining____mars_gym_model_b___...</td>\n",
       "      <td>SupervisedModelTraining____mars_gym_model_b___...</td>\n",
       "      <td>1883</td>\n",
       "      <td>0.44</td>\n",
       "      <td>0.36</td>\n",
       "      <td>0.42</td>\n",
       "      <td>0.43</td>\n",
       "      <td>0.47</td>\n",
       "      <td>0.50</td>\n",
       "      <td>0.51</td>\n",
       "      <td>...</td>\n",
       "      <td>2.00</td>\n",
       "      <td>10.00</td>\n",
       "      <td>20.00</td>\n",
       "      <td>0.00</td>\n",
       "      <td>nan</td>\n",
       "      <td>nan</td>\n",
       "      <td>nan</td>\n",
       "      <td>nan</td>\n",
       "      <td>nan</td>\n",
       "      <td>nan</td>\n",
       "    </tr>\n",
       "    <tr>\n",
       "      <th>8</th>\n",
       "      <td>SupervisedModelTraining____mars_gym_model_b___...</td>\n",
       "      <td>SupervisedModelTraining____mars_gym_model_b___...</td>\n",
       "      <td>1883</td>\n",
       "      <td>0.39</td>\n",
       "      <td>0.32</td>\n",
       "      <td>0.37</td>\n",
       "      <td>0.38</td>\n",
       "      <td>0.41</td>\n",
       "      <td>0.44</td>\n",
       "      <td>0.46</td>\n",
       "      <td>...</td>\n",
       "      <td>1.00</td>\n",
       "      <td>50.00</td>\n",
       "      <td>10.00</td>\n",
       "      <td>0.00</td>\n",
       "      <td>nan</td>\n",
       "      <td>nan</td>\n",
       "      <td>nan</td>\n",
       "      <td>nan</td>\n",
       "      <td>nan</td>\n",
       "      <td>nan</td>\n",
       "    </tr>\n",
       "    <tr>\n",
       "      <th>9</th>\n",
       "      <td>SupervisedModelTraining____mars_gym_model_b___...</td>\n",
       "      <td>SupervisedModelTraining____mars_gym_model_b___...</td>\n",
       "      <td>1883</td>\n",
       "      <td>0.41</td>\n",
       "      <td>0.34</td>\n",
       "      <td>0.38</td>\n",
       "      <td>0.40</td>\n",
       "      <td>0.43</td>\n",
       "      <td>0.46</td>\n",
       "      <td>0.48</td>\n",
       "      <td>...</td>\n",
       "      <td>1.00</td>\n",
       "      <td>100.00</td>\n",
       "      <td>30.00</td>\n",
       "      <td>0.00</td>\n",
       "      <td>nan</td>\n",
       "      <td>nan</td>\n",
       "      <td>nan</td>\n",
       "      <td>nan</td>\n",
       "      <td>nan</td>\n",
       "      <td>nan</td>\n",
       "    </tr>\n",
       "    <tr>\n",
       "      <th>10</th>\n",
       "      <td>SupervisedModelTraining____mars_gym_model_b___...</td>\n",
       "      <td>SupervisedModelTraining____mars_gym_model_b___...</td>\n",
       "      <td>1883</td>\n",
       "      <td>0.46</td>\n",
       "      <td>0.39</td>\n",
       "      <td>0.43</td>\n",
       "      <td>0.44</td>\n",
       "      <td>0.48</td>\n",
       "      <td>0.50</td>\n",
       "      <td>0.52</td>\n",
       "      <td>...</td>\n",
       "      <td>4.00</td>\n",
       "      <td>100.00</td>\n",
       "      <td>30.00</td>\n",
       "      <td>0.00</td>\n",
       "      <td>nan</td>\n",
       "      <td>nan</td>\n",
       "      <td>nan</td>\n",
       "      <td>nan</td>\n",
       "      <td>nan</td>\n",
       "      <td>nan</td>\n",
       "    </tr>\n",
       "    <tr>\n",
       "      <th>11</th>\n",
       "      <td>SupervisedModelTraining____mars_gym_model_b___...</td>\n",
       "      <td>SupervisedModelTraining____mars_gym_model_b___...</td>\n",
       "      <td>1883</td>\n",
       "      <td>0.44</td>\n",
       "      <td>0.36</td>\n",
       "      <td>0.42</td>\n",
       "      <td>0.43</td>\n",
       "      <td>0.47</td>\n",
       "      <td>0.50</td>\n",
       "      <td>0.51</td>\n",
       "      <td>...</td>\n",
       "      <td>1.00</td>\n",
       "      <td>10.00</td>\n",
       "      <td>20.00</td>\n",
       "      <td>0.00</td>\n",
       "      <td>nan</td>\n",
       "      <td>nan</td>\n",
       "      <td>nan</td>\n",
       "      <td>nan</td>\n",
       "      <td>nan</td>\n",
       "      <td>nan</td>\n",
       "    </tr>\n",
       "    <tr>\n",
       "      <th>12</th>\n",
       "      <td>SupervisedModelTraining____mars_gym_model_b___...</td>\n",
       "      <td>SupervisedModelTraining____mars_gym_model_b___...</td>\n",
       "      <td>1883</td>\n",
       "      <td>0.37</td>\n",
       "      <td>0.31</td>\n",
       "      <td>0.34</td>\n",
       "      <td>0.36</td>\n",
       "      <td>0.38</td>\n",
       "      <td>0.41</td>\n",
       "      <td>0.43</td>\n",
       "      <td>...</td>\n",
       "      <td>4.00</td>\n",
       "      <td>200.00</td>\n",
       "      <td>20.00</td>\n",
       "      <td>0.00</td>\n",
       "      <td>nan</td>\n",
       "      <td>nan</td>\n",
       "      <td>nan</td>\n",
       "      <td>nan</td>\n",
       "      <td>nan</td>\n",
       "      <td>nan</td>\n",
       "    </tr>\n",
       "    <tr>\n",
       "      <th>13</th>\n",
       "      <td>SupervisedModelTraining____mars_gym_model_b___...</td>\n",
       "      <td>SupervisedModelTraining____mars_gym_model_b___...</td>\n",
       "      <td>1883</td>\n",
       "      <td>0.38</td>\n",
       "      <td>0.30</td>\n",
       "      <td>0.35</td>\n",
       "      <td>0.36</td>\n",
       "      <td>0.39</td>\n",
       "      <td>0.42</td>\n",
       "      <td>0.44</td>\n",
       "      <td>...</td>\n",
       "      <td>1.00</td>\n",
       "      <td>50.00</td>\n",
       "      <td>20.00</td>\n",
       "      <td>0.00</td>\n",
       "      <td>nan</td>\n",
       "      <td>nan</td>\n",
       "      <td>nan</td>\n",
       "      <td>nan</td>\n",
       "      <td>nan</td>\n",
       "      <td>nan</td>\n",
       "    </tr>\n",
       "    <tr>\n",
       "      <th>14</th>\n",
       "      <td>SupervisedModelTraining____mars_gym_model_b___...</td>\n",
       "      <td>SupervisedModelTraining____mars_gym_model_b___...</td>\n",
       "      <td>1883</td>\n",
       "      <td>0.45</td>\n",
       "      <td>0.38</td>\n",
       "      <td>0.43</td>\n",
       "      <td>0.44</td>\n",
       "      <td>0.48</td>\n",
       "      <td>0.51</td>\n",
       "      <td>0.52</td>\n",
       "      <td>...</td>\n",
       "      <td>1.00</td>\n",
       "      <td>50.00</td>\n",
       "      <td>10.00</td>\n",
       "      <td>0.00</td>\n",
       "      <td>nan</td>\n",
       "      <td>nan</td>\n",
       "      <td>nan</td>\n",
       "      <td>nan</td>\n",
       "      <td>nan</td>\n",
       "      <td>nan</td>\n",
       "    </tr>\n",
       "    <tr>\n",
       "      <th>15</th>\n",
       "      <td>SupervisedModelTraining____mars_gym_model_b___...</td>\n",
       "      <td>SupervisedModelTraining____mars_gym_model_b___...</td>\n",
       "      <td>1883</td>\n",
       "      <td>0.50</td>\n",
       "      <td>0.43</td>\n",
       "      <td>0.48</td>\n",
       "      <td>0.49</td>\n",
       "      <td>0.52</td>\n",
       "      <td>0.54</td>\n",
       "      <td>0.56</td>\n",
       "      <td>...</td>\n",
       "      <td>4.00</td>\n",
       "      <td>50.00</td>\n",
       "      <td>30.00</td>\n",
       "      <td>0.00</td>\n",
       "      <td>nan</td>\n",
       "      <td>nan</td>\n",
       "      <td>nan</td>\n",
       "      <td>nan</td>\n",
       "      <td>nan</td>\n",
       "      <td>nan</td>\n",
       "    </tr>\n",
       "    <tr>\n",
       "      <th>16</th>\n",
       "      <td>SupervisedModelTraining____mars_gym_model_b___...</td>\n",
       "      <td>SupervisedModelTraining____mars_gym_model_b___...</td>\n",
       "      <td>1883</td>\n",
       "      <td>0.39</td>\n",
       "      <td>0.31</td>\n",
       "      <td>0.36</td>\n",
       "      <td>0.37</td>\n",
       "      <td>0.41</td>\n",
       "      <td>0.44</td>\n",
       "      <td>0.46</td>\n",
       "      <td>...</td>\n",
       "      <td>2.00</td>\n",
       "      <td>100.00</td>\n",
       "      <td>30.00</td>\n",
       "      <td>0.00</td>\n",
       "      <td>nan</td>\n",
       "      <td>nan</td>\n",
       "      <td>nan</td>\n",
       "      <td>nan</td>\n",
       "      <td>nan</td>\n",
       "      <td>nan</td>\n",
       "    </tr>\n",
       "  </tbody>\n",
       "</table>\n",
       "<p>17 rows × 332 columns</p>\n",
       "</div>"
      ],
      "text/plain": [
       "                                               path_x  \\\n",
       "0   SupervisedModelTraining____mars_gym_model_b___...   \n",
       "1   SupervisedModelTraining____mars_gym_model_b___...   \n",
       "2   SupervisedModelTraining____mars_gym_model_b___...   \n",
       "3   SupervisedModelTraining____mars_gym_model_b___...   \n",
       "4   SupervisedModelTraining____mars_gym_model_b___...   \n",
       "5   SupervisedModelTraining____mars_gym_model_b___...   \n",
       "6   SupervisedModelTraining____mars_gym_model_b___...   \n",
       "7   SupervisedModelTraining____mars_gym_model_b___...   \n",
       "8   SupervisedModelTraining____mars_gym_model_b___...   \n",
       "9   SupervisedModelTraining____mars_gym_model_b___...   \n",
       "10  SupervisedModelTraining____mars_gym_model_b___...   \n",
       "11  SupervisedModelTraining____mars_gym_model_b___...   \n",
       "12  SupervisedModelTraining____mars_gym_model_b___...   \n",
       "13  SupervisedModelTraining____mars_gym_model_b___...   \n",
       "14  SupervisedModelTraining____mars_gym_model_b___...   \n",
       "15  SupervisedModelTraining____mars_gym_model_b___...   \n",
       "16  SupervisedModelTraining____mars_gym_model_b___...   \n",
       "\n",
       "                                           model_task  count  \\\n",
       "0   SupervisedModelTraining____mars_gym_model_b___...   1883   \n",
       "1   SupervisedModelTraining____mars_gym_model_b___...   1883   \n",
       "2   SupervisedModelTraining____mars_gym_model_b___...   1883   \n",
       "3   SupervisedModelTraining____mars_gym_model_b___...   1883   \n",
       "4   SupervisedModelTraining____mars_gym_model_b___...   1883   \n",
       "5   SupervisedModelTraining____mars_gym_model_b___...   1883   \n",
       "6   SupervisedModelTraining____mars_gym_model_b___...   1883   \n",
       "7   SupervisedModelTraining____mars_gym_model_b___...   1883   \n",
       "8   SupervisedModelTraining____mars_gym_model_b___...   1883   \n",
       "9   SupervisedModelTraining____mars_gym_model_b___...   1883   \n",
       "10  SupervisedModelTraining____mars_gym_model_b___...   1883   \n",
       "11  SupervisedModelTraining____mars_gym_model_b___...   1883   \n",
       "12  SupervisedModelTraining____mars_gym_model_b___...   1883   \n",
       "13  SupervisedModelTraining____mars_gym_model_b___...   1883   \n",
       "14  SupervisedModelTraining____mars_gym_model_b___...   1883   \n",
       "15  SupervisedModelTraining____mars_gym_model_b___...   1883   \n",
       "16  SupervisedModelTraining____mars_gym_model_b___...   1883   \n",
       "\n",
       "    mean_average_precision  precision_at_1  mrr_at_5  mrr_at_10  ndcg_at_5  \\\n",
       "0                     0.47            0.40      0.45       0.46       0.49   \n",
       "1                     0.44            0.37      0.42       0.43       0.46   \n",
       "2                     0.45            0.38      0.43       0.44       0.48   \n",
       "3                     0.40            0.33      0.37       0.38       0.41   \n",
       "4                     0.43            0.36      0.41       0.41       0.45   \n",
       "5                     0.36            0.29      0.33       0.34       0.37   \n",
       "6                     0.45            0.38      0.43       0.44       0.47   \n",
       "7                     0.44            0.36      0.42       0.43       0.47   \n",
       "8                     0.39            0.32      0.37       0.38       0.41   \n",
       "9                     0.41            0.34      0.38       0.40       0.43   \n",
       "10                    0.46            0.39      0.43       0.44       0.48   \n",
       "11                    0.44            0.36      0.42       0.43       0.47   \n",
       "12                    0.37            0.31      0.34       0.36       0.38   \n",
       "13                    0.38            0.30      0.35       0.36       0.39   \n",
       "14                    0.45            0.38      0.43       0.44       0.48   \n",
       "15                    0.50            0.43      0.48       0.49       0.52   \n",
       "16                    0.39            0.31      0.36       0.37       0.41   \n",
       "\n",
       "    ndcg_at_10  ndcg_at_15  ...  recommender_extra_params.n_head  \\\n",
       "0         0.52        0.54  ...                             2.00   \n",
       "1         0.49        0.50  ...                             4.00   \n",
       "2         0.50        0.52  ...                             1.00   \n",
       "3         0.44        0.46  ...                             1.00   \n",
       "4         0.48        0.49  ...                             4.00   \n",
       "5         0.40        0.42  ...                             2.00   \n",
       "6         0.50        0.51  ...                             2.00   \n",
       "7         0.50        0.51  ...                             2.00   \n",
       "8         0.44        0.46  ...                             1.00   \n",
       "9         0.46        0.48  ...                             1.00   \n",
       "10        0.50        0.52  ...                             4.00   \n",
       "11        0.50        0.51  ...                             1.00   \n",
       "12        0.41        0.43  ...                             4.00   \n",
       "13        0.42        0.44  ...                             1.00   \n",
       "14        0.51        0.52  ...                             1.00   \n",
       "15        0.54        0.56  ...                             4.00   \n",
       "16        0.44        0.46  ...                             2.00   \n",
       "\n",
       "    recommender_extra_params.num_filters  recommender_extra_params.hist_size  \\\n",
       "0                                 200.00                               20.00   \n",
       "1                                  50.00                               20.00   \n",
       "2                                  50.00                               10.00   \n",
       "3                                  50.00                               10.00   \n",
       "4                                 100.00                               20.00   \n",
       "5                                  50.00                               30.00   \n",
       "6                                  10.00                               30.00   \n",
       "7                                  10.00                               20.00   \n",
       "8                                  50.00                               10.00   \n",
       "9                                 100.00                               30.00   \n",
       "10                                100.00                               30.00   \n",
       "11                                 10.00                               20.00   \n",
       "12                                200.00                               20.00   \n",
       "13                                 50.00                               20.00   \n",
       "14                                 50.00                               10.00   \n",
       "15                                 50.00                               30.00   \n",
       "16                                100.00                               30.00   \n",
       "\n",
       "    optimizer_params.weight_decay recommender_extra_params.num_blocks  \\\n",
       "0                            0.00                                 nan   \n",
       "1                            0.00                                 nan   \n",
       "2                            0.00                                 nan   \n",
       "3                            0.00                                 nan   \n",
       "4                            0.00                                 nan   \n",
       "5                            0.00                                 nan   \n",
       "6                            0.00                                 nan   \n",
       "7                            0.00                                 nan   \n",
       "8                            0.00                                 nan   \n",
       "9                            0.00                                 nan   \n",
       "10                           0.00                                 nan   \n",
       "11                           0.00                                 nan   \n",
       "12                           0.00                                 nan   \n",
       "13                           0.00                                 nan   \n",
       "14                           0.00                                 nan   \n",
       "15                           0.00                                 nan   \n",
       "16                           0.00                                 nan   \n",
       "\n",
       "   recommender_extra_params.num_heads recommender_extra_params.p_L  \\\n",
       "0                                 nan                          nan   \n",
       "1                                 nan                          nan   \n",
       "2                                 nan                          nan   \n",
       "3                                 nan                          nan   \n",
       "4                                 nan                          nan   \n",
       "5                                 nan                          nan   \n",
       "6                                 nan                          nan   \n",
       "7                                 nan                          nan   \n",
       "8                                 nan                          nan   \n",
       "9                                 nan                          nan   \n",
       "10                                nan                          nan   \n",
       "11                                nan                          nan   \n",
       "12                                nan                          nan   \n",
       "13                                nan                          nan   \n",
       "14                                nan                          nan   \n",
       "15                                nan                          nan   \n",
       "16                                nan                          nan   \n",
       "\n",
       "    recommender_extra_params.p_d  recommender_extra_params.p_nh  \\\n",
       "0                            nan                            nan   \n",
       "1                            nan                            nan   \n",
       "2                            nan                            nan   \n",
       "3                            nan                            nan   \n",
       "4                            nan                            nan   \n",
       "5                            nan                            nan   \n",
       "6                            nan                            nan   \n",
       "7                            nan                            nan   \n",
       "8                            nan                            nan   \n",
       "9                            nan                            nan   \n",
       "10                           nan                            nan   \n",
       "11                           nan                            nan   \n",
       "12                           nan                            nan   \n",
       "13                           nan                            nan   \n",
       "14                           nan                            nan   \n",
       "15                           nan                            nan   \n",
       "16                           nan                            nan   \n",
       "\n",
       "    recommender_extra_params.p_nv  \n",
       "0                             nan  \n",
       "1                             nan  \n",
       "2                             nan  \n",
       "3                             nan  \n",
       "4                             nan  \n",
       "5                             nan  \n",
       "6                             nan  \n",
       "7                             nan  \n",
       "8                             nan  \n",
       "9                             nan  \n",
       "10                            nan  \n",
       "11                            nan  \n",
       "12                            nan  \n",
       "13                            nan  \n",
       "14                            nan  \n",
       "15                            nan  \n",
       "16                            nan  \n",
       "\n",
       "[17 rows x 332 columns]"
      ]
     },
     "execution_count": 66,
     "metadata": {},
     "output_type": "execute_result"
    }
   ],
   "source": [
    "df.merge(params.reset_index(), left_on='model_task', right_on='path', how='left')\n"
   ]
  },
  {
   "cell_type": "code",
   "execution_count": 67,
   "metadata": {},
   "outputs": [
    {
     "data": {
      "text/html": [
       "<div>\n",
       "<style scoped>\n",
       "    .dataframe tbody tr th:only-of-type {\n",
       "        vertical-align: middle;\n",
       "    }\n",
       "\n",
       "    .dataframe tbody tr th {\n",
       "        vertical-align: top;\n",
       "    }\n",
       "\n",
       "    .dataframe thead th {\n",
       "        text-align: right;\n",
       "    }\n",
       "</style>\n",
       "<table border=\"1\" class=\"dataframe\">\n",
       "  <thead>\n",
       "    <tr style=\"text-align: right;\">\n",
       "      <th></th>\n",
       "      <th>model_class</th>\n",
       "      <th>observation_x</th>\n",
       "      <th>observation_x</th>\n",
       "      <th>path_x</th>\n",
       "      <th>path_x</th>\n",
       "      <th>path_x</th>\n",
       "      <th>count</th>\n",
       "      <th>mean_average_precision</th>\n",
       "      <th>precision_at_1</th>\n",
       "      <th>mrr_at_5</th>\n",
       "      <th>ndcg_at_5</th>\n",
       "      <th>mrr_at_10</th>\n",
       "      <th>ndcg_at_10</th>\n",
       "      <th>triplet_path</th>\n",
       "    </tr>\n",
       "  </thead>\n",
       "  <tbody>\n",
       "    <tr>\n",
       "      <th>0</th>\n",
       "      <td>SupervisedModelTraining.model.MLTransformerModel</td>\n",
       "      <td></td>\n",
       "      <td>NaN</td>\n",
       "      <td>SupervisedModelTraining____mars_gym_model_b___...</td>\n",
       "      <td>NaN</td>\n",
       "      <td>SupervisedModelTraining____mars_gym_model_b___...</td>\n",
       "      <td>1883</td>\n",
       "      <td>0.47</td>\n",
       "      <td>0.40</td>\n",
       "      <td>0.45</td>\n",
       "      <td>0.49</td>\n",
       "      <td>0.46</td>\n",
       "      <td>0.52</td>\n",
       "      <td></td>\n",
       "    </tr>\n",
       "    <tr>\n",
       "      <th>1</th>\n",
       "      <td>SupervisedModelTraining.model.MLTransformerModel</td>\n",
       "      <td></td>\n",
       "      <td>NaN</td>\n",
       "      <td>SupervisedModelTraining____mars_gym_model_b___...</td>\n",
       "      <td>NaN</td>\n",
       "      <td>SupervisedModelTraining____mars_gym_model_b___...</td>\n",
       "      <td>1883</td>\n",
       "      <td>0.44</td>\n",
       "      <td>0.37</td>\n",
       "      <td>0.42</td>\n",
       "      <td>0.46</td>\n",
       "      <td>0.43</td>\n",
       "      <td>0.49</td>\n",
       "      <td></td>\n",
       "    </tr>\n",
       "    <tr>\n",
       "      <th>2</th>\n",
       "      <td>SupervisedModelTraining.model.MLTransformerModel</td>\n",
       "      <td>new dropout</td>\n",
       "      <td>NaN</td>\n",
       "      <td>SupervisedModelTraining____mars_gym_model_b___...</td>\n",
       "      <td>NaN</td>\n",
       "      <td>SupervisedModelTraining____mars_gym_model_b___...</td>\n",
       "      <td>1883</td>\n",
       "      <td>0.45</td>\n",
       "      <td>0.38</td>\n",
       "      <td>0.43</td>\n",
       "      <td>0.48</td>\n",
       "      <td>0.44</td>\n",
       "      <td>0.50</td>\n",
       "      <td></td>\n",
       "    </tr>\n",
       "    <tr>\n",
       "      <th>3</th>\n",
       "      <td>SupervisedModelTraining.model.MLTransformerModel</td>\n",
       "      <td>without time3</td>\n",
       "      <td>NaN</td>\n",
       "      <td>SupervisedModelTraining____mars_gym_model_b___...</td>\n",
       "      <td>NaN</td>\n",
       "      <td>SupervisedModelTraining____mars_gym_model_b___...</td>\n",
       "      <td>1883</td>\n",
       "      <td>0.40</td>\n",
       "      <td>0.33</td>\n",
       "      <td>0.37</td>\n",
       "      <td>0.41</td>\n",
       "      <td>0.38</td>\n",
       "      <td>0.44</td>\n",
       "      <td></td>\n",
       "    </tr>\n",
       "    <tr>\n",
       "      <th>4</th>\n",
       "      <td>SupervisedModelTraining.model.MLTransformerModel</td>\n",
       "      <td></td>\n",
       "      <td>NaN</td>\n",
       "      <td>SupervisedModelTraining____mars_gym_model_b___...</td>\n",
       "      <td>NaN</td>\n",
       "      <td>SupervisedModelTraining____mars_gym_model_b___...</td>\n",
       "      <td>1883</td>\n",
       "      <td>0.43</td>\n",
       "      <td>0.36</td>\n",
       "      <td>0.41</td>\n",
       "      <td>0.45</td>\n",
       "      <td>0.41</td>\n",
       "      <td>0.48</td>\n",
       "      <td></td>\n",
       "    </tr>\n",
       "  </tbody>\n",
       "</table>\n",
       "</div>"
      ],
      "text/plain": [
       "                                        model_class  observation_x  \\\n",
       "0  SupervisedModelTraining.model.MLTransformerModel                  \n",
       "1  SupervisedModelTraining.model.MLTransformerModel                  \n",
       "2  SupervisedModelTraining.model.MLTransformerModel    new dropout   \n",
       "3  SupervisedModelTraining.model.MLTransformerModel  without time3   \n",
       "4  SupervisedModelTraining.model.MLTransformerModel                  \n",
       "\n",
       "  observation_x                                             path_x path_x  \\\n",
       "0           NaN  SupervisedModelTraining____mars_gym_model_b___...    NaN   \n",
       "1           NaN  SupervisedModelTraining____mars_gym_model_b___...    NaN   \n",
       "2           NaN  SupervisedModelTraining____mars_gym_model_b___...    NaN   \n",
       "3           NaN  SupervisedModelTraining____mars_gym_model_b___...    NaN   \n",
       "4           NaN  SupervisedModelTraining____mars_gym_model_b___...    NaN   \n",
       "\n",
       "                                              path_x  count  \\\n",
       "0  SupervisedModelTraining____mars_gym_model_b___...   1883   \n",
       "1  SupervisedModelTraining____mars_gym_model_b___...   1883   \n",
       "2  SupervisedModelTraining____mars_gym_model_b___...   1883   \n",
       "3  SupervisedModelTraining____mars_gym_model_b___...   1883   \n",
       "4  SupervisedModelTraining____mars_gym_model_b___...   1883   \n",
       "\n",
       "   mean_average_precision  precision_at_1  mrr_at_5  ndcg_at_5  mrr_at_10  \\\n",
       "0                    0.47            0.40      0.45       0.49       0.46   \n",
       "1                    0.44            0.37      0.42       0.46       0.43   \n",
       "2                    0.45            0.38      0.43       0.48       0.44   \n",
       "3                    0.40            0.33      0.37       0.41       0.38   \n",
       "4                    0.43            0.36      0.41       0.45       0.41   \n",
       "\n",
       "   ndcg_at_10 triplet_path  \n",
       "0        0.52               \n",
       "1        0.49               \n",
       "2        0.50               \n",
       "3        0.44               \n",
       "4        0.48               "
      ]
     },
     "execution_count": 67,
     "metadata": {},
     "output_type": "execute_result"
    }
   ],
   "source": [
    "#df['use_embedding'] = (df['recommender_extra_params.path_item_embedding'].fillna(False) != False)\n",
    "\n",
    "df = df.merge(params.reset_index(), left_on='model_task', right_on='path', how='left')\n",
    "\n",
    "columns = [\n",
    "    'model_class',\n",
    "    'observation_x',\n",
    "    'path_x',\n",
    "    'count',\n",
    "    \"mean_average_precision\", \"precision_at_1\", \"mrr_at_5\", \"ndcg_at_5\", \"mrr_at_10\", \"ndcg_at_10\",\n",
    "    'triplet_path'\n",
    "    ]\n",
    "\n",
    "df_metrics = df[columns]\n",
    "df_metrics.head()"
   ]
  },
  {
   "cell_type": "code",
   "execution_count": 60,
   "metadata": {},
   "outputs": [
    {
     "ename": "ValueError",
     "evalue": "style is not supported for non-unique indices.",
     "output_type": "error",
     "traceback": [
      "\u001b[0;31m---------------------------------------------------------------------------\u001b[0m",
      "\u001b[0;31mValueError\u001b[0m                                Traceback (most recent call last)",
      "\u001b[0;32m<ipython-input-60-69a1f154803d>\u001b[0m in \u001b[0;36m<module>\u001b[0;34m\u001b[0m\n\u001b[1;32m      1\u001b[0m \u001b[0mdf_metrics\u001b[0m \u001b[0;34m=\u001b[0m \u001b[0mdf_metrics\u001b[0m\u001b[0;34m.\u001b[0m\u001b[0msort_values\u001b[0m\u001b[0;34m(\u001b[0m\u001b[0;34m[\u001b[0m\u001b[0;34m\"model_class\"\u001b[0m\u001b[0;34m,\u001b[0m\u001b[0;34m\"observation_x\"\u001b[0m\u001b[0;34m,\u001b[0m \u001b[0;34m\"mean_average_precision\"\u001b[0m\u001b[0;34m,\u001b[0m  \u001b[0;34m\"precision_at_1\"\u001b[0m\u001b[0;34m,\u001b[0m \u001b[0;34m'mrr_at_5'\u001b[0m\u001b[0;34m,\u001b[0m \u001b[0;34m'ndcg_at_10'\u001b[0m\u001b[0;34m]\u001b[0m\u001b[0;34m)\u001b[0m\u001b[0;34m\u001b[0m\u001b[0;34m\u001b[0m\u001b[0m\n\u001b[1;32m      2\u001b[0m \u001b[0;34m\u001b[0m\u001b[0m\n\u001b[0;32m----> 3\u001b[0;31m df_metrics.sort_values(['ndcg_at_10']).style.bar(subset=[\"mean_average_precision\",  \"precision_at_1\", 'mrr_at_5', 'ndcg_at_5', 'mrr_at_10', 'ndcg_at_10'], \n\u001b[0m\u001b[1;32m      4\u001b[0m                      align='zero', color=['#d65f5f', '#5fba7d'])\n",
      "\u001b[0;32m~/anaconda3/envs/triplet-session/lib/python3.6/site-packages/pandas/core/frame.py\u001b[0m in \u001b[0;36mstyle\u001b[0;34m(self)\u001b[0m\n\u001b[1;32m    794\u001b[0m         \u001b[0;32mfrom\u001b[0m \u001b[0mpandas\u001b[0m\u001b[0;34m.\u001b[0m\u001b[0mio\u001b[0m\u001b[0;34m.\u001b[0m\u001b[0mformats\u001b[0m\u001b[0;34m.\u001b[0m\u001b[0mstyle\u001b[0m \u001b[0;32mimport\u001b[0m \u001b[0mStyler\u001b[0m\u001b[0;34m\u001b[0m\u001b[0;34m\u001b[0m\u001b[0m\n\u001b[1;32m    795\u001b[0m \u001b[0;34m\u001b[0m\u001b[0m\n\u001b[0;32m--> 796\u001b[0;31m         \u001b[0;32mreturn\u001b[0m \u001b[0mStyler\u001b[0m\u001b[0;34m(\u001b[0m\u001b[0mself\u001b[0m\u001b[0;34m)\u001b[0m\u001b[0;34m\u001b[0m\u001b[0;34m\u001b[0m\u001b[0m\n\u001b[0m\u001b[1;32m    797\u001b[0m \u001b[0;34m\u001b[0m\u001b[0m\n\u001b[1;32m    798\u001b[0m     _shared_docs[\n",
      "\u001b[0;32m~/anaconda3/envs/triplet-session/lib/python3.6/site-packages/pandas/io/formats/style.py\u001b[0m in \u001b[0;36m__init__\u001b[0;34m(self, data, precision, table_styles, uuid, caption, table_attributes, cell_ids)\u001b[0m\n\u001b[1;32m    131\u001b[0m             \u001b[0mdata\u001b[0m \u001b[0;34m=\u001b[0m \u001b[0mdata\u001b[0m\u001b[0;34m.\u001b[0m\u001b[0mto_frame\u001b[0m\u001b[0;34m(\u001b[0m\u001b[0;34m)\u001b[0m\u001b[0;34m\u001b[0m\u001b[0;34m\u001b[0m\u001b[0m\n\u001b[1;32m    132\u001b[0m         \u001b[0;32mif\u001b[0m \u001b[0;32mnot\u001b[0m \u001b[0mdata\u001b[0m\u001b[0;34m.\u001b[0m\u001b[0mindex\u001b[0m\u001b[0;34m.\u001b[0m\u001b[0mis_unique\u001b[0m \u001b[0;32mor\u001b[0m \u001b[0;32mnot\u001b[0m \u001b[0mdata\u001b[0m\u001b[0;34m.\u001b[0m\u001b[0mcolumns\u001b[0m\u001b[0;34m.\u001b[0m\u001b[0mis_unique\u001b[0m\u001b[0;34m:\u001b[0m\u001b[0;34m\u001b[0m\u001b[0;34m\u001b[0m\u001b[0m\n\u001b[0;32m--> 133\u001b[0;31m             \u001b[0;32mraise\u001b[0m \u001b[0mValueError\u001b[0m\u001b[0;34m(\u001b[0m\u001b[0;34m\"style is not supported for non-unique indices.\"\u001b[0m\u001b[0;34m)\u001b[0m\u001b[0;34m\u001b[0m\u001b[0;34m\u001b[0m\u001b[0m\n\u001b[0m\u001b[1;32m    134\u001b[0m \u001b[0;34m\u001b[0m\u001b[0m\n\u001b[1;32m    135\u001b[0m         \u001b[0mself\u001b[0m\u001b[0;34m.\u001b[0m\u001b[0mdata\u001b[0m \u001b[0;34m=\u001b[0m \u001b[0mdata\u001b[0m\u001b[0;34m\u001b[0m\u001b[0;34m\u001b[0m\u001b[0m\n",
      "\u001b[0;31mValueError\u001b[0m: style is not supported for non-unique indices."
     ]
    }
   ],
   "source": [
    "df_metrics = df_metrics.sort_values([\"model_class\",\"observation_x\", \"mean_average_precision\",  \"precision_at_1\", 'mrr_at_5', 'ndcg_at_10'])\n",
    "\n",
    "df_metrics.sort_values(['ndcg_at_10']).style.bar(subset=[\"mean_average_precision\",  \"precision_at_1\", 'mrr_at_5', 'ndcg_at_5', 'mrr_at_10', 'ndcg_at_10'], \n",
    "                     align='zero', color=['#d65f5f', '#5fba7d'])\n"
   ]
  },
  {
   "cell_type": "code",
   "execution_count": 19,
   "metadata": {},
   "outputs": [
    {
     "ename": "NameError",
     "evalue": "name 'df_metrics' is not defined",
     "output_type": "error",
     "traceback": [
      "\u001b[0;31m---------------------------------------------------------------------------\u001b[0m",
      "\u001b[0;31mNameError\u001b[0m                                 Traceback (most recent call last)",
      "\u001b[0;32m<ipython-input-19-3eb3ca27e882>\u001b[0m in \u001b[0;36m<module>\u001b[0;34m\u001b[0m\n\u001b[0;32m----> 1\u001b[0;31m \u001b[0mdf_metrics\u001b[0m\u001b[0;34m.\u001b[0m\u001b[0msort_values\u001b[0m\u001b[0;34m(\u001b[0m\u001b[0;34m[\u001b[0m\u001b[0;34m'ndcg_at_10'\u001b[0m\u001b[0;34m]\u001b[0m\u001b[0;34m)\u001b[0m\u001b[0;34m.\u001b[0m\u001b[0miloc\u001b[0m\u001b[0;34m[\u001b[0m\u001b[0;34m-\u001b[0m\u001b[0;36m2\u001b[0m\u001b[0;34m]\u001b[0m\u001b[0;34m.\u001b[0m\u001b[0mpath_x\u001b[0m\u001b[0;34m\u001b[0m\u001b[0;34m\u001b[0m\u001b[0m\n\u001b[0m",
      "\u001b[0;31mNameError\u001b[0m: name 'df_metrics' is not defined"
     ]
    }
   ],
   "source": [
    "df_metrics.sort_values(['ndcg_at_10']).iloc[-2].path_x"
   ]
  },
  {
   "cell_type": "code",
   "execution_count": 51,
   "metadata": {},
   "outputs": [
    {
     "data": {
      "text/plain": [
       "(12, 21)"
      ]
     },
     "execution_count": 51,
     "metadata": {},
     "output_type": "execute_result"
    }
   ],
   "source": [
    "df_metrics[df_metrics.model_class.isin([\"SupervisedModelTraining.model.NARMModel\"])].shape"
   ]
  },
  {
   "cell_type": "code",
   "execution_count": 53,
   "metadata": {},
   "outputs": [],
   "source": [
    "# import plotly.express as px\n",
    "\n",
    "# columns = {\n",
    "#     'recommender_extra_params.hidden_size_y': \"hidden_size\",\n",
    "#     'recommender_extra_params.n_layers_y': \"n_layers\",\n",
    "#     'recommender_extra_params.dropout_y': \"Dropout\",\n",
    "#     'optimizer_params.weight_decay_y': \"WeightDecay\"\n",
    "# }\n",
    "\n",
    "# # df = df.sort_values(['data_frames_preparation_extra_params.max_itens_per_session_y', \n",
    "# #                      'data_frames_preparation_extra_params.max_relative_pos_y',\n",
    "# #                      'data_frames_preparation_extra_params.pos_max_deep_y',\n",
    "# #                      'data_frames_preparation_extra_params.filter_first_interaction_y'])\n",
    "# df  = df_metrics[df_metrics.model_class.isin([\"SupervisedModelTraining.model.NARMModel\"])]\n",
    "\n",
    "# fig = px.parallel_categories(df, dimensions=list(columns.keys()),\n",
    "#                 color=\"ndcg_at_10\", \n",
    "#                 color_continuous_scale=px.colors.sequential.YlOrRd,\n",
    "#                 labels=columns)\n",
    "# fig.show()"
   ]
  },
  {
   "cell_type": "code",
   "execution_count": 48,
   "metadata": {},
   "outputs": [],
   "source": [
    "df_metrics.to_csv('output/metrics.csv')"
   ]
  },
  {
   "cell_type": "code",
   "execution_count": 49,
   "metadata": {},
   "outputs": [
    {
     "name": "stdout",
     "output_type": "stream",
     "text": [
      "(0, 20)\n"
     ]
    },
    {
     "data": {
      "text/html": [
       "<style  type=\"text/css\" >\n",
       "</style><table id=\"T_6e694130_2018_11eb_aedc_c100596128d3\" ><thead>    <tr>        <th class=\"blank level0\" ></th>        <th class=\"col_heading level0 col0\" >model_class</th>        <th class=\"col_heading level0 col1\" >observation_x</th>        <th class=\"col_heading level0 col2\" >count</th>        <th class=\"col_heading level0 col3\" >mean_average_precision</th>        <th class=\"col_heading level0 col4\" >precision_at_1</th>        <th class=\"col_heading level0 col5\" >mrr_at_5</th>        <th class=\"col_heading level0 col6\" >ndcg_at_5</th>        <th class=\"col_heading level0 col7\" >mrr_at_10</th>        <th class=\"col_heading level0 col8\" >ndcg_at_10</th>        <th class=\"col_heading level0 col9\" >triplet_path</th>        <th class=\"col_heading level0 col10\" >data_frames_preparation_extra_params.sample_days_y</th>        <th class=\"col_heading level0 col11\" >data_frames_preparation_extra_params.max_itens_per_session_y</th>        <th class=\"col_heading level0 col12\" >data_frames_preparation_extra_params.min_itens_interactions_y</th>        <th class=\"col_heading level0 col13\" >data_frames_preparation_extra_params.max_relative_pos_y</th>        <th class=\"col_heading level0 col14\" >data_frames_preparation_extra_params.pos_max_deep_y</th>        <th class=\"col_heading level0 col15\" >data_frames_preparation_extra_params.filter_first_interaction_y</th>        <th class=\"col_heading level0 col16\" >loss_function_params.l2_reg_y</th>        <th class=\"col_heading level0 col17\" >optimizer_params.weight_decay_y</th>        <th class=\"col_heading level0 col18\" >recommender_extra_params.dropout_y</th>        <th class=\"col_heading level0 col19\" >recommender_extra_params.negative_random_y</th>    </tr></thead><tbody>\n",
       "        </tbody></table>"
      ],
      "text/plain": [
       "<pandas.io.formats.style.Styler at 0x7f52e176c358>"
      ]
     },
     "execution_count": 49,
     "metadata": {},
     "output_type": "execute_result"
    }
   ],
   "source": [
    "df  = df_metrics[df_metrics.model_class.isin([\"TripletPredTraining.None\"])]\n",
    "print(df.shape)\n",
    "df.style.bar(subset=[\"mean_average_precision\",  \"precision_at_1\", 'mrr_at_5', 'ndcg_at_5', 'mrr_at_10', 'ndcg_at_10'], \n",
    "                     align='zero', color=['#d65f5f', '#5fba7d'])"
   ]
  },
  {
   "cell_type": "code",
   "execution_count": 24,
   "metadata": {},
   "outputs": [
    {
     "data": {
      "text/plain": [
       "(56, 21)"
      ]
     },
     "execution_count": 24,
     "metadata": {},
     "output_type": "execute_result"
    }
   ],
   "source": [
    "df.shape"
   ]
  },
  {
   "cell_type": "code",
   "execution_count": 25,
   "metadata": {},
   "outputs": [
    {
     "data": {
      "application/vnd.plotly.v1+json": {
       "config": {
        "plotlyServerURL": "https://plot.ly"
       },
       "data": [
        {
         "dimensions": [
          {
           "label": "MaxItemPerSession",
           "values": [
            5,
            20,
            5,
            20,
            30,
            20,
            10,
            5,
            30,
            5,
            5,
            30,
            20,
            20,
            5,
            5,
            20,
            5,
            30,
            10,
            30,
            5,
            30,
            30,
            20,
            10,
            5,
            10,
            5,
            20,
            30,
            5,
            30,
            20,
            20,
            30,
            30,
            20,
            30,
            10,
            30,
            30,
            30,
            20,
            10,
            10,
            10,
            20,
            20,
            5,
            20,
            30,
            10,
            30,
            20,
            20
           ]
          },
          {
           "label": "MinItemInteraction",
           "values": [
            8,
            8,
            8,
            8,
            8,
            8,
            4,
            8,
            4,
            8,
            8,
            8,
            8,
            8,
            8,
            4,
            8,
            8,
            4,
            2,
            2,
            2,
            2,
            8,
            4,
            8,
            8,
            8,
            8,
            4,
            4,
            4,
            4,
            4,
            4,
            4,
            4,
            4,
            4,
            2,
            4,
            4,
            2,
            2,
            2,
            2,
            2,
            2,
            2,
            2,
            2,
            2,
            2,
            2,
            2,
            2
           ]
          },
          {
           "label": "MaxRelativePos",
           "values": [
            1,
            1,
            1,
            24,
            8,
            24,
            24,
            1,
            4,
            2,
            2,
            1,
            1,
            2,
            2,
            16,
            8,
            1,
            1,
            4,
            8,
            8,
            16,
            8,
            1,
            16,
            24,
            8,
            8,
            2,
            16,
            4,
            8,
            4,
            4,
            2,
            4,
            24,
            24,
            16,
            8,
            16,
            2,
            2,
            2,
            16,
            4,
            2,
            2,
            16,
            16,
            16,
            24,
            8,
            16,
            4
           ]
          },
          {
           "label": "PositiveDeep",
           "values": [
            2,
            2,
            1,
            3,
            1,
            0,
            3,
            2,
            0,
            0,
            3,
            0,
            3,
            2,
            3,
            2,
            2,
            1,
            3,
            1,
            2,
            0,
            2,
            1,
            2,
            0,
            3,
            0,
            1,
            1,
            1,
            0,
            2,
            3,
            0,
            3,
            3,
            2,
            0,
            2,
            3,
            1,
            1,
            1,
            3,
            0,
            2,
            3,
            1,
            2,
            2,
            2,
            2,
            1,
            1,
            0
           ]
          },
          {
           "label": "FilterOnlyOne",
           "values": [
            false,
            true,
            true,
            true,
            true,
            true,
            true,
            true,
            true,
            true,
            false,
            false,
            false,
            true,
            true,
            true,
            true,
            false,
            false,
            true,
            false,
            false,
            true,
            false,
            false,
            false,
            false,
            false,
            false,
            false,
            true,
            true,
            true,
            false,
            false,
            false,
            false,
            false,
            false,
            true,
            false,
            false,
            true,
            false,
            false,
            false,
            false,
            true,
            false,
            false,
            false,
            true,
            false,
            false,
            false,
            false
           ]
          },
          {
           "label": "L2Reg",
           "values": [
            0.01,
            1e-06,
            1e-06,
            0.01,
            0.0001,
            1e-06,
            0.01,
            0.01,
            0.0001,
            0.01,
            0.01,
            0.0001,
            0.0001,
            0.0001,
            0.0001,
            1e-06,
            1e-06,
            0.01,
            1e-06,
            1e-06,
            0.01,
            0.01,
            0.0001,
            0.0001,
            0.01,
            0.01,
            0.0001,
            0.0001,
            1e-06,
            1e-06,
            0.01,
            0.0001,
            1e-06,
            0.01,
            0.0001,
            1e-06,
            1e-06,
            0.0001,
            1e-06,
            0.0001,
            1e-06,
            1e-06,
            0.0001,
            1e-06,
            0.0001,
            0.01,
            1e-06,
            0.0001,
            0.01,
            1e-06,
            1e-06,
            0.0001,
            0.0001,
            1e-06,
            1e-06,
            1e-06
           ]
          },
          {
           "label": "WeightDecay",
           "values": [
            1e-05,
            0.0001,
            1e-06,
            1e-05,
            1e-05,
            1e-05,
            0.0001,
            1e-05,
            1e-05,
            1e-06,
            1e-06,
            1e-05,
            0.0001,
            1e-05,
            1e-05,
            0.0001,
            0.0001,
            0.0001,
            1e-06,
            0.0001,
            1e-06,
            1e-06,
            1e-05,
            1e-06,
            1e-05,
            0.0001,
            1e-06,
            1e-05,
            1e-05,
            1e-06,
            1e-05,
            0.0001,
            0.0001,
            1e-05,
            1e-05,
            1e-05,
            1e-06,
            1e-05,
            0.0001,
            0.0001,
            0.0001,
            1e-05,
            0.0001,
            0.0001,
            1e-05,
            1e-05,
            1e-05,
            1e-05,
            1e-06,
            1e-05,
            0.0001,
            1e-06,
            1e-05,
            1e-05,
            1e-05,
            1e-06
           ]
          },
          {
           "label": "Dropout",
           "values": [
            0.4,
            0.4,
            0.2,
            0,
            0.4,
            0,
            0.2,
            0.2,
            0.4,
            0.2,
            0.4,
            0.4,
            0.2,
            0.4,
            0,
            0.4,
            0,
            0,
            0.4,
            0.4,
            0.4,
            0.4,
            0.4,
            0.4,
            0.2,
            0,
            0.2,
            0.4,
            0.2,
            0,
            0,
            0.4,
            0.2,
            0,
            0.2,
            0,
            0,
            0,
            0.2,
            0.2,
            0,
            0,
            0.2,
            0,
            0,
            0,
            0.4,
            0,
            0,
            0,
            0,
            0.2,
            0,
            0.2,
            0.2,
            0
           ]
          },
          {
           "label": "NegativeRandom",
           "values": [
            0,
            0.05,
            0.1,
            0.05,
            0.05,
            0.2,
            0.05,
            0,
            0.2,
            0,
            0,
            0,
            0.1,
            0,
            0.1,
            0.2,
            0,
            0,
            0.05,
            0.2,
            0.1,
            0.2,
            0.05,
            0.2,
            0,
            0.2,
            0.2,
            0.1,
            0.05,
            0.05,
            0,
            0,
            0,
            0.1,
            0,
            0,
            0,
            0.2,
            0.1,
            0.1,
            0.1,
            0,
            0.1,
            0,
            0.1,
            0.05,
            0,
            0.05,
            0,
            0.2,
            0.2,
            0,
            0,
            0.2,
            0.05,
            0.05
           ]
          }
         ],
         "domain": {
          "x": [
           0,
           1
          ],
          "y": [
           0,
           1
          ]
         },
         "line": {
          "color": [
           0.05608807263301313,
           0.05695035910780525,
           0.05708396753843526,
           0.05789669781955256,
           0.058237928246553876,
           0.05941142595737662,
           0.06168607582080922,
           0.06725144610594931,
           0.06841265482957988,
           0.06902608979834479,
           0.06909196517582626,
           0.0691999401152997,
           0.07030119357901955,
           0.07177762527569023,
           0.07263931357017678,
           0.07297461808020797,
           0.07626005205142734,
           0.084697809457484,
           0.09331313313857098,
           0.09371761893075102,
           0.09547889010431439,
           0.10970033787665108,
           0.1340429569175828,
           0.13926138504080302,
           0.1557736839140505,
           0.15771281742225765,
           0.16297576213887957,
           0.1694677032106464,
           0.17274740150012696,
           0.17556044082987995,
           0.22726490960899243,
           0.22829891427065527,
           0.2717694394732976,
           0.29381393443864307,
           0.30951893192449104,
           0.3473082308728586,
           0.38247936200466565,
           0.40897126563945047,
           0.4105347627136012,
           0.4155265428780192,
           0.4168663137289511,
           0.4183053216872842,
           0.42163151117149034,
           0.4997554599274184,
           0.5012626775159491,
           0.539100398377604,
           0.5556559224252997,
           0.5591593310003534,
           0.5677293334170358,
           0.5875690966522329,
           0.5882173333016109,
           0.5915781652154765,
           0.6241052120094807,
           0.6297437511469072,
           0.6302629035571033,
           0.644270109243362
          ],
          "coloraxis": "coloraxis"
         },
         "name": "",
         "type": "parcats"
        }
       ],
       "layout": {
        "coloraxis": {
         "colorbar": {
          "title": {
           "text": "mean_average_precision"
          }
         },
         "colorscale": [
          [
           0,
           "rgb(255,255,204)"
          ],
          [
           0.125,
           "rgb(255,237,160)"
          ],
          [
           0.25,
           "rgb(254,217,118)"
          ],
          [
           0.375,
           "rgb(254,178,76)"
          ],
          [
           0.5,
           "rgb(253,141,60)"
          ],
          [
           0.625,
           "rgb(252,78,42)"
          ],
          [
           0.75,
           "rgb(227,26,28)"
          ],
          [
           0.875,
           "rgb(189,0,38)"
          ],
          [
           1,
           "rgb(128,0,38)"
          ]
         ]
        },
        "legend": {
         "tracegroupgap": 0
        },
        "margin": {
         "t": 60
        },
        "template": {
         "data": {
          "bar": [
           {
            "error_x": {
             "color": "#2a3f5f"
            },
            "error_y": {
             "color": "#2a3f5f"
            },
            "marker": {
             "line": {
              "color": "#E5ECF6",
              "width": 0.5
             }
            },
            "type": "bar"
           }
          ],
          "barpolar": [
           {
            "marker": {
             "line": {
              "color": "#E5ECF6",
              "width": 0.5
             }
            },
            "type": "barpolar"
           }
          ],
          "carpet": [
           {
            "aaxis": {
             "endlinecolor": "#2a3f5f",
             "gridcolor": "white",
             "linecolor": "white",
             "minorgridcolor": "white",
             "startlinecolor": "#2a3f5f"
            },
            "baxis": {
             "endlinecolor": "#2a3f5f",
             "gridcolor": "white",
             "linecolor": "white",
             "minorgridcolor": "white",
             "startlinecolor": "#2a3f5f"
            },
            "type": "carpet"
           }
          ],
          "choropleth": [
           {
            "colorbar": {
             "outlinewidth": 0,
             "ticks": ""
            },
            "type": "choropleth"
           }
          ],
          "contour": [
           {
            "colorbar": {
             "outlinewidth": 0,
             "ticks": ""
            },
            "colorscale": [
             [
              0,
              "#0d0887"
             ],
             [
              0.1111111111111111,
              "#46039f"
             ],
             [
              0.2222222222222222,
              "#7201a8"
             ],
             [
              0.3333333333333333,
              "#9c179e"
             ],
             [
              0.4444444444444444,
              "#bd3786"
             ],
             [
              0.5555555555555556,
              "#d8576b"
             ],
             [
              0.6666666666666666,
              "#ed7953"
             ],
             [
              0.7777777777777778,
              "#fb9f3a"
             ],
             [
              0.8888888888888888,
              "#fdca26"
             ],
             [
              1,
              "#f0f921"
             ]
            ],
            "type": "contour"
           }
          ],
          "contourcarpet": [
           {
            "colorbar": {
             "outlinewidth": 0,
             "ticks": ""
            },
            "type": "contourcarpet"
           }
          ],
          "heatmap": [
           {
            "colorbar": {
             "outlinewidth": 0,
             "ticks": ""
            },
            "colorscale": [
             [
              0,
              "#0d0887"
             ],
             [
              0.1111111111111111,
              "#46039f"
             ],
             [
              0.2222222222222222,
              "#7201a8"
             ],
             [
              0.3333333333333333,
              "#9c179e"
             ],
             [
              0.4444444444444444,
              "#bd3786"
             ],
             [
              0.5555555555555556,
              "#d8576b"
             ],
             [
              0.6666666666666666,
              "#ed7953"
             ],
             [
              0.7777777777777778,
              "#fb9f3a"
             ],
             [
              0.8888888888888888,
              "#fdca26"
             ],
             [
              1,
              "#f0f921"
             ]
            ],
            "type": "heatmap"
           }
          ],
          "heatmapgl": [
           {
            "colorbar": {
             "outlinewidth": 0,
             "ticks": ""
            },
            "colorscale": [
             [
              0,
              "#0d0887"
             ],
             [
              0.1111111111111111,
              "#46039f"
             ],
             [
              0.2222222222222222,
              "#7201a8"
             ],
             [
              0.3333333333333333,
              "#9c179e"
             ],
             [
              0.4444444444444444,
              "#bd3786"
             ],
             [
              0.5555555555555556,
              "#d8576b"
             ],
             [
              0.6666666666666666,
              "#ed7953"
             ],
             [
              0.7777777777777778,
              "#fb9f3a"
             ],
             [
              0.8888888888888888,
              "#fdca26"
             ],
             [
              1,
              "#f0f921"
             ]
            ],
            "type": "heatmapgl"
           }
          ],
          "histogram": [
           {
            "marker": {
             "colorbar": {
              "outlinewidth": 0,
              "ticks": ""
             }
            },
            "type": "histogram"
           }
          ],
          "histogram2d": [
           {
            "colorbar": {
             "outlinewidth": 0,
             "ticks": ""
            },
            "colorscale": [
             [
              0,
              "#0d0887"
             ],
             [
              0.1111111111111111,
              "#46039f"
             ],
             [
              0.2222222222222222,
              "#7201a8"
             ],
             [
              0.3333333333333333,
              "#9c179e"
             ],
             [
              0.4444444444444444,
              "#bd3786"
             ],
             [
              0.5555555555555556,
              "#d8576b"
             ],
             [
              0.6666666666666666,
              "#ed7953"
             ],
             [
              0.7777777777777778,
              "#fb9f3a"
             ],
             [
              0.8888888888888888,
              "#fdca26"
             ],
             [
              1,
              "#f0f921"
             ]
            ],
            "type": "histogram2d"
           }
          ],
          "histogram2dcontour": [
           {
            "colorbar": {
             "outlinewidth": 0,
             "ticks": ""
            },
            "colorscale": [
             [
              0,
              "#0d0887"
             ],
             [
              0.1111111111111111,
              "#46039f"
             ],
             [
              0.2222222222222222,
              "#7201a8"
             ],
             [
              0.3333333333333333,
              "#9c179e"
             ],
             [
              0.4444444444444444,
              "#bd3786"
             ],
             [
              0.5555555555555556,
              "#d8576b"
             ],
             [
              0.6666666666666666,
              "#ed7953"
             ],
             [
              0.7777777777777778,
              "#fb9f3a"
             ],
             [
              0.8888888888888888,
              "#fdca26"
             ],
             [
              1,
              "#f0f921"
             ]
            ],
            "type": "histogram2dcontour"
           }
          ],
          "mesh3d": [
           {
            "colorbar": {
             "outlinewidth": 0,
             "ticks": ""
            },
            "type": "mesh3d"
           }
          ],
          "parcoords": [
           {
            "line": {
             "colorbar": {
              "outlinewidth": 0,
              "ticks": ""
             }
            },
            "type": "parcoords"
           }
          ],
          "pie": [
           {
            "automargin": true,
            "type": "pie"
           }
          ],
          "scatter": [
           {
            "marker": {
             "colorbar": {
              "outlinewidth": 0,
              "ticks": ""
             }
            },
            "type": "scatter"
           }
          ],
          "scatter3d": [
           {
            "line": {
             "colorbar": {
              "outlinewidth": 0,
              "ticks": ""
             }
            },
            "marker": {
             "colorbar": {
              "outlinewidth": 0,
              "ticks": ""
             }
            },
            "type": "scatter3d"
           }
          ],
          "scattercarpet": [
           {
            "marker": {
             "colorbar": {
              "outlinewidth": 0,
              "ticks": ""
             }
            },
            "type": "scattercarpet"
           }
          ],
          "scattergeo": [
           {
            "marker": {
             "colorbar": {
              "outlinewidth": 0,
              "ticks": ""
             }
            },
            "type": "scattergeo"
           }
          ],
          "scattergl": [
           {
            "marker": {
             "colorbar": {
              "outlinewidth": 0,
              "ticks": ""
             }
            },
            "type": "scattergl"
           }
          ],
          "scattermapbox": [
           {
            "marker": {
             "colorbar": {
              "outlinewidth": 0,
              "ticks": ""
             }
            },
            "type": "scattermapbox"
           }
          ],
          "scatterpolar": [
           {
            "marker": {
             "colorbar": {
              "outlinewidth": 0,
              "ticks": ""
             }
            },
            "type": "scatterpolar"
           }
          ],
          "scatterpolargl": [
           {
            "marker": {
             "colorbar": {
              "outlinewidth": 0,
              "ticks": ""
             }
            },
            "type": "scatterpolargl"
           }
          ],
          "scatterternary": [
           {
            "marker": {
             "colorbar": {
              "outlinewidth": 0,
              "ticks": ""
             }
            },
            "type": "scatterternary"
           }
          ],
          "surface": [
           {
            "colorbar": {
             "outlinewidth": 0,
             "ticks": ""
            },
            "colorscale": [
             [
              0,
              "#0d0887"
             ],
             [
              0.1111111111111111,
              "#46039f"
             ],
             [
              0.2222222222222222,
              "#7201a8"
             ],
             [
              0.3333333333333333,
              "#9c179e"
             ],
             [
              0.4444444444444444,
              "#bd3786"
             ],
             [
              0.5555555555555556,
              "#d8576b"
             ],
             [
              0.6666666666666666,
              "#ed7953"
             ],
             [
              0.7777777777777778,
              "#fb9f3a"
             ],
             [
              0.8888888888888888,
              "#fdca26"
             ],
             [
              1,
              "#f0f921"
             ]
            ],
            "type": "surface"
           }
          ],
          "table": [
           {
            "cells": {
             "fill": {
              "color": "#EBF0F8"
             },
             "line": {
              "color": "white"
             }
            },
            "header": {
             "fill": {
              "color": "#C8D4E3"
             },
             "line": {
              "color": "white"
             }
            },
            "type": "table"
           }
          ]
         },
         "layout": {
          "annotationdefaults": {
           "arrowcolor": "#2a3f5f",
           "arrowhead": 0,
           "arrowwidth": 1
          },
          "coloraxis": {
           "colorbar": {
            "outlinewidth": 0,
            "ticks": ""
           }
          },
          "colorscale": {
           "diverging": [
            [
             0,
             "#8e0152"
            ],
            [
             0.1,
             "#c51b7d"
            ],
            [
             0.2,
             "#de77ae"
            ],
            [
             0.3,
             "#f1b6da"
            ],
            [
             0.4,
             "#fde0ef"
            ],
            [
             0.5,
             "#f7f7f7"
            ],
            [
             0.6,
             "#e6f5d0"
            ],
            [
             0.7,
             "#b8e186"
            ],
            [
             0.8,
             "#7fbc41"
            ],
            [
             0.9,
             "#4d9221"
            ],
            [
             1,
             "#276419"
            ]
           ],
           "sequential": [
            [
             0,
             "#0d0887"
            ],
            [
             0.1111111111111111,
             "#46039f"
            ],
            [
             0.2222222222222222,
             "#7201a8"
            ],
            [
             0.3333333333333333,
             "#9c179e"
            ],
            [
             0.4444444444444444,
             "#bd3786"
            ],
            [
             0.5555555555555556,
             "#d8576b"
            ],
            [
             0.6666666666666666,
             "#ed7953"
            ],
            [
             0.7777777777777778,
             "#fb9f3a"
            ],
            [
             0.8888888888888888,
             "#fdca26"
            ],
            [
             1,
             "#f0f921"
            ]
           ],
           "sequentialminus": [
            [
             0,
             "#0d0887"
            ],
            [
             0.1111111111111111,
             "#46039f"
            ],
            [
             0.2222222222222222,
             "#7201a8"
            ],
            [
             0.3333333333333333,
             "#9c179e"
            ],
            [
             0.4444444444444444,
             "#bd3786"
            ],
            [
             0.5555555555555556,
             "#d8576b"
            ],
            [
             0.6666666666666666,
             "#ed7953"
            ],
            [
             0.7777777777777778,
             "#fb9f3a"
            ],
            [
             0.8888888888888888,
             "#fdca26"
            ],
            [
             1,
             "#f0f921"
            ]
           ]
          },
          "colorway": [
           "#636efa",
           "#EF553B",
           "#00cc96",
           "#ab63fa",
           "#FFA15A",
           "#19d3f3",
           "#FF6692",
           "#B6E880",
           "#FF97FF",
           "#FECB52"
          ],
          "font": {
           "color": "#2a3f5f"
          },
          "geo": {
           "bgcolor": "white",
           "lakecolor": "white",
           "landcolor": "#E5ECF6",
           "showlakes": true,
           "showland": true,
           "subunitcolor": "white"
          },
          "hoverlabel": {
           "align": "left"
          },
          "hovermode": "closest",
          "mapbox": {
           "style": "light"
          },
          "paper_bgcolor": "white",
          "plot_bgcolor": "#E5ECF6",
          "polar": {
           "angularaxis": {
            "gridcolor": "white",
            "linecolor": "white",
            "ticks": ""
           },
           "bgcolor": "#E5ECF6",
           "radialaxis": {
            "gridcolor": "white",
            "linecolor": "white",
            "ticks": ""
           }
          },
          "scene": {
           "xaxis": {
            "backgroundcolor": "#E5ECF6",
            "gridcolor": "white",
            "gridwidth": 2,
            "linecolor": "white",
            "showbackground": true,
            "ticks": "",
            "zerolinecolor": "white"
           },
           "yaxis": {
            "backgroundcolor": "#E5ECF6",
            "gridcolor": "white",
            "gridwidth": 2,
            "linecolor": "white",
            "showbackground": true,
            "ticks": "",
            "zerolinecolor": "white"
           },
           "zaxis": {
            "backgroundcolor": "#E5ECF6",
            "gridcolor": "white",
            "gridwidth": 2,
            "linecolor": "white",
            "showbackground": true,
            "ticks": "",
            "zerolinecolor": "white"
           }
          },
          "shapedefaults": {
           "line": {
            "color": "#2a3f5f"
           }
          },
          "ternary": {
           "aaxis": {
            "gridcolor": "white",
            "linecolor": "white",
            "ticks": ""
           },
           "baxis": {
            "gridcolor": "white",
            "linecolor": "white",
            "ticks": ""
           },
           "bgcolor": "#E5ECF6",
           "caxis": {
            "gridcolor": "white",
            "linecolor": "white",
            "ticks": ""
           }
          },
          "title": {
           "x": 0.05
          },
          "xaxis": {
           "automargin": true,
           "gridcolor": "white",
           "linecolor": "white",
           "ticks": "",
           "title": {
            "standoff": 15
           },
           "zerolinecolor": "white",
           "zerolinewidth": 2
          },
          "yaxis": {
           "automargin": true,
           "gridcolor": "white",
           "linecolor": "white",
           "ticks": "",
           "title": {
            "standoff": 15
           },
           "zerolinecolor": "white",
           "zerolinewidth": 2
          }
         }
        }
       }
      },
      "text/html": [
       "<div>\n",
       "        \n",
       "        \n",
       "            <div id=\"883fbf90-76ba-4d2d-82a8-bcca281e22c2\" class=\"plotly-graph-div\" style=\"height:525px; width:100%;\"></div>\n",
       "            <script type=\"text/javascript\">\n",
       "                require([\"plotly\"], function(Plotly) {\n",
       "                    window.PLOTLYENV=window.PLOTLYENV || {};\n",
       "                    \n",
       "                if (document.getElementById(\"883fbf90-76ba-4d2d-82a8-bcca281e22c2\")) {\n",
       "                    Plotly.newPlot(\n",
       "                        '883fbf90-76ba-4d2d-82a8-bcca281e22c2',\n",
       "                        [{\"dimensions\": [{\"label\": \"MaxItemPerSession\", \"values\": [5.0, 20.0, 5.0, 20.0, 30.0, 20.0, 10.0, 5.0, 30.0, 5.0, 5.0, 30.0, 20.0, 20.0, 5.0, 5.0, 20.0, 5.0, 30.0, 10.0, 30.0, 5.0, 30.0, 30.0, 20.0, 10.0, 5.0, 10.0, 5.0, 20.0, 30.0, 5.0, 30.0, 20.0, 20.0, 30.0, 30.0, 20.0, 30.0, 10.0, 30.0, 30.0, 30.0, 20.0, 10.0, 10.0, 10.0, 20.0, 20.0, 5.0, 20.0, 30.0, 10.0, 30.0, 20.0, 20.0]}, {\"label\": \"MinItemInteraction\", \"values\": [8.0, 8.0, 8.0, 8.0, 8.0, 8.0, 4.0, 8.0, 4.0, 8.0, 8.0, 8.0, 8.0, 8.0, 8.0, 4.0, 8.0, 8.0, 4.0, 2.0, 2.0, 2.0, 2.0, 8.0, 4.0, 8.0, 8.0, 8.0, 8.0, 4.0, 4.0, 4.0, 4.0, 4.0, 4.0, 4.0, 4.0, 4.0, 4.0, 2.0, 4.0, 4.0, 2.0, 2.0, 2.0, 2.0, 2.0, 2.0, 2.0, 2.0, 2.0, 2.0, 2.0, 2.0, 2.0, 2.0]}, {\"label\": \"MaxRelativePos\", \"values\": [1.0, 1.0, 1.0, 24.0, 8.0, 24.0, 24.0, 1.0, 4.0, 2.0, 2.0, 1.0, 1.0, 2.0, 2.0, 16.0, 8.0, 1.0, 1.0, 4.0, 8.0, 8.0, 16.0, 8.0, 1.0, 16.0, 24.0, 8.0, 8.0, 2.0, 16.0, 4.0, 8.0, 4.0, 4.0, 2.0, 4.0, 24.0, 24.0, 16.0, 8.0, 16.0, 2.0, 2.0, 2.0, 16.0, 4.0, 2.0, 2.0, 16.0, 16.0, 16.0, 24.0, 8.0, 16.0, 4.0]}, {\"label\": \"PositiveDeep\", \"values\": [2.0, 2.0, 1.0, 3.0, 1.0, 0.0, 3.0, 2.0, 0.0, 0.0, 3.0, 0.0, 3.0, 2.0, 3.0, 2.0, 2.0, 1.0, 3.0, 1.0, 2.0, 0.0, 2.0, 1.0, 2.0, 0.0, 3.0, 0.0, 1.0, 1.0, 1.0, 0.0, 2.0, 3.0, 0.0, 3.0, 3.0, 2.0, 0.0, 2.0, 3.0, 1.0, 1.0, 1.0, 3.0, 0.0, 2.0, 3.0, 1.0, 2.0, 2.0, 2.0, 2.0, 1.0, 1.0, 0.0]}, {\"label\": \"FilterOnlyOne\", \"values\": [false, true, true, true, true, true, true, true, true, true, false, false, false, true, true, true, true, false, false, true, false, false, true, false, false, false, false, false, false, false, true, true, true, false, false, false, false, false, false, true, false, false, true, false, false, false, false, true, false, false, false, true, false, false, false, false]}, {\"label\": \"L2Reg\", \"values\": [0.01, 1e-06, 1e-06, 0.01, 0.0001, 1e-06, 0.01, 0.01, 0.0001, 0.01, 0.01, 0.0001, 0.0001, 0.0001, 0.0001, 1e-06, 1e-06, 0.01, 1e-06, 1e-06, 0.01, 0.01, 0.0001, 0.0001, 0.01, 0.01, 0.0001, 0.0001, 1e-06, 1e-06, 0.01, 0.0001, 1e-06, 0.01, 0.0001, 1e-06, 1e-06, 0.0001, 1e-06, 0.0001, 1e-06, 1e-06, 0.0001, 1e-06, 0.0001, 0.01, 1e-06, 0.0001, 0.01, 1e-06, 1e-06, 0.0001, 0.0001, 1e-06, 1e-06, 1e-06]}, {\"label\": \"WeightDecay\", \"values\": [1e-05, 0.0001, 1e-06, 1e-05, 1e-05, 1e-05, 0.0001, 1e-05, 1e-05, 1e-06, 1e-06, 1e-05, 0.0001, 1e-05, 1e-05, 0.0001, 0.0001, 0.0001, 1e-06, 0.0001, 1e-06, 1e-06, 1e-05, 1e-06, 1e-05, 0.0001, 1e-06, 1e-05, 1e-05, 1e-06, 1e-05, 0.0001, 0.0001, 1e-05, 1e-05, 1e-05, 1e-06, 1e-05, 0.0001, 0.0001, 0.0001, 1e-05, 0.0001, 0.0001, 1e-05, 1e-05, 1e-05, 1e-05, 1e-06, 1e-05, 0.0001, 1e-06, 1e-05, 1e-05, 1e-05, 1e-06]}, {\"label\": \"Dropout\", \"values\": [0.4, 0.4, 0.2, 0.0, 0.4, 0.0, 0.2, 0.2, 0.4, 0.2, 0.4, 0.4, 0.2, 0.4, 0.0, 0.4, 0.0, 0.0, 0.4, 0.4, 0.4, 0.4, 0.4, 0.4, 0.2, 0.0, 0.2, 0.4, 0.2, 0.0, 0.0, 0.4, 0.2, 0.0, 0.2, 0.0, 0.0, 0.0, 0.2, 0.2, 0.0, 0.0, 0.2, 0.0, 0.0, 0.0, 0.4, 0.0, 0.0, 0.0, 0.0, 0.2, 0.0, 0.2, 0.2, 0.0]}, {\"label\": \"NegativeRandom\", \"values\": [0.0, 0.05, 0.1, 0.05, 0.05, 0.2, 0.05, 0.0, 0.2, 0.0, 0.0, 0.0, 0.1, 0.0, 0.1, 0.2, 0.0, 0.0, 0.05, 0.2, 0.1, 0.2, 0.05, 0.2, 0.0, 0.2, 0.2, 0.1, 0.05, 0.05, 0.0, 0.0, 0.0, 0.1, 0.0, 0.0, 0.0, 0.2, 0.1, 0.1, 0.1, 0.0, 0.1, 0.0, 0.1, 0.05, 0.0, 0.05, 0.0, 0.2, 0.2, 0.0, 0.0, 0.2, 0.05, 0.05]}], \"domain\": {\"x\": [0.0, 1.0], \"y\": [0.0, 1.0]}, \"line\": {\"color\": [0.05608807263301313, 0.05695035910780525, 0.05708396753843526, 0.05789669781955256, 0.058237928246553876, 0.05941142595737662, 0.06168607582080922, 0.06725144610594931, 0.06841265482957988, 0.06902608979834479, 0.06909196517582626, 0.0691999401152997, 0.07030119357901955, 0.07177762527569023, 0.07263931357017678, 0.07297461808020797, 0.07626005205142734, 0.084697809457484, 0.09331313313857098, 0.09371761893075102, 0.09547889010431439, 0.10970033787665108, 0.1340429569175828, 0.13926138504080302, 0.1557736839140505, 0.15771281742225765, 0.16297576213887957, 0.1694677032106464, 0.17274740150012696, 0.17556044082987995, 0.22726490960899243, 0.22829891427065527, 0.2717694394732976, 0.29381393443864307, 0.30951893192449104, 0.3473082308728586, 0.38247936200466565, 0.40897126563945047, 0.4105347627136012, 0.4155265428780192, 0.4168663137289511, 0.4183053216872842, 0.42163151117149034, 0.4997554599274184, 0.5012626775159491, 0.539100398377604, 0.5556559224252997, 0.5591593310003534, 0.5677293334170358, 0.5875690966522329, 0.5882173333016109, 0.5915781652154765, 0.6241052120094807, 0.6297437511469072, 0.6302629035571033, 0.644270109243362], \"coloraxis\": \"coloraxis\"}, \"name\": \"\", \"type\": \"parcats\"}],\n",
       "                        {\"coloraxis\": {\"colorbar\": {\"title\": {\"text\": \"mean_average_precision\"}}, \"colorscale\": [[0.0, \"rgb(255,255,204)\"], [0.125, \"rgb(255,237,160)\"], [0.25, \"rgb(254,217,118)\"], [0.375, \"rgb(254,178,76)\"], [0.5, \"rgb(253,141,60)\"], [0.625, \"rgb(252,78,42)\"], [0.75, \"rgb(227,26,28)\"], [0.875, \"rgb(189,0,38)\"], [1.0, \"rgb(128,0,38)\"]]}, \"legend\": {\"tracegroupgap\": 0}, \"margin\": {\"t\": 60}, \"template\": {\"data\": {\"bar\": [{\"error_x\": {\"color\": \"#2a3f5f\"}, \"error_y\": {\"color\": \"#2a3f5f\"}, \"marker\": {\"line\": {\"color\": \"#E5ECF6\", \"width\": 0.5}}, \"type\": \"bar\"}], \"barpolar\": [{\"marker\": {\"line\": {\"color\": \"#E5ECF6\", \"width\": 0.5}}, \"type\": \"barpolar\"}], \"carpet\": [{\"aaxis\": {\"endlinecolor\": \"#2a3f5f\", \"gridcolor\": \"white\", \"linecolor\": \"white\", \"minorgridcolor\": \"white\", \"startlinecolor\": \"#2a3f5f\"}, \"baxis\": {\"endlinecolor\": \"#2a3f5f\", \"gridcolor\": \"white\", \"linecolor\": \"white\", \"minorgridcolor\": \"white\", \"startlinecolor\": \"#2a3f5f\"}, \"type\": \"carpet\"}], \"choropleth\": [{\"colorbar\": {\"outlinewidth\": 0, \"ticks\": \"\"}, \"type\": \"choropleth\"}], \"contour\": [{\"colorbar\": {\"outlinewidth\": 0, \"ticks\": \"\"}, \"colorscale\": [[0.0, \"#0d0887\"], [0.1111111111111111, \"#46039f\"], [0.2222222222222222, \"#7201a8\"], [0.3333333333333333, \"#9c179e\"], [0.4444444444444444, \"#bd3786\"], [0.5555555555555556, \"#d8576b\"], [0.6666666666666666, \"#ed7953\"], [0.7777777777777778, \"#fb9f3a\"], [0.8888888888888888, \"#fdca26\"], [1.0, \"#f0f921\"]], \"type\": \"contour\"}], \"contourcarpet\": [{\"colorbar\": {\"outlinewidth\": 0, \"ticks\": \"\"}, \"type\": \"contourcarpet\"}], \"heatmap\": [{\"colorbar\": {\"outlinewidth\": 0, \"ticks\": \"\"}, \"colorscale\": [[0.0, \"#0d0887\"], [0.1111111111111111, \"#46039f\"], [0.2222222222222222, \"#7201a8\"], [0.3333333333333333, \"#9c179e\"], [0.4444444444444444, \"#bd3786\"], [0.5555555555555556, \"#d8576b\"], [0.6666666666666666, \"#ed7953\"], [0.7777777777777778, \"#fb9f3a\"], [0.8888888888888888, \"#fdca26\"], [1.0, \"#f0f921\"]], \"type\": \"heatmap\"}], \"heatmapgl\": [{\"colorbar\": {\"outlinewidth\": 0, \"ticks\": \"\"}, \"colorscale\": [[0.0, \"#0d0887\"], [0.1111111111111111, \"#46039f\"], [0.2222222222222222, \"#7201a8\"], [0.3333333333333333, \"#9c179e\"], [0.4444444444444444, \"#bd3786\"], [0.5555555555555556, \"#d8576b\"], [0.6666666666666666, \"#ed7953\"], [0.7777777777777778, \"#fb9f3a\"], [0.8888888888888888, \"#fdca26\"], [1.0, \"#f0f921\"]], \"type\": \"heatmapgl\"}], \"histogram\": [{\"marker\": {\"colorbar\": {\"outlinewidth\": 0, \"ticks\": \"\"}}, \"type\": \"histogram\"}], \"histogram2d\": [{\"colorbar\": {\"outlinewidth\": 0, \"ticks\": \"\"}, \"colorscale\": [[0.0, \"#0d0887\"], [0.1111111111111111, \"#46039f\"], [0.2222222222222222, \"#7201a8\"], [0.3333333333333333, \"#9c179e\"], [0.4444444444444444, \"#bd3786\"], [0.5555555555555556, \"#d8576b\"], [0.6666666666666666, \"#ed7953\"], [0.7777777777777778, \"#fb9f3a\"], [0.8888888888888888, \"#fdca26\"], [1.0, \"#f0f921\"]], \"type\": \"histogram2d\"}], \"histogram2dcontour\": [{\"colorbar\": {\"outlinewidth\": 0, \"ticks\": \"\"}, \"colorscale\": [[0.0, \"#0d0887\"], [0.1111111111111111, \"#46039f\"], [0.2222222222222222, \"#7201a8\"], [0.3333333333333333, \"#9c179e\"], [0.4444444444444444, \"#bd3786\"], [0.5555555555555556, \"#d8576b\"], [0.6666666666666666, \"#ed7953\"], [0.7777777777777778, \"#fb9f3a\"], [0.8888888888888888, \"#fdca26\"], [1.0, \"#f0f921\"]], \"type\": \"histogram2dcontour\"}], \"mesh3d\": [{\"colorbar\": {\"outlinewidth\": 0, \"ticks\": \"\"}, \"type\": \"mesh3d\"}], \"parcoords\": [{\"line\": {\"colorbar\": {\"outlinewidth\": 0, \"ticks\": \"\"}}, \"type\": \"parcoords\"}], \"pie\": [{\"automargin\": true, \"type\": \"pie\"}], \"scatter\": [{\"marker\": {\"colorbar\": {\"outlinewidth\": 0, \"ticks\": \"\"}}, \"type\": \"scatter\"}], \"scatter3d\": [{\"line\": {\"colorbar\": {\"outlinewidth\": 0, \"ticks\": \"\"}}, \"marker\": {\"colorbar\": {\"outlinewidth\": 0, \"ticks\": \"\"}}, \"type\": \"scatter3d\"}], \"scattercarpet\": [{\"marker\": {\"colorbar\": {\"outlinewidth\": 0, \"ticks\": \"\"}}, \"type\": \"scattercarpet\"}], \"scattergeo\": [{\"marker\": {\"colorbar\": {\"outlinewidth\": 0, \"ticks\": \"\"}}, \"type\": \"scattergeo\"}], \"scattergl\": [{\"marker\": {\"colorbar\": {\"outlinewidth\": 0, \"ticks\": \"\"}}, \"type\": \"scattergl\"}], \"scattermapbox\": [{\"marker\": {\"colorbar\": {\"outlinewidth\": 0, \"ticks\": \"\"}}, \"type\": \"scattermapbox\"}], \"scatterpolar\": [{\"marker\": {\"colorbar\": {\"outlinewidth\": 0, \"ticks\": \"\"}}, \"type\": \"scatterpolar\"}], \"scatterpolargl\": [{\"marker\": {\"colorbar\": {\"outlinewidth\": 0, \"ticks\": \"\"}}, \"type\": \"scatterpolargl\"}], \"scatterternary\": [{\"marker\": {\"colorbar\": {\"outlinewidth\": 0, \"ticks\": \"\"}}, \"type\": \"scatterternary\"}], \"surface\": [{\"colorbar\": {\"outlinewidth\": 0, \"ticks\": \"\"}, \"colorscale\": [[0.0, \"#0d0887\"], [0.1111111111111111, \"#46039f\"], [0.2222222222222222, \"#7201a8\"], [0.3333333333333333, \"#9c179e\"], [0.4444444444444444, \"#bd3786\"], [0.5555555555555556, \"#d8576b\"], [0.6666666666666666, \"#ed7953\"], [0.7777777777777778, \"#fb9f3a\"], [0.8888888888888888, \"#fdca26\"], [1.0, \"#f0f921\"]], \"type\": \"surface\"}], \"table\": [{\"cells\": {\"fill\": {\"color\": \"#EBF0F8\"}, \"line\": {\"color\": \"white\"}}, \"header\": {\"fill\": {\"color\": \"#C8D4E3\"}, \"line\": {\"color\": \"white\"}}, \"type\": \"table\"}]}, \"layout\": {\"annotationdefaults\": {\"arrowcolor\": \"#2a3f5f\", \"arrowhead\": 0, \"arrowwidth\": 1}, \"coloraxis\": {\"colorbar\": {\"outlinewidth\": 0, \"ticks\": \"\"}}, \"colorscale\": {\"diverging\": [[0, \"#8e0152\"], [0.1, \"#c51b7d\"], [0.2, \"#de77ae\"], [0.3, \"#f1b6da\"], [0.4, \"#fde0ef\"], [0.5, \"#f7f7f7\"], [0.6, \"#e6f5d0\"], [0.7, \"#b8e186\"], [0.8, \"#7fbc41\"], [0.9, \"#4d9221\"], [1, \"#276419\"]], \"sequential\": [[0.0, \"#0d0887\"], [0.1111111111111111, \"#46039f\"], [0.2222222222222222, \"#7201a8\"], [0.3333333333333333, \"#9c179e\"], [0.4444444444444444, \"#bd3786\"], [0.5555555555555556, \"#d8576b\"], [0.6666666666666666, \"#ed7953\"], [0.7777777777777778, \"#fb9f3a\"], [0.8888888888888888, \"#fdca26\"], [1.0, \"#f0f921\"]], \"sequentialminus\": [[0.0, \"#0d0887\"], [0.1111111111111111, \"#46039f\"], [0.2222222222222222, \"#7201a8\"], [0.3333333333333333, \"#9c179e\"], [0.4444444444444444, \"#bd3786\"], [0.5555555555555556, \"#d8576b\"], [0.6666666666666666, \"#ed7953\"], [0.7777777777777778, \"#fb9f3a\"], [0.8888888888888888, \"#fdca26\"], [1.0, \"#f0f921\"]]}, \"colorway\": [\"#636efa\", \"#EF553B\", \"#00cc96\", \"#ab63fa\", \"#FFA15A\", \"#19d3f3\", \"#FF6692\", \"#B6E880\", \"#FF97FF\", \"#FECB52\"], \"font\": {\"color\": \"#2a3f5f\"}, \"geo\": {\"bgcolor\": \"white\", \"lakecolor\": \"white\", \"landcolor\": \"#E5ECF6\", \"showlakes\": true, \"showland\": true, \"subunitcolor\": \"white\"}, \"hoverlabel\": {\"align\": \"left\"}, \"hovermode\": \"closest\", \"mapbox\": {\"style\": \"light\"}, \"paper_bgcolor\": \"white\", \"plot_bgcolor\": \"#E5ECF6\", \"polar\": {\"angularaxis\": {\"gridcolor\": \"white\", \"linecolor\": \"white\", \"ticks\": \"\"}, \"bgcolor\": \"#E5ECF6\", \"radialaxis\": {\"gridcolor\": \"white\", \"linecolor\": \"white\", \"ticks\": \"\"}}, \"scene\": {\"xaxis\": {\"backgroundcolor\": \"#E5ECF6\", \"gridcolor\": \"white\", \"gridwidth\": 2, \"linecolor\": \"white\", \"showbackground\": true, \"ticks\": \"\", \"zerolinecolor\": \"white\"}, \"yaxis\": {\"backgroundcolor\": \"#E5ECF6\", \"gridcolor\": \"white\", \"gridwidth\": 2, \"linecolor\": \"white\", \"showbackground\": true, \"ticks\": \"\", \"zerolinecolor\": \"white\"}, \"zaxis\": {\"backgroundcolor\": \"#E5ECF6\", \"gridcolor\": \"white\", \"gridwidth\": 2, \"linecolor\": \"white\", \"showbackground\": true, \"ticks\": \"\", \"zerolinecolor\": \"white\"}}, \"shapedefaults\": {\"line\": {\"color\": \"#2a3f5f\"}}, \"ternary\": {\"aaxis\": {\"gridcolor\": \"white\", \"linecolor\": \"white\", \"ticks\": \"\"}, \"baxis\": {\"gridcolor\": \"white\", \"linecolor\": \"white\", \"ticks\": \"\"}, \"bgcolor\": \"#E5ECF6\", \"caxis\": {\"gridcolor\": \"white\", \"linecolor\": \"white\", \"ticks\": \"\"}}, \"title\": {\"x\": 0.05}, \"xaxis\": {\"automargin\": true, \"gridcolor\": \"white\", \"linecolor\": \"white\", \"ticks\": \"\", \"title\": {\"standoff\": 15}, \"zerolinecolor\": \"white\", \"zerolinewidth\": 2}, \"yaxis\": {\"automargin\": true, \"gridcolor\": \"white\", \"linecolor\": \"white\", \"ticks\": \"\", \"title\": {\"standoff\": 15}, \"zerolinecolor\": \"white\", \"zerolinewidth\": 2}}}},\n",
       "                        {\"responsive\": true}\n",
       "                    ).then(function(){\n",
       "                            \n",
       "var gd = document.getElementById('883fbf90-76ba-4d2d-82a8-bcca281e22c2');\n",
       "var x = new MutationObserver(function (mutations, observer) {{\n",
       "        var display = window.getComputedStyle(gd).display;\n",
       "        if (!display || display === 'none') {{\n",
       "            console.log([gd, 'removed!']);\n",
       "            Plotly.purge(gd);\n",
       "            observer.disconnect();\n",
       "        }}\n",
       "}});\n",
       "\n",
       "// Listen for the removal of the full notebook cells\n",
       "var notebookContainer = gd.closest('#notebook-container');\n",
       "if (notebookContainer) {{\n",
       "    x.observe(notebookContainer, {childList: true});\n",
       "}}\n",
       "\n",
       "// Listen for the clearing of the current output cell\n",
       "var outputEl = gd.closest('.output');\n",
       "if (outputEl) {{\n",
       "    x.observe(outputEl, {childList: true});\n",
       "}}\n",
       "\n",
       "                        })\n",
       "                };\n",
       "                });\n",
       "            </script>\n",
       "        </div>"
      ]
     },
     "metadata": {},
     "output_type": "display_data"
    }
   ],
   "source": [
    "import plotly.express as px\n",
    "\n",
    "columns = {\n",
    "    'data_frames_preparation_extra_params.max_itens_per_session_y': 'MaxItemPerSession',\n",
    "    'data_frames_preparation_extra_params.min_itens_interactions_y': 'MinItemInteraction',\n",
    "    'data_frames_preparation_extra_params.max_relative_pos_y': 'MaxRelativePos',\n",
    "    'data_frames_preparation_extra_params.pos_max_deep_y': \"PositiveDeep\",\n",
    "    'data_frames_preparation_extra_params.filter_first_interaction_y': \"FilterOnlyOne\",\n",
    "    'loss_function_params.l2_reg_y': 'L2Reg',\n",
    "    'optimizer_params.weight_decay_y': \"WeightDecay\",\n",
    "    'recommender_extra_params.dropout_y': \"Dropout\",\n",
    "    'recommender_extra_params.negative_random_y': \"NegativeRandom\"\n",
    "}\n",
    "\n",
    "# df = df.sort_values(['data_frames_preparation_extra_params.max_itens_per_session_y', \n",
    "#                      'data_frames_preparation_extra_params.max_relative_pos_y',\n",
    "#                      'data_frames_preparation_extra_params.pos_max_deep_y',\n",
    "#                      'data_frames_preparation_extra_params.filter_first_interaction_y'])\n",
    "\n",
    "fig = px.parallel_categories(df, dimensions=list(columns.keys()),\n",
    "                color=\"mean_average_precision\", \n",
    "                color_continuous_scale=px.colors.sequential.YlOrRd,\n",
    "                labels=columns)\n",
    "fig.show()"
   ]
  },
  {
   "cell_type": "code",
   "execution_count": 21,
   "metadata": {},
   "outputs": [
    {
     "data": {
      "text/plain": [
       "model_class                                                                                 TripletPredTraining.None\n",
       "observation_x                                                                                                       \n",
       "use_embedding                                                                                                  False\n",
       "count                                                                                                           3129\n",
       "mean_average_precision                                                                                          0.64\n",
       "precision_at_1                                                                                                  0.53\n",
       "mrr_at_5                                                                                                        0.63\n",
       "ndcg_at_5                                                                                                       0.73\n",
       "mrr_at_10                                                                                                       0.64\n",
       "ndcg_at_10                                                                                                      0.75\n",
       "triplet_path                                                       TripletTraining____mars_gym_model_b____8ad71177f6\n",
       "data_frames_preparation_extra_params.sample_days_y                                                              8.00\n",
       "data_frames_preparation_extra_params.max_itens_per_session_y                                                   20.00\n",
       "data_frames_preparation_extra_params.min_itens_interactions_y                                                   2.00\n",
       "data_frames_preparation_extra_params.max_relative_pos_y                                                         4.00\n",
       "data_frames_preparation_extra_params.pos_max_deep_y                                                             0.00\n",
       "data_frames_preparation_extra_params.filter_first_interaction_y                                                False\n",
       "loss_function_params.l2_reg_y                                                                                   0.00\n",
       "optimizer_params.weight_decay_y                                                                                 0.00\n",
       "recommender_extra_params.dropout_y                                                                              0.00\n",
       "recommender_extra_params.negative_random_y                                                                      0.05\n",
       "Name: 41, dtype: object"
      ]
     },
     "execution_count": 21,
     "metadata": {},
     "output_type": "execute_result"
    }
   ],
   "source": [
    "df.iloc[-1]"
   ]
  },
  {
   "cell_type": "code",
   "execution_count": 22,
   "metadata": {},
   "outputs": [
    {
     "data": {
      "text/plain": [
       "<seaborn.axisgrid.FacetGrid at 0x7f211bcd7b38>"
      ]
     },
     "execution_count": 22,
     "metadata": {},
     "output_type": "execute_result"
    },
    {
     "data": {
      "image/png": "[encoded data removed]",
      "text/plain": [
       "<Figure size 432x432 with 1 Axes>"
      ]
     },
     "metadata": {
      "needs_background": "light"
     },
     "output_type": "display_data"
    }
   ],
   "source": [
    "import seaborn as sns\n",
    "#data_frames_preparation_extra_params.max_relative_pos_y\n",
    "# Plot miles per gallon against horsepower with other semantics\n",
    "sns.relplot(y=\"mean_average_precision\", \n",
    "            x=\"data_frames_preparation_extra_params.pos_max_deep_y\", \n",
    "            alpha=.5, \n",
    "            height=6, data=df)"
   ]
  },
  {
   "cell_type": "code",
   "execution_count": 23,
   "metadata": {},
   "outputs": [
    {
     "data": {
      "application/vnd.plotly.v1+json": {
       "config": {
        "plotlyServerURL": "https://plot.ly"
       },
       "data": [
        {
         "hoverlabel": {
          "namelength": 0
         },
         "hovertemplate": "data_frames_preparation_extra_params.max_relative_pos_y=%{x}<br>data_frames_preparation_extra_params.pos_max_deep_y=%{y}<br>mean_average_precision=%{marker.size}",
         "legendgroup": "",
         "marker": {
          "color": "#636efa",
          "size": [
           0.05608807263301313,
           0.05695035910780525,
           0.05708396753843526,
           0.05789669781955256,
           0.058237928246553876,
           0.05941142595737662,
           0.06168607582080922,
           0.06725144610594931,
           0.06841265482957988,
           0.06902608979834479,
           0.06909196517582626,
           0.0691999401152997,
           0.07030119357901955,
           0.07177762527569023,
           0.07263931357017678,
           0.07297461808020797,
           0.07626005205142734,
           0.084697809457484,
           0.09331313313857098,
           0.09371761893075102,
           0.09547889010431439,
           0.10970033787665108,
           0.1340429569175828,
           0.13926138504080302,
           0.1557736839140505,
           0.15771281742225765,
           0.16297576213887957,
           0.1694677032106464,
           0.17274740150012696,
           0.17556044082987995,
           0.22726490960899243,
           0.22829891427065527,
           0.2717694394732976,
           0.29381393443864307,
           0.30951893192449104,
           0.3473082308728586,
           0.38247936200466565,
           0.40897126563945047,
           0.4105347627136012,
           0.4155265428780192,
           0.4168663137289511,
           0.4183053216872842,
           0.42163151117149034,
           0.4997554599274184,
           0.5012626775159491,
           0.539100398377604,
           0.5556559224252997,
           0.5591593310003534,
           0.5677293334170358,
           0.5875690966522329,
           0.5882173333016109,
           0.5915781652154765,
           0.6241052120094807,
           0.6297437511469072,
           0.6302629035571033,
           0.644270109243362
          ],
          "sizemode": "area",
          "sizeref": 0.001610675273108405,
          "symbol": "circle"
         },
         "mode": "markers",
         "name": "",
         "showlegend": false,
         "type": "scatter",
         "x": [
          1,
          1,
          1,
          24,
          8,
          24,
          24,
          1,
          4,
          2,
          2,
          1,
          1,
          2,
          2,
          16,
          8,
          1,
          1,
          4,
          8,
          8,
          16,
          8,
          1,
          16,
          24,
          8,
          8,
          2,
          16,
          4,
          8,
          4,
          4,
          2,
          4,
          24,
          24,
          16,
          8,
          16,
          2,
          2,
          2,
          16,
          4,
          2,
          2,
          16,
          16,
          16,
          24,
          8,
          16,
          4
         ],
         "xaxis": "x",
         "y": [
          2,
          2,
          1,
          3,
          1,
          0,
          3,
          2,
          0,
          0,
          3,
          0,
          3,
          2,
          3,
          2,
          2,
          1,
          3,
          1,
          2,
          0,
          2,
          1,
          2,
          0,
          3,
          0,
          1,
          1,
          1,
          0,
          2,
          3,
          0,
          3,
          3,
          2,
          0,
          2,
          3,
          1,
          1,
          1,
          3,
          0,
          2,
          3,
          1,
          2,
          2,
          2,
          2,
          1,
          1,
          0
         ],
         "yaxis": "y"
        }
       ],
       "layout": {
        "legend": {
         "itemsizing": "constant",
         "tracegroupgap": 0
        },
        "margin": {
         "t": 60
        },
        "template": {
         "data": {
          "bar": [
           {
            "error_x": {
             "color": "#2a3f5f"
            },
            "error_y": {
             "color": "#2a3f5f"
            },
            "marker": {
             "line": {
              "color": "#E5ECF6",
              "width": 0.5
             }
            },
            "type": "bar"
           }
          ],
          "barpolar": [
           {
            "marker": {
             "line": {
              "color": "#E5ECF6",
              "width": 0.5
             }
            },
            "type": "barpolar"
           }
          ],
          "carpet": [
           {
            "aaxis": {
             "endlinecolor": "#2a3f5f",
             "gridcolor": "white",
             "linecolor": "white",
             "minorgridcolor": "white",
             "startlinecolor": "#2a3f5f"
            },
            "baxis": {
             "endlinecolor": "#2a3f5f",
             "gridcolor": "white",
             "linecolor": "white",
             "minorgridcolor": "white",
             "startlinecolor": "#2a3f5f"
            },
            "type": "carpet"
           }
          ],
          "choropleth": [
           {
            "colorbar": {
             "outlinewidth": 0,
             "ticks": ""
            },
            "type": "choropleth"
           }
          ],
          "contour": [
           {
            "colorbar": {
             "outlinewidth": 0,
             "ticks": ""
            },
            "colorscale": [
             [
              0,
              "#0d0887"
             ],
             [
              0.1111111111111111,
              "#46039f"
             ],
             [
              0.2222222222222222,
              "#7201a8"
             ],
             [
              0.3333333333333333,
              "#9c179e"
             ],
             [
              0.4444444444444444,
              "#bd3786"
             ],
             [
              0.5555555555555556,
              "#d8576b"
             ],
             [
              0.6666666666666666,
              "#ed7953"
             ],
             [
              0.7777777777777778,
              "#fb9f3a"
             ],
             [
              0.8888888888888888,
              "#fdca26"
             ],
             [
              1,
              "#f0f921"
             ]
            ],
            "type": "contour"
           }
          ],
          "contourcarpet": [
           {
            "colorbar": {
             "outlinewidth": 0,
             "ticks": ""
            },
            "type": "contourcarpet"
           }
          ],
          "heatmap": [
           {
            "colorbar": {
             "outlinewidth": 0,
             "ticks": ""
            },
            "colorscale": [
             [
              0,
              "#0d0887"
             ],
             [
              0.1111111111111111,
              "#46039f"
             ],
             [
              0.2222222222222222,
              "#7201a8"
             ],
             [
              0.3333333333333333,
              "#9c179e"
             ],
             [
              0.4444444444444444,
              "#bd3786"
             ],
             [
              0.5555555555555556,
              "#d8576b"
             ],
             [
              0.6666666666666666,
              "#ed7953"
             ],
             [
              0.7777777777777778,
              "#fb9f3a"
             ],
             [
              0.8888888888888888,
              "#fdca26"
             ],
             [
              1,
              "#f0f921"
             ]
            ],
            "type": "heatmap"
           }
          ],
          "heatmapgl": [
           {
            "colorbar": {
             "outlinewidth": 0,
             "ticks": ""
            },
            "colorscale": [
             [
              0,
              "#0d0887"
             ],
             [
              0.1111111111111111,
              "#46039f"
             ],
             [
              0.2222222222222222,
              "#7201a8"
             ],
             [
              0.3333333333333333,
              "#9c179e"
             ],
             [
              0.4444444444444444,
              "#bd3786"
             ],
             [
              0.5555555555555556,
              "#d8576b"
             ],
             [
              0.6666666666666666,
              "#ed7953"
             ],
             [
              0.7777777777777778,
              "#fb9f3a"
             ],
             [
              0.8888888888888888,
              "#fdca26"
             ],
             [
              1,
              "#f0f921"
             ]
            ],
            "type": "heatmapgl"
           }
          ],
          "histogram": [
           {
            "marker": {
             "colorbar": {
              "outlinewidth": 0,
              "ticks": ""
             }
            },
            "type": "histogram"
           }
          ],
          "histogram2d": [
           {
            "colorbar": {
             "outlinewidth": 0,
             "ticks": ""
            },
            "colorscale": [
             [
              0,
              "#0d0887"
             ],
             [
              0.1111111111111111,
              "#46039f"
             ],
             [
              0.2222222222222222,
              "#7201a8"
             ],
             [
              0.3333333333333333,
              "#9c179e"
             ],
             [
              0.4444444444444444,
              "#bd3786"
             ],
             [
              0.5555555555555556,
              "#d8576b"
             ],
             [
              0.6666666666666666,
              "#ed7953"
             ],
             [
              0.7777777777777778,
              "#fb9f3a"
             ],
             [
              0.8888888888888888,
              "#fdca26"
             ],
             [
              1,
              "#f0f921"
             ]
            ],
            "type": "histogram2d"
           }
          ],
          "histogram2dcontour": [
           {
            "colorbar": {
             "outlinewidth": 0,
             "ticks": ""
            },
            "colorscale": [
             [
              0,
              "#0d0887"
             ],
             [
              0.1111111111111111,
              "#46039f"
             ],
             [
              0.2222222222222222,
              "#7201a8"
             ],
             [
              0.3333333333333333,
              "#9c179e"
             ],
             [
              0.4444444444444444,
              "#bd3786"
             ],
             [
              0.5555555555555556,
              "#d8576b"
             ],
             [
              0.6666666666666666,
              "#ed7953"
             ],
             [
              0.7777777777777778,
              "#fb9f3a"
             ],
             [
              0.8888888888888888,
              "#fdca26"
             ],
             [
              1,
              "#f0f921"
             ]
            ],
            "type": "histogram2dcontour"
           }
          ],
          "mesh3d": [
           {
            "colorbar": {
             "outlinewidth": 0,
             "ticks": ""
            },
            "type": "mesh3d"
           }
          ],
          "parcoords": [
           {
            "line": {
             "colorbar": {
              "outlinewidth": 0,
              "ticks": ""
             }
            },
            "type": "parcoords"
           }
          ],
          "pie": [
           {
            "automargin": true,
            "type": "pie"
           }
          ],
          "scatter": [
           {
            "marker": {
             "colorbar": {
              "outlinewidth": 0,
              "ticks": ""
             }
            },
            "type": "scatter"
           }
          ],
          "scatter3d": [
           {
            "line": {
             "colorbar": {
              "outlinewidth": 0,
              "ticks": ""
             }
            },
            "marker": {
             "colorbar": {
              "outlinewidth": 0,
              "ticks": ""
             }
            },
            "type": "scatter3d"
           }
          ],
          "scattercarpet": [
           {
            "marker": {
             "colorbar": {
              "outlinewidth": 0,
              "ticks": ""
             }
            },
            "type": "scattercarpet"
           }
          ],
          "scattergeo": [
           {
            "marker": {
             "colorbar": {
              "outlinewidth": 0,
              "ticks": ""
             }
            },
            "type": "scattergeo"
           }
          ],
          "scattergl": [
           {
            "marker": {
             "colorbar": {
              "outlinewidth": 0,
              "ticks": ""
             }
            },
            "type": "scattergl"
           }
          ],
          "scattermapbox": [
           {
            "marker": {
             "colorbar": {
              "outlinewidth": 0,
              "ticks": ""
             }
            },
            "type": "scattermapbox"
           }
          ],
          "scatterpolar": [
           {
            "marker": {
             "colorbar": {
              "outlinewidth": 0,
              "ticks": ""
             }
            },
            "type": "scatterpolar"
           }
          ],
          "scatterpolargl": [
           {
            "marker": {
             "colorbar": {
              "outlinewidth": 0,
              "ticks": ""
             }
            },
            "type": "scatterpolargl"
           }
          ],
          "scatterternary": [
           {
            "marker": {
             "colorbar": {
              "outlinewidth": 0,
              "ticks": ""
             }
            },
            "type": "scatterternary"
           }
          ],
          "surface": [
           {
            "colorbar": {
             "outlinewidth": 0,
             "ticks": ""
            },
            "colorscale": [
             [
              0,
              "#0d0887"
             ],
             [
              0.1111111111111111,
              "#46039f"
             ],
             [
              0.2222222222222222,
              "#7201a8"
             ],
             [
              0.3333333333333333,
              "#9c179e"
             ],
             [
              0.4444444444444444,
              "#bd3786"
             ],
             [
              0.5555555555555556,
              "#d8576b"
             ],
             [
              0.6666666666666666,
              "#ed7953"
             ],
             [
              0.7777777777777778,
              "#fb9f3a"
             ],
             [
              0.8888888888888888,
              "#fdca26"
             ],
             [
              1,
              "#f0f921"
             ]
            ],
            "type": "surface"
           }
          ],
          "table": [
           {
            "cells": {
             "fill": {
              "color": "#EBF0F8"
             },
             "line": {
              "color": "white"
             }
            },
            "header": {
             "fill": {
              "color": "#C8D4E3"
             },
             "line": {
              "color": "white"
             }
            },
            "type": "table"
           }
          ]
         },
         "layout": {
          "annotationdefaults": {
           "arrowcolor": "#2a3f5f",
           "arrowhead": 0,
           "arrowwidth": 1
          },
          "coloraxis": {
           "colorbar": {
            "outlinewidth": 0,
            "ticks": ""
           }
          },
          "colorscale": {
           "diverging": [
            [
             0,
             "#8e0152"
            ],
            [
             0.1,
             "#c51b7d"
            ],
            [
             0.2,
             "#de77ae"
            ],
            [
             0.3,
             "#f1b6da"
            ],
            [
             0.4,
             "#fde0ef"
            ],
            [
             0.5,
             "#f7f7f7"
            ],
            [
             0.6,
             "#e6f5d0"
            ],
            [
             0.7,
             "#b8e186"
            ],
            [
             0.8,
             "#7fbc41"
            ],
            [
             0.9,
             "#4d9221"
            ],
            [
             1,
             "#276419"
            ]
           ],
           "sequential": [
            [
             0,
             "#0d0887"
            ],
            [
             0.1111111111111111,
             "#46039f"
            ],
            [
             0.2222222222222222,
             "#7201a8"
            ],
            [
             0.3333333333333333,
             "#9c179e"
            ],
            [
             0.4444444444444444,
             "#bd3786"
            ],
            [
             0.5555555555555556,
             "#d8576b"
            ],
            [
             0.6666666666666666,
             "#ed7953"
            ],
            [
             0.7777777777777778,
             "#fb9f3a"
            ],
            [
             0.8888888888888888,
             "#fdca26"
            ],
            [
             1,
             "#f0f921"
            ]
           ],
           "sequentialminus": [
            [
             0,
             "#0d0887"
            ],
            [
             0.1111111111111111,
             "#46039f"
            ],
            [
             0.2222222222222222,
             "#7201a8"
            ],
            [
             0.3333333333333333,
             "#9c179e"
            ],
            [
             0.4444444444444444,
             "#bd3786"
            ],
            [
             0.5555555555555556,
             "#d8576b"
            ],
            [
             0.6666666666666666,
             "#ed7953"
            ],
            [
             0.7777777777777778,
             "#fb9f3a"
            ],
            [
             0.8888888888888888,
             "#fdca26"
            ],
            [
             1,
             "#f0f921"
            ]
           ]
          },
          "colorway": [
           "#636efa",
           "#EF553B",
           "#00cc96",
           "#ab63fa",
           "#FFA15A",
           "#19d3f3",
           "#FF6692",
           "#B6E880",
           "#FF97FF",
           "#FECB52"
          ],
          "font": {
           "color": "#2a3f5f"
          },
          "geo": {
           "bgcolor": "white",
           "lakecolor": "white",
           "landcolor": "#E5ECF6",
           "showlakes": true,
           "showland": true,
           "subunitcolor": "white"
          },
          "hoverlabel": {
           "align": "left"
          },
          "hovermode": "closest",
          "mapbox": {
           "style": "light"
          },
          "paper_bgcolor": "white",
          "plot_bgcolor": "#E5ECF6",
          "polar": {
           "angularaxis": {
            "gridcolor": "white",
            "linecolor": "white",
            "ticks": ""
           },
           "bgcolor": "#E5ECF6",
           "radialaxis": {
            "gridcolor": "white",
            "linecolor": "white",
            "ticks": ""
           }
          },
          "scene": {
           "xaxis": {
            "backgroundcolor": "#E5ECF6",
            "gridcolor": "white",
            "gridwidth": 2,
            "linecolor": "white",
            "showbackground": true,
            "ticks": "",
            "zerolinecolor": "white"
           },
           "yaxis": {
            "backgroundcolor": "#E5ECF6",
            "gridcolor": "white",
            "gridwidth": 2,
            "linecolor": "white",
            "showbackground": true,
            "ticks": "",
            "zerolinecolor": "white"
           },
           "zaxis": {
            "backgroundcolor": "#E5ECF6",
            "gridcolor": "white",
            "gridwidth": 2,
            "linecolor": "white",
            "showbackground": true,
            "ticks": "",
            "zerolinecolor": "white"
           }
          },
          "shapedefaults": {
           "line": {
            "color": "#2a3f5f"
           }
          },
          "ternary": {
           "aaxis": {
            "gridcolor": "white",
            "linecolor": "white",
            "ticks": ""
           },
           "baxis": {
            "gridcolor": "white",
            "linecolor": "white",
            "ticks": ""
           },
           "bgcolor": "#E5ECF6",
           "caxis": {
            "gridcolor": "white",
            "linecolor": "white",
            "ticks": ""
           }
          },
          "title": {
           "x": 0.05
          },
          "xaxis": {
           "automargin": true,
           "gridcolor": "white",
           "linecolor": "white",
           "ticks": "",
           "title": {
            "standoff": 15
           },
           "zerolinecolor": "white",
           "zerolinewidth": 2
          },
          "yaxis": {
           "automargin": true,
           "gridcolor": "white",
           "linecolor": "white",
           "ticks": "",
           "title": {
            "standoff": 15
           },
           "zerolinecolor": "white",
           "zerolinewidth": 2
          }
         }
        },
        "xaxis": {
         "anchor": "y",
         "domain": [
          0,
          1
         ],
         "title": {
          "text": "data_frames_preparation_extra_params.max_relative_pos_y"
         }
        },
        "yaxis": {
         "anchor": "x",
         "domain": [
          0,
          1
         ],
         "title": {
          "text": "data_frames_preparation_extra_params.pos_max_deep_y"
         }
        }
       }
      },
      "text/html": [
       "<div>\n",
       "        \n",
       "        \n",
       "            <div id=\"2d788ea3-c634-44c0-9b2b-5919e3d0697f\" class=\"plotly-graph-div\" style=\"height:525px; width:100%;\"></div>\n",
       "            <script type=\"text/javascript\">\n",
       "                require([\"plotly\"], function(Plotly) {\n",
       "                    window.PLOTLYENV=window.PLOTLYENV || {};\n",
       "                    \n",
       "                if (document.getElementById(\"2d788ea3-c634-44c0-9b2b-5919e3d0697f\")) {\n",
       "                    Plotly.newPlot(\n",
       "                        '2d788ea3-c634-44c0-9b2b-5919e3d0697f',\n",
       "                        [{\"hoverlabel\": {\"namelength\": 0}, \"hovertemplate\": \"data_frames_preparation_extra_params.max_relative_pos_y=%{x}<br>data_frames_preparation_extra_params.pos_max_deep_y=%{y}<br>mean_average_precision=%{marker.size}\", \"legendgroup\": \"\", \"marker\": {\"color\": \"#636efa\", \"size\": [0.05608807263301313, 0.05695035910780525, 0.05708396753843526, 0.05789669781955256, 0.058237928246553876, 0.05941142595737662, 0.06168607582080922, 0.06725144610594931, 0.06841265482957988, 0.06902608979834479, 0.06909196517582626, 0.0691999401152997, 0.07030119357901955, 0.07177762527569023, 0.07263931357017678, 0.07297461808020797, 0.07626005205142734, 0.084697809457484, 0.09331313313857098, 0.09371761893075102, 0.09547889010431439, 0.10970033787665108, 0.1340429569175828, 0.13926138504080302, 0.1557736839140505, 0.15771281742225765, 0.16297576213887957, 0.1694677032106464, 0.17274740150012696, 0.17556044082987995, 0.22726490960899243, 0.22829891427065527, 0.2717694394732976, 0.29381393443864307, 0.30951893192449104, 0.3473082308728586, 0.38247936200466565, 0.40897126563945047, 0.4105347627136012, 0.4155265428780192, 0.4168663137289511, 0.4183053216872842, 0.42163151117149034, 0.4997554599274184, 0.5012626775159491, 0.539100398377604, 0.5556559224252997, 0.5591593310003534, 0.5677293334170358, 0.5875690966522329, 0.5882173333016109, 0.5915781652154765, 0.6241052120094807, 0.6297437511469072, 0.6302629035571033, 0.644270109243362], \"sizemode\": \"area\", \"sizeref\": 0.001610675273108405, \"symbol\": \"circle\"}, \"mode\": \"markers\", \"name\": \"\", \"showlegend\": false, \"type\": \"scatter\", \"x\": [1.0, 1.0, 1.0, 24.0, 8.0, 24.0, 24.0, 1.0, 4.0, 2.0, 2.0, 1.0, 1.0, 2.0, 2.0, 16.0, 8.0, 1.0, 1.0, 4.0, 8.0, 8.0, 16.0, 8.0, 1.0, 16.0, 24.0, 8.0, 8.0, 2.0, 16.0, 4.0, 8.0, 4.0, 4.0, 2.0, 4.0, 24.0, 24.0, 16.0, 8.0, 16.0, 2.0, 2.0, 2.0, 16.0, 4.0, 2.0, 2.0, 16.0, 16.0, 16.0, 24.0, 8.0, 16.0, 4.0], \"xaxis\": \"x\", \"y\": [2.0, 2.0, 1.0, 3.0, 1.0, 0.0, 3.0, 2.0, 0.0, 0.0, 3.0, 0.0, 3.0, 2.0, 3.0, 2.0, 2.0, 1.0, 3.0, 1.0, 2.0, 0.0, 2.0, 1.0, 2.0, 0.0, 3.0, 0.0, 1.0, 1.0, 1.0, 0.0, 2.0, 3.0, 0.0, 3.0, 3.0, 2.0, 0.0, 2.0, 3.0, 1.0, 1.0, 1.0, 3.0, 0.0, 2.0, 3.0, 1.0, 2.0, 2.0, 2.0, 2.0, 1.0, 1.0, 0.0], \"yaxis\": \"y\"}],\n",
       "                        {\"legend\": {\"itemsizing\": \"constant\", \"tracegroupgap\": 0}, \"margin\": {\"t\": 60}, \"template\": {\"data\": {\"bar\": [{\"error_x\": {\"color\": \"#2a3f5f\"}, \"error_y\": {\"color\": \"#2a3f5f\"}, \"marker\": {\"line\": {\"color\": \"#E5ECF6\", \"width\": 0.5}}, \"type\": \"bar\"}], \"barpolar\": [{\"marker\": {\"line\": {\"color\": \"#E5ECF6\", \"width\": 0.5}}, \"type\": \"barpolar\"}], \"carpet\": [{\"aaxis\": {\"endlinecolor\": \"#2a3f5f\", \"gridcolor\": \"white\", \"linecolor\": \"white\", \"minorgridcolor\": \"white\", \"startlinecolor\": \"#2a3f5f\"}, \"baxis\": {\"endlinecolor\": \"#2a3f5f\", \"gridcolor\": \"white\", \"linecolor\": \"white\", \"minorgridcolor\": \"white\", \"startlinecolor\": \"#2a3f5f\"}, \"type\": \"carpet\"}], \"choropleth\": [{\"colorbar\": {\"outlinewidth\": 0, \"ticks\": \"\"}, \"type\": \"choropleth\"}], \"contour\": [{\"colorbar\": {\"outlinewidth\": 0, \"ticks\": \"\"}, \"colorscale\": [[0.0, \"#0d0887\"], [0.1111111111111111, \"#46039f\"], [0.2222222222222222, \"#7201a8\"], [0.3333333333333333, \"#9c179e\"], [0.4444444444444444, \"#bd3786\"], [0.5555555555555556, \"#d8576b\"], [0.6666666666666666, \"#ed7953\"], [0.7777777777777778, \"#fb9f3a\"], [0.8888888888888888, \"#fdca26\"], [1.0, \"#f0f921\"]], \"type\": \"contour\"}], \"contourcarpet\": [{\"colorbar\": {\"outlinewidth\": 0, \"ticks\": \"\"}, \"type\": \"contourcarpet\"}], \"heatmap\": [{\"colorbar\": {\"outlinewidth\": 0, \"ticks\": \"\"}, \"colorscale\": [[0.0, \"#0d0887\"], [0.1111111111111111, \"#46039f\"], [0.2222222222222222, \"#7201a8\"], [0.3333333333333333, \"#9c179e\"], [0.4444444444444444, \"#bd3786\"], [0.5555555555555556, \"#d8576b\"], [0.6666666666666666, \"#ed7953\"], [0.7777777777777778, \"#fb9f3a\"], [0.8888888888888888, \"#fdca26\"], [1.0, \"#f0f921\"]], \"type\": \"heatmap\"}], \"heatmapgl\": [{\"colorbar\": {\"outlinewidth\": 0, \"ticks\": \"\"}, \"colorscale\": [[0.0, \"#0d0887\"], [0.1111111111111111, \"#46039f\"], [0.2222222222222222, \"#7201a8\"], [0.3333333333333333, \"#9c179e\"], [0.4444444444444444, \"#bd3786\"], [0.5555555555555556, \"#d8576b\"], [0.6666666666666666, \"#ed7953\"], [0.7777777777777778, \"#fb9f3a\"], [0.8888888888888888, \"#fdca26\"], [1.0, \"#f0f921\"]], \"type\": \"heatmapgl\"}], \"histogram\": [{\"marker\": {\"colorbar\": {\"outlinewidth\": 0, \"ticks\": \"\"}}, \"type\": \"histogram\"}], \"histogram2d\": [{\"colorbar\": {\"outlinewidth\": 0, \"ticks\": \"\"}, \"colorscale\": [[0.0, \"#0d0887\"], [0.1111111111111111, \"#46039f\"], [0.2222222222222222, \"#7201a8\"], [0.3333333333333333, \"#9c179e\"], [0.4444444444444444, \"#bd3786\"], [0.5555555555555556, \"#d8576b\"], [0.6666666666666666, \"#ed7953\"], [0.7777777777777778, \"#fb9f3a\"], [0.8888888888888888, \"#fdca26\"], [1.0, \"#f0f921\"]], \"type\": \"histogram2d\"}], \"histogram2dcontour\": [{\"colorbar\": {\"outlinewidth\": 0, \"ticks\": \"\"}, \"colorscale\": [[0.0, \"#0d0887\"], [0.1111111111111111, \"#46039f\"], [0.2222222222222222, \"#7201a8\"], [0.3333333333333333, \"#9c179e\"], [0.4444444444444444, \"#bd3786\"], [0.5555555555555556, \"#d8576b\"], [0.6666666666666666, \"#ed7953\"], [0.7777777777777778, \"#fb9f3a\"], [0.8888888888888888, \"#fdca26\"], [1.0, \"#f0f921\"]], \"type\": \"histogram2dcontour\"}], \"mesh3d\": [{\"colorbar\": {\"outlinewidth\": 0, \"ticks\": \"\"}, \"type\": \"mesh3d\"}], \"parcoords\": [{\"line\": {\"colorbar\": {\"outlinewidth\": 0, \"ticks\": \"\"}}, \"type\": \"parcoords\"}], \"pie\": [{\"automargin\": true, \"type\": \"pie\"}], \"scatter\": [{\"marker\": {\"colorbar\": {\"outlinewidth\": 0, \"ticks\": \"\"}}, \"type\": \"scatter\"}], \"scatter3d\": [{\"line\": {\"colorbar\": {\"outlinewidth\": 0, \"ticks\": \"\"}}, \"marker\": {\"colorbar\": {\"outlinewidth\": 0, \"ticks\": \"\"}}, \"type\": \"scatter3d\"}], \"scattercarpet\": [{\"marker\": {\"colorbar\": {\"outlinewidth\": 0, \"ticks\": \"\"}}, \"type\": \"scattercarpet\"}], \"scattergeo\": [{\"marker\": {\"colorbar\": {\"outlinewidth\": 0, \"ticks\": \"\"}}, \"type\": \"scattergeo\"}], \"scattergl\": [{\"marker\": {\"colorbar\": {\"outlinewidth\": 0, \"ticks\": \"\"}}, \"type\": \"scattergl\"}], \"scattermapbox\": [{\"marker\": {\"colorbar\": {\"outlinewidth\": 0, \"ticks\": \"\"}}, \"type\": \"scattermapbox\"}], \"scatterpolar\": [{\"marker\": {\"colorbar\": {\"outlinewidth\": 0, \"ticks\": \"\"}}, \"type\": \"scatterpolar\"}], \"scatterpolargl\": [{\"marker\": {\"colorbar\": {\"outlinewidth\": 0, \"ticks\": \"\"}}, \"type\": \"scatterpolargl\"}], \"scatterternary\": [{\"marker\": {\"colorbar\": {\"outlinewidth\": 0, \"ticks\": \"\"}}, \"type\": \"scatterternary\"}], \"surface\": [{\"colorbar\": {\"outlinewidth\": 0, \"ticks\": \"\"}, \"colorscale\": [[0.0, \"#0d0887\"], [0.1111111111111111, \"#46039f\"], [0.2222222222222222, \"#7201a8\"], [0.3333333333333333, \"#9c179e\"], [0.4444444444444444, \"#bd3786\"], [0.5555555555555556, \"#d8576b\"], [0.6666666666666666, \"#ed7953\"], [0.7777777777777778, \"#fb9f3a\"], [0.8888888888888888, \"#fdca26\"], [1.0, \"#f0f921\"]], \"type\": \"surface\"}], \"table\": [{\"cells\": {\"fill\": {\"color\": \"#EBF0F8\"}, \"line\": {\"color\": \"white\"}}, \"header\": {\"fill\": {\"color\": \"#C8D4E3\"}, \"line\": {\"color\": \"white\"}}, \"type\": \"table\"}]}, \"layout\": {\"annotationdefaults\": {\"arrowcolor\": \"#2a3f5f\", \"arrowhead\": 0, \"arrowwidth\": 1}, \"coloraxis\": {\"colorbar\": {\"outlinewidth\": 0, \"ticks\": \"\"}}, \"colorscale\": {\"diverging\": [[0, \"#8e0152\"], [0.1, \"#c51b7d\"], [0.2, \"#de77ae\"], [0.3, \"#f1b6da\"], [0.4, \"#fde0ef\"], [0.5, \"#f7f7f7\"], [0.6, \"#e6f5d0\"], [0.7, \"#b8e186\"], [0.8, \"#7fbc41\"], [0.9, \"#4d9221\"], [1, \"#276419\"]], \"sequential\": [[0.0, \"#0d0887\"], [0.1111111111111111, \"#46039f\"], [0.2222222222222222, \"#7201a8\"], [0.3333333333333333, \"#9c179e\"], [0.4444444444444444, \"#bd3786\"], [0.5555555555555556, \"#d8576b\"], [0.6666666666666666, \"#ed7953\"], [0.7777777777777778, \"#fb9f3a\"], [0.8888888888888888, \"#fdca26\"], [1.0, \"#f0f921\"]], \"sequentialminus\": [[0.0, \"#0d0887\"], [0.1111111111111111, \"#46039f\"], [0.2222222222222222, \"#7201a8\"], [0.3333333333333333, \"#9c179e\"], [0.4444444444444444, \"#bd3786\"], [0.5555555555555556, \"#d8576b\"], [0.6666666666666666, \"#ed7953\"], [0.7777777777777778, \"#fb9f3a\"], [0.8888888888888888, \"#fdca26\"], [1.0, \"#f0f921\"]]}, \"colorway\": [\"#636efa\", \"#EF553B\", \"#00cc96\", \"#ab63fa\", \"#FFA15A\", \"#19d3f3\", \"#FF6692\", \"#B6E880\", \"#FF97FF\", \"#FECB52\"], \"font\": {\"color\": \"#2a3f5f\"}, \"geo\": {\"bgcolor\": \"white\", \"lakecolor\": \"white\", \"landcolor\": \"#E5ECF6\", \"showlakes\": true, \"showland\": true, \"subunitcolor\": \"white\"}, \"hoverlabel\": {\"align\": \"left\"}, \"hovermode\": \"closest\", \"mapbox\": {\"style\": \"light\"}, \"paper_bgcolor\": \"white\", \"plot_bgcolor\": \"#E5ECF6\", \"polar\": {\"angularaxis\": {\"gridcolor\": \"white\", \"linecolor\": \"white\", \"ticks\": \"\"}, \"bgcolor\": \"#E5ECF6\", \"radialaxis\": {\"gridcolor\": \"white\", \"linecolor\": \"white\", \"ticks\": \"\"}}, \"scene\": {\"xaxis\": {\"backgroundcolor\": \"#E5ECF6\", \"gridcolor\": \"white\", \"gridwidth\": 2, \"linecolor\": \"white\", \"showbackground\": true, \"ticks\": \"\", \"zerolinecolor\": \"white\"}, \"yaxis\": {\"backgroundcolor\": \"#E5ECF6\", \"gridcolor\": \"white\", \"gridwidth\": 2, \"linecolor\": \"white\", \"showbackground\": true, \"ticks\": \"\", \"zerolinecolor\": \"white\"}, \"zaxis\": {\"backgroundcolor\": \"#E5ECF6\", \"gridcolor\": \"white\", \"gridwidth\": 2, \"linecolor\": \"white\", \"showbackground\": true, \"ticks\": \"\", \"zerolinecolor\": \"white\"}}, \"shapedefaults\": {\"line\": {\"color\": \"#2a3f5f\"}}, \"ternary\": {\"aaxis\": {\"gridcolor\": \"white\", \"linecolor\": \"white\", \"ticks\": \"\"}, \"baxis\": {\"gridcolor\": \"white\", \"linecolor\": \"white\", \"ticks\": \"\"}, \"bgcolor\": \"#E5ECF6\", \"caxis\": {\"gridcolor\": \"white\", \"linecolor\": \"white\", \"ticks\": \"\"}}, \"title\": {\"x\": 0.05}, \"xaxis\": {\"automargin\": true, \"gridcolor\": \"white\", \"linecolor\": \"white\", \"ticks\": \"\", \"title\": {\"standoff\": 15}, \"zerolinecolor\": \"white\", \"zerolinewidth\": 2}, \"yaxis\": {\"automargin\": true, \"gridcolor\": \"white\", \"linecolor\": \"white\", \"ticks\": \"\", \"title\": {\"standoff\": 15}, \"zerolinecolor\": \"white\", \"zerolinewidth\": 2}}}, \"xaxis\": {\"anchor\": \"y\", \"domain\": [0.0, 1.0], \"title\": {\"text\": \"data_frames_preparation_extra_params.max_relative_pos_y\"}}, \"yaxis\": {\"anchor\": \"x\", \"domain\": [0.0, 1.0], \"title\": {\"text\": \"data_frames_preparation_extra_params.pos_max_deep_y\"}}},\n",
       "                        {\"responsive\": true}\n",
       "                    ).then(function(){\n",
       "                            \n",
       "var gd = document.getElementById('2d788ea3-c634-44c0-9b2b-5919e3d0697f');\n",
       "var x = new MutationObserver(function (mutations, observer) {{\n",
       "        var display = window.getComputedStyle(gd).display;\n",
       "        if (!display || display === 'none') {{\n",
       "            console.log([gd, 'removed!']);\n",
       "            Plotly.purge(gd);\n",
       "            observer.disconnect();\n",
       "        }}\n",
       "}});\n",
       "\n",
       "// Listen for the removal of the full notebook cells\n",
       "var notebookContainer = gd.closest('#notebook-container');\n",
       "if (notebookContainer) {{\n",
       "    x.observe(notebookContainer, {childList: true});\n",
       "}}\n",
       "\n",
       "// Listen for the clearing of the current output cell\n",
       "var outputEl = gd.closest('.output');\n",
       "if (outputEl) {{\n",
       "    x.observe(outputEl, {childList: true});\n",
       "}}\n",
       "\n",
       "                        })\n",
       "                };\n",
       "                });\n",
       "            </script>\n",
       "        </div>"
      ]
     },
     "metadata": {},
     "output_type": "display_data"
    }
   ],
   "source": [
    "import plotly.express as px\n",
    "fig = px.scatter(df, \n",
    "                 x=\"data_frames_preparation_extra_params.max_relative_pos_y\", \n",
    "                 y=\"data_frames_preparation_extra_params.pos_max_deep_y\",\n",
    "                size=\"mean_average_precision\")\n",
    "fig.show()"
   ]
  },
  {
   "cell_type": "code",
   "execution_count": null,
   "metadata": {},
   "outputs": [],
   "source": []
  },
  {
   "cell_type": "code",
   "execution_count": null,
   "metadata": {},
   "outputs": [],
   "source": []
  },
  {
   "cell_type": "code",
   "execution_count": null,
   "metadata": {},
   "outputs": [],
   "source": []
  },
  {
   "cell_type": "code",
   "execution_count": null,
   "metadata": {},
   "outputs": [],
   "source": []
  }
 ],
 "metadata": {
  "kernelspec": {
   "display_name": "Python 3",
   "language": "python",
   "name": "python3"
  },
  "language_info": {
   "codemirror_mode": {
    "name": "ipython",
    "version": 3
   },
   "file_extension": ".py",
   "mimetype": "text/x-python",
   "name": "python",
   "nbconvert_exporter": "python",
   "pygments_lexer": "ipython3",
   "version": "3.6.12"
  },
  "toc": {
   "base_numbering": 1,
   "nav_menu": {},
   "number_sections": true,
   "sideBar": true,
   "skip_h1_title": false,
   "title_cell": "Table of Contents",
   "title_sidebar": "Contents",
   "toc_cell": false,
   "toc_position": {},
   "toc_section_display": true,
   "toc_window_display": false
  }
 },
 "nbformat": 4,
 "nbformat_minor": 4
}
