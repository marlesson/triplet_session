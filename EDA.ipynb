{
 "cells": [
  {
   "cell_type": "code",
   "execution_count": 1,
   "metadata": {},
   "outputs": [],
   "source": [
    "import pandas as pd"
   ]
  },
  {
   "cell_type": "code",
   "execution_count": 7,
   "metadata": {},
   "outputs": [
    {
     "data": {
      "text/plain": [
       "(60928, 12)"
      ]
     },
     "execution_count": 7,
     "metadata": {},
     "output_type": "execute_result"
    }
   ],
   "source": [
    "df_session = pd.read_csv('/media/workspace/triplet_session/output/yoochoose/dataset/train_0.01_test=random_42_none_PrepareSessionInteractionsDataFrames_available_arms____None_6e929f94bd.csv')\n",
    "df_session.shape"
   ]
  },
  {
   "cell_type": "code",
   "execution_count": 8,
   "metadata": {},
   "outputs": [
    {
     "data": {
      "text/html": [
       "<div>\n",
       "<style scoped>\n",
       "    .dataframe tbody tr th:only-of-type {\n",
       "        vertical-align: middle;\n",
       "    }\n",
       "\n",
       "    .dataframe tbody tr th {\n",
       "        vertical-align: top;\n",
       "    }\n",
       "\n",
       "    .dataframe thead th {\n",
       "        text-align: right;\n",
       "    }\n",
       "</style>\n",
       "<table border=\"1\" class=\"dataframe\">\n",
       "  <thead>\n",
       "    <tr style=\"text-align: right;\">\n",
       "      <th></th>\n",
       "      <th>SessionID</th>\n",
       "      <th>ItemID_A</th>\n",
       "      <th>pos_A</th>\n",
       "      <th>ItemID_B</th>\n",
       "      <th>pos_B</th>\n",
       "      <th>relative_pos</th>\n",
       "      <th>total_ocr</th>\n",
       "      <th>prob</th>\n",
       "      <th>sub_a_b</th>\n",
       "      <th>ItemID</th>\n",
       "      <th>available_arms</th>\n",
       "      <th>visit</th>\n",
       "    </tr>\n",
       "  </thead>\n",
       "  <tbody>\n",
       "    <tr>\n",
       "      <th>0</th>\n",
       "      <td>221307</td>\n",
       "      <td>214835390</td>\n",
       "      <td>0</td>\n",
       "      <td>214835368</td>\n",
       "      <td>1</td>\n",
       "      <td>1</td>\n",
       "      <td>77</td>\n",
       "      <td>0.051948</td>\n",
       "      <td>[214835368, 214600922, 214613685, 214835385, 2...</td>\n",
       "      <td>214835390</td>\n",
       "      <td>[214510700, 214531612, 214536386, 214537745, 2...</td>\n",
       "      <td>1.0</td>\n",
       "    </tr>\n",
       "    <tr>\n",
       "      <th>1</th>\n",
       "      <td>18141</td>\n",
       "      <td>214835816</td>\n",
       "      <td>2</td>\n",
       "      <td>214819438</td>\n",
       "      <td>0</td>\n",
       "      <td>2</td>\n",
       "      <td>75</td>\n",
       "      <td>0.040000</td>\n",
       "      <td>[214581504, 214836232, 214836114, 214836118, 2...</td>\n",
       "      <td>214835816</td>\n",
       "      <td>[214532000, 214534667, 214538430, 214539399, 2...</td>\n",
       "      <td>1.0</td>\n",
       "    </tr>\n",
       "    <tr>\n",
       "      <th>2</th>\n",
       "      <td>11229</td>\n",
       "      <td>214839755</td>\n",
       "      <td>5</td>\n",
       "      <td>214835760</td>\n",
       "      <td>4</td>\n",
       "      <td>1</td>\n",
       "      <td>569</td>\n",
       "      <td>0.005272</td>\n",
       "      <td>[214587650, 214835717, 214820231, 214833800, 2...</td>\n",
       "      <td>214839755</td>\n",
       "      <td>[214534217, 214537751, 214541060, 214550390, 2...</td>\n",
       "      <td>1.0</td>\n",
       "    </tr>\n",
       "    <tr>\n",
       "      <th>3</th>\n",
       "      <td>354888</td>\n",
       "      <td>214826615</td>\n",
       "      <td>0</td>\n",
       "      <td>214573288</td>\n",
       "      <td>1</td>\n",
       "      <td>1</td>\n",
       "      <td>2556</td>\n",
       "      <td>0.003130</td>\n",
       "      <td>[214711297, 214791682, 214757379, 214553604, 2...</td>\n",
       "      <td>214826615</td>\n",
       "      <td>[214512673, 214530789, 214536386, 214539403, 2...</td>\n",
       "      <td>1.0</td>\n",
       "    </tr>\n",
       "    <tr>\n",
       "      <th>4</th>\n",
       "      <td>307293</td>\n",
       "      <td>214820300</td>\n",
       "      <td>3</td>\n",
       "      <td>214591725</td>\n",
       "      <td>5</td>\n",
       "      <td>2</td>\n",
       "      <td>61</td>\n",
       "      <td>0.065574</td>\n",
       "      <td>[214718405, 214706280, 214820300, 214591725, 2...</td>\n",
       "      <td>214820300</td>\n",
       "      <td>[214513063, 214514293, 214518817, 214531355, 2...</td>\n",
       "      <td>1.0</td>\n",
       "    </tr>\n",
       "  </tbody>\n",
       "</table>\n",
       "</div>"
      ],
      "text/plain": [
       "   SessionID   ItemID_A  pos_A   ItemID_B  pos_B  relative_pos  total_ocr  \\\n",
       "0     221307  214835390      0  214835368      1             1         77   \n",
       "1      18141  214835816      2  214819438      0             2         75   \n",
       "2      11229  214839755      5  214835760      4             1        569   \n",
       "3     354888  214826615      0  214573288      1             1       2556   \n",
       "4     307293  214820300      3  214591725      5             2         61   \n",
       "\n",
       "       prob                                            sub_a_b     ItemID  \\\n",
       "0  0.051948  [214835368, 214600922, 214613685, 214835385, 2...  214835390   \n",
       "1  0.040000  [214581504, 214836232, 214836114, 214836118, 2...  214835816   \n",
       "2  0.005272  [214587650, 214835717, 214820231, 214833800, 2...  214839755   \n",
       "3  0.003130  [214711297, 214791682, 214757379, 214553604, 2...  214826615   \n",
       "4  0.065574  [214718405, 214706280, 214820300, 214591725, 2...  214820300   \n",
       "\n",
       "                                      available_arms  visit  \n",
       "0  [214510700, 214531612, 214536386, 214537745, 2...    1.0  \n",
       "1  [214532000, 214534667, 214538430, 214539399, 2...    1.0  \n",
       "2  [214534217, 214537751, 214541060, 214550390, 2...    1.0  \n",
       "3  [214512673, 214530789, 214536386, 214539403, 2...    1.0  \n",
       "4  [214513063, 214514293, 214518817, 214531355, 2...    1.0  "
      ]
     },
     "execution_count": 8,
     "metadata": {},
     "output_type": "execute_result"
    }
   ],
   "source": [
    "df_session.head()"
   ]
  },
  {
   "cell_type": "code",
   "execution_count": 9,
   "metadata": {},
   "outputs": [
    {
     "data": {
      "text/plain": [
       "(812394, 7)"
      ]
     },
     "execution_count": 9,
     "metadata": {},
     "output_type": "execute_result"
    }
   ],
   "source": [
    "df_train = pd.read_csv('/media/workspace/triplet_session/output/yoochoose/dataset/train_0.01_test=random_42_none_SessionInteractionDataFrame_AvailableItems____None_7a340ca010.csv')\n",
    "df_train.shape"
   ]
  },
  {
   "cell_type": "code",
   "execution_count": 10,
   "metadata": {},
   "outputs": [
    {
     "data": {
      "text/html": [
       "<div>\n",
       "<style scoped>\n",
       "    .dataframe tbody tr th:only-of-type {\n",
       "        vertical-align: middle;\n",
       "    }\n",
       "\n",
       "    .dataframe tbody tr th {\n",
       "        vertical-align: top;\n",
       "    }\n",
       "\n",
       "    .dataframe thead th {\n",
       "        text-align: right;\n",
       "    }\n",
       "</style>\n",
       "<table border=\"1\" class=\"dataframe\">\n",
       "  <thead>\n",
       "    <tr style=\"text-align: right;\">\n",
       "      <th></th>\n",
       "      <th>SessionID</th>\n",
       "      <th>Timestamp</th>\n",
       "      <th>ItemID</th>\n",
       "      <th>Category</th>\n",
       "      <th>ItemIDHistory</th>\n",
       "      <th>AvailableItems</th>\n",
       "      <th>visit</th>\n",
       "    </tr>\n",
       "  </thead>\n",
       "  <tbody>\n",
       "    <tr>\n",
       "      <th>0</th>\n",
       "      <td>171168</td>\n",
       "      <td>2014-04-01 00:00:32.610</td>\n",
       "      <td>214820231</td>\n",
       "      <td>0</td>\n",
       "      <td>[0, 0, 0, 0, 0, 0, 0, 0, 0, 214594678]</td>\n",
       "      <td>[214834980, 214658280, 214552492, 214832383, 2...</td>\n",
       "      <td>1</td>\n",
       "    </tr>\n",
       "    <tr>\n",
       "      <th>1</th>\n",
       "      <td>389654</td>\n",
       "      <td>2014-04-01 00:00:48.736</td>\n",
       "      <td>214587557</td>\n",
       "      <td>0</td>\n",
       "      <td>[0, 0, 0, 0, 0, 0, 0, 0, 0, 214826705]</td>\n",
       "      <td>[214507408, 214631735, 214730518, 214600479, 2...</td>\n",
       "      <td>1</td>\n",
       "    </tr>\n",
       "    <tr>\n",
       "      <th>2</th>\n",
       "      <td>375257</td>\n",
       "      <td>2014-04-01 00:01:03.866</td>\n",
       "      <td>214582935</td>\n",
       "      <td>0</td>\n",
       "      <td>[0, 0, 0, 0, 0, 0, 0, 0, 0, 214644307]</td>\n",
       "      <td>[214674857, 214559019, 214555277, 214694756, 2...</td>\n",
       "      <td>1</td>\n",
       "    </tr>\n",
       "    <tr>\n",
       "      <th>3</th>\n",
       "      <td>263073</td>\n",
       "      <td>2014-04-01 00:01:07.619</td>\n",
       "      <td>214716982</td>\n",
       "      <td>0</td>\n",
       "      <td>[0, 0, 0, 0, 0, 0, 0, 0, 0, 214716982]</td>\n",
       "      <td>[214544936, 214691248, 214836997, 214692718, 2...</td>\n",
       "      <td>1</td>\n",
       "    </tr>\n",
       "    <tr>\n",
       "      <th>4</th>\n",
       "      <td>345618</td>\n",
       "      <td>2014-04-01 00:01:15.896</td>\n",
       "      <td>214705119</td>\n",
       "      <td>0</td>\n",
       "      <td>[0, 0, 0, 0, 0, 0, 0, 0, 0, 214687685]</td>\n",
       "      <td>[214552162, 214669867, 214708018, 214586910, 2...</td>\n",
       "      <td>1</td>\n",
       "    </tr>\n",
       "  </tbody>\n",
       "</table>\n",
       "</div>"
      ],
      "text/plain": [
       "   SessionID                Timestamp     ItemID  Category  \\\n",
       "0     171168  2014-04-01 00:00:32.610  214820231         0   \n",
       "1     389654  2014-04-01 00:00:48.736  214587557         0   \n",
       "2     375257  2014-04-01 00:01:03.866  214582935         0   \n",
       "3     263073  2014-04-01 00:01:07.619  214716982         0   \n",
       "4     345618  2014-04-01 00:01:15.896  214705119         0   \n",
       "\n",
       "                            ItemIDHistory  \\\n",
       "0  [0, 0, 0, 0, 0, 0, 0, 0, 0, 214594678]   \n",
       "1  [0, 0, 0, 0, 0, 0, 0, 0, 0, 214826705]   \n",
       "2  [0, 0, 0, 0, 0, 0, 0, 0, 0, 214644307]   \n",
       "3  [0, 0, 0, 0, 0, 0, 0, 0, 0, 214716982]   \n",
       "4  [0, 0, 0, 0, 0, 0, 0, 0, 0, 214687685]   \n",
       "\n",
       "                                      AvailableItems  visit  \n",
       "0  [214834980, 214658280, 214552492, 214832383, 2...      1  \n",
       "1  [214507408, 214631735, 214730518, 214600479, 2...      1  \n",
       "2  [214674857, 214559019, 214555277, 214694756, 2...      1  \n",
       "3  [214544936, 214691248, 214836997, 214692718, 2...      1  \n",
       "4  [214552162, 214669867, 214708018, 214586910, 2...      1  "
      ]
     },
     "execution_count": 10,
     "metadata": {},
     "output_type": "execute_result"
    }
   ],
   "source": [
    "df_train.head()"
   ]
  },
  {
   "cell_type": "code",
   "execution_count": null,
   "metadata": {},
   "outputs": [],
   "source": []
  },
  {
   "cell_type": "code",
   "execution_count": null,
   "metadata": {},
   "outputs": [],
   "source": []
  },
  {
   "cell_type": "code",
   "execution_count": 14,
   "metadata": {},
   "outputs": [
    {
     "data": {
      "text/plain": [
       "(7004, 1)"
      ]
     },
     "execution_count": 14,
     "metadata": {},
     "output_type": "execute_result"
    }
   ],
   "source": [
    "df_item_s = df_session[['ItemID']].drop_duplicates()\n",
    "df_item_s.shape"
   ]
  },
  {
   "cell_type": "code",
   "execution_count": 12,
   "metadata": {},
   "outputs": [
    {
     "data": {
      "text/plain": [
       "(19945, 1)"
      ]
     },
     "execution_count": 12,
     "metadata": {},
     "output_type": "execute_result"
    }
   ],
   "source": [
    "df_item_t = df_train[['ItemID']].drop_duplicates()\n",
    "df_item_t.shape"
   ]
  },
  {
   "cell_type": "code",
   "execution_count": null,
   "metadata": {},
   "outputs": [],
   "source": []
  }
 ],
 "metadata": {
  "kernelspec": {
   "display_name": "Python 3.7.3 64-bit ('base': conda)",
   "language": "python",
   "name": "python37364bitbaseconda71fa0390d2e947479e80d6476a063090"
  },
  "language_info": {
   "codemirror_mode": {
    "name": "ipython",
    "version": 3
   },
   "file_extension": ".py",
   "mimetype": "text/x-python",
   "name": "python",
   "nbconvert_exporter": "python",
   "pygments_lexer": "ipython3",
   "version": "3.7.3"
  },
  "toc": {
   "base_numbering": 1,
   "nav_menu": {},
   "number_sections": true,
   "sideBar": true,
   "skip_h1_title": false,
   "title_cell": "Table of Contents",
   "title_sidebar": "Contents",
   "toc_cell": false,
   "toc_position": {},
   "toc_section_display": true,
   "toc_window_display": false
  }
 },
 "nbformat": 4,
 "nbformat_minor": 4
}
