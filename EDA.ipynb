{
 "cells": [
  {
   "cell_type": "code",
   "execution_count": 1,
   "metadata": {},
   "outputs": [],
   "source": [
    "import pandas as pd\n",
    "from pyspark import SparkContext\n",
    "from pyspark.sql import SparkSession\n",
    "from pyspark.sql import functions as F\n",
    "from pyspark.sql.functions import collect_set, collect_list, lit, sum, udf, concat_ws, col, count, abs, date_format, \\\n",
    "    from_utc_timestamp, expr, min, max\n",
    "from pyspark.sql.functions import col, udf, size\n",
    "from pyspark.sql.types import *\n",
    "from pyspark.sql import functions as F\n",
    "from pyspark.sql import Window\n",
    "from pyspark.sql.functions import explode, posexplode"
   ]
  },
  {
   "cell_type": "code",
   "execution_count": 2,
   "metadata": {},
   "outputs": [
    {
     "data": {
      "text/html": [
       "\n",
       "            <div>\n",
       "                <p><b>SparkSession - hive</b></p>\n",
       "                \n",
       "        <div>\n",
       "            <p><b>SparkContext</b></p>\n",
       "\n",
       "            <p><a href=\"http://localhost:4040\">Spark UI</a></p>\n",
       "\n",
       "            <dl>\n",
       "              <dt>Version</dt>\n",
       "                <dd><code>v2.3.3</code></dd>\n",
       "              <dt>Master</dt>\n",
       "                <dd><code>local[10]</code></dd>\n",
       "              <dt>AppName</dt>\n",
       "                <dd><code>pyspark-shell</code></dd>\n",
       "            </dl>\n",
       "        </div>\n",
       "        \n",
       "            </div>\n",
       "        "
      ],
      "text/plain": [
       "<pyspark.sql.session.SparkSession at 0x7f42cc55ac88>"
      ]
     },
     "execution_count": 2,
     "metadata": {},
     "output_type": "execute_result"
    }
   ],
   "source": [
    "spark"
   ]
  },
  {
   "cell_type": "code",
   "execution_count": 84,
   "metadata": {},
   "outputs": [],
   "source": [
    "OUTPUT_PATH: str = os.environ[\n",
    "    \"OUTPUT_PATH\"\n",
    "] if \"OUTPUT_PATH\" in os.environ else os.path.join(\"output\")\n",
    "BASE_DIR: str = os.path.join(OUTPUT_PATH, \"globo\")\n",
    "DATASET_DIR: str = os.path.join(OUTPUT_PATH, \"globo\", \"dataset\")\n",
    "\n",
    "BASE_DATASET_FILE : str = os.path.join(OUTPUT_PATH, \"globo\", \"archive\", 'clicks', 'clicks', '*.csv')\n",
    "\n",
    "    \n",
    "df = spark.read.csv(BASE_DATASET_FILE, header=True, inferSchema=True)"
   ]
  },
  {
   "cell_type": "code",
   "execution_count": 85,
   "metadata": {},
   "outputs": [
    {
     "data": {
      "text/plain": [
       "2988181"
      ]
     },
     "execution_count": 85,
     "metadata": {},
     "output_type": "execute_result"
    }
   ],
   "source": [
    "df.count()"
   ]
  },
  {
   "cell_type": "code",
   "execution_count": 86,
   "metadata": {},
   "outputs": [
    {
     "name": "stdout",
     "output_type": "stream",
     "text": [
      "root\n",
      " |-- user_id: integer (nullable = true)\n",
      " |-- session_id: long (nullable = true)\n",
      " |-- session_start: long (nullable = true)\n",
      " |-- session_size: integer (nullable = true)\n",
      " |-- click_article_id: integer (nullable = true)\n",
      " |-- click_timestamp: long (nullable = true)\n",
      " |-- click_environment: integer (nullable = true)\n",
      " |-- click_deviceGroup: integer (nullable = true)\n",
      " |-- click_os: integer (nullable = true)\n",
      " |-- click_country: integer (nullable = true)\n",
      " |-- click_region: integer (nullable = true)\n",
      " |-- click_referrer_type: integer (nullable = true)\n",
      "\n"
     ]
    }
   ],
   "source": [
    "df.printSchema()"
   ]
  },
  {
   "cell_type": "code",
   "execution_count": 87,
   "metadata": {},
   "outputs": [],
   "source": [
    "df = df.withColumnRenamed(\"session_id\", \"SessionID\")\\\n",
    "    .withColumnRenamed(\"click_timestamp\", \"Timestamp_\")\\\n",
    "    .withColumnRenamed(\"click_article_id\", \"ItemID\")\\\n",
    "    .withColumn(\"Timestamp\",F.from_unixtime(col(\"Timestamp_\")/lit(1000)).cast(\"timestamp\"))\\\n",
    "    .orderBy(col('Timestamp')).select(\"SessionID\", \"ItemID\", \"Timestamp\", \"Timestamp_\")"
   ]
  },
  {
   "cell_type": "code",
   "execution_count": 88,
   "metadata": {},
   "outputs": [
    {
     "name": "stdout",
     "output_type": "stream",
     "text": [
      "+----------------+------+-------------------+-------------+\n",
      "|       SessionID|ItemID|          Timestamp|   Timestamp_|\n",
      "+----------------+------+-------------------+-------------+\n",
      "|1506826329267796|234853|2017-10-01 00:00:00|1506826800026|\n",
      "+----------------+------+-------------------+-------------+\n",
      "only showing top 1 row\n",
      "\n"
     ]
    }
   ],
   "source": [
    "df.show(1)"
   ]
  },
  {
   "cell_type": "code",
   "execution_count": 89,
   "metadata": {},
   "outputs": [
    {
     "name": "stdout",
     "output_type": "stream",
     "text": [
      "root\n",
      " |-- SessionID: long (nullable = true)\n",
      " |-- ItemID: integer (nullable = true)\n",
      " |-- Timestamp: timestamp (nullable = true)\n",
      " |-- Timestamp_: long (nullable = true)\n",
      "\n"
     ]
    }
   ],
   "source": [
    "df.printSchema()"
   ]
  },
  {
   "cell_type": "code",
   "execution_count": 90,
   "metadata": {},
   "outputs": [
    {
     "data": {
      "text/plain": [
       "1549033933"
      ]
     },
     "execution_count": 90,
     "metadata": {},
     "output_type": "execute_result"
    }
   ],
   "source": [
    "1506826800026\n",
    "1549033933"
   ]
  },
  {
   "cell_type": "code",
   "execution_count": 99,
   "metadata": {},
   "outputs": [
    {
     "name": "stdout",
     "output_type": "stream",
     "text": [
      "+----------------+------+-------------------+-------------+\n",
      "|       SessionID|ItemID|          Timestamp|   Timestamp_|\n",
      "+----------------+------+-------------------+-------------+\n",
      "|1508205226121508| 36162|2017-10-16 23:59:58|1508205598971|\n",
      "|1508204554122178|277107|2017-10-16 23:59:56|1508205596794|\n",
      "|1508205596265651|177442|2017-10-16 23:59:56|1508205596210|\n",
      "|1508204173113977|211442|2017-10-16 23:59:55|1508205595299|\n",
      "|1508204800214313| 36162|2017-10-16 23:59:55|1508205595791|\n",
      "|1508204950581387| 70758|2017-10-16 23:59:52|1508205592460|\n",
      "|1508205520266626| 36162|2017-10-16 23:59:51|1508205591160|\n",
      "|1508205185244493|234978|2017-10-16 23:59:51|1508205591283|\n",
      "|1508205557313642|202370|2017-10-16 23:59:49|1508205589408|\n",
      "|1508203589203632|224730|2017-10-16 23:59:48|1508205588280|\n",
      "|1508205442291596| 36162|2017-10-16 23:59:46|1508205586031|\n",
      "|1508204438162127|315104|2017-10-16 23:59:46|1508205586181|\n",
      "|1508205084221452|266024|2017-10-16 23:59:45|1508205585360|\n",
      "|1508203661116684| 30760|2017-10-16 23:59:45|1508205585265|\n",
      "|1508205462121606|156279|2017-10-16 23:59:42|1508205582979|\n",
      "|1508205549262639| 16346|2017-10-16 23:59:39|1508205579125|\n",
      "|1508205548135637|211442|2017-10-16 23:59:39|1508205579695|\n",
      "|1508205289387549|211442|2017-10-16 23:59:39|1508205579111|\n",
      "|1508205056115431|271859|2017-10-16 23:59:39|1508205579848|\n",
      "|1508205340306568|224730|2017-10-16 23:59:38|1508205578984|\n",
      "|1508203044128316|211442|2017-10-16 23:59:37|1508205577236|\n",
      "|1508204417204124|156279|2017-10-16 23:59:36|1508205576015|\n",
      "|1508204452351139|234308|2017-10-16 23:59:36|1508205576624|\n",
      "|1508204233248006| 50644|2017-10-16 23:59:34|1508205574766|\n",
      "|1508205094177457|159452|2017-10-16 23:59:33|1508205573056|\n",
      "|1508205527242632| 36162|2017-10-16 23:59:32|1508205572725|\n",
      "|1508204179201979|277107|2017-10-16 23:59:32|1508205572014|\n",
      "|1508205490692613|168416|2017-10-16 23:59:32|1508205572330|\n",
      "|1508204352359092|209122|2017-10-16 23:59:31|1508205571378|\n",
      "|1508204482507153|156279|2017-10-16 23:59:31|1508205571036|\n",
      "|1508205123672467|255683|2017-10-16 23:59:30|1508205570135|\n",
      "|1508205226121508| 70758|2017-10-16 23:59:28|1508205568971|\n",
      "|1508205481332612|277107|2017-10-16 23:59:27|1508205567272|\n",
      "|1508200365243537|234481|2017-10-16 23:59:26|1508205566941|\n",
      "|1508204173113977|107299|2017-10-16 23:59:25|1508205565299|\n",
      "|1508205415408586|242282|2017-10-16 23:59:25|1508205565392|\n",
      "|1508205444293599|224730|2017-10-16 23:59:25|1508205565789|\n",
      "|1508205278320544| 30955|2017-10-16 23:59:25|1508205565728|\n",
      "|1508205246314523|211722|2017-10-16 23:59:24|1508205564434|\n",
      "|1508205246101524| 42401|2017-10-16 23:59:24|1508205564979|\n",
      "|1508192874367273|209122|2017-10-16 23:59:24|1508205564619|\n",
      "|1508205334281565| 50644|2017-10-16 23:59:22|1508205562421|\n",
      "|1508205185244493|224730|2017-10-16 23:59:21|1508205561283|\n",
      "|1508205520266626|209122|2017-10-16 23:59:21|1508205561160|\n",
      "|1508205473132610|156279|2017-10-16 23:59:20|1508205560587|\n",
      "|1508204207128990|277107|2017-10-16 23:59:20|1508205560842|\n",
      "|1508203589203632|207603|2017-10-16 23:59:18|1508205558280|\n",
      "|1508205538172634|209122|2017-10-16 23:59:17|1508205557763|\n",
      "|1508205507274621|315104|2017-10-16 23:59:16|1508205556502|\n",
      "|1508204438162127| 70240|2017-10-16 23:59:16|1508205556181|\n",
      "|1508205235335516| 73506|2017-10-16 23:59:16|1508205556474|\n",
      "|1508204893349360| 16346|2017-10-16 23:59:16|1508205556282|\n",
      "|1508203661116684|206415|2017-10-16 23:59:15|1508205555265|\n",
      "|1508199783426145|352979|2017-10-16 23:59:12|1508205552417|\n",
      "|1508205462121606| 36162|2017-10-16 23:59:12|1508205552979|\n",
      "|1508198801334371|342083|2017-10-16 23:59:11|1508205551113|\n",
      "|1508205477384611| 79851|2017-10-16 23:59:11|1508205551579|\n",
      "|1508205502343618| 16346|2017-10-16 23:59:11|1508205551780|\n",
      "|1508204408842114|353415|2017-10-16 23:59:10|1508205550045|\n",
      "|1508205289387549| 70758|2017-10-16 23:59:09|1508205549111|\n",
      "|1508205549262639| 16667|2017-10-16 23:59:09|1508205549125|\n",
      "|1508205517267623|284209|2017-10-16 23:59:07|1508205547463|\n",
      "|1508204452351139|209122|2017-10-16 23:59:06|1508205546624|\n",
      "|1508205244409522|  3784|2017-10-16 23:59:06|1508205546655|\n",
      "|1508205453319605|277107|2017-10-16 23:59:06|1508205546762|\n",
      "|1508205300175555|156279|2017-10-16 23:59:05|1508205545259|\n",
      "|1508205286412546|211442|2017-10-16 23:59:05|1508205545375|\n",
      "|1508205465265608|211442|2017-10-16 23:59:04|1508205544876|\n",
      "|1508202761198146| 42401|2017-10-16 23:59:04|1508205544007|\n",
      "|1508205527242632|205824|2017-10-16 23:59:02|1508205542725|\n",
      "|1508204179201979|161512|2017-10-16 23:59:02|1508205542014|\n",
      "|1508205452135602| 36162|2017-10-16 23:59:02|1508205542009|\n",
      "|1508205490692613| 36162|2017-10-16 23:59:02|1508205542330|\n",
      "|1508204482507153|161526|2017-10-16 23:59:01|1508205541036|\n",
      "|1508205418291589|199437|2017-10-16 23:59:01|1508205541539|\n",
      "|1508205123672467| 79851|2017-10-16 23:59:00|1508205540135|\n",
      "|1508205495325617|209122|2017-10-16 23:58:59|1508205539775|\n",
      "|1508201570908331|107065|2017-10-16 23:58:58|1508205538518|\n",
      "|1508203728361738|156279|2017-10-16 23:58:58|1508205538142|\n",
      "|1508205423591590|156279|2017-10-16 23:58:58|1508205538292|\n",
      "|1508205277288542|234481|2017-10-16 23:58:57|1508205537270|\n",
      "|1508205481332612|234481|2017-10-16 23:58:57|1508205537272|\n",
      "|1508204878414350|288942|2017-10-16 23:58:55|1508205535538|\n",
      "|1508205444293599| 36162|2017-10-16 23:58:55|1508205535789|\n",
      "|1508205415408586|199475|2017-10-16 23:58:55|1508205535392|\n",
      "|1508192874367273| 70758|2017-10-16 23:58:54|1508205534619|\n",
      "|1508196359373506|234481|2017-10-16 23:58:54|1508205534017|\n",
      "|1508205246314523|211442|2017-10-16 23:58:54|1508205534434|\n",
      "|1508205334281565| 70986|2017-10-16 23:58:52|1508205532421|\n",
      "|1508205473132610|211442|2017-10-16 23:58:50|1508205530587|\n",
      "|1508205453214604|298562|2017-10-16 23:58:48|1508205528789|\n",
      "|1508204829125324| 16346|2017-10-16 23:58:48|1508205528328|\n",
      "|1508204893349360| 36385|2017-10-16 23:58:46|1508205526282|\n",
      "|1508205507274621|234308|2017-10-16 23:58:46|1508205526502|\n",
      "|1508205235335516| 70240|2017-10-16 23:58:46|1508205526474|\n",
      "|1508205444328598| 70986|2017-10-16 23:58:46|1508205526472|\n",
      "|1508205415408586|243304|2017-10-16 23:58:41|1508205521484|\n",
      "|1508205502343618|209122|2017-10-16 23:58:41|1508205521780|\n",
      "|1508205201176497| 50644|2017-10-16 23:58:41|1508205521100|\n",
      "|1508205477384611|202370|2017-10-16 23:58:41|1508205521579|\n",
      "+----------------+------+-------------------+-------------+\n",
      "only showing top 100 rows\n",
      "\n"
     ]
    }
   ],
   "source": [
    "df.orderBy(col('Timestamp'), ascending=False).filter(col('Timestamp') < '2017-10-16 24:59:59').show(100)"
   ]
  },
  {
   "cell_type": "code",
   "execution_count": 91,
   "metadata": {},
   "outputs": [
    {
     "name": "stdout",
     "output_type": "stream",
     "text": [
      "+-------------------+-------------------+\n",
      "|     min(Timestamp)|     max(Timestamp)|\n",
      "+-------------------+-------------------+\n",
      "|2017-10-01 00:00:00|2017-11-13 18:04:14|\n",
      "+-------------------+-------------------+\n",
      "\n"
     ]
    }
   ],
   "source": [
    "df.select(min(col('Timestamp')), max(col('Timestamp'))).show()"
   ]
  },
  {
   "cell_type": "code",
   "execution_count": 92,
   "metadata": {
    "scrolled": true
   },
   "outputs": [
    {
     "data": {
      "text/plain": [
       "datetime.datetime(2017, 11, 13, 18, 4, 14)"
      ]
     },
     "execution_count": 92,
     "metadata": {},
     "output_type": "execute_result"
    }
   ],
   "source": [
    "max_timestamp = df.select(max(col('Timestamp'))).collect()[0]['max(Timestamp)']\n",
    "max_timestamp"
   ]
  },
  {
   "cell_type": "code",
   "execution_count": 93,
   "metadata": {},
   "outputs": [
    {
     "data": {
      "text/plain": [
       "datetime.datetime(2017, 10, 28, 18, 4, 14)"
      ]
     },
     "execution_count": 93,
     "metadata": {},
     "output_type": "execute_result"
    }
   ],
   "source": [
    "from datetime import datetime, timedelta\n",
    "\n",
    "init_timestamp = max_timestamp - timedelta(days = 16 )\n",
    "init_timestamp"
   ]
  },
  {
   "cell_type": "code",
   "execution_count": 11,
   "metadata": {},
   "outputs": [],
   "source": [
    "_df = df.filter(col('Timestamp') >= init_timestamp).cache()"
   ]
  },
  {
   "cell_type": "code",
   "execution_count": 12,
   "metadata": {},
   "outputs": [
    {
     "data": {
      "text/plain": [
       "2811894"
      ]
     },
     "execution_count": 12,
     "metadata": {},
     "output_type": "execute_result"
    }
   ],
   "source": [
    "_df.count()"
   ]
  },
  {
   "cell_type": "code",
   "execution_count": null,
   "metadata": {},
   "outputs": [],
   "source": []
  },
  {
   "cell_type": "code",
   "execution_count": null,
   "metadata": {},
   "outputs": [],
   "source": []
  },
  {
   "cell_type": "code",
   "execution_count": null,
   "metadata": {},
   "outputs": [],
   "source": []
  },
  {
   "cell_type": "code",
   "execution_count": 9,
   "metadata": {},
   "outputs": [
    {
     "data": {
      "text/plain": [
       "(812394, 7)"
      ]
     },
     "execution_count": 9,
     "metadata": {},
     "output_type": "execute_result"
    }
   ],
   "source": [
    "df_train = pd.read_csv('/media/workspace/triplet_session/output/yoochoose/dataset/train_0.01_test=random_42_none_SessionInteractionDataFrame_AvailableItems____None_7a340ca010.csv')\n",
    "df_train.shape"
   ]
  },
  {
   "cell_type": "code",
   "execution_count": 10,
   "metadata": {},
   "outputs": [
    {
     "data": {
      "text/html": [
       "<div>\n",
       "<style scoped>\n",
       "    .dataframe tbody tr th:only-of-type {\n",
       "        vertical-align: middle;\n",
       "    }\n",
       "\n",
       "    .dataframe tbody tr th {\n",
       "        vertical-align: top;\n",
       "    }\n",
       "\n",
       "    .dataframe thead th {\n",
       "        text-align: right;\n",
       "    }\n",
       "</style>\n",
       "<table border=\"1\" class=\"dataframe\">\n",
       "  <thead>\n",
       "    <tr style=\"text-align: right;\">\n",
       "      <th></th>\n",
       "      <th>SessionID</th>\n",
       "      <th>Timestamp</th>\n",
       "      <th>ItemID</th>\n",
       "      <th>Category</th>\n",
       "      <th>ItemIDHistory</th>\n",
       "      <th>AvailableItems</th>\n",
       "      <th>visit</th>\n",
       "    </tr>\n",
       "  </thead>\n",
       "  <tbody>\n",
       "    <tr>\n",
       "      <th>0</th>\n",
       "      <td>171168</td>\n",
       "      <td>2014-04-01 00:00:32.610</td>\n",
       "      <td>214820231</td>\n",
       "      <td>0</td>\n",
       "      <td>[0, 0, 0, 0, 0, 0, 0, 0, 0, 214594678]</td>\n",
       "      <td>[214834980, 214658280, 214552492, 214832383, 2...</td>\n",
       "      <td>1</td>\n",
       "    </tr>\n",
       "    <tr>\n",
       "      <th>1</th>\n",
       "      <td>389654</td>\n",
       "      <td>2014-04-01 00:00:48.736</td>\n",
       "      <td>214587557</td>\n",
       "      <td>0</td>\n",
       "      <td>[0, 0, 0, 0, 0, 0, 0, 0, 0, 214826705]</td>\n",
       "      <td>[214507408, 214631735, 214730518, 214600479, 2...</td>\n",
       "      <td>1</td>\n",
       "    </tr>\n",
       "    <tr>\n",
       "      <th>2</th>\n",
       "      <td>375257</td>\n",
       "      <td>2014-04-01 00:01:03.866</td>\n",
       "      <td>214582935</td>\n",
       "      <td>0</td>\n",
       "      <td>[0, 0, 0, 0, 0, 0, 0, 0, 0, 214644307]</td>\n",
       "      <td>[214674857, 214559019, 214555277, 214694756, 2...</td>\n",
       "      <td>1</td>\n",
       "    </tr>\n",
       "    <tr>\n",
       "      <th>3</th>\n",
       "      <td>263073</td>\n",
       "      <td>2014-04-01 00:01:07.619</td>\n",
       "      <td>214716982</td>\n",
       "      <td>0</td>\n",
       "      <td>[0, 0, 0, 0, 0, 0, 0, 0, 0, 214716982]</td>\n",
       "      <td>[214544936, 214691248, 214836997, 214692718, 2...</td>\n",
       "      <td>1</td>\n",
       "    </tr>\n",
       "    <tr>\n",
       "      <th>4</th>\n",
       "      <td>345618</td>\n",
       "      <td>2014-04-01 00:01:15.896</td>\n",
       "      <td>214705119</td>\n",
       "      <td>0</td>\n",
       "      <td>[0, 0, 0, 0, 0, 0, 0, 0, 0, 214687685]</td>\n",
       "      <td>[214552162, 214669867, 214708018, 214586910, 2...</td>\n",
       "      <td>1</td>\n",
       "    </tr>\n",
       "  </tbody>\n",
       "</table>\n",
       "</div>"
      ],
      "text/plain": [
       "   SessionID                Timestamp     ItemID  Category  \\\n",
       "0     171168  2014-04-01 00:00:32.610  214820231         0   \n",
       "1     389654  2014-04-01 00:00:48.736  214587557         0   \n",
       "2     375257  2014-04-01 00:01:03.866  214582935         0   \n",
       "3     263073  2014-04-01 00:01:07.619  214716982         0   \n",
       "4     345618  2014-04-01 00:01:15.896  214705119         0   \n",
       "\n",
       "                            ItemIDHistory  \\\n",
       "0  [0, 0, 0, 0, 0, 0, 0, 0, 0, 214594678]   \n",
       "1  [0, 0, 0, 0, 0, 0, 0, 0, 0, 214826705]   \n",
       "2  [0, 0, 0, 0, 0, 0, 0, 0, 0, 214644307]   \n",
       "3  [0, 0, 0, 0, 0, 0, 0, 0, 0, 214716982]   \n",
       "4  [0, 0, 0, 0, 0, 0, 0, 0, 0, 214687685]   \n",
       "\n",
       "                                      AvailableItems  visit  \n",
       "0  [214834980, 214658280, 214552492, 214832383, 2...      1  \n",
       "1  [214507408, 214631735, 214730518, 214600479, 2...      1  \n",
       "2  [214674857, 214559019, 214555277, 214694756, 2...      1  \n",
       "3  [214544936, 214691248, 214836997, 214692718, 2...      1  \n",
       "4  [214552162, 214669867, 214708018, 214586910, 2...      1  "
      ]
     },
     "execution_count": 10,
     "metadata": {},
     "output_type": "execute_result"
    }
   ],
   "source": [
    "df_train.head()"
   ]
  },
  {
   "cell_type": "code",
   "execution_count": null,
   "metadata": {},
   "outputs": [],
   "source": []
  },
  {
   "cell_type": "code",
   "execution_count": null,
   "metadata": {},
   "outputs": [],
   "source": []
  },
  {
   "cell_type": "code",
   "execution_count": 14,
   "metadata": {},
   "outputs": [
    {
     "data": {
      "text/plain": [
       "(7004, 1)"
      ]
     },
     "execution_count": 14,
     "metadata": {},
     "output_type": "execute_result"
    }
   ],
   "source": [
    "df_item_s = df_session[['ItemID']].drop_duplicates()\n",
    "df_item_s.shape"
   ]
  },
  {
   "cell_type": "code",
   "execution_count": 12,
   "metadata": {},
   "outputs": [
    {
     "data": {
      "text/plain": [
       "(19945, 1)"
      ]
     },
     "execution_count": 12,
     "metadata": {},
     "output_type": "execute_result"
    }
   ],
   "source": [
    "df_item_t = df_train[['ItemID']].drop_duplicates()\n",
    "df_item_t.shape"
   ]
  },
  {
   "cell_type": "code",
   "execution_count": null,
   "metadata": {},
   "outputs": [],
   "source": []
  }
 ],
 "metadata": {
  "kernelspec": {
   "display_name": "Python-with-Pixiedust_Spark-2.3",
   "language": "python",
   "name": "pythonwithpixiedustspark23"
  },
  "language_info": {
   "codemirror_mode": {
    "name": "ipython",
    "version": 3
   },
   "file_extension": ".py",
   "mimetype": "text/x-python",
   "name": "python",
   "nbconvert_exporter": "python",
   "pygments_lexer": "ipython3",
   "version": "3.6.12"
  },
  "toc": {
   "base_numbering": 1,
   "nav_menu": {},
   "number_sections": true,
   "sideBar": true,
   "skip_h1_title": false,
   "title_cell": "Table of Contents",
   "title_sidebar": "Contents",
   "toc_cell": false,
   "toc_position": {},
   "toc_section_display": true,
   "toc_window_display": false
  }
 },
 "nbformat": 4,
 "nbformat_minor": 4
}
