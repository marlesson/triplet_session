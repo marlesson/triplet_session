{
 "cells": [
  {
   "cell_type": "code",
   "execution_count": 1,
   "metadata": {},
   "outputs": [],
   "source": [
    "import pandas as pd\n",
    "import seaborn as sns\n",
    "import numpy as np\n",
    "sns.set_theme(style=\"ticks\")\n"
   ]
  },
  {
   "cell_type": "code",
   "execution_count": 2,
   "metadata": {},
   "outputs": [],
   "source": [
    "df = pd.read_csv(\"../output/mercado_livre/dataset/train_0.10_test=random_42_none_SessionInteractionDataFrame_____SessionID_bb573d7539.csv\")"
   ]
  },
  {
   "cell_type": "code",
   "execution_count": 3,
   "metadata": {},
   "outputs": [
    {
     "data": {
      "text/plain": [
       "(366189, 46)"
      ]
     },
     "execution_count": 3,
     "metadata": {},
     "output_type": "execute_result"
    }
   ],
   "source": [
    "df.shape"
   ]
  },
  {
   "cell_type": "code",
   "execution_count": 4,
   "metadata": {},
   "outputs": [
    {
     "data": {
      "text/html": [
       "<div>\n",
       "<style scoped>\n",
       "    .dataframe tbody tr th:only-of-type {\n",
       "        vertical-align: middle;\n",
       "    }\n",
       "\n",
       "    .dataframe tbody tr th {\n",
       "        vertical-align: top;\n",
       "    }\n",
       "\n",
       "    .dataframe thead th {\n",
       "        text-align: right;\n",
       "    }\n",
       "</style>\n",
       "<table border=\"1\" class=\"dataframe\">\n",
       "  <thead>\n",
       "    <tr style=\"text-align: right;\">\n",
       "      <th></th>\n",
       "      <th>SessionID</th>\n",
       "      <th>ItemID</th>\n",
       "      <th>domain_idx</th>\n",
       "      <th>Timestamp</th>\n",
       "      <th>event_type_idx</th>\n",
       "      <th>last_ItemID</th>\n",
       "      <th>last_ItemID_title</th>\n",
       "      <th>last_event_search</th>\n",
       "      <th>last_event_type_idx</th>\n",
       "      <th>last_domain_idx</th>\n",
       "      <th>...</th>\n",
       "      <th>count_mode_product_id_history</th>\n",
       "      <th>count_mode_event_type_idx_history</th>\n",
       "      <th>count_event_type_idx_history__search</th>\n",
       "      <th>count_event_type_idx_history__view</th>\n",
       "      <th>count_condition_idx__new</th>\n",
       "      <th>count_condition_idx__used</th>\n",
       "      <th>perc_newlest_search</th>\n",
       "      <th>perc_event_view</th>\n",
       "      <th>visit</th>\n",
       "      <th>dense_features</th>\n",
       "    </tr>\n",
       "  </thead>\n",
       "  <tbody>\n",
       "    <tr>\n",
       "      <th>0</th>\n",
       "      <td>0</td>\n",
       "      <td>1748830</td>\n",
       "      <td>3513</td>\n",
       "      <td>2019-10-20 23:29:11.646</td>\n",
       "      <td>2</td>\n",
       "      <td>1615991</td>\n",
       "      <td>[106, 4665, 9516, 732, 18752, 18752, 18752, 18...</td>\n",
       "      <td>[18752, 18752, 18752, 18752, 18752, 18752, 187...</td>\n",
       "      <td>4</td>\n",
       "      <td>3513</td>\n",
       "      <td>...</td>\n",
       "      <td>1</td>\n",
       "      <td>1</td>\n",
       "      <td>1</td>\n",
       "      <td>1</td>\n",
       "      <td>1</td>\n",
       "      <td>0</td>\n",
       "      <td>1.00</td>\n",
       "      <td>0.50</td>\n",
       "      <td>1</td>\n",
       "      <td>[0.01, 0.193, 0.05, 0.05, 0.05, 0.05, 0.05, 0....</td>\n",
       "    </tr>\n",
       "    <tr>\n",
       "      <th>1</th>\n",
       "      <td>1</td>\n",
       "      <td>228737</td>\n",
       "      <td>2587</td>\n",
       "      <td>2019-10-07 23:46:48.382</td>\n",
       "      <td>2</td>\n",
       "      <td>228737</td>\n",
       "      <td>[161, 151, 948, 1415, 5722, 132, 1273, 18752, ...</td>\n",
       "      <td>[18752, 18752, 18752, 18752, 18752, 18752, 187...</td>\n",
       "      <td>4</td>\n",
       "      <td>2587</td>\n",
       "      <td>...</td>\n",
       "      <td>3</td>\n",
       "      <td>4</td>\n",
       "      <td>0</td>\n",
       "      <td>4</td>\n",
       "      <td>2</td>\n",
       "      <td>1</td>\n",
       "      <td>0.67</td>\n",
       "      <td>1.00</td>\n",
       "      <td>1</td>\n",
       "      <td>[0.021, 0.06, 0.2, 0.1, 0.2, 0.15, 0.2, 0.0, 0...</td>\n",
       "    </tr>\n",
       "    <tr>\n",
       "      <th>2</th>\n",
       "      <td>2</td>\n",
       "      <td>1909110</td>\n",
       "      <td>890</td>\n",
       "      <td>2019-10-01 17:22:20.697</td>\n",
       "      <td>2</td>\n",
       "      <td>248595</td>\n",
       "      <td>[23, 688, 560, 122, 18751, 22, 14911, 18751, 1...</td>\n",
       "      <td>[18752, 18752, 18752, 18752, 18752, 18752, 187...</td>\n",
       "      <td>4</td>\n",
       "      <td>-1</td>\n",
       "      <td>...</td>\n",
       "      <td>0</td>\n",
       "      <td>0</td>\n",
       "      <td>0</td>\n",
       "      <td>0</td>\n",
       "      <td>0</td>\n",
       "      <td>0</td>\n",
       "      <td>0.00</td>\n",
       "      <td>0.00</td>\n",
       "      <td>1</td>\n",
       "      <td>[0.0, 0.0, 0.0, 0.0, 0.0, 0.0, 0.0, 0.0, 0.0, ...</td>\n",
       "    </tr>\n",
       "    <tr>\n",
       "      <th>3</th>\n",
       "      <td>3</td>\n",
       "      <td>1197370</td>\n",
       "      <td>815</td>\n",
       "      <td>2019-10-12 14:03:21.871</td>\n",
       "      <td>2</td>\n",
       "      <td>-1</td>\n",
       "      <td>[18752, 18752, 18752, 18752, 18752, 18752, 187...</td>\n",
       "      <td>[4194, 18751, 18751, 18752, 18752, 18752, 1875...</td>\n",
       "      <td>3</td>\n",
       "      <td>-1</td>\n",
       "      <td>...</td>\n",
       "      <td>0</td>\n",
       "      <td>2</td>\n",
       "      <td>2</td>\n",
       "      <td>0</td>\n",
       "      <td>0</td>\n",
       "      <td>0</td>\n",
       "      <td>0.00</td>\n",
       "      <td>0.00</td>\n",
       "      <td>1</td>\n",
       "      <td>[0.01, 0.262, 0.0, 0.0, 0.0, 0.0, 0.1, 0.1, 0....</td>\n",
       "    </tr>\n",
       "    <tr>\n",
       "      <th>4</th>\n",
       "      <td>4</td>\n",
       "      <td>2049207</td>\n",
       "      <td>3513</td>\n",
       "      <td>2019-09-30 18:53:33.520</td>\n",
       "      <td>2</td>\n",
       "      <td>86082</td>\n",
       "      <td>[120, 1, 222, 26, 136, 1674, 42, 18752, 18752,...</td>\n",
       "      <td>[18752, 18752, 18752, 18752, 18752, 18752, 187...</td>\n",
       "      <td>4</td>\n",
       "      <td>2027</td>\n",
       "      <td>...</td>\n",
       "      <td>6</td>\n",
       "      <td>11</td>\n",
       "      <td>8</td>\n",
       "      <td>11</td>\n",
       "      <td>11</td>\n",
       "      <td>0</td>\n",
       "      <td>1.00</td>\n",
       "      <td>0.58</td>\n",
       "      <td>1</td>\n",
       "      <td>[0.097, 0.761, 0.2, 0.55, 0.2, 0.3, 0.55, 0.4,...</td>\n",
       "    </tr>\n",
       "  </tbody>\n",
       "</table>\n",
       "<p>5 rows × 46 columns</p>\n",
       "</div>"
      ],
      "text/plain": [
       "   SessionID   ItemID  domain_idx                Timestamp  event_type_idx  \\\n",
       "0          0  1748830        3513  2019-10-20 23:29:11.646               2   \n",
       "1          1   228737        2587  2019-10-07 23:46:48.382               2   \n",
       "2          2  1909110         890  2019-10-01 17:22:20.697               2   \n",
       "3          3  1197370         815  2019-10-12 14:03:21.871               2   \n",
       "4          4  2049207        3513  2019-09-30 18:53:33.520               2   \n",
       "\n",
       "   last_ItemID                                  last_ItemID_title  \\\n",
       "0      1615991  [106, 4665, 9516, 732, 18752, 18752, 18752, 18...   \n",
       "1       228737  [161, 151, 948, 1415, 5722, 132, 1273, 18752, ...   \n",
       "2       248595  [23, 688, 560, 122, 18751, 22, 14911, 18751, 1...   \n",
       "3           -1  [18752, 18752, 18752, 18752, 18752, 18752, 187...   \n",
       "4        86082  [120, 1, 222, 26, 136, 1674, 42, 18752, 18752,...   \n",
       "\n",
       "                                   last_event_search  last_event_type_idx  \\\n",
       "0  [18752, 18752, 18752, 18752, 18752, 18752, 187...                    4   \n",
       "1  [18752, 18752, 18752, 18752, 18752, 18752, 187...                    4   \n",
       "2  [18752, 18752, 18752, 18752, 18752, 18752, 187...                    4   \n",
       "3  [4194, 18751, 18751, 18752, 18752, 18752, 1875...                    3   \n",
       "4  [18752, 18752, 18752, 18752, 18752, 18752, 187...                    4   \n",
       "\n",
       "   last_domain_idx  ...  count_mode_product_id_history  \\\n",
       "0             3513  ...                              1   \n",
       "1             2587  ...                              3   \n",
       "2               -1  ...                              0   \n",
       "3               -1  ...                              0   \n",
       "4             2027  ...                              6   \n",
       "\n",
       "   count_mode_event_type_idx_history  count_event_type_idx_history__search  \\\n",
       "0                                  1                                     1   \n",
       "1                                  4                                     0   \n",
       "2                                  0                                     0   \n",
       "3                                  2                                     2   \n",
       "4                                 11                                     8   \n",
       "\n",
       "   count_event_type_idx_history__view  count_condition_idx__new  \\\n",
       "0                                   1                         1   \n",
       "1                                   4                         2   \n",
       "2                                   0                         0   \n",
       "3                                   0                         0   \n",
       "4                                  11                        11   \n",
       "\n",
       "   count_condition_idx__used  perc_newlest_search  perc_event_view visit  \\\n",
       "0                          0                 1.00             0.50     1   \n",
       "1                          1                 0.67             1.00     1   \n",
       "2                          0                 0.00             0.00     1   \n",
       "3                          0                 0.00             0.00     1   \n",
       "4                          0                 1.00             0.58     1   \n",
       "\n",
       "                                      dense_features  \n",
       "0  [0.01, 0.193, 0.05, 0.05, 0.05, 0.05, 0.05, 0....  \n",
       "1  [0.021, 0.06, 0.2, 0.1, 0.2, 0.15, 0.2, 0.0, 0...  \n",
       "2  [0.0, 0.0, 0.0, 0.0, 0.0, 0.0, 0.0, 0.0, 0.0, ...  \n",
       "3  [0.01, 0.262, 0.0, 0.0, 0.0, 0.0, 0.1, 0.1, 0....  \n",
       "4  [0.097, 0.761, 0.2, 0.55, 0.2, 0.3, 0.55, 0.4,...  \n",
       "\n",
       "[5 rows x 46 columns]"
      ]
     },
     "execution_count": 4,
     "metadata": {},
     "output_type": "execute_result"
    }
   ],
   "source": [
    "df.head()"
   ]
  },
  {
   "cell_type": "code",
   "execution_count": 5,
   "metadata": {},
   "outputs": [
    {
     "data": {
      "text/plain": [
       "SessionID                                                                               0\n",
       "ItemID                                                                            1748830\n",
       "domain_idx                                                                           3513\n",
       "Timestamp                                                         2019-10-20 23:29:11.646\n",
       "event_type_idx                                                                          2\n",
       "last_ItemID                                                                       1615991\n",
       "last_ItemID_title                       [106, 4665, 9516, 732, 18752, 18752, 18752, 18...\n",
       "last_event_search                       [18752, 18752, 18752, 18752, 18752, 18752, 187...\n",
       "last_event_type_idx                                                                     4\n",
       "last_domain_idx                                                                      3513\n",
       "step                                                                                    4\n",
       "cum_Timestamp                                                                        1922\n",
       "last_price_norm                                                                     79.71\n",
       "diff_price_norm                                                                         0\n",
       "min_last_price_norm                                                                     0\n",
       "max_last_price_norm                                                                 79.71\n",
       "mean_last_price_norm                                                               39.855\n",
       "sum_last_price_norm                                                                 79.71\n",
       "timestamp_history                       [419847, -1, -1, -1, -1, -1, -1, -1, -1, -1, -...\n",
       "cum_timestamp_history                   [1, -1, -1, -1, -1, -1, -1, -1, -1, -1, -1, -1...\n",
       "event_type_idx_history                  ['4', '3', '-1', '-1', '-1', '-1', '-1', '-1',...\n",
       "category_idx_history                    ['480', '-1', '-1', '-1', '-1', '-1', '-1', '-...\n",
       "domain_idx_history                      ['3513', '-1', '-1', '-1', '-1', '-1', '-1', '...\n",
       "product_id_history                      ['0', '-1', '-1', '-1', '-1', '-1', '-1', '-1'...\n",
       "price_history                           [79.71, 0.0, 0.0, 0.0, 0.0, 0.0, 0.0, 0.0, 0.0...\n",
       "ItemID_history                          [1615991, -1, -1, -1, -1, -1, -1, -1, -1, -1, ...\n",
       "domain_count                                                                        89846\n",
       "item_id_count                                                                        1868\n",
       "mode_category_idx_history                                                             480\n",
       "mode_condition_idx_history                                                              2\n",
       "mode_domain_idx_history                                                              3513\n",
       "mode_product_id_history                                                                 0\n",
       "mode_event_type_idx_history                                                             3\n",
       "count_mode_category_idx_history                                                         1\n",
       "count_mode_condition_idx_history                                                        1\n",
       "count_mode_domain_idx_history                                                           1\n",
       "count_mode_product_id_history                                                           1\n",
       "count_mode_event_type_idx_history                                                       1\n",
       "count_event_type_idx_history__search                                                    1\n",
       "count_event_type_idx_history__view                                                      1\n",
       "count_condition_idx__new                                                                1\n",
       "count_condition_idx__used                                                               0\n",
       "perc_newlest_search                                                                     1\n",
       "perc_event_view                                                                       0.5\n",
       "visit                                                                                   1\n",
       "dense_features                          [0.01, 0.193, 0.05, 0.05, 0.05, 0.05, 0.05, 0....\n",
       "Name: 0, dtype: object"
      ]
     },
     "execution_count": 5,
     "metadata": {},
     "output_type": "execute_result"
    }
   ],
   "source": [
    "df.iloc[0]"
   ]
  },
  {
   "cell_type": "code",
   "execution_count": 6,
   "metadata": {},
   "outputs": [
    {
     "data": {
      "text/plain": [
       "<matplotlib.axes._subplots.AxesSubplot at 0x7fb66fa2c2b0>"
      ]
     },
     "execution_count": 6,
     "metadata": {},
     "output_type": "execute_result"
    },
    {
     "data": {
      "image/png": "[encoded data removed]",
      "text/plain": [
       "<Figure size 432x288 with 1 Axes>"
      ]
     },
     "metadata": {
      "needs_background": "light"
     },
     "output_type": "display_data"
    }
   ],
   "source": [
    "df.domain_count.plot(kind='hist')"
   ]
  },
  {
   "cell_type": "code",
   "execution_count": 7,
   "metadata": {},
   "outputs": [
    {
     "data": {
      "text/html": [
       "<div>\n",
       "<style scoped>\n",
       "    .dataframe tbody tr th:only-of-type {\n",
       "        vertical-align: middle;\n",
       "    }\n",
       "\n",
       "    .dataframe tbody tr th {\n",
       "        vertical-align: top;\n",
       "    }\n",
       "\n",
       "    .dataframe thead th {\n",
       "        text-align: right;\n",
       "    }\n",
       "</style>\n",
       "<table border=\"1\" class=\"dataframe\">\n",
       "  <thead>\n",
       "    <tr style=\"text-align: right;\">\n",
       "      <th></th>\n",
       "      <th>index</th>\n",
       "      <th>domain_count</th>\n",
       "    </tr>\n",
       "  </thead>\n",
       "  <tbody>\n",
       "    <tr>\n",
       "      <th>0</th>\n",
       "      <td>0</td>\n",
       "      <td>2.0</td>\n",
       "    </tr>\n",
       "    <tr>\n",
       "      <th>1</th>\n",
       "      <td>1</td>\n",
       "      <td>2.0</td>\n",
       "    </tr>\n",
       "    <tr>\n",
       "      <th>2</th>\n",
       "      <td>2</td>\n",
       "      <td>2.0</td>\n",
       "    </tr>\n",
       "    <tr>\n",
       "      <th>3</th>\n",
       "      <td>3</td>\n",
       "      <td>3.0</td>\n",
       "    </tr>\n",
       "    <tr>\n",
       "      <th>4</th>\n",
       "      <td>4</td>\n",
       "      <td>3.0</td>\n",
       "    </tr>\n",
       "  </tbody>\n",
       "</table>\n",
       "</div>"
      ],
      "text/plain": [
       "   index  domain_count\n",
       "0      0           2.0\n",
       "1      1           2.0\n",
       "2      2           2.0\n",
       "3      3           3.0\n",
       "4      4           3.0"
      ]
     },
     "execution_count": 7,
     "metadata": {},
     "output_type": "execute_result"
    }
   ],
   "source": [
    "df_domain = df[['domain_count']].sort_values('domain_count').reset_index(drop=True).reset_index()\n",
    "df_domain.head()"
   ]
  },
  {
   "cell_type": "code",
   "execution_count": 8,
   "metadata": {},
   "outputs": [
    {
     "data": {
      "text/plain": [
       "<seaborn.axisgrid.FacetGrid at 0x7fb66fa2ccf8>"
      ]
     },
     "execution_count": 8,
     "metadata": {},
     "output_type": "execute_result"
    },
    {
     "data": {
      "image/png": "[encoded data removed]",
      "text/plain": [
       "<Figure size 360x360 with 1 Axes>"
      ]
     },
     "metadata": {
      "needs_background": "light"
     },
     "output_type": "display_data"
    }
   ],
   "source": [
    "\n",
    "# Show the results of a linear regression within each dataset\n",
    "sns.lmplot(x=\"index\", y=\"domain_count\", data=df_domain,   scatter_kws={\"s\": 50, \"alpha\": 1})"
   ]
  },
  {
   "cell_type": "code",
   "execution_count": 9,
   "metadata": {},
   "outputs": [
    {
     "data": {
      "text/plain": [
       "<seaborn.axisgrid.FacetGrid at 0x7fb68b78b080>"
      ]
     },
     "execution_count": 9,
     "metadata": {},
     "output_type": "execute_result"
    },
    {
     "data": {
      "image/png": "[encoded data removed]",
      "text/plain": [
       "<Figure size 360x360 with 1 Axes>"
      ]
     },
     "metadata": {
      "needs_background": "light"
     },
     "output_type": "display_data"
    }
   ],
   "source": [
    "df_domain['domain_count2'] =df_domain['domain_count'].apply(lambda x: 100000 if x > 100000 else x) \n",
    "# Show the results of a linear regression within each dataset\n",
    "sns.lmplot(x=\"index\", y=\"domain_count2\", data=df_domain,   scatter_kws={\"s\": 50, \"alpha\": 1})"
   ]
  },
  {
   "cell_type": "code",
   "execution_count": null,
   "metadata": {},
   "outputs": [],
   "source": []
  },
  {
   "cell_type": "code",
   "execution_count": 10,
   "metadata": {},
   "outputs": [
    {
     "data": {
      "text/plain": [
       "<seaborn.axisgrid.FacetGrid at 0x7fb68a8c9e80>"
      ]
     },
     "execution_count": 10,
     "metadata": {},
     "output_type": "execute_result"
    },
    {
     "data": {
      "image/png": "[encoded data removed]",
      "text/plain": [
       "<Figure size 360x360 with 1 Axes>"
      ]
     },
     "metadata": {
      "needs_background": "light"
     },
     "output_type": "display_data"
    }
   ],
   "source": [
    "df_domain['domain_count_log'] = np.log10(df_domain.domain_count)\n",
    "\n",
    "# Show the results of a linear regression within each dataset\n",
    "sns.lmplot(x=\"index\", y=\"domain_count_log\", data=df_domain,   scatter_kws={\"s\": 50, \"alpha\": 1})"
   ]
  },
  {
   "cell_type": "code",
   "execution_count": null,
   "metadata": {},
   "outputs": [],
   "source": []
  },
  {
   "cell_type": "code",
   "execution_count": null,
   "metadata": {},
   "outputs": [],
   "source": []
  },
  {
   "cell_type": "markdown",
   "metadata": {},
   "source": [
    "## Item_count"
   ]
  },
  {
   "cell_type": "code",
   "execution_count": null,
   "metadata": {},
   "outputs": [],
   "source": []
  },
  {
   "cell_type": "code",
   "execution_count": 11,
   "metadata": {},
   "outputs": [
    {
     "data": {
      "text/plain": [
       "<matplotlib.axes._subplots.AxesSubplot at 0x7fb68b7186a0>"
      ]
     },
     "execution_count": 11,
     "metadata": {},
     "output_type": "execute_result"
    },
    {
     "data": {
      "image/png": "[encoded data removed]",
      "text/plain": [
       "<Figure size 432x288 with 1 Axes>"
      ]
     },
     "metadata": {
      "needs_background": "light"
     },
     "output_type": "display_data"
    }
   ],
   "source": [
    "df.item_id_count.plot(kind='hist')"
   ]
  },
  {
   "cell_type": "code",
   "execution_count": 12,
   "metadata": {},
   "outputs": [
    {
     "data": {
      "text/html": [
       "<div>\n",
       "<style scoped>\n",
       "    .dataframe tbody tr th:only-of-type {\n",
       "        vertical-align: middle;\n",
       "    }\n",
       "\n",
       "    .dataframe tbody tr th {\n",
       "        vertical-align: top;\n",
       "    }\n",
       "\n",
       "    .dataframe thead th {\n",
       "        text-align: right;\n",
       "    }\n",
       "</style>\n",
       "<table border=\"1\" class=\"dataframe\">\n",
       "  <thead>\n",
       "    <tr style=\"text-align: right;\">\n",
       "      <th></th>\n",
       "      <th>index</th>\n",
       "      <th>item_id_count</th>\n",
       "    </tr>\n",
       "  </thead>\n",
       "  <tbody>\n",
       "    <tr>\n",
       "      <th>0</th>\n",
       "      <td>0</td>\n",
       "      <td>2.0</td>\n",
       "    </tr>\n",
       "    <tr>\n",
       "      <th>1</th>\n",
       "      <td>1</td>\n",
       "      <td>2.0</td>\n",
       "    </tr>\n",
       "    <tr>\n",
       "      <th>2</th>\n",
       "      <td>2</td>\n",
       "      <td>2.0</td>\n",
       "    </tr>\n",
       "    <tr>\n",
       "      <th>3</th>\n",
       "      <td>3</td>\n",
       "      <td>2.0</td>\n",
       "    </tr>\n",
       "    <tr>\n",
       "      <th>4</th>\n",
       "      <td>4</td>\n",
       "      <td>2.0</td>\n",
       "    </tr>\n",
       "  </tbody>\n",
       "</table>\n",
       "</div>"
      ],
      "text/plain": [
       "   index  item_id_count\n",
       "0      0            2.0\n",
       "1      1            2.0\n",
       "2      2            2.0\n",
       "3      3            2.0\n",
       "4      4            2.0"
      ]
     },
     "execution_count": 12,
     "metadata": {},
     "output_type": "execute_result"
    }
   ],
   "source": [
    "df_item = df[['item_id_count']].sort_values('item_id_count').reset_index(drop=True).reset_index()\n",
    "df_item.head()"
   ]
  },
  {
   "cell_type": "code",
   "execution_count": 13,
   "metadata": {},
   "outputs": [
    {
     "data": {
      "text/plain": [
       "<seaborn.axisgrid.FacetGrid at 0x7fb68b71ce80>"
      ]
     },
     "execution_count": 13,
     "metadata": {},
     "output_type": "execute_result"
    },
    {
     "data": {
      "image/png": "[encoded data removed]",
      "text/plain": [
       "<Figure size 360x360 with 1 Axes>"
      ]
     },
     "metadata": {
      "needs_background": "light"
     },
     "output_type": "display_data"
    }
   ],
   "source": [
    "\n",
    "# Show the results of a linear regression within each dataset\n",
    "sns.lmplot(x=\"index\", y=\"item_id_count\", data=df_item,   scatter_kws={\"s\": 50, \"alpha\": 1})"
   ]
  },
  {
   "cell_type": "code",
   "execution_count": 14,
   "metadata": {},
   "outputs": [
    {
     "data": {
      "text/plain": [
       "<seaborn.axisgrid.FacetGrid at 0x7fb68b68f630>"
      ]
     },
     "execution_count": 14,
     "metadata": {},
     "output_type": "execute_result"
    },
    {
     "data": {
      "image/png": "[encoded data removed]",
      "text/plain": [
       "<Figure size 360x360 with 1 Axes>"
      ]
     },
     "metadata": {
      "needs_background": "light"
     },
     "output_type": "display_data"
    }
   ],
   "source": [
    "df_domain['domain_count2'] =df_domain['domain_count'].apply(lambda x: 100000 if x > 100000 else x) \n",
    "# Show the results of a linear regression within each dataset\n",
    "sns.lmplot(x=\"index\", y=\"domain_count2\", data=df_domain,   scatter_kws={\"s\": 50, \"alpha\": 1})"
   ]
  },
  {
   "cell_type": "code",
   "execution_count": 15,
   "metadata": {},
   "outputs": [
    {
     "data": {
      "text/plain": [
       "<seaborn.axisgrid.FacetGrid at 0x7fb68a745780>"
      ]
     },
     "execution_count": 15,
     "metadata": {},
     "output_type": "execute_result"
    },
    {
     "data": {
      "image/png": "[encoded data removed]",
      "text/plain": [
       "<Figure size 360x360 with 1 Axes>"
      ]
     },
     "metadata": {
      "needs_background": "light"
     },
     "output_type": "display_data"
    }
   ],
   "source": [
    "df_item['item_count_log'] = np.log10(df_item.item_id_count)\n",
    "\n",
    "# Show the results of a linear regression within each dataset\n",
    "sns.lmplot(x=\"index\", y=\"item_count_log\", data=df_item,   scatter_kws={\"s\": 50, \"alpha\": 1})"
   ]
  },
  {
   "cell_type": "code",
   "execution_count": 21,
   "metadata": {},
   "outputs": [
    {
     "data": {
      "text/plain": [
       "1587422    497\n",
       "1803710    348\n",
       "10243      319\n",
       "548905     306\n",
       "1716388    295\n",
       "          ... \n",
       "1494924      1\n",
       "639367       1\n",
       "2037687      1\n",
       "272337       1\n",
       "1064952      1\n",
       "Name: ItemID, Length: 64356, dtype: int64"
      ]
     },
     "execution_count": 21,
     "metadata": {},
     "output_type": "execute_result"
    }
   ],
   "source": [
    "df_item = df['ItemID'].value_counts()#.values\n",
    "df_item"
   ]
  },
  {
   "cell_type": "code",
   "execution_count": 22,
   "metadata": {},
   "outputs": [
    {
     "data": {
      "text/plain": [
       "<seaborn.axisgrid.FacetGrid at 0x7fb6660b0390>"
      ]
     },
     "execution_count": 22,
     "metadata": {},
     "output_type": "execute_result"
    },
    {
     "data": {
      "image/png": "[encoded data removed]",
      "text/plain": [
       "<Figure size 360x360 with 1 Axes>"
      ]
     },
     "metadata": {
      "needs_background": "light"
     },
     "output_type": "display_data"
    }
   ],
   "source": [
    "sns.displot(x=df_item)\n"
   ]
  },
  {
   "cell_type": "code",
   "execution_count": 26,
   "metadata": {},
   "outputs": [
    {
     "data": {
      "text/plain": [
       "(41716,)"
      ]
     },
     "execution_count": 26,
     "metadata": {},
     "output_type": "execute_result"
    }
   ],
   "source": [
    "df_item[df_item>1].shape"
   ]
  }
 ],
 "metadata": {
  "kernelspec": {
   "display_name": "Python 3.6.12 64-bit ('triplet-session': conda)",
   "language": "python",
   "name": "python361264bittripletsessioncondad5cbd839d71f4524a2e1ac2238b70b72"
  },
  "language_info": {
   "codemirror_mode": {
    "name": "ipython",
    "version": 3
   },
   "file_extension": ".py",
   "mimetype": "text/x-python",
   "name": "python",
   "nbconvert_exporter": "python",
   "pygments_lexer": "ipython3",
   "version": "3.6.12"
  },
  "toc": {
   "base_numbering": 1,
   "nav_menu": {},
   "number_sections": true,
   "sideBar": true,
   "skip_h1_title": false,
   "title_cell": "Table of Contents",
   "title_sidebar": "Contents",
   "toc_cell": false,
   "toc_position": {},
   "toc_section_display": true,
   "toc_window_display": false
  }
 },
 "nbformat": 4,
 "nbformat_minor": 4
}
