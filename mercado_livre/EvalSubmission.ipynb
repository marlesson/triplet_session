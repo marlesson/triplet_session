{
 "cells": [
  {
   "cell_type": "code",
   "execution_count": 16,
   "metadata": {},
   "outputs": [],
   "source": [
    "import pandas as pd\n",
    "import json\n",
    "import seaborn as sns\n",
    "\n",
    "def read_json(path):\n",
    "    with open(path) as json_file:\n",
    "        data = json.load(json_file)\n",
    "    return data"
   ]
  },
  {
   "cell_type": "code",
   "execution_count": null,
   "metadata": {},
   "outputs": [],
   "source": []
  },
  {
   "cell_type": "code",
   "execution_count": 36,
   "metadata": {},
   "outputs": [],
   "source": [
    "base = '/media/workspace/triplet_session/output/evaluation/MLEvaluationTask/results/'\n",
    "files = [\"SupervisedModelTraining____mars_gym_model_b____cac288a509_47dcde9831_sub_True\",\n",
    "\"SupervisedModelTraining____mars_gym_model_b____cac288a509_325081eddd_sub_True\",\n",
    "\"SupervisedModelTraining____mars_gym_model_b____cac288a509_43ff019631_sub_True\",\n",
    "\"SupervisedModelTraining____mars_gym_model_b____cac288a509_812938229c_sub_True\",\n",
    "\"SupervisedModelTraining____mars_gym_model_b____cac288a509_31889bdb3a_sub_True\",\n",
    "\"SupervisedModelTraining____mars_gym_model_b____cac288a509_3f5d6138b3_sub_True\",\n",
    "\"SupervisedModelTraining____mars_gym_model_b____cac288a509_7e58d680c3_sub_True\",\n",
    "\"SupervisedModelTraining____mars_gym_model_b____cac288a509_411ed576a3_sub_True\",\n",
    "\"SupervisedModelTraining____mars_gym_model_b____cac288a509_c0915f0b30_sub_True\",\n",
    "\"SupervisedModelTraining____mars_gym_model_b____cac288a509_34c94c0ca1_sub_True\",\n",
    "\"SupervisedModelTraining____mars_gym_model_b____cac288a509_54bdeb3796_sub_True\"]\n",
    "\n",
    "data = []\n",
    "for f in files:\n",
    "    data.append(read_json(base + f + '/metrics.json'))"
   ]
  },
  {
   "cell_type": "code",
   "execution_count": 37,
   "metadata": {},
   "outputs": [
    {
     "data": {
      "text/plain": [
       "[{'model_task': 'SupervisedModelTraining____mars_gym_model_b____cac288a509',\n",
       "  'percent_limit': 0.9,\n",
       "  'count': 1000,\n",
       "  'mean_average_precision': 0.24455793650793653,\n",
       "  'precision_at_1': 0.211,\n",
       "  'mrr_at_5': 0.24168333333333333,\n",
       "  'mrr_at_10': 0.24455793650793653,\n",
       "  'ndcg_at_5': 0.27204028852173046,\n",
       "  'ndcg_at_10': 0.27953293207830093,\n",
       "  'ndcg_at_15': 0.27953293207830093,\n",
       "  'ndcg_at_20': 0.27953293207830093,\n",
       "  'ndcg_at_50': 0.27953293207830093,\n",
       "  'ndcg_ml': 0.2378027072417554},\n",
       " {'model_task': 'SupervisedModelTraining____mars_gym_model_b____cac288a509',\n",
       "  'percent_limit': 0.8,\n",
       "  'count': 1000,\n",
       "  'mean_average_precision': 0.24455793650793653,\n",
       "  'precision_at_1': 0.211,\n",
       "  'mrr_at_5': 0.24168333333333333,\n",
       "  'mrr_at_10': 0.24455793650793653,\n",
       "  'ndcg_at_5': 0.27204028852173046,\n",
       "  'ndcg_at_10': 0.27953293207830093,\n",
       "  'ndcg_at_15': 0.27953293207830093,\n",
       "  'ndcg_at_20': 0.27953293207830093,\n",
       "  'ndcg_at_50': 0.27953293207830093,\n",
       "  'ndcg_ml': 0.23782415235133955},\n",
       " {'model_task': 'SupervisedModelTraining____mars_gym_model_b____cac288a509',\n",
       "  'percent_limit': 0.7,\n",
       "  'count': 1000,\n",
       "  'mean_average_precision': 0.24455793650793653,\n",
       "  'precision_at_1': 0.211,\n",
       "  'mrr_at_5': 0.24168333333333333,\n",
       "  'mrr_at_10': 0.24455793650793653,\n",
       "  'ndcg_at_5': 0.27204028852173046,\n",
       "  'ndcg_at_10': 0.27953293207830093,\n",
       "  'ndcg_at_15': 0.27953293207830093,\n",
       "  'ndcg_at_20': 0.27953293207830093,\n",
       "  'ndcg_at_50': 0.27953293207830093,\n",
       "  'ndcg_ml': 0.23788596167501597},\n",
       " {'model_task': 'SupervisedModelTraining____mars_gym_model_b____cac288a509',\n",
       "  'percent_limit': 0.6,\n",
       "  'count': 1000,\n",
       "  'mean_average_precision': 0.24456904761904763,\n",
       "  'precision_at_1': 0.211,\n",
       "  'mrr_at_5': 0.24168333333333333,\n",
       "  'mrr_at_10': 0.24456904761904763,\n",
       "  'ndcg_at_5': 0.27204028852173046,\n",
       "  'ndcg_at_10': 0.27954736695942267,\n",
       "  'ndcg_at_15': 0.27954736695942267,\n",
       "  'ndcg_at_20': 0.27954736695942267,\n",
       "  'ndcg_at_50': 0.27954736695942267,\n",
       "  'ndcg_ml': 0.2380684183063715},\n",
       " {'model_task': 'SupervisedModelTraining____mars_gym_model_b____cac288a509',\n",
       "  'percent_limit': 0.5,\n",
       "  'count': 1000,\n",
       "  'mean_average_precision': 0.2445829365079365,\n",
       "  'precision_at_1': 0.211,\n",
       "  'mrr_at_5': 0.24168333333333333,\n",
       "  'mrr_at_10': 0.2445829365079365,\n",
       "  'ndcg_at_5': 0.27204028852173046,\n",
       "  'ndcg_at_10': 0.2795652354159703,\n",
       "  'ndcg_at_15': 0.2795652354159703,\n",
       "  'ndcg_at_20': 0.2795652354159703,\n",
       "  'ndcg_at_50': 0.2795652354159703,\n",
       "  'ndcg_ml': 0.23819110511022648},\n",
       " {'model_task': 'SupervisedModelTraining____mars_gym_model_b____cac288a509',\n",
       "  'percent_limit': 0.4,\n",
       "  'count': 1000,\n",
       "  'mean_average_precision': 0.2445829365079365,\n",
       "  'precision_at_1': 0.212,\n",
       "  'mrr_at_5': 0.24168333333333333,\n",
       "  'mrr_at_10': 0.2445829365079365,\n",
       "  'ndcg_at_5': 0.27104028852173045,\n",
       "  'ndcg_at_10': 0.2785652354159703,\n",
       "  'ndcg_at_15': 0.2785652354159703,\n",
       "  'ndcg_at_20': 0.2785652354159703,\n",
       "  'ndcg_at_50': 0.2785652354159703,\n",
       "  'ndcg_ml': 0.23825061255771743},\n",
       " {'model_task': 'SupervisedModelTraining____mars_gym_model_b____cac288a509',\n",
       "  'percent_limit': 0.3,\n",
       "  'count': 1000,\n",
       "  'mean_average_precision': 0.24260079365079365,\n",
       "  'precision_at_1': 0.21,\n",
       "  'mrr_at_5': 0.23968333333333333,\n",
       "  'mrr_at_10': 0.24260079365079365,\n",
       "  'ndcg_at_5': 0.26904028852173045,\n",
       "  'ndcg_at_10': 0.2765881092697449,\n",
       "  'ndcg_at_15': 0.2765881092697449,\n",
       "  'ndcg_at_20': 0.2765881092697449,\n",
       "  'ndcg_at_50': 0.2765881092697449,\n",
       "  'ndcg_ml': 0.23717666527409076},\n",
       " {'model_task': 'SupervisedModelTraining____mars_gym_model_b____cac288a509',\n",
       "  'percent_limit': 0.2,\n",
       "  'count': 1000,\n",
       "  'mean_average_precision': 0.24003968253968253,\n",
       "  'precision_at_1': 0.208,\n",
       "  'mrr_at_5': 0.23729999999999998,\n",
       "  'mrr_at_10': 0.24003968253968253,\n",
       "  'ndcg_at_5': 0.2663400353262324,\n",
       "  'ndcg_at_10': 0.2734865683858906,\n",
       "  'ndcg_at_15': 0.2734865683858906,\n",
       "  'ndcg_at_20': 0.2734865683858906,\n",
       "  'ndcg_at_50': 0.2734865683858906,\n",
       "  'ndcg_ml': 0.23690900837623186},\n",
       " {'model_task': 'SupervisedModelTraining____mars_gym_model_b____cac288a509',\n",
       "  'percent_limit': 0.1,\n",
       "  'count': 1000,\n",
       "  'mean_average_precision': 0.1972968253968254,\n",
       "  'precision_at_1': 0.169,\n",
       "  'mrr_at_5': 0.19478333333333334,\n",
       "  'mrr_at_10': 0.1972968253968254,\n",
       "  'ndcg_at_5': 0.22043952893523627,\n",
       "  'ndcg_at_10': 0.2269501268440959,\n",
       "  'ndcg_at_15': 0.2269501268440959,\n",
       "  'ndcg_at_20': 0.2269501268440959,\n",
       "  'ndcg_at_50': 0.2269501268440959,\n",
       "  'ndcg_ml': 0.20496103371446878},\n",
       " {'model_task': 'SupervisedModelTraining____mars_gym_model_b____cac288a509',\n",
       "  'percent_limit': 0.0,\n",
       "  'count': 1000,\n",
       "  'mean_average_precision': 0.08980039682539682,\n",
       "  'precision_at_1': 0.055,\n",
       "  'mrr_at_5': 0.07135,\n",
       "  'mrr_at_10': 0.08980039682539682,\n",
       "  'ndcg_at_5': 0.08819113935711678,\n",
       "  'ndcg_at_10': 0.13624418786467343,\n",
       "  'ndcg_at_15': 0.13624418786467343,\n",
       "  'ndcg_at_20': 0.13624418786467343,\n",
       "  'ndcg_at_50': 0.13624418786467343,\n",
       "  'ndcg_ml': 0.13912452975580417},\n",
       " {'model_task': 'SupervisedModelTraining____mars_gym_model_b____cac288a509',\n",
       "  'percent_limit': 1.0,\n",
       "  'count': 1000,\n",
       "  'mean_average_precision': 0.24455793650793653,\n",
       "  'precision_at_1': 0.211,\n",
       "  'mrr_at_5': 0.24168333333333333,\n",
       "  'mrr_at_10': 0.24455793650793653,\n",
       "  'ndcg_at_5': 0.27204028852173046,\n",
       "  'ndcg_at_10': 0.27953293207830093,\n",
       "  'ndcg_at_15': 0.27953293207830093,\n",
       "  'ndcg_at_20': 0.27953293207830093,\n",
       "  'ndcg_at_50': 0.27953293207830093,\n",
       "  'ndcg_ml': 0.2378027072417554}]"
      ]
     },
     "execution_count": 37,
     "metadata": {},
     "output_type": "execute_result"
    }
   ],
   "source": [
    "data"
   ]
  },
  {
   "cell_type": "code",
   "execution_count": 44,
   "metadata": {},
   "outputs": [
    {
     "data": {
      "text/html": [
       "<div>\n",
       "<style scoped>\n",
       "    .dataframe tbody tr th:only-of-type {\n",
       "        vertical-align: middle;\n",
       "    }\n",
       "\n",
       "    .dataframe tbody tr th {\n",
       "        vertical-align: top;\n",
       "    }\n",
       "\n",
       "    .dataframe thead th {\n",
       "        text-align: right;\n",
       "    }\n",
       "</style>\n",
       "<table border=\"1\" class=\"dataframe\">\n",
       "  <thead>\n",
       "    <tr style=\"text-align: right;\">\n",
       "      <th></th>\n",
       "      <th>model_task</th>\n",
       "      <th>percent_limit</th>\n",
       "      <th>count</th>\n",
       "      <th>mean_average_precision</th>\n",
       "      <th>precision_at_1</th>\n",
       "      <th>mrr_at_5</th>\n",
       "      <th>mrr_at_10</th>\n",
       "      <th>ndcg_at_5</th>\n",
       "      <th>ndcg_at_10</th>\n",
       "      <th>ndcg_at_15</th>\n",
       "      <th>ndcg_at_20</th>\n",
       "      <th>ndcg_at_50</th>\n",
       "      <th>ndcg_ml</th>\n",
       "    </tr>\n",
       "  </thead>\n",
       "  <tbody>\n",
       "    <tr>\n",
       "      <th>9</th>\n",
       "      <td>SupervisedModelTraining____mars_gym_model_b___...</td>\n",
       "      <td>0.0</td>\n",
       "      <td>1000</td>\n",
       "      <td>0.089800</td>\n",
       "      <td>0.055</td>\n",
       "      <td>0.071350</td>\n",
       "      <td>0.089800</td>\n",
       "      <td>0.088191</td>\n",
       "      <td>0.136244</td>\n",
       "      <td>0.136244</td>\n",
       "      <td>0.136244</td>\n",
       "      <td>0.136244</td>\n",
       "      <td>0.139125</td>\n",
       "    </tr>\n",
       "    <tr>\n",
       "      <th>8</th>\n",
       "      <td>SupervisedModelTraining____mars_gym_model_b___...</td>\n",
       "      <td>0.1</td>\n",
       "      <td>1000</td>\n",
       "      <td>0.197297</td>\n",
       "      <td>0.169</td>\n",
       "      <td>0.194783</td>\n",
       "      <td>0.197297</td>\n",
       "      <td>0.220440</td>\n",
       "      <td>0.226950</td>\n",
       "      <td>0.226950</td>\n",
       "      <td>0.226950</td>\n",
       "      <td>0.226950</td>\n",
       "      <td>0.204961</td>\n",
       "    </tr>\n",
       "    <tr>\n",
       "      <th>7</th>\n",
       "      <td>SupervisedModelTraining____mars_gym_model_b___...</td>\n",
       "      <td>0.2</td>\n",
       "      <td>1000</td>\n",
       "      <td>0.240040</td>\n",
       "      <td>0.208</td>\n",
       "      <td>0.237300</td>\n",
       "      <td>0.240040</td>\n",
       "      <td>0.266340</td>\n",
       "      <td>0.273487</td>\n",
       "      <td>0.273487</td>\n",
       "      <td>0.273487</td>\n",
       "      <td>0.273487</td>\n",
       "      <td>0.236909</td>\n",
       "    </tr>\n",
       "    <tr>\n",
       "      <th>6</th>\n",
       "      <td>SupervisedModelTraining____mars_gym_model_b___...</td>\n",
       "      <td>0.3</td>\n",
       "      <td>1000</td>\n",
       "      <td>0.242601</td>\n",
       "      <td>0.210</td>\n",
       "      <td>0.239683</td>\n",
       "      <td>0.242601</td>\n",
       "      <td>0.269040</td>\n",
       "      <td>0.276588</td>\n",
       "      <td>0.276588</td>\n",
       "      <td>0.276588</td>\n",
       "      <td>0.276588</td>\n",
       "      <td>0.237177</td>\n",
       "    </tr>\n",
       "    <tr>\n",
       "      <th>5</th>\n",
       "      <td>SupervisedModelTraining____mars_gym_model_b___...</td>\n",
       "      <td>0.4</td>\n",
       "      <td>1000</td>\n",
       "      <td>0.244583</td>\n",
       "      <td>0.212</td>\n",
       "      <td>0.241683</td>\n",
       "      <td>0.244583</td>\n",
       "      <td>0.271040</td>\n",
       "      <td>0.278565</td>\n",
       "      <td>0.278565</td>\n",
       "      <td>0.278565</td>\n",
       "      <td>0.278565</td>\n",
       "      <td>0.238251</td>\n",
       "    </tr>\n",
       "    <tr>\n",
       "      <th>4</th>\n",
       "      <td>SupervisedModelTraining____mars_gym_model_b___...</td>\n",
       "      <td>0.5</td>\n",
       "      <td>1000</td>\n",
       "      <td>0.244583</td>\n",
       "      <td>0.211</td>\n",
       "      <td>0.241683</td>\n",
       "      <td>0.244583</td>\n",
       "      <td>0.272040</td>\n",
       "      <td>0.279565</td>\n",
       "      <td>0.279565</td>\n",
       "      <td>0.279565</td>\n",
       "      <td>0.279565</td>\n",
       "      <td>0.238191</td>\n",
       "    </tr>\n",
       "    <tr>\n",
       "      <th>3</th>\n",
       "      <td>SupervisedModelTraining____mars_gym_model_b___...</td>\n",
       "      <td>0.6</td>\n",
       "      <td>1000</td>\n",
       "      <td>0.244569</td>\n",
       "      <td>0.211</td>\n",
       "      <td>0.241683</td>\n",
       "      <td>0.244569</td>\n",
       "      <td>0.272040</td>\n",
       "      <td>0.279547</td>\n",
       "      <td>0.279547</td>\n",
       "      <td>0.279547</td>\n",
       "      <td>0.279547</td>\n",
       "      <td>0.238068</td>\n",
       "    </tr>\n",
       "    <tr>\n",
       "      <th>2</th>\n",
       "      <td>SupervisedModelTraining____mars_gym_model_b___...</td>\n",
       "      <td>0.7</td>\n",
       "      <td>1000</td>\n",
       "      <td>0.244558</td>\n",
       "      <td>0.211</td>\n",
       "      <td>0.241683</td>\n",
       "      <td>0.244558</td>\n",
       "      <td>0.272040</td>\n",
       "      <td>0.279533</td>\n",
       "      <td>0.279533</td>\n",
       "      <td>0.279533</td>\n",
       "      <td>0.279533</td>\n",
       "      <td>0.237886</td>\n",
       "    </tr>\n",
       "    <tr>\n",
       "      <th>1</th>\n",
       "      <td>SupervisedModelTraining____mars_gym_model_b___...</td>\n",
       "      <td>0.8</td>\n",
       "      <td>1000</td>\n",
       "      <td>0.244558</td>\n",
       "      <td>0.211</td>\n",
       "      <td>0.241683</td>\n",
       "      <td>0.244558</td>\n",
       "      <td>0.272040</td>\n",
       "      <td>0.279533</td>\n",
       "      <td>0.279533</td>\n",
       "      <td>0.279533</td>\n",
       "      <td>0.279533</td>\n",
       "      <td>0.237824</td>\n",
       "    </tr>\n",
       "    <tr>\n",
       "      <th>0</th>\n",
       "      <td>SupervisedModelTraining____mars_gym_model_b___...</td>\n",
       "      <td>0.9</td>\n",
       "      <td>1000</td>\n",
       "      <td>0.244558</td>\n",
       "      <td>0.211</td>\n",
       "      <td>0.241683</td>\n",
       "      <td>0.244558</td>\n",
       "      <td>0.272040</td>\n",
       "      <td>0.279533</td>\n",
       "      <td>0.279533</td>\n",
       "      <td>0.279533</td>\n",
       "      <td>0.279533</td>\n",
       "      <td>0.237803</td>\n",
       "    </tr>\n",
       "    <tr>\n",
       "      <th>10</th>\n",
       "      <td>SupervisedModelTraining____mars_gym_model_b___...</td>\n",
       "      <td>1.0</td>\n",
       "      <td>1000</td>\n",
       "      <td>0.244558</td>\n",
       "      <td>0.211</td>\n",
       "      <td>0.241683</td>\n",
       "      <td>0.244558</td>\n",
       "      <td>0.272040</td>\n",
       "      <td>0.279533</td>\n",
       "      <td>0.279533</td>\n",
       "      <td>0.279533</td>\n",
       "      <td>0.279533</td>\n",
       "      <td>0.237803</td>\n",
       "    </tr>\n",
       "  </tbody>\n",
       "</table>\n",
       "</div>"
      ],
      "text/plain": [
       "                                           model_task  percent_limit  count  \\\n",
       "9   SupervisedModelTraining____mars_gym_model_b___...            0.0   1000   \n",
       "8   SupervisedModelTraining____mars_gym_model_b___...            0.1   1000   \n",
       "7   SupervisedModelTraining____mars_gym_model_b___...            0.2   1000   \n",
       "6   SupervisedModelTraining____mars_gym_model_b___...            0.3   1000   \n",
       "5   SupervisedModelTraining____mars_gym_model_b___...            0.4   1000   \n",
       "4   SupervisedModelTraining____mars_gym_model_b___...            0.5   1000   \n",
       "3   SupervisedModelTraining____mars_gym_model_b___...            0.6   1000   \n",
       "2   SupervisedModelTraining____mars_gym_model_b___...            0.7   1000   \n",
       "1   SupervisedModelTraining____mars_gym_model_b___...            0.8   1000   \n",
       "0   SupervisedModelTraining____mars_gym_model_b___...            0.9   1000   \n",
       "10  SupervisedModelTraining____mars_gym_model_b___...            1.0   1000   \n",
       "\n",
       "    mean_average_precision  precision_at_1  mrr_at_5  mrr_at_10  ndcg_at_5  \\\n",
       "9                 0.089800           0.055  0.071350   0.089800   0.088191   \n",
       "8                 0.197297           0.169  0.194783   0.197297   0.220440   \n",
       "7                 0.240040           0.208  0.237300   0.240040   0.266340   \n",
       "6                 0.242601           0.210  0.239683   0.242601   0.269040   \n",
       "5                 0.244583           0.212  0.241683   0.244583   0.271040   \n",
       "4                 0.244583           0.211  0.241683   0.244583   0.272040   \n",
       "3                 0.244569           0.211  0.241683   0.244569   0.272040   \n",
       "2                 0.244558           0.211  0.241683   0.244558   0.272040   \n",
       "1                 0.244558           0.211  0.241683   0.244558   0.272040   \n",
       "0                 0.244558           0.211  0.241683   0.244558   0.272040   \n",
       "10                0.244558           0.211  0.241683   0.244558   0.272040   \n",
       "\n",
       "    ndcg_at_10  ndcg_at_15  ndcg_at_20  ndcg_at_50   ndcg_ml  \n",
       "9     0.136244    0.136244    0.136244    0.136244  0.139125  \n",
       "8     0.226950    0.226950    0.226950    0.226950  0.204961  \n",
       "7     0.273487    0.273487    0.273487    0.273487  0.236909  \n",
       "6     0.276588    0.276588    0.276588    0.276588  0.237177  \n",
       "5     0.278565    0.278565    0.278565    0.278565  0.238251  \n",
       "4     0.279565    0.279565    0.279565    0.279565  0.238191  \n",
       "3     0.279547    0.279547    0.279547    0.279547  0.238068  \n",
       "2     0.279533    0.279533    0.279533    0.279533  0.237886  \n",
       "1     0.279533    0.279533    0.279533    0.279533  0.237824  \n",
       "0     0.279533    0.279533    0.279533    0.279533  0.237803  \n",
       "10    0.279533    0.279533    0.279533    0.279533  0.237803  "
      ]
     },
     "execution_count": 44,
     "metadata": {},
     "output_type": "execute_result"
    }
   ],
   "source": [
    "df = pd.DataFrame(data)\n",
    "df = df.sort_values('percent_limit')\n",
    "df"
   ]
  },
  {
   "cell_type": "code",
   "execution_count": 48,
   "metadata": {},
   "outputs": [
    {
     "data": {
      "text/plain": [
       "<matplotlib.axes._subplots.AxesSubplot at 0x7f5b2d55c390>"
      ]
     },
     "execution_count": 48,
     "metadata": {},
     "output_type": "execute_result"
    },
    {
     "data": {
      "image/png": "[encoded data removed]",
      "text/plain": [
       "<Figure size 432x288 with 1 Axes>"
      ]
     },
     "metadata": {
      "needs_background": "light"
     },
     "output_type": "display_data"
    }
   ],
   "source": [
    "df.reset_index().ndcg_ml.plot(kind='line')"
   ]
  },
  {
   "cell_type": "code",
   "execution_count": 40,
   "metadata": {},
   "outputs": [
    {
     "data": {
      "text/plain": [
       "<matplotlib.axes._subplots.AxesSubplot at 0x7f5b2d92c908>"
      ]
     },
     "execution_count": 40,
     "metadata": {},
     "output_type": "execute_result"
    },
    {
     "data": {
      "image/png": "[encoded data removed]",
      "text/plain": [
       "<Figure size 432x288 with 1 Axes>"
      ]
     },
     "metadata": {
      "needs_background": "light"
     },
     "output_type": "display_data"
    }
   ],
   "source": [
    "sns.barplot(x=\"percent_limit\", y=\"ndcg_ml\", data=df.reset_index())"
   ]
  },
  {
   "cell_type": "code",
   "execution_count": 41,
   "metadata": {},
   "outputs": [
    {
     "data": {
      "text/plain": [
       "<matplotlib.axes._subplots.AxesSubplot at 0x7f5b2d8c4320>"
      ]
     },
     "execution_count": 41,
     "metadata": {},
     "output_type": "execute_result"
    },
    {
     "data": {
      "image/png": "[encoded data removed]",
      "text/plain": [
       "<Figure size 432x288 with 1 Axes>"
      ]
     },
     "metadata": {
      "needs_background": "light"
     },
     "output_type": "display_data"
    }
   ],
   "source": [
    "sns.histplot(data=df, x=\"ndcg_ml\")"
   ]
  },
  {
   "cell_type": "code",
   "execution_count": 42,
   "metadata": {},
   "outputs": [
    {
     "data": {
      "text/plain": [
       "<matplotlib.axes._subplots.AxesSubplot at 0x7f5b2d8685f8>"
      ]
     },
     "execution_count": 42,
     "metadata": {},
     "output_type": "execute_result"
    },
    {
     "data": {
      "image/png": "[encoded data removed]",
      "text/plain": [
       "<Figure size 432x288 with 1 Axes>"
      ]
     },
     "metadata": {
      "needs_background": "light"
     },
     "output_type": "display_data"
    }
   ],
   "source": [
    "sns.histplot(data=df, x=\"ndcg_at_10\")"
   ]
  },
  {
   "cell_type": "code",
   "execution_count": 43,
   "metadata": {},
   "outputs": [
    {
     "data": {
      "text/plain": [
       "<seaborn.axisgrid.FacetGrid at 0x7f5b2dd8d908>"
      ]
     },
     "execution_count": 43,
     "metadata": {},
     "output_type": "execute_result"
    },
    {
     "data": {
      "image/png": "[encoded data removed]",
      "text/plain": [
       "<Figure size 433.5x360 with 1 Axes>"
      ]
     },
     "metadata": {
      "needs_background": "light"
     },
     "output_type": "display_data"
    }
   ],
   "source": [
    "sns.lmplot(x='ndcg_at_10', y='ndcg_ml', hue=\"percent_limit\", data=df)\n"
   ]
  },
  {
   "cell_type": "code",
   "execution_count": null,
   "metadata": {},
   "outputs": [],
   "source": []
  },
  {
   "cell_type": "code",
   "execution_count": null,
   "metadata": {},
   "outputs": [],
   "source": []
  }
 ],
 "metadata": {
  "kernelspec": {
   "display_name": "Python 3.6.12 64-bit ('triplet-session': conda)",
   "language": "python",
   "name": "python361264bittripletsessioncondad5cbd839d71f4524a2e1ac2238b70b72"
  },
  "language_info": {
   "codemirror_mode": {
    "name": "ipython",
    "version": 3
   },
   "file_extension": ".py",
   "mimetype": "text/x-python",
   "name": "python",
   "nbconvert_exporter": "python",
   "pygments_lexer": "ipython3",
   "version": "3.6.12"
  },
  "toc": {
   "base_numbering": 1,
   "nav_menu": {},
   "number_sections": true,
   "sideBar": true,
   "skip_h1_title": false,
   "title_cell": "Table of Contents",
   "title_sidebar": "Contents",
   "toc_cell": false,
   "toc_position": {},
   "toc_section_display": true,
   "toc_window_display": false
  }
 },
 "nbformat": 4,
 "nbformat_minor": 4
}
