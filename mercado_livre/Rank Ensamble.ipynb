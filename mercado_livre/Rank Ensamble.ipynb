{
 "cells": [
  {
   "cell_type": "code",
   "execution_count": 55,
   "metadata": {},
   "outputs": [],
   "source": [
    "import pandas as pd\n",
    "import seaborn as sns\n",
    "import numpy as np\n",
    "from collections import defaultdict\n",
    "from tqdm import tqdm\n",
    "import matplotlib.pyplot as plt\n",
    "import numpy as np\n",
    "sns.set_theme(style=\"ticks\")\n",
    "\n",
    "#https://github.com/qpwo/pySCF\n",
    "from social_choice.profile import Profile#, ballot_box, plurality\n",
    "\n",
    "#https://github.com/djcunningham0/rankaggregation\n",
    "import rankaggregation as ra"
   ]
  },
  {
   "cell_type": "markdown",
   "metadata": {},
   "source": [
    "# Read Submission"
   ]
  },
  {
   "cell_type": "code",
   "execution_count": 72,
   "metadata": {},
   "outputs": [],
   "source": [
    "base_path      = '/media/workspace/triplet_session/output/evaluation/MLEvaluationTask/results/'\n",
    "\n",
    "# Real\n",
    "# model  = \"SupervisedModelTraining____mars_gym_model_b____6ce3c531e5_c794172206_sub_False\"\n",
    "# model1 = \"SupervisedModelTraining____mars_gym_model_b____b4197a226b_4f1ce3789b_sub_False\"\n",
    "# model2 = \"SupervisedModelTraining____mars_gym_model_b____1da67a8f8e_7acd8435e1_sub_False\"\n",
    "# model3 = \"SupervisedModelTraining____mars_gym_model_b____c179ab54fa_e752b84f46_sub_False\"\n",
    "\n",
    "# Local\n",
    "\n",
    "model  = \"SupervisedModelTraining____mars_gym_model_b____6ce3c531e5_f5d73b2bdd_sub_True\"\n",
    "model1 = \"SupervisedModelTraining____mars_gym_model_b____b4197a226b_c8e7045af6_sub_True\"\n",
    "model2 = \"SupervisedModelTraining____mars_gym_model_b____1da67a8f8e_037c9a9f69_sub_True\"\n",
    "model3 = \"SupervisedModelTraining____mars_gym_model_b____c179ab54fa_3ad3460c81_sub_True\"\n",
    "\n",
    "\n",
    "files          = [model, model1, model2, model3]\n",
    "model_names    = ['model', 'model1', 'model2','model3']"
   ]
  },
  {
   "cell_type": "code",
   "execution_count": 73,
   "metadata": {},
   "outputs": [
    {
     "data": {
      "text/plain": [
       "dict_keys(['model', 'model1', 'model2', 'model3'])"
      ]
     },
     "execution_count": 73,
     "metadata": {},
     "output_type": "execute_result"
    }
   ],
   "source": [
    "\n",
    "df_sub = {}\n",
    "for i in range(len(files)):\n",
    "    path = base_path+files[i]+'/submission_{}.csv'.format(files[i].split(\"/\")[-1])\n",
    "    _df   = pd.read_csv(path, header=None)\n",
    "    df_sub[model_names[i]] = _df\n",
    "\n",
    "df_sub.keys()"
   ]
  },
  {
   "cell_type": "code",
   "execution_count": 74,
   "metadata": {},
   "outputs": [
    {
     "data": {
      "text/html": [
       "<div>\n",
       "<style scoped>\n",
       "    .dataframe tbody tr th:only-of-type {\n",
       "        vertical-align: middle;\n",
       "    }\n",
       "\n",
       "    .dataframe tbody tr th {\n",
       "        vertical-align: top;\n",
       "    }\n",
       "\n",
       "    .dataframe thead th {\n",
       "        text-align: right;\n",
       "    }\n",
       "</style>\n",
       "<table border=\"1\" class=\"dataframe\">\n",
       "  <thead>\n",
       "    <tr style=\"text-align: right;\">\n",
       "      <th></th>\n",
       "      <th>0</th>\n",
       "      <th>1</th>\n",
       "      <th>2</th>\n",
       "      <th>3</th>\n",
       "      <th>4</th>\n",
       "      <th>5</th>\n",
       "      <th>6</th>\n",
       "      <th>7</th>\n",
       "      <th>8</th>\n",
       "      <th>9</th>\n",
       "      <th>...</th>\n",
       "      <th>90</th>\n",
       "      <th>91</th>\n",
       "      <th>92</th>\n",
       "      <th>93</th>\n",
       "      <th>94</th>\n",
       "      <th>95</th>\n",
       "      <th>96</th>\n",
       "      <th>97</th>\n",
       "      <th>98</th>\n",
       "      <th>99</th>\n",
       "    </tr>\n",
       "  </thead>\n",
       "  <tbody>\n",
       "    <tr>\n",
       "      <th>0</th>\n",
       "      <td>1615991</td>\n",
       "      <td>1361154</td>\n",
       "      <td>1748830</td>\n",
       "      <td>400496</td>\n",
       "      <td>473325</td>\n",
       "      <td>455802</td>\n",
       "      <td>919498</td>\n",
       "      <td>1522537</td>\n",
       "      <td>63024</td>\n",
       "      <td>1647194</td>\n",
       "      <td>...</td>\n",
       "      <td>348790</td>\n",
       "      <td>659941</td>\n",
       "      <td>1765999</td>\n",
       "      <td>224659</td>\n",
       "      <td>2050215</td>\n",
       "      <td>578820</td>\n",
       "      <td>2097450</td>\n",
       "      <td>1137769</td>\n",
       "      <td>422938</td>\n",
       "      <td>590374</td>\n",
       "    </tr>\n",
       "    <tr>\n",
       "      <th>1</th>\n",
       "      <td>228737</td>\n",
       "      <td>1230986</td>\n",
       "      <td>1997785</td>\n",
       "      <td>1148280</td>\n",
       "      <td>911312</td>\n",
       "      <td>691859</td>\n",
       "      <td>1945218</td>\n",
       "      <td>615390</td>\n",
       "      <td>96806</td>\n",
       "      <td>1014949</td>\n",
       "      <td>...</td>\n",
       "      <td>1111753</td>\n",
       "      <td>1890333</td>\n",
       "      <td>1749576</td>\n",
       "      <td>1135425</td>\n",
       "      <td>1305289</td>\n",
       "      <td>21138</td>\n",
       "      <td>1530283</td>\n",
       "      <td>112200</td>\n",
       "      <td>1025545</td>\n",
       "      <td>1970229</td>\n",
       "    </tr>\n",
       "    <tr>\n",
       "      <th>2</th>\n",
       "      <td>17827</td>\n",
       "      <td>1880554</td>\n",
       "      <td>1587422</td>\n",
       "      <td>2041622</td>\n",
       "      <td>158235</td>\n",
       "      <td>1332849</td>\n",
       "      <td>548905</td>\n",
       "      <td>358952</td>\n",
       "      <td>10243</td>\n",
       "      <td>1843848</td>\n",
       "      <td>...</td>\n",
       "      <td>1431833</td>\n",
       "      <td>2068577</td>\n",
       "      <td>1695970</td>\n",
       "      <td>1680032</td>\n",
       "      <td>1157295</td>\n",
       "      <td>536980</td>\n",
       "      <td>1845592</td>\n",
       "      <td>548958</td>\n",
       "      <td>380394</td>\n",
       "      <td>351968</td>\n",
       "    </tr>\n",
       "    <tr>\n",
       "      <th>3</th>\n",
       "      <td>21739</td>\n",
       "      <td>2090871</td>\n",
       "      <td>255638</td>\n",
       "      <td>716822</td>\n",
       "      <td>429798</td>\n",
       "      <td>1075129</td>\n",
       "      <td>849156</td>\n",
       "      <td>940123</td>\n",
       "      <td>842438</td>\n",
       "      <td>1787501</td>\n",
       "      <td>...</td>\n",
       "      <td>595136</td>\n",
       "      <td>1885055</td>\n",
       "      <td>537022</td>\n",
       "      <td>155343</td>\n",
       "      <td>474383</td>\n",
       "      <td>1471401</td>\n",
       "      <td>1352725</td>\n",
       "      <td>363435</td>\n",
       "      <td>516485</td>\n",
       "      <td>1645101</td>\n",
       "    </tr>\n",
       "    <tr>\n",
       "      <th>4</th>\n",
       "      <td>1314713</td>\n",
       "      <td>1492333</td>\n",
       "      <td>86082</td>\n",
       "      <td>2049207</td>\n",
       "      <td>703524</td>\n",
       "      <td>1554487</td>\n",
       "      <td>176811</td>\n",
       "      <td>1980402</td>\n",
       "      <td>1947925</td>\n",
       "      <td>1095121</td>\n",
       "      <td>...</td>\n",
       "      <td>501011</td>\n",
       "      <td>1123415</td>\n",
       "      <td>510949</td>\n",
       "      <td>18857</td>\n",
       "      <td>1816835</td>\n",
       "      <td>622737</td>\n",
       "      <td>1995244</td>\n",
       "      <td>771409</td>\n",
       "      <td>1238994</td>\n",
       "      <td>332101</td>\n",
       "    </tr>\n",
       "  </tbody>\n",
       "</table>\n",
       "<p>5 rows × 100 columns</p>\n",
       "</div>"
      ],
      "text/plain": [
       "        0        1        2        3       4        5        6        7   \\\n",
       "0  1615991  1361154  1748830   400496  473325   455802   919498  1522537   \n",
       "1   228737  1230986  1997785  1148280  911312   691859  1945218   615390   \n",
       "2    17827  1880554  1587422  2041622  158235  1332849   548905   358952   \n",
       "3    21739  2090871   255638   716822  429798  1075129   849156   940123   \n",
       "4  1314713  1492333    86082  2049207  703524  1554487   176811  1980402   \n",
       "\n",
       "        8        9   ...       90       91       92       93       94  \\\n",
       "0    63024  1647194  ...   348790   659941  1765999   224659  2050215   \n",
       "1    96806  1014949  ...  1111753  1890333  1749576  1135425  1305289   \n",
       "2    10243  1843848  ...  1431833  2068577  1695970  1680032  1157295   \n",
       "3   842438  1787501  ...   595136  1885055   537022   155343   474383   \n",
       "4  1947925  1095121  ...   501011  1123415   510949    18857  1816835   \n",
       "\n",
       "        95       96       97       98       99  \n",
       "0   578820  2097450  1137769   422938   590374  \n",
       "1    21138  1530283   112200  1025545  1970229  \n",
       "2   536980  1845592   548958   380394   351968  \n",
       "3  1471401  1352725   363435   516485  1645101  \n",
       "4   622737  1995244   771409  1238994   332101  \n",
       "\n",
       "[5 rows x 100 columns]"
      ]
     },
     "execution_count": 74,
     "metadata": {},
     "output_type": "execute_result"
    }
   ],
   "source": [
    "df_sub['model1'].head()"
   ]
  },
  {
   "cell_type": "code",
   "execution_count": 75,
   "metadata": {},
   "outputs": [
    {
     "data": {
      "text/plain": [
       "dict_keys(['model', 'model1', 'model2', 'model3'])"
      ]
     },
     "execution_count": 75,
     "metadata": {},
     "output_type": "execute_result"
    }
   ],
   "source": [
    "df_sub.keys()"
   ]
  },
  {
   "cell_type": "markdown",
   "metadata": {},
   "source": [
    "## Ranked"
   ]
  },
  {
   "cell_type": "code",
   "execution_count": 76,
   "metadata": {},
   "outputs": [],
   "source": [
    "# import itertools\n",
    "# import numpy as np\n",
    "# from collections import OrderedDict\n",
    "\n",
    "# # list(df_sub.keys())\n",
    "# def get_list(df_sub, uid, models = []):\n",
    "#     return list(OrderedDict.fromkeys(list(itertools.chain(*[list(df_sub[k].iloc[uid].values) \n",
    "#                                                  for k in models]))))\n",
    "\n",
    "# candidates = get_list(df_sub, 0, ['model', 'coocorrence', 'most_popular'])\n",
    "# candidates"
   ]
  },
  {
   "cell_type": "code",
   "execution_count": 77,
   "metadata": {},
   "outputs": [],
   "source": [
    "def get_rerank(reclist, type = 'instant_runoff'):\n",
    "    if type == 'instant_runoff':\n",
    "        return agg.instant_runoff(ballots)\n",
    "    elif type == 'borda':\n",
    "        l = agg.borda(ballots)\n",
    "    elif type == 'dowdall':\n",
    "        l = agg.dowdall(ballots)\n",
    "    elif type == 'average_rank':\n",
    "        l = agg.average_rank(ballots)\n",
    "    \n",
    "    return [i[0] for i in l]\n",
    "\n",
    "agg = ra.RankAggregator()\n"
   ]
  },
  {
   "cell_type": "code",
   "execution_count": 78,
   "metadata": {},
   "outputs": [
    {
     "name": "stderr",
     "output_type": "stream",
     "text": [
      "100%|██████████| 1000/1000 [00:01<00:00, 779.65it/s]\n",
      "100%|██████████| 1000/1000 [00:04<00:00, 204.43it/s]\n",
      "100%|██████████| 1000/1000 [00:05<00:00, 168.54it/s]\n",
      "100%|██████████| 1000/1000 [01:44<00:00,  9.61it/s]\n"
     ]
    }
   ],
   "source": [
    "\n",
    "methods = ['dowdall', 'borda',  'average_rank', 'instant_runoff']\n",
    "reclist_size = 100\n",
    "\n",
    "for kind_rerank in methods:\n",
    "\n",
    "    reranked_list = []\n",
    "    for uid in tqdm(range(len(df_sub['model1']))):\n",
    "        ballots  = [list(df_sub[k].iloc[uid].astype(str).values) for k in model_names]\n",
    "        reranked = list(np.array(get_rerank(ballots, kind_rerank)).astype(int))[:reclist_size]\n",
    "        reranked_list.append(reranked)\n",
    "\n",
    "    np.savetxt('data/final_submission_{}.csv'.format(kind_rerank), reranked_list, fmt='%i', delimiter=',') "
   ]
  },
  {
   "cell_type": "code",
   "execution_count": null,
   "metadata": {},
   "outputs": [],
   "source": []
  },
  {
   "cell_type": "code",
   "execution_count": null,
   "metadata": {},
   "outputs": [],
   "source": []
  }
 ],
 "metadata": {
  "kernelspec": {
   "display_name": "Python 3",
   "language": "python",
   "name": "python3"
  },
  "language_info": {
   "codemirror_mode": {
    "name": "ipython",
    "version": 3
   },
   "file_extension": ".py",
   "mimetype": "text/x-python",
   "name": "python",
   "nbconvert_exporter": "python",
   "pygments_lexer": "ipython3",
   "version": "3.6.12"
  },
  "toc": {
   "base_numbering": 1,
   "nav_menu": {},
   "number_sections": true,
   "sideBar": true,
   "skip_h1_title": false,
   "title_cell": "Table of Contents",
   "title_sidebar": "Contents",
   "toc_cell": false,
   "toc_position": {},
   "toc_section_display": true,
   "toc_window_display": false
  }
 },
 "nbformat": 4,
 "nbformat_minor": 4
}
