{
 "cells": [
  {
   "cell_type": "code",
   "execution_count": 1,
   "metadata": {},
   "outputs": [],
   "source": [
    "import pandas as pd\n",
    "import seaborn as sns\n",
    "import numpy as np\n",
    "from collections import defaultdict\n",
    "from tqdm import tqdm\n",
    "import matplotlib.pyplot as plt\n",
    "import numpy as np\n",
    "sns.set_theme(style=\"ticks\")\n",
    "\n",
    "#https://github.com/qpwo/pySCF\n",
    "from social_choice.profile import Profile#, ballot_box, plurality\n",
    "\n",
    "#https://github.com/djcunningham0/rankaggregation\n",
    "import rankaggregation as ra"
   ]
  },
  {
   "cell_type": "markdown",
   "metadata": {},
   "source": [
    "# Read Submission"
   ]
  },
  {
   "cell_type": "code",
   "execution_count": 2,
   "metadata": {},
   "outputs": [],
   "source": [
    "base_path      = '/media/workspace/triplet_session/output/evaluation/MLEvaluationTask/results/'\n",
    "\n",
    "f_coocorrence  = \"SupervisedModelTraining____mars_gym_model_b____897c16bdda_e9e8f6c31f_sub_True\"\n",
    "f_most_popular = \"SupervisedModelTraining____mars_gym_model_b____897c16bdda_0af6565550_sub_True\"\n",
    "f_model        = \"SupervisedModelTraining____mars_gym_model_b____897c16bdda_16757b9460_sub_True\"\n",
    "\n",
    "files          = [f_model, f_coocorrence, f_most_popular]\n",
    "model_names    = [\"model\", 'coocorrence', 'most_popular']"
   ]
  },
  {
   "cell_type": "code",
   "execution_count": 3,
   "metadata": {},
   "outputs": [
    {
     "data": {
      "text/plain": [
       "dict_keys(['model', 'coocorrence', 'most_popular'])"
      ]
     },
     "execution_count": 3,
     "metadata": {},
     "output_type": "execute_result"
    }
   ],
   "source": [
    "\n",
    "df_sub = {}\n",
    "for i in range(len(files)):\n",
    "    path = files[i]+'/submission_{}.csv'.format(files[i].split(\"/\")[-1])\n",
    "    _df   = pd.read_csv(path, header=None)\n",
    "    df_sub[model_names[i]] = _df\n",
    "\n",
    "df_sub.keys()"
   ]
  },
  {
   "cell_type": "code",
   "execution_count": 4,
   "metadata": {},
   "outputs": [
    {
     "data": {
      "text/html": [
       "<div>\n",
       "<style scoped>\n",
       "    .dataframe tbody tr th:only-of-type {\n",
       "        vertical-align: middle;\n",
       "    }\n",
       "\n",
       "    .dataframe tbody tr th {\n",
       "        vertical-align: top;\n",
       "    }\n",
       "\n",
       "    .dataframe thead th {\n",
       "        text-align: right;\n",
       "    }\n",
       "</style>\n",
       "<table border=\"1\" class=\"dataframe\">\n",
       "  <thead>\n",
       "    <tr style=\"text-align: right;\">\n",
       "      <th></th>\n",
       "      <th>0</th>\n",
       "      <th>1</th>\n",
       "      <th>2</th>\n",
       "      <th>3</th>\n",
       "      <th>4</th>\n",
       "      <th>5</th>\n",
       "      <th>6</th>\n",
       "      <th>7</th>\n",
       "      <th>8</th>\n",
       "      <th>9</th>\n",
       "      <th>...</th>\n",
       "      <th>90</th>\n",
       "      <th>91</th>\n",
       "      <th>92</th>\n",
       "      <th>93</th>\n",
       "      <th>94</th>\n",
       "      <th>95</th>\n",
       "      <th>96</th>\n",
       "      <th>97</th>\n",
       "      <th>98</th>\n",
       "      <th>99</th>\n",
       "    </tr>\n",
       "  </thead>\n",
       "  <tbody>\n",
       "    <tr>\n",
       "      <th>0</th>\n",
       "      <td>1361154</td>\n",
       "      <td>1647194</td>\n",
       "      <td>455802</td>\n",
       "      <td>1154325</td>\n",
       "      <td>652718</td>\n",
       "      <td>400496</td>\n",
       "      <td>1748830</td>\n",
       "      <td>1283430</td>\n",
       "      <td>1786148</td>\n",
       "      <td>87559</td>\n",
       "      <td>...</td>\n",
       "      <td>1391684</td>\n",
       "      <td>411840</td>\n",
       "      <td>696038</td>\n",
       "      <td>601148</td>\n",
       "      <td>1536987</td>\n",
       "      <td>1490248</td>\n",
       "      <td>1287345</td>\n",
       "      <td>1262562</td>\n",
       "      <td>1495298</td>\n",
       "      <td>1701356</td>\n",
       "    </tr>\n",
       "    <tr>\n",
       "      <th>1</th>\n",
       "      <td>855886</td>\n",
       "      <td>669717</td>\n",
       "      <td>1230986</td>\n",
       "      <td>1139450</td>\n",
       "      <td>1119845</td>\n",
       "      <td>378092</td>\n",
       "      <td>1771494</td>\n",
       "      <td>1400981</td>\n",
       "      <td>1513882</td>\n",
       "      <td>17610</td>\n",
       "      <td>...</td>\n",
       "      <td>1627337</td>\n",
       "      <td>1627317</td>\n",
       "      <td>1627229</td>\n",
       "      <td>1627170</td>\n",
       "      <td>1627151</td>\n",
       "      <td>1628108</td>\n",
       "      <td>1628190</td>\n",
       "      <td>162892</td>\n",
       "      <td>1628585</td>\n",
       "      <td>1628863</td>\n",
       "    </tr>\n",
       "    <tr>\n",
       "      <th>2</th>\n",
       "      <td>999983</td>\n",
       "      <td>1628836</td>\n",
       "      <td>1629732</td>\n",
       "      <td>1629679</td>\n",
       "      <td>1629645</td>\n",
       "      <td>1629617</td>\n",
       "      <td>1629612</td>\n",
       "      <td>1629606</td>\n",
       "      <td>1629568</td>\n",
       "      <td>1629558</td>\n",
       "      <td>...</td>\n",
       "      <td>1628711</td>\n",
       "      <td>1628699</td>\n",
       "      <td>1628695</td>\n",
       "      <td>1628617</td>\n",
       "      <td>1628585</td>\n",
       "      <td>1628567</td>\n",
       "      <td>1628499</td>\n",
       "      <td>1628496</td>\n",
       "      <td>1628484</td>\n",
       "      <td>1628466</td>\n",
       "    </tr>\n",
       "    <tr>\n",
       "      <th>3</th>\n",
       "      <td>999983</td>\n",
       "      <td>1628836</td>\n",
       "      <td>1629732</td>\n",
       "      <td>1629679</td>\n",
       "      <td>1629645</td>\n",
       "      <td>1629617</td>\n",
       "      <td>1629612</td>\n",
       "      <td>1629606</td>\n",
       "      <td>1629568</td>\n",
       "      <td>1629558</td>\n",
       "      <td>...</td>\n",
       "      <td>1628711</td>\n",
       "      <td>1628699</td>\n",
       "      <td>1628695</td>\n",
       "      <td>1628617</td>\n",
       "      <td>1628585</td>\n",
       "      <td>1628567</td>\n",
       "      <td>1628499</td>\n",
       "      <td>1628496</td>\n",
       "      <td>1628484</td>\n",
       "      <td>1628466</td>\n",
       "    </tr>\n",
       "    <tr>\n",
       "      <th>4</th>\n",
       "      <td>1587422</td>\n",
       "      <td>588326</td>\n",
       "      <td>966428</td>\n",
       "      <td>1114176</td>\n",
       "      <td>2074864</td>\n",
       "      <td>928548</td>\n",
       "      <td>1768844</td>\n",
       "      <td>1813877</td>\n",
       "      <td>1039554</td>\n",
       "      <td>1539366</td>\n",
       "      <td>...</td>\n",
       "      <td>1448314</td>\n",
       "      <td>1571812</td>\n",
       "      <td>888795</td>\n",
       "      <td>902709</td>\n",
       "      <td>517255</td>\n",
       "      <td>528136</td>\n",
       "      <td>1707797</td>\n",
       "      <td>1147728</td>\n",
       "      <td>711508</td>\n",
       "      <td>7233</td>\n",
       "    </tr>\n",
       "  </tbody>\n",
       "</table>\n",
       "<p>5 rows × 100 columns</p>\n",
       "</div>"
      ],
      "text/plain": [
       "        0        1        2        3        4        5        6        7   \\\n",
       "0  1361154  1647194   455802  1154325   652718   400496  1748830  1283430   \n",
       "1   855886   669717  1230986  1139450  1119845   378092  1771494  1400981   \n",
       "2   999983  1628836  1629732  1629679  1629645  1629617  1629612  1629606   \n",
       "3   999983  1628836  1629732  1629679  1629645  1629617  1629612  1629606   \n",
       "4  1587422   588326   966428  1114176  2074864   928548  1768844  1813877   \n",
       "\n",
       "        8        9   ...       90       91       92       93       94  \\\n",
       "0  1786148    87559  ...  1391684   411840   696038   601148  1536987   \n",
       "1  1513882    17610  ...  1627337  1627317  1627229  1627170  1627151   \n",
       "2  1629568  1629558  ...  1628711  1628699  1628695  1628617  1628585   \n",
       "3  1629568  1629558  ...  1628711  1628699  1628695  1628617  1628585   \n",
       "4  1039554  1539366  ...  1448314  1571812   888795   902709   517255   \n",
       "\n",
       "        95       96       97       98       99  \n",
       "0  1490248  1287345  1262562  1495298  1701356  \n",
       "1  1628108  1628190   162892  1628585  1628863  \n",
       "2  1628567  1628499  1628496  1628484  1628466  \n",
       "3  1628567  1628499  1628496  1628484  1628466  \n",
       "4   528136  1707797  1147728   711508     7233  \n",
       "\n",
       "[5 rows x 100 columns]"
      ]
     },
     "execution_count": 4,
     "metadata": {},
     "output_type": "execute_result"
    }
   ],
   "source": [
    "df_sub['model'].head()"
   ]
  },
  {
   "cell_type": "code",
   "execution_count": 5,
   "metadata": {},
   "outputs": [
    {
     "data": {
      "text/plain": [
       "dict_keys(['model', 'coocorrence', 'most_popular'])"
      ]
     },
     "execution_count": 5,
     "metadata": {},
     "output_type": "execute_result"
    }
   ],
   "source": [
    "df_sub.keys()"
   ]
  },
  {
   "cell_type": "markdown",
   "metadata": {},
   "source": [
    "## Ranked"
   ]
  },
  {
   "cell_type": "code",
   "execution_count": 6,
   "metadata": {},
   "outputs": [],
   "source": [
    "# import itertools\n",
    "# import numpy as np\n",
    "# from collections import OrderedDict\n",
    "\n",
    "# # list(df_sub.keys())\n",
    "# def get_list(df_sub, uid, models = []):\n",
    "#     return list(OrderedDict.fromkeys(list(itertools.chain(*[list(df_sub[k].iloc[uid].values) \n",
    "#                                                  for k in models]))))\n",
    "\n",
    "# candidates = get_list(df_sub, 0, ['model', 'coocorrence', 'most_popular'])\n",
    "# candidates"
   ]
  },
  {
   "cell_type": "code",
   "execution_count": null,
   "metadata": {},
   "outputs": [],
   "source": [
    "def get_rerank(reclist, type = 'instant_runoff'):\n",
    "    if type == 'instant_runoff':\n",
    "        return agg.instant_runoff(ballots)\n",
    "    elif type == 'borda':\n",
    "        l = agg.borda(ballots)\n",
    "    elif type == 'dowdall':\n",
    "        l = agg.dowdall(ballots)\n",
    "    elif type == 'average_rank':\n",
    "        l = agg.average_rank(ballots)\n",
    "    \n",
    "    return [i[0] for i in l]\n",
    "\n",
    "agg = ra.RankAggregator()\n"
   ]
  },
  {
   "cell_type": "code",
   "execution_count": 7,
   "metadata": {},
   "outputs": [
    {
     "name": "stderr",
     "output_type": "stream",
     "text": [
      "100%|██████████| 1000/1000 [01:02<00:00, 15.89it/s]\n"
     ]
    }
   ],
   "source": [
    "\n",
    "methods = ['instant_runoff', 'borda', 'dowdall', 'average_rank']\n",
    "\n",
    "for kind_rerank in methods:\n",
    "\n",
    "    reranked_list = []\n",
    "    for uid in tqdm(range(len(df_sub['model']))):\n",
    "        ballots  = [list(df_sub[k].iloc[uid].astype(str).values) for k in model_names]\n",
    "        reranked = list(np.array(get_rerank(ballots, kind_rerank)).astype(int))[:10]\n",
    "        reranked_list.append(reranked)\n",
    "\n",
    "np.savetxt('data/final_submission_{}.csv'.format(kind_rerank), reranked_list, fmt='%i', delimiter=',') "
   ]
  }
 ],
 "metadata": {
  "kernelspec": {
   "display_name": "Python 3",
   "language": "python",
   "name": "python3"
  },
  "language_info": {
   "codemirror_mode": {
    "name": "ipython",
    "version": 3
   },
   "file_extension": ".py",
   "mimetype": "text/x-python",
   "name": "python",
   "nbconvert_exporter": "python",
   "pygments_lexer": "ipython3",
   "version": "3.6.12"
  },
  "toc": {
   "base_numbering": 1,
   "nav_menu": {},
   "number_sections": true,
   "sideBar": true,
   "skip_h1_title": false,
   "title_cell": "Table of Contents",
   "title_sidebar": "Contents",
   "toc_cell": false,
   "toc_position": {},
   "toc_section_display": true,
   "toc_window_display": false
  }
 },
 "nbformat": 4,
 "nbformat_minor": 4
}
