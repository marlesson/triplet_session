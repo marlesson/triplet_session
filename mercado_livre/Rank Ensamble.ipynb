{
 "cells": [
  {
   "cell_type": "code",
   "execution_count": 55,
   "metadata": {},
   "outputs": [],
   "source": [
    "import pandas as pd\n",
    "import seaborn as sns\n",
    "import numpy as np\n",
    "from collections import defaultdict\n",
    "from tqdm import tqdm\n",
    "import matplotlib.pyplot as plt\n",
    "import numpy as np\n",
    "sns.set_theme(style=\"ticks\")\n",
    "\n",
    "#https://github.com/qpwo/pySCF\n",
    "from social_choice.profile import Profile#, ballot_box, plurality\n",
    "\n",
    "#https://github.com/djcunningham0/rankaggregation\n",
    "import rankaggregation as ra"
   ]
  },
  {
   "cell_type": "markdown",
   "metadata": {},
   "source": [
    "# Read Submission"
   ]
  },
  {
   "cell_type": "code",
   "execution_count": 65,
   "metadata": {},
   "outputs": [],
   "source": [
    "base_path      = '/media/workspace/triplet_session/output/evaluation/MLEvaluationTask/results/'\n",
    "\n",
    "# Real\n",
    "model  = \"SupervisedModelTraining____mars_gym_model_b____6ce3c531e5_c794172206_sub_False\"\n",
    "model1 = \"SupervisedModelTraining____mars_gym_model_b____b4197a226b_4f1ce3789b_sub_False\"\n",
    "model2 = \"SupervisedModelTraining____mars_gym_model_b____1da67a8f8e_7acd8435e1_sub_False\"\n",
    "model3 = \"SupervisedModelTraining____mars_gym_model_b____c179ab54fa_e752b84f46_sub_False\"\n",
    "\n",
    "# Local\n",
    "\n",
    "# model  = \"SupervisedModelTraining____mars_gym_model_b____6ce3c531e5_f5d73b2bdd_sub_True\"\n",
    "# model1 = \"SupervisedModelTraining____mars_gym_model_b____b4197a226b_c8e7045af6_sub_True\"\n",
    "# model2 = \"SupervisedModelTraining____mars_gym_model_b____1da67a8f8e_037c9a9f69_sub_True\"\n",
    "# model3 = \"SupervisedModelTraining____mars_gym_model_b____c179ab54fa_3ad3460c81_sub_True\"\n",
    "\n",
    "\n",
    "files          = [model, model1, model2, model3]\n",
    "model_names    = ['model', 'model1', 'model2','model3']"
   ]
  },
  {
   "cell_type": "code",
   "execution_count": 66,
   "metadata": {},
   "outputs": [
    {
     "data": {
      "text/plain": [
       "dict_keys(['model', 'model1', 'model2', 'model3'])"
      ]
     },
     "execution_count": 66,
     "metadata": {},
     "output_type": "execute_result"
    }
   ],
   "source": [
    "\n",
    "df_sub = {}\n",
    "for i in range(len(files)):\n",
    "    path = base_path+files[i]+'/submission_{}.csv'.format(files[i].split(\"/\")[-1])\n",
    "    _df   = pd.read_csv(path, header=None)\n",
    "    df_sub[model_names[i]] = _df\n",
    "\n",
    "df_sub.keys()"
   ]
  },
  {
   "cell_type": "code",
   "execution_count": 67,
   "metadata": {},
   "outputs": [
    {
     "data": {
      "text/html": [
       "<div>\n",
       "<style scoped>\n",
       "    .dataframe tbody tr th:only-of-type {\n",
       "        vertical-align: middle;\n",
       "    }\n",
       "\n",
       "    .dataframe tbody tr th {\n",
       "        vertical-align: top;\n",
       "    }\n",
       "\n",
       "    .dataframe thead th {\n",
       "        text-align: right;\n",
       "    }\n",
       "</style>\n",
       "<table border=\"1\" class=\"dataframe\">\n",
       "  <thead>\n",
       "    <tr style=\"text-align: right;\">\n",
       "      <th></th>\n",
       "      <th>0</th>\n",
       "      <th>1</th>\n",
       "      <th>2</th>\n",
       "      <th>3</th>\n",
       "      <th>4</th>\n",
       "      <th>5</th>\n",
       "      <th>6</th>\n",
       "      <th>7</th>\n",
       "      <th>8</th>\n",
       "      <th>9</th>\n",
       "      <th>...</th>\n",
       "      <th>90</th>\n",
       "      <th>91</th>\n",
       "      <th>92</th>\n",
       "      <th>93</th>\n",
       "      <th>94</th>\n",
       "      <th>95</th>\n",
       "      <th>96</th>\n",
       "      <th>97</th>\n",
       "      <th>98</th>\n",
       "      <th>99</th>\n",
       "    </tr>\n",
       "  </thead>\n",
       "  <tbody>\n",
       "    <tr>\n",
       "      <th>0</th>\n",
       "      <td>1572239</td>\n",
       "      <td>1652445</td>\n",
       "      <td>1717880</td>\n",
       "      <td>822396</td>\n",
       "      <td>345185</td>\n",
       "      <td>1298781</td>\n",
       "      <td>278164</td>\n",
       "      <td>198790</td>\n",
       "      <td>1183656</td>\n",
       "      <td>457681</td>\n",
       "      <td>...</td>\n",
       "      <td>1755800</td>\n",
       "      <td>1027487</td>\n",
       "      <td>1803825</td>\n",
       "      <td>670018</td>\n",
       "      <td>1864599</td>\n",
       "      <td>33757</td>\n",
       "      <td>1397037</td>\n",
       "      <td>2014930</td>\n",
       "      <td>2022687</td>\n",
       "      <td>1139712</td>\n",
       "    </tr>\n",
       "    <tr>\n",
       "      <th>1</th>\n",
       "      <td>849692</td>\n",
       "      <td>1506643</td>\n",
       "      <td>909497</td>\n",
       "      <td>1953284</td>\n",
       "      <td>69370</td>\n",
       "      <td>1387649</td>\n",
       "      <td>1710814</td>\n",
       "      <td>1583206</td>\n",
       "      <td>1692426</td>\n",
       "      <td>569865</td>\n",
       "      <td>...</td>\n",
       "      <td>1450191</td>\n",
       "      <td>762367</td>\n",
       "      <td>1251724</td>\n",
       "      <td>1336985</td>\n",
       "      <td>1702873</td>\n",
       "      <td>1217234</td>\n",
       "      <td>750742</td>\n",
       "      <td>1029181</td>\n",
       "      <td>1762957</td>\n",
       "      <td>1390046</td>\n",
       "    </tr>\n",
       "    <tr>\n",
       "      <th>2</th>\n",
       "      <td>1330189</td>\n",
       "      <td>1283004</td>\n",
       "      <td>2825</td>\n",
       "      <td>341295</td>\n",
       "      <td>716822</td>\n",
       "      <td>255638</td>\n",
       "      <td>1749258</td>\n",
       "      <td>1937259</td>\n",
       "      <td>1796243</td>\n",
       "      <td>795217</td>\n",
       "      <td>...</td>\n",
       "      <td>115243</td>\n",
       "      <td>913832</td>\n",
       "      <td>481109</td>\n",
       "      <td>1213434</td>\n",
       "      <td>1696504</td>\n",
       "      <td>97651</td>\n",
       "      <td>1479718</td>\n",
       "      <td>340792</td>\n",
       "      <td>462258</td>\n",
       "      <td>429798</td>\n",
       "    </tr>\n",
       "    <tr>\n",
       "      <th>3</th>\n",
       "      <td>10243</td>\n",
       "      <td>1587422</td>\n",
       "      <td>1027487</td>\n",
       "      <td>922608</td>\n",
       "      <td>21739</td>\n",
       "      <td>1158631</td>\n",
       "      <td>1459575</td>\n",
       "      <td>2065207</td>\n",
       "      <td>553704</td>\n",
       "      <td>1842210</td>\n",
       "      <td>...</td>\n",
       "      <td>806452</td>\n",
       "      <td>2041622</td>\n",
       "      <td>1082484</td>\n",
       "      <td>1431639</td>\n",
       "      <td>940123</td>\n",
       "      <td>1833184</td>\n",
       "      <td>2795</td>\n",
       "      <td>824954</td>\n",
       "      <td>1328958</td>\n",
       "      <td>1448561</td>\n",
       "    </tr>\n",
       "    <tr>\n",
       "      <th>4</th>\n",
       "      <td>1082484</td>\n",
       "      <td>1748830</td>\n",
       "      <td>877640</td>\n",
       "      <td>768694</td>\n",
       "      <td>10243</td>\n",
       "      <td>671264</td>\n",
       "      <td>2041622</td>\n",
       "      <td>1007340</td>\n",
       "      <td>1881345</td>\n",
       "      <td>1880554</td>\n",
       "      <td>...</td>\n",
       "      <td>2066646</td>\n",
       "      <td>268262</td>\n",
       "      <td>1362158</td>\n",
       "      <td>1175381</td>\n",
       "      <td>1578791</td>\n",
       "      <td>476890</td>\n",
       "      <td>1019254</td>\n",
       "      <td>245107</td>\n",
       "      <td>1994198</td>\n",
       "      <td>803500</td>\n",
       "    </tr>\n",
       "  </tbody>\n",
       "</table>\n",
       "<p>5 rows × 100 columns</p>\n",
       "</div>"
      ],
      "text/plain": [
       "        0        1        2        3       4        5        6        7   \\\n",
       "0  1572239  1652445  1717880   822396  345185  1298781   278164   198790   \n",
       "1   849692  1506643   909497  1953284   69370  1387649  1710814  1583206   \n",
       "2  1330189  1283004     2825   341295  716822   255638  1749258  1937259   \n",
       "3    10243  1587422  1027487   922608   21739  1158631  1459575  2065207   \n",
       "4  1082484  1748830   877640   768694   10243   671264  2041622  1007340   \n",
       "\n",
       "        8        9   ...       90       91       92       93       94  \\\n",
       "0  1183656   457681  ...  1755800  1027487  1803825   670018  1864599   \n",
       "1  1692426   569865  ...  1450191   762367  1251724  1336985  1702873   \n",
       "2  1796243   795217  ...   115243   913832   481109  1213434  1696504   \n",
       "3   553704  1842210  ...   806452  2041622  1082484  1431639   940123   \n",
       "4  1881345  1880554  ...  2066646   268262  1362158  1175381  1578791   \n",
       "\n",
       "        95       96       97       98       99  \n",
       "0    33757  1397037  2014930  2022687  1139712  \n",
       "1  1217234   750742  1029181  1762957  1390046  \n",
       "2    97651  1479718   340792   462258   429798  \n",
       "3  1833184     2795   824954  1328958  1448561  \n",
       "4   476890  1019254   245107  1994198   803500  \n",
       "\n",
       "[5 rows x 100 columns]"
      ]
     },
     "execution_count": 67,
     "metadata": {},
     "output_type": "execute_result"
    }
   ],
   "source": [
    "df_sub['model1'].head()"
   ]
  },
  {
   "cell_type": "code",
   "execution_count": 68,
   "metadata": {},
   "outputs": [
    {
     "data": {
      "text/plain": [
       "dict_keys(['model', 'model1', 'model2', 'model3'])"
      ]
     },
     "execution_count": 68,
     "metadata": {},
     "output_type": "execute_result"
    }
   ],
   "source": [
    "df_sub.keys()"
   ]
  },
  {
   "cell_type": "markdown",
   "metadata": {},
   "source": [
    "## Ranked"
   ]
  },
  {
   "cell_type": "code",
   "execution_count": 69,
   "metadata": {},
   "outputs": [],
   "source": [
    "# import itertools\n",
    "# import numpy as np\n",
    "# from collections import OrderedDict\n",
    "\n",
    "# # list(df_sub.keys())\n",
    "# def get_list(df_sub, uid, models = []):\n",
    "#     return list(OrderedDict.fromkeys(list(itertools.chain(*[list(df_sub[k].iloc[uid].values) \n",
    "#                                                  for k in models]))))\n",
    "\n",
    "# candidates = get_list(df_sub, 0, ['model', 'coocorrence', 'most_popular'])\n",
    "# candidates"
   ]
  },
  {
   "cell_type": "code",
   "execution_count": 70,
   "metadata": {},
   "outputs": [],
   "source": [
    "def get_rerank(reclist, type = 'instant_runoff'):\n",
    "    if type == 'instant_runoff':\n",
    "        return agg.instant_runoff(ballots)\n",
    "    elif type == 'borda':\n",
    "        l = agg.borda(ballots)\n",
    "    elif type == 'dowdall':\n",
    "        l = agg.dowdall(ballots)\n",
    "    elif type == 'average_rank':\n",
    "        l = agg.average_rank(ballots)\n",
    "    \n",
    "    return [i[0] for i in l]\n",
    "\n",
    "agg = ra.RankAggregator()\n"
   ]
  },
  {
   "cell_type": "code",
   "execution_count": null,
   "metadata": {},
   "outputs": [
    {
     "name": "stderr",
     "output_type": "stream",
     "text": [
      "100%|██████████| 177070/177070 [03:48<00:00, 775.72it/s]\n",
      "100%|██████████| 177070/177070 [14:05<00:00, 209.38it/s]\n",
      " 99%|█████████▉| 174950/177070 [17:31<00:11, 183.60it/s]"
     ]
    }
   ],
   "source": [
    "\n",
    "methods = ['dowdall', 'borda',  'average_rank', 'instant_runoff']\n",
    "reclist_size = 100\n",
    "\n",
    "for kind_rerank in methods:\n",
    "\n",
    "    reranked_list = []\n",
    "    for uid in tqdm(range(len(df_sub['model1']))):\n",
    "        ballots  = [list(df_sub[k].iloc[uid].astype(str).values) for k in model_names]\n",
    "        reranked = list(np.array(get_rerank(ballots, kind_rerank)).astype(int))[:reclist_size]\n",
    "        reranked_list.append(reranked)\n",
    "\n",
    "    np.savetxt('data/final_submission_{}.csv'.format(kind_rerank), reranked_list, fmt='%i', delimiter=',') "
   ]
  },
  {
   "cell_type": "code",
   "execution_count": null,
   "metadata": {},
   "outputs": [],
   "source": []
  }
 ],
 "metadata": {
  "kernelspec": {
   "display_name": "Python 3",
   "language": "python",
   "name": "python3"
  },
  "language_info": {
   "codemirror_mode": {
    "name": "ipython",
    "version": 3
   },
   "file_extension": ".py",
   "mimetype": "text/x-python",
   "name": "python",
   "nbconvert_exporter": "python",
   "pygments_lexer": "ipython3",
   "version": "3.6.12"
  },
  "toc": {
   "base_numbering": 1,
   "nav_menu": {},
   "number_sections": true,
   "sideBar": true,
   "skip_h1_title": false,
   "title_cell": "Table of Contents",
   "title_sidebar": "Contents",
   "toc_cell": false,
   "toc_position": {},
   "toc_section_display": true,
   "toc_window_display": false
  }
 },
 "nbformat": 4,
 "nbformat_minor": 4
}
