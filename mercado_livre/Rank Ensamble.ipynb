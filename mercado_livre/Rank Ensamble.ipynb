{
 "cells": [
  {
   "cell_type": "code",
   "execution_count": 1,
   "metadata": {},
   "outputs": [],
   "source": [
    "import pandas as pd\n",
    "import seaborn as sns\n",
    "import numpy as np\n",
    "from collections import defaultdict\n",
    "from tqdm import tqdm\n",
    "import matplotlib.pyplot as plt\n",
    "import numpy as np\n",
    "sns.set_theme(style=\"ticks\")\n",
    "\n",
    "#https://github.com/qpwo/pySCF\n",
    "from social_choice.profile import Profile#, ballot_box, plurality\n",
    "\n",
    "#https://github.com/djcunningham0/rankaggregation\n",
    "import rankaggregation as ra"
   ]
  },
  {
   "cell_type": "code",
   "execution_count": null,
   "metadata": {},
   "outputs": [],
   "source": []
  },
  {
   "cell_type": "code",
   "execution_count": null,
   "metadata": {},
   "outputs": [],
   "source": []
  },
  {
   "cell_type": "markdown",
   "metadata": {},
   "source": [
    "# Read Submission"
   ]
  },
  {
   "cell_type": "code",
   "execution_count": 2,
   "metadata": {},
   "outputs": [
    {
     "data": {
      "text/plain": [
       "dict_keys(['model', 'coocorrence', 'most_popular'])"
      ]
     },
     "execution_count": 2,
     "metadata": {},
     "output_type": "execute_result"
    }
   ],
   "source": [
    "f_coocorrence  = \"/media/workspace/triplet_session/output/evaluation/MLEvaluationTask/results/SupervisedModelTraining____mars_gym_model_b____06e74a0146_61dcdb92f7_sub_True\"\n",
    "f_most_popular = \"/media/workspace/triplet_session/output/evaluation/MLEvaluationTask/results/SupervisedModelTraining____mars_gym_model_b____06e74a0146_d5789bc4c1_sub_True\"\n",
    "f_model        = \"/media/workspace/triplet_session/output/evaluation/MLEvaluationTask/results/SupervisedModelTraining____mars_gym_model_b____06e74a0146_80fe3195ca_sub_True\"\n",
    "\n",
    "files = [f_model, f_coocorrence, f_most_popular]\n",
    "names = [\"model\", 'coocorrence', 'most_popular']\n",
    "\n",
    "df_sub = {}\n",
    "for i in range(len(files)):\n",
    "    path = files[i]+'/submission_{}.csv'.format(files[i].split(\"/\")[-1])\n",
    "    _df   = pd.read_csv(path, header=None)\n",
    "    df_sub[names[i]] = _df\n",
    "\n",
    "df_sub.keys()"
   ]
  },
  {
   "cell_type": "code",
   "execution_count": 3,
   "metadata": {},
   "outputs": [
    {
     "data": {
      "text/html": [
       "<div>\n",
       "<style scoped>\n",
       "    .dataframe tbody tr th:only-of-type {\n",
       "        vertical-align: middle;\n",
       "    }\n",
       "\n",
       "    .dataframe tbody tr th {\n",
       "        vertical-align: top;\n",
       "    }\n",
       "\n",
       "    .dataframe thead th {\n",
       "        text-align: right;\n",
       "    }\n",
       "</style>\n",
       "<table border=\"1\" class=\"dataframe\">\n",
       "  <thead>\n",
       "    <tr style=\"text-align: right;\">\n",
       "      <th></th>\n",
       "      <th>0</th>\n",
       "      <th>1</th>\n",
       "      <th>2</th>\n",
       "      <th>3</th>\n",
       "      <th>4</th>\n",
       "      <th>5</th>\n",
       "      <th>6</th>\n",
       "      <th>7</th>\n",
       "      <th>8</th>\n",
       "      <th>9</th>\n",
       "    </tr>\n",
       "  </thead>\n",
       "  <tbody>\n",
       "    <tr>\n",
       "      <th>0</th>\n",
       "      <td>1615991</td>\n",
       "      <td>919498</td>\n",
       "      <td>1117146</td>\n",
       "      <td>187675</td>\n",
       "      <td>1817628</td>\n",
       "      <td>1044975</td>\n",
       "      <td>652718</td>\n",
       "      <td>1154325</td>\n",
       "      <td>92334</td>\n",
       "      <td>2095678</td>\n",
       "    </tr>\n",
       "    <tr>\n",
       "      <th>1</th>\n",
       "      <td>228737</td>\n",
       "      <td>1230986</td>\n",
       "      <td>1341158</td>\n",
       "      <td>1659703</td>\n",
       "      <td>106594</td>\n",
       "      <td>855886</td>\n",
       "      <td>1387155</td>\n",
       "      <td>876675</td>\n",
       "      <td>980219</td>\n",
       "      <td>700896</td>\n",
       "    </tr>\n",
       "    <tr>\n",
       "      <th>2</th>\n",
       "      <td>1082484</td>\n",
       "      <td>1459575</td>\n",
       "      <td>1081082</td>\n",
       "      <td>1332849</td>\n",
       "      <td>1906937</td>\n",
       "      <td>10243</td>\n",
       "      <td>877640</td>\n",
       "      <td>231634</td>\n",
       "      <td>1154325</td>\n",
       "      <td>678444</td>\n",
       "    </tr>\n",
       "    <tr>\n",
       "      <th>3</th>\n",
       "      <td>725371</td>\n",
       "      <td>797984</td>\n",
       "      <td>1716388</td>\n",
       "      <td>286165</td>\n",
       "      <td>1075129</td>\n",
       "      <td>86082</td>\n",
       "      <td>457681</td>\n",
       "      <td>762780</td>\n",
       "      <td>1439187</td>\n",
       "      <td>817689</td>\n",
       "    </tr>\n",
       "    <tr>\n",
       "      <th>4</th>\n",
       "      <td>86082</td>\n",
       "      <td>1785970</td>\n",
       "      <td>351968</td>\n",
       "      <td>1030851</td>\n",
       "      <td>1835788</td>\n",
       "      <td>1587422</td>\n",
       "      <td>1920677</td>\n",
       "      <td>1975106</td>\n",
       "      <td>1160594</td>\n",
       "      <td>1114176</td>\n",
       "    </tr>\n",
       "  </tbody>\n",
       "</table>\n",
       "</div>"
      ],
      "text/plain": [
       "         0        1        2        3        4        5        6        7  \\\n",
       "0  1615991   919498  1117146   187675  1817628  1044975   652718  1154325   \n",
       "1   228737  1230986  1341158  1659703   106594   855886  1387155   876675   \n",
       "2  1082484  1459575  1081082  1332849  1906937    10243   877640   231634   \n",
       "3   725371   797984  1716388   286165  1075129    86082   457681   762780   \n",
       "4    86082  1785970   351968  1030851  1835788  1587422  1920677  1975106   \n",
       "\n",
       "         8        9  \n",
       "0    92334  2095678  \n",
       "1   980219   700896  \n",
       "2  1154325   678444  \n",
       "3  1439187   817689  \n",
       "4  1160594  1114176  "
      ]
     },
     "execution_count": 3,
     "metadata": {},
     "output_type": "execute_result"
    }
   ],
   "source": [
    "df_sub['model'].head()"
   ]
  },
  {
   "cell_type": "code",
   "execution_count": 4,
   "metadata": {},
   "outputs": [
    {
     "data": {
      "text/plain": [
       "dict_keys(['model', 'coocorrence', 'most_popular'])"
      ]
     },
     "execution_count": 4,
     "metadata": {},
     "output_type": "execute_result"
    }
   ],
   "source": [
    "df_sub.keys()"
   ]
  },
  {
   "cell_type": "markdown",
   "metadata": {},
   "source": [
    "## Ranked"
   ]
  },
  {
   "cell_type": "code",
   "execution_count": 5,
   "metadata": {},
   "outputs": [],
   "source": [
    "# import itertools\n",
    "# import numpy as np\n",
    "# from collections import OrderedDict\n",
    "\n",
    "# # list(df_sub.keys())\n",
    "# def get_list(df_sub, uid, models = []):\n",
    "#     return list(OrderedDict.fromkeys(list(itertools.chain(*[list(df_sub[k].iloc[uid].values) \n",
    "#                                                  for k in models]))))\n",
    "\n",
    "# candidates = get_list(df_sub, 0, ['model', 'coocorrence', 'most_popular'])\n",
    "# candidates"
   ]
  },
  {
   "cell_type": "code",
   "execution_count": 13,
   "metadata": {},
   "outputs": [
    {
     "name": "stderr",
     "output_type": "stream",
     "text": [
      "100%|██████████| 1000/1000 [00:00<00:00, 1037.41it/s]\n"
     ]
    }
   ],
   "source": [
    "agg = ra.RankAggregator()\n",
    "\n",
    "def get_rerank(reclist, type = 'instant_runoff'):\n",
    "    if type == 'instant_runoff':\n",
    "        return agg.instant_runoff(ballots)\n",
    "    elif type == 'borda':\n",
    "        l = agg.borda(ballots)\n",
    "    elif type == 'dowdall':\n",
    "        l = agg.dowdall(ballots)\n",
    "    elif type == 'average_rank':\n",
    "        l = agg.average_rank(ballots)\n",
    "    \n",
    "    return [i[0] for i in l]\n",
    "\n",
    "kind_rerank = 'average_rank'\n",
    "\n",
    "reranked_list = []\n",
    "for uid in tqdm(range(len(df_sub['model']))):\n",
    "    ballots  = [list(df_sub[k].iloc[uid].astype(str).values) for k in ['most_popular','coocorrence', 'model']]\n",
    "    reranked = list(np.array(get_rerank(ballots, kind_rerank)).astype(int))[:10]\n",
    "    reranked_list.append(reranked)\n"
   ]
  },
  {
   "cell_type": "markdown",
   "metadata": {},
   "source": [
    "## Save"
   ]
  },
  {
   "cell_type": "code",
   "execution_count": 14,
   "metadata": {
    "scrolled": true
   },
   "outputs": [],
   "source": [
    "np.savetxt('final_submission.csv', reranked_list, fmt='%i', delimiter=',') "
   ]
  },
  {
   "cell_type": "code",
   "execution_count": null,
   "metadata": {},
   "outputs": [],
   "source": []
  }
 ],
 "metadata": {
  "kernelspec": {
   "display_name": "Python 3",
   "language": "python",
   "name": "python3"
  },
  "language_info": {
   "codemirror_mode": {
    "name": "ipython",
    "version": 3
   },
   "file_extension": ".py",
   "mimetype": "text/x-python",
   "name": "python",
   "nbconvert_exporter": "python",
   "pygments_lexer": "ipython3",
   "version": "3.6.12"
  },
  "toc": {
   "base_numbering": 1,
   "nav_menu": {},
   "number_sections": true,
   "sideBar": true,
   "skip_h1_title": false,
   "title_cell": "Table of Contents",
   "title_sidebar": "Contents",
   "toc_cell": false,
   "toc_position": {},
   "toc_section_display": true,
   "toc_window_display": false
  }
 },
 "nbformat": 4,
 "nbformat_minor": 4
}
